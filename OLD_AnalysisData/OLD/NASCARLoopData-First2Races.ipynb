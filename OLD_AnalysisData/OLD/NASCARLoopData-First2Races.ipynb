{
 "cells": [
  {
   "cell_type": "code",
   "metadata": {
    "cell_id": "98360507-f19c-4c3e-a258-67147d3374ee",
    "deepnote_to_be_reexecuted": false,
    "source_hash": "5b47f221",
    "execution_start": 1652042224025,
    "execution_millis": 0,
    "deepnote_cell_type": "code",
    "deepnote_cell_height": 171
   },
   "source": "import pandas as pd\npd.set_option('max_columns', None)\nimport numpy as np\nimport json\nimport seaborn as sns\nimport matplotlib.pyplot as plt",
   "execution_count": null,
   "outputs": []
  },
  {
   "cell_type": "code",
   "metadata": {
    "cell_id": "00001-5834352a-e4e1-430d-8181-43eae6a8c4b2",
    "deepnote_to_be_reexecuted": false,
    "source_hash": "4c05e816",
    "execution_start": 1652042226575,
    "execution_millis": 2,
    "deepnote_cell_type": "code",
    "deepnote_cell_height": 1017
   },
   "source": "one_race_cols = {\"Driver\": \"Driver\", \"Car\": \"Car #\", \"AvgStart\": \"Start\", \"AvgMidRace\": \"Mid Race\", \"AvgFinish\": \"Finish\",\n                 \"Avg Pos\": \"Average Position\", \"PassDiff\": \"Pass Differential\", \"GreenPass\": \"Green Passes\",\n                 \"GreenPassed\": \"Green Passed\", \"QualityPasses\": \"Quality Passes\",\n                 \"PercentQualityPasses\": \"% Quality Passes\", \"NumFastestLaps\": \"# Fastest Laps\",\n                 \"LapsinTop15\": \"Laps in Top 15\", \"PercentLapsTop15\": \"% Laps in Top 15\", \"LapsLed\": \"Laps Led\",\n                 \"PercentLapsLed\": \"% Laps Led\", \"TotalLaps\": \"Total Laps\", \"DriverRating\": \"Driver Rating\",\n                 \"Pts\": \"Points\"}\n\none_race_cols_2 = {\"Driver\": \"Driver\", \"Car\": \"Car #\", \"AvgPos\": \"Average Position\", \"PassDiff\": \"Pass Differential\",\n                   \"GreenPass\": \"Green Passes\", \"GreenPassed\": \"Green Passed\", \"QualityPasses\": \"Quality Passes\",\n                   \"PercentQualityPasses\": \"% Quality Passes\", \"NumFastestLaps\": \"# Fastest Laps\",\n                   \"LapsTop15\": \"Laps in Top 15\", \"PercentLapsTop15\": \"% Laps in Top 15\", \"LapsLed\": \"Laps Led\",\n                   \"PercentLapsLed\": \"% Laps Led\", \"TotalLaps\": \"Total Laps\", \"DriverRating\": \"Driver Rating\",\n                   \"Pts\": \"Points\", \"StartPos\": \"Start\", \"MidRace\": \"Mid Race\", \"FinishPos\": \"Finish\"}\n\ncar_nums = {\"AJ Allmendinger\": 16, \"Aric Almirola\": 10, \"Christopher Bell\": 20, \"Greg Biffle\": 44,\n             \"Josh Bilicki\": 77, \"Ryan Blaney\": 12, \"Alex Bowman\": 48, \"Chase Briscoe\": 14,\n             \"Chris Buescher\": 17, \"Harrison Burton\": 21, \"Kurt Busch\": 45, \"Kyle Busch\": 18,\n             \"William Byron\": 24, \"Landon Cassill\": 77, \"Ross Chastain\": 1,\n             \"Austin Cindric\": 2, \"Cole Custer\": 41, \"Austin Dillon\": 3, \"Ty Dillon\": 42,\n             \"Chase Elliott\": 9, \"Todd Gilliland\": 38, \"Noah Gragson\": 16, \"Kaz Grala\": 50,\n             \"Denny Hamlin\": 11, \"Joey Hand\": 15, \"Kevin Harvick\": 4, \"Justin Haley\": 31,\n             \"Daniel Hemric\": 16, \"Loris Hezemans\": 27, \"Erik Jones\": 20, \"Brad Keselowski\": 6,\n             \"Corey LaJoie\": 7, \"Kyle Larson\": 5, \"Joey Logano\": 22, \"BJ McLeod\": 78,\n             \"Michael McDowell\": 34, \"Ryan Preece\": 15, \"David Ragan\": 15, \"Tyler Reddick\": 8,\n             \"Boris Said\": 66, \"Garrett Smithley\": 15, \"Ricky Stenhouse Jr.\": 47, \"Daniel Suárez\": 99,\n             \"Martin Truex Jr.\": 19, \"Jacques Villeneuve\": 27, \"Bubba Wallace\": 23, \"Cody Ware\": 51}\n\nteams = {\"AJ Allmendinger\": \"Kaulig\", \"Aric Almirola\": \"SHR\", \"Christopher Bell\": \"JGR\", \"Greg Biffle\": \"NYR\",\n        \"Josh Bilicki\": \"Spire\", \"Ryan Blaney\": \"Penske\", \"Alex Bowman\": \"Hendrick\", \"Chase Briscoe\": \"SHR\",\n        \"Chris Buescher\": \"RFK\", \"Harrison Burton\": \"WBR\", \"Kurt Busch\": \"23X1\", \"Kyle Busch\": \"JGR\",\n        \"William Byron\": \"Hendrick\", \"Landon Cassill\": \"Spire\", \"Ross Chastain\": \"Trackhouse\", \"Austin Cindric\": \"Penske\",\n        \"Cole Custer\": \"SHR\", \"Austin Dillon\": \"RCR\", \"Ty Dillon\": \"PGMS\", \"Chase Elliott\": \"Hendrick\",\n        \"Todd Gilliland\": \"FRM\", \"Noah Gragson\": \"Kaulig\", \"Kaz Grala\": \"TMT\", \"Denny Hamlin\": \"JGR\",\n        \"Joey Hand\": \"RWR\", \"Kevin Harvick\": \"SHR\", \"Justin Haley\": \"Kaulig\", \"Daniel Hemric\": \"Kaulig\",\n        \"Loris Hezemans\": \"Hezeberg\", \"Erik Jones\": \"PGMS\", \"Brad Keselowski\": \"RFK\", \"Corey LaJoie\": \"Spire\",\n        \"Kyle Larson\": \"Hendrick\", \"Joey Logano\": \"Penske\", \"BJ McLeod\": \"LFM\", \"Michael McDowell\": \"FRM\",\n        \"Ryan Preece\": \"RWR\", \"David Ragan\": \"RWR\", \"Tyler Reddick\": \"RCR\", \"Boris Said\": \"MBM\",\n        \"Garrett Smithley\": \"RWR\", \"Ricky Stenhouse Jr.\": \"JTGD\", \"Daniel Suárez\": \"Trackhouse\", \"Martin Truex Jr.\": \"JGR\",\n        \"Jacques Villeneuve\": \"Hezeberg\", \"Bubba Wallace\": \"23X1\", \"Cody Ware\": \"RWR\"}\n\nmakes = {\"23X1\": \"Toyota\", \"Beard\": \"Chevy\", \"FRM\": \"Ford\", \"Hendrick\": \"Chevy\",\n        \"Hezeberg\": \"Ford\", \"JGR\": \"Toyota\", \"JTGD\": \"Chevy\", \"Kaulig\": \"Chevy\",\n        \"LFM\": \"Ford\", \"MBM\": \"Ford\", \"NYR\": \"Chevy\", \"Penske\": \"Ford\",\n        \"PGMS\": \"Chevy\", \"RCR\": \"Chevy\", \"RFK\": \"Ford\", \"RWR\": \"Ford\",\n        \"SHR\": \"Ford\", \"Spire\": \"Chevy\", \"TMT\": \"Chevy\", \"Trackhouse\": \"Chevy\",\n        \"WBR\": \"Ford\"}\n\ntrack_types = {\"Auto Club\": \"Speedway\", \"Atlanta\": \"Superpeedway\", \"Bristol\": \"Short Track\", \"COTA\": \"Road Course\",\n               \"Daytona\": \"Superspeedway\", \"Las Vegas\": \"Speedway\", \"Martinsville\": \"Short Track\", \"Phoenix\": \"Speedway\",\n               \"Richmond\": \"Short Track\", \"Talladega\": \"Superspeedway\"}\n\ncup_laps = {1: 201}",
   "execution_count": null,
   "outputs": []
  },
  {
   "cell_type": "code",
   "metadata": {
    "scrolled": true,
    "cell_id": "00002-8bebe525-fce6-44d5-80f1-8308de0818c4",
    "deepnote_to_be_reexecuted": false,
    "source_hash": "d01f86f",
    "execution_start": 1652042236789,
    "execution_millis": 60,
    "deepnote_cell_type": "code",
    "deepnote_cell_height": 768.25
   },
   "source": "# /work/Milestone_I/data/loop_TobyChristie/csv/2022\ndaytona1 = pd.read_csv('/work/Milestone_I/data/loop_TobyChristie/csv/2022/20220220_Daytona500.csv')\nautoclub = pd.read_csv('/work/Milestone_I/data/loop_TobyChristie/csv/2022/20220227_AutoClub.csv')\nprint(daytona1.columns)\nprint(autoclub.columns)\ndaytona1.head()",
   "execution_count": null,
   "outputs": [
    {
     "name": "stdout",
     "text": "Index(['Car', 'Driver', 'AvgStart', 'AvgMidRace', 'AvgFinish', 'Avg Pos',\n       'PassDiff', 'GreenPass', 'GreenPassed', 'QualityPasses',\n       'PercentQualityPasses', 'NumFastestLaps', 'LapsinTop15',\n       'PercentLapsTop15', 'LapsLed', 'PercentLapsLed', 'TotalLaps',\n       'DriverRating', 'Pts'],\n      dtype='object')\nIndex(['Car', 'Driver', 'StartPos', 'MidRace', 'CloserPos', 'FinishPos',\n       'HighPos', 'LowPos', 'AvgPos', 'PassDiff', 'GreenPass', 'GreenPassed',\n       'QualityPasses', 'PercentQualityPasses', 'NumFastestLaps', 'LapsTop15',\n       'PercentLapsTop15', 'LapsLed', 'PercentLapsLed', 'TotalLaps',\n       'DriverRating', 'Pts'],\n      dtype='object')\n",
     "output_type": "stream"
    },
    {
     "output_type": "execute_result",
     "execution_count": 4,
     "data": {
      "application/vnd.deepnote.dataframe.v3+json": {
       "column_count": 19,
       "row_count": 5,
       "columns": [
        {
         "name": "Car",
         "dtype": "int64",
         "stats": {
          "unique_count": 5,
          "nan_count": 0,
          "min": "2",
          "max": "23",
          "histogram": [
           {
            "bin_start": 2,
            "bin_end": 4.1,
            "count": 1
           },
           {
            "bin_start": 4.1,
            "bin_end": 6.2,
            "count": 1
           },
           {
            "bin_start": 6.2,
            "bin_end": 8.3,
            "count": 0
           },
           {
            "bin_start": 8.3,
            "bin_end": 10.4,
            "count": 0
           },
           {
            "bin_start": 10.4,
            "bin_end": 12.5,
            "count": 0
           },
           {
            "bin_start": 12.5,
            "bin_end": 14.600000000000001,
            "count": 1
           },
           {
            "bin_start": 14.600000000000001,
            "bin_end": 16.700000000000003,
            "count": 0
           },
           {
            "bin_start": 16.700000000000003,
            "bin_end": 18.8,
            "count": 0
           },
           {
            "bin_start": 18.8,
            "bin_end": 20.900000000000002,
            "count": 1
           },
           {
            "bin_start": 20.900000000000002,
            "bin_end": 23,
            "count": 1
           }
          ]
         }
        },
        {
         "name": "Driver",
         "dtype": "object",
         "stats": {
          "unique_count": 5,
          "nan_count": 0,
          "categories": [
           {
            "name": "Austin Cindric",
            "count": 1
           },
           {
            "name": "Brad Keselowski",
            "count": 1
           },
           {
            "name": "3 others",
            "count": 3
           }
          ]
         }
        },
        {
         "name": "AvgStart",
         "dtype": "float64",
         "stats": {
          "unique_count": 5,
          "nan_count": 0,
          "min": "3.0",
          "max": "16.0",
          "histogram": [
           {
            "bin_start": 3,
            "bin_end": 4.3,
            "count": 1
           },
           {
            "bin_start": 4.3,
            "bin_end": 5.6,
            "count": 1
           },
           {
            "bin_start": 5.6,
            "bin_end": 6.9,
            "count": 0
           },
           {
            "bin_start": 6.9,
            "bin_end": 8.2,
            "count": 0
           },
           {
            "bin_start": 8.2,
            "bin_end": 9.5,
            "count": 1
           },
           {
            "bin_start": 9.5,
            "bin_end": 10.8,
            "count": 0
           },
           {
            "bin_start": 10.8,
            "bin_end": 12.1,
            "count": 0
           },
           {
            "bin_start": 12.1,
            "bin_end": 13.4,
            "count": 0
           },
           {
            "bin_start": 13.4,
            "bin_end": 14.700000000000001,
            "count": 1
           },
           {
            "bin_start": 14.700000000000001,
            "bin_end": 16,
            "count": 1
           }
          ]
         }
        },
        {
         "name": "AvgMidRace",
         "dtype": "float64",
         "stats": {
          "unique_count": 5,
          "nan_count": 0,
          "min": "2.0",
          "max": "19.0",
          "histogram": [
           {
            "bin_start": 2,
            "bin_end": 3.7,
            "count": 1
           },
           {
            "bin_start": 3.7,
            "bin_end": 5.4,
            "count": 1
           },
           {
            "bin_start": 5.4,
            "bin_end": 7.1,
            "count": 0
           },
           {
            "bin_start": 7.1,
            "bin_end": 8.8,
            "count": 0
           },
           {
            "bin_start": 8.8,
            "bin_end": 10.5,
            "count": 1
           },
           {
            "bin_start": 10.5,
            "bin_end": 12.2,
            "count": 0
           },
           {
            "bin_start": 12.2,
            "bin_end": 13.9,
            "count": 0
           },
           {
            "bin_start": 13.9,
            "bin_end": 15.6,
            "count": 0
           },
           {
            "bin_start": 15.6,
            "bin_end": 17.299999999999997,
            "count": 0
           },
           {
            "bin_start": 17.299999999999997,
            "bin_end": 19,
            "count": 2
           }
          ]
         }
        },
        {
         "name": "AvgFinish",
         "dtype": "float64",
         "stats": {
          "unique_count": 5,
          "nan_count": 0,
          "min": "1.0",
          "max": "13.0",
          "histogram": [
           {
            "bin_start": 1,
            "bin_end": 2.2,
            "count": 2
           },
           {
            "bin_start": 2.2,
            "bin_end": 3.4,
            "count": 1
           },
           {
            "bin_start": 3.4,
            "bin_end": 4.6,
            "count": 0
           },
           {
            "bin_start": 4.6,
            "bin_end": 5.8,
            "count": 0
           },
           {
            "bin_start": 5.8,
            "bin_end": 7,
            "count": 0
           },
           {
            "bin_start": 7,
            "bin_end": 8.2,
            "count": 0
           },
           {
            "bin_start": 8.2,
            "bin_end": 9.4,
            "count": 1
           },
           {
            "bin_start": 9.4,
            "bin_end": 10.6,
            "count": 0
           },
           {
            "bin_start": 10.6,
            "bin_end": 11.799999999999999,
            "count": 0
           },
           {
            "bin_start": 11.799999999999999,
            "bin_end": 13,
            "count": 1
           }
          ]
         }
        },
        {
         "name": "Avg Pos",
         "dtype": "float64",
         "stats": {
          "unique_count": 5,
          "nan_count": 0,
          "min": "4.8",
          "max": "18.3",
          "histogram": [
           {
            "bin_start": 4.8,
            "bin_end": 6.15,
            "count": 1
           },
           {
            "bin_start": 6.15,
            "bin_end": 7.5,
            "count": 1
           },
           {
            "bin_start": 7.5,
            "bin_end": 8.850000000000001,
            "count": 0
           },
           {
            "bin_start": 8.850000000000001,
            "bin_end": 10.2,
            "count": 0
           },
           {
            "bin_start": 10.2,
            "bin_end": 11.55,
            "count": 1
           },
           {
            "bin_start": 11.55,
            "bin_end": 12.900000000000002,
            "count": 1
           },
           {
            "bin_start": 12.900000000000002,
            "bin_end": 14.25,
            "count": 0
           },
           {
            "bin_start": 14.25,
            "bin_end": 15.600000000000001,
            "count": 0
           },
           {
            "bin_start": 15.600000000000001,
            "bin_end": 16.95,
            "count": 0
           },
           {
            "bin_start": 16.95,
            "bin_end": 18.3,
            "count": 1
           }
          ]
         }
        },
        {
         "name": "PassDiff",
         "dtype": "int64",
         "stats": {
          "unique_count": 5,
          "nan_count": 0,
          "min": "-13",
          "max": "25",
          "histogram": [
           {
            "bin_start": -13,
            "bin_end": -9.2,
            "count": 1
           },
           {
            "bin_start": -9.2,
            "bin_end": -5.4,
            "count": 0
           },
           {
            "bin_start": -5.4,
            "bin_end": -1.6000000000000014,
            "count": 0
           },
           {
            "bin_start": -1.6000000000000014,
            "bin_end": 2.1999999999999993,
            "count": 1
           },
           {
            "bin_start": 2.1999999999999993,
            "bin_end": 6,
            "count": 0
           },
           {
            "bin_start": 6,
            "bin_end": 9.799999999999997,
            "count": 0
           },
           {
            "bin_start": 9.799999999999997,
            "bin_end": 13.599999999999998,
            "count": 0
           },
           {
            "bin_start": 13.599999999999998,
            "bin_end": 17.4,
            "count": 2
           },
           {
            "bin_start": 17.4,
            "bin_end": 21.199999999999996,
            "count": 0
           },
           {
            "bin_start": 21.199999999999996,
            "bin_end": 25,
            "count": 1
           }
          ]
         }
        },
        {
         "name": "GreenPass",
         "dtype": "int64",
         "stats": {
          "unique_count": 5,
          "nan_count": 0,
          "min": "168",
          "max": "258",
          "histogram": [
           {
            "bin_start": 168,
            "bin_end": 177,
            "count": 2
           },
           {
            "bin_start": 177,
            "bin_end": 186,
            "count": 0
           },
           {
            "bin_start": 186,
            "bin_end": 195,
            "count": 0
           },
           {
            "bin_start": 195,
            "bin_end": 204,
            "count": 0
           },
           {
            "bin_start": 204,
            "bin_end": 213,
            "count": 1
           },
           {
            "bin_start": 213,
            "bin_end": 222,
            "count": 0
           },
           {
            "bin_start": 222,
            "bin_end": 231,
            "count": 0
           },
           {
            "bin_start": 231,
            "bin_end": 240,
            "count": 0
           },
           {
            "bin_start": 240,
            "bin_end": 249,
            "count": 0
           },
           {
            "bin_start": 249,
            "bin_end": 258,
            "count": 2
           }
          ]
         }
        },
        {
         "name": "GreenPassed",
         "dtype": "int64",
         "stats": {
          "unique_count": 5,
          "nan_count": 0,
          "min": "170",
          "max": "237",
          "histogram": [
           {
            "bin_start": 170,
            "bin_end": 176.7,
            "count": 1
           },
           {
            "bin_start": 176.7,
            "bin_end": 183.4,
            "count": 1
           },
           {
            "bin_start": 183.4,
            "bin_end": 190.1,
            "count": 0
           },
           {
            "bin_start": 190.1,
            "bin_end": 196.8,
            "count": 1
           },
           {
            "bin_start": 196.8,
            "bin_end": 203.5,
            "count": 0
           },
           {
            "bin_start": 203.5,
            "bin_end": 210.2,
            "count": 0
           },
           {
            "bin_start": 210.2,
            "bin_end": 216.9,
            "count": 0
           },
           {
            "bin_start": 216.9,
            "bin_end": 223.6,
            "count": 0
           },
           {
            "bin_start": 223.6,
            "bin_end": 230.3,
            "count": 0
           },
           {
            "bin_start": 230.3,
            "bin_end": 237,
            "count": 2
           }
          ]
         }
        },
        {
         "name": "QualityPasses",
         "dtype": "int64",
         "stats": {
          "unique_count": 5,
          "nan_count": 0,
          "min": "70",
          "max": "192",
          "histogram": [
           {
            "bin_start": 70,
            "bin_end": 82.2,
            "count": 1
           },
           {
            "bin_start": 82.2,
            "bin_end": 94.4,
            "count": 0
           },
           {
            "bin_start": 94.4,
            "bin_end": 106.6,
            "count": 0
           },
           {
            "bin_start": 106.6,
            "bin_end": 118.8,
            "count": 0
           },
           {
            "bin_start": 118.8,
            "bin_end": 131,
            "count": 1
           },
           {
            "bin_start": 131,
            "bin_end": 143.2,
            "count": 0
           },
           {
            "bin_start": 143.2,
            "bin_end": 155.39999999999998,
            "count": 1
           },
           {
            "bin_start": 155.39999999999998,
            "bin_end": 167.6,
            "count": 0
           },
           {
            "bin_start": 167.6,
            "bin_end": 179.8,
            "count": 0
           },
           {
            "bin_start": 179.8,
            "bin_end": 192,
            "count": 2
           }
          ]
         }
        },
        {
         "name": "PercentQualityPasses",
         "dtype": "float64",
         "stats": {
          "unique_count": 4,
          "nan_count": 0,
          "min": "33.5",
          "max": "86.5",
          "histogram": [
           {
            "bin_start": 33.5,
            "bin_end": 38.8,
            "count": 1
           },
           {
            "bin_start": 38.8,
            "bin_end": 44.1,
            "count": 0
           },
           {
            "bin_start": 44.1,
            "bin_end": 49.4,
            "count": 0
           },
           {
            "bin_start": 49.4,
            "bin_end": 54.7,
            "count": 0
           },
           {
            "bin_start": 54.7,
            "bin_end": 60,
            "count": 0
           },
           {
            "bin_start": 60,
            "bin_end": 65.3,
            "count": 0
           },
           {
            "bin_start": 65.3,
            "bin_end": 70.6,
            "count": 0
           },
           {
            "bin_start": 70.6,
            "bin_end": 75.9,
            "count": 3
           },
           {
            "bin_start": 75.9,
            "bin_end": 81.19999999999999,
            "count": 0
           },
           {
            "bin_start": 81.19999999999999,
            "bin_end": 86.5,
            "count": 1
           }
          ]
         }
        },
        {
         "name": "NumFastestLaps",
         "dtype": "int64",
         "stats": {
          "unique_count": 4,
          "nan_count": 0,
          "min": "0",
          "max": "7",
          "histogram": [
           {
            "bin_start": 0,
            "bin_end": 0.7,
            "count": 1
           },
           {
            "bin_start": 0.7,
            "bin_end": 1.4,
            "count": 0
           },
           {
            "bin_start": 1.4,
            "bin_end": 2.0999999999999996,
            "count": 0
           },
           {
            "bin_start": 2.0999999999999996,
            "bin_end": 2.8,
            "count": 0
           },
           {
            "bin_start": 2.8,
            "bin_end": 3.5,
            "count": 0
           },
           {
            "bin_start": 3.5,
            "bin_end": 4.199999999999999,
            "count": 2
           },
           {
            "bin_start": 4.199999999999999,
            "bin_end": 4.8999999999999995,
            "count": 0
           },
           {
            "bin_start": 4.8999999999999995,
            "bin_end": 5.6,
            "count": 0
           },
           {
            "bin_start": 5.6,
            "bin_end": 6.3,
            "count": 1
           },
           {
            "bin_start": 6.3,
            "bin_end": 7,
            "count": 1
           }
          ]
         }
        },
        {
         "name": "LapsinTop15",
         "dtype": "int64",
         "stats": {
          "unique_count": 5,
          "nan_count": 0,
          "min": "88",
          "max": "198",
          "histogram": [
           {
            "bin_start": 88,
            "bin_end": 99,
            "count": 1
           },
           {
            "bin_start": 99,
            "bin_end": 110,
            "count": 0
           },
           {
            "bin_start": 110,
            "bin_end": 121,
            "count": 0
           },
           {
            "bin_start": 121,
            "bin_end": 132,
            "count": 0
           },
           {
            "bin_start": 132,
            "bin_end": 143,
            "count": 0
           },
           {
            "bin_start": 143,
            "bin_end": 154,
            "count": 2
           },
           {
            "bin_start": 154,
            "bin_end": 165,
            "count": 0
           },
           {
            "bin_start": 165,
            "bin_end": 176,
            "count": 0
           },
           {
            "bin_start": 176,
            "bin_end": 187,
            "count": 1
           },
           {
            "bin_start": 187,
            "bin_end": 198,
            "count": 1
           }
          ]
         }
        },
        {
         "name": "PercentLapsTop15",
         "dtype": "float64",
         "stats": {
          "unique_count": 5,
          "nan_count": 0,
          "min": "43.8",
          "max": "98.5",
          "histogram": [
           {
            "bin_start": 43.8,
            "bin_end": 49.269999999999996,
            "count": 1
           },
           {
            "bin_start": 49.269999999999996,
            "bin_end": 54.739999999999995,
            "count": 0
           },
           {
            "bin_start": 54.739999999999995,
            "bin_end": 60.21,
            "count": 0
           },
           {
            "bin_start": 60.21,
            "bin_end": 65.68,
            "count": 0
           },
           {
            "bin_start": 65.68,
            "bin_end": 71.15,
            "count": 1
           },
           {
            "bin_start": 71.15,
            "bin_end": 76.62,
            "count": 1
           },
           {
            "bin_start": 76.62,
            "bin_end": 82.09,
            "count": 0
           },
           {
            "bin_start": 82.09,
            "bin_end": 87.56,
            "count": 0
           },
           {
            "bin_start": 87.56,
            "bin_end": 93.03,
            "count": 1
           },
           {
            "bin_start": 93.03,
            "bin_end": 98.5,
            "count": 1
           }
          ]
         }
        },
        {
         "name": "LapsLed",
         "dtype": "int64",
         "stats": {
          "unique_count": 5,
          "nan_count": 0,
          "min": "0",
          "max": "67",
          "histogram": [
           {
            "bin_start": 0,
            "bin_end": 6.7,
            "count": 1
           },
           {
            "bin_start": 6.7,
            "bin_end": 13.4,
            "count": 2
           },
           {
            "bin_start": 13.4,
            "bin_end": 20.1,
            "count": 0
           },
           {
            "bin_start": 20.1,
            "bin_end": 26.8,
            "count": 1
           },
           {
            "bin_start": 26.8,
            "bin_end": 33.5,
            "count": 0
           },
           {
            "bin_start": 33.5,
            "bin_end": 40.2,
            "count": 0
           },
           {
            "bin_start": 40.2,
            "bin_end": 46.9,
            "count": 0
           },
           {
            "bin_start": 46.9,
            "bin_end": 53.6,
            "count": 0
           },
           {
            "bin_start": 53.6,
            "bin_end": 60.300000000000004,
            "count": 0
           },
           {
            "bin_start": 60.300000000000004,
            "bin_end": 67,
            "count": 1
           }
          ]
         }
        },
        {
         "name": "PercentLapsLed",
         "dtype": "float64",
         "stats": {
          "unique_count": 5,
          "nan_count": 0,
          "min": "0.0",
          "max": "33.3",
          "histogram": [
           {
            "bin_start": 0,
            "bin_end": 3.3299999999999996,
            "count": 1
           },
           {
            "bin_start": 3.3299999999999996,
            "bin_end": 6.659999999999999,
            "count": 2
           },
           {
            "bin_start": 6.659999999999999,
            "bin_end": 9.989999999999998,
            "count": 0
           },
           {
            "bin_start": 9.989999999999998,
            "bin_end": 13.319999999999999,
            "count": 1
           },
           {
            "bin_start": 13.319999999999999,
            "bin_end": 16.65,
            "count": 0
           },
           {
            "bin_start": 16.65,
            "bin_end": 19.979999999999997,
            "count": 0
           },
           {
            "bin_start": 19.979999999999997,
            "bin_end": 23.31,
            "count": 0
           },
           {
            "bin_start": 23.31,
            "bin_end": 26.639999999999997,
            "count": 0
           },
           {
            "bin_start": 26.639999999999997,
            "bin_end": 29.969999999999995,
            "count": 0
           },
           {
            "bin_start": 29.969999999999995,
            "bin_end": 33.3,
            "count": 1
           }
          ]
         }
        },
        {
         "name": "TotalLaps",
         "dtype": "int64",
         "stats": {
          "unique_count": 1,
          "nan_count": 0,
          "min": "201",
          "max": "201",
          "histogram": [
           {
            "bin_start": 200.5,
            "bin_end": 200.6,
            "count": 0
           },
           {
            "bin_start": 200.6,
            "bin_end": 200.7,
            "count": 0
           },
           {
            "bin_start": 200.7,
            "bin_end": 200.8,
            "count": 0
           },
           {
            "bin_start": 200.8,
            "bin_end": 200.9,
            "count": 0
           },
           {
            "bin_start": 200.9,
            "bin_end": 201,
            "count": 0
           },
           {
            "bin_start": 201,
            "bin_end": 201.1,
            "count": 5
           },
           {
            "bin_start": 201.1,
            "bin_end": 201.2,
            "count": 0
           },
           {
            "bin_start": 201.2,
            "bin_end": 201.3,
            "count": 0
           },
           {
            "bin_start": 201.3,
            "bin_end": 201.4,
            "count": 0
           },
           {
            "bin_start": 201.4,
            "bin_end": 201.5,
            "count": 0
           }
          ]
         }
        },
        {
         "name": "DriverRating",
         "dtype": "float64",
         "stats": {
          "unique_count": 5,
          "nan_count": 0,
          "min": "75.0",
          "max": "122.4",
          "histogram": [
           {
            "bin_start": 75,
            "bin_end": 79.74,
            "count": 1
           },
           {
            "bin_start": 79.74,
            "bin_end": 84.48,
            "count": 0
           },
           {
            "bin_start": 84.48,
            "bin_end": 89.22,
            "count": 0
           },
           {
            "bin_start": 89.22,
            "bin_end": 93.96000000000001,
            "count": 0
           },
           {
            "bin_start": 93.96000000000001,
            "bin_end": 98.7,
            "count": 1
           },
           {
            "bin_start": 98.7,
            "bin_end": 103.44,
            "count": 0
           },
           {
            "bin_start": 103.44,
            "bin_end": 108.18,
            "count": 1
           },
           {
            "bin_start": 108.18,
            "bin_end": 112.92,
            "count": 0
           },
           {
            "bin_start": 112.92,
            "bin_end": 117.66,
            "count": 0
           },
           {
            "bin_start": 117.66,
            "bin_end": 122.4,
            "count": 2
           }
          ]
         }
        },
        {
         "name": "Pts",
         "dtype": "int64",
         "stats": {
          "unique_count": 4,
          "nan_count": 0,
          "min": "41",
          "max": "54",
          "histogram": [
           {
            "bin_start": 41,
            "bin_end": 42.3,
            "count": 1
           },
           {
            "bin_start": 42.3,
            "bin_end": 43.6,
            "count": 0
           },
           {
            "bin_start": 43.6,
            "bin_end": 44.9,
            "count": 0
           },
           {
            "bin_start": 44.9,
            "bin_end": 46.2,
            "count": 0
           },
           {
            "bin_start": 46.2,
            "bin_end": 47.5,
            "count": 1
           },
           {
            "bin_start": 47.5,
            "bin_end": 48.8,
            "count": 0
           },
           {
            "bin_start": 48.8,
            "bin_end": 50.1,
            "count": 1
           },
           {
            "bin_start": 50.1,
            "bin_end": 51.4,
            "count": 0
           },
           {
            "bin_start": 51.4,
            "bin_end": 52.7,
            "count": 0
           },
           {
            "bin_start": 52.7,
            "bin_end": 54,
            "count": 2
           }
          ]
         }
        },
        {
         "name": "_deepnote_index_column",
         "dtype": "int64"
        }
       ],
       "rows": [
        {
         "Car": 2,
         "Driver": "Austin Cindric",
         "AvgStart": 5,
         "AvgMidRace": 2,
         "AvgFinish": 1,
         "Avg Pos": 6.2,
         "PassDiff": -13,
         "GreenPass": 168,
         "GreenPassed": 181,
         "QualityPasses": 125,
         "PercentQualityPasses": 74.4,
         "NumFastestLaps": 0,
         "LapsinTop15": 176,
         "PercentLapsTop15": 87.6,
         "LapsLed": 21,
         "PercentLapsLed": 10.4,
         "TotalLaps": 201,
         "DriverRating": 122.4,
         "Pts": 54,
         "_deepnote_index_column": 0
        },
        {
         "Car": 6,
         "Driver": "Brad Keselowski",
         "AvgStart": 3,
         "AvgMidRace": 5,
         "AvgFinish": 9,
         "Avg Pos": 4.8,
         "PassDiff": 1,
         "GreenPass": 171,
         "GreenPassed": 170,
         "QualityPasses": 148,
         "PercentQualityPasses": 86.5,
         "NumFastestLaps": 4,
         "LapsinTop15": 198,
         "PercentLapsTop15": 98.5,
         "LapsLed": 67,
         "PercentLapsLed": 33.3,
         "TotalLaps": 201,
         "DriverRating": 121.3,
         "Pts": 54,
         "_deepnote_index_column": 1
        },
        {
         "Car": 19,
         "Driver": "Martin Truex Jr",
         "AvgStart": 14,
         "AvgMidRace": 18,
         "AvgFinish": 13,
         "Avg Pos": 11.9,
         "PassDiff": 25,
         "GreenPass": 258,
         "GreenPassed": 233,
         "QualityPasses": 192,
         "PercentQualityPasses": 74.4,
         "NumFastestLaps": 4,
         "LapsinTop15": 143,
         "PercentLapsTop15": 71.1,
         "LapsLed": 11,
         "PercentLapsLed": 5.5,
         "TotalLaps": 201,
         "DriverRating": 94,
         "Pts": 49,
         "_deepnote_index_column": 2
        },
        {
         "Car": 23,
         "Driver": "Bubba Wallace",
         "AvgStart": 16,
         "AvgMidRace": 19,
         "AvgFinish": 2,
         "Avg Pos": 10.2,
         "PassDiff": 16,
         "GreenPass": 253,
         "GreenPassed": 237,
         "QualityPasses": 191,
         "PercentQualityPasses": 75.5,
         "NumFastestLaps": 7,
         "LapsinTop15": 145,
         "PercentLapsTop15": 72.1,
         "LapsLed": 12,
         "PercentLapsLed": 6,
         "TotalLaps": 201,
         "DriverRating": 104.7,
         "Pts": 47,
         "_deepnote_index_column": 3
        },
        {
         "Car": 14,
         "Driver": "Chase Briscoe",
         "AvgStart": 9,
         "AvgMidRace": 10,
         "AvgFinish": 3,
         "Avg Pos": 18.3,
         "PassDiff": 17,
         "GreenPass": 209,
         "GreenPassed": 192,
         "QualityPasses": 70,
         "PercentQualityPasses": 33.5,
         "NumFastestLaps": 6,
         "LapsinTop15": 88,
         "PercentLapsTop15": 43.8,
         "LapsLed": 0,
         "PercentLapsLed": 0,
         "TotalLaps": 201,
         "DriverRating": 75,
         "Pts": 41,
         "_deepnote_index_column": 4
        }
       ]
      },
      "text/plain": "   Car           Driver  AvgStart  AvgMidRace  AvgFinish  Avg Pos  PassDiff  \\\n0    2   Austin Cindric       5.0         2.0        1.0      6.2       -13   \n1    6  Brad Keselowski       3.0         5.0        9.0      4.8         1   \n2   19  Martin Truex Jr      14.0        18.0       13.0     11.9        25   \n3   23    Bubba Wallace      16.0        19.0        2.0     10.2        16   \n4   14    Chase Briscoe       9.0        10.0        3.0     18.3        17   \n\n   GreenPass  GreenPassed  QualityPasses  PercentQualityPasses  \\\n0        168          181            125                  74.4   \n1        171          170            148                  86.5   \n2        258          233            192                  74.4   \n3        253          237            191                  75.5   \n4        209          192             70                  33.5   \n\n   NumFastestLaps  LapsinTop15  PercentLapsTop15  LapsLed  PercentLapsLed  \\\n0               0          176              87.6       21            10.4   \n1               4          198              98.5       67            33.3   \n2               4          143              71.1       11             5.5   \n3               7          145              72.1       12             6.0   \n4               6           88              43.8        0             0.0   \n\n   TotalLaps  DriverRating  Pts  \n0        201         122.4   54  \n1        201         121.3   54  \n2        201          94.0   49  \n3        201         104.7   47  \n4        201          75.0   41  ",
      "text/html": "<div>\n<style scoped>\n    .dataframe tbody tr th:only-of-type {\n        vertical-align: middle;\n    }\n\n    .dataframe tbody tr th {\n        vertical-align: top;\n    }\n\n    .dataframe thead th {\n        text-align: right;\n    }\n</style>\n<table border=\"1\" class=\"dataframe\">\n  <thead>\n    <tr style=\"text-align: right;\">\n      <th></th>\n      <th>Car</th>\n      <th>Driver</th>\n      <th>AvgStart</th>\n      <th>AvgMidRace</th>\n      <th>AvgFinish</th>\n      <th>Avg Pos</th>\n      <th>PassDiff</th>\n      <th>GreenPass</th>\n      <th>GreenPassed</th>\n      <th>QualityPasses</th>\n      <th>PercentQualityPasses</th>\n      <th>NumFastestLaps</th>\n      <th>LapsinTop15</th>\n      <th>PercentLapsTop15</th>\n      <th>LapsLed</th>\n      <th>PercentLapsLed</th>\n      <th>TotalLaps</th>\n      <th>DriverRating</th>\n      <th>Pts</th>\n    </tr>\n  </thead>\n  <tbody>\n    <tr>\n      <th>0</th>\n      <td>2</td>\n      <td>Austin Cindric</td>\n      <td>5.0</td>\n      <td>2.0</td>\n      <td>1.0</td>\n      <td>6.2</td>\n      <td>-13</td>\n      <td>168</td>\n      <td>181</td>\n      <td>125</td>\n      <td>74.4</td>\n      <td>0</td>\n      <td>176</td>\n      <td>87.6</td>\n      <td>21</td>\n      <td>10.4</td>\n      <td>201</td>\n      <td>122.4</td>\n      <td>54</td>\n    </tr>\n    <tr>\n      <th>1</th>\n      <td>6</td>\n      <td>Brad Keselowski</td>\n      <td>3.0</td>\n      <td>5.0</td>\n      <td>9.0</td>\n      <td>4.8</td>\n      <td>1</td>\n      <td>171</td>\n      <td>170</td>\n      <td>148</td>\n      <td>86.5</td>\n      <td>4</td>\n      <td>198</td>\n      <td>98.5</td>\n      <td>67</td>\n      <td>33.3</td>\n      <td>201</td>\n      <td>121.3</td>\n      <td>54</td>\n    </tr>\n    <tr>\n      <th>2</th>\n      <td>19</td>\n      <td>Martin Truex Jr</td>\n      <td>14.0</td>\n      <td>18.0</td>\n      <td>13.0</td>\n      <td>11.9</td>\n      <td>25</td>\n      <td>258</td>\n      <td>233</td>\n      <td>192</td>\n      <td>74.4</td>\n      <td>4</td>\n      <td>143</td>\n      <td>71.1</td>\n      <td>11</td>\n      <td>5.5</td>\n      <td>201</td>\n      <td>94.0</td>\n      <td>49</td>\n    </tr>\n    <tr>\n      <th>3</th>\n      <td>23</td>\n      <td>Bubba Wallace</td>\n      <td>16.0</td>\n      <td>19.0</td>\n      <td>2.0</td>\n      <td>10.2</td>\n      <td>16</td>\n      <td>253</td>\n      <td>237</td>\n      <td>191</td>\n      <td>75.5</td>\n      <td>7</td>\n      <td>145</td>\n      <td>72.1</td>\n      <td>12</td>\n      <td>6.0</td>\n      <td>201</td>\n      <td>104.7</td>\n      <td>47</td>\n    </tr>\n    <tr>\n      <th>4</th>\n      <td>14</td>\n      <td>Chase Briscoe</td>\n      <td>9.0</td>\n      <td>10.0</td>\n      <td>3.0</td>\n      <td>18.3</td>\n      <td>17</td>\n      <td>209</td>\n      <td>192</td>\n      <td>70</td>\n      <td>33.5</td>\n      <td>6</td>\n      <td>88</td>\n      <td>43.8</td>\n      <td>0</td>\n      <td>0.0</td>\n      <td>201</td>\n      <td>75.0</td>\n      <td>41</td>\n    </tr>\n  </tbody>\n</table>\n</div>"
     },
     "metadata": {}
    }
   ]
  },
  {
   "cell_type": "code",
   "metadata": {
    "cell_id": "00003-50e30146-9534-4db1-86e9-38efccd0ec4b",
    "deepnote_to_be_reexecuted": false,
    "source_hash": "bc41563d",
    "execution_start": 1651965676643,
    "execution_millis": 14,
    "deepnote_cell_type": "code",
    "deepnote_cell_height": 680
   },
   "source": "def add_Races(prev_df, curr_df):\n    prev_df = prev_df.set_index('Driver')\n    curr_df = curr_df.set_index('Driver')\n    df = curr_df.copy()\n    df[\"Races\"] = 1\n    for driver in df.index:\n        if driver in prev_df.index:\n            if curr_df.loc[driver, \"TotalLaps\"] != prev_df.loc[driver, \"TotalLaps\"]:\n                df.loc[driver, \"Races\"] = prev_df.loc[driver, \"Races\"] + 1\n            \n    df = df.reset_index(drop = False)\n    return df\n\ndaytona1[\"Races\"] = 1\nautoclub = add_Races(daytona1, autoclub)\nautoclub.head()",
   "execution_count": null,
   "outputs": [
    {
     "output_type": "execute_result",
     "execution_count": 16,
     "data": {
      "application/vnd.deepnote.dataframe.v3+json": {
       "column_count": 23,
       "row_count": 5,
       "columns": [
        {
         "name": "Driver",
         "dtype": "object",
         "stats": {
          "unique_count": 5,
          "nan_count": 0,
          "categories": [
           {
            "name": "Kyle Larson",
            "count": 1
           },
           {
            "name": "Austin Dillon",
            "count": 1
           },
           {
            "name": "3 others",
            "count": 3
           }
          ]
         }
        },
        {
         "name": "Car",
         "dtype": "int64",
         "stats": {
          "unique_count": 5,
          "nan_count": 0,
          "min": "3",
          "max": "99",
          "histogram": [
           {
            "bin_start": 3,
            "bin_end": 12.6,
            "count": 2
           },
           {
            "bin_start": 12.6,
            "bin_end": 22.2,
            "count": 1
           },
           {
            "bin_start": 22.2,
            "bin_end": 31.799999999999997,
            "count": 0
           },
           {
            "bin_start": 31.799999999999997,
            "bin_end": 41.4,
            "count": 0
           },
           {
            "bin_start": 41.4,
            "bin_end": 51,
            "count": 1
           },
           {
            "bin_start": 51,
            "bin_end": 60.599999999999994,
            "count": 0
           },
           {
            "bin_start": 60.599999999999994,
            "bin_end": 70.2,
            "count": 0
           },
           {
            "bin_start": 70.2,
            "bin_end": 79.8,
            "count": 0
           },
           {
            "bin_start": 79.8,
            "bin_end": 89.39999999999999,
            "count": 0
           },
           {
            "bin_start": 89.39999999999999,
            "bin_end": 99,
            "count": 1
           }
          ]
         }
        },
        {
         "name": "StartPos",
         "dtype": "int64",
         "stats": {
          "unique_count": 5,
          "nan_count": 0,
          "min": "2",
          "max": "16",
          "histogram": [
           {
            "bin_start": 2,
            "bin_end": 3.4,
            "count": 1
           },
           {
            "bin_start": 3.4,
            "bin_end": 4.8,
            "count": 0
           },
           {
            "bin_start": 4.8,
            "bin_end": 6.199999999999999,
            "count": 0
           },
           {
            "bin_start": 6.199999999999999,
            "bin_end": 7.6,
            "count": 1
           },
           {
            "bin_start": 7.6,
            "bin_end": 9,
            "count": 0
           },
           {
            "bin_start": 9,
            "bin_end": 10.399999999999999,
            "count": 0
           },
           {
            "bin_start": 10.399999999999999,
            "bin_end": 11.799999999999999,
            "count": 0
           },
           {
            "bin_start": 11.799999999999999,
            "bin_end": 13.2,
            "count": 1
           },
           {
            "bin_start": 13.2,
            "bin_end": 14.6,
            "count": 0
           },
           {
            "bin_start": 14.6,
            "bin_end": 16,
            "count": 2
           }
          ]
         }
        },
        {
         "name": "MidRace",
         "dtype": "int64",
         "stats": {
          "unique_count": 5,
          "nan_count": 0,
          "min": "3",
          "max": "26",
          "histogram": [
           {
            "bin_start": 3,
            "bin_end": 5.3,
            "count": 2
           },
           {
            "bin_start": 5.3,
            "bin_end": 7.6,
            "count": 1
           },
           {
            "bin_start": 7.6,
            "bin_end": 9.899999999999999,
            "count": 0
           },
           {
            "bin_start": 9.899999999999999,
            "bin_end": 12.2,
            "count": 1
           },
           {
            "bin_start": 12.2,
            "bin_end": 14.5,
            "count": 0
           },
           {
            "bin_start": 14.5,
            "bin_end": 16.799999999999997,
            "count": 0
           },
           {
            "bin_start": 16.799999999999997,
            "bin_end": 19.099999999999998,
            "count": 0
           },
           {
            "bin_start": 19.099999999999998,
            "bin_end": 21.4,
            "count": 0
           },
           {
            "bin_start": 21.4,
            "bin_end": 23.7,
            "count": 0
           },
           {
            "bin_start": 23.7,
            "bin_end": 26,
            "count": 1
           }
          ]
         }
        },
        {
         "name": "CloserPos",
         "dtype": "int64",
         "stats": {
          "unique_count": 5,
          "nan_count": 0,
          "min": "1",
          "max": "6",
          "histogram": [
           {
            "bin_start": 1,
            "bin_end": 1.5,
            "count": 1
           },
           {
            "bin_start": 1.5,
            "bin_end": 2,
            "count": 0
           },
           {
            "bin_start": 2,
            "bin_end": 2.5,
            "count": 1
           },
           {
            "bin_start": 2.5,
            "bin_end": 3,
            "count": 0
           },
           {
            "bin_start": 3,
            "bin_end": 3.5,
            "count": 1
           },
           {
            "bin_start": 3.5,
            "bin_end": 4,
            "count": 0
           },
           {
            "bin_start": 4,
            "bin_end": 4.5,
            "count": 1
           },
           {
            "bin_start": 4.5,
            "bin_end": 5,
            "count": 0
           },
           {
            "bin_start": 5,
            "bin_end": 5.5,
            "count": 0
           },
           {
            "bin_start": 5.5,
            "bin_end": 6,
            "count": 1
           }
          ]
         }
        },
        {
         "name": "FinishPos",
         "dtype": "int64",
         "stats": {
          "unique_count": 5,
          "nan_count": 0,
          "min": "1",
          "max": "5",
          "histogram": [
           {
            "bin_start": 1,
            "bin_end": 1.4,
            "count": 1
           },
           {
            "bin_start": 1.4,
            "bin_end": 1.8,
            "count": 0
           },
           {
            "bin_start": 1.8,
            "bin_end": 2.2,
            "count": 1
           },
           {
            "bin_start": 2.2,
            "bin_end": 2.6,
            "count": 0
           },
           {
            "bin_start": 2.6,
            "bin_end": 3,
            "count": 0
           },
           {
            "bin_start": 3,
            "bin_end": 3.4000000000000004,
            "count": 1
           },
           {
            "bin_start": 3.4000000000000004,
            "bin_end": 3.8000000000000003,
            "count": 0
           },
           {
            "bin_start": 3.8000000000000003,
            "bin_end": 4.2,
            "count": 1
           },
           {
            "bin_start": 4.2,
            "bin_end": 4.6,
            "count": 0
           },
           {
            "bin_start": 4.6,
            "bin_end": 5,
            "count": 1
           }
          ]
         }
        },
        {
         "name": "HighPos",
         "dtype": "int64",
         "stats": {
          "unique_count": 2,
          "nan_count": 0,
          "min": "1",
          "max": "2",
          "histogram": [
           {
            "bin_start": 1,
            "bin_end": 1.1,
            "count": 4
           },
           {
            "bin_start": 1.1,
            "bin_end": 1.2,
            "count": 0
           },
           {
            "bin_start": 1.2,
            "bin_end": 1.3,
            "count": 0
           },
           {
            "bin_start": 1.3,
            "bin_end": 1.4,
            "count": 0
           },
           {
            "bin_start": 1.4,
            "bin_end": 1.5,
            "count": 0
           },
           {
            "bin_start": 1.5,
            "bin_end": 1.6,
            "count": 0
           },
           {
            "bin_start": 1.6,
            "bin_end": 1.7000000000000002,
            "count": 0
           },
           {
            "bin_start": 1.7000000000000002,
            "bin_end": 1.8,
            "count": 0
           },
           {
            "bin_start": 1.8,
            "bin_end": 1.9,
            "count": 0
           },
           {
            "bin_start": 1.9,
            "bin_end": 2,
            "count": 1
           }
          ]
         }
        },
        {
         "name": "LowPos",
         "dtype": "int64",
         "stats": {
          "unique_count": 4,
          "nan_count": 0,
          "min": "12",
          "max": "31",
          "histogram": [
           {
            "bin_start": 12,
            "bin_end": 13.9,
            "count": 1
           },
           {
            "bin_start": 13.9,
            "bin_end": 15.8,
            "count": 0
           },
           {
            "bin_start": 15.8,
            "bin_end": 17.7,
            "count": 0
           },
           {
            "bin_start": 17.7,
            "bin_end": 19.6,
            "count": 0
           },
           {
            "bin_start": 19.6,
            "bin_end": 21.5,
            "count": 1
           },
           {
            "bin_start": 21.5,
            "bin_end": 23.4,
            "count": 0
           },
           {
            "bin_start": 23.4,
            "bin_end": 25.299999999999997,
            "count": 1
           },
           {
            "bin_start": 25.299999999999997,
            "bin_end": 27.2,
            "count": 0
           },
           {
            "bin_start": 27.2,
            "bin_end": 29.099999999999998,
            "count": 0
           },
           {
            "bin_start": 29.099999999999998,
            "bin_end": 31,
            "count": 2
           }
          ]
         }
        },
        {
         "name": "AvgPos",
         "dtype": "float64",
         "stats": {
          "unique_count": 5,
          "nan_count": 0,
          "min": "4.3",
          "max": "15.6",
          "histogram": [
           {
            "bin_start": 4.3,
            "bin_end": 5.43,
            "count": 2
           },
           {
            "bin_start": 5.43,
            "bin_end": 6.5600000000000005,
            "count": 0
           },
           {
            "bin_start": 6.5600000000000005,
            "bin_end": 7.69,
            "count": 1
           },
           {
            "bin_start": 7.69,
            "bin_end": 8.82,
            "count": 0
           },
           {
            "bin_start": 8.82,
            "bin_end": 9.95,
            "count": 0
           },
           {
            "bin_start": 9.95,
            "bin_end": 11.080000000000002,
            "count": 0
           },
           {
            "bin_start": 11.080000000000002,
            "bin_end": 12.21,
            "count": 0
           },
           {
            "bin_start": 12.21,
            "bin_end": 13.34,
            "count": 0
           },
           {
            "bin_start": 13.34,
            "bin_end": 14.470000000000002,
            "count": 0
           },
           {
            "bin_start": 14.470000000000002,
            "bin_end": 15.6,
            "count": 2
           }
          ]
         }
        },
        {
         "name": "PassDiff",
         "dtype": "int64",
         "stats": {
          "unique_count": 5,
          "nan_count": 0,
          "min": "-22",
          "max": "32",
          "histogram": [
           {
            "bin_start": -22,
            "bin_end": -16.6,
            "count": 1
           },
           {
            "bin_start": -16.6,
            "bin_end": -11.2,
            "count": 0
           },
           {
            "bin_start": -11.2,
            "bin_end": -5.799999999999997,
            "count": 0
           },
           {
            "bin_start": -5.799999999999997,
            "bin_end": -0.3999999999999986,
            "count": 1
           },
           {
            "bin_start": -0.3999999999999986,
            "bin_end": 5,
            "count": 0
           },
           {
            "bin_start": 5,
            "bin_end": 10.400000000000006,
            "count": 0
           },
           {
            "bin_start": 10.400000000000006,
            "bin_end": 15.800000000000004,
            "count": 1
           },
           {
            "bin_start": 15.800000000000004,
            "bin_end": 21.200000000000003,
            "count": 0
           },
           {
            "bin_start": 21.200000000000003,
            "bin_end": 26.6,
            "count": 1
           },
           {
            "bin_start": 26.6,
            "bin_end": 32,
            "count": 1
           }
          ]
         }
        },
        {
         "name": "GreenPass",
         "dtype": "int64",
         "stats": {
          "unique_count": 5,
          "nan_count": 0,
          "min": "72",
          "max": "97",
          "histogram": [
           {
            "bin_start": 72,
            "bin_end": 74.5,
            "count": 1
           },
           {
            "bin_start": 74.5,
            "bin_end": 77,
            "count": 0
           },
           {
            "bin_start": 77,
            "bin_end": 79.5,
            "count": 0
           },
           {
            "bin_start": 79.5,
            "bin_end": 82,
            "count": 0
           },
           {
            "bin_start": 82,
            "bin_end": 84.5,
            "count": 1
           },
           {
            "bin_start": 84.5,
            "bin_end": 87,
            "count": 0
           },
           {
            "bin_start": 87,
            "bin_end": 89.5,
            "count": 1
           },
           {
            "bin_start": 89.5,
            "bin_end": 92,
            "count": 0
           },
           {
            "bin_start": 92,
            "bin_end": 94.5,
            "count": 0
           },
           {
            "bin_start": 94.5,
            "bin_end": 97,
            "count": 2
           }
          ]
         }
        },
        {
         "name": "GreenPassed",
         "dtype": "int64",
         "stats": {
          "unique_count": 4,
          "nan_count": 0,
          "min": "55",
          "max": "119",
          "histogram": [
           {
            "bin_start": 55,
            "bin_end": 61.4,
            "count": 3
           },
           {
            "bin_start": 61.4,
            "bin_end": 67.8,
            "count": 0
           },
           {
            "bin_start": 67.8,
            "bin_end": 74.2,
            "count": 0
           },
           {
            "bin_start": 74.2,
            "bin_end": 80.6,
            "count": 0
           },
           {
            "bin_start": 80.6,
            "bin_end": 87,
            "count": 0
           },
           {
            "bin_start": 87,
            "bin_end": 93.4,
            "count": 0
           },
           {
            "bin_start": 93.4,
            "bin_end": 99.80000000000001,
            "count": 1
           },
           {
            "bin_start": 99.80000000000001,
            "bin_end": 106.2,
            "count": 0
           },
           {
            "bin_start": 106.2,
            "bin_end": 112.6,
            "count": 0
           },
           {
            "bin_start": 112.6,
            "bin_end": 119,
            "count": 1
           }
          ]
         }
        },
        {
         "name": "QualityPasses",
         "dtype": "int64",
         "stats": {
          "unique_count": 5,
          "nan_count": 0,
          "min": "52",
          "max": "66",
          "histogram": [
           {
            "bin_start": 52,
            "bin_end": 53.4,
            "count": 1
           },
           {
            "bin_start": 53.4,
            "bin_end": 54.8,
            "count": 1
           },
           {
            "bin_start": 54.8,
            "bin_end": 56.2,
            "count": 0
           },
           {
            "bin_start": 56.2,
            "bin_end": 57.6,
            "count": 0
           },
           {
            "bin_start": 57.6,
            "bin_end": 59,
            "count": 0
           },
           {
            "bin_start": 59,
            "bin_end": 60.4,
            "count": 0
           },
           {
            "bin_start": 60.4,
            "bin_end": 61.8,
            "count": 0
           },
           {
            "bin_start": 61.8,
            "bin_end": 63.2,
            "count": 1
           },
           {
            "bin_start": 63.2,
            "bin_end": 64.6,
            "count": 1
           },
           {
            "bin_start": 64.6,
            "bin_end": 66,
            "count": 1
           }
          ]
         }
        },
        {
         "name": "PercentQualityPasses",
         "dtype": "float64",
         "stats": {
          "unique_count": 5,
          "nan_count": 0,
          "min": "53.61",
          "max": "88.89",
          "histogram": [
           {
            "bin_start": 53.61,
            "bin_end": 57.138,
            "count": 2
           },
           {
            "bin_start": 57.138,
            "bin_end": 60.666,
            "count": 0
           },
           {
            "bin_start": 60.666,
            "bin_end": 64.194,
            "count": 0
           },
           {
            "bin_start": 64.194,
            "bin_end": 67.722,
            "count": 0
           },
           {
            "bin_start": 67.722,
            "bin_end": 71.25,
            "count": 0
           },
           {
            "bin_start": 71.25,
            "bin_end": 74.77799999999999,
            "count": 0
           },
           {
            "bin_start": 74.77799999999999,
            "bin_end": 78.306,
            "count": 2
           },
           {
            "bin_start": 78.306,
            "bin_end": 81.834,
            "count": 0
           },
           {
            "bin_start": 81.834,
            "bin_end": 85.362,
            "count": 0
           },
           {
            "bin_start": 85.362,
            "bin_end": 88.89,
            "count": 1
           }
          ]
         }
        },
        {
         "name": "NumFastestLaps",
         "dtype": "int64",
         "stats": {
          "unique_count": 5,
          "nan_count": 0,
          "min": "0",
          "max": "23",
          "histogram": [
           {
            "bin_start": 0,
            "bin_end": 2.3,
            "count": 1
           },
           {
            "bin_start": 2.3,
            "bin_end": 4.6,
            "count": 1
           },
           {
            "bin_start": 4.6,
            "bin_end": 6.8999999999999995,
            "count": 1
           },
           {
            "bin_start": 6.8999999999999995,
            "bin_end": 9.2,
            "count": 0
           },
           {
            "bin_start": 9.2,
            "bin_end": 11.5,
            "count": 0
           },
           {
            "bin_start": 11.5,
            "bin_end": 13.799999999999999,
            "count": 0
           },
           {
            "bin_start": 13.799999999999999,
            "bin_end": 16.099999999999998,
            "count": 1
           },
           {
            "bin_start": 16.099999999999998,
            "bin_end": 18.4,
            "count": 0
           },
           {
            "bin_start": 18.4,
            "bin_end": 20.7,
            "count": 0
           },
           {
            "bin_start": 20.7,
            "bin_end": 23,
            "count": 1
           }
          ]
         }
        },
        {
         "name": "LapsTop15",
         "dtype": "int64",
         "stats": {
          "unique_count": 5,
          "nan_count": 0,
          "min": "115",
          "max": "200",
          "histogram": [
           {
            "bin_start": 115,
            "bin_end": 123.5,
            "count": 2
           },
           {
            "bin_start": 123.5,
            "bin_end": 132,
            "count": 0
           },
           {
            "bin_start": 132,
            "bin_end": 140.5,
            "count": 0
           },
           {
            "bin_start": 140.5,
            "bin_end": 149,
            "count": 0
           },
           {
            "bin_start": 149,
            "bin_end": 157.5,
            "count": 0
           },
           {
            "bin_start": 157.5,
            "bin_end": 166,
            "count": 0
           },
           {
            "bin_start": 166,
            "bin_end": 174.5,
            "count": 0
           },
           {
            "bin_start": 174.5,
            "bin_end": 183,
            "count": 0
           },
           {
            "bin_start": 183,
            "bin_end": 191.5,
            "count": 1
           },
           {
            "bin_start": 191.5,
            "bin_end": 200,
            "count": 2
           }
          ]
         }
        },
        {
         "name": "PercentLapsTop15",
         "dtype": "float64",
         "stats": {
          "unique_count": 5,
          "nan_count": 0,
          "min": "57.5",
          "max": "100.0",
          "histogram": [
           {
            "bin_start": 57.5,
            "bin_end": 61.75,
            "count": 2
           },
           {
            "bin_start": 61.75,
            "bin_end": 66,
            "count": 0
           },
           {
            "bin_start": 66,
            "bin_end": 70.25,
            "count": 0
           },
           {
            "bin_start": 70.25,
            "bin_end": 74.5,
            "count": 0
           },
           {
            "bin_start": 74.5,
            "bin_end": 78.75,
            "count": 0
           },
           {
            "bin_start": 78.75,
            "bin_end": 83,
            "count": 0
           },
           {
            "bin_start": 83,
            "bin_end": 87.25,
            "count": 0
           },
           {
            "bin_start": 87.25,
            "bin_end": 91.5,
            "count": 0
           },
           {
            "bin_start": 91.5,
            "bin_end": 95.75,
            "count": 1
           },
           {
            "bin_start": 95.75,
            "bin_end": 100,
            "count": 2
           }
          ]
         }
        },
        {
         "name": "LapsLed",
         "dtype": "int64",
         "stats": {
          "unique_count": 4,
          "nan_count": 0,
          "min": "0",
          "max": "28",
          "histogram": [
           {
            "bin_start": 0,
            "bin_end": 2.8,
            "count": 2
           },
           {
            "bin_start": 2.8,
            "bin_end": 5.6,
            "count": 0
           },
           {
            "bin_start": 5.6,
            "bin_end": 8.399999999999999,
            "count": 0
           },
           {
            "bin_start": 8.399999999999999,
            "bin_end": 11.2,
            "count": 0
           },
           {
            "bin_start": 11.2,
            "bin_end": 14,
            "count": 0
           },
           {
            "bin_start": 14,
            "bin_end": 16.799999999999997,
            "count": 1
           },
           {
            "bin_start": 16.799999999999997,
            "bin_end": 19.599999999999998,
            "count": 1
           },
           {
            "bin_start": 19.599999999999998,
            "bin_end": 22.4,
            "count": 0
           },
           {
            "bin_start": 22.4,
            "bin_end": 25.2,
            "count": 0
           },
           {
            "bin_start": 25.2,
            "bin_end": 28,
            "count": 1
           }
          ]
         }
        },
        {
         "name": "PercentLapsLed",
         "dtype": "float64",
         "stats": {
          "unique_count": 4,
          "nan_count": 0,
          "min": "0.0",
          "max": "14.0",
          "histogram": [
           {
            "bin_start": 0,
            "bin_end": 1.4,
            "count": 2
           },
           {
            "bin_start": 1.4,
            "bin_end": 2.8,
            "count": 0
           },
           {
            "bin_start": 2.8,
            "bin_end": 4.199999999999999,
            "count": 0
           },
           {
            "bin_start": 4.199999999999999,
            "bin_end": 5.6,
            "count": 0
           },
           {
            "bin_start": 5.6,
            "bin_end": 7,
            "count": 0
           },
           {
            "bin_start": 7,
            "bin_end": 8.399999999999999,
            "count": 1
           },
           {
            "bin_start": 8.399999999999999,
            "bin_end": 9.799999999999999,
            "count": 1
           },
           {
            "bin_start": 9.799999999999999,
            "bin_end": 11.2,
            "count": 0
           },
           {
            "bin_start": 11.2,
            "bin_end": 12.6,
            "count": 0
           },
           {
            "bin_start": 12.6,
            "bin_end": 14,
            "count": 1
           }
          ]
         }
        },
        {
         "name": "TotalLaps",
         "dtype": "int64",
         "stats": {
          "unique_count": 1,
          "nan_count": 0,
          "min": "200",
          "max": "200",
          "histogram": [
           {
            "bin_start": 199.5,
            "bin_end": 199.6,
            "count": 0
           },
           {
            "bin_start": 199.6,
            "bin_end": 199.7,
            "count": 0
           },
           {
            "bin_start": 199.7,
            "bin_end": 199.8,
            "count": 0
           },
           {
            "bin_start": 199.8,
            "bin_end": 199.9,
            "count": 0
           },
           {
            "bin_start": 199.9,
            "bin_end": 200,
            "count": 0
           },
           {
            "bin_start": 200,
            "bin_end": 200.1,
            "count": 5
           },
           {
            "bin_start": 200.1,
            "bin_end": 200.2,
            "count": 0
           },
           {
            "bin_start": 200.2,
            "bin_end": 200.3,
            "count": 0
           },
           {
            "bin_start": 200.3,
            "bin_end": 200.4,
            "count": 0
           },
           {
            "bin_start": 200.4,
            "bin_end": 200.5,
            "count": 0
           }
          ]
         }
        },
        {
         "name": "DriverRating",
         "dtype": "float64",
         "stats": {
          "unique_count": 5,
          "nan_count": 0,
          "min": "82.9",
          "max": "122.7",
          "histogram": [
           {
            "bin_start": 82.9,
            "bin_end": 86.88000000000001,
            "count": 2
           },
           {
            "bin_start": 86.88000000000001,
            "bin_end": 90.86,
            "count": 0
           },
           {
            "bin_start": 90.86,
            "bin_end": 94.84,
            "count": 0
           },
           {
            "bin_start": 94.84,
            "bin_end": 98.82000000000001,
            "count": 0
           },
           {
            "bin_start": 98.82000000000001,
            "bin_end": 102.80000000000001,
            "count": 0
           },
           {
            "bin_start": 102.80000000000001,
            "bin_end": 106.78,
            "count": 0
           },
           {
            "bin_start": 106.78,
            "bin_end": 110.76,
            "count": 1
           },
           {
            "bin_start": 110.76,
            "bin_end": 114.74000000000001,
            "count": 0
           },
           {
            "bin_start": 114.74000000000001,
            "bin_end": 118.72,
            "count": 1
           },
           {
            "bin_start": 118.72,
            "bin_end": 122.7,
            "count": 1
           }
          ]
         }
        },
        {
         "name": "Pts",
         "dtype": "int64",
         "stats": {
          "unique_count": 4,
          "nan_count": 0,
          "min": "33",
          "max": "52",
          "histogram": [
           {
            "bin_start": 33,
            "bin_end": 34.9,
            "count": 1
           },
           {
            "bin_start": 34.9,
            "bin_end": 36.8,
            "count": 1
           },
           {
            "bin_start": 36.8,
            "bin_end": 38.7,
            "count": 0
           },
           {
            "bin_start": 38.7,
            "bin_end": 40.6,
            "count": 0
           },
           {
            "bin_start": 40.6,
            "bin_end": 42.5,
            "count": 0
           },
           {
            "bin_start": 42.5,
            "bin_end": 44.4,
            "count": 1
           },
           {
            "bin_start": 44.4,
            "bin_end": 46.3,
            "count": 0
           },
           {
            "bin_start": 46.3,
            "bin_end": 48.2,
            "count": 0
           },
           {
            "bin_start": 48.2,
            "bin_end": 50.099999999999994,
            "count": 0
           },
           {
            "bin_start": 50.099999999999994,
            "bin_end": 52,
            "count": 2
           }
          ]
         }
        },
        {
         "name": "Races",
         "dtype": "int64",
         "stats": {
          "unique_count": 1,
          "nan_count": 0,
          "min": "2",
          "max": "2",
          "histogram": [
           {
            "bin_start": 1.5,
            "bin_end": 1.6,
            "count": 0
           },
           {
            "bin_start": 1.6,
            "bin_end": 1.7,
            "count": 0
           },
           {
            "bin_start": 1.7,
            "bin_end": 1.8,
            "count": 0
           },
           {
            "bin_start": 1.8,
            "bin_end": 1.9,
            "count": 0
           },
           {
            "bin_start": 1.9,
            "bin_end": 2,
            "count": 0
           },
           {
            "bin_start": 2,
            "bin_end": 2.1,
            "count": 5
           },
           {
            "bin_start": 2.1,
            "bin_end": 2.2,
            "count": 0
           },
           {
            "bin_start": 2.2,
            "bin_end": 2.3,
            "count": 0
           },
           {
            "bin_start": 2.3,
            "bin_end": 2.4,
            "count": 0
           },
           {
            "bin_start": 2.4,
            "bin_end": 2.5,
            "count": 0
           }
          ]
         }
        },
        {
         "name": "_deepnote_index_column",
         "dtype": "int64"
        }
       ],
       "rows": [
        {
         "Driver": "Kyle Larson",
         "Car": 5,
         "StartPos": 13,
         "MidRace": 3,
         "CloserPos": 2,
         "FinishPos": 1,
         "HighPos": 1,
         "LowPos": 25,
         "AvgPos": 7.1,
         "PassDiff": 24,
         "GreenPass": 83,
         "GreenPassed": 59,
         "QualityPasses": 63,
         "PercentQualityPasses": 75.9,
         "NumFastestLaps": 16,
         "LapsTop15": 183,
         "PercentLapsTop15": 91.5,
         "LapsLed": 28,
         "PercentLapsLed": 14,
         "TotalLaps": 200,
         "DriverRating": 116.3,
         "Pts": 52,
         "Races": 2,
         "_deepnote_index_column": 0
        },
        {
         "Driver": "Austin Dillon",
         "Car": 3,
         "StartPos": 16,
         "MidRace": 12,
         "CloserPos": 3,
         "FinishPos": 2,
         "HighPos": 2,
         "LowPos": 31,
         "AvgPos": 15.6,
         "PassDiff": -22,
         "GreenPass": 97,
         "GreenPassed": 119,
         "QualityPasses": 52,
         "PercentQualityPasses": 53.61,
         "NumFastestLaps": 3,
         "LapsTop15": 118,
         "PercentLapsTop15": 59,
         "LapsLed": 0,
         "PercentLapsLed": 0,
         "TotalLaps": 200,
         "DriverRating": 82.9,
         "Pts": 35,
         "Races": 2,
         "_deepnote_index_column": 1
        },
        {
         "Driver": "Erik Jones",
         "Car": 43,
         "StartPos": 2,
         "MidRace": 7,
         "CloserPos": 6,
         "FinishPos": 3,
         "HighPos": 1,
         "LowPos": 12,
         "AvgPos": 4.3,
         "PassDiff": 13,
         "GreenPass": 72,
         "GreenPassed": 59,
         "QualityPasses": 64,
         "PercentQualityPasses": 88.89,
         "NumFastestLaps": 23,
         "LapsTop15": 200,
         "PercentLapsTop15": 100,
         "LapsLed": 18,
         "PercentLapsLed": 9,
         "TotalLaps": 200,
         "DriverRating": 122.7,
         "Pts": 52,
         "Races": 2,
         "_deepnote_index_column": 2
        },
        {
         "Driver": "Daniel Suarez",
         "Car": 99,
         "StartPos": 15,
         "MidRace": 26,
         "CloserPos": 4,
         "FinishPos": 4,
         "HighPos": 1,
         "LowPos": 31,
         "AvgPos": 14.5,
         "PassDiff": -3,
         "GreenPass": 96,
         "GreenPassed": 99,
         "QualityPasses": 54,
         "PercentQualityPasses": 56.25,
         "NumFastestLaps": 0,
         "LapsTop15": 115,
         "PercentLapsTop15": 57.5,
         "LapsLed": 0,
         "PercentLapsLed": 0,
         "TotalLaps": 200,
         "DriverRating": 86.2,
         "Pts": 33,
         "Races": 2,
         "_deepnote_index_column": 3
        },
        {
         "Driver": "Joey Logano",
         "Car": 22,
         "StartPos": 7,
         "MidRace": 4,
         "CloserPos": 1,
         "FinishPos": 5,
         "HighPos": 1,
         "LowPos": 20,
         "AvgPos": 5.4,
         "PassDiff": 32,
         "GreenPass": 87,
         "GreenPassed": 55,
         "QualityPasses": 66,
         "PercentQualityPasses": 75.86,
         "NumFastestLaps": 5,
         "LapsTop15": 198,
         "PercentLapsTop15": 99,
         "LapsLed": 14,
         "PercentLapsLed": 7,
         "TotalLaps": 200,
         "DriverRating": 110.3,
         "Pts": 44,
         "Races": 2,
         "_deepnote_index_column": 4
        }
       ]
      },
      "text/plain": "          Driver  Car  StartPos  MidRace  CloserPos  FinishPos  HighPos  \\\n0    Kyle Larson    5        13        3          2          1        1   \n1  Austin Dillon    3        16       12          3          2        2   \n2     Erik Jones   43         2        7          6          3        1   \n3  Daniel Suarez   99        15       26          4          4        1   \n4    Joey Logano   22         7        4          1          5        1   \n\n   LowPos  AvgPos  PassDiff  GreenPass  GreenPassed  QualityPasses  \\\n0      25     7.1        24         83           59             63   \n1      31    15.6       -22         97          119             52   \n2      12     4.3        13         72           59             64   \n3      31    14.5        -3         96           99             54   \n4      20     5.4        32         87           55             66   \n\n   PercentQualityPasses  NumFastestLaps  LapsTop15  PercentLapsTop15  LapsLed  \\\n0                 75.90              16        183              91.5       28   \n1                 53.61               3        118              59.0        0   \n2                 88.89              23        200             100.0       18   \n3                 56.25               0        115              57.5        0   \n4                 75.86               5        198              99.0       14   \n\n   PercentLapsLed  TotalLaps  DriverRating  Pts  Races  \n0            14.0        200         116.3   52      2  \n1             0.0        200          82.9   35      2  \n2             9.0        200         122.7   52      2  \n3             0.0        200          86.2   33      2  \n4             7.0        200         110.3   44      2  ",
      "text/html": "<div>\n<style scoped>\n    .dataframe tbody tr th:only-of-type {\n        vertical-align: middle;\n    }\n\n    .dataframe tbody tr th {\n        vertical-align: top;\n    }\n\n    .dataframe thead th {\n        text-align: right;\n    }\n</style>\n<table border=\"1\" class=\"dataframe\">\n  <thead>\n    <tr style=\"text-align: right;\">\n      <th></th>\n      <th>Driver</th>\n      <th>Car</th>\n      <th>StartPos</th>\n      <th>MidRace</th>\n      <th>CloserPos</th>\n      <th>FinishPos</th>\n      <th>HighPos</th>\n      <th>LowPos</th>\n      <th>AvgPos</th>\n      <th>PassDiff</th>\n      <th>GreenPass</th>\n      <th>GreenPassed</th>\n      <th>QualityPasses</th>\n      <th>PercentQualityPasses</th>\n      <th>NumFastestLaps</th>\n      <th>LapsTop15</th>\n      <th>PercentLapsTop15</th>\n      <th>LapsLed</th>\n      <th>PercentLapsLed</th>\n      <th>TotalLaps</th>\n      <th>DriverRating</th>\n      <th>Pts</th>\n      <th>Races</th>\n    </tr>\n  </thead>\n  <tbody>\n    <tr>\n      <th>0</th>\n      <td>Kyle Larson</td>\n      <td>5</td>\n      <td>13</td>\n      <td>3</td>\n      <td>2</td>\n      <td>1</td>\n      <td>1</td>\n      <td>25</td>\n      <td>7.1</td>\n      <td>24</td>\n      <td>83</td>\n      <td>59</td>\n      <td>63</td>\n      <td>75.90</td>\n      <td>16</td>\n      <td>183</td>\n      <td>91.5</td>\n      <td>28</td>\n      <td>14.0</td>\n      <td>200</td>\n      <td>116.3</td>\n      <td>52</td>\n      <td>2</td>\n    </tr>\n    <tr>\n      <th>1</th>\n      <td>Austin Dillon</td>\n      <td>3</td>\n      <td>16</td>\n      <td>12</td>\n      <td>3</td>\n      <td>2</td>\n      <td>2</td>\n      <td>31</td>\n      <td>15.6</td>\n      <td>-22</td>\n      <td>97</td>\n      <td>119</td>\n      <td>52</td>\n      <td>53.61</td>\n      <td>3</td>\n      <td>118</td>\n      <td>59.0</td>\n      <td>0</td>\n      <td>0.0</td>\n      <td>200</td>\n      <td>82.9</td>\n      <td>35</td>\n      <td>2</td>\n    </tr>\n    <tr>\n      <th>2</th>\n      <td>Erik Jones</td>\n      <td>43</td>\n      <td>2</td>\n      <td>7</td>\n      <td>6</td>\n      <td>3</td>\n      <td>1</td>\n      <td>12</td>\n      <td>4.3</td>\n      <td>13</td>\n      <td>72</td>\n      <td>59</td>\n      <td>64</td>\n      <td>88.89</td>\n      <td>23</td>\n      <td>200</td>\n      <td>100.0</td>\n      <td>18</td>\n      <td>9.0</td>\n      <td>200</td>\n      <td>122.7</td>\n      <td>52</td>\n      <td>2</td>\n    </tr>\n    <tr>\n      <th>3</th>\n      <td>Daniel Suarez</td>\n      <td>99</td>\n      <td>15</td>\n      <td>26</td>\n      <td>4</td>\n      <td>4</td>\n      <td>1</td>\n      <td>31</td>\n      <td>14.5</td>\n      <td>-3</td>\n      <td>96</td>\n      <td>99</td>\n      <td>54</td>\n      <td>56.25</td>\n      <td>0</td>\n      <td>115</td>\n      <td>57.5</td>\n      <td>0</td>\n      <td>0.0</td>\n      <td>200</td>\n      <td>86.2</td>\n      <td>33</td>\n      <td>2</td>\n    </tr>\n    <tr>\n      <th>4</th>\n      <td>Joey Logano</td>\n      <td>22</td>\n      <td>7</td>\n      <td>4</td>\n      <td>1</td>\n      <td>5</td>\n      <td>1</td>\n      <td>20</td>\n      <td>5.4</td>\n      <td>32</td>\n      <td>87</td>\n      <td>55</td>\n      <td>66</td>\n      <td>75.86</td>\n      <td>5</td>\n      <td>198</td>\n      <td>99.0</td>\n      <td>14</td>\n      <td>7.0</td>\n      <td>200</td>\n      <td>110.3</td>\n      <td>44</td>\n      <td>2</td>\n    </tr>\n  </tbody>\n</table>\n</div>"
     },
     "metadata": {}
    }
   ]
  },
  {
   "cell_type": "code",
   "source": "_deepnote_run_altair(autoclub, \"\"\"{\"$schema\":\"https://vega.github.io/schema/vega-lite/v4.json\",\"mark\":{\"type\":\"bar\",\"tooltip\":{\"content\":\"data\"}},\"height\":220,\"autosize\":{\"type\":\"fit\"},\"data\":{\"name\":\"placeholder\"},\"encoding\":{\"x\":{\"field\":\"Driver\",\"type\":\"nominal\",\"sort\":null,\"scale\":{\"type\":\"linear\",\"zero\":false}},\"y\":{\"field\":\"StartPos\",\"type\":\"quantitative\",\"sort\":null,\"scale\":{\"type\":\"linear\",\"zero\":true}},\"color\":{\"field\":\"FinishPos\",\"type\":\"quantitative\",\"sort\":null,\"scale\":{\"type\":\"linear\",\"zero\":false}}}}\"\"\")",
   "metadata": {
    "cell_id": "03dcdca68a98462c8351b6bcd9847640",
    "deepnote_variable_name": "autoclub",
    "deepnote_visualization_spec": {
     "$schema": "https://vega.github.io/schema/vega-lite/v4.json",
     "mark": {
      "type": "bar",
      "tooltip": {
       "content": "data"
      }
     },
     "height": 220,
     "autosize": {
      "type": "fit"
     },
     "data": {
      "name": "placeholder"
     },
     "encoding": {
      "x": {
       "field": "Driver",
       "type": "nominal",
       "sort": null,
       "scale": {
        "type": "linear",
        "zero": false
       }
      },
      "y": {
       "field": "StartPos",
       "type": "quantitative",
       "sort": null,
       "scale": {
        "type": "linear",
        "zero": true
       }
      },
      "color": {
       "field": "FinishPos",
       "type": "quantitative",
       "sort": null,
       "scale": {
        "type": "linear",
        "zero": false
       }
      }
     }
    },
    "deepnote_to_be_reexecuted": false,
    "source_hash": "7d8dcf45",
    "execution_start": 1651965736016,
    "execution_millis": 45,
    "deepnote_cell_type": "visualization"
   },
   "execution_count": null,
   "outputs": [
    {
     "output_type": "execute_result",
     "execution_count": 18,
     "data": {
      "text/html": "\n<div id=\"altair-viz-7db4946aa39848d08b9012ffcc7a7618\"></div>\n<script type=\"text/javascript\">\n  (function(spec, embedOpt){\n    let outputDiv = document.currentScript.previousElementSibling;\n    if (outputDiv.id !== \"altair-viz-7db4946aa39848d08b9012ffcc7a7618\") {\n      outputDiv = document.getElementById(\"altair-viz-7db4946aa39848d08b9012ffcc7a7618\");\n    }\n    const paths = {\n      \"vega\": \"https://cdn.jsdelivr.net/npm//vega@5?noext\",\n      \"vega-lib\": \"https://cdn.jsdelivr.net/npm//vega-lib?noext\",\n      \"vega-lite\": \"https://cdn.jsdelivr.net/npm//vega-lite@4.8.1?noext\",\n      \"vega-embed\": \"https://cdn.jsdelivr.net/npm//vega-embed@6?noext\",\n    };\n\n    function loadScript(lib) {\n      return new Promise(function(resolve, reject) {\n        var s = document.createElement('script');\n        s.src = paths[lib];\n        s.async = true;\n        s.onload = () => resolve(paths[lib]);\n        s.onerror = () => reject(`Error loading script: ${paths[lib]}`);\n        document.getElementsByTagName(\"head\")[0].appendChild(s);\n      });\n    }\n\n    function showError(err) {\n      outputDiv.innerHTML = `<div class=\"error\" style=\"color:red;\">${err}</div>`;\n      throw err;\n    }\n\n    function displayChart(vegaEmbed) {\n      vegaEmbed(outputDiv, spec, embedOpt)\n        .catch(err => showError(`Javascript Error: ${err.message}<br>This usually means there's a typo in your chart specification. See the javascript console for the full traceback.`));\n    }\n\n    if(typeof define === \"function\" && define.amd) {\n      requirejs.config({paths});\n      require([\"vega-embed\"], displayChart, err => showError(`Error loading script: ${err.message}`));\n    } else if (typeof vegaEmbed === \"function\") {\n      displayChart(vegaEmbed);\n    } else {\n      loadScript(\"vega\")\n        .then(() => loadScript(\"vega-lite\"))\n        .then(() => loadScript(\"vega-embed\"))\n        .catch(showError)\n        .then(() => displayChart(vegaEmbed));\n    }\n  })({\"config\": {\"view\": {\"continuousWidth\": 400, \"continuousHeight\": 300}, \"area\": {\"fill\": \"#51C0E9\"}, \"axis\": {\"labelFont\": \"Inter, sans-serif\", \"labelFontSize\": 12, \"labelFontWeight\": \"normal\", \"labelLimit\": 60, \"labelOverlap\": \"greedy\", \"titleFont\": \"Inter, sans-serif\", \"titleFontSize\": 12, \"titleFontWeight\": \"bold\"}, \"background\": \"#ffffff\", \"legend\": {\"labelFont\": \"Inter, sans-serif\", \"labelFontSize\": 12, \"titleFont\": \"Inter, sans-serif\", \"titleFontSize\": 12, \"titleFontWeight\": \"bold\"}, \"line\": {\"stroke\": \"#51C0E9\", \"strokeWidth\": 2}, \"rect\": {\"fill\": \"#51C0E9\"}, \"title\": {\"anchor\": \"start\", \"color\": \"#000000\", \"font\": \"Inter, sans-serif\", \"fontSize\": 22, \"fontWeight\": \"normal\"}}, \"data\": {\"name\": \"data-90104d7fe5a9f5bbc217ec8977932e6a\"}, \"mark\": {\"type\": \"bar\", \"tooltip\": {\"content\": \"data\"}}, \"autosize\": {\"type\": \"fit\"}, \"encoding\": {\"color\": {\"type\": \"quantitative\", \"field\": \"FinishPos\", \"scale\": {\"type\": \"linear\", \"zero\": false}, \"sort\": null}, \"x\": {\"type\": \"nominal\", \"field\": \"Driver\", \"scale\": {\"type\": \"linear\", \"zero\": false}, \"sort\": null}, \"y\": {\"type\": \"quantitative\", \"field\": \"StartPos\", \"scale\": {\"type\": \"linear\", \"zero\": true}, \"sort\": null}}, \"height\": 300, \"width\": \"container\", \"$schema\": \"https://vega.github.io/schema/vega-lite/v4.json\", \"datasets\": {\"data-90104d7fe5a9f5bbc217ec8977932e6a\": [{\"Driver\": \"Kyle Larson\", \"Car\": 5, \"StartPos\": 13, \"MidRace\": 3, \"CloserPos\": 2, \"FinishPos\": 1, \"HighPos\": 1, \"LowPos\": 25, \"AvgPos\": 7.1, \"PassDiff\": 24, \"GreenPass\": 83, \"GreenPassed\": 59, \"QualityPasses\": 63, \"PercentQualityPasses\": 75.9, \"NumFastestLaps\": 16, \"LapsTop15\": 183, \"PercentLapsTop15\": 91.5, \"LapsLed\": 28, \"PercentLapsLed\": 14.0, \"TotalLaps\": 200, \"DriverRating\": 116.3, \"Pts\": 52, \"Races\": 2}, {\"Driver\": \"Austin Dillon\", \"Car\": 3, \"StartPos\": 16, \"MidRace\": 12, \"CloserPos\": 3, \"FinishPos\": 2, \"HighPos\": 2, \"LowPos\": 31, \"AvgPos\": 15.6, \"PassDiff\": -22, \"GreenPass\": 97, \"GreenPassed\": 119, \"QualityPasses\": 52, \"PercentQualityPasses\": 53.61, \"NumFastestLaps\": 3, \"LapsTop15\": 118, \"PercentLapsTop15\": 59.0, \"LapsLed\": 0, \"PercentLapsLed\": 0.0, \"TotalLaps\": 200, \"DriverRating\": 82.9, \"Pts\": 35, \"Races\": 2}, {\"Driver\": \"Erik Jones\", \"Car\": 43, \"StartPos\": 2, \"MidRace\": 7, \"CloserPos\": 6, \"FinishPos\": 3, \"HighPos\": 1, \"LowPos\": 12, \"AvgPos\": 4.3, \"PassDiff\": 13, \"GreenPass\": 72, \"GreenPassed\": 59, \"QualityPasses\": 64, \"PercentQualityPasses\": 88.89, \"NumFastestLaps\": 23, \"LapsTop15\": 200, \"PercentLapsTop15\": 100.0, \"LapsLed\": 18, \"PercentLapsLed\": 9.0, \"TotalLaps\": 200, \"DriverRating\": 122.7, \"Pts\": 52, \"Races\": 2}, {\"Driver\": \"Daniel Suarez\", \"Car\": 99, \"StartPos\": 15, \"MidRace\": 26, \"CloserPos\": 4, \"FinishPos\": 4, \"HighPos\": 1, \"LowPos\": 31, \"AvgPos\": 14.5, \"PassDiff\": -3, \"GreenPass\": 96, \"GreenPassed\": 99, \"QualityPasses\": 54, \"PercentQualityPasses\": 56.25, \"NumFastestLaps\": 0, \"LapsTop15\": 115, \"PercentLapsTop15\": 57.5, \"LapsLed\": 0, \"PercentLapsLed\": 0.0, \"TotalLaps\": 200, \"DriverRating\": 86.2, \"Pts\": 33, \"Races\": 2}, {\"Driver\": \"Joey Logano\", \"Car\": 22, \"StartPos\": 7, \"MidRace\": 4, \"CloserPos\": 1, \"FinishPos\": 5, \"HighPos\": 1, \"LowPos\": 20, \"AvgPos\": 5.4, \"PassDiff\": 32, \"GreenPass\": 87, \"GreenPassed\": 55, \"QualityPasses\": 66, \"PercentQualityPasses\": 75.86, \"NumFastestLaps\": 5, \"LapsTop15\": 198, \"PercentLapsTop15\": 99.0, \"LapsLed\": 14, \"PercentLapsLed\": 7.0, \"TotalLaps\": 200, \"DriverRating\": 110.3, \"Pts\": 44, \"Races\": 2}, {\"Driver\": \"Aric Almirola\", \"Car\": 10, \"StartPos\": 31, \"MidRace\": 13, \"CloserPos\": 19, \"FinishPos\": 6, \"HighPos\": 5, \"LowPos\": 31, \"AvgPos\": 16.7, \"PassDiff\": -24, \"GreenPass\": 94, \"GreenPassed\": 118, \"QualityPasses\": 48, \"PercentQualityPasses\": 51.06, \"NumFastestLaps\": 1, \"LapsTop15\": 110, \"PercentLapsTop15\": 55.0, \"LapsLed\": 0, \"PercentLapsLed\": 0.0, \"TotalLaps\": 200, \"DriverRating\": 77.0, \"Pts\": 34, \"Races\": 2}, {\"Driver\": \"Kevin Harvick\", \"Car\": 4, \"StartPos\": 32, \"MidRace\": 21, \"CloserPos\": 8, \"FinishPos\": 7, \"HighPos\": 1, \"LowPos\": 32, \"AvgPos\": 20.0, \"PassDiff\": 23, \"GreenPass\": 106, \"GreenPassed\": 83, \"QualityPasses\": 15, \"PercentQualityPasses\": 14.15, \"NumFastestLaps\": 0, \"LapsTop15\": 43, \"PercentLapsTop15\": 21.5, \"LapsLed\": 1, \"PercentLapsLed\": 0.5, \"TotalLaps\": 200, \"DriverRating\": 64.7, \"Pts\": 30, \"Races\": 2}, {\"Driver\": \"Kurt Busch\", \"Car\": 45, \"StartPos\": 36, \"MidRace\": 22, \"CloserPos\": 9, \"FinishPos\": 8, \"HighPos\": 5, \"LowPos\": 36, \"AvgPos\": 21.3, \"PassDiff\": 27, \"GreenPass\": 133, \"GreenPassed\": 106, \"QualityPasses\": 42, \"PercentQualityPasses\": 31.58, \"NumFastestLaps\": 0, \"LapsTop15\": 60, \"PercentLapsTop15\": 30.0, \"LapsLed\": 0, \"PercentLapsLed\": 0.0, \"TotalLaps\": 200, \"DriverRating\": 63.5, \"Pts\": 29, \"Races\": 2}, {\"Driver\": \"Daniel Hemric\", \"Car\": 16, \"StartPos\": 5, \"MidRace\": 34, \"CloserPos\": 12, \"FinishPos\": 9, \"HighPos\": 5, \"LowPos\": 35, \"AvgPos\": 26.2, \"PassDiff\": 13, \"GreenPass\": 58, \"GreenPassed\": 45, \"QualityPasses\": 28, \"PercentQualityPasses\": 48.28, \"NumFastestLaps\": 2, \"LapsTop15\": 45, \"PercentLapsTop15\": 22.5, \"LapsLed\": 0, \"PercentLapsLed\": 0.0, \"TotalLaps\": 200, \"DriverRating\": 72.3, \"Pts\": 0, \"Races\": 2}, {\"Driver\": \"Ricky Stenhouse Jr\", \"Car\": 47, \"StartPos\": 17, \"MidRace\": 18, \"CloserPos\": 10, \"FinishPos\": 10, \"HighPos\": 2, \"LowPos\": 22, \"AvgPos\": 11.0, \"PassDiff\": 20, \"GreenPass\": 121, \"GreenPassed\": 101, \"QualityPasses\": 71, \"PercentQualityPasses\": 58.68, \"NumFastestLaps\": 1, \"LapsTop15\": 159, \"PercentLapsTop15\": 79.5, \"LapsLed\": 0, \"PercentLapsLed\": 0.0, \"TotalLaps\": 200, \"DriverRating\": 91.1, \"Pts\": 28, \"Races\": 2}, {\"Driver\": \"Cole Custer\", \"Car\": 41, \"StartPos\": 21, \"MidRace\": 10, \"CloserPos\": 18, \"FinishPos\": 11, \"HighPos\": 3, \"LowPos\": 26, \"AvgPos\": 12.9, \"PassDiff\": -28, \"GreenPass\": 75, \"GreenPassed\": 103, \"QualityPasses\": 49, \"PercentQualityPasses\": 65.33, \"NumFastestLaps\": 0, \"LapsTop15\": 134, \"PercentLapsTop15\": 67.0, \"LapsLed\": 0, \"PercentLapsLed\": 0.0, \"TotalLaps\": 200, \"DriverRating\": 83.3, \"Pts\": 31, \"Races\": 2}, {\"Driver\": \"Austin Cindric\", \"Car\": 2, \"StartPos\": 1, \"MidRace\": 8, \"CloserPos\": 14, \"FinishPos\": 12, \"HighPos\": 1, \"LowPos\": 25, \"AvgPos\": 9.7, \"PassDiff\": -14, \"GreenPass\": 86, \"GreenPassed\": 100, \"QualityPasses\": 61, \"PercentQualityPasses\": 70.93, \"NumFastestLaps\": 1, \"LapsTop15\": 179, \"PercentLapsTop15\": 89.5, \"LapsLed\": 0, \"PercentLapsLed\": 0.0, \"TotalLaps\": 200, \"DriverRating\": 94.3, \"Pts\": 31, \"Races\": 2}, {\"Driver\": \"Martin Truex Jr\", \"Car\": 19, \"StartPos\": 12, \"MidRace\": 28, \"CloserPos\": 16, \"FinishPos\": 13, \"HighPos\": 4, \"LowPos\": 30, \"AvgPos\": 15.0, \"PassDiff\": -7, \"GreenPass\": 91, \"GreenPassed\": 98, \"QualityPasses\": 34, \"PercentQualityPasses\": 37.36, \"NumFastestLaps\": 1, \"LapsTop15\": 98, \"PercentLapsTop15\": 49.0, \"LapsLed\": 0, \"PercentLapsLed\": 0.0, \"TotalLaps\": 200, \"DriverRating\": 77.3, \"Pts\": 24, \"Races\": 2}, {\"Driver\": \"Kyle Busch\", \"Car\": 18, \"StartPos\": 3, \"MidRace\": 33, \"CloserPos\": 26, \"FinishPos\": 14, \"HighPos\": 3, \"LowPos\": 36, \"AvgPos\": 28.6, \"PassDiff\": 4, \"GreenPass\": 56, \"GreenPassed\": 52, \"QualityPasses\": 8, \"PercentQualityPasses\": 14.29, \"NumFastestLaps\": 2, \"LapsTop15\": 21, \"PercentLapsTop15\": 10.5, \"LapsLed\": 0, \"PercentLapsLed\": 0.0, \"TotalLaps\": 200, \"DriverRating\": 59.0, \"Pts\": 23, \"Races\": 2}, {\"Driver\": \"Denny Hamlin\", \"Car\": 11, \"StartPos\": 4, \"MidRace\": 24, \"CloserPos\": 5, \"FinishPos\": 15, \"HighPos\": 3, \"LowPos\": 31, \"AvgPos\": 10.3, \"PassDiff\": 8, \"GreenPass\": 110, \"GreenPassed\": 102, \"QualityPasses\": 70, \"PercentQualityPasses\": 63.64, \"NumFastestLaps\": 0, \"LapsTop15\": 169, \"PercentLapsTop15\": 84.5, \"LapsLed\": 0, \"PercentLapsLed\": 0.0, \"TotalLaps\": 200, \"DriverRating\": 89.8, \"Pts\": 23, \"Races\": 2}, {\"Driver\": \"Chase Briscoe\", \"Car\": 14, \"StartPos\": 24, \"MidRace\": 5, \"CloserPos\": 15, \"FinishPos\": 16, \"HighPos\": 1, \"LowPos\": 31, \"AvgPos\": 14.3, \"PassDiff\": -3, \"GreenPass\": 109, \"GreenPassed\": 112, \"QualityPasses\": 43, \"PercentQualityPasses\": 39.45, \"NumFastestLaps\": 9, \"LapsTop15\": 91, \"PercentLapsTop15\": 45.5, \"LapsLed\": 20, \"PercentLapsLed\": 10.0, \"TotalLaps\": 200, \"DriverRating\": 82.1, \"Pts\": 28, \"Races\": 2}, {\"Driver\": \"Ty Dillon\", \"Car\": 42, \"StartPos\": 18, \"MidRace\": 23, \"CloserPos\": 17, \"FinishPos\": 17, \"HighPos\": 11, \"LowPos\": 32, \"AvgPos\": 23.2, \"PassDiff\": -38, \"GreenPass\": 99, \"GreenPassed\": 137, \"QualityPasses\": 1, \"PercentQualityPasses\": 1.01, \"NumFastestLaps\": 0, \"LapsTop15\": 6, \"PercentLapsTop15\": 3.0, \"LapsLed\": 0, \"PercentLapsLed\": 0.0, \"TotalLaps\": 200, \"DriverRating\": 46.5, \"Pts\": 20, \"Races\": 2}, {\"Driver\": \"Ryan Blaney\", \"Car\": 12, \"StartPos\": 6, \"MidRace\": 6, \"CloserPos\": 7, \"FinishPos\": 18, \"HighPos\": 1, \"LowPos\": 18, \"AvgPos\": 6.9, \"PassDiff\": 60, \"GreenPass\": 119, \"GreenPassed\": 59, \"QualityPasses\": 102, \"PercentQualityPasses\": 85.71, \"NumFastestLaps\": 8, \"LapsTop15\": 189, \"PercentLapsTop15\": 94.5, \"LapsLed\": 1, \"PercentLapsLed\": 0.5, \"TotalLaps\": 200, \"DriverRating\": 97.6, \"Pts\": 29, \"Races\": 2}, {\"Driver\": \"Bubba Wallace\", \"Car\": 23, \"StartPos\": 34, \"MidRace\": 25, \"CloserPos\": 22, \"FinishPos\": 19, \"HighPos\": 9, \"LowPos\": 34, \"AvgPos\": 25.2, \"PassDiff\": 3, \"GreenPass\": 72, \"GreenPassed\": 69, \"QualityPasses\": 5, \"PercentQualityPasses\": 6.94, \"NumFastestLaps\": 0, \"LapsTop15\": 2, \"PercentLapsTop15\": 1.0, \"LapsLed\": 0, \"PercentLapsLed\": 0.0, \"TotalLaps\": 200, \"DriverRating\": 42.8, \"Pts\": 18, \"Races\": 2}, {\"Driver\": \"Todd Gilliland\", \"Car\": 38, \"StartPos\": 26, \"MidRace\": 29, \"CloserPos\": 21, \"FinishPos\": 20, \"HighPos\": 17, \"LowPos\": 33, \"AvgPos\": 26.0, \"PassDiff\": -34, \"GreenPass\": 48, \"GreenPassed\": 82, \"QualityPasses\": 0, \"PercentQualityPasses\": 0.0, \"NumFastestLaps\": 0, \"LapsTop15\": 0, \"PercentLapsTop15\": 0.0, \"LapsLed\": 0, \"PercentLapsLed\": 0.0, \"TotalLaps\": 200, \"DriverRating\": 41.8, \"Pts\": 17, \"Races\": 2}, {\"Driver\": \"Garrett Smithley\", \"Car\": 15, \"StartPos\": 29, \"MidRace\": 30, \"CloserPos\": 23, \"FinishPos\": 21, \"HighPos\": 5, \"LowPos\": 35, \"AvgPos\": 28.4, \"PassDiff\": 2, \"GreenPass\": 18, \"GreenPassed\": 16, \"QualityPasses\": 0, \"PercentQualityPasses\": 0.0, \"NumFastestLaps\": 0, \"LapsTop15\": 8, \"PercentLapsTop15\": 4.0, \"LapsLed\": 0, \"PercentLapsLed\": 0.0, \"TotalLaps\": 200, \"DriverRating\": 37.8, \"Pts\": 16, \"Races\": 1}, {\"Driver\": \"BJ McLeod\", \"Car\": 78, \"StartPos\": 30, \"MidRace\": 31, \"CloserPos\": 24, \"FinishPos\": 22, \"HighPos\": 9, \"LowPos\": 35, \"AvgPos\": 28.4, \"PassDiff\": 0, \"GreenPass\": 18, \"GreenPassed\": 18, \"QualityPasses\": 0, \"PercentQualityPasses\": 0.0, \"NumFastestLaps\": 0, \"LapsTop15\": 6, \"PercentLapsTop15\": 3.0, \"LapsLed\": 0, \"PercentLapsLed\": 0.0, \"TotalLaps\": 200, \"DriverRating\": 35.8, \"Pts\": 15, \"Races\": 2}, {\"Driver\": \"Justin Haley\", \"Car\": 31, \"StartPos\": 35, \"MidRace\": 15, \"CloserPos\": 13, \"FinishPos\": 23, \"HighPos\": 9, \"LowPos\": 35, \"AvgPos\": 20.1, \"PassDiff\": 5, \"GreenPass\": 131, \"GreenPassed\": 126, \"QualityPasses\": 29, \"PercentQualityPasses\": 22.14, \"NumFastestLaps\": 0, \"LapsTop15\": 38, \"PercentLapsTop15\": 19.0, \"LapsLed\": 0, \"PercentLapsLed\": 0.0, \"TotalLaps\": 200, \"DriverRating\": 55.0, \"Pts\": 14, \"Races\": 2}, {\"Driver\": \"Tyler Reddick\", \"Car\": 8, \"StartPos\": 11, \"MidRace\": 2, \"CloserPos\": 27, \"FinishPos\": 24, \"HighPos\": 1, \"LowPos\": 30, \"AvgPos\": 8.4, \"PassDiff\": 2, \"GreenPass\": 26, \"GreenPassed\": 24, \"QualityPasses\": 23, \"PercentQualityPasses\": 88.46, \"NumFastestLaps\": 39, \"LapsTop15\": 144, \"PercentLapsTop15\": 72.0, \"LapsLed\": 90, \"PercentLapsLed\": 45.2, \"TotalLaps\": 199, \"DriverRating\": 120.6, \"Pts\": 33, \"Races\": 2}, {\"Driver\": \"Alex Bowman\", \"Car\": 48, \"StartPos\": 14, \"MidRace\": 9, \"CloserPos\": 25, \"FinishPos\": 25, \"HighPos\": 2, \"LowPos\": 27, \"AvgPos\": 11.0, \"PassDiff\": -27, \"GreenPass\": 62, \"GreenPassed\": 89, \"QualityPasses\": 57, \"PercentQualityPasses\": 91.94, \"NumFastestLaps\": 0, \"LapsTop15\": 172, \"PercentLapsTop15\": 86.0, \"LapsLed\": 0, \"PercentLapsLed\": 0.0, \"TotalLaps\": 199, \"DriverRating\": 78.7, \"Pts\": 17, \"Races\": 2}, {\"Driver\": \"Chase Elliott\", \"Car\": 9, \"StartPos\": 8, \"MidRace\": 19, \"CloserPos\": 20, \"FinishPos\": 26, \"HighPos\": 1, \"LowPos\": 34, \"AvgPos\": 18.9, \"PassDiff\": -9, \"GreenPass\": 43, \"GreenPassed\": 52, \"QualityPasses\": 17, \"PercentQualityPasses\": 39.53, \"NumFastestLaps\": 10, \"LapsTop15\": 75, \"PercentLapsTop15\": 37.5, \"LapsLed\": 12, \"PercentLapsLed\": 6.1, \"TotalLaps\": 198, \"DriverRating\": 67.5, \"Pts\": 11, \"Races\": 2}, {\"Driver\": \"Brad Keselowski\", \"Car\": 6, \"StartPos\": 9, \"MidRace\": 11, \"CloserPos\": 28, \"FinishPos\": 27, \"HighPos\": 4, \"LowPos\": 31, \"AvgPos\": 19.2, \"PassDiff\": 13, \"GreenPass\": 78, \"GreenPassed\": 65, \"QualityPasses\": 32, \"PercentQualityPasses\": 41.03, \"NumFastestLaps\": 0, \"LapsTop15\": 68, \"PercentLapsTop15\": 34.0, \"LapsLed\": 0, \"PercentLapsLed\": 0.0, \"TotalLaps\": 198, \"DriverRating\": 61.0, \"Pts\": 10, \"Races\": 2}, {\"Driver\": \"Corey Lajoie\", \"Car\": 7, \"StartPos\": 25, \"MidRace\": 27, \"CloserPos\": 29, \"FinishPos\": 28, \"HighPos\": 14, \"LowPos\": 32, \"AvgPos\": 25.0, \"PassDiff\": -8, \"GreenPass\": 114, \"GreenPassed\": 122, \"QualityPasses\": 0, \"PercentQualityPasses\": 0.0, \"NumFastestLaps\": 0, \"LapsTop15\": 2, \"PercentLapsTop15\": 1.0, \"LapsLed\": 0, \"PercentLapsLed\": 0.0, \"TotalLaps\": 198, \"DriverRating\": 42.0, \"Pts\": 9, \"Races\": 2}, {\"Driver\": \"Ross Chastain\", \"Car\": 1, \"StartPos\": 33, \"MidRace\": 16, \"CloserPos\": 31, \"FinishPos\": 29, \"HighPos\": 4, \"LowPos\": 33, \"AvgPos\": 20.5, \"PassDiff\": -8, \"GreenPass\": 72, \"GreenPassed\": 80, \"QualityPasses\": 22, \"PercentQualityPasses\": 30.56, \"NumFastestLaps\": 0, \"LapsTop15\": 68, \"PercentLapsTop15\": 34.0, \"LapsLed\": 0, \"PercentLapsLed\": 0.0, \"TotalLaps\": 198, \"DriverRating\": 49.5, \"Pts\": 8, \"Races\": 2}, {\"Driver\": \"Josh Bilicki\", \"Car\": 77, \"StartPos\": 28, \"MidRace\": 32, \"CloserPos\": 30, \"FinishPos\": 30, \"HighPos\": 21, \"LowPos\": 33, \"AvgPos\": 31.3, \"PassDiff\": -11, \"GreenPass\": 12, \"GreenPassed\": 23, \"QualityPasses\": 0, \"PercentQualityPasses\": 0.0, \"NumFastestLaps\": 0, \"LapsTop15\": 0, \"PercentLapsTop15\": 0.0, \"LapsLed\": 0, \"PercentLapsLed\": 0.0, \"TotalLaps\": 198, \"DriverRating\": 30.2, \"Pts\": 0, \"Races\": 1}, {\"Driver\": \"Michael McDowell\", \"Car\": 34, \"StartPos\": 23, \"MidRace\": 17, \"CloserPos\": 11, \"FinishPos\": 31, \"HighPos\": 9, \"LowPos\": 23, \"AvgPos\": 18.0, \"PassDiff\": -18, \"GreenPass\": 88, \"GreenPassed\": 106, \"QualityPasses\": 18, \"PercentQualityPasses\": 20.45, \"NumFastestLaps\": 0, \"LapsTop15\": 41, \"PercentLapsTop15\": 20.5, \"LapsLed\": 0, \"PercentLapsLed\": 0.0, \"TotalLaps\": 193, \"DriverRating\": 52.3, \"Pts\": 6, \"Races\": 2}, {\"Driver\": \"Cody Ware\", \"Car\": 51, \"StartPos\": 27, \"MidRace\": 36, \"CloserPos\": 32, \"FinishPos\": 32, \"HighPos\": 27, \"LowPos\": 36, \"AvgPos\": 34.6, \"PassDiff\": 1, \"GreenPass\": 7, \"GreenPassed\": 6, \"QualityPasses\": 0, \"PercentQualityPasses\": 0.0, \"NumFastestLaps\": 0, \"LapsTop15\": 0, \"PercentLapsTop15\": 0.0, \"LapsLed\": 0, \"PercentLapsLed\": 0.0, \"TotalLaps\": 187, \"DriverRating\": 26.0, \"Pts\": 5, \"Races\": 2}, {\"Driver\": \"Harrison Burton\", \"Car\": 21, \"StartPos\": 22, \"MidRace\": 20, \"CloserPos\": 33, \"FinishPos\": 33, \"HighPos\": 16, \"LowPos\": 30, \"AvgPos\": 24.3, \"PassDiff\": -19, \"GreenPass\": 83, \"GreenPassed\": 102, \"QualityPasses\": 0, \"PercentQualityPasses\": 0.0, \"NumFastestLaps\": 0, \"LapsTop15\": 0, \"PercentLapsTop15\": 0.0, \"LapsLed\": 0, \"PercentLapsLed\": 0.0, \"TotalLaps\": 157, \"DriverRating\": 42.7, \"Pts\": 4, \"Races\": 2}, {\"Driver\": \"William Byron\", \"Car\": 24, \"StartPos\": 10, \"MidRace\": 1, \"CloserPos\": 34, \"FinishPos\": 34, \"HighPos\": 1, \"LowPos\": 17, \"AvgPos\": 11.9, \"PassDiff\": 19, \"GreenPass\": 46, \"GreenPassed\": 27, \"QualityPasses\": 44, \"PercentQualityPasses\": 95.65, \"NumFastestLaps\": 6, \"LapsTop15\": 148, \"PercentLapsTop15\": 74.0, \"LapsLed\": 16, \"PercentLapsLed\": 10.6, \"TotalLaps\": 151, \"DriverRating\": 97.3, \"Pts\": 13, \"Races\": 2}, {\"Driver\": \"Chris Buescher\", \"Car\": 17, \"StartPos\": 20, \"MidRace\": 14, \"CloserPos\": 35, \"FinishPos\": 35, \"HighPos\": 8, \"LowPos\": 31, \"AvgPos\": 24.2, \"PassDiff\": 1, \"GreenPass\": 52, \"GreenPassed\": 51, \"QualityPasses\": 27, \"PercentQualityPasses\": 51.92, \"NumFastestLaps\": 0, \"LapsTop15\": 62, \"PercentLapsTop15\": 31.0, \"LapsLed\": 0, \"PercentLapsLed\": 0.0, \"TotalLaps\": 111, \"DriverRating\": 56.3, \"Pts\": 2, \"Races\": 2}, {\"Driver\": \"Christopher Bell\", \"Car\": 20, \"StartPos\": 19, \"MidRace\": 35, \"CloserPos\": 36, \"FinishPos\": 36, \"HighPos\": 11, \"LowPos\": 35, \"AvgPos\": 27.9, \"PassDiff\": 8, \"GreenPass\": 34, \"GreenPassed\": 26, \"QualityPasses\": 21, \"PercentQualityPasses\": 61.76, \"NumFastestLaps\": 1, \"LapsTop15\": 48, \"PercentLapsTop15\": 24.0, \"LapsLed\": 0, \"PercentLapsLed\": 0.0, \"TotalLaps\": 94, \"DriverRating\": 41.9, \"Pts\": 1, \"Races\": 2}]}}, {\"actions\": false, \"mode\": \"vega-lite\"});\n</script>",
      "text/plain": "alt.Chart(...)"
     },
     "metadata": {}
    }
   ]
  },
  {
   "cell_type": "code",
   "metadata": {
    "cell_id": "00004-9fd7e3b9-e96e-4cf0-9d92-400bb878d699",
    "deepnote_cell_type": "code",
    "deepnote_cell_height": 791
   },
   "source": "daytona1 = daytona1.rename(columns = one_race_cols, errors = \"raise\")\nautoclub = autoclub.rename(columns = one_race_cols_2, errors = \"raise\")\nautoclub = autoclub.drop(['CloserPos', 'HighPos', 'LowPos'], axis = 1)\nprint(daytona1.head())\nprint(autoclub.head())\nprint(daytona1.columns == autoclub.columns)",
   "execution_count": null,
   "outputs": [
    {
     "name": "stdout",
     "output_type": "stream",
     "text": "   Car #           Driver  Start  Mid Race  Finish  Average Position  \\\n0      2   Austin Cindric    5.0       2.0     1.0               6.2   \n1      6  Brad Keselowski    3.0       5.0     9.0               4.8   \n2     19  Martin Truex Jr   14.0      18.0    13.0              11.9   \n3     23    Bubba Wallace   16.0      19.0     2.0              10.2   \n4     14    Chase Briscoe    9.0      10.0     3.0              18.3   \n\n   Pass Differential  Green Passes  Green Passed  Quality Passes  \\\n0                -13           168           181             125   \n1                  1           171           170             148   \n2                 25           258           233             192   \n3                 16           253           237             191   \n4                 17           209           192              70   \n\n   % Quality Passes  # Fastest Laps  Laps in Top 15  % Laps in Top 15  \\\n0              74.4               0             176              87.6   \n1              86.5               4             198              98.5   \n2              74.4               4             143              71.1   \n3              75.5               7             145              72.1   \n4              33.5               6              88              43.8   \n\n   Laps Led  % Laps Led  Total Laps  Driver Rating  Points  Races  \n0        21        10.4         201          122.4      54      1  \n1        67        33.3         201          121.3      54      1  \n2        11         5.5         201           94.0      49      1  \n3        12         6.0         201          104.7      47      1  \n4         0         0.0         201           75.0      41      1  \n          Driver  Car #  Start  Mid Race  Finish  Average Position  \\\n0    Kyle Larson      5     13         3       1               7.1   \n1  Austin Dillon      3     16        12       2              15.6   \n2     Erik Jones     43      2         7       3               4.3   \n3  Daniel Suarez     99     15        26       4              14.5   \n4    Joey Logano     22      7         4       5               5.4   \n\n   Pass Differential  Green Passes  Green Passed  Quality Passes  \\\n0                 24            83            59              63   \n1                -22            97           119              52   \n2                 13            72            59              64   \n3                 -3            96            99              54   \n4                 32            87            55              66   \n\n   % Quality Passes  # Fastest Laps  Laps in Top 15  % Laps in Top 15  \\\n0             75.90              16             183              91.5   \n1             53.61               3             118              59.0   \n2             88.89              23             200             100.0   \n3             56.25               0             115              57.5   \n4             75.86               5             198              99.0   \n\n   Laps Led  % Laps Led  Total Laps  Driver Rating  Points  Races  \n0        28        14.0         200          116.3      52      2  \n1         0         0.0         200           82.9      35      2  \n2        18         9.0         200          122.7      52      2  \n3         0         0.0         200           86.2      33      2  \n4        14         7.0         200          110.3      44      2  \n[False False  True  True  True  True  True  True  True  True  True  True\n  True  True  True  True  True  True  True  True]\n"
    }
   ]
  },
  {
   "cell_type": "code",
   "metadata": {
    "cell_id": "00005-a8d96393-9df9-43d4-8eb2-7e08775a4f85",
    "deepnote_cell_type": "code",
    "deepnote_cell_height": 192
   },
   "source": "def add_cols(df, track = \"\", racenum = 0):\n    df[\"Points Eligible\"] = [1 if row > 0 else 0 for row in df[\"Points\"]]\n    df[\"Team\"] = df[\"Driver\"].map(teams)\n    df[\"Make\"] = df[\"Team\"].map(makes)\n    df[\"Race #\"] = racenum\n    df[\"Track\"] = track\n    df[\"Track Type\"] = df[\"Track\"].map(track_types)\n    df[\"Quality Passes Per Lap\"] = round(df[\"Quality Passes\"] / df[\"Total Laps\"], 3)",
   "execution_count": null,
   "outputs": []
  },
  {
   "cell_type": "code",
   "metadata": {
    "scrolled": true,
    "cell_id": "00006-a721d9c7-574f-419a-968d-01140ccd2b36",
    "deepnote_cell_type": "code",
    "deepnote_cell_height": 722,
    "deepnote_output_heights": [
     607
    ]
   },
   "source": "add_cols(daytona1, \"Daytona\", 1)\ndaytona1",
   "execution_count": null,
   "outputs": [
    {
     "data": {
      "text/html": "<div>\n<style scoped>\n    .dataframe tbody tr th:only-of-type {\n        vertical-align: middle;\n    }\n\n    .dataframe tbody tr th {\n        vertical-align: top;\n    }\n\n    .dataframe thead th {\n        text-align: right;\n    }\n</style>\n<table border=\"1\" class=\"dataframe\">\n  <thead>\n    <tr style=\"text-align: right;\">\n      <th></th>\n      <th>Car #</th>\n      <th>Driver</th>\n      <th>Start</th>\n      <th>Mid Race</th>\n      <th>Finish</th>\n      <th>Average Position</th>\n      <th>Pass Differential</th>\n      <th>Green Passes</th>\n      <th>Green Passed</th>\n      <th>Quality Passes</th>\n      <th>% Quality Passes</th>\n      <th># Fastest Laps</th>\n      <th>Laps in Top 15</th>\n      <th>% Laps in Top 15</th>\n      <th>Laps Led</th>\n      <th>% Laps Led</th>\n      <th>Total Laps</th>\n      <th>Driver Rating</th>\n      <th>Points</th>\n      <th>Races</th>\n      <th>Points Eligible</th>\n      <th>Team</th>\n      <th>Make</th>\n      <th>Race #</th>\n      <th>Track</th>\n      <th>Track Type</th>\n      <th>Quality Passes Per Lap</th>\n    </tr>\n  </thead>\n  <tbody>\n    <tr>\n      <th>0</th>\n      <td>2</td>\n      <td>Austin Cindric</td>\n      <td>5.0</td>\n      <td>2.0</td>\n      <td>1.0</td>\n      <td>6.2</td>\n      <td>-13</td>\n      <td>168</td>\n      <td>181</td>\n      <td>125</td>\n      <td>74.4</td>\n      <td>0</td>\n      <td>176</td>\n      <td>87.6</td>\n      <td>21</td>\n      <td>10.4</td>\n      <td>201</td>\n      <td>122.4</td>\n      <td>54</td>\n      <td>1</td>\n      <td>1</td>\n      <td>Penske</td>\n      <td>Ford</td>\n      <td>1</td>\n      <td>Daytona</td>\n      <td>Superspeedway</td>\n      <td>0.622</td>\n    </tr>\n    <tr>\n      <th>1</th>\n      <td>6</td>\n      <td>Brad Keselowski</td>\n      <td>3.0</td>\n      <td>5.0</td>\n      <td>9.0</td>\n      <td>4.8</td>\n      <td>1</td>\n      <td>171</td>\n      <td>170</td>\n      <td>148</td>\n      <td>86.5</td>\n      <td>4</td>\n      <td>198</td>\n      <td>98.5</td>\n      <td>67</td>\n      <td>33.3</td>\n      <td>201</td>\n      <td>121.3</td>\n      <td>54</td>\n      <td>1</td>\n      <td>1</td>\n      <td>RFK</td>\n      <td>Ford</td>\n      <td>1</td>\n      <td>Daytona</td>\n      <td>Superspeedway</td>\n      <td>0.736</td>\n    </tr>\n    <tr>\n      <th>2</th>\n      <td>19</td>\n      <td>Martin Truex Jr</td>\n      <td>14.0</td>\n      <td>18.0</td>\n      <td>13.0</td>\n      <td>11.9</td>\n      <td>25</td>\n      <td>258</td>\n      <td>233</td>\n      <td>192</td>\n      <td>74.4</td>\n      <td>4</td>\n      <td>143</td>\n      <td>71.1</td>\n      <td>11</td>\n      <td>5.5</td>\n      <td>201</td>\n      <td>94.0</td>\n      <td>49</td>\n      <td>1</td>\n      <td>1</td>\n      <td>NaN</td>\n      <td>NaN</td>\n      <td>1</td>\n      <td>Daytona</td>\n      <td>Superspeedway</td>\n      <td>0.955</td>\n    </tr>\n    <tr>\n      <th>3</th>\n      <td>23</td>\n      <td>Bubba Wallace</td>\n      <td>16.0</td>\n      <td>19.0</td>\n      <td>2.0</td>\n      <td>10.2</td>\n      <td>16</td>\n      <td>253</td>\n      <td>237</td>\n      <td>191</td>\n      <td>75.5</td>\n      <td>7</td>\n      <td>145</td>\n      <td>72.1</td>\n      <td>12</td>\n      <td>6.0</td>\n      <td>201</td>\n      <td>104.7</td>\n      <td>47</td>\n      <td>1</td>\n      <td>1</td>\n      <td>23X1</td>\n      <td>Toyota</td>\n      <td>1</td>\n      <td>Daytona</td>\n      <td>Superspeedway</td>\n      <td>0.950</td>\n    </tr>\n    <tr>\n      <th>4</th>\n      <td>14</td>\n      <td>Chase Briscoe</td>\n      <td>9.0</td>\n      <td>10.0</td>\n      <td>3.0</td>\n      <td>18.3</td>\n      <td>17</td>\n      <td>209</td>\n      <td>192</td>\n      <td>70</td>\n      <td>33.5</td>\n      <td>6</td>\n      <td>88</td>\n      <td>43.8</td>\n      <td>0</td>\n      <td>0.0</td>\n      <td>201</td>\n      <td>75.0</td>\n      <td>41</td>\n      <td>1</td>\n      <td>1</td>\n      <td>SHR</td>\n      <td>Ford</td>\n      <td>1</td>\n      <td>Daytona</td>\n      <td>Superspeedway</td>\n      <td>0.348</td>\n    </tr>\n    <tr>\n      <th>5</th>\n      <td>12</td>\n      <td>Ryan Blaney</td>\n      <td>7.0</td>\n      <td>1.0</td>\n      <td>4.0</td>\n      <td>8.3</td>\n      <td>-18</td>\n      <td>163</td>\n      <td>181</td>\n      <td>134</td>\n      <td>82.2</td>\n      <td>3</td>\n      <td>175</td>\n      <td>87.1</td>\n      <td>36</td>\n      <td>17.9</td>\n      <td>201</td>\n      <td>107.5</td>\n      <td>41</td>\n      <td>1</td>\n      <td>1</td>\n      <td>Penske</td>\n      <td>Ford</td>\n      <td>1</td>\n      <td>Daytona</td>\n      <td>Superspeedway</td>\n      <td>0.667</td>\n    </tr>\n    <tr>\n      <th>6</th>\n      <td>34</td>\n      <td>Michael McDowell</td>\n      <td>6.0</td>\n      <td>8.0</td>\n      <td>7.0</td>\n      <td>11.9</td>\n      <td>-19</td>\n      <td>222</td>\n      <td>241</td>\n      <td>160</td>\n      <td>72.1</td>\n      <td>2</td>\n      <td>144</td>\n      <td>71.6</td>\n      <td>0</td>\n      <td>0.0</td>\n      <td>201</td>\n      <td>93.6</td>\n      <td>39</td>\n      <td>1</td>\n      <td>1</td>\n      <td>FRM</td>\n      <td>Ford</td>\n      <td>1</td>\n      <td>Daytona</td>\n      <td>Superspeedway</td>\n      <td>0.796</td>\n    </tr>\n    <tr>\n      <th>7</th>\n      <td>18</td>\n      <td>Kyle Busch</td>\n      <td>10.0</td>\n      <td>20.0</td>\n      <td>6.0</td>\n      <td>11.4</td>\n      <td>9</td>\n      <td>255</td>\n      <td>246</td>\n      <td>182</td>\n      <td>71.4</td>\n      <td>5</td>\n      <td>125</td>\n      <td>62.2</td>\n      <td>28</td>\n      <td>13.9</td>\n      <td>201</td>\n      <td>101.4</td>\n      <td>38</td>\n      <td>1</td>\n      <td>1</td>\n      <td>JGR</td>\n      <td>Toyota</td>\n      <td>1</td>\n      <td>Daytona</td>\n      <td>Superspeedway</td>\n      <td>0.905</td>\n    </tr>\n    <tr>\n      <th>8</th>\n      <td>17</td>\n      <td>Chris Buescher</td>\n      <td>4.0</td>\n      <td>3.0</td>\n      <td>16.0</td>\n      <td>7.9</td>\n      <td>-13</td>\n      <td>161</td>\n      <td>174</td>\n      <td>136</td>\n      <td>84.5</td>\n      <td>1</td>\n      <td>173</td>\n      <td>86.1</td>\n      <td>0</td>\n      <td>0.0</td>\n      <td>200</td>\n      <td>97.4</td>\n      <td>35</td>\n      <td>1</td>\n      <td>1</td>\n      <td>RFK</td>\n      <td>Ford</td>\n      <td>1</td>\n      <td>Daytona</td>\n      <td>Superspeedway</td>\n      <td>0.680</td>\n    </tr>\n    <tr>\n      <th>9</th>\n      <td>9</td>\n      <td>Chase Elliott</td>\n      <td>11.0</td>\n      <td>23.0</td>\n      <td>10.0</td>\n      <td>16.1</td>\n      <td>-2</td>\n      <td>249</td>\n      <td>251</td>\n      <td>131</td>\n      <td>52.6</td>\n      <td>6</td>\n      <td>93</td>\n      <td>46.3</td>\n      <td>0</td>\n      <td>0.0</td>\n      <td>201</td>\n      <td>72.5</td>\n      <td>34</td>\n      <td>1</td>\n      <td>1</td>\n      <td>Hendrick</td>\n      <td>Chevy</td>\n      <td>1</td>\n      <td>Daytona</td>\n      <td>Superspeedway</td>\n      <td>0.652</td>\n    </tr>\n    <tr>\n      <th>10</th>\n      <td>22</td>\n      <td>Joey Logano</td>\n      <td>20.0</td>\n      <td>12.0</td>\n      <td>21.0</td>\n      <td>17.7</td>\n      <td>50</td>\n      <td>244</td>\n      <td>194</td>\n      <td>79</td>\n      <td>32.4</td>\n      <td>8</td>\n      <td>80</td>\n      <td>39.8</td>\n      <td>1</td>\n      <td>0.5</td>\n      <td>198</td>\n      <td>83.6</td>\n      <td>33</td>\n      <td>1</td>\n      <td>1</td>\n      <td>Penske</td>\n      <td>Ford</td>\n      <td>1</td>\n      <td>Daytona</td>\n      <td>Superspeedway</td>\n      <td>0.399</td>\n    </tr>\n    <tr>\n      <th>11</th>\n      <td>10</td>\n      <td>Aric Almirola</td>\n      <td>38.0</td>\n      <td>11.0</td>\n      <td>5.0</td>\n      <td>15.9</td>\n      <td>8</td>\n      <td>244</td>\n      <td>236</td>\n      <td>97</td>\n      <td>39.8</td>\n      <td>4</td>\n      <td>104</td>\n      <td>51.7</td>\n      <td>0</td>\n      <td>0.0</td>\n      <td>201</td>\n      <td>80.3</td>\n      <td>32</td>\n      <td>1</td>\n      <td>1</td>\n      <td>SHR</td>\n      <td>Ford</td>\n      <td>1</td>\n      <td>Daytona</td>\n      <td>Superspeedway</td>\n      <td>0.483</td>\n    </tr>\n    <tr>\n      <th>12</th>\n      <td>15</td>\n      <td>David Ragan</td>\n      <td>34.0</td>\n      <td>29.0</td>\n      <td>8.0</td>\n      <td>25.2</td>\n      <td>-9</td>\n      <td>110</td>\n      <td>119</td>\n      <td>8</td>\n      <td>7.3</td>\n      <td>6</td>\n      <td>18</td>\n      <td>9.0</td>\n      <td>0</td>\n      <td>0.0</td>\n      <td>201</td>\n      <td>63.7</td>\n      <td>29</td>\n      <td>1</td>\n      <td>1</td>\n      <td>RWR</td>\n      <td>Ford</td>\n      <td>1</td>\n      <td>Daytona</td>\n      <td>Superspeedway</td>\n      <td>0.040</td>\n    </tr>\n    <tr>\n      <th>13</th>\n      <td>42</td>\n      <td>Ty Dillon</td>\n      <td>26.0</td>\n      <td>9.0</td>\n      <td>11.0</td>\n      <td>16.3</td>\n      <td>-20</td>\n      <td>210</td>\n      <td>230</td>\n      <td>62</td>\n      <td>29.5</td>\n      <td>3</td>\n      <td>102</td>\n      <td>50.7</td>\n      <td>0</td>\n      <td>0.0</td>\n      <td>201</td>\n      <td>77.7</td>\n      <td>26</td>\n      <td>1</td>\n      <td>1</td>\n      <td>PGMS</td>\n      <td>Chevy</td>\n      <td>1</td>\n      <td>Daytona</td>\n      <td>Superspeedway</td>\n      <td>0.308</td>\n    </tr>\n    <tr>\n      <th>14</th>\n      <td>47</td>\n      <td>Ricky Stenhouse Jr</td>\n      <td>18.0</td>\n      <td>15.0</td>\n      <td>28.0</td>\n      <td>11.3</td>\n      <td>18</td>\n      <td>248</td>\n      <td>230</td>\n      <td>192</td>\n      <td>77.4</td>\n      <td>6</td>\n      <td>153</td>\n      <td>76.1</td>\n      <td>16</td>\n      <td>8.0</td>\n      <td>194</td>\n      <td>93.9</td>\n      <td>25</td>\n      <td>1</td>\n      <td>1</td>\n      <td>NaN</td>\n      <td>NaN</td>\n      <td>1</td>\n      <td>Daytona</td>\n      <td>Superspeedway</td>\n      <td>0.990</td>\n    </tr>\n    <tr>\n      <th>15</th>\n      <td>45</td>\n      <td>Kurt Busch</td>\n      <td>17.0</td>\n      <td>21.0</td>\n      <td>19.0</td>\n      <td>17.6</td>\n      <td>21</td>\n      <td>201</td>\n      <td>180</td>\n      <td>116</td>\n      <td>57.7</td>\n      <td>11</td>\n      <td>80</td>\n      <td>39.8</td>\n      <td>0</td>\n      <td>0.0</td>\n      <td>199</td>\n      <td>74.6</td>\n      <td>24</td>\n      <td>1</td>\n      <td>1</td>\n      <td>23X1</td>\n      <td>Toyota</td>\n      <td>1</td>\n      <td>Daytona</td>\n      <td>Superspeedway</td>\n      <td>0.583</td>\n    </tr>\n    <tr>\n      <th>16</th>\n      <td>7</td>\n      <td>Corey Lajoie</td>\n      <td>24.0</td>\n      <td>25.0</td>\n      <td>14.0</td>\n      <td>25.2</td>\n      <td>-4</td>\n      <td>92</td>\n      <td>96</td>\n      <td>0</td>\n      <td>0.0</td>\n      <td>2</td>\n      <td>7</td>\n      <td>3.5</td>\n      <td>0</td>\n      <td>0.0</td>\n      <td>201</td>\n      <td>57.2</td>\n      <td>23</td>\n      <td>1</td>\n      <td>1</td>\n      <td>NaN</td>\n      <td>NaN</td>\n      <td>1</td>\n      <td>Daytona</td>\n      <td>Superspeedway</td>\n      <td>0.000</td>\n    </tr>\n    <tr>\n      <th>17</th>\n      <td>51</td>\n      <td>Cody Ware</td>\n      <td>32.0</td>\n      <td>28.0</td>\n      <td>17.0</td>\n      <td>27.1</td>\n      <td>-22</td>\n      <td>57</td>\n      <td>79</td>\n      <td>0</td>\n      <td>0.0</td>\n      <td>4</td>\n      <td>0</td>\n      <td>0.0</td>\n      <td>0</td>\n      <td>0.0</td>\n      <td>200</td>\n      <td>48.6</td>\n      <td>20</td>\n      <td>1</td>\n      <td>1</td>\n      <td>RWR</td>\n      <td>Ford</td>\n      <td>1</td>\n      <td>Daytona</td>\n      <td>Superspeedway</td>\n      <td>0.000</td>\n    </tr>\n    <tr>\n      <th>18</th>\n      <td>99</td>\n      <td>Daniel Suarez</td>\n      <td>21.0</td>\n      <td>22.0</td>\n      <td>18.0</td>\n      <td>21.3</td>\n      <td>-27</td>\n      <td>156</td>\n      <td>183</td>\n      <td>65</td>\n      <td>41.7</td>\n      <td>4</td>\n      <td>30</td>\n      <td>14.9</td>\n      <td>0</td>\n      <td>0.0</td>\n      <td>199</td>\n      <td>59.0</td>\n      <td>19</td>\n      <td>1</td>\n      <td>1</td>\n      <td>NaN</td>\n      <td>NaN</td>\n      <td>1</td>\n      <td>Daytona</td>\n      <td>Superspeedway</td>\n      <td>0.327</td>\n    </tr>\n    <tr>\n      <th>19</th>\n      <td>41</td>\n      <td>Cole Custer</td>\n      <td>31.0</td>\n      <td>7.0</td>\n      <td>20.0</td>\n      <td>22.3</td>\n      <td>-17</td>\n      <td>127</td>\n      <td>144</td>\n      <td>22</td>\n      <td>17.3</td>\n      <td>3</td>\n      <td>47</td>\n      <td>23.4</td>\n      <td>0</td>\n      <td>0.0</td>\n      <td>199</td>\n      <td>55.2</td>\n      <td>17</td>\n      <td>1</td>\n      <td>1</td>\n      <td>SHR</td>\n      <td>Ford</td>\n      <td>1</td>\n      <td>Daytona</td>\n      <td>Superspeedway</td>\n      <td>0.111</td>\n    </tr>\n    <tr>\n      <th>20</th>\n      <td>3</td>\n      <td>Austin Dillon</td>\n      <td>36.0</td>\n      <td>26.0</td>\n      <td>25.0</td>\n      <td>27.1</td>\n      <td>7</td>\n      <td>139</td>\n      <td>132</td>\n      <td>14</td>\n      <td>10.1</td>\n      <td>3</td>\n      <td>10</td>\n      <td>5.0</td>\n      <td>1</td>\n      <td>0.5</td>\n      <td>197</td>\n      <td>43.0</td>\n      <td>17</td>\n      <td>1</td>\n      <td>1</td>\n      <td>RCR</td>\n      <td>Chevy</td>\n      <td>1</td>\n      <td>Daytona</td>\n      <td>Superspeedway</td>\n      <td>0.071</td>\n    </tr>\n    <tr>\n      <th>21</th>\n      <td>43</td>\n      <td>Erik Jones</td>\n      <td>13.0</td>\n      <td>17.0</td>\n      <td>29.0</td>\n      <td>12.1</td>\n      <td>-21</td>\n      <td>216</td>\n      <td>237</td>\n      <td>138</td>\n      <td>63.9</td>\n      <td>6</td>\n      <td>125</td>\n      <td>62.2</td>\n      <td>3</td>\n      <td>1.5</td>\n      <td>191</td>\n      <td>81.0</td>\n      <td>16</td>\n      <td>1</td>\n      <td>1</td>\n      <td>PGMS</td>\n      <td>Chevy</td>\n      <td>1</td>\n      <td>Daytona</td>\n      <td>Superspeedway</td>\n      <td>0.723</td>\n    </tr>\n    <tr>\n      <th>22</th>\n      <td>27</td>\n      <td>Jacques Villeneuve</td>\n      <td>40.0</td>\n      <td>30.0</td>\n      <td>22.0</td>\n      <td>29.5</td>\n      <td>-5</td>\n      <td>50</td>\n      <td>55</td>\n      <td>0</td>\n      <td>0.0</td>\n      <td>6</td>\n      <td>2</td>\n      <td>1.0</td>\n      <td>0</td>\n      <td>0.0</td>\n      <td>198</td>\n      <td>42.7</td>\n      <td>15</td>\n      <td>1</td>\n      <td>1</td>\n      <td>Hezeberg</td>\n      <td>Ford</td>\n      <td>1</td>\n      <td>Daytona</td>\n      <td>Superspeedway</td>\n      <td>0.000</td>\n    </tr>\n    <tr>\n      <th>23</th>\n      <td>31</td>\n      <td>Justin Haley</td>\n      <td>25.0</td>\n      <td>31.0</td>\n      <td>23.0</td>\n      <td>30.8</td>\n      <td>-5</td>\n      <td>67</td>\n      <td>72</td>\n      <td>4</td>\n      <td>6.0</td>\n      <td>2</td>\n      <td>2</td>\n      <td>1.0</td>\n      <td>0</td>\n      <td>0.0</td>\n      <td>198</td>\n      <td>41.4</td>\n      <td>14</td>\n      <td>1</td>\n      <td>1</td>\n      <td>Kaulig</td>\n      <td>Chevy</td>\n      <td>1</td>\n      <td>Daytona</td>\n      <td>Superspeedway</td>\n      <td>0.020</td>\n    </tr>\n    <tr>\n      <th>24</th>\n      <td>48</td>\n      <td>Alex Bowman</td>\n      <td>2.0</td>\n      <td>34.0</td>\n      <td>24.0</td>\n      <td>27.1</td>\n      <td>-5</td>\n      <td>132</td>\n      <td>137</td>\n      <td>73</td>\n      <td>55.3</td>\n      <td>6</td>\n      <td>34</td>\n      <td>16.9</td>\n      <td>0</td>\n      <td>0.0</td>\n      <td>197</td>\n      <td>65.8</td>\n      <td>13</td>\n      <td>1</td>\n      <td>1</td>\n      <td>Hendrick</td>\n      <td>Chevy</td>\n      <td>1</td>\n      <td>Daytona</td>\n      <td>Superspeedway</td>\n      <td>0.371</td>\n    </tr>\n    <tr>\n      <th>25</th>\n      <td>5</td>\n      <td>Kyle Larson</td>\n      <td>1.0</td>\n      <td>13.0</td>\n      <td>32.0</td>\n      <td>13.0</td>\n      <td>-13</td>\n      <td>261</td>\n      <td>274</td>\n      <td>184</td>\n      <td>70.5</td>\n      <td>7</td>\n      <td>149</td>\n      <td>74.1</td>\n      <td>1</td>\n      <td>0.5</td>\n      <td>190</td>\n      <td>81.2</td>\n      <td>13</td>\n      <td>1</td>\n      <td>1</td>\n      <td>Hendrick</td>\n      <td>Chevy</td>\n      <td>1</td>\n      <td>Daytona</td>\n      <td>Superspeedway</td>\n      <td>0.968</td>\n    </tr>\n    <tr>\n      <th>26</th>\n      <td>38</td>\n      <td>Todd Gilliland</td>\n      <td>29.0</td>\n      <td>6.0</td>\n      <td>33.0</td>\n      <td>14.0</td>\n      <td>7</td>\n      <td>227</td>\n      <td>220</td>\n      <td>120</td>\n      <td>52.9</td>\n      <td>2</td>\n      <td>134</td>\n      <td>66.7</td>\n      <td>0</td>\n      <td>0.0</td>\n      <td>190</td>\n      <td>69.9</td>\n      <td>13</td>\n      <td>1</td>\n      <td>1</td>\n      <td>FRM</td>\n      <td>Ford</td>\n      <td>1</td>\n      <td>Daytona</td>\n      <td>Superspeedway</td>\n      <td>0.632</td>\n    </tr>\n    <tr>\n      <th>27</th>\n      <td>4</td>\n      <td>Kevin Harvick</td>\n      <td>22.0</td>\n      <td>4.0</td>\n      <td>30.0</td>\n      <td>13.7</td>\n      <td>-30</td>\n      <td>212</td>\n      <td>242</td>\n      <td>96</td>\n      <td>45.3</td>\n      <td>3</td>\n      <td>123</td>\n      <td>61.2</td>\n      <td>0</td>\n      <td>0.0</td>\n      <td>191</td>\n      <td>72.8</td>\n      <td>11</td>\n      <td>1</td>\n      <td>1</td>\n      <td>SHR</td>\n      <td>Ford</td>\n      <td>1</td>\n      <td>Daytona</td>\n      <td>Superspeedway</td>\n      <td>0.503</td>\n    </tr>\n    <tr>\n      <th>28</th>\n      <td>78</td>\n      <td>BJ McLeod</td>\n      <td>37.0</td>\n      <td>32.0</td>\n      <td>27.0</td>\n      <td>32.3</td>\n      <td>-6</td>\n      <td>51</td>\n      <td>57</td>\n      <td>0</td>\n      <td>0.0</td>\n      <td>2</td>\n      <td>2</td>\n      <td>1.0</td>\n      <td>0</td>\n      <td>0.0</td>\n      <td>196</td>\n      <td>35.7</td>\n      <td>10</td>\n      <td>1</td>\n      <td>1</td>\n      <td>LFM</td>\n      <td>Ford</td>\n      <td>1</td>\n      <td>Daytona</td>\n      <td>Superspeedway</td>\n      <td>0.000</td>\n    </tr>\n    <tr>\n      <th>29</th>\n      <td>20</td>\n      <td>Christopher Bell</td>\n      <td>12.0</td>\n      <td>35.0</td>\n      <td>34.0</td>\n      <td>25.9</td>\n      <td>4</td>\n      <td>105</td>\n      <td>101</td>\n      <td>102</td>\n      <td>97.1</td>\n      <td>0</td>\n      <td>62</td>\n      <td>30.8</td>\n      <td>0</td>\n      <td>0.0</td>\n      <td>152</td>\n      <td>71.3</td>\n      <td>9</td>\n      <td>1</td>\n      <td>1</td>\n      <td>JGR</td>\n      <td>Toyota</td>\n      <td>1</td>\n      <td>Daytona</td>\n      <td>Superspeedway</td>\n      <td>0.671</td>\n    </tr>\n    <tr>\n      <th>30</th>\n      <td>21</td>\n      <td>Harrison Burton</td>\n      <td>8.0</td>\n      <td>38.0</td>\n      <td>39.0</td>\n      <td>30.3</td>\n      <td>2</td>\n      <td>130</td>\n      <td>128</td>\n      <td>68</td>\n      <td>52.3</td>\n      <td>1</td>\n      <td>38</td>\n      <td>18.9</td>\n      <td>3</td>\n      <td>1.5</td>\n      <td>62</td>\n      <td>50.9</td>\n      <td>9</td>\n      <td>1</td>\n      <td>1</td>\n      <td>WBR</td>\n      <td>Ford</td>\n      <td>1</td>\n      <td>Daytona</td>\n      <td>Superspeedway</td>\n      <td>1.097</td>\n    </tr>\n    <tr>\n      <th>31</th>\n      <td>8</td>\n      <td>Tyler Reddick</td>\n      <td>15.0</td>\n      <td>16.0</td>\n      <td>35.0</td>\n      <td>21.5</td>\n      <td>4</td>\n      <td>181</td>\n      <td>177</td>\n      <td>70</td>\n      <td>38.7</td>\n      <td>4</td>\n      <td>56</td>\n      <td>27.9</td>\n      <td>0</td>\n      <td>0.0</td>\n      <td>151</td>\n      <td>54.4</td>\n      <td>5</td>\n      <td>1</td>\n      <td>1</td>\n      <td>RCR</td>\n      <td>Chevy</td>\n      <td>1</td>\n      <td>Daytona</td>\n      <td>Superspeedway</td>\n      <td>0.464</td>\n    </tr>\n    <tr>\n      <th>32</th>\n      <td>1</td>\n      <td>Ross Chastain</td>\n      <td>19.0</td>\n      <td>39.0</td>\n      <td>40.0</td>\n      <td>32.4</td>\n      <td>2</td>\n      <td>145</td>\n      <td>143</td>\n      <td>56</td>\n      <td>38.6</td>\n      <td>3</td>\n      <td>27</td>\n      <td>13.4</td>\n      <td>0</td>\n      <td>0.0</td>\n      <td>62</td>\n      <td>41.9</td>\n      <td>2</td>\n      <td>1</td>\n      <td>1</td>\n      <td>Trackhouse</td>\n      <td>Chevy</td>\n      <td>1</td>\n      <td>Daytona</td>\n      <td>Superspeedway</td>\n      <td>0.903</td>\n    </tr>\n    <tr>\n      <th>33</th>\n      <td>11</td>\n      <td>Denny Hamlin</td>\n      <td>30.0</td>\n      <td>36.0</td>\n      <td>37.0</td>\n      <td>28.6</td>\n      <td>21</td>\n      <td>121</td>\n      <td>100</td>\n      <td>59</td>\n      <td>48.8</td>\n      <td>1</td>\n      <td>39</td>\n      <td>19.4</td>\n      <td>0</td>\n      <td>0.0</td>\n      <td>63</td>\n      <td>54.5</td>\n      <td>1</td>\n      <td>1</td>\n      <td>1</td>\n      <td>JGR</td>\n      <td>Toyota</td>\n      <td>1</td>\n      <td>Daytona</td>\n      <td>Superspeedway</td>\n      <td>0.937</td>\n    </tr>\n    <tr>\n      <th>34</th>\n      <td>24</td>\n      <td>William Byron</td>\n      <td>23.0</td>\n      <td>37.0</td>\n      <td>38.0</td>\n      <td>30.3</td>\n      <td>17</td>\n      <td>141</td>\n      <td>124</td>\n      <td>44</td>\n      <td>31.2</td>\n      <td>5</td>\n      <td>29</td>\n      <td>14.4</td>\n      <td>1</td>\n      <td>0.5</td>\n      <td>62</td>\n      <td>46.4</td>\n      <td>1</td>\n      <td>1</td>\n      <td>1</td>\n      <td>Hendrick</td>\n      <td>Chevy</td>\n      <td>1</td>\n      <td>Daytona</td>\n      <td>Superspeedway</td>\n      <td>0.710</td>\n    </tr>\n    <tr>\n      <th>35</th>\n      <td>16</td>\n      <td>Daniel Hemric</td>\n      <td>33.0</td>\n      <td>24.0</td>\n      <td>12.0</td>\n      <td>26.4</td>\n      <td>-2</td>\n      <td>96</td>\n      <td>98</td>\n      <td>28</td>\n      <td>29.2</td>\n      <td>7</td>\n      <td>20</td>\n      <td>10.0</td>\n      <td>0</td>\n      <td>0.0</td>\n      <td>201</td>\n      <td>60.6</td>\n      <td>0</td>\n      <td>1</td>\n      <td>0</td>\n      <td>Kaulig</td>\n      <td>Chevy</td>\n      <td>1</td>\n      <td>Daytona</td>\n      <td>Superspeedway</td>\n      <td>0.139</td>\n    </tr>\n    <tr>\n      <th>36</th>\n      <td>77</td>\n      <td>Landon Cassill</td>\n      <td>27.0</td>\n      <td>27.0</td>\n      <td>15.0</td>\n      <td>28.1</td>\n      <td>-2</td>\n      <td>71</td>\n      <td>73</td>\n      <td>2</td>\n      <td>2.8</td>\n      <td>2</td>\n      <td>8</td>\n      <td>4.0</td>\n      <td>0</td>\n      <td>0.0</td>\n      <td>201</td>\n      <td>51.7</td>\n      <td>0</td>\n      <td>1</td>\n      <td>0</td>\n      <td>Spire</td>\n      <td>Chevy</td>\n      <td>1</td>\n      <td>Daytona</td>\n      <td>Superspeedway</td>\n      <td>0.010</td>\n    </tr>\n    <tr>\n      <th>37</th>\n      <td>50</td>\n      <td>Kaz Grala</td>\n      <td>35.0</td>\n      <td>33.0</td>\n      <td>26.0</td>\n      <td>33.4</td>\n      <td>-4</td>\n      <td>52</td>\n      <td>56</td>\n      <td>0</td>\n      <td>0.0</td>\n      <td>1</td>\n      <td>0</td>\n      <td>0.0</td>\n      <td>0</td>\n      <td>0.0</td>\n      <td>196</td>\n      <td>35.8</td>\n      <td>0</td>\n      <td>1</td>\n      <td>0</td>\n      <td>TMT</td>\n      <td>Chevy</td>\n      <td>1</td>\n      <td>Daytona</td>\n      <td>Superspeedway</td>\n      <td>0.000</td>\n    </tr>\n    <tr>\n      <th>38</th>\n      <td>62</td>\n      <td>Noah Gragson</td>\n      <td>39.0</td>\n      <td>14.0</td>\n      <td>31.0</td>\n      <td>18.9</td>\n      <td>43</td>\n      <td>228</td>\n      <td>185</td>\n      <td>45</td>\n      <td>19.7</td>\n      <td>4</td>\n      <td>74</td>\n      <td>36.8</td>\n      <td>0</td>\n      <td>0.0</td>\n      <td>190</td>\n      <td>52.8</td>\n      <td>0</td>\n      <td>1</td>\n      <td>0</td>\n      <td>Kaulig</td>\n      <td>Chevy</td>\n      <td>1</td>\n      <td>Daytona</td>\n      <td>Superspeedway</td>\n      <td>0.237</td>\n    </tr>\n    <tr>\n      <th>39</th>\n      <td>44</td>\n      <td>Greg Biffle</td>\n      <td>28.0</td>\n      <td>40.0</td>\n      <td>36.0</td>\n      <td>37.5</td>\n      <td>-11</td>\n      <td>39</td>\n      <td>50</td>\n      <td>0</td>\n      <td>0.0</td>\n      <td>1</td>\n      <td>0</td>\n      <td>0.0</td>\n      <td>0</td>\n      <td>0.0</td>\n      <td>136</td>\n      <td>27.5</td>\n      <td>0</td>\n      <td>1</td>\n      <td>0</td>\n      <td>NYR</td>\n      <td>Chevy</td>\n      <td>1</td>\n      <td>Daytona</td>\n      <td>Superspeedway</td>\n      <td>0.000</td>\n    </tr>\n  </tbody>\n</table>\n</div>",
      "text/plain": "    Car #              Driver  Start  Mid Race  Finish  Average Position  \\\n0       2      Austin Cindric    5.0       2.0     1.0               6.2   \n1       6     Brad Keselowski    3.0       5.0     9.0               4.8   \n2      19     Martin Truex Jr   14.0      18.0    13.0              11.9   \n3      23       Bubba Wallace   16.0      19.0     2.0              10.2   \n4      14       Chase Briscoe    9.0      10.0     3.0              18.3   \n5      12         Ryan Blaney    7.0       1.0     4.0               8.3   \n6      34    Michael McDowell    6.0       8.0     7.0              11.9   \n7      18          Kyle Busch   10.0      20.0     6.0              11.4   \n8      17      Chris Buescher    4.0       3.0    16.0               7.9   \n9       9       Chase Elliott   11.0      23.0    10.0              16.1   \n10     22         Joey Logano   20.0      12.0    21.0              17.7   \n11     10       Aric Almirola   38.0      11.0     5.0              15.9   \n12     15         David Ragan   34.0      29.0     8.0              25.2   \n13     42           Ty Dillon   26.0       9.0    11.0              16.3   \n14     47  Ricky Stenhouse Jr   18.0      15.0    28.0              11.3   \n15     45          Kurt Busch   17.0      21.0    19.0              17.6   \n16      7        Corey Lajoie   24.0      25.0    14.0              25.2   \n17     51           Cody Ware   32.0      28.0    17.0              27.1   \n18     99       Daniel Suarez   21.0      22.0    18.0              21.3   \n19     41         Cole Custer   31.0       7.0    20.0              22.3   \n20      3       Austin Dillon   36.0      26.0    25.0              27.1   \n21     43          Erik Jones   13.0      17.0    29.0              12.1   \n22     27  Jacques Villeneuve   40.0      30.0    22.0              29.5   \n23     31        Justin Haley   25.0      31.0    23.0              30.8   \n24     48         Alex Bowman    2.0      34.0    24.0              27.1   \n25      5         Kyle Larson    1.0      13.0    32.0              13.0   \n26     38      Todd Gilliland   29.0       6.0    33.0              14.0   \n27      4       Kevin Harvick   22.0       4.0    30.0              13.7   \n28     78           BJ McLeod   37.0      32.0    27.0              32.3   \n29     20    Christopher Bell   12.0      35.0    34.0              25.9   \n30     21     Harrison Burton    8.0      38.0    39.0              30.3   \n31      8       Tyler Reddick   15.0      16.0    35.0              21.5   \n32      1       Ross Chastain   19.0      39.0    40.0              32.4   \n33     11        Denny Hamlin   30.0      36.0    37.0              28.6   \n34     24       William Byron   23.0      37.0    38.0              30.3   \n35     16       Daniel Hemric   33.0      24.0    12.0              26.4   \n36     77      Landon Cassill   27.0      27.0    15.0              28.1   \n37     50           Kaz Grala   35.0      33.0    26.0              33.4   \n38     62        Noah Gragson   39.0      14.0    31.0              18.9   \n39     44         Greg Biffle   28.0      40.0    36.0              37.5   \n\n    Pass Differential  Green Passes  Green Passed  Quality Passes  \\\n0                 -13           168           181             125   \n1                   1           171           170             148   \n2                  25           258           233             192   \n3                  16           253           237             191   \n4                  17           209           192              70   \n5                 -18           163           181             134   \n6                 -19           222           241             160   \n7                   9           255           246             182   \n8                 -13           161           174             136   \n9                  -2           249           251             131   \n10                 50           244           194              79   \n11                  8           244           236              97   \n12                 -9           110           119               8   \n13                -20           210           230              62   \n14                 18           248           230             192   \n15                 21           201           180             116   \n16                 -4            92            96               0   \n17                -22            57            79               0   \n18                -27           156           183              65   \n19                -17           127           144              22   \n20                  7           139           132              14   \n21                -21           216           237             138   \n22                 -5            50            55               0   \n23                 -5            67            72               4   \n24                 -5           132           137              73   \n25                -13           261           274             184   \n26                  7           227           220             120   \n27                -30           212           242              96   \n28                 -6            51            57               0   \n29                  4           105           101             102   \n30                  2           130           128              68   \n31                  4           181           177              70   \n32                  2           145           143              56   \n33                 21           121           100              59   \n34                 17           141           124              44   \n35                 -2            96            98              28   \n36                 -2            71            73               2   \n37                 -4            52            56               0   \n38                 43           228           185              45   \n39                -11            39            50               0   \n\n    % Quality Passes  # Fastest Laps  Laps in Top 15  % Laps in Top 15  \\\n0               74.4               0             176              87.6   \n1               86.5               4             198              98.5   \n2               74.4               4             143              71.1   \n3               75.5               7             145              72.1   \n4               33.5               6              88              43.8   \n5               82.2               3             175              87.1   \n6               72.1               2             144              71.6   \n7               71.4               5             125              62.2   \n8               84.5               1             173              86.1   \n9               52.6               6              93              46.3   \n10              32.4               8              80              39.8   \n11              39.8               4             104              51.7   \n12               7.3               6              18               9.0   \n13              29.5               3             102              50.7   \n14              77.4               6             153              76.1   \n15              57.7              11              80              39.8   \n16               0.0               2               7               3.5   \n17               0.0               4               0               0.0   \n18              41.7               4              30              14.9   \n19              17.3               3              47              23.4   \n20              10.1               3              10               5.0   \n21              63.9               6             125              62.2   \n22               0.0               6               2               1.0   \n23               6.0               2               2               1.0   \n24              55.3               6              34              16.9   \n25              70.5               7             149              74.1   \n26              52.9               2             134              66.7   \n27              45.3               3             123              61.2   \n28               0.0               2               2               1.0   \n29              97.1               0              62              30.8   \n30              52.3               1              38              18.9   \n31              38.7               4              56              27.9   \n32              38.6               3              27              13.4   \n33              48.8               1              39              19.4   \n34              31.2               5              29              14.4   \n35              29.2               7              20              10.0   \n36               2.8               2               8               4.0   \n37               0.0               1               0               0.0   \n38              19.7               4              74              36.8   \n39               0.0               1               0               0.0   \n\n    Laps Led  % Laps Led  Total Laps  Driver Rating  Points  Races  \\\n0         21        10.4         201          122.4      54      1   \n1         67        33.3         201          121.3      54      1   \n2         11         5.5         201           94.0      49      1   \n3         12         6.0         201          104.7      47      1   \n4          0         0.0         201           75.0      41      1   \n5         36        17.9         201          107.5      41      1   \n6          0         0.0         201           93.6      39      1   \n7         28        13.9         201          101.4      38      1   \n8          0         0.0         200           97.4      35      1   \n9          0         0.0         201           72.5      34      1   \n10         1         0.5         198           83.6      33      1   \n11         0         0.0         201           80.3      32      1   \n12         0         0.0         201           63.7      29      1   \n13         0         0.0         201           77.7      26      1   \n14        16         8.0         194           93.9      25      1   \n15         0         0.0         199           74.6      24      1   \n16         0         0.0         201           57.2      23      1   \n17         0         0.0         200           48.6      20      1   \n18         0         0.0         199           59.0      19      1   \n19         0         0.0         199           55.2      17      1   \n20         1         0.5         197           43.0      17      1   \n21         3         1.5         191           81.0      16      1   \n22         0         0.0         198           42.7      15      1   \n23         0         0.0         198           41.4      14      1   \n24         0         0.0         197           65.8      13      1   \n25         1         0.5         190           81.2      13      1   \n26         0         0.0         190           69.9      13      1   \n27         0         0.0         191           72.8      11      1   \n28         0         0.0         196           35.7      10      1   \n29         0         0.0         152           71.3       9      1   \n30         3         1.5          62           50.9       9      1   \n31         0         0.0         151           54.4       5      1   \n32         0         0.0          62           41.9       2      1   \n33         0         0.0          63           54.5       1      1   \n34         1         0.5          62           46.4       1      1   \n35         0         0.0         201           60.6       0      1   \n36         0         0.0         201           51.7       0      1   \n37         0         0.0         196           35.8       0      1   \n38         0         0.0         190           52.8       0      1   \n39         0         0.0         136           27.5       0      1   \n\n    Points Eligible        Team    Make  Race #    Track     Track Type  \\\n0                 1      Penske    Ford       1  Daytona  Superspeedway   \n1                 1         RFK    Ford       1  Daytona  Superspeedway   \n2                 1         NaN     NaN       1  Daytona  Superspeedway   \n3                 1        23X1  Toyota       1  Daytona  Superspeedway   \n4                 1         SHR    Ford       1  Daytona  Superspeedway   \n5                 1      Penske    Ford       1  Daytona  Superspeedway   \n6                 1         FRM    Ford       1  Daytona  Superspeedway   \n7                 1         JGR  Toyota       1  Daytona  Superspeedway   \n8                 1         RFK    Ford       1  Daytona  Superspeedway   \n9                 1    Hendrick   Chevy       1  Daytona  Superspeedway   \n10                1      Penske    Ford       1  Daytona  Superspeedway   \n11                1         SHR    Ford       1  Daytona  Superspeedway   \n12                1         RWR    Ford       1  Daytona  Superspeedway   \n13                1        PGMS   Chevy       1  Daytona  Superspeedway   \n14                1         NaN     NaN       1  Daytona  Superspeedway   \n15                1        23X1  Toyota       1  Daytona  Superspeedway   \n16                1         NaN     NaN       1  Daytona  Superspeedway   \n17                1         RWR    Ford       1  Daytona  Superspeedway   \n18                1         NaN     NaN       1  Daytona  Superspeedway   \n19                1         SHR    Ford       1  Daytona  Superspeedway   \n20                1         RCR   Chevy       1  Daytona  Superspeedway   \n21                1        PGMS   Chevy       1  Daytona  Superspeedway   \n22                1    Hezeberg    Ford       1  Daytona  Superspeedway   \n23                1      Kaulig   Chevy       1  Daytona  Superspeedway   \n24                1    Hendrick   Chevy       1  Daytona  Superspeedway   \n25                1    Hendrick   Chevy       1  Daytona  Superspeedway   \n26                1         FRM    Ford       1  Daytona  Superspeedway   \n27                1         SHR    Ford       1  Daytona  Superspeedway   \n28                1         LFM    Ford       1  Daytona  Superspeedway   \n29                1         JGR  Toyota       1  Daytona  Superspeedway   \n30                1         WBR    Ford       1  Daytona  Superspeedway   \n31                1         RCR   Chevy       1  Daytona  Superspeedway   \n32                1  Trackhouse   Chevy       1  Daytona  Superspeedway   \n33                1         JGR  Toyota       1  Daytona  Superspeedway   \n34                1    Hendrick   Chevy       1  Daytona  Superspeedway   \n35                0      Kaulig   Chevy       1  Daytona  Superspeedway   \n36                0       Spire   Chevy       1  Daytona  Superspeedway   \n37                0         TMT   Chevy       1  Daytona  Superspeedway   \n38                0      Kaulig   Chevy       1  Daytona  Superspeedway   \n39                0         NYR   Chevy       1  Daytona  Superspeedway   \n\n    Quality Passes Per Lap  \n0                    0.622  \n1                    0.736  \n2                    0.955  \n3                    0.950  \n4                    0.348  \n5                    0.667  \n6                    0.796  \n7                    0.905  \n8                    0.680  \n9                    0.652  \n10                   0.399  \n11                   0.483  \n12                   0.040  \n13                   0.308  \n14                   0.990  \n15                   0.583  \n16                   0.000  \n17                   0.000  \n18                   0.327  \n19                   0.111  \n20                   0.071  \n21                   0.723  \n22                   0.000  \n23                   0.020  \n24                   0.371  \n25                   0.968  \n26                   0.632  \n27                   0.503  \n28                   0.000  \n29                   0.671  \n30                   1.097  \n31                   0.464  \n32                   0.903  \n33                   0.937  \n34                   0.710  \n35                   0.139  \n36                   0.010  \n37                   0.000  \n38                   0.237  \n39                   0.000  "
     },
     "execution_count": 19,
     "metadata": {},
     "output_type": "execute_result"
    }
   ]
  },
  {
   "cell_type": "code",
   "metadata": {
    "cell_id": "00007-b05ee489-ba84-40ff-b372-3fcd82b9d665",
    "deepnote_cell_type": "code",
    "deepnote_cell_height": 750
   },
   "source": "def raw_laps_to_stats(json_file): # Takes lap-times.json file from Race Center, mapping lap stats to drivers\n    \n    f = open(json_file)\n    data = json.load(f)\n    \n    driver_stats = {}\n    \n    for i in data[\"laps\"]:\n        driver = i[\"FullName\"]\n        if driver.startswith(\"*\") == True:\n            driver = driver[2:]\n        if driver.endswith(\"#\") == True:\n            driver = driver[:-2]\n        elif driver.endswith(\")\") == True:\n            driver = driver[:-3]\n        if driver == \"William Byron Jr.\":\n            driver = \"William Byron\"\n        if driver == \"Daniel Suarez\":\n            driver = \"Daniel Suárez\"\n    \n        lap_list = []\n        #for j in i[\"Laps\"]:\n        #    lap_list.append(j[\"LapTime\"])\n        lap_list = [j[\"LapTime\"] for j in i[\"Laps\"]]\n        lap_list = [i for i in lap_list if i] # This removes the \"none\" values\n    \n        fast_lap = np.min(lap_list)\n        median_lap = round(np.median(lap_list),3)\n    \n        full_speed_laps = []\n        for lap in lap_list:\n            if lap < fast_lap*1.1:\n                full_speed_laps.append(lap)\n        average_full_speed_lap = round(np.mean(full_speed_laps),3)\n    \n        lap_dict = {\"Fastest Lap\": fast_lap, \"Median Lap\": median_lap, \"Average Full Speed Lap\": average_full_speed_lap}\n        driver_stats[driver] = lap_dict\n    \n    return driver_stats",
   "execution_count": null,
   "outputs": []
  },
  {
   "cell_type": "code",
   "metadata": {
    "scrolled": false,
    "cell_id": "00008-d630c8a7-4c78-4425-9a90-7c15ec1d7abf",
    "deepnote_cell_type": "code",
    "deepnote_cell_height": 726,
    "deepnote_output_heights": [
     611
    ]
   },
   "source": "laps_daytona1_dict = raw_laps_to_stats(\"lap-times-daytona1.json\")\nlaps_daytona1_dict",
   "execution_count": null,
   "outputs": [
    {
     "data": {
      "text/plain": "{'Austin Cindric': {'Fastest Lap': 46.102,\n  'Median Lap': 47.081,\n  'Average Full Speed Lap': 46.992},\n 'Bubba Wallace': {'Fastest Lap': 46.114,\n  'Median Lap': 47.094,\n  'Average Full Speed Lap': 46.973},\n 'Chase Briscoe': {'Fastest Lap': 46.046,\n  'Median Lap': 47.238,\n  'Average Full Speed Lap': 47.263},\n 'Ryan Blaney': {'Fastest Lap': 46.141,\n  'Median Lap': 47.081,\n  'Average Full Speed Lap': 47.014},\n 'Aric Almirola': {'Fastest Lap': 46.196,\n  'Median Lap': 47.131,\n  'Average Full Speed Lap': 47.068},\n 'Kyle Busch': {'Fastest Lap': 46.152,\n  'Median Lap': 47.098,\n  'Average Full Speed Lap': 47.0},\n 'Michael McDowell': {'Fastest Lap': 46.03,\n  'Median Lap': 47.162,\n  'Average Full Speed Lap': 47.044},\n 'David Ragan': {'Fastest Lap': 45.867,\n  'Median Lap': 47.424,\n  'Average Full Speed Lap': 47.282},\n 'Brad Keselowski': {'Fastest Lap': 46.07,\n  'Median Lap': 47.084,\n  'Average Full Speed Lap': 46.987},\n 'Chase Elliott': {'Fastest Lap': 46.247,\n  'Median Lap': 47.242,\n  'Average Full Speed Lap': 47.195},\n 'Ty Dillon': {'Fastest Lap': 46.273,\n  'Median Lap': 47.117,\n  'Average Full Speed Lap': 47.038},\n 'Daniel Hemric': {'Fastest Lap': 46.014,\n  'Median Lap': 47.723,\n  'Average Full Speed Lap': 47.512},\n 'Martin Truex Jr.': {'Fastest Lap': 46.059,\n  'Median Lap': 47.126,\n  'Average Full Speed Lap': 47.018},\n 'Corey LaJoie': {'Fastest Lap': 46.33,\n  'Median Lap': 47.584,\n  'Average Full Speed Lap': 47.449},\n 'Landon Cassill': {'Fastest Lap': 46.429,\n  'Median Lap': 48.132,\n  'Average Full Speed Lap': 47.86},\n 'Chris Buescher': {'Fastest Lap': 46.169,\n  'Median Lap': 47.112,\n  'Average Full Speed Lap': 47.045},\n 'Cody Ware': {'Fastest Lap': 46.139,\n  'Median Lap': 47.882,\n  'Average Full Speed Lap': 47.665},\n 'Daniel Suárez': {'Fastest Lap': 46.457,\n  'Median Lap': 47.412,\n  'Average Full Speed Lap': 47.319},\n 'Kurt Busch': {'Fastest Lap': 45.882,\n  'Median Lap': 47.206,\n  'Average Full Speed Lap': 47.065},\n 'Cole Custer': {'Fastest Lap': 46.198,\n  'Median Lap': 47.314,\n  'Average Full Speed Lap': 47.308},\n 'Joey Logano': {'Fastest Lap': 45.907,\n  'Median Lap': 47.094,\n  'Average Full Speed Lap': 46.958},\n 'Jacques Villeneuve': {'Fastest Lap': 46.344,\n  'Median Lap': 48.78,\n  'Average Full Speed Lap': 48.204},\n 'Justin Haley': {'Fastest Lap': 46.176,\n  'Median Lap': 48.328,\n  'Average Full Speed Lap': 47.919},\n 'Alex Bowman': {'Fastest Lap': 46.069,\n  'Median Lap': 47.304,\n  'Average Full Speed Lap': 47.221},\n 'Austin Dillon': {'Fastest Lap': 45.979,\n  'Median Lap': 49.703,\n  'Average Full Speed Lap': 48.062},\n 'Kaz Grala': {'Fastest Lap': 46.731,\n  'Median Lap': 48.933,\n  'Average Full Speed Lap': 48.341},\n 'BJ McLeod': {'Fastest Lap': 46.655,\n  'Median Lap': 49.942,\n  'Average Full Speed Lap': 48.903},\n 'Ricky Stenhouse Jr.': {'Fastest Lap': 46.148,\n  'Median Lap': 47.074,\n  'Average Full Speed Lap': 46.969},\n 'Erik Jones': {'Fastest Lap': 46.107,\n  'Median Lap': 47.082,\n  'Average Full Speed Lap': 47.012},\n 'Kevin Harvick': {'Fastest Lap': 46.099,\n  'Median Lap': 47.092,\n  'Average Full Speed Lap': 47.031},\n 'Noah Gragson': {'Fastest Lap': 46.155,\n  'Median Lap': 47.228,\n  'Average Full Speed Lap': 47.22},\n 'Kyle Larson': {'Fastest Lap': 46.083,\n  'Median Lap': 47.068,\n  'Average Full Speed Lap': 46.997},\n 'Todd Gilliland': {'Fastest Lap': 46.157,\n  'Median Lap': 47.061,\n  'Average Full Speed Lap': 46.976},\n 'Christopher Bell': {'Fastest Lap': 46.507,\n  'Median Lap': 50.274,\n  'Average Full Speed Lap': 48.571},\n 'Tyler Reddick': {'Fastest Lap': 46.124,\n  'Median Lap': 47.146,\n  'Average Full Speed Lap': 47.126},\n 'Greg Biffle': {'Fastest Lap': 46.673,\n  'Median Lap': 49.933,\n  'Average Full Speed Lap': 48.951},\n 'Denny Hamlin': {'Fastest Lap': 46.517,\n  'Median Lap': 47.23,\n  'Average Full Speed Lap': 47.127},\n 'William Byron': {'Fastest Lap': 46.508,\n  'Median Lap': 47.22,\n  'Average Full Speed Lap': 47.133},\n 'Harrison Burton': {'Fastest Lap': 46.28,\n  'Median Lap': 47.318,\n  'Average Full Speed Lap': 47.158},\n 'Ross Chastain': {'Fastest Lap': 46.522,\n  'Median Lap': 47.298,\n  'Average Full Speed Lap': 47.304}}"
     },
     "execution_count": 9,
     "metadata": {},
     "output_type": "execute_result"
    }
   ]
  },
  {
   "cell_type": "code",
   "metadata": {
    "cell_id": "00009-7b5a71a1-2470-44b2-bdaa-4ce699ce4d70",
    "deepnote_cell_type": "code",
    "deepnote_cell_height": 282
   },
   "source": "def add_lap_dict_to_df(lap_dict, main_df): # Adds the driver-mapped lap stats to our main dataframe\n    \n    rows = []\n  \n    for key, value in lap_dict.items():\n        driver = key\n        stats = value\n        stats[\"Driver\"] = driver\n        rows.append(stats)\n  \n    lap_df = pd.DataFrame(rows)\n    df = pd.merge(main_df, lap_df, on=\"Driver\")\n    return df",
   "execution_count": null,
   "outputs": []
  },
  {
   "cell_type": "code",
   "metadata": {
    "cell_id": "00010-5730edab-05d2-4372-9e32-447794d60fe6",
    "deepnote_cell_type": "code",
    "deepnote_cell_height": 292,
    "deepnote_output_heights": [
     177
    ]
   },
   "source": "daytona1 = add_lap_dict_to_df(laps_daytona1_dict, daytona1)\ndaytona1.head()",
   "execution_count": null,
   "outputs": [
    {
     "data": {
      "text/html": "<div>\n<style scoped>\n    .dataframe tbody tr th:only-of-type {\n        vertical-align: middle;\n    }\n\n    .dataframe tbody tr th {\n        vertical-align: top;\n    }\n\n    .dataframe thead th {\n        text-align: right;\n    }\n</style>\n<table border=\"1\" class=\"dataframe\">\n  <thead>\n    <tr style=\"text-align: right;\">\n      <th></th>\n      <th>Car #</th>\n      <th>Driver</th>\n      <th>Start</th>\n      <th>Mid Race</th>\n      <th>Finish</th>\n      <th>Average Position</th>\n      <th>Pass Differential</th>\n      <th>Green Passes</th>\n      <th>Green Passed</th>\n      <th>Quality Passes</th>\n      <th>% Quality Passes</th>\n      <th># Fastest Laps</th>\n      <th>Laps in Top 15</th>\n      <th>% Laps in Top 15</th>\n      <th>Laps Led</th>\n      <th>% Laps Led</th>\n      <th>Total Laps</th>\n      <th>Driver Rating</th>\n      <th>Points</th>\n      <th>Races</th>\n      <th>Points Eligible</th>\n      <th>Team</th>\n      <th>Make</th>\n      <th>Race #</th>\n      <th>Track</th>\n      <th>Track Type</th>\n      <th>Quality Passes Per Lap</th>\n      <th>Fastest Lap</th>\n      <th>Median Lap</th>\n      <th>Average Full Speed Lap</th>\n    </tr>\n  </thead>\n  <tbody>\n    <tr>\n      <th>0</th>\n      <td>2</td>\n      <td>Austin Cindric</td>\n      <td>5.0</td>\n      <td>2.0</td>\n      <td>1.0</td>\n      <td>6.2</td>\n      <td>-13</td>\n      <td>168</td>\n      <td>181</td>\n      <td>125</td>\n      <td>74.4</td>\n      <td>0</td>\n      <td>176</td>\n      <td>87.6</td>\n      <td>21</td>\n      <td>10.4</td>\n      <td>201</td>\n      <td>122.4</td>\n      <td>54</td>\n      <td>1</td>\n      <td>1</td>\n      <td>Penske</td>\n      <td>Ford</td>\n      <td>1</td>\n      <td>Daytona</td>\n      <td>Superspeedway</td>\n      <td>0.622</td>\n      <td>46.102</td>\n      <td>47.081</td>\n      <td>46.992</td>\n    </tr>\n    <tr>\n      <th>1</th>\n      <td>6</td>\n      <td>Brad Keselowski</td>\n      <td>3.0</td>\n      <td>5.0</td>\n      <td>9.0</td>\n      <td>4.8</td>\n      <td>1</td>\n      <td>171</td>\n      <td>170</td>\n      <td>148</td>\n      <td>86.5</td>\n      <td>4</td>\n      <td>198</td>\n      <td>98.5</td>\n      <td>67</td>\n      <td>33.3</td>\n      <td>201</td>\n      <td>121.3</td>\n      <td>54</td>\n      <td>1</td>\n      <td>1</td>\n      <td>RFK</td>\n      <td>Ford</td>\n      <td>1</td>\n      <td>Daytona</td>\n      <td>Superspeedway</td>\n      <td>0.736</td>\n      <td>46.070</td>\n      <td>47.084</td>\n      <td>46.987</td>\n    </tr>\n    <tr>\n      <th>2</th>\n      <td>23</td>\n      <td>Bubba Wallace</td>\n      <td>16.0</td>\n      <td>19.0</td>\n      <td>2.0</td>\n      <td>10.2</td>\n      <td>16</td>\n      <td>253</td>\n      <td>237</td>\n      <td>191</td>\n      <td>75.5</td>\n      <td>7</td>\n      <td>145</td>\n      <td>72.1</td>\n      <td>12</td>\n      <td>6.0</td>\n      <td>201</td>\n      <td>104.7</td>\n      <td>47</td>\n      <td>1</td>\n      <td>1</td>\n      <td>23X1</td>\n      <td>Toyota</td>\n      <td>1</td>\n      <td>Daytona</td>\n      <td>Superspeedway</td>\n      <td>0.950</td>\n      <td>46.114</td>\n      <td>47.094</td>\n      <td>46.973</td>\n    </tr>\n    <tr>\n      <th>3</th>\n      <td>14</td>\n      <td>Chase Briscoe</td>\n      <td>9.0</td>\n      <td>10.0</td>\n      <td>3.0</td>\n      <td>18.3</td>\n      <td>17</td>\n      <td>209</td>\n      <td>192</td>\n      <td>70</td>\n      <td>33.5</td>\n      <td>6</td>\n      <td>88</td>\n      <td>43.8</td>\n      <td>0</td>\n      <td>0.0</td>\n      <td>201</td>\n      <td>75.0</td>\n      <td>41</td>\n      <td>1</td>\n      <td>1</td>\n      <td>SHR</td>\n      <td>Ford</td>\n      <td>1</td>\n      <td>Daytona</td>\n      <td>Superspeedway</td>\n      <td>0.348</td>\n      <td>46.046</td>\n      <td>47.238</td>\n      <td>47.263</td>\n    </tr>\n    <tr>\n      <th>4</th>\n      <td>12</td>\n      <td>Ryan Blaney</td>\n      <td>7.0</td>\n      <td>1.0</td>\n      <td>4.0</td>\n      <td>8.3</td>\n      <td>-18</td>\n      <td>163</td>\n      <td>181</td>\n      <td>134</td>\n      <td>82.2</td>\n      <td>3</td>\n      <td>175</td>\n      <td>87.1</td>\n      <td>36</td>\n      <td>17.9</td>\n      <td>201</td>\n      <td>107.5</td>\n      <td>41</td>\n      <td>1</td>\n      <td>1</td>\n      <td>Penske</td>\n      <td>Ford</td>\n      <td>1</td>\n      <td>Daytona</td>\n      <td>Superspeedway</td>\n      <td>0.667</td>\n      <td>46.141</td>\n      <td>47.081</td>\n      <td>47.014</td>\n    </tr>\n  </tbody>\n</table>\n</div>",
      "text/plain": "   Car #           Driver  Start  Mid Race  Finish  Average Position  \\\n0      2   Austin Cindric    5.0       2.0     1.0               6.2   \n1      6  Brad Keselowski    3.0       5.0     9.0               4.8   \n2     23    Bubba Wallace   16.0      19.0     2.0              10.2   \n3     14    Chase Briscoe    9.0      10.0     3.0              18.3   \n4     12      Ryan Blaney    7.0       1.0     4.0               8.3   \n\n   Pass Differential  Green Passes  Green Passed  Quality Passes  \\\n0                -13           168           181             125   \n1                  1           171           170             148   \n2                 16           253           237             191   \n3                 17           209           192              70   \n4                -18           163           181             134   \n\n   % Quality Passes  # Fastest Laps  Laps in Top 15  % Laps in Top 15  \\\n0              74.4               0             176              87.6   \n1              86.5               4             198              98.5   \n2              75.5               7             145              72.1   \n3              33.5               6              88              43.8   \n4              82.2               3             175              87.1   \n\n   Laps Led  % Laps Led  Total Laps  Driver Rating  Points  Races  \\\n0        21        10.4         201          122.4      54      1   \n1        67        33.3         201          121.3      54      1   \n2        12         6.0         201          104.7      47      1   \n3         0         0.0         201           75.0      41      1   \n4        36        17.9         201          107.5      41      1   \n\n   Points Eligible    Team    Make  Race #    Track     Track Type  \\\n0                1  Penske    Ford       1  Daytona  Superspeedway   \n1                1     RFK    Ford       1  Daytona  Superspeedway   \n2                1    23X1  Toyota       1  Daytona  Superspeedway   \n3                1     SHR    Ford       1  Daytona  Superspeedway   \n4                1  Penske    Ford       1  Daytona  Superspeedway   \n\n   Quality Passes Per Lap  Fastest Lap  Median Lap  Average Full Speed Lap  \n0                   0.622       46.102      47.081                  46.992  \n1                   0.736       46.070      47.084                  46.987  \n2                   0.950       46.114      47.094                  46.973  \n3                   0.348       46.046      47.238                  47.263  \n4                   0.667       46.141      47.081                  47.014  "
     },
     "execution_count": 11,
     "metadata": {},
     "output_type": "execute_result"
    }
   ]
  },
  {
   "cell_type": "code",
   "metadata": {
    "cell_id": "00011-5420cd15-1e34-4396-b9c5-5e069f2f07b0",
    "deepnote_cell_type": "code",
    "deepnote_cell_height": 740,
    "deepnote_output_heights": [
     607
    ]
   },
   "source": "daytona1 = daytona1.sort_values(by=[\"Finish\"]).reset_index(drop = True)\ndaytona1.index = np.arange(1, len(daytona1) + 1) # Makes index value equal to finish position\ndaytona1",
   "execution_count": null,
   "outputs": [
    {
     "data": {
      "text/html": "<div>\n<style scoped>\n    .dataframe tbody tr th:only-of-type {\n        vertical-align: middle;\n    }\n\n    .dataframe tbody tr th {\n        vertical-align: top;\n    }\n\n    .dataframe thead th {\n        text-align: right;\n    }\n</style>\n<table border=\"1\" class=\"dataframe\">\n  <thead>\n    <tr style=\"text-align: right;\">\n      <th></th>\n      <th>Car #</th>\n      <th>Driver</th>\n      <th>Start</th>\n      <th>Mid Race</th>\n      <th>Finish</th>\n      <th>Average Position</th>\n      <th>Pass Differential</th>\n      <th>Green Passes</th>\n      <th>Green Passed</th>\n      <th>Quality Passes</th>\n      <th>% Quality Passes</th>\n      <th># Fastest Laps</th>\n      <th>Laps in Top 15</th>\n      <th>% Laps in Top 15</th>\n      <th>Laps Led</th>\n      <th>% Laps Led</th>\n      <th>Total Laps</th>\n      <th>Driver Rating</th>\n      <th>Points</th>\n      <th>Races</th>\n      <th>Points Eligible</th>\n      <th>Team</th>\n      <th>Make</th>\n      <th>Race #</th>\n      <th>Track</th>\n      <th>Track Type</th>\n      <th>Quality Passes Per Lap</th>\n      <th>Fastest Lap</th>\n      <th>Median Lap</th>\n      <th>Average Full Speed Lap</th>\n    </tr>\n  </thead>\n  <tbody>\n    <tr>\n      <th>1</th>\n      <td>2</td>\n      <td>Austin Cindric</td>\n      <td>5.0</td>\n      <td>2.0</td>\n      <td>1.0</td>\n      <td>6.2</td>\n      <td>-13</td>\n      <td>168</td>\n      <td>181</td>\n      <td>125</td>\n      <td>74.4</td>\n      <td>0</td>\n      <td>176</td>\n      <td>87.6</td>\n      <td>21</td>\n      <td>10.4</td>\n      <td>201</td>\n      <td>122.4</td>\n      <td>54</td>\n      <td>1</td>\n      <td>1</td>\n      <td>Penske</td>\n      <td>Ford</td>\n      <td>1</td>\n      <td>Daytona</td>\n      <td>Superspeedway</td>\n      <td>0.622</td>\n      <td>46.102</td>\n      <td>47.081</td>\n      <td>46.992</td>\n    </tr>\n    <tr>\n      <th>2</th>\n      <td>23</td>\n      <td>Bubba Wallace</td>\n      <td>16.0</td>\n      <td>19.0</td>\n      <td>2.0</td>\n      <td>10.2</td>\n      <td>16</td>\n      <td>253</td>\n      <td>237</td>\n      <td>191</td>\n      <td>75.5</td>\n      <td>7</td>\n      <td>145</td>\n      <td>72.1</td>\n      <td>12</td>\n      <td>6.0</td>\n      <td>201</td>\n      <td>104.7</td>\n      <td>47</td>\n      <td>1</td>\n      <td>1</td>\n      <td>23X1</td>\n      <td>Toyota</td>\n      <td>1</td>\n      <td>Daytona</td>\n      <td>Superspeedway</td>\n      <td>0.950</td>\n      <td>46.114</td>\n      <td>47.094</td>\n      <td>46.973</td>\n    </tr>\n    <tr>\n      <th>3</th>\n      <td>14</td>\n      <td>Chase Briscoe</td>\n      <td>9.0</td>\n      <td>10.0</td>\n      <td>3.0</td>\n      <td>18.3</td>\n      <td>17</td>\n      <td>209</td>\n      <td>192</td>\n      <td>70</td>\n      <td>33.5</td>\n      <td>6</td>\n      <td>88</td>\n      <td>43.8</td>\n      <td>0</td>\n      <td>0.0</td>\n      <td>201</td>\n      <td>75.0</td>\n      <td>41</td>\n      <td>1</td>\n      <td>1</td>\n      <td>SHR</td>\n      <td>Ford</td>\n      <td>1</td>\n      <td>Daytona</td>\n      <td>Superspeedway</td>\n      <td>0.348</td>\n      <td>46.046</td>\n      <td>47.238</td>\n      <td>47.263</td>\n    </tr>\n    <tr>\n      <th>4</th>\n      <td>12</td>\n      <td>Ryan Blaney</td>\n      <td>7.0</td>\n      <td>1.0</td>\n      <td>4.0</td>\n      <td>8.3</td>\n      <td>-18</td>\n      <td>163</td>\n      <td>181</td>\n      <td>134</td>\n      <td>82.2</td>\n      <td>3</td>\n      <td>175</td>\n      <td>87.1</td>\n      <td>36</td>\n      <td>17.9</td>\n      <td>201</td>\n      <td>107.5</td>\n      <td>41</td>\n      <td>1</td>\n      <td>1</td>\n      <td>Penske</td>\n      <td>Ford</td>\n      <td>1</td>\n      <td>Daytona</td>\n      <td>Superspeedway</td>\n      <td>0.667</td>\n      <td>46.141</td>\n      <td>47.081</td>\n      <td>47.014</td>\n    </tr>\n    <tr>\n      <th>5</th>\n      <td>10</td>\n      <td>Aric Almirola</td>\n      <td>38.0</td>\n      <td>11.0</td>\n      <td>5.0</td>\n      <td>15.9</td>\n      <td>8</td>\n      <td>244</td>\n      <td>236</td>\n      <td>97</td>\n      <td>39.8</td>\n      <td>4</td>\n      <td>104</td>\n      <td>51.7</td>\n      <td>0</td>\n      <td>0.0</td>\n      <td>201</td>\n      <td>80.3</td>\n      <td>32</td>\n      <td>1</td>\n      <td>1</td>\n      <td>SHR</td>\n      <td>Ford</td>\n      <td>1</td>\n      <td>Daytona</td>\n      <td>Superspeedway</td>\n      <td>0.483</td>\n      <td>46.196</td>\n      <td>47.131</td>\n      <td>47.068</td>\n    </tr>\n    <tr>\n      <th>6</th>\n      <td>18</td>\n      <td>Kyle Busch</td>\n      <td>10.0</td>\n      <td>20.0</td>\n      <td>6.0</td>\n      <td>11.4</td>\n      <td>9</td>\n      <td>255</td>\n      <td>246</td>\n      <td>182</td>\n      <td>71.4</td>\n      <td>5</td>\n      <td>125</td>\n      <td>62.2</td>\n      <td>28</td>\n      <td>13.9</td>\n      <td>201</td>\n      <td>101.4</td>\n      <td>38</td>\n      <td>1</td>\n      <td>1</td>\n      <td>JGR</td>\n      <td>Toyota</td>\n      <td>1</td>\n      <td>Daytona</td>\n      <td>Superspeedway</td>\n      <td>0.905</td>\n      <td>46.152</td>\n      <td>47.098</td>\n      <td>47.000</td>\n    </tr>\n    <tr>\n      <th>7</th>\n      <td>34</td>\n      <td>Michael McDowell</td>\n      <td>6.0</td>\n      <td>8.0</td>\n      <td>7.0</td>\n      <td>11.9</td>\n      <td>-19</td>\n      <td>222</td>\n      <td>241</td>\n      <td>160</td>\n      <td>72.1</td>\n      <td>2</td>\n      <td>144</td>\n      <td>71.6</td>\n      <td>0</td>\n      <td>0.0</td>\n      <td>201</td>\n      <td>93.6</td>\n      <td>39</td>\n      <td>1</td>\n      <td>1</td>\n      <td>FRM</td>\n      <td>Ford</td>\n      <td>1</td>\n      <td>Daytona</td>\n      <td>Superspeedway</td>\n      <td>0.796</td>\n      <td>46.030</td>\n      <td>47.162</td>\n      <td>47.044</td>\n    </tr>\n    <tr>\n      <th>8</th>\n      <td>15</td>\n      <td>David Ragan</td>\n      <td>34.0</td>\n      <td>29.0</td>\n      <td>8.0</td>\n      <td>25.2</td>\n      <td>-9</td>\n      <td>110</td>\n      <td>119</td>\n      <td>8</td>\n      <td>7.3</td>\n      <td>6</td>\n      <td>18</td>\n      <td>9.0</td>\n      <td>0</td>\n      <td>0.0</td>\n      <td>201</td>\n      <td>63.7</td>\n      <td>29</td>\n      <td>1</td>\n      <td>1</td>\n      <td>RWR</td>\n      <td>Ford</td>\n      <td>1</td>\n      <td>Daytona</td>\n      <td>Superspeedway</td>\n      <td>0.040</td>\n      <td>45.867</td>\n      <td>47.424</td>\n      <td>47.282</td>\n    </tr>\n    <tr>\n      <th>9</th>\n      <td>6</td>\n      <td>Brad Keselowski</td>\n      <td>3.0</td>\n      <td>5.0</td>\n      <td>9.0</td>\n      <td>4.8</td>\n      <td>1</td>\n      <td>171</td>\n      <td>170</td>\n      <td>148</td>\n      <td>86.5</td>\n      <td>4</td>\n      <td>198</td>\n      <td>98.5</td>\n      <td>67</td>\n      <td>33.3</td>\n      <td>201</td>\n      <td>121.3</td>\n      <td>54</td>\n      <td>1</td>\n      <td>1</td>\n      <td>RFK</td>\n      <td>Ford</td>\n      <td>1</td>\n      <td>Daytona</td>\n      <td>Superspeedway</td>\n      <td>0.736</td>\n      <td>46.070</td>\n      <td>47.084</td>\n      <td>46.987</td>\n    </tr>\n    <tr>\n      <th>10</th>\n      <td>9</td>\n      <td>Chase Elliott</td>\n      <td>11.0</td>\n      <td>23.0</td>\n      <td>10.0</td>\n      <td>16.1</td>\n      <td>-2</td>\n      <td>249</td>\n      <td>251</td>\n      <td>131</td>\n      <td>52.6</td>\n      <td>6</td>\n      <td>93</td>\n      <td>46.3</td>\n      <td>0</td>\n      <td>0.0</td>\n      <td>201</td>\n      <td>72.5</td>\n      <td>34</td>\n      <td>1</td>\n      <td>1</td>\n      <td>Hendrick</td>\n      <td>Chevy</td>\n      <td>1</td>\n      <td>Daytona</td>\n      <td>Superspeedway</td>\n      <td>0.652</td>\n      <td>46.247</td>\n      <td>47.242</td>\n      <td>47.195</td>\n    </tr>\n    <tr>\n      <th>11</th>\n      <td>42</td>\n      <td>Ty Dillon</td>\n      <td>26.0</td>\n      <td>9.0</td>\n      <td>11.0</td>\n      <td>16.3</td>\n      <td>-20</td>\n      <td>210</td>\n      <td>230</td>\n      <td>62</td>\n      <td>29.5</td>\n      <td>3</td>\n      <td>102</td>\n      <td>50.7</td>\n      <td>0</td>\n      <td>0.0</td>\n      <td>201</td>\n      <td>77.7</td>\n      <td>26</td>\n      <td>1</td>\n      <td>1</td>\n      <td>PGMS</td>\n      <td>Chevy</td>\n      <td>1</td>\n      <td>Daytona</td>\n      <td>Superspeedway</td>\n      <td>0.308</td>\n      <td>46.273</td>\n      <td>47.117</td>\n      <td>47.038</td>\n    </tr>\n    <tr>\n      <th>12</th>\n      <td>16</td>\n      <td>Daniel Hemric</td>\n      <td>33.0</td>\n      <td>24.0</td>\n      <td>12.0</td>\n      <td>26.4</td>\n      <td>-2</td>\n      <td>96</td>\n      <td>98</td>\n      <td>28</td>\n      <td>29.2</td>\n      <td>7</td>\n      <td>20</td>\n      <td>10.0</td>\n      <td>0</td>\n      <td>0.0</td>\n      <td>201</td>\n      <td>60.6</td>\n      <td>0</td>\n      <td>1</td>\n      <td>0</td>\n      <td>Kaulig</td>\n      <td>Chevy</td>\n      <td>1</td>\n      <td>Daytona</td>\n      <td>Superspeedway</td>\n      <td>0.139</td>\n      <td>46.014</td>\n      <td>47.723</td>\n      <td>47.512</td>\n    </tr>\n    <tr>\n      <th>13</th>\n      <td>77</td>\n      <td>Landon Cassill</td>\n      <td>27.0</td>\n      <td>27.0</td>\n      <td>15.0</td>\n      <td>28.1</td>\n      <td>-2</td>\n      <td>71</td>\n      <td>73</td>\n      <td>2</td>\n      <td>2.8</td>\n      <td>2</td>\n      <td>8</td>\n      <td>4.0</td>\n      <td>0</td>\n      <td>0.0</td>\n      <td>201</td>\n      <td>51.7</td>\n      <td>0</td>\n      <td>1</td>\n      <td>0</td>\n      <td>Spire</td>\n      <td>Chevy</td>\n      <td>1</td>\n      <td>Daytona</td>\n      <td>Superspeedway</td>\n      <td>0.010</td>\n      <td>46.429</td>\n      <td>48.132</td>\n      <td>47.860</td>\n    </tr>\n    <tr>\n      <th>14</th>\n      <td>17</td>\n      <td>Chris Buescher</td>\n      <td>4.0</td>\n      <td>3.0</td>\n      <td>16.0</td>\n      <td>7.9</td>\n      <td>-13</td>\n      <td>161</td>\n      <td>174</td>\n      <td>136</td>\n      <td>84.5</td>\n      <td>1</td>\n      <td>173</td>\n      <td>86.1</td>\n      <td>0</td>\n      <td>0.0</td>\n      <td>200</td>\n      <td>97.4</td>\n      <td>35</td>\n      <td>1</td>\n      <td>1</td>\n      <td>RFK</td>\n      <td>Ford</td>\n      <td>1</td>\n      <td>Daytona</td>\n      <td>Superspeedway</td>\n      <td>0.680</td>\n      <td>46.169</td>\n      <td>47.112</td>\n      <td>47.045</td>\n    </tr>\n    <tr>\n      <th>15</th>\n      <td>51</td>\n      <td>Cody Ware</td>\n      <td>32.0</td>\n      <td>28.0</td>\n      <td>17.0</td>\n      <td>27.1</td>\n      <td>-22</td>\n      <td>57</td>\n      <td>79</td>\n      <td>0</td>\n      <td>0.0</td>\n      <td>4</td>\n      <td>0</td>\n      <td>0.0</td>\n      <td>0</td>\n      <td>0.0</td>\n      <td>200</td>\n      <td>48.6</td>\n      <td>20</td>\n      <td>1</td>\n      <td>1</td>\n      <td>RWR</td>\n      <td>Ford</td>\n      <td>1</td>\n      <td>Daytona</td>\n      <td>Superspeedway</td>\n      <td>0.000</td>\n      <td>46.139</td>\n      <td>47.882</td>\n      <td>47.665</td>\n    </tr>\n    <tr>\n      <th>16</th>\n      <td>45</td>\n      <td>Kurt Busch</td>\n      <td>17.0</td>\n      <td>21.0</td>\n      <td>19.0</td>\n      <td>17.6</td>\n      <td>21</td>\n      <td>201</td>\n      <td>180</td>\n      <td>116</td>\n      <td>57.7</td>\n      <td>11</td>\n      <td>80</td>\n      <td>39.8</td>\n      <td>0</td>\n      <td>0.0</td>\n      <td>199</td>\n      <td>74.6</td>\n      <td>24</td>\n      <td>1</td>\n      <td>1</td>\n      <td>23X1</td>\n      <td>Toyota</td>\n      <td>1</td>\n      <td>Daytona</td>\n      <td>Superspeedway</td>\n      <td>0.583</td>\n      <td>45.882</td>\n      <td>47.206</td>\n      <td>47.065</td>\n    </tr>\n    <tr>\n      <th>17</th>\n      <td>41</td>\n      <td>Cole Custer</td>\n      <td>31.0</td>\n      <td>7.0</td>\n      <td>20.0</td>\n      <td>22.3</td>\n      <td>-17</td>\n      <td>127</td>\n      <td>144</td>\n      <td>22</td>\n      <td>17.3</td>\n      <td>3</td>\n      <td>47</td>\n      <td>23.4</td>\n      <td>0</td>\n      <td>0.0</td>\n      <td>199</td>\n      <td>55.2</td>\n      <td>17</td>\n      <td>1</td>\n      <td>1</td>\n      <td>SHR</td>\n      <td>Ford</td>\n      <td>1</td>\n      <td>Daytona</td>\n      <td>Superspeedway</td>\n      <td>0.111</td>\n      <td>46.198</td>\n      <td>47.314</td>\n      <td>47.308</td>\n    </tr>\n    <tr>\n      <th>18</th>\n      <td>22</td>\n      <td>Joey Logano</td>\n      <td>20.0</td>\n      <td>12.0</td>\n      <td>21.0</td>\n      <td>17.7</td>\n      <td>50</td>\n      <td>244</td>\n      <td>194</td>\n      <td>79</td>\n      <td>32.4</td>\n      <td>8</td>\n      <td>80</td>\n      <td>39.8</td>\n      <td>1</td>\n      <td>0.5</td>\n      <td>198</td>\n      <td>83.6</td>\n      <td>33</td>\n      <td>1</td>\n      <td>1</td>\n      <td>Penske</td>\n      <td>Ford</td>\n      <td>1</td>\n      <td>Daytona</td>\n      <td>Superspeedway</td>\n      <td>0.399</td>\n      <td>45.907</td>\n      <td>47.094</td>\n      <td>46.958</td>\n    </tr>\n    <tr>\n      <th>19</th>\n      <td>27</td>\n      <td>Jacques Villeneuve</td>\n      <td>40.0</td>\n      <td>30.0</td>\n      <td>22.0</td>\n      <td>29.5</td>\n      <td>-5</td>\n      <td>50</td>\n      <td>55</td>\n      <td>0</td>\n      <td>0.0</td>\n      <td>6</td>\n      <td>2</td>\n      <td>1.0</td>\n      <td>0</td>\n      <td>0.0</td>\n      <td>198</td>\n      <td>42.7</td>\n      <td>15</td>\n      <td>1</td>\n      <td>1</td>\n      <td>Hezeberg</td>\n      <td>Ford</td>\n      <td>1</td>\n      <td>Daytona</td>\n      <td>Superspeedway</td>\n      <td>0.000</td>\n      <td>46.344</td>\n      <td>48.780</td>\n      <td>48.204</td>\n    </tr>\n    <tr>\n      <th>20</th>\n      <td>31</td>\n      <td>Justin Haley</td>\n      <td>25.0</td>\n      <td>31.0</td>\n      <td>23.0</td>\n      <td>30.8</td>\n      <td>-5</td>\n      <td>67</td>\n      <td>72</td>\n      <td>4</td>\n      <td>6.0</td>\n      <td>2</td>\n      <td>2</td>\n      <td>1.0</td>\n      <td>0</td>\n      <td>0.0</td>\n      <td>198</td>\n      <td>41.4</td>\n      <td>14</td>\n      <td>1</td>\n      <td>1</td>\n      <td>Kaulig</td>\n      <td>Chevy</td>\n      <td>1</td>\n      <td>Daytona</td>\n      <td>Superspeedway</td>\n      <td>0.020</td>\n      <td>46.176</td>\n      <td>48.328</td>\n      <td>47.919</td>\n    </tr>\n    <tr>\n      <th>21</th>\n      <td>48</td>\n      <td>Alex Bowman</td>\n      <td>2.0</td>\n      <td>34.0</td>\n      <td>24.0</td>\n      <td>27.1</td>\n      <td>-5</td>\n      <td>132</td>\n      <td>137</td>\n      <td>73</td>\n      <td>55.3</td>\n      <td>6</td>\n      <td>34</td>\n      <td>16.9</td>\n      <td>0</td>\n      <td>0.0</td>\n      <td>197</td>\n      <td>65.8</td>\n      <td>13</td>\n      <td>1</td>\n      <td>1</td>\n      <td>Hendrick</td>\n      <td>Chevy</td>\n      <td>1</td>\n      <td>Daytona</td>\n      <td>Superspeedway</td>\n      <td>0.371</td>\n      <td>46.069</td>\n      <td>47.304</td>\n      <td>47.221</td>\n    </tr>\n    <tr>\n      <th>22</th>\n      <td>3</td>\n      <td>Austin Dillon</td>\n      <td>36.0</td>\n      <td>26.0</td>\n      <td>25.0</td>\n      <td>27.1</td>\n      <td>7</td>\n      <td>139</td>\n      <td>132</td>\n      <td>14</td>\n      <td>10.1</td>\n      <td>3</td>\n      <td>10</td>\n      <td>5.0</td>\n      <td>1</td>\n      <td>0.5</td>\n      <td>197</td>\n      <td>43.0</td>\n      <td>17</td>\n      <td>1</td>\n      <td>1</td>\n      <td>RCR</td>\n      <td>Chevy</td>\n      <td>1</td>\n      <td>Daytona</td>\n      <td>Superspeedway</td>\n      <td>0.071</td>\n      <td>45.979</td>\n      <td>49.703</td>\n      <td>48.062</td>\n    </tr>\n    <tr>\n      <th>23</th>\n      <td>50</td>\n      <td>Kaz Grala</td>\n      <td>35.0</td>\n      <td>33.0</td>\n      <td>26.0</td>\n      <td>33.4</td>\n      <td>-4</td>\n      <td>52</td>\n      <td>56</td>\n      <td>0</td>\n      <td>0.0</td>\n      <td>1</td>\n      <td>0</td>\n      <td>0.0</td>\n      <td>0</td>\n      <td>0.0</td>\n      <td>196</td>\n      <td>35.8</td>\n      <td>0</td>\n      <td>1</td>\n      <td>0</td>\n      <td>TMT</td>\n      <td>Chevy</td>\n      <td>1</td>\n      <td>Daytona</td>\n      <td>Superspeedway</td>\n      <td>0.000</td>\n      <td>46.731</td>\n      <td>48.933</td>\n      <td>48.341</td>\n    </tr>\n    <tr>\n      <th>24</th>\n      <td>78</td>\n      <td>BJ McLeod</td>\n      <td>37.0</td>\n      <td>32.0</td>\n      <td>27.0</td>\n      <td>32.3</td>\n      <td>-6</td>\n      <td>51</td>\n      <td>57</td>\n      <td>0</td>\n      <td>0.0</td>\n      <td>2</td>\n      <td>2</td>\n      <td>1.0</td>\n      <td>0</td>\n      <td>0.0</td>\n      <td>196</td>\n      <td>35.7</td>\n      <td>10</td>\n      <td>1</td>\n      <td>1</td>\n      <td>LFM</td>\n      <td>Ford</td>\n      <td>1</td>\n      <td>Daytona</td>\n      <td>Superspeedway</td>\n      <td>0.000</td>\n      <td>46.655</td>\n      <td>49.942</td>\n      <td>48.903</td>\n    </tr>\n    <tr>\n      <th>25</th>\n      <td>43</td>\n      <td>Erik Jones</td>\n      <td>13.0</td>\n      <td>17.0</td>\n      <td>29.0</td>\n      <td>12.1</td>\n      <td>-21</td>\n      <td>216</td>\n      <td>237</td>\n      <td>138</td>\n      <td>63.9</td>\n      <td>6</td>\n      <td>125</td>\n      <td>62.2</td>\n      <td>3</td>\n      <td>1.5</td>\n      <td>191</td>\n      <td>81.0</td>\n      <td>16</td>\n      <td>1</td>\n      <td>1</td>\n      <td>PGMS</td>\n      <td>Chevy</td>\n      <td>1</td>\n      <td>Daytona</td>\n      <td>Superspeedway</td>\n      <td>0.723</td>\n      <td>46.107</td>\n      <td>47.082</td>\n      <td>47.012</td>\n    </tr>\n    <tr>\n      <th>26</th>\n      <td>4</td>\n      <td>Kevin Harvick</td>\n      <td>22.0</td>\n      <td>4.0</td>\n      <td>30.0</td>\n      <td>13.7</td>\n      <td>-30</td>\n      <td>212</td>\n      <td>242</td>\n      <td>96</td>\n      <td>45.3</td>\n      <td>3</td>\n      <td>123</td>\n      <td>61.2</td>\n      <td>0</td>\n      <td>0.0</td>\n      <td>191</td>\n      <td>72.8</td>\n      <td>11</td>\n      <td>1</td>\n      <td>1</td>\n      <td>SHR</td>\n      <td>Ford</td>\n      <td>1</td>\n      <td>Daytona</td>\n      <td>Superspeedway</td>\n      <td>0.503</td>\n      <td>46.099</td>\n      <td>47.092</td>\n      <td>47.031</td>\n    </tr>\n    <tr>\n      <th>27</th>\n      <td>62</td>\n      <td>Noah Gragson</td>\n      <td>39.0</td>\n      <td>14.0</td>\n      <td>31.0</td>\n      <td>18.9</td>\n      <td>43</td>\n      <td>228</td>\n      <td>185</td>\n      <td>45</td>\n      <td>19.7</td>\n      <td>4</td>\n      <td>74</td>\n      <td>36.8</td>\n      <td>0</td>\n      <td>0.0</td>\n      <td>190</td>\n      <td>52.8</td>\n      <td>0</td>\n      <td>1</td>\n      <td>0</td>\n      <td>Kaulig</td>\n      <td>Chevy</td>\n      <td>1</td>\n      <td>Daytona</td>\n      <td>Superspeedway</td>\n      <td>0.237</td>\n      <td>46.155</td>\n      <td>47.228</td>\n      <td>47.220</td>\n    </tr>\n    <tr>\n      <th>28</th>\n      <td>5</td>\n      <td>Kyle Larson</td>\n      <td>1.0</td>\n      <td>13.0</td>\n      <td>32.0</td>\n      <td>13.0</td>\n      <td>-13</td>\n      <td>261</td>\n      <td>274</td>\n      <td>184</td>\n      <td>70.5</td>\n      <td>7</td>\n      <td>149</td>\n      <td>74.1</td>\n      <td>1</td>\n      <td>0.5</td>\n      <td>190</td>\n      <td>81.2</td>\n      <td>13</td>\n      <td>1</td>\n      <td>1</td>\n      <td>Hendrick</td>\n      <td>Chevy</td>\n      <td>1</td>\n      <td>Daytona</td>\n      <td>Superspeedway</td>\n      <td>0.968</td>\n      <td>46.083</td>\n      <td>47.068</td>\n      <td>46.997</td>\n    </tr>\n    <tr>\n      <th>29</th>\n      <td>38</td>\n      <td>Todd Gilliland</td>\n      <td>29.0</td>\n      <td>6.0</td>\n      <td>33.0</td>\n      <td>14.0</td>\n      <td>7</td>\n      <td>227</td>\n      <td>220</td>\n      <td>120</td>\n      <td>52.9</td>\n      <td>2</td>\n      <td>134</td>\n      <td>66.7</td>\n      <td>0</td>\n      <td>0.0</td>\n      <td>190</td>\n      <td>69.9</td>\n      <td>13</td>\n      <td>1</td>\n      <td>1</td>\n      <td>FRM</td>\n      <td>Ford</td>\n      <td>1</td>\n      <td>Daytona</td>\n      <td>Superspeedway</td>\n      <td>0.632</td>\n      <td>46.157</td>\n      <td>47.061</td>\n      <td>46.976</td>\n    </tr>\n    <tr>\n      <th>30</th>\n      <td>20</td>\n      <td>Christopher Bell</td>\n      <td>12.0</td>\n      <td>35.0</td>\n      <td>34.0</td>\n      <td>25.9</td>\n      <td>4</td>\n      <td>105</td>\n      <td>101</td>\n      <td>102</td>\n      <td>97.1</td>\n      <td>0</td>\n      <td>62</td>\n      <td>30.8</td>\n      <td>0</td>\n      <td>0.0</td>\n      <td>152</td>\n      <td>71.3</td>\n      <td>9</td>\n      <td>1</td>\n      <td>1</td>\n      <td>JGR</td>\n      <td>Toyota</td>\n      <td>1</td>\n      <td>Daytona</td>\n      <td>Superspeedway</td>\n      <td>0.671</td>\n      <td>46.507</td>\n      <td>50.274</td>\n      <td>48.571</td>\n    </tr>\n    <tr>\n      <th>31</th>\n      <td>8</td>\n      <td>Tyler Reddick</td>\n      <td>15.0</td>\n      <td>16.0</td>\n      <td>35.0</td>\n      <td>21.5</td>\n      <td>4</td>\n      <td>181</td>\n      <td>177</td>\n      <td>70</td>\n      <td>38.7</td>\n      <td>4</td>\n      <td>56</td>\n      <td>27.9</td>\n      <td>0</td>\n      <td>0.0</td>\n      <td>151</td>\n      <td>54.4</td>\n      <td>5</td>\n      <td>1</td>\n      <td>1</td>\n      <td>RCR</td>\n      <td>Chevy</td>\n      <td>1</td>\n      <td>Daytona</td>\n      <td>Superspeedway</td>\n      <td>0.464</td>\n      <td>46.124</td>\n      <td>47.146</td>\n      <td>47.126</td>\n    </tr>\n    <tr>\n      <th>32</th>\n      <td>44</td>\n      <td>Greg Biffle</td>\n      <td>28.0</td>\n      <td>40.0</td>\n      <td>36.0</td>\n      <td>37.5</td>\n      <td>-11</td>\n      <td>39</td>\n      <td>50</td>\n      <td>0</td>\n      <td>0.0</td>\n      <td>1</td>\n      <td>0</td>\n      <td>0.0</td>\n      <td>0</td>\n      <td>0.0</td>\n      <td>136</td>\n      <td>27.5</td>\n      <td>0</td>\n      <td>1</td>\n      <td>0</td>\n      <td>NYR</td>\n      <td>Chevy</td>\n      <td>1</td>\n      <td>Daytona</td>\n      <td>Superspeedway</td>\n      <td>0.000</td>\n      <td>46.673</td>\n      <td>49.933</td>\n      <td>48.951</td>\n    </tr>\n    <tr>\n      <th>33</th>\n      <td>11</td>\n      <td>Denny Hamlin</td>\n      <td>30.0</td>\n      <td>36.0</td>\n      <td>37.0</td>\n      <td>28.6</td>\n      <td>21</td>\n      <td>121</td>\n      <td>100</td>\n      <td>59</td>\n      <td>48.8</td>\n      <td>1</td>\n      <td>39</td>\n      <td>19.4</td>\n      <td>0</td>\n      <td>0.0</td>\n      <td>63</td>\n      <td>54.5</td>\n      <td>1</td>\n      <td>1</td>\n      <td>1</td>\n      <td>JGR</td>\n      <td>Toyota</td>\n      <td>1</td>\n      <td>Daytona</td>\n      <td>Superspeedway</td>\n      <td>0.937</td>\n      <td>46.517</td>\n      <td>47.230</td>\n      <td>47.127</td>\n    </tr>\n    <tr>\n      <th>34</th>\n      <td>24</td>\n      <td>William Byron</td>\n      <td>23.0</td>\n      <td>37.0</td>\n      <td>38.0</td>\n      <td>30.3</td>\n      <td>17</td>\n      <td>141</td>\n      <td>124</td>\n      <td>44</td>\n      <td>31.2</td>\n      <td>5</td>\n      <td>29</td>\n      <td>14.4</td>\n      <td>1</td>\n      <td>0.5</td>\n      <td>62</td>\n      <td>46.4</td>\n      <td>1</td>\n      <td>1</td>\n      <td>1</td>\n      <td>Hendrick</td>\n      <td>Chevy</td>\n      <td>1</td>\n      <td>Daytona</td>\n      <td>Superspeedway</td>\n      <td>0.710</td>\n      <td>46.508</td>\n      <td>47.220</td>\n      <td>47.133</td>\n    </tr>\n    <tr>\n      <th>35</th>\n      <td>21</td>\n      <td>Harrison Burton</td>\n      <td>8.0</td>\n      <td>38.0</td>\n      <td>39.0</td>\n      <td>30.3</td>\n      <td>2</td>\n      <td>130</td>\n      <td>128</td>\n      <td>68</td>\n      <td>52.3</td>\n      <td>1</td>\n      <td>38</td>\n      <td>18.9</td>\n      <td>3</td>\n      <td>1.5</td>\n      <td>62</td>\n      <td>50.9</td>\n      <td>9</td>\n      <td>1</td>\n      <td>1</td>\n      <td>WBR</td>\n      <td>Ford</td>\n      <td>1</td>\n      <td>Daytona</td>\n      <td>Superspeedway</td>\n      <td>1.097</td>\n      <td>46.280</td>\n      <td>47.318</td>\n      <td>47.158</td>\n    </tr>\n    <tr>\n      <th>36</th>\n      <td>1</td>\n      <td>Ross Chastain</td>\n      <td>19.0</td>\n      <td>39.0</td>\n      <td>40.0</td>\n      <td>32.4</td>\n      <td>2</td>\n      <td>145</td>\n      <td>143</td>\n      <td>56</td>\n      <td>38.6</td>\n      <td>3</td>\n      <td>27</td>\n      <td>13.4</td>\n      <td>0</td>\n      <td>0.0</td>\n      <td>62</td>\n      <td>41.9</td>\n      <td>2</td>\n      <td>1</td>\n      <td>1</td>\n      <td>Trackhouse</td>\n      <td>Chevy</td>\n      <td>1</td>\n      <td>Daytona</td>\n      <td>Superspeedway</td>\n      <td>0.903</td>\n      <td>46.522</td>\n      <td>47.298</td>\n      <td>47.304</td>\n    </tr>\n  </tbody>\n</table>\n</div>",
      "text/plain": "    Car #              Driver  Start  Mid Race  Finish  Average Position  \\\n1       2      Austin Cindric    5.0       2.0     1.0               6.2   \n2      23       Bubba Wallace   16.0      19.0     2.0              10.2   \n3      14       Chase Briscoe    9.0      10.0     3.0              18.3   \n4      12         Ryan Blaney    7.0       1.0     4.0               8.3   \n5      10       Aric Almirola   38.0      11.0     5.0              15.9   \n6      18          Kyle Busch   10.0      20.0     6.0              11.4   \n7      34    Michael McDowell    6.0       8.0     7.0              11.9   \n8      15         David Ragan   34.0      29.0     8.0              25.2   \n9       6     Brad Keselowski    3.0       5.0     9.0               4.8   \n10      9       Chase Elliott   11.0      23.0    10.0              16.1   \n11     42           Ty Dillon   26.0       9.0    11.0              16.3   \n12     16       Daniel Hemric   33.0      24.0    12.0              26.4   \n13     77      Landon Cassill   27.0      27.0    15.0              28.1   \n14     17      Chris Buescher    4.0       3.0    16.0               7.9   \n15     51           Cody Ware   32.0      28.0    17.0              27.1   \n16     45          Kurt Busch   17.0      21.0    19.0              17.6   \n17     41         Cole Custer   31.0       7.0    20.0              22.3   \n18     22         Joey Logano   20.0      12.0    21.0              17.7   \n19     27  Jacques Villeneuve   40.0      30.0    22.0              29.5   \n20     31        Justin Haley   25.0      31.0    23.0              30.8   \n21     48         Alex Bowman    2.0      34.0    24.0              27.1   \n22      3       Austin Dillon   36.0      26.0    25.0              27.1   \n23     50           Kaz Grala   35.0      33.0    26.0              33.4   \n24     78           BJ McLeod   37.0      32.0    27.0              32.3   \n25     43          Erik Jones   13.0      17.0    29.0              12.1   \n26      4       Kevin Harvick   22.0       4.0    30.0              13.7   \n27     62        Noah Gragson   39.0      14.0    31.0              18.9   \n28      5         Kyle Larson    1.0      13.0    32.0              13.0   \n29     38      Todd Gilliland   29.0       6.0    33.0              14.0   \n30     20    Christopher Bell   12.0      35.0    34.0              25.9   \n31      8       Tyler Reddick   15.0      16.0    35.0              21.5   \n32     44         Greg Biffle   28.0      40.0    36.0              37.5   \n33     11        Denny Hamlin   30.0      36.0    37.0              28.6   \n34     24       William Byron   23.0      37.0    38.0              30.3   \n35     21     Harrison Burton    8.0      38.0    39.0              30.3   \n36      1       Ross Chastain   19.0      39.0    40.0              32.4   \n\n    Pass Differential  Green Passes  Green Passed  Quality Passes  \\\n1                 -13           168           181             125   \n2                  16           253           237             191   \n3                  17           209           192              70   \n4                 -18           163           181             134   \n5                   8           244           236              97   \n6                   9           255           246             182   \n7                 -19           222           241             160   \n8                  -9           110           119               8   \n9                   1           171           170             148   \n10                 -2           249           251             131   \n11                -20           210           230              62   \n12                 -2            96            98              28   \n13                 -2            71            73               2   \n14                -13           161           174             136   \n15                -22            57            79               0   \n16                 21           201           180             116   \n17                -17           127           144              22   \n18                 50           244           194              79   \n19                 -5            50            55               0   \n20                 -5            67            72               4   \n21                 -5           132           137              73   \n22                  7           139           132              14   \n23                 -4            52            56               0   \n24                 -6            51            57               0   \n25                -21           216           237             138   \n26                -30           212           242              96   \n27                 43           228           185              45   \n28                -13           261           274             184   \n29                  7           227           220             120   \n30                  4           105           101             102   \n31                  4           181           177              70   \n32                -11            39            50               0   \n33                 21           121           100              59   \n34                 17           141           124              44   \n35                  2           130           128              68   \n36                  2           145           143              56   \n\n    % Quality Passes  # Fastest Laps  Laps in Top 15  % Laps in Top 15  \\\n1               74.4               0             176              87.6   \n2               75.5               7             145              72.1   \n3               33.5               6              88              43.8   \n4               82.2               3             175              87.1   \n5               39.8               4             104              51.7   \n6               71.4               5             125              62.2   \n7               72.1               2             144              71.6   \n8                7.3               6              18               9.0   \n9               86.5               4             198              98.5   \n10              52.6               6              93              46.3   \n11              29.5               3             102              50.7   \n12              29.2               7              20              10.0   \n13               2.8               2               8               4.0   \n14              84.5               1             173              86.1   \n15               0.0               4               0               0.0   \n16              57.7              11              80              39.8   \n17              17.3               3              47              23.4   \n18              32.4               8              80              39.8   \n19               0.0               6               2               1.0   \n20               6.0               2               2               1.0   \n21              55.3               6              34              16.9   \n22              10.1               3              10               5.0   \n23               0.0               1               0               0.0   \n24               0.0               2               2               1.0   \n25              63.9               6             125              62.2   \n26              45.3               3             123              61.2   \n27              19.7               4              74              36.8   \n28              70.5               7             149              74.1   \n29              52.9               2             134              66.7   \n30              97.1               0              62              30.8   \n31              38.7               4              56              27.9   \n32               0.0               1               0               0.0   \n33              48.8               1              39              19.4   \n34              31.2               5              29              14.4   \n35              52.3               1              38              18.9   \n36              38.6               3              27              13.4   \n\n    Laps Led  % Laps Led  Total Laps  Driver Rating  Points  Races  \\\n1         21        10.4         201          122.4      54      1   \n2         12         6.0         201          104.7      47      1   \n3          0         0.0         201           75.0      41      1   \n4         36        17.9         201          107.5      41      1   \n5          0         0.0         201           80.3      32      1   \n6         28        13.9         201          101.4      38      1   \n7          0         0.0         201           93.6      39      1   \n8          0         0.0         201           63.7      29      1   \n9         67        33.3         201          121.3      54      1   \n10         0         0.0         201           72.5      34      1   \n11         0         0.0         201           77.7      26      1   \n12         0         0.0         201           60.6       0      1   \n13         0         0.0         201           51.7       0      1   \n14         0         0.0         200           97.4      35      1   \n15         0         0.0         200           48.6      20      1   \n16         0         0.0         199           74.6      24      1   \n17         0         0.0         199           55.2      17      1   \n18         1         0.5         198           83.6      33      1   \n19         0         0.0         198           42.7      15      1   \n20         0         0.0         198           41.4      14      1   \n21         0         0.0         197           65.8      13      1   \n22         1         0.5         197           43.0      17      1   \n23         0         0.0         196           35.8       0      1   \n24         0         0.0         196           35.7      10      1   \n25         3         1.5         191           81.0      16      1   \n26         0         0.0         191           72.8      11      1   \n27         0         0.0         190           52.8       0      1   \n28         1         0.5         190           81.2      13      1   \n29         0         0.0         190           69.9      13      1   \n30         0         0.0         152           71.3       9      1   \n31         0         0.0         151           54.4       5      1   \n32         0         0.0         136           27.5       0      1   \n33         0         0.0          63           54.5       1      1   \n34         1         0.5          62           46.4       1      1   \n35         3         1.5          62           50.9       9      1   \n36         0         0.0          62           41.9       2      1   \n\n    Points Eligible        Team    Make  Race #    Track     Track Type  \\\n1                 1      Penske    Ford       1  Daytona  Superspeedway   \n2                 1        23X1  Toyota       1  Daytona  Superspeedway   \n3                 1         SHR    Ford       1  Daytona  Superspeedway   \n4                 1      Penske    Ford       1  Daytona  Superspeedway   \n5                 1         SHR    Ford       1  Daytona  Superspeedway   \n6                 1         JGR  Toyota       1  Daytona  Superspeedway   \n7                 1         FRM    Ford       1  Daytona  Superspeedway   \n8                 1         RWR    Ford       1  Daytona  Superspeedway   \n9                 1         RFK    Ford       1  Daytona  Superspeedway   \n10                1    Hendrick   Chevy       1  Daytona  Superspeedway   \n11                1        PGMS   Chevy       1  Daytona  Superspeedway   \n12                0      Kaulig   Chevy       1  Daytona  Superspeedway   \n13                0       Spire   Chevy       1  Daytona  Superspeedway   \n14                1         RFK    Ford       1  Daytona  Superspeedway   \n15                1         RWR    Ford       1  Daytona  Superspeedway   \n16                1        23X1  Toyota       1  Daytona  Superspeedway   \n17                1         SHR    Ford       1  Daytona  Superspeedway   \n18                1      Penske    Ford       1  Daytona  Superspeedway   \n19                1    Hezeberg    Ford       1  Daytona  Superspeedway   \n20                1      Kaulig   Chevy       1  Daytona  Superspeedway   \n21                1    Hendrick   Chevy       1  Daytona  Superspeedway   \n22                1         RCR   Chevy       1  Daytona  Superspeedway   \n23                0         TMT   Chevy       1  Daytona  Superspeedway   \n24                1         LFM    Ford       1  Daytona  Superspeedway   \n25                1        PGMS   Chevy       1  Daytona  Superspeedway   \n26                1         SHR    Ford       1  Daytona  Superspeedway   \n27                0      Kaulig   Chevy       1  Daytona  Superspeedway   \n28                1    Hendrick   Chevy       1  Daytona  Superspeedway   \n29                1         FRM    Ford       1  Daytona  Superspeedway   \n30                1         JGR  Toyota       1  Daytona  Superspeedway   \n31                1         RCR   Chevy       1  Daytona  Superspeedway   \n32                0         NYR   Chevy       1  Daytona  Superspeedway   \n33                1         JGR  Toyota       1  Daytona  Superspeedway   \n34                1    Hendrick   Chevy       1  Daytona  Superspeedway   \n35                1         WBR    Ford       1  Daytona  Superspeedway   \n36                1  Trackhouse   Chevy       1  Daytona  Superspeedway   \n\n    Quality Passes Per Lap  Fastest Lap  Median Lap  Average Full Speed Lap  \n1                    0.622       46.102      47.081                  46.992  \n2                    0.950       46.114      47.094                  46.973  \n3                    0.348       46.046      47.238                  47.263  \n4                    0.667       46.141      47.081                  47.014  \n5                    0.483       46.196      47.131                  47.068  \n6                    0.905       46.152      47.098                  47.000  \n7                    0.796       46.030      47.162                  47.044  \n8                    0.040       45.867      47.424                  47.282  \n9                    0.736       46.070      47.084                  46.987  \n10                   0.652       46.247      47.242                  47.195  \n11                   0.308       46.273      47.117                  47.038  \n12                   0.139       46.014      47.723                  47.512  \n13                   0.010       46.429      48.132                  47.860  \n14                   0.680       46.169      47.112                  47.045  \n15                   0.000       46.139      47.882                  47.665  \n16                   0.583       45.882      47.206                  47.065  \n17                   0.111       46.198      47.314                  47.308  \n18                   0.399       45.907      47.094                  46.958  \n19                   0.000       46.344      48.780                  48.204  \n20                   0.020       46.176      48.328                  47.919  \n21                   0.371       46.069      47.304                  47.221  \n22                   0.071       45.979      49.703                  48.062  \n23                   0.000       46.731      48.933                  48.341  \n24                   0.000       46.655      49.942                  48.903  \n25                   0.723       46.107      47.082                  47.012  \n26                   0.503       46.099      47.092                  47.031  \n27                   0.237       46.155      47.228                  47.220  \n28                   0.968       46.083      47.068                  46.997  \n29                   0.632       46.157      47.061                  46.976  \n30                   0.671       46.507      50.274                  48.571  \n31                   0.464       46.124      47.146                  47.126  \n32                   0.000       46.673      49.933                  48.951  \n33                   0.937       46.517      47.230                  47.127  \n34                   0.710       46.508      47.220                  47.133  \n35                   1.097       46.280      47.318                  47.158  \n36                   0.903       46.522      47.298                  47.304  "
     },
     "execution_count": 12,
     "metadata": {},
     "output_type": "execute_result"
    }
   ]
  },
  {
   "cell_type": "code",
   "metadata": {
    "cell_id": "00012-5c8ca240-7a27-4ff1-9128-4bcffca5f544",
    "deepnote_cell_type": "code",
    "deepnote_cell_height": 138
   },
   "source": "def add_lap_ranks(df):\n    df[\"Fastest Lap Rank\"] = df[\"Fastest Lap\"].rank(method=\"min\")\n    df[\"Median Lap Rank\"] = df[\"Median Lap\"].rank(method=\"min\")\n    df[\"Average Full Speed Lap Rank\"] = df[\"Average Full Speed Lap\"].rank(method=\"min\")\n    return df",
   "execution_count": null,
   "outputs": []
  },
  {
   "cell_type": "code",
   "metadata": {
    "scrolled": false,
    "cell_id": "00013-a39fe567-e06e-436d-828d-69bc991c30d1",
    "deepnote_cell_type": "code",
    "deepnote_cell_height": 722,
    "deepnote_output_heights": [
     607
    ]
   },
   "source": "daytona1 = add_lap_ranks(daytona1)\ndaytona1",
   "execution_count": null,
   "outputs": [
    {
     "data": {
      "text/html": "<div>\n<style scoped>\n    .dataframe tbody tr th:only-of-type {\n        vertical-align: middle;\n    }\n\n    .dataframe tbody tr th {\n        vertical-align: top;\n    }\n\n    .dataframe thead th {\n        text-align: right;\n    }\n</style>\n<table border=\"1\" class=\"dataframe\">\n  <thead>\n    <tr style=\"text-align: right;\">\n      <th></th>\n      <th>Car #</th>\n      <th>Driver</th>\n      <th>Start</th>\n      <th>Mid Race</th>\n      <th>Finish</th>\n      <th>Average Position</th>\n      <th>Pass Differential</th>\n      <th>Green Passes</th>\n      <th>Green Passed</th>\n      <th>Quality Passes</th>\n      <th>% Quality Passes</th>\n      <th># Fastest Laps</th>\n      <th>Laps in Top 15</th>\n      <th>% Laps in Top 15</th>\n      <th>Laps Led</th>\n      <th>% Laps Led</th>\n      <th>Total Laps</th>\n      <th>Driver Rating</th>\n      <th>Points</th>\n      <th>Races</th>\n      <th>Points Eligible</th>\n      <th>Team</th>\n      <th>Make</th>\n      <th>Race #</th>\n      <th>Track</th>\n      <th>Track Type</th>\n      <th>Quality Passes Per Lap</th>\n      <th>Fastest Lap</th>\n      <th>Median Lap</th>\n      <th>Average Full Speed Lap</th>\n      <th>Fastest Lap Rank</th>\n      <th>Median Lap Rank</th>\n      <th>Average Full Speed Lap Rank</th>\n    </tr>\n  </thead>\n  <tbody>\n    <tr>\n      <th>1</th>\n      <td>2</td>\n      <td>Austin Cindric</td>\n      <td>5.0</td>\n      <td>2.0</td>\n      <td>1.0</td>\n      <td>6.2</td>\n      <td>-13</td>\n      <td>168</td>\n      <td>181</td>\n      <td>125</td>\n      <td>74.4</td>\n      <td>0</td>\n      <td>176</td>\n      <td>87.6</td>\n      <td>21</td>\n      <td>10.4</td>\n      <td>201</td>\n      <td>122.4</td>\n      <td>54</td>\n      <td>1</td>\n      <td>1</td>\n      <td>Penske</td>\n      <td>Ford</td>\n      <td>1</td>\n      <td>Daytona</td>\n      <td>Superspeedway</td>\n      <td>0.622</td>\n      <td>46.102</td>\n      <td>47.081</td>\n      <td>46.992</td>\n      <td>12.0</td>\n      <td>3.0</td>\n      <td>5.0</td>\n    </tr>\n    <tr>\n      <th>2</th>\n      <td>23</td>\n      <td>Bubba Wallace</td>\n      <td>16.0</td>\n      <td>19.0</td>\n      <td>2.0</td>\n      <td>10.2</td>\n      <td>16</td>\n      <td>253</td>\n      <td>237</td>\n      <td>191</td>\n      <td>75.5</td>\n      <td>7</td>\n      <td>145</td>\n      <td>72.1</td>\n      <td>12</td>\n      <td>6.0</td>\n      <td>201</td>\n      <td>104.7</td>\n      <td>47</td>\n      <td>1</td>\n      <td>1</td>\n      <td>23X1</td>\n      <td>Toyota</td>\n      <td>1</td>\n      <td>Daytona</td>\n      <td>Superspeedway</td>\n      <td>0.950</td>\n      <td>46.114</td>\n      <td>47.094</td>\n      <td>46.973</td>\n      <td>14.0</td>\n      <td>8.0</td>\n      <td>2.0</td>\n    </tr>\n    <tr>\n      <th>3</th>\n      <td>14</td>\n      <td>Chase Briscoe</td>\n      <td>9.0</td>\n      <td>10.0</td>\n      <td>3.0</td>\n      <td>18.3</td>\n      <td>17</td>\n      <td>209</td>\n      <td>192</td>\n      <td>70</td>\n      <td>33.5</td>\n      <td>6</td>\n      <td>88</td>\n      <td>43.8</td>\n      <td>0</td>\n      <td>0.0</td>\n      <td>201</td>\n      <td>75.0</td>\n      <td>41</td>\n      <td>1</td>\n      <td>1</td>\n      <td>SHR</td>\n      <td>Ford</td>\n      <td>1</td>\n      <td>Daytona</td>\n      <td>Superspeedway</td>\n      <td>0.348</td>\n      <td>46.046</td>\n      <td>47.238</td>\n      <td>47.263</td>\n      <td>7.0</td>\n      <td>20.0</td>\n      <td>23.0</td>\n    </tr>\n    <tr>\n      <th>4</th>\n      <td>12</td>\n      <td>Ryan Blaney</td>\n      <td>7.0</td>\n      <td>1.0</td>\n      <td>4.0</td>\n      <td>8.3</td>\n      <td>-18</td>\n      <td>163</td>\n      <td>181</td>\n      <td>134</td>\n      <td>82.2</td>\n      <td>3</td>\n      <td>175</td>\n      <td>87.1</td>\n      <td>36</td>\n      <td>17.9</td>\n      <td>201</td>\n      <td>107.5</td>\n      <td>41</td>\n      <td>1</td>\n      <td>1</td>\n      <td>Penske</td>\n      <td>Ford</td>\n      <td>1</td>\n      <td>Daytona</td>\n      <td>Superspeedway</td>\n      <td>0.667</td>\n      <td>46.141</td>\n      <td>47.081</td>\n      <td>47.014</td>\n      <td>17.0</td>\n      <td>3.0</td>\n      <td>9.0</td>\n    </tr>\n    <tr>\n      <th>5</th>\n      <td>10</td>\n      <td>Aric Almirola</td>\n      <td>38.0</td>\n      <td>11.0</td>\n      <td>5.0</td>\n      <td>15.9</td>\n      <td>8</td>\n      <td>244</td>\n      <td>236</td>\n      <td>97</td>\n      <td>39.8</td>\n      <td>4</td>\n      <td>104</td>\n      <td>51.7</td>\n      <td>0</td>\n      <td>0.0</td>\n      <td>201</td>\n      <td>80.3</td>\n      <td>32</td>\n      <td>1</td>\n      <td>1</td>\n      <td>SHR</td>\n      <td>Ford</td>\n      <td>1</td>\n      <td>Daytona</td>\n      <td>Superspeedway</td>\n      <td>0.483</td>\n      <td>46.196</td>\n      <td>47.131</td>\n      <td>47.068</td>\n      <td>23.0</td>\n      <td>13.0</td>\n      <td>15.0</td>\n    </tr>\n    <tr>\n      <th>6</th>\n      <td>18</td>\n      <td>Kyle Busch</td>\n      <td>10.0</td>\n      <td>20.0</td>\n      <td>6.0</td>\n      <td>11.4</td>\n      <td>9</td>\n      <td>255</td>\n      <td>246</td>\n      <td>182</td>\n      <td>71.4</td>\n      <td>5</td>\n      <td>125</td>\n      <td>62.2</td>\n      <td>28</td>\n      <td>13.9</td>\n      <td>201</td>\n      <td>101.4</td>\n      <td>38</td>\n      <td>1</td>\n      <td>1</td>\n      <td>JGR</td>\n      <td>Toyota</td>\n      <td>1</td>\n      <td>Daytona</td>\n      <td>Superspeedway</td>\n      <td>0.905</td>\n      <td>46.152</td>\n      <td>47.098</td>\n      <td>47.000</td>\n      <td>18.0</td>\n      <td>10.0</td>\n      <td>7.0</td>\n    </tr>\n    <tr>\n      <th>7</th>\n      <td>34</td>\n      <td>Michael McDowell</td>\n      <td>6.0</td>\n      <td>8.0</td>\n      <td>7.0</td>\n      <td>11.9</td>\n      <td>-19</td>\n      <td>222</td>\n      <td>241</td>\n      <td>160</td>\n      <td>72.1</td>\n      <td>2</td>\n      <td>144</td>\n      <td>71.6</td>\n      <td>0</td>\n      <td>0.0</td>\n      <td>201</td>\n      <td>93.6</td>\n      <td>39</td>\n      <td>1</td>\n      <td>1</td>\n      <td>FRM</td>\n      <td>Ford</td>\n      <td>1</td>\n      <td>Daytona</td>\n      <td>Superspeedway</td>\n      <td>0.796</td>\n      <td>46.030</td>\n      <td>47.162</td>\n      <td>47.044</td>\n      <td>6.0</td>\n      <td>15.0</td>\n      <td>12.0</td>\n    </tr>\n    <tr>\n      <th>8</th>\n      <td>15</td>\n      <td>David Ragan</td>\n      <td>34.0</td>\n      <td>29.0</td>\n      <td>8.0</td>\n      <td>25.2</td>\n      <td>-9</td>\n      <td>110</td>\n      <td>119</td>\n      <td>8</td>\n      <td>7.3</td>\n      <td>6</td>\n      <td>18</td>\n      <td>9.0</td>\n      <td>0</td>\n      <td>0.0</td>\n      <td>201</td>\n      <td>63.7</td>\n      <td>29</td>\n      <td>1</td>\n      <td>1</td>\n      <td>RWR</td>\n      <td>Ford</td>\n      <td>1</td>\n      <td>Daytona</td>\n      <td>Superspeedway</td>\n      <td>0.040</td>\n      <td>45.867</td>\n      <td>47.424</td>\n      <td>47.282</td>\n      <td>1.0</td>\n      <td>26.0</td>\n      <td>24.0</td>\n    </tr>\n    <tr>\n      <th>9</th>\n      <td>6</td>\n      <td>Brad Keselowski</td>\n      <td>3.0</td>\n      <td>5.0</td>\n      <td>9.0</td>\n      <td>4.8</td>\n      <td>1</td>\n      <td>171</td>\n      <td>170</td>\n      <td>148</td>\n      <td>86.5</td>\n      <td>4</td>\n      <td>198</td>\n      <td>98.5</td>\n      <td>67</td>\n      <td>33.3</td>\n      <td>201</td>\n      <td>121.3</td>\n      <td>54</td>\n      <td>1</td>\n      <td>1</td>\n      <td>RFK</td>\n      <td>Ford</td>\n      <td>1</td>\n      <td>Daytona</td>\n      <td>Superspeedway</td>\n      <td>0.736</td>\n      <td>46.070</td>\n      <td>47.084</td>\n      <td>46.987</td>\n      <td>9.0</td>\n      <td>6.0</td>\n      <td>4.0</td>\n    </tr>\n    <tr>\n      <th>10</th>\n      <td>9</td>\n      <td>Chase Elliott</td>\n      <td>11.0</td>\n      <td>23.0</td>\n      <td>10.0</td>\n      <td>16.1</td>\n      <td>-2</td>\n      <td>249</td>\n      <td>251</td>\n      <td>131</td>\n      <td>52.6</td>\n      <td>6</td>\n      <td>93</td>\n      <td>46.3</td>\n      <td>0</td>\n      <td>0.0</td>\n      <td>201</td>\n      <td>72.5</td>\n      <td>34</td>\n      <td>1</td>\n      <td>1</td>\n      <td>Hendrick</td>\n      <td>Chevy</td>\n      <td>1</td>\n      <td>Daytona</td>\n      <td>Superspeedway</td>\n      <td>0.652</td>\n      <td>46.247</td>\n      <td>47.242</td>\n      <td>47.195</td>\n      <td>25.0</td>\n      <td>21.0</td>\n      <td>20.0</td>\n    </tr>\n    <tr>\n      <th>11</th>\n      <td>42</td>\n      <td>Ty Dillon</td>\n      <td>26.0</td>\n      <td>9.0</td>\n      <td>11.0</td>\n      <td>16.3</td>\n      <td>-20</td>\n      <td>210</td>\n      <td>230</td>\n      <td>62</td>\n      <td>29.5</td>\n      <td>3</td>\n      <td>102</td>\n      <td>50.7</td>\n      <td>0</td>\n      <td>0.0</td>\n      <td>201</td>\n      <td>77.7</td>\n      <td>26</td>\n      <td>1</td>\n      <td>1</td>\n      <td>PGMS</td>\n      <td>Chevy</td>\n      <td>1</td>\n      <td>Daytona</td>\n      <td>Superspeedway</td>\n      <td>0.308</td>\n      <td>46.273</td>\n      <td>47.117</td>\n      <td>47.038</td>\n      <td>26.0</td>\n      <td>12.0</td>\n      <td>11.0</td>\n    </tr>\n    <tr>\n      <th>12</th>\n      <td>16</td>\n      <td>Daniel Hemric</td>\n      <td>33.0</td>\n      <td>24.0</td>\n      <td>12.0</td>\n      <td>26.4</td>\n      <td>-2</td>\n      <td>96</td>\n      <td>98</td>\n      <td>28</td>\n      <td>29.2</td>\n      <td>7</td>\n      <td>20</td>\n      <td>10.0</td>\n      <td>0</td>\n      <td>0.0</td>\n      <td>201</td>\n      <td>60.6</td>\n      <td>0</td>\n      <td>1</td>\n      <td>0</td>\n      <td>Kaulig</td>\n      <td>Chevy</td>\n      <td>1</td>\n      <td>Daytona</td>\n      <td>Superspeedway</td>\n      <td>0.139</td>\n      <td>46.014</td>\n      <td>47.723</td>\n      <td>47.512</td>\n      <td>5.0</td>\n      <td>27.0</td>\n      <td>27.0</td>\n    </tr>\n    <tr>\n      <th>13</th>\n      <td>77</td>\n      <td>Landon Cassill</td>\n      <td>27.0</td>\n      <td>27.0</td>\n      <td>15.0</td>\n      <td>28.1</td>\n      <td>-2</td>\n      <td>71</td>\n      <td>73</td>\n      <td>2</td>\n      <td>2.8</td>\n      <td>2</td>\n      <td>8</td>\n      <td>4.0</td>\n      <td>0</td>\n      <td>0.0</td>\n      <td>201</td>\n      <td>51.7</td>\n      <td>0</td>\n      <td>1</td>\n      <td>0</td>\n      <td>Spire</td>\n      <td>Chevy</td>\n      <td>1</td>\n      <td>Daytona</td>\n      <td>Superspeedway</td>\n      <td>0.010</td>\n      <td>46.429</td>\n      <td>48.132</td>\n      <td>47.860</td>\n      <td>29.0</td>\n      <td>29.0</td>\n      <td>29.0</td>\n    </tr>\n    <tr>\n      <th>14</th>\n      <td>17</td>\n      <td>Chris Buescher</td>\n      <td>4.0</td>\n      <td>3.0</td>\n      <td>16.0</td>\n      <td>7.9</td>\n      <td>-13</td>\n      <td>161</td>\n      <td>174</td>\n      <td>136</td>\n      <td>84.5</td>\n      <td>1</td>\n      <td>173</td>\n      <td>86.1</td>\n      <td>0</td>\n      <td>0.0</td>\n      <td>200</td>\n      <td>97.4</td>\n      <td>35</td>\n      <td>1</td>\n      <td>1</td>\n      <td>RFK</td>\n      <td>Ford</td>\n      <td>1</td>\n      <td>Daytona</td>\n      <td>Superspeedway</td>\n      <td>0.680</td>\n      <td>46.169</td>\n      <td>47.112</td>\n      <td>47.045</td>\n      <td>21.0</td>\n      <td>11.0</td>\n      <td>13.0</td>\n    </tr>\n    <tr>\n      <th>15</th>\n      <td>51</td>\n      <td>Cody Ware</td>\n      <td>32.0</td>\n      <td>28.0</td>\n      <td>17.0</td>\n      <td>27.1</td>\n      <td>-22</td>\n      <td>57</td>\n      <td>79</td>\n      <td>0</td>\n      <td>0.0</td>\n      <td>4</td>\n      <td>0</td>\n      <td>0.0</td>\n      <td>0</td>\n      <td>0.0</td>\n      <td>200</td>\n      <td>48.6</td>\n      <td>20</td>\n      <td>1</td>\n      <td>1</td>\n      <td>RWR</td>\n      <td>Ford</td>\n      <td>1</td>\n      <td>Daytona</td>\n      <td>Superspeedway</td>\n      <td>0.000</td>\n      <td>46.139</td>\n      <td>47.882</td>\n      <td>47.665</td>\n      <td>16.0</td>\n      <td>28.0</td>\n      <td>28.0</td>\n    </tr>\n    <tr>\n      <th>16</th>\n      <td>45</td>\n      <td>Kurt Busch</td>\n      <td>17.0</td>\n      <td>21.0</td>\n      <td>19.0</td>\n      <td>17.6</td>\n      <td>21</td>\n      <td>201</td>\n      <td>180</td>\n      <td>116</td>\n      <td>57.7</td>\n      <td>11</td>\n      <td>80</td>\n      <td>39.8</td>\n      <td>0</td>\n      <td>0.0</td>\n      <td>199</td>\n      <td>74.6</td>\n      <td>24</td>\n      <td>1</td>\n      <td>1</td>\n      <td>23X1</td>\n      <td>Toyota</td>\n      <td>1</td>\n      <td>Daytona</td>\n      <td>Superspeedway</td>\n      <td>0.583</td>\n      <td>45.882</td>\n      <td>47.206</td>\n      <td>47.065</td>\n      <td>2.0</td>\n      <td>16.0</td>\n      <td>14.0</td>\n    </tr>\n    <tr>\n      <th>17</th>\n      <td>41</td>\n      <td>Cole Custer</td>\n      <td>31.0</td>\n      <td>7.0</td>\n      <td>20.0</td>\n      <td>22.3</td>\n      <td>-17</td>\n      <td>127</td>\n      <td>144</td>\n      <td>22</td>\n      <td>17.3</td>\n      <td>3</td>\n      <td>47</td>\n      <td>23.4</td>\n      <td>0</td>\n      <td>0.0</td>\n      <td>199</td>\n      <td>55.2</td>\n      <td>17</td>\n      <td>1</td>\n      <td>1</td>\n      <td>SHR</td>\n      <td>Ford</td>\n      <td>1</td>\n      <td>Daytona</td>\n      <td>Superspeedway</td>\n      <td>0.111</td>\n      <td>46.198</td>\n      <td>47.314</td>\n      <td>47.308</td>\n      <td>24.0</td>\n      <td>24.0</td>\n      <td>26.0</td>\n    </tr>\n    <tr>\n      <th>18</th>\n      <td>22</td>\n      <td>Joey Logano</td>\n      <td>20.0</td>\n      <td>12.0</td>\n      <td>21.0</td>\n      <td>17.7</td>\n      <td>50</td>\n      <td>244</td>\n      <td>194</td>\n      <td>79</td>\n      <td>32.4</td>\n      <td>8</td>\n      <td>80</td>\n      <td>39.8</td>\n      <td>1</td>\n      <td>0.5</td>\n      <td>198</td>\n      <td>83.6</td>\n      <td>33</td>\n      <td>1</td>\n      <td>1</td>\n      <td>Penske</td>\n      <td>Ford</td>\n      <td>1</td>\n      <td>Daytona</td>\n      <td>Superspeedway</td>\n      <td>0.399</td>\n      <td>45.907</td>\n      <td>47.094</td>\n      <td>46.958</td>\n      <td>3.0</td>\n      <td>8.0</td>\n      <td>1.0</td>\n    </tr>\n    <tr>\n      <th>19</th>\n      <td>27</td>\n      <td>Jacques Villeneuve</td>\n      <td>40.0</td>\n      <td>30.0</td>\n      <td>22.0</td>\n      <td>29.5</td>\n      <td>-5</td>\n      <td>50</td>\n      <td>55</td>\n      <td>0</td>\n      <td>0.0</td>\n      <td>6</td>\n      <td>2</td>\n      <td>1.0</td>\n      <td>0</td>\n      <td>0.0</td>\n      <td>198</td>\n      <td>42.7</td>\n      <td>15</td>\n      <td>1</td>\n      <td>1</td>\n      <td>Hezeberg</td>\n      <td>Ford</td>\n      <td>1</td>\n      <td>Daytona</td>\n      <td>Superspeedway</td>\n      <td>0.000</td>\n      <td>46.344</td>\n      <td>48.780</td>\n      <td>48.204</td>\n      <td>28.0</td>\n      <td>31.0</td>\n      <td>32.0</td>\n    </tr>\n    <tr>\n      <th>20</th>\n      <td>31</td>\n      <td>Justin Haley</td>\n      <td>25.0</td>\n      <td>31.0</td>\n      <td>23.0</td>\n      <td>30.8</td>\n      <td>-5</td>\n      <td>67</td>\n      <td>72</td>\n      <td>4</td>\n      <td>6.0</td>\n      <td>2</td>\n      <td>2</td>\n      <td>1.0</td>\n      <td>0</td>\n      <td>0.0</td>\n      <td>198</td>\n      <td>41.4</td>\n      <td>14</td>\n      <td>1</td>\n      <td>1</td>\n      <td>Kaulig</td>\n      <td>Chevy</td>\n      <td>1</td>\n      <td>Daytona</td>\n      <td>Superspeedway</td>\n      <td>0.020</td>\n      <td>46.176</td>\n      <td>48.328</td>\n      <td>47.919</td>\n      <td>22.0</td>\n      <td>30.0</td>\n      <td>30.0</td>\n    </tr>\n    <tr>\n      <th>21</th>\n      <td>48</td>\n      <td>Alex Bowman</td>\n      <td>2.0</td>\n      <td>34.0</td>\n      <td>24.0</td>\n      <td>27.1</td>\n      <td>-5</td>\n      <td>132</td>\n      <td>137</td>\n      <td>73</td>\n      <td>55.3</td>\n      <td>6</td>\n      <td>34</td>\n      <td>16.9</td>\n      <td>0</td>\n      <td>0.0</td>\n      <td>197</td>\n      <td>65.8</td>\n      <td>13</td>\n      <td>1</td>\n      <td>1</td>\n      <td>Hendrick</td>\n      <td>Chevy</td>\n      <td>1</td>\n      <td>Daytona</td>\n      <td>Superspeedway</td>\n      <td>0.371</td>\n      <td>46.069</td>\n      <td>47.304</td>\n      <td>47.221</td>\n      <td>8.0</td>\n      <td>23.0</td>\n      <td>22.0</td>\n    </tr>\n    <tr>\n      <th>22</th>\n      <td>3</td>\n      <td>Austin Dillon</td>\n      <td>36.0</td>\n      <td>26.0</td>\n      <td>25.0</td>\n      <td>27.1</td>\n      <td>7</td>\n      <td>139</td>\n      <td>132</td>\n      <td>14</td>\n      <td>10.1</td>\n      <td>3</td>\n      <td>10</td>\n      <td>5.0</td>\n      <td>1</td>\n      <td>0.5</td>\n      <td>197</td>\n      <td>43.0</td>\n      <td>17</td>\n      <td>1</td>\n      <td>1</td>\n      <td>RCR</td>\n      <td>Chevy</td>\n      <td>1</td>\n      <td>Daytona</td>\n      <td>Superspeedway</td>\n      <td>0.071</td>\n      <td>45.979</td>\n      <td>49.703</td>\n      <td>48.062</td>\n      <td>4.0</td>\n      <td>33.0</td>\n      <td>31.0</td>\n    </tr>\n    <tr>\n      <th>23</th>\n      <td>50</td>\n      <td>Kaz Grala</td>\n      <td>35.0</td>\n      <td>33.0</td>\n      <td>26.0</td>\n      <td>33.4</td>\n      <td>-4</td>\n      <td>52</td>\n      <td>56</td>\n      <td>0</td>\n      <td>0.0</td>\n      <td>1</td>\n      <td>0</td>\n      <td>0.0</td>\n      <td>0</td>\n      <td>0.0</td>\n      <td>196</td>\n      <td>35.8</td>\n      <td>0</td>\n      <td>1</td>\n      <td>0</td>\n      <td>TMT</td>\n      <td>Chevy</td>\n      <td>1</td>\n      <td>Daytona</td>\n      <td>Superspeedway</td>\n      <td>0.000</td>\n      <td>46.731</td>\n      <td>48.933</td>\n      <td>48.341</td>\n      <td>36.0</td>\n      <td>32.0</td>\n      <td>33.0</td>\n    </tr>\n    <tr>\n      <th>24</th>\n      <td>78</td>\n      <td>BJ McLeod</td>\n      <td>37.0</td>\n      <td>32.0</td>\n      <td>27.0</td>\n      <td>32.3</td>\n      <td>-6</td>\n      <td>51</td>\n      <td>57</td>\n      <td>0</td>\n      <td>0.0</td>\n      <td>2</td>\n      <td>2</td>\n      <td>1.0</td>\n      <td>0</td>\n      <td>0.0</td>\n      <td>196</td>\n      <td>35.7</td>\n      <td>10</td>\n      <td>1</td>\n      <td>1</td>\n      <td>LFM</td>\n      <td>Ford</td>\n      <td>1</td>\n      <td>Daytona</td>\n      <td>Superspeedway</td>\n      <td>0.000</td>\n      <td>46.655</td>\n      <td>49.942</td>\n      <td>48.903</td>\n      <td>34.0</td>\n      <td>35.0</td>\n      <td>35.0</td>\n    </tr>\n    <tr>\n      <th>25</th>\n      <td>43</td>\n      <td>Erik Jones</td>\n      <td>13.0</td>\n      <td>17.0</td>\n      <td>29.0</td>\n      <td>12.1</td>\n      <td>-21</td>\n      <td>216</td>\n      <td>237</td>\n      <td>138</td>\n      <td>63.9</td>\n      <td>6</td>\n      <td>125</td>\n      <td>62.2</td>\n      <td>3</td>\n      <td>1.5</td>\n      <td>191</td>\n      <td>81.0</td>\n      <td>16</td>\n      <td>1</td>\n      <td>1</td>\n      <td>PGMS</td>\n      <td>Chevy</td>\n      <td>1</td>\n      <td>Daytona</td>\n      <td>Superspeedway</td>\n      <td>0.723</td>\n      <td>46.107</td>\n      <td>47.082</td>\n      <td>47.012</td>\n      <td>13.0</td>\n      <td>5.0</td>\n      <td>8.0</td>\n    </tr>\n    <tr>\n      <th>26</th>\n      <td>4</td>\n      <td>Kevin Harvick</td>\n      <td>22.0</td>\n      <td>4.0</td>\n      <td>30.0</td>\n      <td>13.7</td>\n      <td>-30</td>\n      <td>212</td>\n      <td>242</td>\n      <td>96</td>\n      <td>45.3</td>\n      <td>3</td>\n      <td>123</td>\n      <td>61.2</td>\n      <td>0</td>\n      <td>0.0</td>\n      <td>191</td>\n      <td>72.8</td>\n      <td>11</td>\n      <td>1</td>\n      <td>1</td>\n      <td>SHR</td>\n      <td>Ford</td>\n      <td>1</td>\n      <td>Daytona</td>\n      <td>Superspeedway</td>\n      <td>0.503</td>\n      <td>46.099</td>\n      <td>47.092</td>\n      <td>47.031</td>\n      <td>11.0</td>\n      <td>7.0</td>\n      <td>10.0</td>\n    </tr>\n    <tr>\n      <th>27</th>\n      <td>62</td>\n      <td>Noah Gragson</td>\n      <td>39.0</td>\n      <td>14.0</td>\n      <td>31.0</td>\n      <td>18.9</td>\n      <td>43</td>\n      <td>228</td>\n      <td>185</td>\n      <td>45</td>\n      <td>19.7</td>\n      <td>4</td>\n      <td>74</td>\n      <td>36.8</td>\n      <td>0</td>\n      <td>0.0</td>\n      <td>190</td>\n      <td>52.8</td>\n      <td>0</td>\n      <td>1</td>\n      <td>0</td>\n      <td>Kaulig</td>\n      <td>Chevy</td>\n      <td>1</td>\n      <td>Daytona</td>\n      <td>Superspeedway</td>\n      <td>0.237</td>\n      <td>46.155</td>\n      <td>47.228</td>\n      <td>47.220</td>\n      <td>19.0</td>\n      <td>18.0</td>\n      <td>21.0</td>\n    </tr>\n    <tr>\n      <th>28</th>\n      <td>5</td>\n      <td>Kyle Larson</td>\n      <td>1.0</td>\n      <td>13.0</td>\n      <td>32.0</td>\n      <td>13.0</td>\n      <td>-13</td>\n      <td>261</td>\n      <td>274</td>\n      <td>184</td>\n      <td>70.5</td>\n      <td>7</td>\n      <td>149</td>\n      <td>74.1</td>\n      <td>1</td>\n      <td>0.5</td>\n      <td>190</td>\n      <td>81.2</td>\n      <td>13</td>\n      <td>1</td>\n      <td>1</td>\n      <td>Hendrick</td>\n      <td>Chevy</td>\n      <td>1</td>\n      <td>Daytona</td>\n      <td>Superspeedway</td>\n      <td>0.968</td>\n      <td>46.083</td>\n      <td>47.068</td>\n      <td>46.997</td>\n      <td>10.0</td>\n      <td>2.0</td>\n      <td>6.0</td>\n    </tr>\n    <tr>\n      <th>29</th>\n      <td>38</td>\n      <td>Todd Gilliland</td>\n      <td>29.0</td>\n      <td>6.0</td>\n      <td>33.0</td>\n      <td>14.0</td>\n      <td>7</td>\n      <td>227</td>\n      <td>220</td>\n      <td>120</td>\n      <td>52.9</td>\n      <td>2</td>\n      <td>134</td>\n      <td>66.7</td>\n      <td>0</td>\n      <td>0.0</td>\n      <td>190</td>\n      <td>69.9</td>\n      <td>13</td>\n      <td>1</td>\n      <td>1</td>\n      <td>FRM</td>\n      <td>Ford</td>\n      <td>1</td>\n      <td>Daytona</td>\n      <td>Superspeedway</td>\n      <td>0.632</td>\n      <td>46.157</td>\n      <td>47.061</td>\n      <td>46.976</td>\n      <td>20.0</td>\n      <td>1.0</td>\n      <td>3.0</td>\n    </tr>\n    <tr>\n      <th>30</th>\n      <td>20</td>\n      <td>Christopher Bell</td>\n      <td>12.0</td>\n      <td>35.0</td>\n      <td>34.0</td>\n      <td>25.9</td>\n      <td>4</td>\n      <td>105</td>\n      <td>101</td>\n      <td>102</td>\n      <td>97.1</td>\n      <td>0</td>\n      <td>62</td>\n      <td>30.8</td>\n      <td>0</td>\n      <td>0.0</td>\n      <td>152</td>\n      <td>71.3</td>\n      <td>9</td>\n      <td>1</td>\n      <td>1</td>\n      <td>JGR</td>\n      <td>Toyota</td>\n      <td>1</td>\n      <td>Daytona</td>\n      <td>Superspeedway</td>\n      <td>0.671</td>\n      <td>46.507</td>\n      <td>50.274</td>\n      <td>48.571</td>\n      <td>30.0</td>\n      <td>36.0</td>\n      <td>34.0</td>\n    </tr>\n    <tr>\n      <th>31</th>\n      <td>8</td>\n      <td>Tyler Reddick</td>\n      <td>15.0</td>\n      <td>16.0</td>\n      <td>35.0</td>\n      <td>21.5</td>\n      <td>4</td>\n      <td>181</td>\n      <td>177</td>\n      <td>70</td>\n      <td>38.7</td>\n      <td>4</td>\n      <td>56</td>\n      <td>27.9</td>\n      <td>0</td>\n      <td>0.0</td>\n      <td>151</td>\n      <td>54.4</td>\n      <td>5</td>\n      <td>1</td>\n      <td>1</td>\n      <td>RCR</td>\n      <td>Chevy</td>\n      <td>1</td>\n      <td>Daytona</td>\n      <td>Superspeedway</td>\n      <td>0.464</td>\n      <td>46.124</td>\n      <td>47.146</td>\n      <td>47.126</td>\n      <td>15.0</td>\n      <td>14.0</td>\n      <td>16.0</td>\n    </tr>\n    <tr>\n      <th>32</th>\n      <td>44</td>\n      <td>Greg Biffle</td>\n      <td>28.0</td>\n      <td>40.0</td>\n      <td>36.0</td>\n      <td>37.5</td>\n      <td>-11</td>\n      <td>39</td>\n      <td>50</td>\n      <td>0</td>\n      <td>0.0</td>\n      <td>1</td>\n      <td>0</td>\n      <td>0.0</td>\n      <td>0</td>\n      <td>0.0</td>\n      <td>136</td>\n      <td>27.5</td>\n      <td>0</td>\n      <td>1</td>\n      <td>0</td>\n      <td>NYR</td>\n      <td>Chevy</td>\n      <td>1</td>\n      <td>Daytona</td>\n      <td>Superspeedway</td>\n      <td>0.000</td>\n      <td>46.673</td>\n      <td>49.933</td>\n      <td>48.951</td>\n      <td>35.0</td>\n      <td>34.0</td>\n      <td>36.0</td>\n    </tr>\n    <tr>\n      <th>33</th>\n      <td>11</td>\n      <td>Denny Hamlin</td>\n      <td>30.0</td>\n      <td>36.0</td>\n      <td>37.0</td>\n      <td>28.6</td>\n      <td>21</td>\n      <td>121</td>\n      <td>100</td>\n      <td>59</td>\n      <td>48.8</td>\n      <td>1</td>\n      <td>39</td>\n      <td>19.4</td>\n      <td>0</td>\n      <td>0.0</td>\n      <td>63</td>\n      <td>54.5</td>\n      <td>1</td>\n      <td>1</td>\n      <td>1</td>\n      <td>JGR</td>\n      <td>Toyota</td>\n      <td>1</td>\n      <td>Daytona</td>\n      <td>Superspeedway</td>\n      <td>0.937</td>\n      <td>46.517</td>\n      <td>47.230</td>\n      <td>47.127</td>\n      <td>32.0</td>\n      <td>19.0</td>\n      <td>17.0</td>\n    </tr>\n    <tr>\n      <th>34</th>\n      <td>24</td>\n      <td>William Byron</td>\n      <td>23.0</td>\n      <td>37.0</td>\n      <td>38.0</td>\n      <td>30.3</td>\n      <td>17</td>\n      <td>141</td>\n      <td>124</td>\n      <td>44</td>\n      <td>31.2</td>\n      <td>5</td>\n      <td>29</td>\n      <td>14.4</td>\n      <td>1</td>\n      <td>0.5</td>\n      <td>62</td>\n      <td>46.4</td>\n      <td>1</td>\n      <td>1</td>\n      <td>1</td>\n      <td>Hendrick</td>\n      <td>Chevy</td>\n      <td>1</td>\n      <td>Daytona</td>\n      <td>Superspeedway</td>\n      <td>0.710</td>\n      <td>46.508</td>\n      <td>47.220</td>\n      <td>47.133</td>\n      <td>31.0</td>\n      <td>17.0</td>\n      <td>18.0</td>\n    </tr>\n    <tr>\n      <th>35</th>\n      <td>21</td>\n      <td>Harrison Burton</td>\n      <td>8.0</td>\n      <td>38.0</td>\n      <td>39.0</td>\n      <td>30.3</td>\n      <td>2</td>\n      <td>130</td>\n      <td>128</td>\n      <td>68</td>\n      <td>52.3</td>\n      <td>1</td>\n      <td>38</td>\n      <td>18.9</td>\n      <td>3</td>\n      <td>1.5</td>\n      <td>62</td>\n      <td>50.9</td>\n      <td>9</td>\n      <td>1</td>\n      <td>1</td>\n      <td>WBR</td>\n      <td>Ford</td>\n      <td>1</td>\n      <td>Daytona</td>\n      <td>Superspeedway</td>\n      <td>1.097</td>\n      <td>46.280</td>\n      <td>47.318</td>\n      <td>47.158</td>\n      <td>27.0</td>\n      <td>25.0</td>\n      <td>19.0</td>\n    </tr>\n    <tr>\n      <th>36</th>\n      <td>1</td>\n      <td>Ross Chastain</td>\n      <td>19.0</td>\n      <td>39.0</td>\n      <td>40.0</td>\n      <td>32.4</td>\n      <td>2</td>\n      <td>145</td>\n      <td>143</td>\n      <td>56</td>\n      <td>38.6</td>\n      <td>3</td>\n      <td>27</td>\n      <td>13.4</td>\n      <td>0</td>\n      <td>0.0</td>\n      <td>62</td>\n      <td>41.9</td>\n      <td>2</td>\n      <td>1</td>\n      <td>1</td>\n      <td>Trackhouse</td>\n      <td>Chevy</td>\n      <td>1</td>\n      <td>Daytona</td>\n      <td>Superspeedway</td>\n      <td>0.903</td>\n      <td>46.522</td>\n      <td>47.298</td>\n      <td>47.304</td>\n      <td>33.0</td>\n      <td>22.0</td>\n      <td>25.0</td>\n    </tr>\n  </tbody>\n</table>\n</div>",
      "text/plain": "    Car #              Driver  Start  Mid Race  Finish  Average Position  \\\n1       2      Austin Cindric    5.0       2.0     1.0               6.2   \n2      23       Bubba Wallace   16.0      19.0     2.0              10.2   \n3      14       Chase Briscoe    9.0      10.0     3.0              18.3   \n4      12         Ryan Blaney    7.0       1.0     4.0               8.3   \n5      10       Aric Almirola   38.0      11.0     5.0              15.9   \n6      18          Kyle Busch   10.0      20.0     6.0              11.4   \n7      34    Michael McDowell    6.0       8.0     7.0              11.9   \n8      15         David Ragan   34.0      29.0     8.0              25.2   \n9       6     Brad Keselowski    3.0       5.0     9.0               4.8   \n10      9       Chase Elliott   11.0      23.0    10.0              16.1   \n11     42           Ty Dillon   26.0       9.0    11.0              16.3   \n12     16       Daniel Hemric   33.0      24.0    12.0              26.4   \n13     77      Landon Cassill   27.0      27.0    15.0              28.1   \n14     17      Chris Buescher    4.0       3.0    16.0               7.9   \n15     51           Cody Ware   32.0      28.0    17.0              27.1   \n16     45          Kurt Busch   17.0      21.0    19.0              17.6   \n17     41         Cole Custer   31.0       7.0    20.0              22.3   \n18     22         Joey Logano   20.0      12.0    21.0              17.7   \n19     27  Jacques Villeneuve   40.0      30.0    22.0              29.5   \n20     31        Justin Haley   25.0      31.0    23.0              30.8   \n21     48         Alex Bowman    2.0      34.0    24.0              27.1   \n22      3       Austin Dillon   36.0      26.0    25.0              27.1   \n23     50           Kaz Grala   35.0      33.0    26.0              33.4   \n24     78           BJ McLeod   37.0      32.0    27.0              32.3   \n25     43          Erik Jones   13.0      17.0    29.0              12.1   \n26      4       Kevin Harvick   22.0       4.0    30.0              13.7   \n27     62        Noah Gragson   39.0      14.0    31.0              18.9   \n28      5         Kyle Larson    1.0      13.0    32.0              13.0   \n29     38      Todd Gilliland   29.0       6.0    33.0              14.0   \n30     20    Christopher Bell   12.0      35.0    34.0              25.9   \n31      8       Tyler Reddick   15.0      16.0    35.0              21.5   \n32     44         Greg Biffle   28.0      40.0    36.0              37.5   \n33     11        Denny Hamlin   30.0      36.0    37.0              28.6   \n34     24       William Byron   23.0      37.0    38.0              30.3   \n35     21     Harrison Burton    8.0      38.0    39.0              30.3   \n36      1       Ross Chastain   19.0      39.0    40.0              32.4   \n\n    Pass Differential  Green Passes  Green Passed  Quality Passes  \\\n1                 -13           168           181             125   \n2                  16           253           237             191   \n3                  17           209           192              70   \n4                 -18           163           181             134   \n5                   8           244           236              97   \n6                   9           255           246             182   \n7                 -19           222           241             160   \n8                  -9           110           119               8   \n9                   1           171           170             148   \n10                 -2           249           251             131   \n11                -20           210           230              62   \n12                 -2            96            98              28   \n13                 -2            71            73               2   \n14                -13           161           174             136   \n15                -22            57            79               0   \n16                 21           201           180             116   \n17                -17           127           144              22   \n18                 50           244           194              79   \n19                 -5            50            55               0   \n20                 -5            67            72               4   \n21                 -5           132           137              73   \n22                  7           139           132              14   \n23                 -4            52            56               0   \n24                 -6            51            57               0   \n25                -21           216           237             138   \n26                -30           212           242              96   \n27                 43           228           185              45   \n28                -13           261           274             184   \n29                  7           227           220             120   \n30                  4           105           101             102   \n31                  4           181           177              70   \n32                -11            39            50               0   \n33                 21           121           100              59   \n34                 17           141           124              44   \n35                  2           130           128              68   \n36                  2           145           143              56   \n\n    % Quality Passes  # Fastest Laps  Laps in Top 15  % Laps in Top 15  \\\n1               74.4               0             176              87.6   \n2               75.5               7             145              72.1   \n3               33.5               6              88              43.8   \n4               82.2               3             175              87.1   \n5               39.8               4             104              51.7   \n6               71.4               5             125              62.2   \n7               72.1               2             144              71.6   \n8                7.3               6              18               9.0   \n9               86.5               4             198              98.5   \n10              52.6               6              93              46.3   \n11              29.5               3             102              50.7   \n12              29.2               7              20              10.0   \n13               2.8               2               8               4.0   \n14              84.5               1             173              86.1   \n15               0.0               4               0               0.0   \n16              57.7              11              80              39.8   \n17              17.3               3              47              23.4   \n18              32.4               8              80              39.8   \n19               0.0               6               2               1.0   \n20               6.0               2               2               1.0   \n21              55.3               6              34              16.9   \n22              10.1               3              10               5.0   \n23               0.0               1               0               0.0   \n24               0.0               2               2               1.0   \n25              63.9               6             125              62.2   \n26              45.3               3             123              61.2   \n27              19.7               4              74              36.8   \n28              70.5               7             149              74.1   \n29              52.9               2             134              66.7   \n30              97.1               0              62              30.8   \n31              38.7               4              56              27.9   \n32               0.0               1               0               0.0   \n33              48.8               1              39              19.4   \n34              31.2               5              29              14.4   \n35              52.3               1              38              18.9   \n36              38.6               3              27              13.4   \n\n    Laps Led  % Laps Led  Total Laps  Driver Rating  Points  Races  \\\n1         21        10.4         201          122.4      54      1   \n2         12         6.0         201          104.7      47      1   \n3          0         0.0         201           75.0      41      1   \n4         36        17.9         201          107.5      41      1   \n5          0         0.0         201           80.3      32      1   \n6         28        13.9         201          101.4      38      1   \n7          0         0.0         201           93.6      39      1   \n8          0         0.0         201           63.7      29      1   \n9         67        33.3         201          121.3      54      1   \n10         0         0.0         201           72.5      34      1   \n11         0         0.0         201           77.7      26      1   \n12         0         0.0         201           60.6       0      1   \n13         0         0.0         201           51.7       0      1   \n14         0         0.0         200           97.4      35      1   \n15         0         0.0         200           48.6      20      1   \n16         0         0.0         199           74.6      24      1   \n17         0         0.0         199           55.2      17      1   \n18         1         0.5         198           83.6      33      1   \n19         0         0.0         198           42.7      15      1   \n20         0         0.0         198           41.4      14      1   \n21         0         0.0         197           65.8      13      1   \n22         1         0.5         197           43.0      17      1   \n23         0         0.0         196           35.8       0      1   \n24         0         0.0         196           35.7      10      1   \n25         3         1.5         191           81.0      16      1   \n26         0         0.0         191           72.8      11      1   \n27         0         0.0         190           52.8       0      1   \n28         1         0.5         190           81.2      13      1   \n29         0         0.0         190           69.9      13      1   \n30         0         0.0         152           71.3       9      1   \n31         0         0.0         151           54.4       5      1   \n32         0         0.0         136           27.5       0      1   \n33         0         0.0          63           54.5       1      1   \n34         1         0.5          62           46.4       1      1   \n35         3         1.5          62           50.9       9      1   \n36         0         0.0          62           41.9       2      1   \n\n    Points Eligible        Team    Make  Race #    Track     Track Type  \\\n1                 1      Penske    Ford       1  Daytona  Superspeedway   \n2                 1        23X1  Toyota       1  Daytona  Superspeedway   \n3                 1         SHR    Ford       1  Daytona  Superspeedway   \n4                 1      Penske    Ford       1  Daytona  Superspeedway   \n5                 1         SHR    Ford       1  Daytona  Superspeedway   \n6                 1         JGR  Toyota       1  Daytona  Superspeedway   \n7                 1         FRM    Ford       1  Daytona  Superspeedway   \n8                 1         RWR    Ford       1  Daytona  Superspeedway   \n9                 1         RFK    Ford       1  Daytona  Superspeedway   \n10                1    Hendrick   Chevy       1  Daytona  Superspeedway   \n11                1        PGMS   Chevy       1  Daytona  Superspeedway   \n12                0      Kaulig   Chevy       1  Daytona  Superspeedway   \n13                0       Spire   Chevy       1  Daytona  Superspeedway   \n14                1         RFK    Ford       1  Daytona  Superspeedway   \n15                1         RWR    Ford       1  Daytona  Superspeedway   \n16                1        23X1  Toyota       1  Daytona  Superspeedway   \n17                1         SHR    Ford       1  Daytona  Superspeedway   \n18                1      Penske    Ford       1  Daytona  Superspeedway   \n19                1    Hezeberg    Ford       1  Daytona  Superspeedway   \n20                1      Kaulig   Chevy       1  Daytona  Superspeedway   \n21                1    Hendrick   Chevy       1  Daytona  Superspeedway   \n22                1         RCR   Chevy       1  Daytona  Superspeedway   \n23                0         TMT   Chevy       1  Daytona  Superspeedway   \n24                1         LFM    Ford       1  Daytona  Superspeedway   \n25                1        PGMS   Chevy       1  Daytona  Superspeedway   \n26                1         SHR    Ford       1  Daytona  Superspeedway   \n27                0      Kaulig   Chevy       1  Daytona  Superspeedway   \n28                1    Hendrick   Chevy       1  Daytona  Superspeedway   \n29                1         FRM    Ford       1  Daytona  Superspeedway   \n30                1         JGR  Toyota       1  Daytona  Superspeedway   \n31                1         RCR   Chevy       1  Daytona  Superspeedway   \n32                0         NYR   Chevy       1  Daytona  Superspeedway   \n33                1         JGR  Toyota       1  Daytona  Superspeedway   \n34                1    Hendrick   Chevy       1  Daytona  Superspeedway   \n35                1         WBR    Ford       1  Daytona  Superspeedway   \n36                1  Trackhouse   Chevy       1  Daytona  Superspeedway   \n\n    Quality Passes Per Lap  Fastest Lap  Median Lap  Average Full Speed Lap  \\\n1                    0.622       46.102      47.081                  46.992   \n2                    0.950       46.114      47.094                  46.973   \n3                    0.348       46.046      47.238                  47.263   \n4                    0.667       46.141      47.081                  47.014   \n5                    0.483       46.196      47.131                  47.068   \n6                    0.905       46.152      47.098                  47.000   \n7                    0.796       46.030      47.162                  47.044   \n8                    0.040       45.867      47.424                  47.282   \n9                    0.736       46.070      47.084                  46.987   \n10                   0.652       46.247      47.242                  47.195   \n11                   0.308       46.273      47.117                  47.038   \n12                   0.139       46.014      47.723                  47.512   \n13                   0.010       46.429      48.132                  47.860   \n14                   0.680       46.169      47.112                  47.045   \n15                   0.000       46.139      47.882                  47.665   \n16                   0.583       45.882      47.206                  47.065   \n17                   0.111       46.198      47.314                  47.308   \n18                   0.399       45.907      47.094                  46.958   \n19                   0.000       46.344      48.780                  48.204   \n20                   0.020       46.176      48.328                  47.919   \n21                   0.371       46.069      47.304                  47.221   \n22                   0.071       45.979      49.703                  48.062   \n23                   0.000       46.731      48.933                  48.341   \n24                   0.000       46.655      49.942                  48.903   \n25                   0.723       46.107      47.082                  47.012   \n26                   0.503       46.099      47.092                  47.031   \n27                   0.237       46.155      47.228                  47.220   \n28                   0.968       46.083      47.068                  46.997   \n29                   0.632       46.157      47.061                  46.976   \n30                   0.671       46.507      50.274                  48.571   \n31                   0.464       46.124      47.146                  47.126   \n32                   0.000       46.673      49.933                  48.951   \n33                   0.937       46.517      47.230                  47.127   \n34                   0.710       46.508      47.220                  47.133   \n35                   1.097       46.280      47.318                  47.158   \n36                   0.903       46.522      47.298                  47.304   \n\n    Fastest Lap Rank  Median Lap Rank  Average Full Speed Lap Rank  \n1               12.0              3.0                          5.0  \n2               14.0              8.0                          2.0  \n3                7.0             20.0                         23.0  \n4               17.0              3.0                          9.0  \n5               23.0             13.0                         15.0  \n6               18.0             10.0                          7.0  \n7                6.0             15.0                         12.0  \n8                1.0             26.0                         24.0  \n9                9.0              6.0                          4.0  \n10              25.0             21.0                         20.0  \n11              26.0             12.0                         11.0  \n12               5.0             27.0                         27.0  \n13              29.0             29.0                         29.0  \n14              21.0             11.0                         13.0  \n15              16.0             28.0                         28.0  \n16               2.0             16.0                         14.0  \n17              24.0             24.0                         26.0  \n18               3.0              8.0                          1.0  \n19              28.0             31.0                         32.0  \n20              22.0             30.0                         30.0  \n21               8.0             23.0                         22.0  \n22               4.0             33.0                         31.0  \n23              36.0             32.0                         33.0  \n24              34.0             35.0                         35.0  \n25              13.0              5.0                          8.0  \n26              11.0              7.0                         10.0  \n27              19.0             18.0                         21.0  \n28              10.0              2.0                          6.0  \n29              20.0              1.0                          3.0  \n30              30.0             36.0                         34.0  \n31              15.0             14.0                         16.0  \n32              35.0             34.0                         36.0  \n33              32.0             19.0                         17.0  \n34              31.0             17.0                         18.0  \n35              27.0             25.0                         19.0  \n36              33.0             22.0                         25.0  "
     },
     "execution_count": 14,
     "metadata": {},
     "output_type": "execute_result"
    }
   ]
  },
  {
   "cell_type": "code",
   "metadata": {
    "cell_id": "00014-20d9ee9b-66b9-4eda-b470-8835822ed733",
    "deepnote_cell_type": "code",
    "deepnote_cell_height": 722,
    "deepnote_output_heights": [
     607
    ]
   },
   "source": "daytona1_contenders = daytona1[daytona1[\"Quality Passes\"] >= 10] # Gets rid of cars not part of draft for most of race\ndaytona1_contenders",
   "execution_count": null,
   "outputs": [
    {
     "data": {
      "text/html": "<div>\n<style scoped>\n    .dataframe tbody tr th:only-of-type {\n        vertical-align: middle;\n    }\n\n    .dataframe tbody tr th {\n        vertical-align: top;\n    }\n\n    .dataframe thead th {\n        text-align: right;\n    }\n</style>\n<table border=\"1\" class=\"dataframe\">\n  <thead>\n    <tr style=\"text-align: right;\">\n      <th></th>\n      <th>Car #</th>\n      <th>Driver</th>\n      <th>Start</th>\n      <th>Mid Race</th>\n      <th>Finish</th>\n      <th>Average Position</th>\n      <th>Pass Differential</th>\n      <th>Green Passes</th>\n      <th>Green Passed</th>\n      <th>Quality Passes</th>\n      <th>% Quality Passes</th>\n      <th># Fastest Laps</th>\n      <th>Laps in Top 15</th>\n      <th>% Laps in Top 15</th>\n      <th>Laps Led</th>\n      <th>% Laps Led</th>\n      <th>Total Laps</th>\n      <th>Driver Rating</th>\n      <th>Points</th>\n      <th>Races</th>\n      <th>Points Eligible</th>\n      <th>Team</th>\n      <th>Make</th>\n      <th>Race #</th>\n      <th>Track</th>\n      <th>Track Type</th>\n      <th>Quality Passes Per Lap</th>\n      <th>Fastest Lap</th>\n      <th>Median Lap</th>\n      <th>Average Full Speed Lap</th>\n      <th>Fastest Lap Rank</th>\n      <th>Median Lap Rank</th>\n      <th>Average Full Speed Lap Rank</th>\n    </tr>\n  </thead>\n  <tbody>\n    <tr>\n      <th>1</th>\n      <td>2</td>\n      <td>Austin Cindric</td>\n      <td>5.0</td>\n      <td>2.0</td>\n      <td>1.0</td>\n      <td>6.2</td>\n      <td>-13</td>\n      <td>168</td>\n      <td>181</td>\n      <td>125</td>\n      <td>74.4</td>\n      <td>0</td>\n      <td>176</td>\n      <td>87.6</td>\n      <td>21</td>\n      <td>10.4</td>\n      <td>201</td>\n      <td>122.4</td>\n      <td>54</td>\n      <td>1</td>\n      <td>1</td>\n      <td>Penske</td>\n      <td>Ford</td>\n      <td>1</td>\n      <td>Daytona</td>\n      <td>Superspeedway</td>\n      <td>0.622</td>\n      <td>46.102</td>\n      <td>47.081</td>\n      <td>46.992</td>\n      <td>12.0</td>\n      <td>3.0</td>\n      <td>5.0</td>\n    </tr>\n    <tr>\n      <th>2</th>\n      <td>23</td>\n      <td>Bubba Wallace</td>\n      <td>16.0</td>\n      <td>19.0</td>\n      <td>2.0</td>\n      <td>10.2</td>\n      <td>16</td>\n      <td>253</td>\n      <td>237</td>\n      <td>191</td>\n      <td>75.5</td>\n      <td>7</td>\n      <td>145</td>\n      <td>72.1</td>\n      <td>12</td>\n      <td>6.0</td>\n      <td>201</td>\n      <td>104.7</td>\n      <td>47</td>\n      <td>1</td>\n      <td>1</td>\n      <td>23X1</td>\n      <td>Toyota</td>\n      <td>1</td>\n      <td>Daytona</td>\n      <td>Superspeedway</td>\n      <td>0.950</td>\n      <td>46.114</td>\n      <td>47.094</td>\n      <td>46.973</td>\n      <td>14.0</td>\n      <td>8.0</td>\n      <td>2.0</td>\n    </tr>\n    <tr>\n      <th>3</th>\n      <td>14</td>\n      <td>Chase Briscoe</td>\n      <td>9.0</td>\n      <td>10.0</td>\n      <td>3.0</td>\n      <td>18.3</td>\n      <td>17</td>\n      <td>209</td>\n      <td>192</td>\n      <td>70</td>\n      <td>33.5</td>\n      <td>6</td>\n      <td>88</td>\n      <td>43.8</td>\n      <td>0</td>\n      <td>0.0</td>\n      <td>201</td>\n      <td>75.0</td>\n      <td>41</td>\n      <td>1</td>\n      <td>1</td>\n      <td>SHR</td>\n      <td>Ford</td>\n      <td>1</td>\n      <td>Daytona</td>\n      <td>Superspeedway</td>\n      <td>0.348</td>\n      <td>46.046</td>\n      <td>47.238</td>\n      <td>47.263</td>\n      <td>7.0</td>\n      <td>20.0</td>\n      <td>23.0</td>\n    </tr>\n    <tr>\n      <th>4</th>\n      <td>12</td>\n      <td>Ryan Blaney</td>\n      <td>7.0</td>\n      <td>1.0</td>\n      <td>4.0</td>\n      <td>8.3</td>\n      <td>-18</td>\n      <td>163</td>\n      <td>181</td>\n      <td>134</td>\n      <td>82.2</td>\n      <td>3</td>\n      <td>175</td>\n      <td>87.1</td>\n      <td>36</td>\n      <td>17.9</td>\n      <td>201</td>\n      <td>107.5</td>\n      <td>41</td>\n      <td>1</td>\n      <td>1</td>\n      <td>Penske</td>\n      <td>Ford</td>\n      <td>1</td>\n      <td>Daytona</td>\n      <td>Superspeedway</td>\n      <td>0.667</td>\n      <td>46.141</td>\n      <td>47.081</td>\n      <td>47.014</td>\n      <td>17.0</td>\n      <td>3.0</td>\n      <td>9.0</td>\n    </tr>\n    <tr>\n      <th>5</th>\n      <td>10</td>\n      <td>Aric Almirola</td>\n      <td>38.0</td>\n      <td>11.0</td>\n      <td>5.0</td>\n      <td>15.9</td>\n      <td>8</td>\n      <td>244</td>\n      <td>236</td>\n      <td>97</td>\n      <td>39.8</td>\n      <td>4</td>\n      <td>104</td>\n      <td>51.7</td>\n      <td>0</td>\n      <td>0.0</td>\n      <td>201</td>\n      <td>80.3</td>\n      <td>32</td>\n      <td>1</td>\n      <td>1</td>\n      <td>SHR</td>\n      <td>Ford</td>\n      <td>1</td>\n      <td>Daytona</td>\n      <td>Superspeedway</td>\n      <td>0.483</td>\n      <td>46.196</td>\n      <td>47.131</td>\n      <td>47.068</td>\n      <td>23.0</td>\n      <td>13.0</td>\n      <td>15.0</td>\n    </tr>\n    <tr>\n      <th>6</th>\n      <td>18</td>\n      <td>Kyle Busch</td>\n      <td>10.0</td>\n      <td>20.0</td>\n      <td>6.0</td>\n      <td>11.4</td>\n      <td>9</td>\n      <td>255</td>\n      <td>246</td>\n      <td>182</td>\n      <td>71.4</td>\n      <td>5</td>\n      <td>125</td>\n      <td>62.2</td>\n      <td>28</td>\n      <td>13.9</td>\n      <td>201</td>\n      <td>101.4</td>\n      <td>38</td>\n      <td>1</td>\n      <td>1</td>\n      <td>JGR</td>\n      <td>Toyota</td>\n      <td>1</td>\n      <td>Daytona</td>\n      <td>Superspeedway</td>\n      <td>0.905</td>\n      <td>46.152</td>\n      <td>47.098</td>\n      <td>47.000</td>\n      <td>18.0</td>\n      <td>10.0</td>\n      <td>7.0</td>\n    </tr>\n    <tr>\n      <th>7</th>\n      <td>34</td>\n      <td>Michael McDowell</td>\n      <td>6.0</td>\n      <td>8.0</td>\n      <td>7.0</td>\n      <td>11.9</td>\n      <td>-19</td>\n      <td>222</td>\n      <td>241</td>\n      <td>160</td>\n      <td>72.1</td>\n      <td>2</td>\n      <td>144</td>\n      <td>71.6</td>\n      <td>0</td>\n      <td>0.0</td>\n      <td>201</td>\n      <td>93.6</td>\n      <td>39</td>\n      <td>1</td>\n      <td>1</td>\n      <td>FRM</td>\n      <td>Ford</td>\n      <td>1</td>\n      <td>Daytona</td>\n      <td>Superspeedway</td>\n      <td>0.796</td>\n      <td>46.030</td>\n      <td>47.162</td>\n      <td>47.044</td>\n      <td>6.0</td>\n      <td>15.0</td>\n      <td>12.0</td>\n    </tr>\n    <tr>\n      <th>9</th>\n      <td>6</td>\n      <td>Brad Keselowski</td>\n      <td>3.0</td>\n      <td>5.0</td>\n      <td>9.0</td>\n      <td>4.8</td>\n      <td>1</td>\n      <td>171</td>\n      <td>170</td>\n      <td>148</td>\n      <td>86.5</td>\n      <td>4</td>\n      <td>198</td>\n      <td>98.5</td>\n      <td>67</td>\n      <td>33.3</td>\n      <td>201</td>\n      <td>121.3</td>\n      <td>54</td>\n      <td>1</td>\n      <td>1</td>\n      <td>RFK</td>\n      <td>Ford</td>\n      <td>1</td>\n      <td>Daytona</td>\n      <td>Superspeedway</td>\n      <td>0.736</td>\n      <td>46.070</td>\n      <td>47.084</td>\n      <td>46.987</td>\n      <td>9.0</td>\n      <td>6.0</td>\n      <td>4.0</td>\n    </tr>\n    <tr>\n      <th>10</th>\n      <td>9</td>\n      <td>Chase Elliott</td>\n      <td>11.0</td>\n      <td>23.0</td>\n      <td>10.0</td>\n      <td>16.1</td>\n      <td>-2</td>\n      <td>249</td>\n      <td>251</td>\n      <td>131</td>\n      <td>52.6</td>\n      <td>6</td>\n      <td>93</td>\n      <td>46.3</td>\n      <td>0</td>\n      <td>0.0</td>\n      <td>201</td>\n      <td>72.5</td>\n      <td>34</td>\n      <td>1</td>\n      <td>1</td>\n      <td>Hendrick</td>\n      <td>Chevy</td>\n      <td>1</td>\n      <td>Daytona</td>\n      <td>Superspeedway</td>\n      <td>0.652</td>\n      <td>46.247</td>\n      <td>47.242</td>\n      <td>47.195</td>\n      <td>25.0</td>\n      <td>21.0</td>\n      <td>20.0</td>\n    </tr>\n    <tr>\n      <th>11</th>\n      <td>42</td>\n      <td>Ty Dillon</td>\n      <td>26.0</td>\n      <td>9.0</td>\n      <td>11.0</td>\n      <td>16.3</td>\n      <td>-20</td>\n      <td>210</td>\n      <td>230</td>\n      <td>62</td>\n      <td>29.5</td>\n      <td>3</td>\n      <td>102</td>\n      <td>50.7</td>\n      <td>0</td>\n      <td>0.0</td>\n      <td>201</td>\n      <td>77.7</td>\n      <td>26</td>\n      <td>1</td>\n      <td>1</td>\n      <td>PGMS</td>\n      <td>Chevy</td>\n      <td>1</td>\n      <td>Daytona</td>\n      <td>Superspeedway</td>\n      <td>0.308</td>\n      <td>46.273</td>\n      <td>47.117</td>\n      <td>47.038</td>\n      <td>26.0</td>\n      <td>12.0</td>\n      <td>11.0</td>\n    </tr>\n    <tr>\n      <th>12</th>\n      <td>16</td>\n      <td>Daniel Hemric</td>\n      <td>33.0</td>\n      <td>24.0</td>\n      <td>12.0</td>\n      <td>26.4</td>\n      <td>-2</td>\n      <td>96</td>\n      <td>98</td>\n      <td>28</td>\n      <td>29.2</td>\n      <td>7</td>\n      <td>20</td>\n      <td>10.0</td>\n      <td>0</td>\n      <td>0.0</td>\n      <td>201</td>\n      <td>60.6</td>\n      <td>0</td>\n      <td>1</td>\n      <td>0</td>\n      <td>Kaulig</td>\n      <td>Chevy</td>\n      <td>1</td>\n      <td>Daytona</td>\n      <td>Superspeedway</td>\n      <td>0.139</td>\n      <td>46.014</td>\n      <td>47.723</td>\n      <td>47.512</td>\n      <td>5.0</td>\n      <td>27.0</td>\n      <td>27.0</td>\n    </tr>\n    <tr>\n      <th>14</th>\n      <td>17</td>\n      <td>Chris Buescher</td>\n      <td>4.0</td>\n      <td>3.0</td>\n      <td>16.0</td>\n      <td>7.9</td>\n      <td>-13</td>\n      <td>161</td>\n      <td>174</td>\n      <td>136</td>\n      <td>84.5</td>\n      <td>1</td>\n      <td>173</td>\n      <td>86.1</td>\n      <td>0</td>\n      <td>0.0</td>\n      <td>200</td>\n      <td>97.4</td>\n      <td>35</td>\n      <td>1</td>\n      <td>1</td>\n      <td>RFK</td>\n      <td>Ford</td>\n      <td>1</td>\n      <td>Daytona</td>\n      <td>Superspeedway</td>\n      <td>0.680</td>\n      <td>46.169</td>\n      <td>47.112</td>\n      <td>47.045</td>\n      <td>21.0</td>\n      <td>11.0</td>\n      <td>13.0</td>\n    </tr>\n    <tr>\n      <th>16</th>\n      <td>45</td>\n      <td>Kurt Busch</td>\n      <td>17.0</td>\n      <td>21.0</td>\n      <td>19.0</td>\n      <td>17.6</td>\n      <td>21</td>\n      <td>201</td>\n      <td>180</td>\n      <td>116</td>\n      <td>57.7</td>\n      <td>11</td>\n      <td>80</td>\n      <td>39.8</td>\n      <td>0</td>\n      <td>0.0</td>\n      <td>199</td>\n      <td>74.6</td>\n      <td>24</td>\n      <td>1</td>\n      <td>1</td>\n      <td>23X1</td>\n      <td>Toyota</td>\n      <td>1</td>\n      <td>Daytona</td>\n      <td>Superspeedway</td>\n      <td>0.583</td>\n      <td>45.882</td>\n      <td>47.206</td>\n      <td>47.065</td>\n      <td>2.0</td>\n      <td>16.0</td>\n      <td>14.0</td>\n    </tr>\n    <tr>\n      <th>17</th>\n      <td>41</td>\n      <td>Cole Custer</td>\n      <td>31.0</td>\n      <td>7.0</td>\n      <td>20.0</td>\n      <td>22.3</td>\n      <td>-17</td>\n      <td>127</td>\n      <td>144</td>\n      <td>22</td>\n      <td>17.3</td>\n      <td>3</td>\n      <td>47</td>\n      <td>23.4</td>\n      <td>0</td>\n      <td>0.0</td>\n      <td>199</td>\n      <td>55.2</td>\n      <td>17</td>\n      <td>1</td>\n      <td>1</td>\n      <td>SHR</td>\n      <td>Ford</td>\n      <td>1</td>\n      <td>Daytona</td>\n      <td>Superspeedway</td>\n      <td>0.111</td>\n      <td>46.198</td>\n      <td>47.314</td>\n      <td>47.308</td>\n      <td>24.0</td>\n      <td>24.0</td>\n      <td>26.0</td>\n    </tr>\n    <tr>\n      <th>18</th>\n      <td>22</td>\n      <td>Joey Logano</td>\n      <td>20.0</td>\n      <td>12.0</td>\n      <td>21.0</td>\n      <td>17.7</td>\n      <td>50</td>\n      <td>244</td>\n      <td>194</td>\n      <td>79</td>\n      <td>32.4</td>\n      <td>8</td>\n      <td>80</td>\n      <td>39.8</td>\n      <td>1</td>\n      <td>0.5</td>\n      <td>198</td>\n      <td>83.6</td>\n      <td>33</td>\n      <td>1</td>\n      <td>1</td>\n      <td>Penske</td>\n      <td>Ford</td>\n      <td>1</td>\n      <td>Daytona</td>\n      <td>Superspeedway</td>\n      <td>0.399</td>\n      <td>45.907</td>\n      <td>47.094</td>\n      <td>46.958</td>\n      <td>3.0</td>\n      <td>8.0</td>\n      <td>1.0</td>\n    </tr>\n    <tr>\n      <th>21</th>\n      <td>48</td>\n      <td>Alex Bowman</td>\n      <td>2.0</td>\n      <td>34.0</td>\n      <td>24.0</td>\n      <td>27.1</td>\n      <td>-5</td>\n      <td>132</td>\n      <td>137</td>\n      <td>73</td>\n      <td>55.3</td>\n      <td>6</td>\n      <td>34</td>\n      <td>16.9</td>\n      <td>0</td>\n      <td>0.0</td>\n      <td>197</td>\n      <td>65.8</td>\n      <td>13</td>\n      <td>1</td>\n      <td>1</td>\n      <td>Hendrick</td>\n      <td>Chevy</td>\n      <td>1</td>\n      <td>Daytona</td>\n      <td>Superspeedway</td>\n      <td>0.371</td>\n      <td>46.069</td>\n      <td>47.304</td>\n      <td>47.221</td>\n      <td>8.0</td>\n      <td>23.0</td>\n      <td>22.0</td>\n    </tr>\n    <tr>\n      <th>22</th>\n      <td>3</td>\n      <td>Austin Dillon</td>\n      <td>36.0</td>\n      <td>26.0</td>\n      <td>25.0</td>\n      <td>27.1</td>\n      <td>7</td>\n      <td>139</td>\n      <td>132</td>\n      <td>14</td>\n      <td>10.1</td>\n      <td>3</td>\n      <td>10</td>\n      <td>5.0</td>\n      <td>1</td>\n      <td>0.5</td>\n      <td>197</td>\n      <td>43.0</td>\n      <td>17</td>\n      <td>1</td>\n      <td>1</td>\n      <td>RCR</td>\n      <td>Chevy</td>\n      <td>1</td>\n      <td>Daytona</td>\n      <td>Superspeedway</td>\n      <td>0.071</td>\n      <td>45.979</td>\n      <td>49.703</td>\n      <td>48.062</td>\n      <td>4.0</td>\n      <td>33.0</td>\n      <td>31.0</td>\n    </tr>\n    <tr>\n      <th>25</th>\n      <td>43</td>\n      <td>Erik Jones</td>\n      <td>13.0</td>\n      <td>17.0</td>\n      <td>29.0</td>\n      <td>12.1</td>\n      <td>-21</td>\n      <td>216</td>\n      <td>237</td>\n      <td>138</td>\n      <td>63.9</td>\n      <td>6</td>\n      <td>125</td>\n      <td>62.2</td>\n      <td>3</td>\n      <td>1.5</td>\n      <td>191</td>\n      <td>81.0</td>\n      <td>16</td>\n      <td>1</td>\n      <td>1</td>\n      <td>PGMS</td>\n      <td>Chevy</td>\n      <td>1</td>\n      <td>Daytona</td>\n      <td>Superspeedway</td>\n      <td>0.723</td>\n      <td>46.107</td>\n      <td>47.082</td>\n      <td>47.012</td>\n      <td>13.0</td>\n      <td>5.0</td>\n      <td>8.0</td>\n    </tr>\n    <tr>\n      <th>26</th>\n      <td>4</td>\n      <td>Kevin Harvick</td>\n      <td>22.0</td>\n      <td>4.0</td>\n      <td>30.0</td>\n      <td>13.7</td>\n      <td>-30</td>\n      <td>212</td>\n      <td>242</td>\n      <td>96</td>\n      <td>45.3</td>\n      <td>3</td>\n      <td>123</td>\n      <td>61.2</td>\n      <td>0</td>\n      <td>0.0</td>\n      <td>191</td>\n      <td>72.8</td>\n      <td>11</td>\n      <td>1</td>\n      <td>1</td>\n      <td>SHR</td>\n      <td>Ford</td>\n      <td>1</td>\n      <td>Daytona</td>\n      <td>Superspeedway</td>\n      <td>0.503</td>\n      <td>46.099</td>\n      <td>47.092</td>\n      <td>47.031</td>\n      <td>11.0</td>\n      <td>7.0</td>\n      <td>10.0</td>\n    </tr>\n    <tr>\n      <th>27</th>\n      <td>62</td>\n      <td>Noah Gragson</td>\n      <td>39.0</td>\n      <td>14.0</td>\n      <td>31.0</td>\n      <td>18.9</td>\n      <td>43</td>\n      <td>228</td>\n      <td>185</td>\n      <td>45</td>\n      <td>19.7</td>\n      <td>4</td>\n      <td>74</td>\n      <td>36.8</td>\n      <td>0</td>\n      <td>0.0</td>\n      <td>190</td>\n      <td>52.8</td>\n      <td>0</td>\n      <td>1</td>\n      <td>0</td>\n      <td>Kaulig</td>\n      <td>Chevy</td>\n      <td>1</td>\n      <td>Daytona</td>\n      <td>Superspeedway</td>\n      <td>0.237</td>\n      <td>46.155</td>\n      <td>47.228</td>\n      <td>47.220</td>\n      <td>19.0</td>\n      <td>18.0</td>\n      <td>21.0</td>\n    </tr>\n    <tr>\n      <th>28</th>\n      <td>5</td>\n      <td>Kyle Larson</td>\n      <td>1.0</td>\n      <td>13.0</td>\n      <td>32.0</td>\n      <td>13.0</td>\n      <td>-13</td>\n      <td>261</td>\n      <td>274</td>\n      <td>184</td>\n      <td>70.5</td>\n      <td>7</td>\n      <td>149</td>\n      <td>74.1</td>\n      <td>1</td>\n      <td>0.5</td>\n      <td>190</td>\n      <td>81.2</td>\n      <td>13</td>\n      <td>1</td>\n      <td>1</td>\n      <td>Hendrick</td>\n      <td>Chevy</td>\n      <td>1</td>\n      <td>Daytona</td>\n      <td>Superspeedway</td>\n      <td>0.968</td>\n      <td>46.083</td>\n      <td>47.068</td>\n      <td>46.997</td>\n      <td>10.0</td>\n      <td>2.0</td>\n      <td>6.0</td>\n    </tr>\n    <tr>\n      <th>29</th>\n      <td>38</td>\n      <td>Todd Gilliland</td>\n      <td>29.0</td>\n      <td>6.0</td>\n      <td>33.0</td>\n      <td>14.0</td>\n      <td>7</td>\n      <td>227</td>\n      <td>220</td>\n      <td>120</td>\n      <td>52.9</td>\n      <td>2</td>\n      <td>134</td>\n      <td>66.7</td>\n      <td>0</td>\n      <td>0.0</td>\n      <td>190</td>\n      <td>69.9</td>\n      <td>13</td>\n      <td>1</td>\n      <td>1</td>\n      <td>FRM</td>\n      <td>Ford</td>\n      <td>1</td>\n      <td>Daytona</td>\n      <td>Superspeedway</td>\n      <td>0.632</td>\n      <td>46.157</td>\n      <td>47.061</td>\n      <td>46.976</td>\n      <td>20.0</td>\n      <td>1.0</td>\n      <td>3.0</td>\n    </tr>\n    <tr>\n      <th>30</th>\n      <td>20</td>\n      <td>Christopher Bell</td>\n      <td>12.0</td>\n      <td>35.0</td>\n      <td>34.0</td>\n      <td>25.9</td>\n      <td>4</td>\n      <td>105</td>\n      <td>101</td>\n      <td>102</td>\n      <td>97.1</td>\n      <td>0</td>\n      <td>62</td>\n      <td>30.8</td>\n      <td>0</td>\n      <td>0.0</td>\n      <td>152</td>\n      <td>71.3</td>\n      <td>9</td>\n      <td>1</td>\n      <td>1</td>\n      <td>JGR</td>\n      <td>Toyota</td>\n      <td>1</td>\n      <td>Daytona</td>\n      <td>Superspeedway</td>\n      <td>0.671</td>\n      <td>46.507</td>\n      <td>50.274</td>\n      <td>48.571</td>\n      <td>30.0</td>\n      <td>36.0</td>\n      <td>34.0</td>\n    </tr>\n    <tr>\n      <th>31</th>\n      <td>8</td>\n      <td>Tyler Reddick</td>\n      <td>15.0</td>\n      <td>16.0</td>\n      <td>35.0</td>\n      <td>21.5</td>\n      <td>4</td>\n      <td>181</td>\n      <td>177</td>\n      <td>70</td>\n      <td>38.7</td>\n      <td>4</td>\n      <td>56</td>\n      <td>27.9</td>\n      <td>0</td>\n      <td>0.0</td>\n      <td>151</td>\n      <td>54.4</td>\n      <td>5</td>\n      <td>1</td>\n      <td>1</td>\n      <td>RCR</td>\n      <td>Chevy</td>\n      <td>1</td>\n      <td>Daytona</td>\n      <td>Superspeedway</td>\n      <td>0.464</td>\n      <td>46.124</td>\n      <td>47.146</td>\n      <td>47.126</td>\n      <td>15.0</td>\n      <td>14.0</td>\n      <td>16.0</td>\n    </tr>\n    <tr>\n      <th>33</th>\n      <td>11</td>\n      <td>Denny Hamlin</td>\n      <td>30.0</td>\n      <td>36.0</td>\n      <td>37.0</td>\n      <td>28.6</td>\n      <td>21</td>\n      <td>121</td>\n      <td>100</td>\n      <td>59</td>\n      <td>48.8</td>\n      <td>1</td>\n      <td>39</td>\n      <td>19.4</td>\n      <td>0</td>\n      <td>0.0</td>\n      <td>63</td>\n      <td>54.5</td>\n      <td>1</td>\n      <td>1</td>\n      <td>1</td>\n      <td>JGR</td>\n      <td>Toyota</td>\n      <td>1</td>\n      <td>Daytona</td>\n      <td>Superspeedway</td>\n      <td>0.937</td>\n      <td>46.517</td>\n      <td>47.230</td>\n      <td>47.127</td>\n      <td>32.0</td>\n      <td>19.0</td>\n      <td>17.0</td>\n    </tr>\n    <tr>\n      <th>34</th>\n      <td>24</td>\n      <td>William Byron</td>\n      <td>23.0</td>\n      <td>37.0</td>\n      <td>38.0</td>\n      <td>30.3</td>\n      <td>17</td>\n      <td>141</td>\n      <td>124</td>\n      <td>44</td>\n      <td>31.2</td>\n      <td>5</td>\n      <td>29</td>\n      <td>14.4</td>\n      <td>1</td>\n      <td>0.5</td>\n      <td>62</td>\n      <td>46.4</td>\n      <td>1</td>\n      <td>1</td>\n      <td>1</td>\n      <td>Hendrick</td>\n      <td>Chevy</td>\n      <td>1</td>\n      <td>Daytona</td>\n      <td>Superspeedway</td>\n      <td>0.710</td>\n      <td>46.508</td>\n      <td>47.220</td>\n      <td>47.133</td>\n      <td>31.0</td>\n      <td>17.0</td>\n      <td>18.0</td>\n    </tr>\n    <tr>\n      <th>35</th>\n      <td>21</td>\n      <td>Harrison Burton</td>\n      <td>8.0</td>\n      <td>38.0</td>\n      <td>39.0</td>\n      <td>30.3</td>\n      <td>2</td>\n      <td>130</td>\n      <td>128</td>\n      <td>68</td>\n      <td>52.3</td>\n      <td>1</td>\n      <td>38</td>\n      <td>18.9</td>\n      <td>3</td>\n      <td>1.5</td>\n      <td>62</td>\n      <td>50.9</td>\n      <td>9</td>\n      <td>1</td>\n      <td>1</td>\n      <td>WBR</td>\n      <td>Ford</td>\n      <td>1</td>\n      <td>Daytona</td>\n      <td>Superspeedway</td>\n      <td>1.097</td>\n      <td>46.280</td>\n      <td>47.318</td>\n      <td>47.158</td>\n      <td>27.0</td>\n      <td>25.0</td>\n      <td>19.0</td>\n    </tr>\n    <tr>\n      <th>36</th>\n      <td>1</td>\n      <td>Ross Chastain</td>\n      <td>19.0</td>\n      <td>39.0</td>\n      <td>40.0</td>\n      <td>32.4</td>\n      <td>2</td>\n      <td>145</td>\n      <td>143</td>\n      <td>56</td>\n      <td>38.6</td>\n      <td>3</td>\n      <td>27</td>\n      <td>13.4</td>\n      <td>0</td>\n      <td>0.0</td>\n      <td>62</td>\n      <td>41.9</td>\n      <td>2</td>\n      <td>1</td>\n      <td>1</td>\n      <td>Trackhouse</td>\n      <td>Chevy</td>\n      <td>1</td>\n      <td>Daytona</td>\n      <td>Superspeedway</td>\n      <td>0.903</td>\n      <td>46.522</td>\n      <td>47.298</td>\n      <td>47.304</td>\n      <td>33.0</td>\n      <td>22.0</td>\n      <td>25.0</td>\n    </tr>\n  </tbody>\n</table>\n</div>",
      "text/plain": "    Car #            Driver  Start  Mid Race  Finish  Average Position  \\\n1       2    Austin Cindric    5.0       2.0     1.0               6.2   \n2      23     Bubba Wallace   16.0      19.0     2.0              10.2   \n3      14     Chase Briscoe    9.0      10.0     3.0              18.3   \n4      12       Ryan Blaney    7.0       1.0     4.0               8.3   \n5      10     Aric Almirola   38.0      11.0     5.0              15.9   \n6      18        Kyle Busch   10.0      20.0     6.0              11.4   \n7      34  Michael McDowell    6.0       8.0     7.0              11.9   \n9       6   Brad Keselowski    3.0       5.0     9.0               4.8   \n10      9     Chase Elliott   11.0      23.0    10.0              16.1   \n11     42         Ty Dillon   26.0       9.0    11.0              16.3   \n12     16     Daniel Hemric   33.0      24.0    12.0              26.4   \n14     17    Chris Buescher    4.0       3.0    16.0               7.9   \n16     45        Kurt Busch   17.0      21.0    19.0              17.6   \n17     41       Cole Custer   31.0       7.0    20.0              22.3   \n18     22       Joey Logano   20.0      12.0    21.0              17.7   \n21     48       Alex Bowman    2.0      34.0    24.0              27.1   \n22      3     Austin Dillon   36.0      26.0    25.0              27.1   \n25     43        Erik Jones   13.0      17.0    29.0              12.1   \n26      4     Kevin Harvick   22.0       4.0    30.0              13.7   \n27     62      Noah Gragson   39.0      14.0    31.0              18.9   \n28      5       Kyle Larson    1.0      13.0    32.0              13.0   \n29     38    Todd Gilliland   29.0       6.0    33.0              14.0   \n30     20  Christopher Bell   12.0      35.0    34.0              25.9   \n31      8     Tyler Reddick   15.0      16.0    35.0              21.5   \n33     11      Denny Hamlin   30.0      36.0    37.0              28.6   \n34     24     William Byron   23.0      37.0    38.0              30.3   \n35     21   Harrison Burton    8.0      38.0    39.0              30.3   \n36      1     Ross Chastain   19.0      39.0    40.0              32.4   \n\n    Pass Differential  Green Passes  Green Passed  Quality Passes  \\\n1                 -13           168           181             125   \n2                  16           253           237             191   \n3                  17           209           192              70   \n4                 -18           163           181             134   \n5                   8           244           236              97   \n6                   9           255           246             182   \n7                 -19           222           241             160   \n9                   1           171           170             148   \n10                 -2           249           251             131   \n11                -20           210           230              62   \n12                 -2            96            98              28   \n14                -13           161           174             136   \n16                 21           201           180             116   \n17                -17           127           144              22   \n18                 50           244           194              79   \n21                 -5           132           137              73   \n22                  7           139           132              14   \n25                -21           216           237             138   \n26                -30           212           242              96   \n27                 43           228           185              45   \n28                -13           261           274             184   \n29                  7           227           220             120   \n30                  4           105           101             102   \n31                  4           181           177              70   \n33                 21           121           100              59   \n34                 17           141           124              44   \n35                  2           130           128              68   \n36                  2           145           143              56   \n\n    % Quality Passes  # Fastest Laps  Laps in Top 15  % Laps in Top 15  \\\n1               74.4               0             176              87.6   \n2               75.5               7             145              72.1   \n3               33.5               6              88              43.8   \n4               82.2               3             175              87.1   \n5               39.8               4             104              51.7   \n6               71.4               5             125              62.2   \n7               72.1               2             144              71.6   \n9               86.5               4             198              98.5   \n10              52.6               6              93              46.3   \n11              29.5               3             102              50.7   \n12              29.2               7              20              10.0   \n14              84.5               1             173              86.1   \n16              57.7              11              80              39.8   \n17              17.3               3              47              23.4   \n18              32.4               8              80              39.8   \n21              55.3               6              34              16.9   \n22              10.1               3              10               5.0   \n25              63.9               6             125              62.2   \n26              45.3               3             123              61.2   \n27              19.7               4              74              36.8   \n28              70.5               7             149              74.1   \n29              52.9               2             134              66.7   \n30              97.1               0              62              30.8   \n31              38.7               4              56              27.9   \n33              48.8               1              39              19.4   \n34              31.2               5              29              14.4   \n35              52.3               1              38              18.9   \n36              38.6               3              27              13.4   \n\n    Laps Led  % Laps Led  Total Laps  Driver Rating  Points  Races  \\\n1         21        10.4         201          122.4      54      1   \n2         12         6.0         201          104.7      47      1   \n3          0         0.0         201           75.0      41      1   \n4         36        17.9         201          107.5      41      1   \n5          0         0.0         201           80.3      32      1   \n6         28        13.9         201          101.4      38      1   \n7          0         0.0         201           93.6      39      1   \n9         67        33.3         201          121.3      54      1   \n10         0         0.0         201           72.5      34      1   \n11         0         0.0         201           77.7      26      1   \n12         0         0.0         201           60.6       0      1   \n14         0         0.0         200           97.4      35      1   \n16         0         0.0         199           74.6      24      1   \n17         0         0.0         199           55.2      17      1   \n18         1         0.5         198           83.6      33      1   \n21         0         0.0         197           65.8      13      1   \n22         1         0.5         197           43.0      17      1   \n25         3         1.5         191           81.0      16      1   \n26         0         0.0         191           72.8      11      1   \n27         0         0.0         190           52.8       0      1   \n28         1         0.5         190           81.2      13      1   \n29         0         0.0         190           69.9      13      1   \n30         0         0.0         152           71.3       9      1   \n31         0         0.0         151           54.4       5      1   \n33         0         0.0          63           54.5       1      1   \n34         1         0.5          62           46.4       1      1   \n35         3         1.5          62           50.9       9      1   \n36         0         0.0          62           41.9       2      1   \n\n    Points Eligible        Team    Make  Race #    Track     Track Type  \\\n1                 1      Penske    Ford       1  Daytona  Superspeedway   \n2                 1        23X1  Toyota       1  Daytona  Superspeedway   \n3                 1         SHR    Ford       1  Daytona  Superspeedway   \n4                 1      Penske    Ford       1  Daytona  Superspeedway   \n5                 1         SHR    Ford       1  Daytona  Superspeedway   \n6                 1         JGR  Toyota       1  Daytona  Superspeedway   \n7                 1         FRM    Ford       1  Daytona  Superspeedway   \n9                 1         RFK    Ford       1  Daytona  Superspeedway   \n10                1    Hendrick   Chevy       1  Daytona  Superspeedway   \n11                1        PGMS   Chevy       1  Daytona  Superspeedway   \n12                0      Kaulig   Chevy       1  Daytona  Superspeedway   \n14                1         RFK    Ford       1  Daytona  Superspeedway   \n16                1        23X1  Toyota       1  Daytona  Superspeedway   \n17                1         SHR    Ford       1  Daytona  Superspeedway   \n18                1      Penske    Ford       1  Daytona  Superspeedway   \n21                1    Hendrick   Chevy       1  Daytona  Superspeedway   \n22                1         RCR   Chevy       1  Daytona  Superspeedway   \n25                1        PGMS   Chevy       1  Daytona  Superspeedway   \n26                1         SHR    Ford       1  Daytona  Superspeedway   \n27                0      Kaulig   Chevy       1  Daytona  Superspeedway   \n28                1    Hendrick   Chevy       1  Daytona  Superspeedway   \n29                1         FRM    Ford       1  Daytona  Superspeedway   \n30                1         JGR  Toyota       1  Daytona  Superspeedway   \n31                1         RCR   Chevy       1  Daytona  Superspeedway   \n33                1         JGR  Toyota       1  Daytona  Superspeedway   \n34                1    Hendrick   Chevy       1  Daytona  Superspeedway   \n35                1         WBR    Ford       1  Daytona  Superspeedway   \n36                1  Trackhouse   Chevy       1  Daytona  Superspeedway   \n\n    Quality Passes Per Lap  Fastest Lap  Median Lap  Average Full Speed Lap  \\\n1                    0.622       46.102      47.081                  46.992   \n2                    0.950       46.114      47.094                  46.973   \n3                    0.348       46.046      47.238                  47.263   \n4                    0.667       46.141      47.081                  47.014   \n5                    0.483       46.196      47.131                  47.068   \n6                    0.905       46.152      47.098                  47.000   \n7                    0.796       46.030      47.162                  47.044   \n9                    0.736       46.070      47.084                  46.987   \n10                   0.652       46.247      47.242                  47.195   \n11                   0.308       46.273      47.117                  47.038   \n12                   0.139       46.014      47.723                  47.512   \n14                   0.680       46.169      47.112                  47.045   \n16                   0.583       45.882      47.206                  47.065   \n17                   0.111       46.198      47.314                  47.308   \n18                   0.399       45.907      47.094                  46.958   \n21                   0.371       46.069      47.304                  47.221   \n22                   0.071       45.979      49.703                  48.062   \n25                   0.723       46.107      47.082                  47.012   \n26                   0.503       46.099      47.092                  47.031   \n27                   0.237       46.155      47.228                  47.220   \n28                   0.968       46.083      47.068                  46.997   \n29                   0.632       46.157      47.061                  46.976   \n30                   0.671       46.507      50.274                  48.571   \n31                   0.464       46.124      47.146                  47.126   \n33                   0.937       46.517      47.230                  47.127   \n34                   0.710       46.508      47.220                  47.133   \n35                   1.097       46.280      47.318                  47.158   \n36                   0.903       46.522      47.298                  47.304   \n\n    Fastest Lap Rank  Median Lap Rank  Average Full Speed Lap Rank  \n1               12.0              3.0                          5.0  \n2               14.0              8.0                          2.0  \n3                7.0             20.0                         23.0  \n4               17.0              3.0                          9.0  \n5               23.0             13.0                         15.0  \n6               18.0             10.0                          7.0  \n7                6.0             15.0                         12.0  \n9                9.0              6.0                          4.0  \n10              25.0             21.0                         20.0  \n11              26.0             12.0                         11.0  \n12               5.0             27.0                         27.0  \n14              21.0             11.0                         13.0  \n16               2.0             16.0                         14.0  \n17              24.0             24.0                         26.0  \n18               3.0              8.0                          1.0  \n21               8.0             23.0                         22.0  \n22               4.0             33.0                         31.0  \n25              13.0              5.0                          8.0  \n26              11.0              7.0                         10.0  \n27              19.0             18.0                         21.0  \n28              10.0              2.0                          6.0  \n29              20.0              1.0                          3.0  \n30              30.0             36.0                         34.0  \n31              15.0             14.0                         16.0  \n33              32.0             19.0                         17.0  \n34              31.0             17.0                         18.0  \n35              27.0             25.0                         19.0  \n36              33.0             22.0                         25.0  "
     },
     "execution_count": 15,
     "metadata": {},
     "output_type": "execute_result"
    }
   ]
  },
  {
   "cell_type": "code",
   "metadata": {
    "cell_id": "00015-fd1dd7b5-005a-47ef-828e-adf675a986d5",
    "owner_user_id": "45152886-e80a-4457-8e84-9d99a262197d",
    "deepnote_cell_type": "code",
    "deepnote_cell_height": 102
   },
   "source": "daytona1_varsofinterest = daytona1[[\"Finish\", \"Average Position\", \"Pass Differential\", \"Quality Passes\", \"% Quality Passes\",\n                                   \"Quality Passes Per Lap\", \"Fastest Lap\", \"Median Lap\", \"Average Full Speed Lap\"]]\ndaytona1_corr = daytona1_varsofinterest.corr()",
   "execution_count": null,
   "outputs": []
  },
  {
   "cell_type": "code",
   "metadata": {
    "cell_id": "00016-fbb4c9f0-e64d-451a-9780-6df292e850fd",
    "deepnote_cell_type": "code",
    "deepnote_cell_height": 102
   },
   "source": "daytona1_contenders_varsofinterest = daytona1_contenders[[\"Finish\", \"Average Position\", \"Pass Differential\", \"Quality Passes\",\n                                   \"% Quality Passes\", \"Quality Passes Per Lap\", \"Fastest Lap\", \"Median Lap\", \"Average Full Speed Lap\"]]\ndaytona1_contenders_corr = daytona1_contenders_varsofinterest.corr()",
   "execution_count": null,
   "outputs": []
  },
  {
   "cell_type": "code",
   "metadata": {
    "scrolled": false,
    "cell_id": "00017-2afd7c2d-2770-424c-a8de-1e98aa2d08e6",
    "deepnote_cell_type": "code",
    "deepnote_cell_height": 762,
    "deepnote_output_heights": [
     611
    ]
   },
   "source": "sns.set_theme(rc = {'figure.figsize':(12,12)})\nheatmap_daytona1 = sns.heatmap(daytona1_corr, annot=True)\nheatmap_daytona1.set_title(\"Correlation Matrix of 2022 Daytona 500 Stats (all 40)\", fontsize=24)\nplt.show()",
   "execution_count": null,
   "outputs": [
    {
     "data": {
      "image/png": "[encoded data removed]",
      "text/plain": "<Figure size 864x864 with 2 Axes>"
     },
     "metadata": {
      "image/png": {
       "width": 780,
       "height": 817
      }
     },
     "output_type": "display_data"
    }
   ]
  },
  {
   "cell_type": "code",
   "metadata": {
    "cell_id": "00018-19e359df-15ef-467f-8a1b-9b1c6c1bbf3f",
    "deepnote_cell_type": "code",
    "deepnote_cell_height": 762,
    "deepnote_output_heights": [
     611
    ]
   },
   "source": "sns.set_theme(rc = {'figure.figsize':(12,12)})\nheatmap_daytona1 = sns.heatmap(daytona1_contenders_corr, annot=True)\nheatmap_daytona1.set_title(\"Correlation Matrix of 2022 Daytona 500 Stats (Contenders Only)\", fontsize=24)\nplt.show()",
   "execution_count": null,
   "outputs": [
    {
     "data": {
      "image/png": "[encoded data removed]",
      "text/plain": "<Figure size 864x864 with 2 Axes>"
     },
     "metadata": {
      "image/png": {
       "width": 774,
       "height": 817
      }
     },
     "output_type": "display_data"
    }
   ]
  },
  {
   "cell_type": "code",
   "metadata": {
    "cell_id": "00019-6bc5bb13-5b54-4941-9cef-656f53480cee",
    "deepnote_cell_type": "code",
    "deepnote_cell_height": 66
   },
   "source": "",
   "execution_count": null,
   "outputs": []
  },
  {
   "cell_type": "markdown",
   "source": "<a style='text-decoration:none;line-height:16px;display:flex;color:#5B5B62;padding:10px;justify-content:end;' href='https://deepnote.com?utm_source=created-in-deepnote-cell&projectId=9ef4eb23-f38f-47e8-bfb0-51d8616b0dee' target=\"_blank\">\n<img alt='Created in deepnote.com' style='display:inline;max-height:16px;margin:0px;margin-right:7.5px;' src='data:image/svg+xml;base64,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' > </img>\nCreated in <span style='font-weight:600;margin-left:4px;'>Deepnote</span></a>",
   "metadata": {
    "tags": [],
    "created_in_deepnote_cell": true,
    "deepnote_cell_type": "markdown"
   }
  }
 ],
 "nbformat": 4,
 "nbformat_minor": 4,
 "metadata": {
  "kernelspec": {
   "display_name": "Python 3",
   "language": "python",
   "name": "python3"
  },
  "language_info": {
   "codemirror_mode": {
    "name": "ipython",
    "version": 3
   },
   "file_extension": ".py",
   "mimetype": "text/x-python",
   "name": "python",
   "nbconvert_exporter": "python",
   "pygments_lexer": "ipython3",
   "version": "3.8.5"
  },
  "deepnote_notebook_id": "5864bed2-e36b-4c9a-8319-be3dfeac6ea4",
  "deepnote": {},
  "deepnote_execution_queue": []
 }
}