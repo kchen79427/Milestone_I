{
 "cells": [
  {
   "cell_type": "code",
   "execution_count": 1,
   "metadata": {},
   "outputs": [],
   "source": [
    "import pandas as pd\n",
    "pd.set_option('max_columns', None)\n",
    "import numpy as np\n",
    "import json\n",
    "import seaborn as sns\n",
    "import matplotlib.pyplot as plt\n",
    "import plotly.express as px\n",
    "from nltk import metrics, stem, tokenize\n",
    "import nltk\n",
    "import glob"
   ]
  },
  {
   "cell_type": "code",
   "execution_count": 3,
   "metadata": {},
   "outputs": [],
   "source": [
    "df_2021=pd.read_pickle(r\"C:\\Users\\kchen\\OneDrive\\MADS\\SIADS591_592_Milestone1\\Milestone_I\\Milestone_I\\data\\Races_Combined\\races21.pkl\")\n",
    "df_2022=pd.read_pickle(r\"C:\\Users\\kchen\\OneDrive\\MADS\\SIADS591_592_Milestone1\\Milestone_I\\Milestone_I\\data\\Races_Combined\\races22.pkl\")"
   ]
  },
  {
   "cell_type": "code",
   "execution_count": 254,
   "metadata": {},
   "outputs": [
    {
     "data": {
      "text/html": [
       "<div>\n",
       "<style scoped>\n",
       "    .dataframe tbody tr th:only-of-type {\n",
       "        vertical-align: middle;\n",
       "    }\n",
       "\n",
       "    .dataframe tbody tr th {\n",
       "        vertical-align: top;\n",
       "    }\n",
       "\n",
       "    .dataframe thead th {\n",
       "        text-align: right;\n",
       "    }\n",
       "</style>\n",
       "<table border=\"1\" class=\"dataframe\">\n",
       "  <thead>\n",
       "    <tr style=\"text-align: right;\">\n",
       "      <th></th>\n",
       "      <th>Car #</th>\n",
       "      <th>Driver</th>\n",
       "      <th>Start</th>\n",
       "      <th>Mid Race</th>\n",
       "      <th>Finish</th>\n",
       "      <th>Average Position</th>\n",
       "      <th>Pass Differential</th>\n",
       "      <th>Green Passes</th>\n",
       "      <th>Green Passed</th>\n",
       "      <th>Quality Passes</th>\n",
       "      <th>% Quality Passes</th>\n",
       "      <th># Fastest Laps</th>\n",
       "      <th>Laps in Top 15</th>\n",
       "      <th>% Laps in Top 15</th>\n",
       "      <th>Laps Led</th>\n",
       "      <th>% Laps Led</th>\n",
       "      <th>Total Laps</th>\n",
       "      <th>Driver Rating</th>\n",
       "      <th>Points</th>\n",
       "      <th>Races</th>\n",
       "      <th>Points Eligible</th>\n",
       "      <th>Team</th>\n",
       "      <th>Make</th>\n",
       "      <th>Race #</th>\n",
       "      <th>Track</th>\n",
       "      <th>Track Type</th>\n",
       "      <th>Quality Passes Per Lap</th>\n",
       "      <th>Fastest Lap</th>\n",
       "      <th>Median Lap</th>\n",
       "      <th>Average Full Speed Lap</th>\n",
       "      <th>Fastest Lap % Deficit</th>\n",
       "      <th>Median Lap % Deficit</th>\n",
       "      <th>Average Full Speed Lap % Deficit</th>\n",
       "      <th>Fastest Lap Rank</th>\n",
       "      <th>Median Lap Rank</th>\n",
       "      <th>Average Full Speed Lap Rank</th>\n",
       "    </tr>\n",
       "  </thead>\n",
       "  <tbody>\n",
       "    <tr>\n",
       "      <th>1</th>\n",
       "      <td>34</td>\n",
       "      <td>Michael McDowell</td>\n",
       "      <td>17</td>\n",
       "      <td>18</td>\n",
       "      <td>1</td>\n",
       "      <td>13.8</td>\n",
       "      <td>5</td>\n",
       "      <td>102</td>\n",
       "      <td>97</td>\n",
       "      <td>71</td>\n",
       "      <td>69.61</td>\n",
       "      <td>7</td>\n",
       "      <td>103</td>\n",
       "      <td>51.5</td>\n",
       "      <td>1</td>\n",
       "      <td>0.5</td>\n",
       "      <td>200</td>\n",
       "      <td>94.2</td>\n",
       "      <td>44</td>\n",
       "      <td>1</td>\n",
       "      <td>1</td>\n",
       "      <td>FRM</td>\n",
       "      <td>Ford</td>\n",
       "      <td>1</td>\n",
       "      <td>Daytona</td>\n",
       "      <td>Superspeedway</td>\n",
       "      <td>0.355</td>\n",
       "      <td>45.372</td>\n",
       "      <td>46.470</td>\n",
       "      <td>46.363</td>\n",
       "      <td>-0.950050</td>\n",
       "      <td>-0.907670</td>\n",
       "      <td>-1.076980</td>\n",
       "      <td>9.0</td>\n",
       "      <td>20.0</td>\n",
       "      <td>18.0</td>\n",
       "    </tr>\n",
       "    <tr>\n",
       "      <th>2</th>\n",
       "      <td>9</td>\n",
       "      <td>Chase Elliott</td>\n",
       "      <td>12</td>\n",
       "      <td>8</td>\n",
       "      <td>2</td>\n",
       "      <td>8.1</td>\n",
       "      <td>-2</td>\n",
       "      <td>131</td>\n",
       "      <td>133</td>\n",
       "      <td>122</td>\n",
       "      <td>93.13</td>\n",
       "      <td>3</td>\n",
       "      <td>199</td>\n",
       "      <td>99.5</td>\n",
       "      <td>3</td>\n",
       "      <td>1.5</td>\n",
       "      <td>200</td>\n",
       "      <td>103.4</td>\n",
       "      <td>42</td>\n",
       "      <td>1</td>\n",
       "      <td>1</td>\n",
       "      <td>Hendrick</td>\n",
       "      <td>Chevy</td>\n",
       "      <td>1</td>\n",
       "      <td>Daytona</td>\n",
       "      <td>Superspeedway</td>\n",
       "      <td>0.610</td>\n",
       "      <td>45.133</td>\n",
       "      <td>46.386</td>\n",
       "      <td>46.212</td>\n",
       "      <td>-0.418289</td>\n",
       "      <td>-0.725267</td>\n",
       "      <td>-0.747782</td>\n",
       "      <td>3.0</td>\n",
       "      <td>13.0</td>\n",
       "      <td>4.0</td>\n",
       "    </tr>\n",
       "    <tr>\n",
       "      <th>3</th>\n",
       "      <td>3</td>\n",
       "      <td>Austin Dillon</td>\n",
       "      <td>4</td>\n",
       "      <td>4</td>\n",
       "      <td>3</td>\n",
       "      <td>6.1</td>\n",
       "      <td>-7</td>\n",
       "      <td>108</td>\n",
       "      <td>115</td>\n",
       "      <td>97</td>\n",
       "      <td>89.81</td>\n",
       "      <td>2</td>\n",
       "      <td>199</td>\n",
       "      <td>99.5</td>\n",
       "      <td>7</td>\n",
       "      <td>3.5</td>\n",
       "      <td>200</td>\n",
       "      <td>108.5</td>\n",
       "      <td>48</td>\n",
       "      <td>1</td>\n",
       "      <td>1</td>\n",
       "      <td>RCR</td>\n",
       "      <td>Chevy</td>\n",
       "      <td>1</td>\n",
       "      <td>Daytona</td>\n",
       "      <td>Superspeedway</td>\n",
       "      <td>0.485</td>\n",
       "      <td>45.422</td>\n",
       "      <td>46.373</td>\n",
       "      <td>46.200</td>\n",
       "      <td>-1.061297</td>\n",
       "      <td>-0.697038</td>\n",
       "      <td>-0.721620</td>\n",
       "      <td>12.0</td>\n",
       "      <td>11.0</td>\n",
       "      <td>3.0</td>\n",
       "    </tr>\n",
       "    <tr>\n",
       "      <th>4</th>\n",
       "      <td>4</td>\n",
       "      <td>Kevin Harvick</td>\n",
       "      <td>8</td>\n",
       "      <td>14</td>\n",
       "      <td>4</td>\n",
       "      <td>6.0</td>\n",
       "      <td>3</td>\n",
       "      <td>109</td>\n",
       "      <td>106</td>\n",
       "      <td>102</td>\n",
       "      <td>93.58</td>\n",
       "      <td>3</td>\n",
       "      <td>196</td>\n",
       "      <td>98.0</td>\n",
       "      <td>17</td>\n",
       "      <td>8.5</td>\n",
       "      <td>200</td>\n",
       "      <td>107.7</td>\n",
       "      <td>42</td>\n",
       "      <td>1</td>\n",
       "      <td>1</td>\n",
       "      <td>SHR</td>\n",
       "      <td>Ford</td>\n",
       "      <td>1</td>\n",
       "      <td>Daytona</td>\n",
       "      <td>Superspeedway</td>\n",
       "      <td>0.510</td>\n",
       "      <td>45.530</td>\n",
       "      <td>46.366</td>\n",
       "      <td>46.260</td>\n",
       "      <td>-1.301591</td>\n",
       "      <td>-0.681838</td>\n",
       "      <td>-0.852428</td>\n",
       "      <td>20.0</td>\n",
       "      <td>9.0</td>\n",
       "      <td>13.0</td>\n",
       "    </tr>\n",
       "    <tr>\n",
       "      <th>5</th>\n",
       "      <td>11</td>\n",
       "      <td>Denny Hamlin</td>\n",
       "      <td>25</td>\n",
       "      <td>3</td>\n",
       "      <td>5</td>\n",
       "      <td>6.0</td>\n",
       "      <td>-7</td>\n",
       "      <td>78</td>\n",
       "      <td>85</td>\n",
       "      <td>64</td>\n",
       "      <td>82.05</td>\n",
       "      <td>5</td>\n",
       "      <td>183</td>\n",
       "      <td>91.5</td>\n",
       "      <td>98</td>\n",
       "      <td>49.0</td>\n",
       "      <td>200</td>\n",
       "      <td>119.6</td>\n",
       "      <td>52</td>\n",
       "      <td>1</td>\n",
       "      <td>1</td>\n",
       "      <td>JGR</td>\n",
       "      <td>Toyota</td>\n",
       "      <td>1</td>\n",
       "      <td>Daytona</td>\n",
       "      <td>Superspeedway</td>\n",
       "      <td>0.320</td>\n",
       "      <td>45.473</td>\n",
       "      <td>46.390</td>\n",
       "      <td>46.255</td>\n",
       "      <td>-1.174769</td>\n",
       "      <td>-0.733953</td>\n",
       "      <td>-0.841527</td>\n",
       "      <td>15.0</td>\n",
       "      <td>16.0</td>\n",
       "      <td>12.0</td>\n",
       "    </tr>\n",
       "  </tbody>\n",
       "</table>\n",
       "</div>"
      ],
      "text/plain": [
       "   Car #            Driver  Start  Mid Race  Finish  Average Position  \\\n",
       "1     34  Michael McDowell     17        18       1              13.8   \n",
       "2      9     Chase Elliott     12         8       2               8.1   \n",
       "3      3     Austin Dillon      4         4       3               6.1   \n",
       "4      4     Kevin Harvick      8        14       4               6.0   \n",
       "5     11      Denny Hamlin     25         3       5               6.0   \n",
       "\n",
       "   Pass Differential  Green Passes  Green Passed  Quality Passes  \\\n",
       "1                  5           102            97              71   \n",
       "2                 -2           131           133             122   \n",
       "3                 -7           108           115              97   \n",
       "4                  3           109           106             102   \n",
       "5                 -7            78            85              64   \n",
       "\n",
       "   % Quality Passes  # Fastest Laps  Laps in Top 15  % Laps in Top 15  \\\n",
       "1             69.61               7             103              51.5   \n",
       "2             93.13               3             199              99.5   \n",
       "3             89.81               2             199              99.5   \n",
       "4             93.58               3             196              98.0   \n",
       "5             82.05               5             183              91.5   \n",
       "\n",
       "   Laps Led  % Laps Led  Total Laps  Driver Rating  Points  Races  \\\n",
       "1         1         0.5         200           94.2      44      1   \n",
       "2         3         1.5         200          103.4      42      1   \n",
       "3         7         3.5         200          108.5      48      1   \n",
       "4        17         8.5         200          107.7      42      1   \n",
       "5        98        49.0         200          119.6      52      1   \n",
       "\n",
       "   Points Eligible      Team    Make  Race #    Track     Track Type  \\\n",
       "1                1       FRM    Ford       1  Daytona  Superspeedway   \n",
       "2                1  Hendrick   Chevy       1  Daytona  Superspeedway   \n",
       "3                1       RCR   Chevy       1  Daytona  Superspeedway   \n",
       "4                1       SHR    Ford       1  Daytona  Superspeedway   \n",
       "5                1       JGR  Toyota       1  Daytona  Superspeedway   \n",
       "\n",
       "   Quality Passes Per Lap  Fastest Lap  Median Lap  Average Full Speed Lap  \\\n",
       "1                   0.355       45.372      46.470                  46.363   \n",
       "2                   0.610       45.133      46.386                  46.212   \n",
       "3                   0.485       45.422      46.373                  46.200   \n",
       "4                   0.510       45.530      46.366                  46.260   \n",
       "5                   0.320       45.473      46.390                  46.255   \n",
       "\n",
       "   Fastest Lap % Deficit  Median Lap % Deficit  \\\n",
       "1              -0.950050             -0.907670   \n",
       "2              -0.418289             -0.725267   \n",
       "3              -1.061297             -0.697038   \n",
       "4              -1.301591             -0.681838   \n",
       "5              -1.174769             -0.733953   \n",
       "\n",
       "   Average Full Speed Lap % Deficit  Fastest Lap Rank  Median Lap Rank  \\\n",
       "1                         -1.076980               9.0             20.0   \n",
       "2                         -0.747782               3.0             13.0   \n",
       "3                         -0.721620              12.0             11.0   \n",
       "4                         -0.852428              20.0              9.0   \n",
       "5                         -0.841527              15.0             16.0   \n",
       "\n",
       "   Average Full Speed Lap Rank  \n",
       "1                         18.0  \n",
       "2                          4.0  \n",
       "3                          3.0  \n",
       "4                         13.0  \n",
       "5                         12.0  "
      ]
     },
     "metadata": {},
     "output_type": "display_data"
    },
    {
     "data": {
      "text/html": [
       "<div>\n",
       "<style scoped>\n",
       "    .dataframe tbody tr th:only-of-type {\n",
       "        vertical-align: middle;\n",
       "    }\n",
       "\n",
       "    .dataframe tbody tr th {\n",
       "        vertical-align: top;\n",
       "    }\n",
       "\n",
       "    .dataframe thead th {\n",
       "        text-align: right;\n",
       "    }\n",
       "</style>\n",
       "<table border=\"1\" class=\"dataframe\">\n",
       "  <thead>\n",
       "    <tr style=\"text-align: right;\">\n",
       "      <th></th>\n",
       "      <th>Car #</th>\n",
       "      <th>Start</th>\n",
       "      <th>Mid Race</th>\n",
       "      <th>Finish</th>\n",
       "      <th>Average Position</th>\n",
       "      <th>Pass Differential</th>\n",
       "      <th>Green Passes</th>\n",
       "      <th>Green Passed</th>\n",
       "      <th>Quality Passes</th>\n",
       "      <th>% Quality Passes</th>\n",
       "      <th># Fastest Laps</th>\n",
       "      <th>Laps in Top 15</th>\n",
       "      <th>% Laps in Top 15</th>\n",
       "      <th>Laps Led</th>\n",
       "      <th>% Laps Led</th>\n",
       "      <th>Total Laps</th>\n",
       "      <th>Driver Rating</th>\n",
       "      <th>Points</th>\n",
       "      <th>Races</th>\n",
       "      <th>Points Eligible</th>\n",
       "      <th>Race #</th>\n",
       "      <th>Quality Passes Per Lap</th>\n",
       "      <th>Fastest Lap</th>\n",
       "      <th>Median Lap</th>\n",
       "      <th>Average Full Speed Lap</th>\n",
       "      <th>Fastest Lap % Deficit</th>\n",
       "      <th>Median Lap % Deficit</th>\n",
       "      <th>Average Full Speed Lap % Deficit</th>\n",
       "      <th>Fastest Lap Rank</th>\n",
       "      <th>Median Lap Rank</th>\n",
       "      <th>Average Full Speed Lap Rank</th>\n",
       "    </tr>\n",
       "  </thead>\n",
       "  <tbody>\n",
       "    <tr>\n",
       "      <th>count</th>\n",
       "      <td>343.000000</td>\n",
       "      <td>343.000000</td>\n",
       "      <td>343.000000</td>\n",
       "      <td>343.000000</td>\n",
       "      <td>343.000000</td>\n",
       "      <td>343.000000</td>\n",
       "      <td>343.000000</td>\n",
       "      <td>343.000000</td>\n",
       "      <td>343.000000</td>\n",
       "      <td>343.000000</td>\n",
       "      <td>343.000000</td>\n",
       "      <td>343.000000</td>\n",
       "      <td>343.000000</td>\n",
       "      <td>343.000000</td>\n",
       "      <td>343.000000</td>\n",
       "      <td>343.000000</td>\n",
       "      <td>343.000000</td>\n",
       "      <td>343.000000</td>\n",
       "      <td>343.000000</td>\n",
       "      <td>343.000000</td>\n",
       "      <td>343.000000</td>\n",
       "      <td>343.000000</td>\n",
       "      <td>343.000000</td>\n",
       "      <td>343.000000</td>\n",
       "      <td>343.000000</td>\n",
       "      <td>343.000000</td>\n",
       "      <td>343.000000</td>\n",
       "      <td>343.000000</td>\n",
       "      <td>343.000000</td>\n",
       "      <td>343.000000</td>\n",
       "      <td>343.000000</td>\n",
       "    </tr>\n",
       "    <tr>\n",
       "      <th>mean</th>\n",
       "      <td>26.396501</td>\n",
       "      <td>19.877551</td>\n",
       "      <td>20.069971</td>\n",
       "      <td>19.766764</td>\n",
       "      <td>19.852187</td>\n",
       "      <td>-0.075802</td>\n",
       "      <td>80.810496</td>\n",
       "      <td>80.886297</td>\n",
       "      <td>35.437318</td>\n",
       "      <td>35.705802</td>\n",
       "      <td>6.215743</td>\n",
       "      <td>122.413994</td>\n",
       "      <td>38.992711</td>\n",
       "      <td>7.201166</td>\n",
       "      <td>2.334694</td>\n",
       "      <td>288.804665</td>\n",
       "      <td>68.669679</td>\n",
       "      <td>19.341108</td>\n",
       "      <td>4.932945</td>\n",
       "      <td>0.865889</td>\n",
       "      <td>5.463557</td>\n",
       "      <td>0.184038</td>\n",
       "      <td>30.424936</td>\n",
       "      <td>32.000525</td>\n",
       "      <td>31.646810</td>\n",
       "      <td>-2.734163</td>\n",
       "      <td>-2.923421</td>\n",
       "      <td>-2.494126</td>\n",
       "      <td>17.650146</td>\n",
       "      <td>17.638484</td>\n",
       "      <td>17.653061</td>\n",
       "    </tr>\n",
       "    <tr>\n",
       "      <th>std</th>\n",
       "      <td>21.754752</td>\n",
       "      <td>11.159248</td>\n",
       "      <td>11.200762</td>\n",
       "      <td>11.144366</td>\n",
       "      <td>10.016857</td>\n",
       "      <td>13.099488</td>\n",
       "      <td>78.920137</td>\n",
       "      <td>77.253826</td>\n",
       "      <td>51.632201</td>\n",
       "      <td>32.993496</td>\n",
       "      <td>13.534884</td>\n",
       "      <td>135.246442</td>\n",
       "      <td>39.295115</td>\n",
       "      <td>31.553775</td>\n",
       "      <td>8.807834</td>\n",
       "      <td>113.623750</td>\n",
       "      <td>28.678904</td>\n",
       "      <td>15.638748</td>\n",
       "      <td>2.999736</td>\n",
       "      <td>0.341269</td>\n",
       "      <td>2.876246</td>\n",
       "      <td>0.344978</td>\n",
       "      <td>9.495167</td>\n",
       "      <td>10.173931</td>\n",
       "      <td>9.658485</td>\n",
       "      <td>7.921947</td>\n",
       "      <td>8.484775</td>\n",
       "      <td>7.132120</td>\n",
       "      <td>9.940174</td>\n",
       "      <td>9.956803</td>\n",
       "      <td>9.946011</td>\n",
       "    </tr>\n",
       "    <tr>\n",
       "      <th>min</th>\n",
       "      <td>0.000000</td>\n",
       "      <td>1.000000</td>\n",
       "      <td>1.000000</td>\n",
       "      <td>1.000000</td>\n",
       "      <td>1.300000</td>\n",
       "      <td>-52.000000</td>\n",
       "      <td>0.000000</td>\n",
       "      <td>1.000000</td>\n",
       "      <td>0.000000</td>\n",
       "      <td>0.000000</td>\n",
       "      <td>0.000000</td>\n",
       "      <td>0.000000</td>\n",
       "      <td>0.000000</td>\n",
       "      <td>0.000000</td>\n",
       "      <td>0.000000</td>\n",
       "      <td>1.000000</td>\n",
       "      <td>23.200000</td>\n",
       "      <td>0.000000</td>\n",
       "      <td>1.000000</td>\n",
       "      <td>0.000000</td>\n",
       "      <td>1.000000</td>\n",
       "      <td>0.000000</td>\n",
       "      <td>19.393000</td>\n",
       "      <td>20.785000</td>\n",
       "      <td>20.516000</td>\n",
       "      <td>-145.746489</td>\n",
       "      <td>-126.526489</td>\n",
       "      <td>-130.064484</td>\n",
       "      <td>1.000000</td>\n",
       "      <td>1.000000</td>\n",
       "      <td>1.000000</td>\n",
       "    </tr>\n",
       "    <tr>\n",
       "      <th>25%</th>\n",
       "      <td>9.000000</td>\n",
       "      <td>10.000000</td>\n",
       "      <td>10.000000</td>\n",
       "      <td>10.000000</td>\n",
       "      <td>11.600000</td>\n",
       "      <td>-7.500000</td>\n",
       "      <td>26.000000</td>\n",
       "      <td>27.000000</td>\n",
       "      <td>0.500000</td>\n",
       "      <td>0.305000</td>\n",
       "      <td>0.000000</td>\n",
       "      <td>2.000000</td>\n",
       "      <td>0.500000</td>\n",
       "      <td>0.000000</td>\n",
       "      <td>0.000000</td>\n",
       "      <td>200.000000</td>\n",
       "      <td>43.300000</td>\n",
       "      <td>4.500000</td>\n",
       "      <td>2.000000</td>\n",
       "      <td>1.000000</td>\n",
       "      <td>3.000000</td>\n",
       "      <td>0.001500</td>\n",
       "      <td>23.074500</td>\n",
       "      <td>24.553500</td>\n",
       "      <td>24.376000</td>\n",
       "      <td>-3.141755</td>\n",
       "      <td>-3.408570</td>\n",
       "      <td>-2.899730</td>\n",
       "      <td>9.000000</td>\n",
       "      <td>9.000000</td>\n",
       "      <td>9.000000</td>\n",
       "    </tr>\n",
       "    <tr>\n",
       "      <th>50%</th>\n",
       "      <td>20.000000</td>\n",
       "      <td>20.000000</td>\n",
       "      <td>20.000000</td>\n",
       "      <td>20.000000</td>\n",
       "      <td>19.900000</td>\n",
       "      <td>-1.000000</td>\n",
       "      <td>62.000000</td>\n",
       "      <td>65.000000</td>\n",
       "      <td>17.000000</td>\n",
       "      <td>30.340000</td>\n",
       "      <td>2.000000</td>\n",
       "      <td>66.000000</td>\n",
       "      <td>25.600000</td>\n",
       "      <td>0.000000</td>\n",
       "      <td>0.000000</td>\n",
       "      <td>292.000000</td>\n",
       "      <td>66.800000</td>\n",
       "      <td>18.000000</td>\n",
       "      <td>5.000000</td>\n",
       "      <td>1.000000</td>\n",
       "      <td>5.000000</td>\n",
       "      <td>0.060000</td>\n",
       "      <td>29.820000</td>\n",
       "      <td>31.018000</td>\n",
       "      <td>30.962000</td>\n",
       "      <td>-1.943161</td>\n",
       "      <td>-1.556987</td>\n",
       "      <td>-1.648858</td>\n",
       "      <td>18.000000</td>\n",
       "      <td>18.000000</td>\n",
       "      <td>18.000000</td>\n",
       "    </tr>\n",
       "    <tr>\n",
       "      <th>75%</th>\n",
       "      <td>41.500000</td>\n",
       "      <td>29.500000</td>\n",
       "      <td>30.000000</td>\n",
       "      <td>29.500000</td>\n",
       "      <td>28.200000</td>\n",
       "      <td>6.000000</td>\n",
       "      <td>104.000000</td>\n",
       "      <td>104.000000</td>\n",
       "      <td>47.500000</td>\n",
       "      <td>62.695000</td>\n",
       "      <td>7.000000</td>\n",
       "      <td>226.000000</td>\n",
       "      <td>77.850000</td>\n",
       "      <td>0.000000</td>\n",
       "      <td>0.000000</td>\n",
       "      <td>387.000000</td>\n",
       "      <td>90.600000</td>\n",
       "      <td>30.000000</td>\n",
       "      <td>8.000000</td>\n",
       "      <td>1.000000</td>\n",
       "      <td>8.000000</td>\n",
       "      <td>0.155500</td>\n",
       "      <td>31.842000</td>\n",
       "      <td>33.403000</td>\n",
       "      <td>33.202000</td>\n",
       "      <td>-1.174852</td>\n",
       "      <td>-0.737793</td>\n",
       "      <td>-0.869042</td>\n",
       "      <td>26.000000</td>\n",
       "      <td>26.000000</td>\n",
       "      <td>26.000000</td>\n",
       "    </tr>\n",
       "    <tr>\n",
       "      <th>max</th>\n",
       "      <td>96.000000</td>\n",
       "      <td>40.000000</td>\n",
       "      <td>40.000000</td>\n",
       "      <td>40.000000</td>\n",
       "      <td>39.900000</td>\n",
       "      <td>58.000000</td>\n",
       "      <td>408.000000</td>\n",
       "      <td>407.000000</td>\n",
       "      <td>282.000000</td>\n",
       "      <td>100.000000</td>\n",
       "      <td>122.000000</td>\n",
       "      <td>500.000000</td>\n",
       "      <td>100.000000</td>\n",
       "      <td>276.000000</td>\n",
       "      <td>82.800000</td>\n",
       "      <td>500.000000</td>\n",
       "      <td>144.800000</td>\n",
       "      <td>57.000000</td>\n",
       "      <td>10.000000</td>\n",
       "      <td>1.000000</td>\n",
       "      <td>10.000000</td>\n",
       "      <td>2.308000</td>\n",
       "      <td>54.944000</td>\n",
       "      <td>87.420000</td>\n",
       "      <td>55.812000</td>\n",
       "      <td>0.000000</td>\n",
       "      <td>0.000000</td>\n",
       "      <td>0.000000</td>\n",
       "      <td>36.000000</td>\n",
       "      <td>36.000000</td>\n",
       "      <td>36.000000</td>\n",
       "    </tr>\n",
       "  </tbody>\n",
       "</table>\n",
       "</div>"
      ],
      "text/plain": [
       "            Car #       Start    Mid Race      Finish  Average Position  \\\n",
       "count  343.000000  343.000000  343.000000  343.000000        343.000000   \n",
       "mean    26.396501   19.877551   20.069971   19.766764         19.852187   \n",
       "std     21.754752   11.159248   11.200762   11.144366         10.016857   \n",
       "min      0.000000    1.000000    1.000000    1.000000          1.300000   \n",
       "25%      9.000000   10.000000   10.000000   10.000000         11.600000   \n",
       "50%     20.000000   20.000000   20.000000   20.000000         19.900000   \n",
       "75%     41.500000   29.500000   30.000000   29.500000         28.200000   \n",
       "max     96.000000   40.000000   40.000000   40.000000         39.900000   \n",
       "\n",
       "       Pass Differential  Green Passes  Green Passed  Quality Passes  \\\n",
       "count         343.000000    343.000000    343.000000      343.000000   \n",
       "mean           -0.075802     80.810496     80.886297       35.437318   \n",
       "std            13.099488     78.920137     77.253826       51.632201   \n",
       "min           -52.000000      0.000000      1.000000        0.000000   \n",
       "25%            -7.500000     26.000000     27.000000        0.500000   \n",
       "50%            -1.000000     62.000000     65.000000       17.000000   \n",
       "75%             6.000000    104.000000    104.000000       47.500000   \n",
       "max            58.000000    408.000000    407.000000      282.000000   \n",
       "\n",
       "       % Quality Passes  # Fastest Laps  Laps in Top 15  % Laps in Top 15  \\\n",
       "count        343.000000      343.000000      343.000000        343.000000   \n",
       "mean          35.705802        6.215743      122.413994         38.992711   \n",
       "std           32.993496       13.534884      135.246442         39.295115   \n",
       "min            0.000000        0.000000        0.000000          0.000000   \n",
       "25%            0.305000        0.000000        2.000000          0.500000   \n",
       "50%           30.340000        2.000000       66.000000         25.600000   \n",
       "75%           62.695000        7.000000      226.000000         77.850000   \n",
       "max          100.000000      122.000000      500.000000        100.000000   \n",
       "\n",
       "         Laps Led  % Laps Led  Total Laps  Driver Rating      Points  \\\n",
       "count  343.000000  343.000000  343.000000     343.000000  343.000000   \n",
       "mean     7.201166    2.334694  288.804665      68.669679   19.341108   \n",
       "std     31.553775    8.807834  113.623750      28.678904   15.638748   \n",
       "min      0.000000    0.000000    1.000000      23.200000    0.000000   \n",
       "25%      0.000000    0.000000  200.000000      43.300000    4.500000   \n",
       "50%      0.000000    0.000000  292.000000      66.800000   18.000000   \n",
       "75%      0.000000    0.000000  387.000000      90.600000   30.000000   \n",
       "max    276.000000   82.800000  500.000000     144.800000   57.000000   \n",
       "\n",
       "            Races  Points Eligible      Race #  Quality Passes Per Lap  \\\n",
       "count  343.000000       343.000000  343.000000              343.000000   \n",
       "mean     4.932945         0.865889    5.463557                0.184038   \n",
       "std      2.999736         0.341269    2.876246                0.344978   \n",
       "min      1.000000         0.000000    1.000000                0.000000   \n",
       "25%      2.000000         1.000000    3.000000                0.001500   \n",
       "50%      5.000000         1.000000    5.000000                0.060000   \n",
       "75%      8.000000         1.000000    8.000000                0.155500   \n",
       "max     10.000000         1.000000   10.000000                2.308000   \n",
       "\n",
       "       Fastest Lap  Median Lap  Average Full Speed Lap  Fastest Lap % Deficit  \\\n",
       "count   343.000000  343.000000              343.000000             343.000000   \n",
       "mean     30.424936   32.000525               31.646810              -2.734163   \n",
       "std       9.495167   10.173931                9.658485               7.921947   \n",
       "min      19.393000   20.785000               20.516000            -145.746489   \n",
       "25%      23.074500   24.553500               24.376000              -3.141755   \n",
       "50%      29.820000   31.018000               30.962000              -1.943161   \n",
       "75%      31.842000   33.403000               33.202000              -1.174852   \n",
       "max      54.944000   87.420000               55.812000               0.000000   \n",
       "\n",
       "       Median Lap % Deficit  Average Full Speed Lap % Deficit  \\\n",
       "count            343.000000                        343.000000   \n",
       "mean              -2.923421                         -2.494126   \n",
       "std                8.484775                          7.132120   \n",
       "min             -126.526489                       -130.064484   \n",
       "25%               -3.408570                         -2.899730   \n",
       "50%               -1.556987                         -1.648858   \n",
       "75%               -0.737793                         -0.869042   \n",
       "max                0.000000                          0.000000   \n",
       "\n",
       "       Fastest Lap Rank  Median Lap Rank  Average Full Speed Lap Rank  \n",
       "count        343.000000       343.000000                   343.000000  \n",
       "mean          17.650146        17.638484                    17.653061  \n",
       "std            9.940174         9.956803                     9.946011  \n",
       "min            1.000000         1.000000                     1.000000  \n",
       "25%            9.000000         9.000000                     9.000000  \n",
       "50%           18.000000        18.000000                    18.000000  \n",
       "75%           26.000000        26.000000                    26.000000  \n",
       "max           36.000000        36.000000                    36.000000  "
      ]
     },
     "metadata": {},
     "output_type": "display_data"
    },
    {
     "data": {
      "text/html": [
       "<div>\n",
       "<style scoped>\n",
       "    .dataframe tbody tr th:only-of-type {\n",
       "        vertical-align: middle;\n",
       "    }\n",
       "\n",
       "    .dataframe tbody tr th {\n",
       "        vertical-align: top;\n",
       "    }\n",
       "\n",
       "    .dataframe thead th {\n",
       "        text-align: right;\n",
       "    }\n",
       "</style>\n",
       "<table border=\"1\" class=\"dataframe\">\n",
       "  <thead>\n",
       "    <tr style=\"text-align: right;\">\n",
       "      <th></th>\n",
       "      <th>Car #</th>\n",
       "      <th>Driver</th>\n",
       "      <th>Start</th>\n",
       "      <th>Mid Race</th>\n",
       "      <th>Finish</th>\n",
       "      <th>Average Position</th>\n",
       "      <th>Pass Differential</th>\n",
       "      <th>Green Passes</th>\n",
       "      <th>Green Passed</th>\n",
       "      <th>Quality Passes</th>\n",
       "      <th>% Quality Passes</th>\n",
       "      <th># Fastest Laps</th>\n",
       "      <th>Laps in Top 15</th>\n",
       "      <th>% Laps in Top 15</th>\n",
       "      <th>Laps Led</th>\n",
       "      <th>% Laps Led</th>\n",
       "      <th>Total Laps</th>\n",
       "      <th>Driver Rating</th>\n",
       "      <th>Points</th>\n",
       "      <th>Races</th>\n",
       "      <th>Points Eligible</th>\n",
       "      <th>Team</th>\n",
       "      <th>Make</th>\n",
       "      <th>Race #</th>\n",
       "      <th>Track</th>\n",
       "      <th>Track Type</th>\n",
       "      <th>Quality Passes Per Lap</th>\n",
       "      <th>Fastest Lap</th>\n",
       "      <th>Median Lap</th>\n",
       "      <th>Average Full Speed Lap</th>\n",
       "      <th>Fastest Lap % Deficit</th>\n",
       "      <th>Median Lap % Deficit</th>\n",
       "      <th>Average Full Speed Lap % Deficit</th>\n",
       "      <th>Fastest Lap Rank</th>\n",
       "      <th>Median Lap Rank</th>\n",
       "      <th>Average Full Speed Lap Rank</th>\n",
       "    </tr>\n",
       "  </thead>\n",
       "  <tbody>\n",
       "    <tr>\n",
       "      <th>5</th>\n",
       "      <td>11</td>\n",
       "      <td>Denny Hamlin</td>\n",
       "      <td>25</td>\n",
       "      <td>3</td>\n",
       "      <td>5</td>\n",
       "      <td>6.0</td>\n",
       "      <td>-7</td>\n",
       "      <td>78</td>\n",
       "      <td>85</td>\n",
       "      <td>64</td>\n",
       "      <td>82.05</td>\n",
       "      <td>5</td>\n",
       "      <td>183</td>\n",
       "      <td>91.5</td>\n",
       "      <td>98</td>\n",
       "      <td>49.0</td>\n",
       "      <td>200</td>\n",
       "      <td>119.6</td>\n",
       "      <td>52</td>\n",
       "      <td>1</td>\n",
       "      <td>1</td>\n",
       "      <td>JGR</td>\n",
       "      <td>Toyota</td>\n",
       "      <td>1</td>\n",
       "      <td>Daytona</td>\n",
       "      <td>Superspeedway</td>\n",
       "      <td>0.320</td>\n",
       "      <td>45.473</td>\n",
       "      <td>46.390</td>\n",
       "      <td>46.255</td>\n",
       "      <td>-1.174769</td>\n",
       "      <td>-0.733953</td>\n",
       "      <td>-0.841527</td>\n",
       "      <td>15.0</td>\n",
       "      <td>16.0</td>\n",
       "      <td>12.0</td>\n",
       "    </tr>\n",
       "    <tr>\n",
       "      <th>4</th>\n",
       "      <td>11</td>\n",
       "      <td>Denny Hamlin</td>\n",
       "      <td>6</td>\n",
       "      <td>7</td>\n",
       "      <td>4</td>\n",
       "      <td>4.3</td>\n",
       "      <td>-3</td>\n",
       "      <td>94</td>\n",
       "      <td>97</td>\n",
       "      <td>76</td>\n",
       "      <td>80.85</td>\n",
       "      <td>13</td>\n",
       "      <td>263</td>\n",
       "      <td>98.5</td>\n",
       "      <td>47</td>\n",
       "      <td>17.6</td>\n",
       "      <td>267</td>\n",
       "      <td>116.6</td>\n",
       "      <td>48</td>\n",
       "      <td>2</td>\n",
       "      <td>1</td>\n",
       "      <td>JGR</td>\n",
       "      <td>Toyota</td>\n",
       "      <td>2</td>\n",
       "      <td>Las Vegas</td>\n",
       "      <td>Speedway</td>\n",
       "      <td>0.285</td>\n",
       "      <td>30.399</td>\n",
       "      <td>31.001</td>\n",
       "      <td>30.962</td>\n",
       "      <td>-0.792440</td>\n",
       "      <td>-0.349594</td>\n",
       "      <td>-0.216864</td>\n",
       "      <td>8.0</td>\n",
       "      <td>3.0</td>\n",
       "      <td>4.0</td>\n",
       "    </tr>\n",
       "    <tr>\n",
       "      <th>2</th>\n",
       "      <td>11</td>\n",
       "      <td>Denny Hamlin</td>\n",
       "      <td>3</td>\n",
       "      <td>6</td>\n",
       "      <td>3</td>\n",
       "      <td>3.8</td>\n",
       "      <td>3</td>\n",
       "      <td>44</td>\n",
       "      <td>41</td>\n",
       "      <td>38</td>\n",
       "      <td>86.36</td>\n",
       "      <td>38</td>\n",
       "      <td>312</td>\n",
       "      <td>100.0</td>\n",
       "      <td>33</td>\n",
       "      <td>10.6</td>\n",
       "      <td>312</td>\n",
       "      <td>125.0</td>\n",
       "      <td>49</td>\n",
       "      <td>3</td>\n",
       "      <td>1</td>\n",
       "      <td>JGR</td>\n",
       "      <td>Toyota</td>\n",
       "      <td>3</td>\n",
       "      <td>Phoenix</td>\n",
       "      <td>Speedway</td>\n",
       "      <td>0.122</td>\n",
       "      <td>26.979</td>\n",
       "      <td>27.908</td>\n",
       "      <td>27.776</td>\n",
       "      <td>0.000000</td>\n",
       "      <td>-0.114794</td>\n",
       "      <td>-0.032413</td>\n",
       "      <td>1.0</td>\n",
       "      <td>2.0</td>\n",
       "      <td>2.0</td>\n",
       "    </tr>\n",
       "    <tr>\n",
       "      <th>4</th>\n",
       "      <td>11</td>\n",
       "      <td>Denny Hamlin</td>\n",
       "      <td>1</td>\n",
       "      <td>8</td>\n",
       "      <td>4</td>\n",
       "      <td>5.6</td>\n",
       "      <td>1</td>\n",
       "      <td>82</td>\n",
       "      <td>81</td>\n",
       "      <td>47</td>\n",
       "      <td>57.32</td>\n",
       "      <td>10</td>\n",
       "      <td>319</td>\n",
       "      <td>98.2</td>\n",
       "      <td>27</td>\n",
       "      <td>8.3</td>\n",
       "      <td>325</td>\n",
       "      <td>114.2</td>\n",
       "      <td>41</td>\n",
       "      <td>4</td>\n",
       "      <td>1</td>\n",
       "      <td>JGR</td>\n",
       "      <td>Toyota</td>\n",
       "      <td>4</td>\n",
       "      <td>Atlanta</td>\n",
       "      <td>Superpeedway</td>\n",
       "      <td>0.145</td>\n",
       "      <td>31.247</td>\n",
       "      <td>32.914</td>\n",
       "      <td>32.732</td>\n",
       "      <td>-0.657153</td>\n",
       "      <td>-0.531460</td>\n",
       "      <td>-0.503562</td>\n",
       "      <td>6.0</td>\n",
       "      <td>5.0</td>\n",
       "      <td>5.0</td>\n",
       "    </tr>\n",
       "    <tr>\n",
       "      <th>2</th>\n",
       "      <td>11</td>\n",
       "      <td>Denny Hamlin</td>\n",
       "      <td>2</td>\n",
       "      <td>2</td>\n",
       "      <td>2</td>\n",
       "      <td>1.7</td>\n",
       "      <td>-7</td>\n",
       "      <td>45</td>\n",
       "      <td>52</td>\n",
       "      <td>27</td>\n",
       "      <td>60.00</td>\n",
       "      <td>89</td>\n",
       "      <td>400</td>\n",
       "      <td>100.0</td>\n",
       "      <td>207</td>\n",
       "      <td>51.8</td>\n",
       "      <td>400</td>\n",
       "      <td>138.5</td>\n",
       "      <td>55</td>\n",
       "      <td>5</td>\n",
       "      <td>1</td>\n",
       "      <td>JGR</td>\n",
       "      <td>Toyota</td>\n",
       "      <td>5</td>\n",
       "      <td>Richmond</td>\n",
       "      <td>Short Track</td>\n",
       "      <td>0.068</td>\n",
       "      <td>22.358</td>\n",
       "      <td>24.255</td>\n",
       "      <td>23.882</td>\n",
       "      <td>0.000000</td>\n",
       "      <td>0.000000</td>\n",
       "      <td>0.000000</td>\n",
       "      <td>1.0</td>\n",
       "      <td>1.0</td>\n",
       "      <td>1.0</td>\n",
       "    </tr>\n",
       "    <tr>\n",
       "      <th>2</th>\n",
       "      <td>11</td>\n",
       "      <td>Denny Hamlin</td>\n",
       "      <td>2</td>\n",
       "      <td>2</td>\n",
       "      <td>3</td>\n",
       "      <td>1.8</td>\n",
       "      <td>5</td>\n",
       "      <td>25</td>\n",
       "      <td>20</td>\n",
       "      <td>25</td>\n",
       "      <td>100.00</td>\n",
       "      <td>81</td>\n",
       "      <td>498</td>\n",
       "      <td>99.6</td>\n",
       "      <td>276</td>\n",
       "      <td>55.2</td>\n",
       "      <td>500</td>\n",
       "      <td>139.8</td>\n",
       "      <td>52</td>\n",
       "      <td>6</td>\n",
       "      <td>1</td>\n",
       "      <td>JGR</td>\n",
       "      <td>Toyota</td>\n",
       "      <td>6</td>\n",
       "      <td>Martinsville</td>\n",
       "      <td>Short Track</td>\n",
       "      <td>0.050</td>\n",
       "      <td>19.916</td>\n",
       "      <td>21.100</td>\n",
       "      <td>20.916</td>\n",
       "      <td>0.000000</td>\n",
       "      <td>0.000000</td>\n",
       "      <td>0.000000</td>\n",
       "      <td>1.0</td>\n",
       "      <td>1.0</td>\n",
       "      <td>1.0</td>\n",
       "    </tr>\n",
       "    <tr>\n",
       "      <th>2</th>\n",
       "      <td>11</td>\n",
       "      <td>Denny Hamlin</td>\n",
       "      <td>2</td>\n",
       "      <td>5</td>\n",
       "      <td>3</td>\n",
       "      <td>4.1</td>\n",
       "      <td>-1</td>\n",
       "      <td>20</td>\n",
       "      <td>21</td>\n",
       "      <td>20</td>\n",
       "      <td>100.00</td>\n",
       "      <td>29</td>\n",
       "      <td>253</td>\n",
       "      <td>100.0</td>\n",
       "      <td>1</td>\n",
       "      <td>0.4</td>\n",
       "      <td>253</td>\n",
       "      <td>120.0</td>\n",
       "      <td>50</td>\n",
       "      <td>7</td>\n",
       "      <td>1</td>\n",
       "      <td>JGR</td>\n",
       "      <td>Toyota</td>\n",
       "      <td>7</td>\n",
       "      <td>Bristol</td>\n",
       "      <td>Short Track</td>\n",
       "      <td>0.079</td>\n",
       "      <td>19.668</td>\n",
       "      <td>21.120</td>\n",
       "      <td>20.987</td>\n",
       "      <td>-1.418037</td>\n",
       "      <td>-1.611739</td>\n",
       "      <td>-2.295769</td>\n",
       "      <td>5.0</td>\n",
       "      <td>7.0</td>\n",
       "      <td>7.0</td>\n",
       "    </tr>\n",
       "    <tr>\n",
       "      <th>29</th>\n",
       "      <td>11</td>\n",
       "      <td>Denny Hamlin</td>\n",
       "      <td>1</td>\n",
       "      <td>35</td>\n",
       "      <td>32</td>\n",
       "      <td>19.9</td>\n",
       "      <td>-1</td>\n",
       "      <td>165</td>\n",
       "      <td>166</td>\n",
       "      <td>106</td>\n",
       "      <td>64.24</td>\n",
       "      <td>4</td>\n",
       "      <td>85</td>\n",
       "      <td>44.5</td>\n",
       "      <td>43</td>\n",
       "      <td>22.9</td>\n",
       "      <td>188</td>\n",
       "      <td>90.1</td>\n",
       "      <td>12</td>\n",
       "      <td>8</td>\n",
       "      <td>1</td>\n",
       "      <td>JGR</td>\n",
       "      <td>Toyota</td>\n",
       "      <td>8</td>\n",
       "      <td>Talladega</td>\n",
       "      <td>Superspeedway</td>\n",
       "      <td>0.564</td>\n",
       "      <td>47.922</td>\n",
       "      <td>49.887</td>\n",
       "      <td>49.681</td>\n",
       "      <td>-1.473764</td>\n",
       "      <td>-1.534610</td>\n",
       "      <td>-1.389796</td>\n",
       "      <td>26.0</td>\n",
       "      <td>27.0</td>\n",
       "      <td>26.0</td>\n",
       "    </tr>\n",
       "    <tr>\n",
       "      <th>7</th>\n",
       "      <td>11</td>\n",
       "      <td>Denny Hamlin</td>\n",
       "      <td>2</td>\n",
       "      <td>4</td>\n",
       "      <td>7</td>\n",
       "      <td>5.6</td>\n",
       "      <td>-2</td>\n",
       "      <td>17</td>\n",
       "      <td>19</td>\n",
       "      <td>17</td>\n",
       "      <td>100.00</td>\n",
       "      <td>10</td>\n",
       "      <td>400</td>\n",
       "      <td>100.0</td>\n",
       "      <td>2</td>\n",
       "      <td>0.5</td>\n",
       "      <td>400</td>\n",
       "      <td>106.2</td>\n",
       "      <td>45</td>\n",
       "      <td>9</td>\n",
       "      <td>1</td>\n",
       "      <td>JGR</td>\n",
       "      <td>Toyota</td>\n",
       "      <td>10</td>\n",
       "      <td>Dover</td>\n",
       "      <td>NaN</td>\n",
       "      <td>0.042</td>\n",
       "      <td>23.434</td>\n",
       "      <td>24.550</td>\n",
       "      <td>24.447</td>\n",
       "      <td>-1.073970</td>\n",
       "      <td>-0.417212</td>\n",
       "      <td>-0.696103</td>\n",
       "      <td>6.0</td>\n",
       "      <td>5.0</td>\n",
       "      <td>6.0</td>\n",
       "    </tr>\n",
       "    <tr>\n",
       "      <th>4</th>\n",
       "      <td>11</td>\n",
       "      <td>Denny Hamlin</td>\n",
       "      <td>7</td>\n",
       "      <td>6</td>\n",
       "      <td>5</td>\n",
       "      <td>4.3</td>\n",
       "      <td>0</td>\n",
       "      <td>79</td>\n",
       "      <td>79</td>\n",
       "      <td>49</td>\n",
       "      <td>62.03</td>\n",
       "      <td>13</td>\n",
       "      <td>292</td>\n",
       "      <td>99.7</td>\n",
       "      <td>5</td>\n",
       "      <td>1.7</td>\n",
       "      <td>293</td>\n",
       "      <td>116.2</td>\n",
       "      <td>48</td>\n",
       "      <td>10</td>\n",
       "      <td>1</td>\n",
       "      <td>JGR</td>\n",
       "      <td>Toyota</td>\n",
       "      <td>9</td>\n",
       "      <td>Darlington</td>\n",
       "      <td>NaN</td>\n",
       "      <td>0.167</td>\n",
       "      <td>29.760</td>\n",
       "      <td>32.197</td>\n",
       "      <td>31.732</td>\n",
       "      <td>-0.973773</td>\n",
       "      <td>-3.112890</td>\n",
       "      <td>-1.244337</td>\n",
       "      <td>2.0</td>\n",
       "      <td>3.0</td>\n",
       "      <td>5.0</td>\n",
       "    </tr>\n",
       "  </tbody>\n",
       "</table>\n",
       "</div>"
      ],
      "text/plain": [
       "    Car #        Driver  Start  Mid Race  Finish  Average Position  \\\n",
       "5      11  Denny Hamlin     25         3       5               6.0   \n",
       "4      11  Denny Hamlin      6         7       4               4.3   \n",
       "2      11  Denny Hamlin      3         6       3               3.8   \n",
       "4      11  Denny Hamlin      1         8       4               5.6   \n",
       "2      11  Denny Hamlin      2         2       2               1.7   \n",
       "2      11  Denny Hamlin      2         2       3               1.8   \n",
       "2      11  Denny Hamlin      2         5       3               4.1   \n",
       "29     11  Denny Hamlin      1        35      32              19.9   \n",
       "7      11  Denny Hamlin      2         4       7               5.6   \n",
       "4      11  Denny Hamlin      7         6       5               4.3   \n",
       "\n",
       "    Pass Differential  Green Passes  Green Passed  Quality Passes  \\\n",
       "5                  -7            78            85              64   \n",
       "4                  -3            94            97              76   \n",
       "2                   3            44            41              38   \n",
       "4                   1            82            81              47   \n",
       "2                  -7            45            52              27   \n",
       "2                   5            25            20              25   \n",
       "2                  -1            20            21              20   \n",
       "29                 -1           165           166             106   \n",
       "7                  -2            17            19              17   \n",
       "4                   0            79            79              49   \n",
       "\n",
       "    % Quality Passes  # Fastest Laps  Laps in Top 15  % Laps in Top 15  \\\n",
       "5              82.05               5             183              91.5   \n",
       "4              80.85              13             263              98.5   \n",
       "2              86.36              38             312             100.0   \n",
       "4              57.32              10             319              98.2   \n",
       "2              60.00              89             400             100.0   \n",
       "2             100.00              81             498              99.6   \n",
       "2             100.00              29             253             100.0   \n",
       "29             64.24               4              85              44.5   \n",
       "7             100.00              10             400             100.0   \n",
       "4              62.03              13             292              99.7   \n",
       "\n",
       "    Laps Led  % Laps Led  Total Laps  Driver Rating  Points  Races  \\\n",
       "5         98        49.0         200          119.6      52      1   \n",
       "4         47        17.6         267          116.6      48      2   \n",
       "2         33        10.6         312          125.0      49      3   \n",
       "4         27         8.3         325          114.2      41      4   \n",
       "2        207        51.8         400          138.5      55      5   \n",
       "2        276        55.2         500          139.8      52      6   \n",
       "2          1         0.4         253          120.0      50      7   \n",
       "29        43        22.9         188           90.1      12      8   \n",
       "7          2         0.5         400          106.2      45      9   \n",
       "4          5         1.7         293          116.2      48     10   \n",
       "\n",
       "    Points Eligible Team    Make  Race #         Track     Track Type  \\\n",
       "5                 1  JGR  Toyota       1       Daytona  Superspeedway   \n",
       "4                 1  JGR  Toyota       2     Las Vegas       Speedway   \n",
       "2                 1  JGR  Toyota       3       Phoenix       Speedway   \n",
       "4                 1  JGR  Toyota       4       Atlanta   Superpeedway   \n",
       "2                 1  JGR  Toyota       5      Richmond    Short Track   \n",
       "2                 1  JGR  Toyota       6  Martinsville    Short Track   \n",
       "2                 1  JGR  Toyota       7       Bristol    Short Track   \n",
       "29                1  JGR  Toyota       8     Talladega  Superspeedway   \n",
       "7                 1  JGR  Toyota      10         Dover            NaN   \n",
       "4                 1  JGR  Toyota       9    Darlington            NaN   \n",
       "\n",
       "    Quality Passes Per Lap  Fastest Lap  Median Lap  Average Full Speed Lap  \\\n",
       "5                    0.320       45.473      46.390                  46.255   \n",
       "4                    0.285       30.399      31.001                  30.962   \n",
       "2                    0.122       26.979      27.908                  27.776   \n",
       "4                    0.145       31.247      32.914                  32.732   \n",
       "2                    0.068       22.358      24.255                  23.882   \n",
       "2                    0.050       19.916      21.100                  20.916   \n",
       "2                    0.079       19.668      21.120                  20.987   \n",
       "29                   0.564       47.922      49.887                  49.681   \n",
       "7                    0.042       23.434      24.550                  24.447   \n",
       "4                    0.167       29.760      32.197                  31.732   \n",
       "\n",
       "    Fastest Lap % Deficit  Median Lap % Deficit  \\\n",
       "5               -1.174769             -0.733953   \n",
       "4               -0.792440             -0.349594   \n",
       "2                0.000000             -0.114794   \n",
       "4               -0.657153             -0.531460   \n",
       "2                0.000000              0.000000   \n",
       "2                0.000000              0.000000   \n",
       "2               -1.418037             -1.611739   \n",
       "29              -1.473764             -1.534610   \n",
       "7               -1.073970             -0.417212   \n",
       "4               -0.973773             -3.112890   \n",
       "\n",
       "    Average Full Speed Lap % Deficit  Fastest Lap Rank  Median Lap Rank  \\\n",
       "5                          -0.841527              15.0             16.0   \n",
       "4                          -0.216864               8.0              3.0   \n",
       "2                          -0.032413               1.0              2.0   \n",
       "4                          -0.503562               6.0              5.0   \n",
       "2                           0.000000               1.0              1.0   \n",
       "2                           0.000000               1.0              1.0   \n",
       "2                          -2.295769               5.0              7.0   \n",
       "29                         -1.389796              26.0             27.0   \n",
       "7                          -0.696103               6.0              5.0   \n",
       "4                          -1.244337               2.0              3.0   \n",
       "\n",
       "    Average Full Speed Lap Rank  \n",
       "5                          12.0  \n",
       "4                           4.0  \n",
       "2                           2.0  \n",
       "4                           5.0  \n",
       "2                           1.0  \n",
       "2                           1.0  \n",
       "2                           7.0  \n",
       "29                         26.0  \n",
       "7                           6.0  \n",
       "4                           5.0  "
      ]
     },
     "execution_count": 254,
     "metadata": {},
     "output_type": "execute_result"
    }
   ],
   "source": [
    "display(df_2021.head())\n",
    "display(df_2021.describe())\n",
    "df_2021.query('Driver==\"Denny Hamlin\"')"
   ]
  },
  {
   "cell_type": "code",
   "execution_count": 256,
   "metadata": {},
   "outputs": [],
   "source": [
    "df_2021_grouped=df_2021.groupby(['Car #','Driver'])[['Average Position','Pass Differential','Average Full Speed Lap Rank','Average Full Speed Lap']].agg([np.median])\n",
    "df_2022_grouped=df_2022.groupby(['Car #','Driver'])[['Average Position','Pass Differential','Average Full Speed Lap Rank','Average Full Speed Lap']].agg([np.median])"
   ]
  },
  {
   "cell_type": "code",
   "execution_count": 257,
   "metadata": {},
   "outputs": [],
   "source": [
    "df_2021_grouped_pos=df_2021_grouped[['Average Position','Average Full Speed Lap Rank','Average Full Speed Lap']]\n",
    "df_2021_grouped_pos.columns=['Average Position','Average Full Speed Lap Rank','Average Full Speed Lap']\n",
    "df_2021_grouped_pos['year']=2021\n",
    "df_2021_grouped_pos.reset_index(inplace=True)\n",
    "df_2021_grouped_pos=df_2021_grouped_pos.sort_values(by=['Average Position','Average Full Speed Lap Rank','Average Full Speed Lap'])\n",
    "\n",
    "df_2022_grouped_pos=df_2022_grouped[['Average Position','Average Full Speed Lap Rank','Average Full Speed Lap']]\n",
    "df_2022_grouped_pos.columns=['Average Position','Average Full Speed Lap Rank','Average Full Speed Lap']\n",
    "df_2022_grouped_pos['year']=2022\n",
    "df_2022_grouped_pos.reset_index(inplace=True)\n",
    "df_2022_grouped_pos=df_2022_grouped_pos.sort_values(by=['Average Position','Average Full Speed Lap Rank','Average Full Speed Lap'])\n",
    "\n",
    "\n",
    "df_2021_grouped_pos=df_2021_grouped_pos.sort_index()\n",
    "df_2022_grouped_pos=df_2022_grouped_pos.sort_index()"
   ]
  },
  {
   "cell_type": "code",
   "execution_count": 258,
   "metadata": {},
   "outputs": [
    {
     "data": {
      "text/html": [
       "<div>\n",
       "<style scoped>\n",
       "    .dataframe tbody tr th:only-of-type {\n",
       "        vertical-align: middle;\n",
       "    }\n",
       "\n",
       "    .dataframe tbody tr th {\n",
       "        vertical-align: top;\n",
       "    }\n",
       "\n",
       "    .dataframe thead th {\n",
       "        text-align: right;\n",
       "    }\n",
       "</style>\n",
       "<table border=\"1\" class=\"dataframe\">\n",
       "  <thead>\n",
       "    <tr style=\"text-align: right;\">\n",
       "      <th></th>\n",
       "      <th>Car #</th>\n",
       "      <th>Driver</th>\n",
       "      <th>Average Position</th>\n",
       "      <th>Average Full Speed Lap Rank</th>\n",
       "      <th>Average Full Speed Lap</th>\n",
       "      <th>year</th>\n",
       "    </tr>\n",
       "  </thead>\n",
       "  <tbody>\n",
       "    <tr>\n",
       "      <th>41</th>\n",
       "      <td>77</td>\n",
       "      <td>Justin Allgaier</td>\n",
       "      <td>33.50</td>\n",
       "      <td>19.0</td>\n",
       "      <td>20.439</td>\n",
       "      <td>2022</td>\n",
       "    </tr>\n",
       "    <tr>\n",
       "      <th>42</th>\n",
       "      <td>77</td>\n",
       "      <td>Landon Cassill</td>\n",
       "      <td>28.45</td>\n",
       "      <td>30.0</td>\n",
       "      <td>39.574</td>\n",
       "      <td>2022</td>\n",
       "    </tr>\n",
       "    <tr>\n",
       "      <th>43</th>\n",
       "      <td>78</td>\n",
       "      <td>BJ McLeod</td>\n",
       "      <td>33.00</td>\n",
       "      <td>33.0</td>\n",
       "      <td>31.823</td>\n",
       "      <td>2022</td>\n",
       "    </tr>\n",
       "    <tr>\n",
       "      <th>44</th>\n",
       "      <td>78</td>\n",
       "      <td>Josh Williams</td>\n",
       "      <td>29.90</td>\n",
       "      <td>33.0</td>\n",
       "      <td>20.670</td>\n",
       "      <td>2022</td>\n",
       "    </tr>\n",
       "    <tr>\n",
       "      <th>45</th>\n",
       "      <td>99</td>\n",
       "      <td>Daniel Suárez</td>\n",
       "      <td>16.80</td>\n",
       "      <td>17.0</td>\n",
       "      <td>30.225</td>\n",
       "      <td>2022</td>\n",
       "    </tr>\n",
       "  </tbody>\n",
       "</table>\n",
       "</div>"
      ],
      "text/plain": [
       "    Car #           Driver  Average Position  Average Full Speed Lap Rank  \\\n",
       "41     77  Justin Allgaier             33.50                         19.0   \n",
       "42     77   Landon Cassill             28.45                         30.0   \n",
       "43     78        BJ McLeod             33.00                         33.0   \n",
       "44     78    Josh Williams             29.90                         33.0   \n",
       "45     99    Daniel Suárez             16.80                         17.0   \n",
       "\n",
       "    Average Full Speed Lap  year  \n",
       "41                  20.439  2022  \n",
       "42                  39.574  2022  \n",
       "43                  31.823  2022  \n",
       "44                  20.670  2022  \n",
       "45                  30.225  2022  "
      ]
     },
     "metadata": {},
     "output_type": "display_data"
    },
    {
     "data": {
      "text/plain": [
       "Index(['Car #', 'Driver', 'Average Position', 'Average Full Speed Lap Rank',\n",
       "       'Average Full Speed Lap', 'year'],\n",
       "      dtype='object')"
      ]
     },
     "execution_count": 258,
     "metadata": {},
     "output_type": "execute_result"
    }
   ],
   "source": [
    "df_combined=pd.concat([df_2021_grouped_pos,df_2022_grouped_pos])\n",
    "display(df_combined.tail())\n",
    "df_combined.columns"
   ]
  },
  {
   "cell_type": "code",
   "execution_count": 259,
   "metadata": {},
   "outputs": [
    {
     "data": {
      "application/vnd.plotly.v1+json": {
       "config": {
        "plotlyServerURL": "https://plot.ly"
       },
       "data": [
        {
         "fillpattern": {
          "shape": ""
         },
         "hovertemplate": "year=2021<br>Driver=%{x}<br>Average Full Speed Lap Rank=%{y}<extra></extra>",
         "legendgroup": "2021",
         "line": {
          "color": "#636efa"
         },
         "marker": {
          "symbol": "circle"
         },
         "mode": "lines",
         "name": "2021",
         "orientation": "v",
         "showlegend": true,
         "stackgroup": "1",
         "type": "scatter",
         "x": [
          "Quin Houff",
          "Kurt Busch",
          "Brad Keselowski",
          "Austin Dillon",
          "Kevin Harvick",
          "Kyle Larson",
          "Ryan Newman",
          "Tyler Reddick",
          "Chase Elliott",
          "Aric Almirola",
          "Denny Hamlin",
          "Ryan Blaney",
          "Chase Briscoe",
          "Chris Windom",
          "Derrike Cope",
          "JJ Yeley",
          "James Davison",
          "Joey Gase",
          "Kaz Grala",
          "Chris Buescher",
          "Kyle Busch",
          "Christopher Bell",
          "Matt DiBenedetto",
          "Joey Logano",
          "Bubba Wallace",
          "William Byron",
          "Joey Gase",
          "Austin Cindric",
          "Michael McDowell",
          "David Ragan",
          "Ryan Preece",
          "Anthony Alfredo",
          "Cole Custer",
          "Ross Chastain",
          "Erik Jones",
          "Alex Bowman",
          "Cody Ware",
          "Josh Bilicki",
          "Garrett Smithley",
          "JJ Yeley",
          "Joey Gase",
          "Mike Marlar",
          "Timmy Hill",
          "Jamie McMurray",
          "Josh Berry",
          "Justin Haley",
          "Stewart Friesen",
          "BJ McLeod",
          "Shane Golobic",
          "Harrison Burton",
          "Ty Dillon"
         ],
         "xaxis": "x",
         "y": [
          31,
          13.5,
          9.5,
          13,
          9.5,
          5,
          19,
          16.5,
          8.5,
          13,
          5,
          8,
          23,
          10,
          36,
          32,
          31.5,
          32,
          25.5,
          17.5,
          8,
          7,
          14.5,
          6,
          16.5,
          7,
          34,
          17,
          22.5,
          19,
          19,
          25.5,
          20,
          17.5,
          19.5,
          7.5,
          30.5,
          33.5,
          30.5,
          29,
          32.5,
          32,
          33.5,
          16,
          27,
          27,
          29,
          28,
          4,
          25,
          28
         ],
         "yaxis": "y"
        },
        {
         "fillpattern": {
          "shape": ""
         },
         "hovertemplate": "year=2022<br>Driver=%{x}<br>Average Full Speed Lap Rank=%{y}<extra></extra>",
         "legendgroup": "2022",
         "line": {
          "color": "#EF553B"
         },
         "marker": {
          "symbol": "circle"
         },
         "mode": "lines",
         "name": "2022",
         "orientation": "v",
         "showlegend": true,
         "stackgroup": "1",
         "type": "scatter",
         "x": [
          "Ross Chastain",
          "Austin Cindric",
          "Austin Dillon",
          "Kevin Harvick",
          "Kyle Larson",
          "Brad Keselowski",
          "Tyler Reddick",
          "Chase Elliott",
          "Aric Almirola",
          "Denny Hamlin",
          "Ryan Blaney",
          "Chase Briscoe",
          "David Ragan",
          "Garrett Smithley",
          "JJ Yeley",
          "Ryan Preece",
          "AJ Allmendinger",
          "Daniel Hemric",
          "Noah Gragson",
          "Chris Buescher",
          "Kyle Busch",
          "Christopher Bell",
          "Harrison Burton",
          "Joey Logano",
          "Bubba Wallace",
          "William Byron",
          "Jacques Villeneuve",
          "Justin Haley",
          "Michael McDowell",
          "Todd Gilliland",
          "Cole Custer",
          "Ty Dillon",
          "Erik Jones",
          "Greg Biffle",
          "Kurt Busch",
          "Alex Bowman",
          "Kaz Grala",
          "Cody Ware",
          "JJ Yeley",
          "Noah Gragson",
          "Josh Bilicki",
          "Justin Allgaier",
          "Landon Cassill",
          "BJ McLeod",
          "Josh Williams",
          "Daniel Suárez"
         ],
         "xaxis": "x",
         "y": [
          10,
          19,
          18.5,
          12,
          6.5,
          20,
          15,
          9,
          17,
          13,
          8,
          13.5,
          32,
          32.5,
          31.5,
          17,
          21,
          26.5,
          30.5,
          13,
          7,
          8,
          24,
          7.5,
          16,
          6,
          32,
          19.5,
          25.5,
          27,
          25,
          24.5,
          11.5,
          31,
          15,
          10.5,
          33,
          30.5,
          36,
          26,
          32.5,
          19,
          30,
          33,
          33,
          17
         ],
         "yaxis": "y"
        }
       ],
       "layout": {
        "legend": {
         "title": {
          "text": "year"
         },
         "tracegroupgap": 0
        },
        "margin": {
         "t": 60
        },
        "template": {
         "data": {
          "bar": [
           {
            "error_x": {
             "color": "#2a3f5f"
            },
            "error_y": {
             "color": "#2a3f5f"
            },
            "marker": {
             "line": {
              "color": "#E5ECF6",
              "width": 0.5
             },
             "pattern": {
              "fillmode": "overlay",
              "size": 10,
              "solidity": 0.2
             }
            },
            "type": "bar"
           }
          ],
          "barpolar": [
           {
            "marker": {
             "line": {
              "color": "#E5ECF6",
              "width": 0.5
             },
             "pattern": {
              "fillmode": "overlay",
              "size": 10,
              "solidity": 0.2
             }
            },
            "type": "barpolar"
           }
          ],
          "carpet": [
           {
            "aaxis": {
             "endlinecolor": "#2a3f5f",
             "gridcolor": "white",
             "linecolor": "white",
             "minorgridcolor": "white",
             "startlinecolor": "#2a3f5f"
            },
            "baxis": {
             "endlinecolor": "#2a3f5f",
             "gridcolor": "white",
             "linecolor": "white",
             "minorgridcolor": "white",
             "startlinecolor": "#2a3f5f"
            },
            "type": "carpet"
           }
          ],
          "choropleth": [
           {
            "colorbar": {
             "outlinewidth": 0,
             "ticks": ""
            },
            "type": "choropleth"
           }
          ],
          "contour": [
           {
            "colorbar": {
             "outlinewidth": 0,
             "ticks": ""
            },
            "colorscale": [
             [
              0,
              "#0d0887"
             ],
             [
              0.1111111111111111,
              "#46039f"
             ],
             [
              0.2222222222222222,
              "#7201a8"
             ],
             [
              0.3333333333333333,
              "#9c179e"
             ],
             [
              0.4444444444444444,
              "#bd3786"
             ],
             [
              0.5555555555555556,
              "#d8576b"
             ],
             [
              0.6666666666666666,
              "#ed7953"
             ],
             [
              0.7777777777777778,
              "#fb9f3a"
             ],
             [
              0.8888888888888888,
              "#fdca26"
             ],
             [
              1,
              "#f0f921"
             ]
            ],
            "type": "contour"
           }
          ],
          "contourcarpet": [
           {
            "colorbar": {
             "outlinewidth": 0,
             "ticks": ""
            },
            "type": "contourcarpet"
           }
          ],
          "heatmap": [
           {
            "colorbar": {
             "outlinewidth": 0,
             "ticks": ""
            },
            "colorscale": [
             [
              0,
              "#0d0887"
             ],
             [
              0.1111111111111111,
              "#46039f"
             ],
             [
              0.2222222222222222,
              "#7201a8"
             ],
             [
              0.3333333333333333,
              "#9c179e"
             ],
             [
              0.4444444444444444,
              "#bd3786"
             ],
             [
              0.5555555555555556,
              "#d8576b"
             ],
             [
              0.6666666666666666,
              "#ed7953"
             ],
             [
              0.7777777777777778,
              "#fb9f3a"
             ],
             [
              0.8888888888888888,
              "#fdca26"
             ],
             [
              1,
              "#f0f921"
             ]
            ],
            "type": "heatmap"
           }
          ],
          "heatmapgl": [
           {
            "colorbar": {
             "outlinewidth": 0,
             "ticks": ""
            },
            "colorscale": [
             [
              0,
              "#0d0887"
             ],
             [
              0.1111111111111111,
              "#46039f"
             ],
             [
              0.2222222222222222,
              "#7201a8"
             ],
             [
              0.3333333333333333,
              "#9c179e"
             ],
             [
              0.4444444444444444,
              "#bd3786"
             ],
             [
              0.5555555555555556,
              "#d8576b"
             ],
             [
              0.6666666666666666,
              "#ed7953"
             ],
             [
              0.7777777777777778,
              "#fb9f3a"
             ],
             [
              0.8888888888888888,
              "#fdca26"
             ],
             [
              1,
              "#f0f921"
             ]
            ],
            "type": "heatmapgl"
           }
          ],
          "histogram": [
           {
            "marker": {
             "pattern": {
              "fillmode": "overlay",
              "size": 10,
              "solidity": 0.2
             }
            },
            "type": "histogram"
           }
          ],
          "histogram2d": [
           {
            "colorbar": {
             "outlinewidth": 0,
             "ticks": ""
            },
            "colorscale": [
             [
              0,
              "#0d0887"
             ],
             [
              0.1111111111111111,
              "#46039f"
             ],
             [
              0.2222222222222222,
              "#7201a8"
             ],
             [
              0.3333333333333333,
              "#9c179e"
             ],
             [
              0.4444444444444444,
              "#bd3786"
             ],
             [
              0.5555555555555556,
              "#d8576b"
             ],
             [
              0.6666666666666666,
              "#ed7953"
             ],
             [
              0.7777777777777778,
              "#fb9f3a"
             ],
             [
              0.8888888888888888,
              "#fdca26"
             ],
             [
              1,
              "#f0f921"
             ]
            ],
            "type": "histogram2d"
           }
          ],
          "histogram2dcontour": [
           {
            "colorbar": {
             "outlinewidth": 0,
             "ticks": ""
            },
            "colorscale": [
             [
              0,
              "#0d0887"
             ],
             [
              0.1111111111111111,
              "#46039f"
             ],
             [
              0.2222222222222222,
              "#7201a8"
             ],
             [
              0.3333333333333333,
              "#9c179e"
             ],
             [
              0.4444444444444444,
              "#bd3786"
             ],
             [
              0.5555555555555556,
              "#d8576b"
             ],
             [
              0.6666666666666666,
              "#ed7953"
             ],
             [
              0.7777777777777778,
              "#fb9f3a"
             ],
             [
              0.8888888888888888,
              "#fdca26"
             ],
             [
              1,
              "#f0f921"
             ]
            ],
            "type": "histogram2dcontour"
           }
          ],
          "mesh3d": [
           {
            "colorbar": {
             "outlinewidth": 0,
             "ticks": ""
            },
            "type": "mesh3d"
           }
          ],
          "parcoords": [
           {
            "line": {
             "colorbar": {
              "outlinewidth": 0,
              "ticks": ""
             }
            },
            "type": "parcoords"
           }
          ],
          "pie": [
           {
            "automargin": true,
            "type": "pie"
           }
          ],
          "scatter": [
           {
            "fillpattern": {
             "fillmode": "overlay",
             "size": 10,
             "solidity": 0.2
            },
            "type": "scatter"
           }
          ],
          "scatter3d": [
           {
            "line": {
             "colorbar": {
              "outlinewidth": 0,
              "ticks": ""
             }
            },
            "marker": {
             "colorbar": {
              "outlinewidth": 0,
              "ticks": ""
             }
            },
            "type": "scatter3d"
           }
          ],
          "scattercarpet": [
           {
            "marker": {
             "colorbar": {
              "outlinewidth": 0,
              "ticks": ""
             }
            },
            "type": "scattercarpet"
           }
          ],
          "scattergeo": [
           {
            "marker": {
             "colorbar": {
              "outlinewidth": 0,
              "ticks": ""
             }
            },
            "type": "scattergeo"
           }
          ],
          "scattergl": [
           {
            "marker": {
             "colorbar": {
              "outlinewidth": 0,
              "ticks": ""
             }
            },
            "type": "scattergl"
           }
          ],
          "scattermapbox": [
           {
            "marker": {
             "colorbar": {
              "outlinewidth": 0,
              "ticks": ""
             }
            },
            "type": "scattermapbox"
           }
          ],
          "scatterpolar": [
           {
            "marker": {
             "colorbar": {
              "outlinewidth": 0,
              "ticks": ""
             }
            },
            "type": "scatterpolar"
           }
          ],
          "scatterpolargl": [
           {
            "marker": {
             "colorbar": {
              "outlinewidth": 0,
              "ticks": ""
             }
            },
            "type": "scatterpolargl"
           }
          ],
          "scatterternary": [
           {
            "marker": {
             "colorbar": {
              "outlinewidth": 0,
              "ticks": ""
             }
            },
            "type": "scatterternary"
           }
          ],
          "surface": [
           {
            "colorbar": {
             "outlinewidth": 0,
             "ticks": ""
            },
            "colorscale": [
             [
              0,
              "#0d0887"
             ],
             [
              0.1111111111111111,
              "#46039f"
             ],
             [
              0.2222222222222222,
              "#7201a8"
             ],
             [
              0.3333333333333333,
              "#9c179e"
             ],
             [
              0.4444444444444444,
              "#bd3786"
             ],
             [
              0.5555555555555556,
              "#d8576b"
             ],
             [
              0.6666666666666666,
              "#ed7953"
             ],
             [
              0.7777777777777778,
              "#fb9f3a"
             ],
             [
              0.8888888888888888,
              "#fdca26"
             ],
             [
              1,
              "#f0f921"
             ]
            ],
            "type": "surface"
           }
          ],
          "table": [
           {
            "cells": {
             "fill": {
              "color": "#EBF0F8"
             },
             "line": {
              "color": "white"
             }
            },
            "header": {
             "fill": {
              "color": "#C8D4E3"
             },
             "line": {
              "color": "white"
             }
            },
            "type": "table"
           }
          ]
         },
         "layout": {
          "annotationdefaults": {
           "arrowcolor": "#2a3f5f",
           "arrowhead": 0,
           "arrowwidth": 1
          },
          "autotypenumbers": "strict",
          "coloraxis": {
           "colorbar": {
            "outlinewidth": 0,
            "ticks": ""
           }
          },
          "colorscale": {
           "diverging": [
            [
             0,
             "#8e0152"
            ],
            [
             0.1,
             "#c51b7d"
            ],
            [
             0.2,
             "#de77ae"
            ],
            [
             0.3,
             "#f1b6da"
            ],
            [
             0.4,
             "#fde0ef"
            ],
            [
             0.5,
             "#f7f7f7"
            ],
            [
             0.6,
             "#e6f5d0"
            ],
            [
             0.7,
             "#b8e186"
            ],
            [
             0.8,
             "#7fbc41"
            ],
            [
             0.9,
             "#4d9221"
            ],
            [
             1,
             "#276419"
            ]
           ],
           "sequential": [
            [
             0,
             "#0d0887"
            ],
            [
             0.1111111111111111,
             "#46039f"
            ],
            [
             0.2222222222222222,
             "#7201a8"
            ],
            [
             0.3333333333333333,
             "#9c179e"
            ],
            [
             0.4444444444444444,
             "#bd3786"
            ],
            [
             0.5555555555555556,
             "#d8576b"
            ],
            [
             0.6666666666666666,
             "#ed7953"
            ],
            [
             0.7777777777777778,
             "#fb9f3a"
            ],
            [
             0.8888888888888888,
             "#fdca26"
            ],
            [
             1,
             "#f0f921"
            ]
           ],
           "sequentialminus": [
            [
             0,
             "#0d0887"
            ],
            [
             0.1111111111111111,
             "#46039f"
            ],
            [
             0.2222222222222222,
             "#7201a8"
            ],
            [
             0.3333333333333333,
             "#9c179e"
            ],
            [
             0.4444444444444444,
             "#bd3786"
            ],
            [
             0.5555555555555556,
             "#d8576b"
            ],
            [
             0.6666666666666666,
             "#ed7953"
            ],
            [
             0.7777777777777778,
             "#fb9f3a"
            ],
            [
             0.8888888888888888,
             "#fdca26"
            ],
            [
             1,
             "#f0f921"
            ]
           ]
          },
          "colorway": [
           "#636efa",
           "#EF553B",
           "#00cc96",
           "#ab63fa",
           "#FFA15A",
           "#19d3f3",
           "#FF6692",
           "#B6E880",
           "#FF97FF",
           "#FECB52"
          ],
          "font": {
           "color": "#2a3f5f"
          },
          "geo": {
           "bgcolor": "white",
           "lakecolor": "white",
           "landcolor": "#E5ECF6",
           "showlakes": true,
           "showland": true,
           "subunitcolor": "white"
          },
          "hoverlabel": {
           "align": "left"
          },
          "hovermode": "closest",
          "mapbox": {
           "style": "light"
          },
          "paper_bgcolor": "white",
          "plot_bgcolor": "#E5ECF6",
          "polar": {
           "angularaxis": {
            "gridcolor": "white",
            "linecolor": "white",
            "ticks": ""
           },
           "bgcolor": "#E5ECF6",
           "radialaxis": {
            "gridcolor": "white",
            "linecolor": "white",
            "ticks": ""
           }
          },
          "scene": {
           "xaxis": {
            "backgroundcolor": "#E5ECF6",
            "gridcolor": "white",
            "gridwidth": 2,
            "linecolor": "white",
            "showbackground": true,
            "ticks": "",
            "zerolinecolor": "white"
           },
           "yaxis": {
            "backgroundcolor": "#E5ECF6",
            "gridcolor": "white",
            "gridwidth": 2,
            "linecolor": "white",
            "showbackground": true,
            "ticks": "",
            "zerolinecolor": "white"
           },
           "zaxis": {
            "backgroundcolor": "#E5ECF6",
            "gridcolor": "white",
            "gridwidth": 2,
            "linecolor": "white",
            "showbackground": true,
            "ticks": "",
            "zerolinecolor": "white"
           }
          },
          "shapedefaults": {
           "line": {
            "color": "#2a3f5f"
           }
          },
          "ternary": {
           "aaxis": {
            "gridcolor": "white",
            "linecolor": "white",
            "ticks": ""
           },
           "baxis": {
            "gridcolor": "white",
            "linecolor": "white",
            "ticks": ""
           },
           "bgcolor": "#E5ECF6",
           "caxis": {
            "gridcolor": "white",
            "linecolor": "white",
            "ticks": ""
           }
          },
          "title": {
           "x": 0.05
          },
          "xaxis": {
           "automargin": true,
           "gridcolor": "white",
           "linecolor": "white",
           "ticks": "",
           "title": {
            "standoff": 15
           },
           "zerolinecolor": "white",
           "zerolinewidth": 2
          },
          "yaxis": {
           "automargin": true,
           "gridcolor": "white",
           "linecolor": "white",
           "ticks": "",
           "title": {
            "standoff": 15
           },
           "zerolinecolor": "white",
           "zerolinewidth": 2
          }
         }
        },
        "xaxis": {
         "anchor": "y",
         "domain": [
          0,
          1
         ],
         "title": {
          "text": "Driver"
         }
        },
        "yaxis": {
         "anchor": "x",
         "domain": [
          0,
          1
         ],
         "title": {
          "text": "Average Full Speed Lap Rank"
         }
        }
       }
      }
     },
     "metadata": {},
     "output_type": "display_data"
    }
   ],
   "source": [
    "px.area(df_combined,x='Driver',y='Average Full Speed Lap Rank',color='year')"
   ]
  },
  {
   "cell_type": "code",
   "execution_count": 260,
   "metadata": {},
   "outputs": [
    {
     "data": {
      "application/vnd.plotly.v1+json": {
       "config": {
        "plotlyServerURL": "https://plot.ly"
       },
       "data": [
        {
         "alignmentgroup": "True",
         "bingroup": "x",
         "histfunc": "sum",
         "hovertemplate": "year=2021<br>Average Position=%{x}<br>sum of Average Full Speed Lap=%{y}<extra></extra>",
         "legendgroup": "2021",
         "marker": {
          "color": "#636efa",
          "pattern": {
           "shape": ""
          }
         },
         "name": "2021",
         "nbinsx": 50,
         "offsetgroup": "2021",
         "orientation": "v",
         "showlegend": true,
         "type": "histogram",
         "x": [
          31.4,
          17.95,
          11.3,
          14.65,
          10,
          8.8,
          22.049999999999997,
          15.149999999999999,
          11.45,
          21.3,
          4.3,
          8.7,
          22.7,
          32.4,
          39.8,
          25.6,
          33.25,
          35.4,
          24.7,
          14.2,
          10.55,
          10.95,
          14.4,
          7.2,
          15.95,
          7.1,
          35.3,
          24.3,
          22.9,
          35.5,
          23.15,
          27.85,
          20.549999999999997,
          17.55,
          20.45,
          14.3,
          32.95,
          35.1,
          33.75,
          28.8,
          28.25,
          30,
          37.05,
          16.7,
          31.5,
          30.2,
          23,
          30.4,
          36.4,
          20.7,
          21.7
         ],
         "xaxis": "x",
         "y": [
          30.8395,
          29.609,
          29.3415,
          29.6705,
          29.5875,
          29.366,
          29.9045,
          29.7735,
          29.500500000000002,
          29.674999999999997,
          29.369,
          29.405,
          29.77,
          21.064,
          49.142,
          50.332,
          27.5205,
          33.188,
          48.295,
          29.741500000000002,
          29.547,
          29.4645,
          29.585,
          29.4685,
          29.7085,
          29.450000000000003,
          50.609,
          33.124,
          29.8265,
          46.471,
          29.782,
          30.091,
          29.8705,
          29.7695,
          29.6645,
          29.515,
          30.5,
          31.3985,
          27.556,
          21.465,
          41.314,
          21.415,
          34.493,
          46.334,
          25.216,
          32.64,
          21.323,
          32.326,
          20.873,
          49.601,
          21.291
         ],
         "yaxis": "y"
        },
        {
         "alignmentgroup": "True",
         "bingroup": "x",
         "histfunc": "sum",
         "hovertemplate": "year=2022<br>Average Position=%{x}<br>sum of Average Full Speed Lap=%{y}<extra></extra>",
         "legendgroup": "2022",
         "marker": {
          "color": "#EF553B",
          "pattern": {
           "shape": ""
          }
         },
         "name": "2022",
         "nbinsx": 50,
         "offsetgroup": "2022",
         "orientation": "v",
         "showlegend": true,
         "type": "histogram",
         "x": [
          13.4,
          19.799999999999997,
          18.05,
          11.6,
          12.3,
          17.9,
          16.1,
          8.600000000000001,
          16.15,
          15.45,
          9.3,
          17.6,
          25.2,
          33.75,
          32.5,
          20.2,
          28.2,
          27.15,
          33.4,
          15.100000000000001,
          11.45,
          11.45,
          25.9,
          9.95,
          16.25,
          6.3,
          29.5,
          21.75,
          22.8,
          24.6,
          23.7,
          22.75,
          15.049999999999999,
          31.9,
          16.8,
          14.1,
          33.4,
          29.85,
          28.5,
          21.2,
          32.6,
          33.5,
          28.450000000000003,
          33,
          29.9,
          16.8
         ],
         "xaxis": "x",
         "y": [
          30.346,
          30.6125,
          30.613999999999997,
          30.734499999999997,
          30.387,
          30.701,
          30.442,
          30.4775,
          30.558500000000002,
          30.489,
          30.4555,
          30.615000000000002,
          47.282,
          32.708,
          23.0605,
          24.185,
          24.109,
          39.554,
          25.578,
          30.6555,
          30.517,
          30.42,
          30.950000000000003,
          30.351,
          30.479,
          30.380000000000003,
          48.204,
          30.569,
          30.6535,
          30.819,
          30.7795,
          30.6985,
          30.447499999999998,
          31.776,
          30.54,
          30.488500000000002,
          48.341,
          30.924,
          51.966,
          49.1555,
          27.894,
          20.439,
          39.574,
          31.823,
          20.67,
          30.225
         ],
         "yaxis": "y"
        }
       ],
       "layout": {
        "barmode": "relative",
        "legend": {
         "title": {
          "text": "year"
         },
         "tracegroupgap": 0
        },
        "margin": {
         "t": 60
        },
        "template": {
         "data": {
          "bar": [
           {
            "error_x": {
             "color": "#2a3f5f"
            },
            "error_y": {
             "color": "#2a3f5f"
            },
            "marker": {
             "line": {
              "color": "#E5ECF6",
              "width": 0.5
             },
             "pattern": {
              "fillmode": "overlay",
              "size": 10,
              "solidity": 0.2
             }
            },
            "type": "bar"
           }
          ],
          "barpolar": [
           {
            "marker": {
             "line": {
              "color": "#E5ECF6",
              "width": 0.5
             },
             "pattern": {
              "fillmode": "overlay",
              "size": 10,
              "solidity": 0.2
             }
            },
            "type": "barpolar"
           }
          ],
          "carpet": [
           {
            "aaxis": {
             "endlinecolor": "#2a3f5f",
             "gridcolor": "white",
             "linecolor": "white",
             "minorgridcolor": "white",
             "startlinecolor": "#2a3f5f"
            },
            "baxis": {
             "endlinecolor": "#2a3f5f",
             "gridcolor": "white",
             "linecolor": "white",
             "minorgridcolor": "white",
             "startlinecolor": "#2a3f5f"
            },
            "type": "carpet"
           }
          ],
          "choropleth": [
           {
            "colorbar": {
             "outlinewidth": 0,
             "ticks": ""
            },
            "type": "choropleth"
           }
          ],
          "contour": [
           {
            "colorbar": {
             "outlinewidth": 0,
             "ticks": ""
            },
            "colorscale": [
             [
              0,
              "#0d0887"
             ],
             [
              0.1111111111111111,
              "#46039f"
             ],
             [
              0.2222222222222222,
              "#7201a8"
             ],
             [
              0.3333333333333333,
              "#9c179e"
             ],
             [
              0.4444444444444444,
              "#bd3786"
             ],
             [
              0.5555555555555556,
              "#d8576b"
             ],
             [
              0.6666666666666666,
              "#ed7953"
             ],
             [
              0.7777777777777778,
              "#fb9f3a"
             ],
             [
              0.8888888888888888,
              "#fdca26"
             ],
             [
              1,
              "#f0f921"
             ]
            ],
            "type": "contour"
           }
          ],
          "contourcarpet": [
           {
            "colorbar": {
             "outlinewidth": 0,
             "ticks": ""
            },
            "type": "contourcarpet"
           }
          ],
          "heatmap": [
           {
            "colorbar": {
             "outlinewidth": 0,
             "ticks": ""
            },
            "colorscale": [
             [
              0,
              "#0d0887"
             ],
             [
              0.1111111111111111,
              "#46039f"
             ],
             [
              0.2222222222222222,
              "#7201a8"
             ],
             [
              0.3333333333333333,
              "#9c179e"
             ],
             [
              0.4444444444444444,
              "#bd3786"
             ],
             [
              0.5555555555555556,
              "#d8576b"
             ],
             [
              0.6666666666666666,
              "#ed7953"
             ],
             [
              0.7777777777777778,
              "#fb9f3a"
             ],
             [
              0.8888888888888888,
              "#fdca26"
             ],
             [
              1,
              "#f0f921"
             ]
            ],
            "type": "heatmap"
           }
          ],
          "heatmapgl": [
           {
            "colorbar": {
             "outlinewidth": 0,
             "ticks": ""
            },
            "colorscale": [
             [
              0,
              "#0d0887"
             ],
             [
              0.1111111111111111,
              "#46039f"
             ],
             [
              0.2222222222222222,
              "#7201a8"
             ],
             [
              0.3333333333333333,
              "#9c179e"
             ],
             [
              0.4444444444444444,
              "#bd3786"
             ],
             [
              0.5555555555555556,
              "#d8576b"
             ],
             [
              0.6666666666666666,
              "#ed7953"
             ],
             [
              0.7777777777777778,
              "#fb9f3a"
             ],
             [
              0.8888888888888888,
              "#fdca26"
             ],
             [
              1,
              "#f0f921"
             ]
            ],
            "type": "heatmapgl"
           }
          ],
          "histogram": [
           {
            "marker": {
             "pattern": {
              "fillmode": "overlay",
              "size": 10,
              "solidity": 0.2
             }
            },
            "type": "histogram"
           }
          ],
          "histogram2d": [
           {
            "colorbar": {
             "outlinewidth": 0,
             "ticks": ""
            },
            "colorscale": [
             [
              0,
              "#0d0887"
             ],
             [
              0.1111111111111111,
              "#46039f"
             ],
             [
              0.2222222222222222,
              "#7201a8"
             ],
             [
              0.3333333333333333,
              "#9c179e"
             ],
             [
              0.4444444444444444,
              "#bd3786"
             ],
             [
              0.5555555555555556,
              "#d8576b"
             ],
             [
              0.6666666666666666,
              "#ed7953"
             ],
             [
              0.7777777777777778,
              "#fb9f3a"
             ],
             [
              0.8888888888888888,
              "#fdca26"
             ],
             [
              1,
              "#f0f921"
             ]
            ],
            "type": "histogram2d"
           }
          ],
          "histogram2dcontour": [
           {
            "colorbar": {
             "outlinewidth": 0,
             "ticks": ""
            },
            "colorscale": [
             [
              0,
              "#0d0887"
             ],
             [
              0.1111111111111111,
              "#46039f"
             ],
             [
              0.2222222222222222,
              "#7201a8"
             ],
             [
              0.3333333333333333,
              "#9c179e"
             ],
             [
              0.4444444444444444,
              "#bd3786"
             ],
             [
              0.5555555555555556,
              "#d8576b"
             ],
             [
              0.6666666666666666,
              "#ed7953"
             ],
             [
              0.7777777777777778,
              "#fb9f3a"
             ],
             [
              0.8888888888888888,
              "#fdca26"
             ],
             [
              1,
              "#f0f921"
             ]
            ],
            "type": "histogram2dcontour"
           }
          ],
          "mesh3d": [
           {
            "colorbar": {
             "outlinewidth": 0,
             "ticks": ""
            },
            "type": "mesh3d"
           }
          ],
          "parcoords": [
           {
            "line": {
             "colorbar": {
              "outlinewidth": 0,
              "ticks": ""
             }
            },
            "type": "parcoords"
           }
          ],
          "pie": [
           {
            "automargin": true,
            "type": "pie"
           }
          ],
          "scatter": [
           {
            "fillpattern": {
             "fillmode": "overlay",
             "size": 10,
             "solidity": 0.2
            },
            "type": "scatter"
           }
          ],
          "scatter3d": [
           {
            "line": {
             "colorbar": {
              "outlinewidth": 0,
              "ticks": ""
             }
            },
            "marker": {
             "colorbar": {
              "outlinewidth": 0,
              "ticks": ""
             }
            },
            "type": "scatter3d"
           }
          ],
          "scattercarpet": [
           {
            "marker": {
             "colorbar": {
              "outlinewidth": 0,
              "ticks": ""
             }
            },
            "type": "scattercarpet"
           }
          ],
          "scattergeo": [
           {
            "marker": {
             "colorbar": {
              "outlinewidth": 0,
              "ticks": ""
             }
            },
            "type": "scattergeo"
           }
          ],
          "scattergl": [
           {
            "marker": {
             "colorbar": {
              "outlinewidth": 0,
              "ticks": ""
             }
            },
            "type": "scattergl"
           }
          ],
          "scattermapbox": [
           {
            "marker": {
             "colorbar": {
              "outlinewidth": 0,
              "ticks": ""
             }
            },
            "type": "scattermapbox"
           }
          ],
          "scatterpolar": [
           {
            "marker": {
             "colorbar": {
              "outlinewidth": 0,
              "ticks": ""
             }
            },
            "type": "scatterpolar"
           }
          ],
          "scatterpolargl": [
           {
            "marker": {
             "colorbar": {
              "outlinewidth": 0,
              "ticks": ""
             }
            },
            "type": "scatterpolargl"
           }
          ],
          "scatterternary": [
           {
            "marker": {
             "colorbar": {
              "outlinewidth": 0,
              "ticks": ""
             }
            },
            "type": "scatterternary"
           }
          ],
          "surface": [
           {
            "colorbar": {
             "outlinewidth": 0,
             "ticks": ""
            },
            "colorscale": [
             [
              0,
              "#0d0887"
             ],
             [
              0.1111111111111111,
              "#46039f"
             ],
             [
              0.2222222222222222,
              "#7201a8"
             ],
             [
              0.3333333333333333,
              "#9c179e"
             ],
             [
              0.4444444444444444,
              "#bd3786"
             ],
             [
              0.5555555555555556,
              "#d8576b"
             ],
             [
              0.6666666666666666,
              "#ed7953"
             ],
             [
              0.7777777777777778,
              "#fb9f3a"
             ],
             [
              0.8888888888888888,
              "#fdca26"
             ],
             [
              1,
              "#f0f921"
             ]
            ],
            "type": "surface"
           }
          ],
          "table": [
           {
            "cells": {
             "fill": {
              "color": "#EBF0F8"
             },
             "line": {
              "color": "white"
             }
            },
            "header": {
             "fill": {
              "color": "#C8D4E3"
             },
             "line": {
              "color": "white"
             }
            },
            "type": "table"
           }
          ]
         },
         "layout": {
          "annotationdefaults": {
           "arrowcolor": "#2a3f5f",
           "arrowhead": 0,
           "arrowwidth": 1
          },
          "autotypenumbers": "strict",
          "coloraxis": {
           "colorbar": {
            "outlinewidth": 0,
            "ticks": ""
           }
          },
          "colorscale": {
           "diverging": [
            [
             0,
             "#8e0152"
            ],
            [
             0.1,
             "#c51b7d"
            ],
            [
             0.2,
             "#de77ae"
            ],
            [
             0.3,
             "#f1b6da"
            ],
            [
             0.4,
             "#fde0ef"
            ],
            [
             0.5,
             "#f7f7f7"
            ],
            [
             0.6,
             "#e6f5d0"
            ],
            [
             0.7,
             "#b8e186"
            ],
            [
             0.8,
             "#7fbc41"
            ],
            [
             0.9,
             "#4d9221"
            ],
            [
             1,
             "#276419"
            ]
           ],
           "sequential": [
            [
             0,
             "#0d0887"
            ],
            [
             0.1111111111111111,
             "#46039f"
            ],
            [
             0.2222222222222222,
             "#7201a8"
            ],
            [
             0.3333333333333333,
             "#9c179e"
            ],
            [
             0.4444444444444444,
             "#bd3786"
            ],
            [
             0.5555555555555556,
             "#d8576b"
            ],
            [
             0.6666666666666666,
             "#ed7953"
            ],
            [
             0.7777777777777778,
             "#fb9f3a"
            ],
            [
             0.8888888888888888,
             "#fdca26"
            ],
            [
             1,
             "#f0f921"
            ]
           ],
           "sequentialminus": [
            [
             0,
             "#0d0887"
            ],
            [
             0.1111111111111111,
             "#46039f"
            ],
            [
             0.2222222222222222,
             "#7201a8"
            ],
            [
             0.3333333333333333,
             "#9c179e"
            ],
            [
             0.4444444444444444,
             "#bd3786"
            ],
            [
             0.5555555555555556,
             "#d8576b"
            ],
            [
             0.6666666666666666,
             "#ed7953"
            ],
            [
             0.7777777777777778,
             "#fb9f3a"
            ],
            [
             0.8888888888888888,
             "#fdca26"
            ],
            [
             1,
             "#f0f921"
            ]
           ]
          },
          "colorway": [
           "#636efa",
           "#EF553B",
           "#00cc96",
           "#ab63fa",
           "#FFA15A",
           "#19d3f3",
           "#FF6692",
           "#B6E880",
           "#FF97FF",
           "#FECB52"
          ],
          "font": {
           "color": "#2a3f5f"
          },
          "geo": {
           "bgcolor": "white",
           "lakecolor": "white",
           "landcolor": "#E5ECF6",
           "showlakes": true,
           "showland": true,
           "subunitcolor": "white"
          },
          "hoverlabel": {
           "align": "left"
          },
          "hovermode": "closest",
          "mapbox": {
           "style": "light"
          },
          "paper_bgcolor": "white",
          "plot_bgcolor": "#E5ECF6",
          "polar": {
           "angularaxis": {
            "gridcolor": "white",
            "linecolor": "white",
            "ticks": ""
           },
           "bgcolor": "#E5ECF6",
           "radialaxis": {
            "gridcolor": "white",
            "linecolor": "white",
            "ticks": ""
           }
          },
          "scene": {
           "xaxis": {
            "backgroundcolor": "#E5ECF6",
            "gridcolor": "white",
            "gridwidth": 2,
            "linecolor": "white",
            "showbackground": true,
            "ticks": "",
            "zerolinecolor": "white"
           },
           "yaxis": {
            "backgroundcolor": "#E5ECF6",
            "gridcolor": "white",
            "gridwidth": 2,
            "linecolor": "white",
            "showbackground": true,
            "ticks": "",
            "zerolinecolor": "white"
           },
           "zaxis": {
            "backgroundcolor": "#E5ECF6",
            "gridcolor": "white",
            "gridwidth": 2,
            "linecolor": "white",
            "showbackground": true,
            "ticks": "",
            "zerolinecolor": "white"
           }
          },
          "shapedefaults": {
           "line": {
            "color": "#2a3f5f"
           }
          },
          "ternary": {
           "aaxis": {
            "gridcolor": "white",
            "linecolor": "white",
            "ticks": ""
           },
           "baxis": {
            "gridcolor": "white",
            "linecolor": "white",
            "ticks": ""
           },
           "bgcolor": "#E5ECF6",
           "caxis": {
            "gridcolor": "white",
            "linecolor": "white",
            "ticks": ""
           }
          },
          "title": {
           "x": 0.05
          },
          "xaxis": {
           "automargin": true,
           "gridcolor": "white",
           "linecolor": "white",
           "ticks": "",
           "title": {
            "standoff": 15
           },
           "zerolinecolor": "white",
           "zerolinewidth": 2
          },
          "yaxis": {
           "automargin": true,
           "gridcolor": "white",
           "linecolor": "white",
           "ticks": "",
           "title": {
            "standoff": 15
           },
           "zerolinecolor": "white",
           "zerolinewidth": 2
          }
         }
        },
        "xaxis": {
         "anchor": "y",
         "domain": [
          0,
          1
         ],
         "title": {
          "text": "Average Position"
         }
        },
        "yaxis": {
         "anchor": "x",
         "domain": [
          0,
          1
         ],
         "title": {
          "text": "sum of Average Full Speed Lap"
         }
        }
       }
      }
     },
     "metadata": {},
     "output_type": "display_data"
    }
   ],
   "source": [
    "import plotly.express as px\n",
    "df = px.data.tips()\n",
    "fig = px.histogram(df_combined, x=\"Average Position\", y=\"Average Full Speed Lap\", color=\"year\",\n",
    "                #    marginal=\"box\", # or violin, rug\n",
    "                   hover_data=df_combined.columns,nbins=50)\n",
    "fig.show()"
   ]
  },
  {
   "cell_type": "code",
   "execution_count": 261,
   "metadata": {},
   "outputs": [
    {
     "data": {
      "text/html": [
       "<div>\n",
       "<style scoped>\n",
       "    .dataframe tbody tr th:only-of-type {\n",
       "        vertical-align: middle;\n",
       "    }\n",
       "\n",
       "    .dataframe tbody tr th {\n",
       "        vertical-align: top;\n",
       "    }\n",
       "\n",
       "    .dataframe thead th {\n",
       "        text-align: right;\n",
       "    }\n",
       "</style>\n",
       "<table border=\"1\" class=\"dataframe\">\n",
       "  <thead>\n",
       "    <tr style=\"text-align: right;\">\n",
       "      <th></th>\n",
       "      <th>Car #</th>\n",
       "      <th>Driver</th>\n",
       "      <th>Average Position</th>\n",
       "      <th>Average Full Speed Lap Rank</th>\n",
       "      <th>Average Full Speed Lap</th>\n",
       "      <th>year</th>\n",
       "    </tr>\n",
       "  </thead>\n",
       "  <tbody>\n",
       "    <tr>\n",
       "      <th>10</th>\n",
       "      <td>11</td>\n",
       "      <td>Denny Hamlin</td>\n",
       "      <td>4.3</td>\n",
       "      <td>5.0</td>\n",
       "      <td>29.3690</td>\n",
       "      <td>2021</td>\n",
       "    </tr>\n",
       "    <tr>\n",
       "      <th>25</th>\n",
       "      <td>24</td>\n",
       "      <td>William Byron</td>\n",
       "      <td>7.1</td>\n",
       "      <td>7.0</td>\n",
       "      <td>29.4500</td>\n",
       "      <td>2021</td>\n",
       "    </tr>\n",
       "    <tr>\n",
       "      <th>23</th>\n",
       "      <td>22</td>\n",
       "      <td>Joey Logano</td>\n",
       "      <td>7.2</td>\n",
       "      <td>6.0</td>\n",
       "      <td>29.4685</td>\n",
       "      <td>2021</td>\n",
       "    </tr>\n",
       "    <tr>\n",
       "      <th>11</th>\n",
       "      <td>12</td>\n",
       "      <td>Ryan Blaney</td>\n",
       "      <td>8.7</td>\n",
       "      <td>8.0</td>\n",
       "      <td>29.4050</td>\n",
       "      <td>2021</td>\n",
       "    </tr>\n",
       "    <tr>\n",
       "      <th>5</th>\n",
       "      <td>5</td>\n",
       "      <td>Kyle Larson</td>\n",
       "      <td>8.8</td>\n",
       "      <td>5.0</td>\n",
       "      <td>29.3660</td>\n",
       "      <td>2021</td>\n",
       "    </tr>\n",
       "  </tbody>\n",
       "</table>\n",
       "</div>"
      ],
      "text/plain": [
       "    Car #         Driver  Average Position  Average Full Speed Lap Rank  \\\n",
       "10     11   Denny Hamlin               4.3                          5.0   \n",
       "25     24  William Byron               7.1                          7.0   \n",
       "23     22    Joey Logano               7.2                          6.0   \n",
       "11     12    Ryan Blaney               8.7                          8.0   \n",
       "5       5    Kyle Larson               8.8                          5.0   \n",
       "\n",
       "    Average Full Speed Lap  year  \n",
       "10                 29.3690  2021  \n",
       "25                 29.4500  2021  \n",
       "23                 29.4685  2021  \n",
       "11                 29.4050  2021  \n",
       "5                  29.3660  2021  "
      ]
     },
     "metadata": {},
     "output_type": "display_data"
    },
    {
     "data": {
      "text/html": [
       "<div>\n",
       "<style scoped>\n",
       "    .dataframe tbody tr th:only-of-type {\n",
       "        vertical-align: middle;\n",
       "    }\n",
       "\n",
       "    .dataframe tbody tr th {\n",
       "        vertical-align: top;\n",
       "    }\n",
       "\n",
       "    .dataframe thead th {\n",
       "        text-align: right;\n",
       "    }\n",
       "</style>\n",
       "<table border=\"1\" class=\"dataframe\">\n",
       "  <thead>\n",
       "    <tr style=\"text-align: right;\">\n",
       "      <th></th>\n",
       "      <th>Car #</th>\n",
       "      <th>Driver</th>\n",
       "      <th>Average Position</th>\n",
       "      <th>Average Full Speed Lap Rank</th>\n",
       "      <th>Average Full Speed Lap</th>\n",
       "      <th>year</th>\n",
       "    </tr>\n",
       "  </thead>\n",
       "  <tbody>\n",
       "    <tr>\n",
       "      <th>25</th>\n",
       "      <td>24</td>\n",
       "      <td>William Byron</td>\n",
       "      <td>6.30</td>\n",
       "      <td>6.0</td>\n",
       "      <td>30.3800</td>\n",
       "      <td>2022</td>\n",
       "    </tr>\n",
       "    <tr>\n",
       "      <th>7</th>\n",
       "      <td>9</td>\n",
       "      <td>Chase Elliott</td>\n",
       "      <td>8.60</td>\n",
       "      <td>9.0</td>\n",
       "      <td>30.4775</td>\n",
       "      <td>2022</td>\n",
       "    </tr>\n",
       "    <tr>\n",
       "      <th>10</th>\n",
       "      <td>12</td>\n",
       "      <td>Ryan Blaney</td>\n",
       "      <td>9.30</td>\n",
       "      <td>8.0</td>\n",
       "      <td>30.4555</td>\n",
       "      <td>2022</td>\n",
       "    </tr>\n",
       "    <tr>\n",
       "      <th>23</th>\n",
       "      <td>22</td>\n",
       "      <td>Joey Logano</td>\n",
       "      <td>9.95</td>\n",
       "      <td>7.5</td>\n",
       "      <td>30.3510</td>\n",
       "      <td>2022</td>\n",
       "    </tr>\n",
       "    <tr>\n",
       "      <th>21</th>\n",
       "      <td>20</td>\n",
       "      <td>Christopher Bell</td>\n",
       "      <td>11.45</td>\n",
       "      <td>8.0</td>\n",
       "      <td>30.4200</td>\n",
       "      <td>2022</td>\n",
       "    </tr>\n",
       "  </tbody>\n",
       "</table>\n",
       "</div>"
      ],
      "text/plain": [
       "    Car #            Driver  Average Position  Average Full Speed Lap Rank  \\\n",
       "25     24     William Byron              6.30                          6.0   \n",
       "7       9     Chase Elliott              8.60                          9.0   \n",
       "10     12       Ryan Blaney              9.30                          8.0   \n",
       "23     22       Joey Logano              9.95                          7.5   \n",
       "21     20  Christopher Bell             11.45                          8.0   \n",
       "\n",
       "    Average Full Speed Lap  year  \n",
       "25                 30.3800  2022  \n",
       "7                  30.4775  2022  \n",
       "10                 30.4555  2022  \n",
       "23                 30.3510  2022  \n",
       "21                 30.4200  2022  "
      ]
     },
     "metadata": {},
     "output_type": "display_data"
    }
   ],
   "source": [
    "display(df_combined.query('year==2021').sort_values('Average Position').head())\n",
    "display(df_combined.query('year==2022').sort_values('Average Position').head())"
   ]
  },
  {
   "cell_type": "code",
   "execution_count": 245,
   "metadata": {},
   "outputs": [
    {
     "data": {
      "application/vnd.plotly.v1+json": {
       "config": {
        "plotlyServerURL": "https://plot.ly"
       },
       "data": [
        {
         "fillpattern": {
          "shape": ""
         },
         "hovertemplate": "year=2021<br>Driver=%{x}<br>Average Full Speed Lap=%{y}<extra></extra>",
         "legendgroup": "2021",
         "line": {
          "color": "#636efa"
         },
         "marker": {
          "symbol": "circle"
         },
         "mode": "lines",
         "name": "2021",
         "orientation": "v",
         "showlegend": true,
         "stackgroup": "1",
         "type": "scatter",
         "x": [
          "Quin Houff",
          "Kurt Busch",
          "Brad Keselowski",
          "Austin Dillon",
          "Kevin Harvick",
          "Kyle Larson",
          "Ryan Newman",
          "Tyler Reddick",
          "Chase Elliott",
          "Aric Almirola",
          "Denny Hamlin",
          "Ryan Blaney",
          "Chase Briscoe",
          "Chris Windom",
          "Derrike Cope",
          "JJ Yeley",
          "James Davison",
          "Joey Gase",
          "Kaz Grala",
          "Chris Buescher",
          "Kyle Busch",
          "Christopher Bell",
          "Matt DiBenedetto",
          "Joey Logano",
          "Bubba Wallace",
          "William Byron",
          "Joey Gase",
          "Austin Cindric",
          "Michael McDowell",
          "David Ragan",
          "Ryan Preece",
          "Anthony Alfredo",
          "Cole Custer",
          "Ross Chastain",
          "Erik Jones",
          "Alex Bowman",
          "Cody Ware",
          "Josh Bilicki",
          "Garrett Smithley",
          "JJ Yeley",
          "Joey Gase",
          "Mike Marlar",
          "Timmy Hill",
          "Jamie McMurray",
          "Josh Berry",
          "Justin Haley",
          "Stewart Friesen",
          "BJ McLeod",
          "Shane Golobic",
          "Harrison Burton",
          "Ty Dillon"
         ],
         "xaxis": "x",
         "y": [
          31.889200000000006,
          31.1342,
          31.052,
          31.096300000000003,
          31.024699999999996,
          31.5957,
          31.1839,
          31.2979,
          31.011199999999995,
          31.013799999999996,
          30.937,
          31.0091,
          31.375699999999995,
          21.064,
          49.142,
          50.332,
          28.045166666666663,
          33.188,
          48.295,
          31.156100000000002,
          30.9758,
          30.985300000000002,
          31.166199999999993,
          30.950500000000005,
          31.144,
          31.0405,
          50.609,
          34.57566666666666,
          31.262699999999995,
          46.471,
          31.198300000000007,
          31.4152,
          31.23950000000001,
          31.1444,
          31.229100000000006,
          31.006299999999992,
          31.994199999999996,
          32.502399999999994,
          28.0725,
          25.231333333333335,
          41.314,
          21.415,
          37.075,
          46.334,
          25.216,
          36.12714285714286,
          21.323,
          33.03277777777778,
          20.873,
          49.601,
          21.291
         ],
         "yaxis": "y"
        },
        {
         "fillpattern": {
          "shape": ""
         },
         "hovertemplate": "year=2022<br>Driver=%{x}<br>Average Full Speed Lap=%{y}<extra></extra>",
         "legendgroup": "2022",
         "line": {
          "color": "#EF553B"
         },
         "marker": {
          "symbol": "circle"
         },
         "mode": "lines",
         "name": "2022",
         "orientation": "v",
         "showlegend": true,
         "stackgroup": "1",
         "type": "scatter",
         "x": [
          "Ross Chastain",
          "Austin Cindric",
          "Austin Dillon",
          "Kevin Harvick",
          "Kyle Larson",
          "Brad Keselowski",
          "Tyler Reddick",
          "Chase Elliott",
          "Aric Almirola",
          "Denny Hamlin",
          "Ryan Blaney",
          "Chase Briscoe",
          "David Ragan",
          "Garrett Smithley",
          "JJ Yeley",
          "Ryan Preece",
          "AJ Allmendinger",
          "Daniel Hemric",
          "Noah Gragson",
          "Chris Buescher",
          "Kyle Busch",
          "Christopher Bell",
          "Harrison Burton",
          "Joey Logano",
          "Bubba Wallace",
          "William Byron",
          "Jacques Villeneuve",
          "Justin Haley",
          "Michael McDowell",
          "Todd Gilliland",
          "Cole Custer",
          "Ty Dillon",
          "Erik Jones",
          "Greg Biffle",
          "Kurt Busch",
          "Alex Bowman",
          "Kaz Grala",
          "Cody Ware",
          "JJ Yeley",
          "Noah Gragson",
          "Josh Bilicki",
          "Justin Allgaier",
          "Landon Cassill",
          "BJ McLeod",
          "Josh Williams",
          "Daniel Suárez"
         ],
         "xaxis": "x",
         "y": [
          30.934199999999997,
          31.0901,
          31.188200000000002,
          31.042099999999998,
          30.881899999999995,
          31.113199999999996,
          30.985999999999997,
          30.950400000000002,
          31.094,
          30.971600000000002,
          30.9138,
          31.0217,
          43.066,
          32.708,
          24.537,
          24.185,
          23.091333333333335,
          40.076499999999996,
          25.578,
          31.046499999999998,
          30.8919,
          31.093399999999995,
          31.2166,
          30.952199999999998,
          31.048400000000004,
          30.928800000000006,
          48.204,
          31.2046,
          31.1998,
          31.275,
          31.2026,
          31.1764,
          31.015499999999996,
          37.442400000000006,
          31.0793,
          30.955000000000002,
          48.341,
          31.487899999999996,
          51.966,
          49.1555,
          27.28375,
          20.439,
          38.87275,
          33.10155555555556,
          20.67,
          29.299000000000003
         ],
         "yaxis": "y"
        }
       ],
       "layout": {
        "legend": {
         "title": {
          "text": "year"
         },
         "tracegroupgap": 0
        },
        "margin": {
         "t": 60
        },
        "template": {
         "data": {
          "bar": [
           {
            "error_x": {
             "color": "#2a3f5f"
            },
            "error_y": {
             "color": "#2a3f5f"
            },
            "marker": {
             "line": {
              "color": "#E5ECF6",
              "width": 0.5
             },
             "pattern": {
              "fillmode": "overlay",
              "size": 10,
              "solidity": 0.2
             }
            },
            "type": "bar"
           }
          ],
          "barpolar": [
           {
            "marker": {
             "line": {
              "color": "#E5ECF6",
              "width": 0.5
             },
             "pattern": {
              "fillmode": "overlay",
              "size": 10,
              "solidity": 0.2
             }
            },
            "type": "barpolar"
           }
          ],
          "carpet": [
           {
            "aaxis": {
             "endlinecolor": "#2a3f5f",
             "gridcolor": "white",
             "linecolor": "white",
             "minorgridcolor": "white",
             "startlinecolor": "#2a3f5f"
            },
            "baxis": {
             "endlinecolor": "#2a3f5f",
             "gridcolor": "white",
             "linecolor": "white",
             "minorgridcolor": "white",
             "startlinecolor": "#2a3f5f"
            },
            "type": "carpet"
           }
          ],
          "choropleth": [
           {
            "colorbar": {
             "outlinewidth": 0,
             "ticks": ""
            },
            "type": "choropleth"
           }
          ],
          "contour": [
           {
            "colorbar": {
             "outlinewidth": 0,
             "ticks": ""
            },
            "colorscale": [
             [
              0,
              "#0d0887"
             ],
             [
              0.1111111111111111,
              "#46039f"
             ],
             [
              0.2222222222222222,
              "#7201a8"
             ],
             [
              0.3333333333333333,
              "#9c179e"
             ],
             [
              0.4444444444444444,
              "#bd3786"
             ],
             [
              0.5555555555555556,
              "#d8576b"
             ],
             [
              0.6666666666666666,
              "#ed7953"
             ],
             [
              0.7777777777777778,
              "#fb9f3a"
             ],
             [
              0.8888888888888888,
              "#fdca26"
             ],
             [
              1,
              "#f0f921"
             ]
            ],
            "type": "contour"
           }
          ],
          "contourcarpet": [
           {
            "colorbar": {
             "outlinewidth": 0,
             "ticks": ""
            },
            "type": "contourcarpet"
           }
          ],
          "heatmap": [
           {
            "colorbar": {
             "outlinewidth": 0,
             "ticks": ""
            },
            "colorscale": [
             [
              0,
              "#0d0887"
             ],
             [
              0.1111111111111111,
              "#46039f"
             ],
             [
              0.2222222222222222,
              "#7201a8"
             ],
             [
              0.3333333333333333,
              "#9c179e"
             ],
             [
              0.4444444444444444,
              "#bd3786"
             ],
             [
              0.5555555555555556,
              "#d8576b"
             ],
             [
              0.6666666666666666,
              "#ed7953"
             ],
             [
              0.7777777777777778,
              "#fb9f3a"
             ],
             [
              0.8888888888888888,
              "#fdca26"
             ],
             [
              1,
              "#f0f921"
             ]
            ],
            "type": "heatmap"
           }
          ],
          "heatmapgl": [
           {
            "colorbar": {
             "outlinewidth": 0,
             "ticks": ""
            },
            "colorscale": [
             [
              0,
              "#0d0887"
             ],
             [
              0.1111111111111111,
              "#46039f"
             ],
             [
              0.2222222222222222,
              "#7201a8"
             ],
             [
              0.3333333333333333,
              "#9c179e"
             ],
             [
              0.4444444444444444,
              "#bd3786"
             ],
             [
              0.5555555555555556,
              "#d8576b"
             ],
             [
              0.6666666666666666,
              "#ed7953"
             ],
             [
              0.7777777777777778,
              "#fb9f3a"
             ],
             [
              0.8888888888888888,
              "#fdca26"
             ],
             [
              1,
              "#f0f921"
             ]
            ],
            "type": "heatmapgl"
           }
          ],
          "histogram": [
           {
            "marker": {
             "pattern": {
              "fillmode": "overlay",
              "size": 10,
              "solidity": 0.2
             }
            },
            "type": "histogram"
           }
          ],
          "histogram2d": [
           {
            "colorbar": {
             "outlinewidth": 0,
             "ticks": ""
            },
            "colorscale": [
             [
              0,
              "#0d0887"
             ],
             [
              0.1111111111111111,
              "#46039f"
             ],
             [
              0.2222222222222222,
              "#7201a8"
             ],
             [
              0.3333333333333333,
              "#9c179e"
             ],
             [
              0.4444444444444444,
              "#bd3786"
             ],
             [
              0.5555555555555556,
              "#d8576b"
             ],
             [
              0.6666666666666666,
              "#ed7953"
             ],
             [
              0.7777777777777778,
              "#fb9f3a"
             ],
             [
              0.8888888888888888,
              "#fdca26"
             ],
             [
              1,
              "#f0f921"
             ]
            ],
            "type": "histogram2d"
           }
          ],
          "histogram2dcontour": [
           {
            "colorbar": {
             "outlinewidth": 0,
             "ticks": ""
            },
            "colorscale": [
             [
              0,
              "#0d0887"
             ],
             [
              0.1111111111111111,
              "#46039f"
             ],
             [
              0.2222222222222222,
              "#7201a8"
             ],
             [
              0.3333333333333333,
              "#9c179e"
             ],
             [
              0.4444444444444444,
              "#bd3786"
             ],
             [
              0.5555555555555556,
              "#d8576b"
             ],
             [
              0.6666666666666666,
              "#ed7953"
             ],
             [
              0.7777777777777778,
              "#fb9f3a"
             ],
             [
              0.8888888888888888,
              "#fdca26"
             ],
             [
              1,
              "#f0f921"
             ]
            ],
            "type": "histogram2dcontour"
           }
          ],
          "mesh3d": [
           {
            "colorbar": {
             "outlinewidth": 0,
             "ticks": ""
            },
            "type": "mesh3d"
           }
          ],
          "parcoords": [
           {
            "line": {
             "colorbar": {
              "outlinewidth": 0,
              "ticks": ""
             }
            },
            "type": "parcoords"
           }
          ],
          "pie": [
           {
            "automargin": true,
            "type": "pie"
           }
          ],
          "scatter": [
           {
            "fillpattern": {
             "fillmode": "overlay",
             "size": 10,
             "solidity": 0.2
            },
            "type": "scatter"
           }
          ],
          "scatter3d": [
           {
            "line": {
             "colorbar": {
              "outlinewidth": 0,
              "ticks": ""
             }
            },
            "marker": {
             "colorbar": {
              "outlinewidth": 0,
              "ticks": ""
             }
            },
            "type": "scatter3d"
           }
          ],
          "scattercarpet": [
           {
            "marker": {
             "colorbar": {
              "outlinewidth": 0,
              "ticks": ""
             }
            },
            "type": "scattercarpet"
           }
          ],
          "scattergeo": [
           {
            "marker": {
             "colorbar": {
              "outlinewidth": 0,
              "ticks": ""
             }
            },
            "type": "scattergeo"
           }
          ],
          "scattergl": [
           {
            "marker": {
             "colorbar": {
              "outlinewidth": 0,
              "ticks": ""
             }
            },
            "type": "scattergl"
           }
          ],
          "scattermapbox": [
           {
            "marker": {
             "colorbar": {
              "outlinewidth": 0,
              "ticks": ""
             }
            },
            "type": "scattermapbox"
           }
          ],
          "scatterpolar": [
           {
            "marker": {
             "colorbar": {
              "outlinewidth": 0,
              "ticks": ""
             }
            },
            "type": "scatterpolar"
           }
          ],
          "scatterpolargl": [
           {
            "marker": {
             "colorbar": {
              "outlinewidth": 0,
              "ticks": ""
             }
            },
            "type": "scatterpolargl"
           }
          ],
          "scatterternary": [
           {
            "marker": {
             "colorbar": {
              "outlinewidth": 0,
              "ticks": ""
             }
            },
            "type": "scatterternary"
           }
          ],
          "surface": [
           {
            "colorbar": {
             "outlinewidth": 0,
             "ticks": ""
            },
            "colorscale": [
             [
              0,
              "#0d0887"
             ],
             [
              0.1111111111111111,
              "#46039f"
             ],
             [
              0.2222222222222222,
              "#7201a8"
             ],
             [
              0.3333333333333333,
              "#9c179e"
             ],
             [
              0.4444444444444444,
              "#bd3786"
             ],
             [
              0.5555555555555556,
              "#d8576b"
             ],
             [
              0.6666666666666666,
              "#ed7953"
             ],
             [
              0.7777777777777778,
              "#fb9f3a"
             ],
             [
              0.8888888888888888,
              "#fdca26"
             ],
             [
              1,
              "#f0f921"
             ]
            ],
            "type": "surface"
           }
          ],
          "table": [
           {
            "cells": {
             "fill": {
              "color": "#EBF0F8"
             },
             "line": {
              "color": "white"
             }
            },
            "header": {
             "fill": {
              "color": "#C8D4E3"
             },
             "line": {
              "color": "white"
             }
            },
            "type": "table"
           }
          ]
         },
         "layout": {
          "annotationdefaults": {
           "arrowcolor": "#2a3f5f",
           "arrowhead": 0,
           "arrowwidth": 1
          },
          "autotypenumbers": "strict",
          "coloraxis": {
           "colorbar": {
            "outlinewidth": 0,
            "ticks": ""
           }
          },
          "colorscale": {
           "diverging": [
            [
             0,
             "#8e0152"
            ],
            [
             0.1,
             "#c51b7d"
            ],
            [
             0.2,
             "#de77ae"
            ],
            [
             0.3,
             "#f1b6da"
            ],
            [
             0.4,
             "#fde0ef"
            ],
            [
             0.5,
             "#f7f7f7"
            ],
            [
             0.6,
             "#e6f5d0"
            ],
            [
             0.7,
             "#b8e186"
            ],
            [
             0.8,
             "#7fbc41"
            ],
            [
             0.9,
             "#4d9221"
            ],
            [
             1,
             "#276419"
            ]
           ],
           "sequential": [
            [
             0,
             "#0d0887"
            ],
            [
             0.1111111111111111,
             "#46039f"
            ],
            [
             0.2222222222222222,
             "#7201a8"
            ],
            [
             0.3333333333333333,
             "#9c179e"
            ],
            [
             0.4444444444444444,
             "#bd3786"
            ],
            [
             0.5555555555555556,
             "#d8576b"
            ],
            [
             0.6666666666666666,
             "#ed7953"
            ],
            [
             0.7777777777777778,
             "#fb9f3a"
            ],
            [
             0.8888888888888888,
             "#fdca26"
            ],
            [
             1,
             "#f0f921"
            ]
           ],
           "sequentialminus": [
            [
             0,
             "#0d0887"
            ],
            [
             0.1111111111111111,
             "#46039f"
            ],
            [
             0.2222222222222222,
             "#7201a8"
            ],
            [
             0.3333333333333333,
             "#9c179e"
            ],
            [
             0.4444444444444444,
             "#bd3786"
            ],
            [
             0.5555555555555556,
             "#d8576b"
            ],
            [
             0.6666666666666666,
             "#ed7953"
            ],
            [
             0.7777777777777778,
             "#fb9f3a"
            ],
            [
             0.8888888888888888,
             "#fdca26"
            ],
            [
             1,
             "#f0f921"
            ]
           ]
          },
          "colorway": [
           "#636efa",
           "#EF553B",
           "#00cc96",
           "#ab63fa",
           "#FFA15A",
           "#19d3f3",
           "#FF6692",
           "#B6E880",
           "#FF97FF",
           "#FECB52"
          ],
          "font": {
           "color": "#2a3f5f"
          },
          "geo": {
           "bgcolor": "white",
           "lakecolor": "white",
           "landcolor": "#E5ECF6",
           "showlakes": true,
           "showland": true,
           "subunitcolor": "white"
          },
          "hoverlabel": {
           "align": "left"
          },
          "hovermode": "closest",
          "mapbox": {
           "style": "light"
          },
          "paper_bgcolor": "white",
          "plot_bgcolor": "#E5ECF6",
          "polar": {
           "angularaxis": {
            "gridcolor": "white",
            "linecolor": "white",
            "ticks": ""
           },
           "bgcolor": "#E5ECF6",
           "radialaxis": {
            "gridcolor": "white",
            "linecolor": "white",
            "ticks": ""
           }
          },
          "scene": {
           "xaxis": {
            "backgroundcolor": "#E5ECF6",
            "gridcolor": "white",
            "gridwidth": 2,
            "linecolor": "white",
            "showbackground": true,
            "ticks": "",
            "zerolinecolor": "white"
           },
           "yaxis": {
            "backgroundcolor": "#E5ECF6",
            "gridcolor": "white",
            "gridwidth": 2,
            "linecolor": "white",
            "showbackground": true,
            "ticks": "",
            "zerolinecolor": "white"
           },
           "zaxis": {
            "backgroundcolor": "#E5ECF6",
            "gridcolor": "white",
            "gridwidth": 2,
            "linecolor": "white",
            "showbackground": true,
            "ticks": "",
            "zerolinecolor": "white"
           }
          },
          "shapedefaults": {
           "line": {
            "color": "#2a3f5f"
           }
          },
          "ternary": {
           "aaxis": {
            "gridcolor": "white",
            "linecolor": "white",
            "ticks": ""
           },
           "baxis": {
            "gridcolor": "white",
            "linecolor": "white",
            "ticks": ""
           },
           "bgcolor": "#E5ECF6",
           "caxis": {
            "gridcolor": "white",
            "linecolor": "white",
            "ticks": ""
           }
          },
          "title": {
           "x": 0.05
          },
          "xaxis": {
           "automargin": true,
           "gridcolor": "white",
           "linecolor": "white",
           "ticks": "",
           "title": {
            "standoff": 15
           },
           "zerolinecolor": "white",
           "zerolinewidth": 2
          },
          "yaxis": {
           "automargin": true,
           "gridcolor": "white",
           "linecolor": "white",
           "ticks": "",
           "title": {
            "standoff": 15
           },
           "zerolinecolor": "white",
           "zerolinewidth": 2
          }
         }
        },
        "xaxis": {
         "anchor": "y",
         "domain": [
          0,
          1
         ],
         "title": {
          "text": "Driver"
         }
        },
        "yaxis": {
         "anchor": "x",
         "domain": [
          0,
          1
         ],
         "title": {
          "text": "Average Full Speed Lap"
         }
        }
       }
      }
     },
     "metadata": {},
     "output_type": "display_data"
    }
   ],
   "source": [
    "px.area(df_combined,x='Driver',y='Average Full Speed Lap',color='year')"
   ]
  },
  {
   "cell_type": "code",
   "execution_count": 262,
   "metadata": {},
   "outputs": [
    {
     "data": {
      "application/vnd.plotly.v1+json": {
       "config": {
        "plotlyServerURL": "https://plot.ly"
       },
       "data": [
        {
         "alignmentgroup": "True",
         "bingroup": "x",
         "histfunc": "sum",
         "hovertemplate": "year=2021<br>Car #=%{x}<br>sum of Average Full Speed Lap=%{y}<extra></extra>",
         "legendgroup": "2021",
         "marker": {
          "color": "#636efa",
          "pattern": {
           "shape": ""
          }
         },
         "name": "2021",
         "nbinsx": 50,
         "offsetgroup": "2021",
         "orientation": "v",
         "showlegend": true,
         "type": "histogram",
         "x": [
          0,
          1,
          2,
          3,
          4,
          5,
          6,
          8,
          9,
          10,
          11,
          12,
          14,
          15,
          15,
          15,
          15,
          15,
          16,
          17,
          18,
          20,
          21,
          22,
          23,
          24,
          28,
          33,
          34,
          36,
          37,
          38,
          41,
          42,
          43,
          48,
          51,
          52,
          53,
          53,
          53,
          66,
          66,
          77,
          77,
          77,
          77,
          78,
          78,
          96,
          96
         ],
         "xaxis": "x",
         "y": [
          30.8395,
          29.609,
          29.3415,
          29.6705,
          29.5875,
          29.366,
          29.9045,
          29.7735,
          29.500500000000002,
          29.674999999999997,
          29.369,
          29.405,
          29.77,
          21.064,
          49.142,
          50.332,
          27.5205,
          33.188,
          48.295,
          29.741500000000002,
          29.547,
          29.4645,
          29.585,
          29.4685,
          29.7085,
          29.450000000000003,
          50.609,
          33.124,
          29.8265,
          46.471,
          29.782,
          30.091,
          29.8705,
          29.7695,
          29.6645,
          29.515,
          30.5,
          31.3985,
          27.556,
          21.465,
          41.314,
          21.415,
          34.493,
          46.334,
          25.216,
          32.64,
          21.323,
          32.326,
          20.873,
          49.601,
          21.291
         ],
         "yaxis": "y"
        },
        {
         "alignmentgroup": "True",
         "bingroup": "x",
         "histfunc": "sum",
         "hovertemplate": "year=2022<br>Car #=%{x}<br>sum of Average Full Speed Lap=%{y}<extra></extra>",
         "legendgroup": "2022",
         "marker": {
          "color": "#EF553B",
          "pattern": {
           "shape": ""
          }
         },
         "name": "2022",
         "nbinsx": 50,
         "offsetgroup": "2022",
         "orientation": "v",
         "showlegend": true,
         "type": "histogram",
         "x": [
          1,
          2,
          3,
          4,
          5,
          6,
          8,
          9,
          10,
          11,
          12,
          14,
          15,
          15,
          15,
          15,
          16,
          16,
          16,
          17,
          18,
          20,
          21,
          22,
          23,
          24,
          27,
          31,
          34,
          38,
          41,
          42,
          43,
          44,
          45,
          48,
          50,
          51,
          55,
          62,
          77,
          77,
          77,
          78,
          78,
          99
         ],
         "xaxis": "x",
         "y": [
          30.346,
          30.6125,
          30.613999999999997,
          30.734499999999997,
          30.387,
          30.701,
          30.442,
          30.4775,
          30.558500000000002,
          30.489,
          30.4555,
          30.615000000000002,
          47.282,
          32.708,
          23.0605,
          24.185,
          24.109,
          39.554,
          25.578,
          30.6555,
          30.517,
          30.42,
          30.950000000000003,
          30.351,
          30.479,
          30.380000000000003,
          48.204,
          30.569,
          30.6535,
          30.819,
          30.7795,
          30.6985,
          30.447499999999998,
          31.776,
          30.54,
          30.488500000000002,
          48.341,
          30.924,
          51.966,
          49.1555,
          27.894,
          20.439,
          39.574,
          31.823,
          20.67,
          30.225
         ],
         "yaxis": "y"
        }
       ],
       "layout": {
        "barmode": "relative",
        "legend": {
         "title": {
          "text": "year"
         },
         "tracegroupgap": 0
        },
        "margin": {
         "t": 60
        },
        "template": {
         "data": {
          "bar": [
           {
            "error_x": {
             "color": "#2a3f5f"
            },
            "error_y": {
             "color": "#2a3f5f"
            },
            "marker": {
             "line": {
              "color": "#E5ECF6",
              "width": 0.5
             },
             "pattern": {
              "fillmode": "overlay",
              "size": 10,
              "solidity": 0.2
             }
            },
            "type": "bar"
           }
          ],
          "barpolar": [
           {
            "marker": {
             "line": {
              "color": "#E5ECF6",
              "width": 0.5
             },
             "pattern": {
              "fillmode": "overlay",
              "size": 10,
              "solidity": 0.2
             }
            },
            "type": "barpolar"
           }
          ],
          "carpet": [
           {
            "aaxis": {
             "endlinecolor": "#2a3f5f",
             "gridcolor": "white",
             "linecolor": "white",
             "minorgridcolor": "white",
             "startlinecolor": "#2a3f5f"
            },
            "baxis": {
             "endlinecolor": "#2a3f5f",
             "gridcolor": "white",
             "linecolor": "white",
             "minorgridcolor": "white",
             "startlinecolor": "#2a3f5f"
            },
            "type": "carpet"
           }
          ],
          "choropleth": [
           {
            "colorbar": {
             "outlinewidth": 0,
             "ticks": ""
            },
            "type": "choropleth"
           }
          ],
          "contour": [
           {
            "colorbar": {
             "outlinewidth": 0,
             "ticks": ""
            },
            "colorscale": [
             [
              0,
              "#0d0887"
             ],
             [
              0.1111111111111111,
              "#46039f"
             ],
             [
              0.2222222222222222,
              "#7201a8"
             ],
             [
              0.3333333333333333,
              "#9c179e"
             ],
             [
              0.4444444444444444,
              "#bd3786"
             ],
             [
              0.5555555555555556,
              "#d8576b"
             ],
             [
              0.6666666666666666,
              "#ed7953"
             ],
             [
              0.7777777777777778,
              "#fb9f3a"
             ],
             [
              0.8888888888888888,
              "#fdca26"
             ],
             [
              1,
              "#f0f921"
             ]
            ],
            "type": "contour"
           }
          ],
          "contourcarpet": [
           {
            "colorbar": {
             "outlinewidth": 0,
             "ticks": ""
            },
            "type": "contourcarpet"
           }
          ],
          "heatmap": [
           {
            "colorbar": {
             "outlinewidth": 0,
             "ticks": ""
            },
            "colorscale": [
             [
              0,
              "#0d0887"
             ],
             [
              0.1111111111111111,
              "#46039f"
             ],
             [
              0.2222222222222222,
              "#7201a8"
             ],
             [
              0.3333333333333333,
              "#9c179e"
             ],
             [
              0.4444444444444444,
              "#bd3786"
             ],
             [
              0.5555555555555556,
              "#d8576b"
             ],
             [
              0.6666666666666666,
              "#ed7953"
             ],
             [
              0.7777777777777778,
              "#fb9f3a"
             ],
             [
              0.8888888888888888,
              "#fdca26"
             ],
             [
              1,
              "#f0f921"
             ]
            ],
            "type": "heatmap"
           }
          ],
          "heatmapgl": [
           {
            "colorbar": {
             "outlinewidth": 0,
             "ticks": ""
            },
            "colorscale": [
             [
              0,
              "#0d0887"
             ],
             [
              0.1111111111111111,
              "#46039f"
             ],
             [
              0.2222222222222222,
              "#7201a8"
             ],
             [
              0.3333333333333333,
              "#9c179e"
             ],
             [
              0.4444444444444444,
              "#bd3786"
             ],
             [
              0.5555555555555556,
              "#d8576b"
             ],
             [
              0.6666666666666666,
              "#ed7953"
             ],
             [
              0.7777777777777778,
              "#fb9f3a"
             ],
             [
              0.8888888888888888,
              "#fdca26"
             ],
             [
              1,
              "#f0f921"
             ]
            ],
            "type": "heatmapgl"
           }
          ],
          "histogram": [
           {
            "marker": {
             "pattern": {
              "fillmode": "overlay",
              "size": 10,
              "solidity": 0.2
             }
            },
            "type": "histogram"
           }
          ],
          "histogram2d": [
           {
            "colorbar": {
             "outlinewidth": 0,
             "ticks": ""
            },
            "colorscale": [
             [
              0,
              "#0d0887"
             ],
             [
              0.1111111111111111,
              "#46039f"
             ],
             [
              0.2222222222222222,
              "#7201a8"
             ],
             [
              0.3333333333333333,
              "#9c179e"
             ],
             [
              0.4444444444444444,
              "#bd3786"
             ],
             [
              0.5555555555555556,
              "#d8576b"
             ],
             [
              0.6666666666666666,
              "#ed7953"
             ],
             [
              0.7777777777777778,
              "#fb9f3a"
             ],
             [
              0.8888888888888888,
              "#fdca26"
             ],
             [
              1,
              "#f0f921"
             ]
            ],
            "type": "histogram2d"
           }
          ],
          "histogram2dcontour": [
           {
            "colorbar": {
             "outlinewidth": 0,
             "ticks": ""
            },
            "colorscale": [
             [
              0,
              "#0d0887"
             ],
             [
              0.1111111111111111,
              "#46039f"
             ],
             [
              0.2222222222222222,
              "#7201a8"
             ],
             [
              0.3333333333333333,
              "#9c179e"
             ],
             [
              0.4444444444444444,
              "#bd3786"
             ],
             [
              0.5555555555555556,
              "#d8576b"
             ],
             [
              0.6666666666666666,
              "#ed7953"
             ],
             [
              0.7777777777777778,
              "#fb9f3a"
             ],
             [
              0.8888888888888888,
              "#fdca26"
             ],
             [
              1,
              "#f0f921"
             ]
            ],
            "type": "histogram2dcontour"
           }
          ],
          "mesh3d": [
           {
            "colorbar": {
             "outlinewidth": 0,
             "ticks": ""
            },
            "type": "mesh3d"
           }
          ],
          "parcoords": [
           {
            "line": {
             "colorbar": {
              "outlinewidth": 0,
              "ticks": ""
             }
            },
            "type": "parcoords"
           }
          ],
          "pie": [
           {
            "automargin": true,
            "type": "pie"
           }
          ],
          "scatter": [
           {
            "fillpattern": {
             "fillmode": "overlay",
             "size": 10,
             "solidity": 0.2
            },
            "type": "scatter"
           }
          ],
          "scatter3d": [
           {
            "line": {
             "colorbar": {
              "outlinewidth": 0,
              "ticks": ""
             }
            },
            "marker": {
             "colorbar": {
              "outlinewidth": 0,
              "ticks": ""
             }
            },
            "type": "scatter3d"
           }
          ],
          "scattercarpet": [
           {
            "marker": {
             "colorbar": {
              "outlinewidth": 0,
              "ticks": ""
             }
            },
            "type": "scattercarpet"
           }
          ],
          "scattergeo": [
           {
            "marker": {
             "colorbar": {
              "outlinewidth": 0,
              "ticks": ""
             }
            },
            "type": "scattergeo"
           }
          ],
          "scattergl": [
           {
            "marker": {
             "colorbar": {
              "outlinewidth": 0,
              "ticks": ""
             }
            },
            "type": "scattergl"
           }
          ],
          "scattermapbox": [
           {
            "marker": {
             "colorbar": {
              "outlinewidth": 0,
              "ticks": ""
             }
            },
            "type": "scattermapbox"
           }
          ],
          "scatterpolar": [
           {
            "marker": {
             "colorbar": {
              "outlinewidth": 0,
              "ticks": ""
             }
            },
            "type": "scatterpolar"
           }
          ],
          "scatterpolargl": [
           {
            "marker": {
             "colorbar": {
              "outlinewidth": 0,
              "ticks": ""
             }
            },
            "type": "scatterpolargl"
           }
          ],
          "scatterternary": [
           {
            "marker": {
             "colorbar": {
              "outlinewidth": 0,
              "ticks": ""
             }
            },
            "type": "scatterternary"
           }
          ],
          "surface": [
           {
            "colorbar": {
             "outlinewidth": 0,
             "ticks": ""
            },
            "colorscale": [
             [
              0,
              "#0d0887"
             ],
             [
              0.1111111111111111,
              "#46039f"
             ],
             [
              0.2222222222222222,
              "#7201a8"
             ],
             [
              0.3333333333333333,
              "#9c179e"
             ],
             [
              0.4444444444444444,
              "#bd3786"
             ],
             [
              0.5555555555555556,
              "#d8576b"
             ],
             [
              0.6666666666666666,
              "#ed7953"
             ],
             [
              0.7777777777777778,
              "#fb9f3a"
             ],
             [
              0.8888888888888888,
              "#fdca26"
             ],
             [
              1,
              "#f0f921"
             ]
            ],
            "type": "surface"
           }
          ],
          "table": [
           {
            "cells": {
             "fill": {
              "color": "#EBF0F8"
             },
             "line": {
              "color": "white"
             }
            },
            "header": {
             "fill": {
              "color": "#C8D4E3"
             },
             "line": {
              "color": "white"
             }
            },
            "type": "table"
           }
          ]
         },
         "layout": {
          "annotationdefaults": {
           "arrowcolor": "#2a3f5f",
           "arrowhead": 0,
           "arrowwidth": 1
          },
          "autotypenumbers": "strict",
          "coloraxis": {
           "colorbar": {
            "outlinewidth": 0,
            "ticks": ""
           }
          },
          "colorscale": {
           "diverging": [
            [
             0,
             "#8e0152"
            ],
            [
             0.1,
             "#c51b7d"
            ],
            [
             0.2,
             "#de77ae"
            ],
            [
             0.3,
             "#f1b6da"
            ],
            [
             0.4,
             "#fde0ef"
            ],
            [
             0.5,
             "#f7f7f7"
            ],
            [
             0.6,
             "#e6f5d0"
            ],
            [
             0.7,
             "#b8e186"
            ],
            [
             0.8,
             "#7fbc41"
            ],
            [
             0.9,
             "#4d9221"
            ],
            [
             1,
             "#276419"
            ]
           ],
           "sequential": [
            [
             0,
             "#0d0887"
            ],
            [
             0.1111111111111111,
             "#46039f"
            ],
            [
             0.2222222222222222,
             "#7201a8"
            ],
            [
             0.3333333333333333,
             "#9c179e"
            ],
            [
             0.4444444444444444,
             "#bd3786"
            ],
            [
             0.5555555555555556,
             "#d8576b"
            ],
            [
             0.6666666666666666,
             "#ed7953"
            ],
            [
             0.7777777777777778,
             "#fb9f3a"
            ],
            [
             0.8888888888888888,
             "#fdca26"
            ],
            [
             1,
             "#f0f921"
            ]
           ],
           "sequentialminus": [
            [
             0,
             "#0d0887"
            ],
            [
             0.1111111111111111,
             "#46039f"
            ],
            [
             0.2222222222222222,
             "#7201a8"
            ],
            [
             0.3333333333333333,
             "#9c179e"
            ],
            [
             0.4444444444444444,
             "#bd3786"
            ],
            [
             0.5555555555555556,
             "#d8576b"
            ],
            [
             0.6666666666666666,
             "#ed7953"
            ],
            [
             0.7777777777777778,
             "#fb9f3a"
            ],
            [
             0.8888888888888888,
             "#fdca26"
            ],
            [
             1,
             "#f0f921"
            ]
           ]
          },
          "colorway": [
           "#636efa",
           "#EF553B",
           "#00cc96",
           "#ab63fa",
           "#FFA15A",
           "#19d3f3",
           "#FF6692",
           "#B6E880",
           "#FF97FF",
           "#FECB52"
          ],
          "font": {
           "color": "#2a3f5f"
          },
          "geo": {
           "bgcolor": "white",
           "lakecolor": "white",
           "landcolor": "#E5ECF6",
           "showlakes": true,
           "showland": true,
           "subunitcolor": "white"
          },
          "hoverlabel": {
           "align": "left"
          },
          "hovermode": "closest",
          "mapbox": {
           "style": "light"
          },
          "paper_bgcolor": "white",
          "plot_bgcolor": "#E5ECF6",
          "polar": {
           "angularaxis": {
            "gridcolor": "white",
            "linecolor": "white",
            "ticks": ""
           },
           "bgcolor": "#E5ECF6",
           "radialaxis": {
            "gridcolor": "white",
            "linecolor": "white",
            "ticks": ""
           }
          },
          "scene": {
           "xaxis": {
            "backgroundcolor": "#E5ECF6",
            "gridcolor": "white",
            "gridwidth": 2,
            "linecolor": "white",
            "showbackground": true,
            "ticks": "",
            "zerolinecolor": "white"
           },
           "yaxis": {
            "backgroundcolor": "#E5ECF6",
            "gridcolor": "white",
            "gridwidth": 2,
            "linecolor": "white",
            "showbackground": true,
            "ticks": "",
            "zerolinecolor": "white"
           },
           "zaxis": {
            "backgroundcolor": "#E5ECF6",
            "gridcolor": "white",
            "gridwidth": 2,
            "linecolor": "white",
            "showbackground": true,
            "ticks": "",
            "zerolinecolor": "white"
           }
          },
          "shapedefaults": {
           "line": {
            "color": "#2a3f5f"
           }
          },
          "ternary": {
           "aaxis": {
            "gridcolor": "white",
            "linecolor": "white",
            "ticks": ""
           },
           "baxis": {
            "gridcolor": "white",
            "linecolor": "white",
            "ticks": ""
           },
           "bgcolor": "#E5ECF6",
           "caxis": {
            "gridcolor": "white",
            "linecolor": "white",
            "ticks": ""
           }
          },
          "title": {
           "x": 0.05
          },
          "xaxis": {
           "automargin": true,
           "gridcolor": "white",
           "linecolor": "white",
           "ticks": "",
           "title": {
            "standoff": 15
           },
           "zerolinecolor": "white",
           "zerolinewidth": 2
          },
          "yaxis": {
           "automargin": true,
           "gridcolor": "white",
           "linecolor": "white",
           "ticks": "",
           "title": {
            "standoff": 15
           },
           "zerolinecolor": "white",
           "zerolinewidth": 2
          }
         }
        },
        "xaxis": {
         "anchor": "y",
         "domain": [
          0,
          1
         ],
         "title": {
          "text": "Car #"
         }
        },
        "yaxis": {
         "anchor": "x",
         "domain": [
          0,
          1
         ],
         "title": {
          "text": "sum of Average Full Speed Lap"
         }
        }
       }
      }
     },
     "metadata": {},
     "output_type": "display_data"
    }
   ],
   "source": [
    "import plotly.express as px\n",
    "df = px.data.tips()\n",
    "fig = px.histogram(df_combined, x=\"Car #\", y=\"Average Full Speed Lap\", color=\"year\",\n",
    "                #    marginal=\"box\", # or violin, rug\n",
    "                   hover_data=df_combined.columns,nbins=50)\n",
    "fig.show()"
   ]
  },
  {
   "cell_type": "code",
   "execution_count": null,
   "metadata": {},
   "outputs": [],
   "source": []
  }
 ],
 "metadata": {
  "interpreter": {
   "hash": "49cb93f377a7abe7414b7b0f21fb3017538004a126cf690fb524202736b7fb92"
  },
  "kernelspec": {
   "display_name": "Python 3.8.5 ('base')",
   "language": "python",
   "name": "python3"
  },
  "language_info": {
   "codemirror_mode": {
    "name": "ipython",
    "version": 3
   },
   "file_extension": ".py",
   "mimetype": "text/x-python",
   "name": "python",
   "nbconvert_exporter": "python",
   "pygments_lexer": "ipython3",
   "version": "3.8.5"
  },
  "orig_nbformat": 4
 },
 "nbformat": 4,
 "nbformat_minor": 2
}
