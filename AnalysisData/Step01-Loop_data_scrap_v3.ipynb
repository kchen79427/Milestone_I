{
 "cells": [
  {
   "cell_type": "code",
   "metadata": {
    "cell_id": "4c068e7a-9732-46bf-9abe-9a09493565b0",
    "deepnote_to_be_reexecuted": false,
    "source_hash": "889b7f4c",
    "execution_start": 1653428990314,
    "execution_millis": 1,
    "owner_user_id": "dbcfdc03-cb41-42df-88d8-3fffbb8930b7",
    "deepnote_cell_type": "code",
    "deepnote_cell_height": 477.453125
   },
   "source": "# scrap PDF loop data from toby christie's site\n# https://tobychristie.com/loop-data-2021-nascar-cup-series/\"\n# this is v2 of the scraper because there is a different pattern of PDF that tabula could output\n# this scraper works for some of the races in 2022 cup series. (Discovered additional merged column patterns)\n\n# skip to the last cell and execute, \n# if you get an error then go through each cell to see what is going on\n# likely issues with the merged columns.\n\n# tabula is the library that reads in searchable PDFs\n# documentation: https://tabula-py.readthedocs.io/en/latest/getting_started.html\n\n# raw data can be found here: /data/lap_data\n\nimport tabula\nimport pandas as pd\nimport re\nfrom tabula import read_pdf                                                      \nHEADERS_1=[\"Car\",\"Driver\",\"StartPos\",\"MidRace\",\"CloserPos\",\"FinishPos\",\"HighPos\",\"LapsLed\", \"LowPos\",\"AvgPos\",\"PassDiff\",\"GreenPass\",\"GreenPassed\",\"QualityPasses\",\"PercentQualityPasses\",\"NumFastestLaps\",\"LapsTop15\",\"PercentLapsTop15\",\"PercentLapsLed\", \"TotalLaps\",\"DriverRating\",\"Pts\"]\nHEADERS_2=[\"Car\",\"Driver\",\"StartPos\",\"MidRace\",\"CloserPos\",\"FinishPos\",\"HighPos\",\"LowPos\",\"AvgPos\",\"PassDiff\",\"GreenPass\",\"GreenPassed\",\"QualityPasses\",\"PercentQualityPasses\",\"NumFastestLaps\",\"LapsTop15\",\"PercentLapsTop15\",\"LapsLed\",\"PercentLapsLed\",\"TotalLaps\",\"DriverRating\",\"Pts\"]\ndata_location=r\".\\SIADS591_592_Milestone1\\Milestone_I\\Milestone_I\\data\\loop_TobyChristie\\pdf\\2022\\LD12211_POST_POSTBOOK.pdf\"\ndf=read_pdf(data_location,pages='1')\n",
   "outputs": [],
   "execution_count": null
  },
  {
   "cell_type": "code",
   "metadata": {
    "cell_id": "00001-5210533a-9ad9-47bd-826c-5422f0e59edb",
    "deepnote_cell_type": "code",
    "deepnote_cell_height": 84.46875
   },
   "source": "# preview uncleaned data\n# df[0].head(10)",
   "execution_count": null,
   "outputs": []
  },
  {
   "cell_type": "code",
   "metadata": {
    "cell_id": "00002-4b6cf092-50d8-4c81-be47-047008837009",
    "deepnote_cell_type": "code",
    "deepnote_cell_height": 192.453125
   },
   "source": "# extract the race date and race track names for csv output\nfname_track=df[0]['Box Score'][0].replace(\" \",\"\")\ndate_text=df[0]['Box Score'][2]\npattern=r'(\\d*)/(\\d*)/(\\d*)'\nfname_year=re.search(pattern,date_text).group(3)\nfname_day=re.search(pattern,date_text).group(2).zfill(2)\nfname_month=re.search(pattern,date_text).group(1).zfill(2)\n",
   "execution_count": null,
   "outputs": []
  },
  {
   "cell_type": "code",
   "metadata": {
    "cell_id": "00003-60aad5ae-c1f6-4e28-91da-3c98a7f9190b",
    "deepnote_cell_type": "code",
    "deepnote_cell_height": 549.6875
   },
   "source": "# dataframe cleanup steps:\n# 1. removed extra header information\ndf2=df[0].iloc[6:]\n# 2. handling merged columns \ndf2['Box Score']=df2['Box Score'].str.split()\ndf2['Unnamed: 7']=df2['Unnamed: 7'].str.split()\ndf2['Unnamed: 9']=df2['Unnamed: 9'].str.split()",
   "execution_count": null,
   "outputs": [
    {
     "name": "stderr",
     "output_type": "stream",
     "text": "<ipython-input-16-1adc89defd34>:2: SettingWithCopyWarning: \nA value is trying to be set on a copy of a slice from a DataFrame.\nTry using .loc[row_indexer,col_indexer] = value instead\n\nSee the caveats in the documentation: https://pandas.pydata.org/pandas-docs/stable/user_guide/indexing.html#returning-a-view-versus-a-copy\n  df2['Box Score']=df2['Box Score'].str.split()\n<ipython-input-16-1adc89defd34>:3: SettingWithCopyWarning: \nA value is trying to be set on a copy of a slice from a DataFrame.\nTry using .loc[row_indexer,col_indexer] = value instead\n\nSee the caveats in the documentation: https://pandas.pydata.org/pandas-docs/stable/user_guide/indexing.html#returning-a-view-versus-a-copy\n  df2['Unnamed: 7']=df2['Unnamed: 7'].str.split()\n<ipython-input-16-1adc89defd34>:4: SettingWithCopyWarning: \nA value is trying to be set on a copy of a slice from a DataFrame.\nTry using .loc[row_indexer,col_indexer] = value instead\n\nSee the caveats in the documentation: https://pandas.pydata.org/pandas-docs/stable/user_guide/indexing.html#returning-a-view-versus-a-copy\n  df2['Unnamed: 9']=df2['Unnamed: 9'].str.split()\n"
    }
   ]
  },
  {
   "cell_type": "code",
   "metadata": {
    "cell_id": "00004-d901590b-e27a-4f51-8790-eaf7d93d70e5",
    "deepnote_cell_type": "code",
    "deepnote_cell_height": 66.453125
   },
   "source": "# df2.head()",
   "execution_count": null,
   "outputs": []
  },
  {
   "cell_type": "code",
   "metadata": {
    "cell_id": "00005-76934060-c83c-4eda-819f-277f5bac42ed",
    "deepnote_cell_type": "code",
    "deepnote_cell_height": 264.46875
   },
   "source": "#split merged columns into the respected columns, this information can be gathered from the PDF.\ndf3=pd.DataFrame(df2['Box Score'].tolist(), columns=[\"LowPos\",\"AvgPos\",\"PassDiff\",\"GreenPass\",\"GreenPassed\",\"QualityPasses\",\"PercentQualityPasses\",\"NumFastestLaps\"])\ndf4=pd.DataFrame(df2['Unnamed: 7'].tolist(), columns=[\"LapsTop15\",\"PercentLapsTop15\"])\ndf5=pd.DataFrame(df2['Unnamed: 9'].tolist(), columns=[\"PercentLapsLed\", \"TotalLaps\",\"DriverRating\",\"Pts\"])\n# resetting the index to prep for the concat\ndf2=df2[['Unnamed: 0', 'Unnamed: 1', 'Unnamed: 2', 'Unnamed: 3', 'Unnamed: 4',\n       'Unnamed: 5', 'Unnamed: 6','Unnamed: 8']].reset_index(drop=True)\n# combine the split up columns with the properly parsed columns\ndf_final=pd.concat([df2,df3,df4,df5],axis=1)\ndf_final.head()\ndf_final.columns=HEADERS_1\ndf_final=df_final[HEADERS_2]",
   "execution_count": null,
   "outputs": []
  },
  {
   "cell_type": "code",
   "metadata": {
    "cell_id": "00006-2dbed937-3424-4bf3-aa5c-0427b43dad56",
    "deepnote_cell_type": "code",
    "deepnote_cell_height": 237.828125,
    "deepnote_output_heights": [
     122.125
    ]
   },
   "source": "# double checking\n# df_final.head(2)",
   "execution_count": null,
   "outputs": [
    {
     "data": {
      "text/html": "<div>\n<style scoped>\n    .dataframe tbody tr th:only-of-type {\n        vertical-align: middle;\n    }\n\n    .dataframe tbody tr th {\n        vertical-align: top;\n    }\n\n    .dataframe thead th {\n        text-align: right;\n    }\n</style>\n<table border=\"1\" class=\"dataframe\">\n  <thead>\n    <tr style=\"text-align: right;\">\n      <th></th>\n      <th>Car</th>\n      <th>Driver</th>\n      <th>StartPos</th>\n      <th>MidRace</th>\n      <th>CloserPos</th>\n      <th>FinishPos</th>\n      <th>HighPos</th>\n      <th>LowPos</th>\n      <th>AvgPos</th>\n      <th>PassDiff</th>\n      <th>...</th>\n      <th>QualityPasses</th>\n      <th>PercentQualityPasses</th>\n      <th>NumFastestLaps</th>\n      <th>LapsTop15</th>\n      <th>PercentLapsTop15</th>\n      <th>LapsLed</th>\n      <th>PercentLapsLed</th>\n      <th>TotalLaps</th>\n      <th>DriverRating</th>\n      <th>Pts</th>\n    </tr>\n  </thead>\n  <tbody>\n    <tr>\n      <th>0</th>\n      <td>9</td>\n      <td>Chase Elliott</td>\n      <td>4</td>\n      <td>8</td>\n      <td>1</td>\n      <td>1</td>\n      <td>1</td>\n      <td>20</td>\n      <td>4.1</td>\n      <td>11</td>\n      <td>...</td>\n      <td>32</td>\n      <td>96.97</td>\n      <td>33</td>\n      <td>399</td>\n      <td>99.8</td>\n      <td>73</td>\n      <td>18.3</td>\n      <td>400</td>\n      <td>132.8</td>\n      <td>50</td>\n    </tr>\n    <tr>\n      <th>1</th>\n      <td>47</td>\n      <td>Ricky Stenhouse Jr</td>\n      <td>15</td>\n      <td>16</td>\n      <td>2</td>\n      <td>2</td>\n      <td>2</td>\n      <td>19</td>\n      <td>8.9</td>\n      <td>21</td>\n      <td>...</td>\n      <td>52</td>\n      <td>88.14</td>\n      <td>8</td>\n      <td>376</td>\n      <td>94.0</td>\n      <td>0</td>\n      <td>0.0</td>\n      <td>400</td>\n      <td>102.8</td>\n      <td>41</td>\n    </tr>\n  </tbody>\n</table>\n<p>2 rows × 22 columns</p>\n</div>",
      "text/plain": "  Car              Driver StartPos MidRace CloserPos FinishPos HighPos LowPos  \\\n0   9       Chase Elliott        4       8         1         1       1     20   \n1  47  Ricky Stenhouse Jr       15      16         2         2       2     19   \n\n  AvgPos PassDiff  ... QualityPasses PercentQualityPasses NumFastestLaps  \\\n0    4.1       11  ...            32                96.97             33   \n1    8.9       21  ...            52                88.14              8   \n\n  LapsTop15 PercentLapsTop15 LapsLed PercentLapsLed TotalLaps DriverRating Pts  \n0       399             99.8      73           18.3       400        132.8  50  \n1       376             94.0       0            0.0       400        102.8  41  \n\n[2 rows x 22 columns]"
     },
     "execution_count": 21,
     "metadata": {},
     "output_type": "execute_result"
    }
   ]
  },
  {
   "cell_type": "code",
   "metadata": {
    "cell_id": "00007-690db55d-0ab6-4d4c-84c3-ad7cc3062453",
    "deepnote_cell_type": "code",
    "deepnote_cell_height": 102.453125
   },
   "source": "# final output\ndf_final.to_csv(r'.\\SIADS591_592_Milestone1\\Milestone_I\\Milestone_I\\data\\loop_TobyChristie\\csv\\2022\\{}.csv'.format(fname_year+fname_month+fname_day+'_'+fname_track),index=False)\n",
   "execution_count": null,
   "outputs": []
  },
  {
   "cell_type": "code",
   "metadata": {
    "cell_id": "00008-23862f66-2a38-4067-a0ce-b254436c7278",
    "deepnote_cell_type": "code",
    "deepnote_cell_height": 1246.171875
   },
   "source": "# put it all together and loopiong through a directory where the downloaded PDFs are.\nimport tabula\nimport pandas as pd\nimport re\nfrom tabula import read_pdf\n\n# loop through the whole directory\ndirectory=r'.\\SIADS591_592_Milestone1\\Milestone_I\\Milestone_I\\data\\loop_TobyChristie\\pdf\\2022'\nfor filename in os.listdir(directory):\n    f = os.path.join(directory, filename)\n    # checking if it is a file\n    if os.path.isfile(f):\n        # read in data\n        df=read_pdf(f,pages='1')\n        # get the file name info\n        fname_track=df[0]['Box Score'][0].replace(\" \",\"\")\n        date_text=df[0]['Box Score'][2]\n        pattern=r'(\\d*)/(\\d*)/(\\d*)'\n        fname_year=re.search(pattern,date_text).group(3)\n        # zfill Fill the string with zeros until it is 2 characters long:\n        fname_day=re.search(pattern,date_text).group(2).zfill(2)\n        fname_month=re.search(pattern,date_text).group(1).zfill(2)\n        # getting the data cleaned up\n        print(f)\n        df2=df[0].iloc[6:]\n        df2['Box Score']=df2['Box Score'].str.split()\n        df2['Unnamed: 9']=df2['Unnamed: 9'].str.split()\n        df2['Unnamed: 11']=df2['Unnamed: 11'].str.split()\n\n        # continue to clean\n        df3=pd.DataFrame(df2['Box Score'].tolist(), columns=[\"AvgPos\",\"PassDiff\",\"GreenPass\",\"GreenPassed\",\"QualityPasses\",\"PercentQualityPasses\"])\n        df4=pd.DataFrame(df2['Unnamed: 9'].tolist(), columns=[\"LapsTop15\",\"PercentLapsTop15\"])\n        df5=pd.DataFrame(df2['Unnamed: 11'].tolist(), columns=[\"PercentLapsLed\", \"TotalLaps\",\"DriverRating\",\"Pts\"])\n        \n        df2=df2[['Unnamed: 0', 'Unnamed: 1', 'Unnamed: 2', 'Unnamed: 3', 'Unnamed: 4',\n        'Unnamed: 5', 'Unnamed: 6','Unnamed: 7', 'Unnamed: 8','Unnamed: 10']].reset_index(drop=True)\n        \n        # final cleaning steps\n        df_final=pd.concat([df2,df3,df4,df5],axis=1)\n        df_final.columns=HEADERS_1\n        df_final=df_final[HEADERS_2]\n\n        # output the data\n        df_final.to_csv(r'.\\SIADS591_592_Milestone1\\Milestone_I\\data\\loop_TobyChristie\\csv\\2021\\{}.csv'.format(fname_year+fname_month+fname_day+'_'+fname_track),index=False)\n",
   "execution_count": null,
   "outputs": [
    {
     "name": "stdout",
     "output_type": "stream",
     "text": "C:\\Users\\kchen\\OneDrive\\MADS\\SIADS591_592_Milestone1\\Milestone_I\\Milestone_I\\data\\loop_TobyChristie\\pdf\\2022\\LD12211_POST_POSTBOOK.pdf\n"
    },
    {
     "name": "stderr",
     "output_type": "stream",
     "text": "<ipython-input-3-53202170564b>:19: SettingWithCopyWarning: \nA value is trying to be set on a copy of a slice from a DataFrame.\nTry using .loc[row_indexer,col_indexer] = value instead\n\nSee the caveats in the documentation: https://pandas.pydata.org/pandas-docs/stable/user_guide/indexing.html#returning-a-view-versus-a-copy\n  df2['Box Score']=df2['Box Score'].str.split()\n<ipython-input-3-53202170564b>:20: SettingWithCopyWarning: \nA value is trying to be set on a copy of a slice from a DataFrame.\nTry using .loc[row_indexer,col_indexer] = value instead\n\nSee the caveats in the documentation: https://pandas.pydata.org/pandas-docs/stable/user_guide/indexing.html#returning-a-view-versus-a-copy\n  df2['Unnamed: 9']=df2['Unnamed: 9'].str.split()\n"
    },
    {
     "ename": "KeyError",
     "evalue": "'Unnamed: 11'",
     "output_type": "error",
     "traceback": [
      "\u001b[1;31m---------------------------------------------------------------------------\u001b[0m",
      "\u001b[1;31mKeyError\u001b[0m                                  Traceback (most recent call last)",
      "\u001b[1;32mD:\\anaconda3\\lib\\site-packages\\pandas\\core\\indexes\\base.py\u001b[0m in \u001b[0;36mget_loc\u001b[1;34m(self, key, method, tolerance)\u001b[0m\n\u001b[0;32m   2894\u001b[0m             \u001b[1;32mtry\u001b[0m\u001b[1;33m:\u001b[0m\u001b[1;33m\u001b[0m\u001b[1;33m\u001b[0m\u001b[0m\n\u001b[1;32m-> 2895\u001b[1;33m                 \u001b[1;32mreturn\u001b[0m \u001b[0mself\u001b[0m\u001b[1;33m.\u001b[0m\u001b[0m_engine\u001b[0m\u001b[1;33m.\u001b[0m\u001b[0mget_loc\u001b[0m\u001b[1;33m(\u001b[0m\u001b[0mcasted_key\u001b[0m\u001b[1;33m)\u001b[0m\u001b[1;33m\u001b[0m\u001b[1;33m\u001b[0m\u001b[0m\n\u001b[0m\u001b[0;32m   2896\u001b[0m             \u001b[1;32mexcept\u001b[0m \u001b[0mKeyError\u001b[0m \u001b[1;32mas\u001b[0m \u001b[0merr\u001b[0m\u001b[1;33m:\u001b[0m\u001b[1;33m\u001b[0m\u001b[1;33m\u001b[0m\u001b[0m\n",
      "\u001b[1;32mpandas\\_libs\\index.pyx\u001b[0m in \u001b[0;36mpandas._libs.index.IndexEngine.get_loc\u001b[1;34m()\u001b[0m\n",
      "\u001b[1;32mpandas\\_libs\\index.pyx\u001b[0m in \u001b[0;36mpandas._libs.index.IndexEngine.get_loc\u001b[1;34m()\u001b[0m\n",
      "\u001b[1;32mpandas\\_libs\\hashtable_class_helper.pxi\u001b[0m in \u001b[0;36mpandas._libs.hashtable.PyObjectHashTable.get_item\u001b[1;34m()\u001b[0m\n",
      "\u001b[1;32mpandas\\_libs\\hashtable_class_helper.pxi\u001b[0m in \u001b[0;36mpandas._libs.hashtable.PyObjectHashTable.get_item\u001b[1;34m()\u001b[0m\n",
      "\u001b[1;31mKeyError\u001b[0m: 'Unnamed: 11'",
      "\nThe above exception was the direct cause of the following exception:\n",
      "\u001b[1;31mKeyError\u001b[0m                                  Traceback (most recent call last)",
      "\u001b[1;32m<ipython-input-3-53202170564b>\u001b[0m in \u001b[0;36m<module>\u001b[1;34m\u001b[0m\n\u001b[0;32m     19\u001b[0m         \u001b[0mdf2\u001b[0m\u001b[1;33m[\u001b[0m\u001b[1;34m'Box Score'\u001b[0m\u001b[1;33m]\u001b[0m\u001b[1;33m=\u001b[0m\u001b[0mdf2\u001b[0m\u001b[1;33m[\u001b[0m\u001b[1;34m'Box Score'\u001b[0m\u001b[1;33m]\u001b[0m\u001b[1;33m.\u001b[0m\u001b[0mstr\u001b[0m\u001b[1;33m.\u001b[0m\u001b[0msplit\u001b[0m\u001b[1;33m(\u001b[0m\u001b[1;33m)\u001b[0m\u001b[1;33m\u001b[0m\u001b[1;33m\u001b[0m\u001b[0m\n\u001b[0;32m     20\u001b[0m         \u001b[0mdf2\u001b[0m\u001b[1;33m[\u001b[0m\u001b[1;34m'Unnamed: 9'\u001b[0m\u001b[1;33m]\u001b[0m\u001b[1;33m=\u001b[0m\u001b[0mdf2\u001b[0m\u001b[1;33m[\u001b[0m\u001b[1;34m'Unnamed: 9'\u001b[0m\u001b[1;33m]\u001b[0m\u001b[1;33m.\u001b[0m\u001b[0mstr\u001b[0m\u001b[1;33m.\u001b[0m\u001b[0msplit\u001b[0m\u001b[1;33m(\u001b[0m\u001b[1;33m)\u001b[0m\u001b[1;33m\u001b[0m\u001b[1;33m\u001b[0m\u001b[0m\n\u001b[1;32m---> 21\u001b[1;33m         \u001b[0mdf2\u001b[0m\u001b[1;33m[\u001b[0m\u001b[1;34m'Unnamed: 11'\u001b[0m\u001b[1;33m]\u001b[0m\u001b[1;33m=\u001b[0m\u001b[0mdf2\u001b[0m\u001b[1;33m[\u001b[0m\u001b[1;34m'Unnamed: 11'\u001b[0m\u001b[1;33m]\u001b[0m\u001b[1;33m.\u001b[0m\u001b[0mstr\u001b[0m\u001b[1;33m.\u001b[0m\u001b[0msplit\u001b[0m\u001b[1;33m(\u001b[0m\u001b[1;33m)\u001b[0m\u001b[1;33m\u001b[0m\u001b[1;33m\u001b[0m\u001b[0m\n\u001b[0m\u001b[0;32m     22\u001b[0m \u001b[1;33m\u001b[0m\u001b[0m\n\u001b[0;32m     23\u001b[0m         \u001b[1;31m# continue to clean\u001b[0m\u001b[1;33m\u001b[0m\u001b[1;33m\u001b[0m\u001b[1;33m\u001b[0m\u001b[0m\n",
      "\u001b[1;32mD:\\anaconda3\\lib\\site-packages\\pandas\\core\\frame.py\u001b[0m in \u001b[0;36m__getitem__\u001b[1;34m(self, key)\u001b[0m\n\u001b[0;32m   2900\u001b[0m             \u001b[1;32mif\u001b[0m \u001b[0mself\u001b[0m\u001b[1;33m.\u001b[0m\u001b[0mcolumns\u001b[0m\u001b[1;33m.\u001b[0m\u001b[0mnlevels\u001b[0m \u001b[1;33m>\u001b[0m \u001b[1;36m1\u001b[0m\u001b[1;33m:\u001b[0m\u001b[1;33m\u001b[0m\u001b[1;33m\u001b[0m\u001b[0m\n\u001b[0;32m   2901\u001b[0m                 \u001b[1;32mreturn\u001b[0m \u001b[0mself\u001b[0m\u001b[1;33m.\u001b[0m\u001b[0m_getitem_multilevel\u001b[0m\u001b[1;33m(\u001b[0m\u001b[0mkey\u001b[0m\u001b[1;33m)\u001b[0m\u001b[1;33m\u001b[0m\u001b[1;33m\u001b[0m\u001b[0m\n\u001b[1;32m-> 2902\u001b[1;33m             \u001b[0mindexer\u001b[0m \u001b[1;33m=\u001b[0m \u001b[0mself\u001b[0m\u001b[1;33m.\u001b[0m\u001b[0mcolumns\u001b[0m\u001b[1;33m.\u001b[0m\u001b[0mget_loc\u001b[0m\u001b[1;33m(\u001b[0m\u001b[0mkey\u001b[0m\u001b[1;33m)\u001b[0m\u001b[1;33m\u001b[0m\u001b[1;33m\u001b[0m\u001b[0m\n\u001b[0m\u001b[0;32m   2903\u001b[0m             \u001b[1;32mif\u001b[0m \u001b[0mis_integer\u001b[0m\u001b[1;33m(\u001b[0m\u001b[0mindexer\u001b[0m\u001b[1;33m)\u001b[0m\u001b[1;33m:\u001b[0m\u001b[1;33m\u001b[0m\u001b[1;33m\u001b[0m\u001b[0m\n\u001b[0;32m   2904\u001b[0m                 \u001b[0mindexer\u001b[0m \u001b[1;33m=\u001b[0m \u001b[1;33m[\u001b[0m\u001b[0mindexer\u001b[0m\u001b[1;33m]\u001b[0m\u001b[1;33m\u001b[0m\u001b[1;33m\u001b[0m\u001b[0m\n",
      "\u001b[1;32mD:\\anaconda3\\lib\\site-packages\\pandas\\core\\indexes\\base.py\u001b[0m in \u001b[0;36mget_loc\u001b[1;34m(self, key, method, tolerance)\u001b[0m\n\u001b[0;32m   2895\u001b[0m                 \u001b[1;32mreturn\u001b[0m \u001b[0mself\u001b[0m\u001b[1;33m.\u001b[0m\u001b[0m_engine\u001b[0m\u001b[1;33m.\u001b[0m\u001b[0mget_loc\u001b[0m\u001b[1;33m(\u001b[0m\u001b[0mcasted_key\u001b[0m\u001b[1;33m)\u001b[0m\u001b[1;33m\u001b[0m\u001b[1;33m\u001b[0m\u001b[0m\n\u001b[0;32m   2896\u001b[0m             \u001b[1;32mexcept\u001b[0m \u001b[0mKeyError\u001b[0m \u001b[1;32mas\u001b[0m \u001b[0merr\u001b[0m\u001b[1;33m:\u001b[0m\u001b[1;33m\u001b[0m\u001b[1;33m\u001b[0m\u001b[0m\n\u001b[1;32m-> 2897\u001b[1;33m                 \u001b[1;32mraise\u001b[0m \u001b[0mKeyError\u001b[0m\u001b[1;33m(\u001b[0m\u001b[0mkey\u001b[0m\u001b[1;33m)\u001b[0m \u001b[1;32mfrom\u001b[0m \u001b[0merr\u001b[0m\u001b[1;33m\u001b[0m\u001b[1;33m\u001b[0m\u001b[0m\n\u001b[0m\u001b[0;32m   2898\u001b[0m \u001b[1;33m\u001b[0m\u001b[0m\n\u001b[0;32m   2899\u001b[0m         \u001b[1;32mif\u001b[0m \u001b[0mtolerance\u001b[0m \u001b[1;32mis\u001b[0m \u001b[1;32mnot\u001b[0m \u001b[1;32mNone\u001b[0m\u001b[1;33m:\u001b[0m\u001b[1;33m\u001b[0m\u001b[1;33m\u001b[0m\u001b[0m\n",
      "\u001b[1;31mKeyError\u001b[0m: 'Unnamed: 11'"
     ]
    }
   ]
  },
  {
   "cell_type": "code",
   "metadata": {
    "cell_id": "00009-5b1759f1-a104-49a8-9795-fe056ce854a8",
    "deepnote_cell_type": "code",
    "deepnote_cell_height": 66.453125
   },
   "source": "",
   "execution_count": null,
   "outputs": []
  },
  {
   "cell_type": "markdown",
   "source": "<a style='text-decoration:none;line-height:16px;display:flex;color:#5B5B62;padding:10px;justify-content:end;' href='https://deepnote.com?utm_source=created-in-deepnote-cell&projectId=9ef4eb23-f38f-47e8-bfb0-51d8616b0dee' target=\"_blank\">\n<img alt='Created in deepnote.com' style='display:inline;max-height:16px;margin:0px;margin-right:7.5px;' src='data:image/svg+xml;base64,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' > </img>\nCreated in <span style='font-weight:600;margin-left:4px;'>Deepnote</span></a>",
   "metadata": {
    "tags": [],
    "created_in_deepnote_cell": true,
    "deepnote_cell_type": "markdown"
   }
  }
 ],
 "nbformat": 4,
 "nbformat_minor": 2,
 "metadata": {
  "interpreter": {
   "hash": "49cb93f377a7abe7414b7b0f21fb3017538004a126cf690fb524202736b7fb92"
  },
  "kernelspec": {
   "display_name": "Python 3.8.5 ('base')",
   "language": "python",
   "name": "python3"
  },
  "language_info": {
   "codemirror_mode": {
    "name": "ipython",
    "version": 3
   },
   "file_extension": ".py",
   "mimetype": "text/x-python",
   "name": "python",
   "nbconvert_exporter": "python",
   "pygments_lexer": "ipython3",
   "version": "3.8.5"
  },
  "orig_nbformat": 4,
  "deepnote_notebook_id": "5648f8c5-e689-4716-9549-f81b6272e17a",
  "deepnote": {},
  "deepnote_execution_queue": []
 }
}