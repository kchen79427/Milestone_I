{
 "cells": [
  {
   "cell_type": "code",
   "metadata": {
    "cell_id": "be7502e1-d5be-4542-ab0f-d97c66992aba",
    "owner_user_id": "dbcfdc03-cb41-42df-88d8-3fffbb8930b7",
    "deepnote_cell_type": "code",
    "deepnote_cell_height": 426.453125
   },
   "source": "# scrap PDF loop data from toby christie's site\n# https://tobychristie.com/loop-data-2021-nascar-cup-series/\"\n# this is v2 of the scraper because there is a different pattern of PDF that tabula could output\n# this works for most of the PDFs from the 2021 and 2022 cup series data\n\n# skip to the last cell and execute, \n# if you get an error then go through each cell to see what is going on\n# likely issues with the merged columns.\n\n# tabula is the library that reads in searchable PDFs\n# documentation: https://tabula-py.readthedocs.io/en/latest/getting_started.html\n\n# raw data can be found here: /data/lap_data\n\nimport tabula\nimport pandas as pd\nfrom tabula import read_pdf\nHEADERS=['Car','Driver','AvgStart','AvgMidRace','AvgFinish','Avg Pos','LapsLed','PercentLapsLed','TotalLaps','DriverRating','Pts','PassDiff','GreenPass','GreenPassed','QualityPasses','PercentQualityPasses','NumFastestLaps','LapsinTop15','PercentLapsTop15']\ndata_location=r\".\\SIADS591_592_Milestone1\\Milestone_I\\Milestone_I\\data\\loop_TobyChristie\\pdf\\2022\\LD12211_POST_POSTBOOK.pdf\"\ndf=read_pdf(data_location,pages='1')\n",
   "execution_count": null,
   "outputs": []
  },
  {
   "cell_type": "code",
   "metadata": {
    "cell_id": "00001-ef241205-4321-4612-ad21-bcf5e8a4251e",
    "deepnote_cell_type": "code",
    "deepnote_cell_height": 440.5625,
    "deepnote_output_heights": [
     324.859375
    ]
   },
   "source": "# preview uncleaned data\n# df[0].head(10)",
   "execution_count": null,
   "outputs": [
    {
     "data": {
      "text/html": "<div>\n<style scoped>\n    .dataframe tbody tr th:only-of-type {\n        vertical-align: middle;\n    }\n\n    .dataframe tbody tr th {\n        vertical-align: top;\n    }\n\n    .dataframe thead th {\n        text-align: right;\n    }\n</style>\n<table border=\"1\" class=\"dataframe\">\n  <thead>\n    <tr style=\"text-align: right;\">\n      <th></th>\n      <th>Unnamed: 0</th>\n      <th>Unnamed: 1</th>\n      <th>Unnamed: 2</th>\n      <th>Unnamed: 3</th>\n      <th>Unnamed: 4</th>\n      <th>Unnamed: 5</th>\n      <th>Unnamed: 6</th>\n      <th>Box Score</th>\n      <th>Unnamed: 7</th>\n      <th>Unnamed: 8</th>\n      <th>Unnamed: 9</th>\n    </tr>\n  </thead>\n  <tbody>\n    <tr>\n      <th>0</th>\n      <td>NaN</td>\n      <td>NaN</td>\n      <td>NaN</td>\n      <td>NaN</td>\n      <td>NaN</td>\n      <td>NaN</td>\n      <td>NaN</td>\n      <td>Dover Motor Speedway</td>\n      <td>NaN</td>\n      <td>NaN</td>\n      <td>NaN</td>\n    </tr>\n    <tr>\n      <th>1</th>\n      <td>NaN</td>\n      <td>NaN</td>\n      <td>NaN</td>\n      <td>NaN</td>\n      <td>NaN</td>\n      <td>NaN</td>\n      <td>NaN</td>\n      <td>DuraMAX Drydene 400 presented by RelaDyne</td>\n      <td>NaN</td>\n      <td>NaN</td>\n      <td>NaN</td>\n    </tr>\n    <tr>\n      <th>2</th>\n      <td>NaN</td>\n      <td>NaN</td>\n      <td>NaN</td>\n      <td>NaN</td>\n      <td>NaN</td>\n      <td>NaN</td>\n      <td>NaN</td>\n      <td>Provided by NASCAR Statistics at 5/2/2022 4:39...</td>\n      <td>NaN</td>\n      <td>NaN</td>\n      <td>NaN</td>\n    </tr>\n    <tr>\n      <th>3</th>\n      <td>NaN</td>\n      <td>NaN</td>\n      <td>NaN</td>\n      <td>NaN</td>\n      <td>NaN</td>\n      <td>NaN</td>\n      <td>NaN</td>\n      <td>NaN</td>\n      <td>NaN</td>\n      <td>NaN</td>\n      <td>Green Flag Passes For Lead:2</td>\n    </tr>\n    <tr>\n      <th>4</th>\n      <td>Car</td>\n      <td>Driver</td>\n      <td>Start</td>\n      <td>Mid</td>\n      <td>Closer</td>\n      <td>Finish</td>\n      <td>High</td>\n      <td>Low Avg Pass Green Green Quality % Quality # F...</td>\n      <td>Laps in % Laps in</td>\n      <td>Laps</td>\n      <td>% Laps Total Driver Pts</td>\n    </tr>\n    <tr>\n      <th>5</th>\n      <td>NaN</td>\n      <td>NaN</td>\n      <td>Pos</td>\n      <td>Race</td>\n      <td>Pos</td>\n      <td>Pos</td>\n      <td>Pos</td>\n      <td>Pos Pos Diff Pass Passed Passes Passes Laps</td>\n      <td>Top 15 Top 15</td>\n      <td>Led</td>\n      <td>Led Laps Rating</td>\n    </tr>\n    <tr>\n      <th>6</th>\n      <td>9</td>\n      <td>Chase Elliott</td>\n      <td>4</td>\n      <td>8</td>\n      <td>1</td>\n      <td>1</td>\n      <td>1</td>\n      <td>20 4.1 11 33 22 32 96.97 33</td>\n      <td>399 99.8</td>\n      <td>73</td>\n      <td>18.3 400 132.8 50</td>\n    </tr>\n    <tr>\n      <th>7</th>\n      <td>47</td>\n      <td>Ricky Stenhouse Jr</td>\n      <td>15</td>\n      <td>16</td>\n      <td>2</td>\n      <td>2</td>\n      <td>2</td>\n      <td>19 8.9 21 59 38 52 88.14 8</td>\n      <td>376 94.0</td>\n      <td>0</td>\n      <td>0.0 400 102.8 41</td>\n    </tr>\n    <tr>\n      <th>8</th>\n      <td>1</td>\n      <td>Ross Chastain</td>\n      <td>7</td>\n      <td>10</td>\n      <td>3</td>\n      <td>3</td>\n      <td>1</td>\n      <td>20 4.7 14 43 29 42 97.67 38</td>\n      <td>397 99.3</td>\n      <td>86</td>\n      <td>21.5 400 125.2 46</td>\n    </tr>\n    <tr>\n      <th>9</th>\n      <td>20</td>\n      <td>Christopher Bell</td>\n      <td>17</td>\n      <td>30</td>\n      <td>5</td>\n      <td>4</td>\n      <td>2</td>\n      <td>32 15.3 -2 48 50 18 37.5 13</td>\n      <td>206 51.5</td>\n      <td>0</td>\n      <td>0.0 400 91.5 41</td>\n    </tr>\n  </tbody>\n</table>\n</div>",
      "text/plain": "  Unnamed: 0          Unnamed: 1 Unnamed: 2 Unnamed: 3 Unnamed: 4 Unnamed: 5  \\\n0        NaN                 NaN        NaN        NaN        NaN        NaN   \n1        NaN                 NaN        NaN        NaN        NaN        NaN   \n2        NaN                 NaN        NaN        NaN        NaN        NaN   \n3        NaN                 NaN        NaN        NaN        NaN        NaN   \n4        Car              Driver      Start        Mid     Closer     Finish   \n5        NaN                 NaN        Pos       Race        Pos        Pos   \n6          9       Chase Elliott          4          8          1          1   \n7         47  Ricky Stenhouse Jr         15         16          2          2   \n8          1       Ross Chastain          7         10          3          3   \n9         20    Christopher Bell         17         30          5          4   \n\n  Unnamed: 6                                          Box Score  \\\n0        NaN                               Dover Motor Speedway   \n1        NaN          DuraMAX Drydene 400 presented by RelaDyne   \n2        NaN  Provided by NASCAR Statistics at 5/2/2022 4:39...   \n3        NaN                                                NaN   \n4       High  Low Avg Pass Green Green Quality % Quality # F...   \n5        Pos        Pos Pos Diff Pass Passed Passes Passes Laps   \n6          1                        20 4.1 11 33 22 32 96.97 33   \n7          2                         19 8.9 21 59 38 52 88.14 8   \n8          1                        20 4.7 14 43 29 42 97.67 38   \n9          2                        32 15.3 -2 48 50 18 37.5 13   \n\n          Unnamed: 7 Unnamed: 8                    Unnamed: 9  \n0                NaN        NaN                           NaN  \n1                NaN        NaN                           NaN  \n2                NaN        NaN                           NaN  \n3                NaN        NaN  Green Flag Passes For Lead:2  \n4  Laps in % Laps in       Laps       % Laps Total Driver Pts  \n5      Top 15 Top 15        Led               Led Laps Rating  \n6           399 99.8         73             18.3 400 132.8 50  \n7           376 94.0          0              0.0 400 102.8 41  \n8           397 99.3         86             21.5 400 125.2 46  \n9           206 51.5          0               0.0 400 91.5 41  "
     },
     "execution_count": 3,
     "metadata": {},
     "output_type": "execute_result"
    }
   ]
  },
  {
   "cell_type": "code",
   "metadata": {
    "cell_id": "00002-400e5706-7dd4-4c95-b8ea-0215469a21d9",
    "deepnote_cell_type": "code",
    "deepnote_cell_height": 549.6875
   },
   "source": "# dataframe cleanup steps:\n# 1. removed extra header information\ndf2=df[0].iloc[5:]\n# 2. handling merged columns \ndf2['Box Score']=df2['Box Score'].str.split()\ndf2['Unnamed: 7']=df2['Unnamed: 7'].str.split()\ndf2['Unnamed: 9']=df2['Unnamed: 9'].str.split()",
   "execution_count": null,
   "outputs": [
    {
     "name": "stderr",
     "output_type": "stream",
     "text": "<ipython-input-4-c4d1a71ad317>:2: SettingWithCopyWarning: \nA value is trying to be set on a copy of a slice from a DataFrame.\nTry using .loc[row_indexer,col_indexer] = value instead\n\nSee the caveats in the documentation: https://pandas.pydata.org/pandas-docs/stable/user_guide/indexing.html#returning-a-view-versus-a-copy\n  df2['Box Score']=df2['Box Score'].str.split()\n<ipython-input-4-c4d1a71ad317>:3: SettingWithCopyWarning: \nA value is trying to be set on a copy of a slice from a DataFrame.\nTry using .loc[row_indexer,col_indexer] = value instead\n\nSee the caveats in the documentation: https://pandas.pydata.org/pandas-docs/stable/user_guide/indexing.html#returning-a-view-versus-a-copy\n  df2['Unnamed: 7']=df2['Unnamed: 7'].str.split()\n<ipython-input-4-c4d1a71ad317>:4: SettingWithCopyWarning: \nA value is trying to be set on a copy of a slice from a DataFrame.\nTry using .loc[row_indexer,col_indexer] = value instead\n\nSee the caveats in the documentation: https://pandas.pydata.org/pandas-docs/stable/user_guide/indexing.html#returning-a-view-versus-a-copy\n  df2['Unnamed: 9']=df2['Unnamed: 9'].str.split()\n"
    }
   ]
  },
  {
   "cell_type": "code",
   "metadata": {
    "cell_id": "00003-163efe23-abb3-49c3-bc84-8ae690b9a343",
    "deepnote_cell_type": "code",
    "deepnote_cell_height": 66.453125
   },
   "source": "# df2.head()",
   "execution_count": null,
   "outputs": []
  },
  {
   "cell_type": "code",
   "metadata": {
    "cell_id": "00004-391f4781-b912-4146-b115-2e129f28fbc9",
    "deepnote_cell_type": "code",
    "deepnote_cell_height": 246.453125
   },
   "source": "#split merged columns into the respected columns, this information can be gathered from the PDF.\ndf3=pd.DataFrame(df2['Box Score'].tolist(), columns=['PassDiff','GreenPass','GreenPassed','QualityPasses','PercentQualityPasses','NumFastestLaps'])\ndf4=pd.DataFrame(df2['Unnamed: 6'].tolist(), columns=['LapsinTop15','PercentLapsTop15'])\n# resetting the index to prep for the concat\ndf2=df2[['Unnamed: 0', 'Unnamed: 1', 'Unnamed: 2', 'Unnamed: 3', 'Unnamed: 4',\n       'Unnamed: 5', 'Unnamed: 7', 'Unnamed: 8',\n       'Unnamed: 9', 'Unnamed: 10', 'Unnamed: 11']]\ndf2=df2.reset_index(drop=True)\n# combine the split up columns with the properly parsed columns\ndf_final=pd.concat([df2,df3,df4],axis=1)\ndf_final.columns=HEADERS",
   "execution_count": null,
   "outputs": []
  },
  {
   "cell_type": "code",
   "metadata": {
    "cell_id": "00005-c655c937-5174-4166-a6f0-bdf293e0e670",
    "deepnote_cell_type": "code",
    "deepnote_cell_height": 84.46875
   },
   "source": "# double checking\n# df_final.head(2)",
   "execution_count": null,
   "outputs": []
  },
  {
   "cell_type": "code",
   "metadata": {
    "cell_id": "00006-294b065b-7595-447e-ba79-8cad84fc5227",
    "deepnote_cell_type": "code",
    "deepnote_cell_height": 102.453125
   },
   "source": "# final output\ndf_final.to_csv(r'.\\SIADS591_592_Milestone1\\Milestone_I\\data\\loop_TobyChristie\\csv\\2021\\{}.csv'.format(fname_year+fname_month+fname_day+'_'+fname_track),index=False)\n",
   "execution_count": null,
   "outputs": []
  },
  {
   "cell_type": "code",
   "metadata": {
    "cell_id": "00007-5fcaf0c8-381d-4ed8-bf56-14c2f42b98e0",
    "deepnote_cell_type": "code",
    "deepnote_cell_height": 948.46875
   },
   "source": "# put it all together and loopiong through a directory where the downloaded PDFs are.\nimport tabula\nimport pandas as pd\nimport re\nfrom tabula import read_pdf\nHEADERS_1=[\"Car\",\"Driver\",\"StartPos\",\"MidRace\",\"CloserPos\",\"FinishPos\",\"HighPos\",\"LowPos\", \"NumFastestLaps\", \"LapsLed\", \"AvgPos\",\"PassDiff\",\"GreenPass\",\"GreenPassed\",\"QualityPasses\",\"PercentQualityPasses\", \"LapsTop15\",\"PercentLapsTop15\", \"PercentLapsLed\", \"TotalLaps\",\"DriverRating\",\"Pts\"]\nHEADERS_2=[\"Car\",\"Driver\",\"StartPos\",\"MidRace\",\"CloserPos\",\"FinishPos\",\"HighPos\",\"LowPos\",\"AvgPos\",\"PassDiff\",\"GreenPass\",\"GreenPassed\",\"QualityPasses\",\"PercentQualityPasses\",\"NumFastestLaps\",\"LapsTop15\",\"PercentLapsTop15\",\"LapsLed\",\"PercentLapsLed\",\"TotalLaps\",\"DriverRating\",\"Pts\"]\n\n\n# loop through the whole directory\ndirectory=r'.\\SIADS591_592_Milestone1\\Milestone_I\\Milestone_I\\data\\loop_TobyChristie\\pdf\\2022'\nfor filename in os.listdir(directory):\n    f = os.path.join(directory, filename)\n    # checking if it is a file\n    if os.path.isfile(f):\n        # read in data\n        df=read_pdf(f,pages='1')\n        # get the file name info\n        fname_track=df[0]['Box Score'][0].replace(\" \",\"\")\n        date_text=df[0]['Box Score'][2]\n        pattern=r'(\\d*)/(\\d*)/(\\d*)'\n        fname_year=re.search(pattern,date_text).group(3)\n        fname_day=re.search(pattern,date_text).group(2).zfill(2)\n        fname_month=re.search(pattern,date_text).group(1).zfill(2)\n        # getting the data cleaned up\n        print(f)\n        # dataframe cleanup steps:\n        # 1. removed extra header information\n        df2=df[0].iloc[5:]\n        # 2. handling merged columns \n        df2['Box Score']=df2['Box Score'].str.split()\n        df2['Unnamed: 7']=df2['Unnamed: 7'].str.split()\n        df2['Unnamed: 9']=df2['Unnamed: 9'].str.split()\n\n        #split merged columns into the respected columns, this information can be gathered from the PDF.\n        df3=pd.DataFrame(df2['Box Score'].tolist(), columns=['PassDiff','GreenPass','GreenPassed','QualityPasses','PercentQualityPasses','NumFastestLaps'])\n        df4=pd.DataFrame(df2['Unnamed: 6'].tolist(), columns=['LapsinTop15','PercentLapsTop15'])\n        # resetting the index to prep for the concat\n        df2=df2[['Unnamed: 0', 'Unnamed: 1', 'Unnamed: 2', 'Unnamed: 3', 'Unnamed: 4',\n            'Unnamed: 5', 'Unnamed: 7', 'Unnamed: 8',\n            'Unnamed: 9', 'Unnamed: 10', 'Unnamed: 11']]\n        df2=df2.reset_index(drop=True)\n        # combine the split up columns with the properly parsed columns\n        df_final=pd.concat([df2,df3,df4],axis=1)\n        df_final.columns=HEADERS\n\n\n        # output the data\n        df_final.to_csv(r'.\\SIADS591_592_Milestone1\\Milestone_I\\Milestone_I\\data\\loop_TobyChristie\\csv\\2022\\{}.csv'.format(fname_year+fname_month+fname_day+'_'+fname_track),index=False)\n",
   "execution_count": null,
   "outputs": []
  },
  {
   "cell_type": "markdown",
   "source": "<a style='text-decoration:none;line-height:16px;display:flex;color:#5B5B62;padding:10px;justify-content:end;' href='https://deepnote.com?utm_source=created-in-deepnote-cell&projectId=9ef4eb23-f38f-47e8-bfb0-51d8616b0dee' target=\"_blank\">\n<img alt='Created in deepnote.com' style='display:inline;max-height:16px;margin:0px;margin-right:7.5px;' src='data:image/svg+xml;base64,PD94bWwgdmVyc2lvbj0iMS4wIiBlbmNvZGluZz0iVVRGLTgiPz4KPHN2ZyB3aWR0aD0iODBweCIgaGVpZ2h0PSI4MHB4IiB2aWV3Qm94PSIwIDAgODAgODAiIHZlcnNpb249IjEuMSIgeG1sbnM9Imh0dHA6Ly93d3cudzMub3JnLzIwMDAvc3ZnIiB4bWxuczp4bGluaz0iaHR0cDovL3d3dy53My5vcmcvMTk5OS94bGluayI+CiAgICA8IS0tIEdlbmVyYXRvcjogU2tldGNoIDU0LjEgKDc2NDkwKSAtIGh0dHBzOi8vc2tldGNoYXBwLmNvbSAtLT4KICAgIDx0aXRsZT5Hcm91cCAzPC90aXRsZT4KICAgIDxkZXNjPkNyZWF0ZWQgd2l0aCBTa2V0Y2guPC9kZXNjPgogICAgPGcgaWQ9IkxhbmRpbmciIHN0cm9rZT0ibm9uZSIgc3Ryb2tlLXdpZHRoPSIxIiBmaWxsPSJub25lIiBmaWxsLXJ1bGU9ImV2ZW5vZGQiPgogICAgICAgIDxnIGlkPSJBcnRib2FyZCIgdHJhbnNmb3JtPSJ0cmFuc2xhdGUoLTEyMzUuMDAwMDAwLCAtNzkuMDAwMDAwKSI+CiAgICAgICAgICAgIDxnIGlkPSJHcm91cC0zIiB0cmFuc2Zvcm09InRyYW5zbGF0ZSgxMjM1LjAwMDAwMCwgNzkuMDAwMDAwKSI+CiAgICAgICAgICAgICAgICA8cG9seWdvbiBpZD0iUGF0aC0yMCIgZmlsbD0iIzAyNjVCNCIgcG9pbnRzPSIyLjM3NjIzNzYyIDgwIDM4LjA0NzY2NjcgODAgNTcuODIxNzgyMiA3My44MDU3NTkyIDU3LjgyMTc4MjIgMzIuNzU5MjczOSAzOS4xNDAyMjc4IDMxLjY4MzE2ODMiPjwvcG9seWdvbj4KICAgICAgICAgICAgICAgIDxwYXRoIGQ9Ik0zNS4wMDc3MTgsODAgQzQyLjkwNjIwMDcsNzYuNDU0OTM1OCA0Ny41NjQ5MTY3LDcxLjU0MjI2NzEgNDguOTgzODY2LDY1LjI2MTk5MzkgQzUxLjExMjI4OTksNTUuODQxNTg0MiA0MS42NzcxNzk1LDQ5LjIxMjIyODQgMjUuNjIzOTg0Niw0OS4yMTIyMjg0IEMyNS40ODQ5Mjg5LDQ5LjEyNjg0NDggMjkuODI2MTI5Niw0My4yODM4MjQ4IDM4LjY0NzU4NjksMzEuNjgzMTY4MyBMNzIuODcxMjg3MSwzMi41NTQ0MjUgTDY1LjI4MDk3Myw2Ny42NzYzNDIxIEw1MS4xMTIyODk5LDc3LjM3NjE0NCBMMzUuMDA3NzE4LDgwIFoiIGlkPSJQYXRoLTIyIiBmaWxsPSIjMDAyODY4Ij48L3BhdGg+CiAgICAgICAgICAgICAgICA8cGF0aCBkPSJNMCwzNy43MzA0NDA1IEwyNy4xMTQ1MzcsMC4yNTcxMTE0MzYgQzYyLjM3MTUxMjMsLTEuOTkwNzE3MDEgODAsMTAuNTAwMzkyNyA4MCwzNy43MzA0NDA1IEM4MCw2NC45NjA0ODgyIDY0Ljc3NjUwMzgsNzkuMDUwMzQxNCAzNC4zMjk1MTEzLDgwIEM0Ny4wNTUzNDg5LDc3LjU2NzA4MDggNTMuNDE4MjY3Nyw3MC4zMTM2MTAzIDUzLjQxODI2NzcsNTguMjM5NTg4NSBDNTMuNDE4MjY3Nyw0MC4xMjg1NTU3IDM2LjMwMzk1NDQsMzcuNzMwNDQwNSAyNS4yMjc0MTcsMzcuNzMwNDQwNSBDMTcuODQzMDU4NiwzNy43MzA0NDA1IDkuNDMzOTE5NjYsMzcuNzMwNDQwNSAwLDM3LjczMDQ0MDUgWiIgaWQ9IlBhdGgtMTkiIGZpbGw9IiMzNzkzRUYiPjwvcGF0aD4KICAgICAgICAgICAgPC9nPgogICAgICAgIDwvZz4KICAgIDwvZz4KPC9zdmc+' > </img>\nCreated in <span style='font-weight:600;margin-left:4px;'>Deepnote</span></a>",
   "metadata": {
    "tags": [],
    "created_in_deepnote_cell": true,
    "deepnote_cell_type": "markdown"
   }
  }
 ],
 "nbformat": 4,
 "nbformat_minor": 2,
 "metadata": {
  "interpreter": {
   "hash": "49cb93f377a7abe7414b7b0f21fb3017538004a126cf690fb524202736b7fb92"
  },
  "kernelspec": {
   "display_name": "Python 3.8.5 ('base')",
   "language": "python",
   "name": "python3"
  },
  "language_info": {
   "codemirror_mode": {
    "name": "ipython",
    "version": 3
   },
   "file_extension": ".py",
   "mimetype": "text/x-python",
   "name": "python",
   "nbconvert_exporter": "python",
   "pygments_lexer": "ipython3",
   "version": "3.8.5"
  },
  "orig_nbformat": 4,
  "deepnote_notebook_id": "aa0b2459-80ae-42fe-a400-39ff067cf13c",
  "deepnote": {},
  "deepnote_execution_queue": []
 }
}