{
 "cells": [
  {
   "cell_type": "code",
   "metadata": {
    "cell_id": "cc56806f-c408-406a-a2b9-cf0da33456aa",
    "deepnote_to_be_reexecuted": false,
    "source_hash": "165d1041",
    "execution_start": 1653428956538,
    "execution_millis": 1,
    "owner_user_id": "dbcfdc03-cb41-42df-88d8-3fffbb8930b7",
    "deepnote_cell_type": "code",
    "deepnote_cell_height": 513.46875
   },
   "source": "# scrap PDF loop data from toby christie's site\n# https://tobychristie.com/loop-data-2021-nascar-cup-series/\"\n# this is v2 of the scraper because there is a different pattern of PDF that tabula could output\n# this works for most of the PDFs from the 2021 and 2022 cup series data\n\n# skip to the last cell and execute, \n# if you get an error then go through each cell to see what is going on\n# likely issues with the merged columns.\n\n# tabula is the library that reads in searchable PDFs\n# documentation: https://tabula-py.readthedocs.io/en/latest/getting_started.html\n\n# raw data can be found here: /data/lap_data\n\nimport tabula\nimport pandas as pd\nimport re\n# from tabula import read_pdf\nHEADERS_1=[\"Car\",\"Driver\",\"StartPos\",\"MidRace\",\"CloserPos\",\"FinishPos\",\"HighPos\",\"LowPos\", \"NumFastestLaps\", \"LapsLed\", \"AvgPos\",\"PassDiff\",\"GreenPass\",\"GreenPassed\",\"QualityPasses\",\"PercentQualityPasses\", \"LapsTop15\",\"PercentLapsTop15\", \"PercentLapsLed\", \"TotalLaps\",\"DriverRating\",\"Pts\"]\nHEADERS_2=[\"Car\",\"Driver\",\"StartPos\",\"MidRace\",\"CloserPos\",\"FinishPos\",\"HighPos\",\"LowPos\",\"AvgPos\",\"PassDiff\",\"GreenPass\",\"GreenPassed\",\"QualityPasses\",\"PercentQualityPasses\",\"NumFastestLaps\",\"LapsTop15\",\"PercentLapsTop15\",\"LapsLed\",\"PercentLapsLed\",\"TotalLaps\",\"DriverRating\",\"Pts\"]\ndata_location=r\".\\SIADS591_592_Milestone1\\Milestone_I\\Milestone_I\\data\\loop_TobyChristie\\pdf\\2022\\LD12212_POST_POSTBOOK.pdf\"\ndata_location=r'/work/Milestone_I/data/loop_TobyChristie/pdf/2022/LD12213_POST_POSTBOOK.pdf'\ndf=read_pdf(data_location,pages='1')\n\n",
   "outputs": [],
   "execution_count": null
  },
  {
   "cell_type": "code",
   "metadata": {
    "cell_id": "00001-913043a4-6564-4561-a3cc-17d7eda94cfd",
    "deepnote_cell_type": "code",
    "deepnote_cell_height": 84.46875
   },
   "source": "# preview uncleaned data\n# df[0].head(10)",
   "execution_count": null,
   "outputs": []
  },
  {
   "cell_type": "code",
   "metadata": {
    "cell_id": "00002-6366f778-57a7-49cf-84c6-3c948be3924c",
    "deepnote_cell_type": "code",
    "deepnote_cell_height": 174.46875
   },
   "source": "# extract the race date and race track names for csv output\nfname_track=df[0]['Box Score'][0].replace(\" \",\"\")\ndate_text=df[0]['Box Score'][2]\npattern=r'(\\d*)/(\\d*)/(\\d*)'\nfname_year=re.search(pattern,date_text).group(3)\nfname_day=re.search(pattern,date_text).group(2).zfill(2)\nfname_month=re.search(pattern,date_text).group(1).zfill(2)",
   "execution_count": null,
   "outputs": []
  },
  {
   "cell_type": "code",
   "metadata": {
    "cell_id": "00003-bb280dc9-d9c6-43ad-9d84-de33eb50d4fe",
    "deepnote_cell_type": "code",
    "deepnote_cell_height": 549.6875
   },
   "source": "# dataframe cleanup steps:\n# 1. removed extra header information\ndf2=df[0].iloc[6:]\n# 2. handling merged columns \ndf2['Box Score']=df2['Box Score'].str.split()\ndf2['Unnamed: 9']=df2['Unnamed: 9'].str.split()\ndf2['Unnamed: 11']=df2['Unnamed: 11'].str.split()",
   "execution_count": null,
   "outputs": [
    {
     "name": "stderr",
     "output_type": "stream",
     "text": "<ipython-input-59-c9aad1a1a6b7>:3: SettingWithCopyWarning: \nA value is trying to be set on a copy of a slice from a DataFrame.\nTry using .loc[row_indexer,col_indexer] = value instead\n\nSee the caveats in the documentation: https://pandas.pydata.org/pandas-docs/stable/user_guide/indexing.html#returning-a-view-versus-a-copy\n  df2['Box Score']=df2['Box Score'].str.split()\n<ipython-input-59-c9aad1a1a6b7>:4: SettingWithCopyWarning: \nA value is trying to be set on a copy of a slice from a DataFrame.\nTry using .loc[row_indexer,col_indexer] = value instead\n\nSee the caveats in the documentation: https://pandas.pydata.org/pandas-docs/stable/user_guide/indexing.html#returning-a-view-versus-a-copy\n  df2['Unnamed: 9']=df2['Unnamed: 9'].str.split()\n<ipython-input-59-c9aad1a1a6b7>:5: SettingWithCopyWarning: \nA value is trying to be set on a copy of a slice from a DataFrame.\nTry using .loc[row_indexer,col_indexer] = value instead\n\nSee the caveats in the documentation: https://pandas.pydata.org/pandas-docs/stable/user_guide/indexing.html#returning-a-view-versus-a-copy\n  df2['Unnamed: 11']=df2['Unnamed: 11'].str.split()\n"
    }
   ]
  },
  {
   "cell_type": "code",
   "metadata": {
    "cell_id": "00004-05e2ebea-8b0f-4f8f-891c-3c5f554b54fd",
    "deepnote_cell_type": "code",
    "deepnote_cell_height": 66.453125
   },
   "source": "# df2.head()",
   "execution_count": null,
   "outputs": []
  },
  {
   "cell_type": "code",
   "metadata": {
    "cell_id": "00005-83a7883c-0045-4f60-b6f1-979b5a6981d2",
    "deepnote_cell_type": "code",
    "deepnote_cell_height": 342.859375
   },
   "source": "#split merged columns into the respected columns, this information can be gathered from the PDF.\ndf3=pd.DataFrame(df2['Box Score'].tolist(), columns=[\"AvgPos\",\"PassDiff\",\"GreenPass\",\"GreenPassed\",\"QualityPasses\",\"PercentQualityPasses\"])\ndf4=pd.DataFrame(df2['Unnamed: 9'].tolist(), columns=[\"LapsTop15\",\"PercentLapsTop15\"])\ndf5=pd.DataFrame(df2['Unnamed: 11'].tolist(), columns=[\"PercentLapsLed\", \"TotalLaps\",\"DriverRating\",\"Pts\"])\n# resetting the index to prep for the concat\ndf2=df2[['Unnamed: 0', 'Unnamed: 1', 'Unnamed: 2', 'Unnamed: 3', 'Unnamed: 4',\n       'Unnamed: 5', 'Unnamed: 6','Unnamed: 7', 'Unnamed: 8','Unnamed: 10']].reset_index(drop=True)\n# combine the split up columns with the properly parsed columns\ndf_final=pd.concat([df2,df3,df4,df5],axis=1)\ndf_final.columns=HEADERS_1\ndf_final=df_final[HEADERS_2]\n",
   "execution_count": null,
   "outputs": [
    {
     "ename": "NameError",
     "evalue": "name 'pd' is not defined",
     "output_type": "error",
     "traceback": [
      "\u001b[1;31m---------------------------------------------------------------------------\u001b[0m",
      "\u001b[1;31mNameError\u001b[0m                                 Traceback (most recent call last)",
      "\u001b[1;32m<ipython-input-4-d7226998eb62>\u001b[0m in \u001b[0;36m<module>\u001b[1;34m\u001b[0m\n\u001b[0;32m      1\u001b[0m \u001b[1;31m#split merged columns into the respected columns, this information can be gathered from the PDF.\u001b[0m\u001b[1;33m\u001b[0m\u001b[1;33m\u001b[0m\u001b[1;33m\u001b[0m\u001b[0m\n\u001b[1;32m----> 2\u001b[1;33m \u001b[0mdf3\u001b[0m\u001b[1;33m=\u001b[0m\u001b[0mpd\u001b[0m\u001b[1;33m.\u001b[0m\u001b[0mDataFrame\u001b[0m\u001b[1;33m(\u001b[0m\u001b[0mdf2\u001b[0m\u001b[1;33m[\u001b[0m\u001b[1;34m'Box Score'\u001b[0m\u001b[1;33m]\u001b[0m\u001b[1;33m.\u001b[0m\u001b[0mtolist\u001b[0m\u001b[1;33m(\u001b[0m\u001b[1;33m)\u001b[0m\u001b[1;33m,\u001b[0m \u001b[0mcolumns\u001b[0m\u001b[1;33m=\u001b[0m\u001b[1;33m[\u001b[0m\u001b[1;34m\"AvgPos\"\u001b[0m\u001b[1;33m,\u001b[0m\u001b[1;34m\"PassDiff\"\u001b[0m\u001b[1;33m,\u001b[0m\u001b[1;34m\"GreenPass\"\u001b[0m\u001b[1;33m,\u001b[0m\u001b[1;34m\"GreenPassed\"\u001b[0m\u001b[1;33m,\u001b[0m\u001b[1;34m\"QualityPasses\"\u001b[0m\u001b[1;33m,\u001b[0m\u001b[1;34m\"PercentQualityPasses\"\u001b[0m\u001b[1;33m]\u001b[0m\u001b[1;33m)\u001b[0m\u001b[1;33m\u001b[0m\u001b[1;33m\u001b[0m\u001b[0m\n\u001b[0m\u001b[0;32m      3\u001b[0m \u001b[0mdf4\u001b[0m\u001b[1;33m=\u001b[0m\u001b[0mpd\u001b[0m\u001b[1;33m.\u001b[0m\u001b[0mDataFrame\u001b[0m\u001b[1;33m(\u001b[0m\u001b[0mdf2\u001b[0m\u001b[1;33m[\u001b[0m\u001b[1;34m'Unnamed: 9'\u001b[0m\u001b[1;33m]\u001b[0m\u001b[1;33m.\u001b[0m\u001b[0mtolist\u001b[0m\u001b[1;33m(\u001b[0m\u001b[1;33m)\u001b[0m\u001b[1;33m,\u001b[0m \u001b[0mcolumns\u001b[0m\u001b[1;33m=\u001b[0m\u001b[1;33m[\u001b[0m\u001b[1;34m\"LapsTop15\"\u001b[0m\u001b[1;33m,\u001b[0m\u001b[1;34m\"PercentLapsTop15\"\u001b[0m\u001b[1;33m]\u001b[0m\u001b[1;33m)\u001b[0m\u001b[1;33m\u001b[0m\u001b[1;33m\u001b[0m\u001b[0m\n\u001b[0;32m      4\u001b[0m \u001b[0mdf5\u001b[0m\u001b[1;33m=\u001b[0m\u001b[0mpd\u001b[0m\u001b[1;33m.\u001b[0m\u001b[0mDataFrame\u001b[0m\u001b[1;33m(\u001b[0m\u001b[0mdf2\u001b[0m\u001b[1;33m[\u001b[0m\u001b[1;34m'Unnamed: 11'\u001b[0m\u001b[1;33m]\u001b[0m\u001b[1;33m.\u001b[0m\u001b[0mtolist\u001b[0m\u001b[1;33m(\u001b[0m\u001b[1;33m)\u001b[0m\u001b[1;33m,\u001b[0m \u001b[0mcolumns\u001b[0m\u001b[1;33m=\u001b[0m\u001b[1;33m[\u001b[0m\u001b[1;34m\"PercentLapsLed\"\u001b[0m\u001b[1;33m,\u001b[0m \u001b[1;34m\"TotalLaps\"\u001b[0m\u001b[1;33m,\u001b[0m\u001b[1;34m\"DriverRating\"\u001b[0m\u001b[1;33m,\u001b[0m\u001b[1;34m\"Pts\"\u001b[0m\u001b[1;33m]\u001b[0m\u001b[1;33m)\u001b[0m\u001b[1;33m\u001b[0m\u001b[1;33m\u001b[0m\u001b[0m\n",
      "\u001b[1;31mNameError\u001b[0m: name 'pd' is not defined"
     ]
    }
   ]
  },
  {
   "cell_type": "code",
   "metadata": {
    "cell_id": "00006-eced840d-f3a7-43f6-bc42-e9875a75564a",
    "deepnote_cell_type": "code",
    "deepnote_cell_height": 84.46875
   },
   "source": "# double checking\n# df_final.head(2)",
   "execution_count": null,
   "outputs": []
  },
  {
   "cell_type": "code",
   "metadata": {
    "cell_id": "00007-04067a5b-a864-4c6b-9944-8976564ee4b5",
    "deepnote_cell_type": "code",
    "deepnote_cell_height": 102.453125
   },
   "source": "# final output\ndf_final.to_csv(r'.\\SIADS591_592_Milestone1\\Milestone_I\\data\\loop_TobyChristie\\csv\\2021\\{}.csv'.format(fname_year+fname_month+fname_day+'_'+fname_track),index=False)\n",
   "execution_count": null,
   "outputs": []
  },
  {
   "cell_type": "code",
   "metadata": {
    "cell_id": "00008-96625745-d901-45c7-971d-77d901ef29ad",
    "deepnote_cell_type": "code",
    "deepnote_cell_height": 1318.84375
   },
   "source": "# put it all together and loopiong through a directory where the downloaded PDFs are.\nimport tabula\nimport pandas as pd\nimport re\nfrom tabula import read_pdf\nHEADERS_1=[\"Car\",\"Driver\",\"StartPos\",\"MidRace\",\"CloserPos\",\"FinishPos\",\"HighPos\",\"LowPos\", \"NumFastestLaps\", \"LapsLed\", \"AvgPos\",\"PassDiff\",\"GreenPass\",\"GreenPassed\",\"QualityPasses\",\"PercentQualityPasses\", \"LapsTop15\",\"PercentLapsTop15\", \"PercentLapsLed\", \"TotalLaps\",\"DriverRating\",\"Pts\"]\nHEADERS_2=[\"Car\",\"Driver\",\"StartPos\",\"MidRace\",\"CloserPos\",\"FinishPos\",\"HighPos\",\"LowPos\",\"AvgPos\",\"PassDiff\",\"GreenPass\",\"GreenPassed\",\"QualityPasses\",\"PercentQualityPasses\",\"NumFastestLaps\",\"LapsTop15\",\"PercentLapsTop15\",\"LapsLed\",\"PercentLapsLed\",\"TotalLaps\",\"DriverRating\",\"Pts\"]\n\n\n# loop through the whole directory\ndirectory=r'.\\SIADS591_592_Milestone1\\Milestone_I\\Milestone_I\\data\\loop_TobyChristie\\pdf\\2022'\nfor filename in os.listdir(directory):\n    f = os.path.join(directory, filename)\n    # checking if it is a file\n    if os.path.isfile(f):\n        # read in data\n        df=read_pdf(f,pages='1')\n        # get the file name info\n        fname_track=df[0]['Box Score'][0].replace(\" \",\"\")\n        date_text=df[0]['Box Score'][2]\n        pattern=r'(\\d*)/(\\d*)/(\\d*)'\n        fname_year=re.search(pattern,date_text).group(3)\n        fname_day=re.search(pattern,date_text).group(2).zfill(2)\n        fname_month=re.search(pattern,date_text).group(1).zfill(2)\n        # getting the data cleaned up\n        print(f)\n        df2=df[0].iloc[6:]\n        df2['Box Score']=df2['Box Score'].str.split()\n        df2['Unnamed: 9']=df2['Unnamed: 9'].str.split()\n        df2['Unnamed: 11']=df2['Unnamed: 11'].str.split()\n\n        # continue to clean\n        df3=pd.DataFrame(df2['Box Score'].tolist(), columns=[\"AvgPos\",\"PassDiff\",\"GreenPass\",\"GreenPassed\",\"QualityPasses\",\"PercentQualityPasses\"])\n        df4=pd.DataFrame(df2['Unnamed: 9'].tolist(), columns=[\"LapsTop15\",\"PercentLapsTop15\"])\n        df5=pd.DataFrame(df2['Unnamed: 11'].tolist(), columns=[\"PercentLapsLed\", \"TotalLaps\",\"DriverRating\",\"Pts\"])\n        \n        df2=df2[['Unnamed: 0', 'Unnamed: 1', 'Unnamed: 2', 'Unnamed: 3', 'Unnamed: 4',\n        'Unnamed: 5', 'Unnamed: 6','Unnamed: 7', 'Unnamed: 8','Unnamed: 10']].reset_index(drop=True)\n        \n        # final cleaning steps\n        df_final=pd.concat([df2,df3,df4,df5],axis=1)\n        df_final.columns=HEADERS_1\n        df_final=df_final[HEADERS_2]\n\n        # output the data\n        df_final.to_csv(r'.\\SIADS591_592_Milestone1\\Milestone_I\\Milestone_I\\data\\loop_TobyChristie\\csv\\2022\\{}.csv'.format(fname_year+fname_month+fname_day+'_'+fname_track),index=False)\n",
   "execution_count": null,
   "outputs": [
    {
     "name": "stdout",
     "output_type": "stream",
     "text": "C:\\Users\\kchen\\OneDrive\\MADS\\SIADS591_592_Milestone1\\Milestone_I\\Milestone_I\\data\\loop_TobyChristie\\pdf\\2022\\LD12213_POST_POSTBOOK.pdf\n"
    },
    {
     "name": "stderr",
     "output_type": "stream",
     "text": "<ipython-input-3-31034cbe9950>:27: SettingWithCopyWarning: \nA value is trying to be set on a copy of a slice from a DataFrame.\nTry using .loc[row_indexer,col_indexer] = value instead\n\nSee the caveats in the documentation: https://pandas.pydata.org/pandas-docs/stable/user_guide/indexing.html#returning-a-view-versus-a-copy\n  df2['Box Score']=df2['Box Score'].str.split()\n<ipython-input-3-31034cbe9950>:28: SettingWithCopyWarning: \nA value is trying to be set on a copy of a slice from a DataFrame.\nTry using .loc[row_indexer,col_indexer] = value instead\n\nSee the caveats in the documentation: https://pandas.pydata.org/pandas-docs/stable/user_guide/indexing.html#returning-a-view-versus-a-copy\n  df2['Unnamed: 9']=df2['Unnamed: 9'].str.split()\n<ipython-input-3-31034cbe9950>:29: SettingWithCopyWarning: \nA value is trying to be set on a copy of a slice from a DataFrame.\nTry using .loc[row_indexer,col_indexer] = value instead\n\nSee the caveats in the documentation: https://pandas.pydata.org/pandas-docs/stable/user_guide/indexing.html#returning-a-view-versus-a-copy\n  df2['Unnamed: 11']=df2['Unnamed: 11'].str.split()\n"
    }
   ]
  },
  {
   "cell_type": "code",
   "metadata": {
    "cell_id": "00009-7486cd68-99e8-4fcf-a756-d27c577841f0",
    "deepnote_cell_type": "code",
    "deepnote_cell_height": 66.453125
   },
   "source": "",
   "execution_count": null,
   "outputs": []
  },
  {
   "cell_type": "markdown",
   "source": "<a style='text-decoration:none;line-height:16px;display:flex;color:#5B5B62;padding:10px;justify-content:end;' href='https://deepnote.com?utm_source=created-in-deepnote-cell&projectId=9ef4eb23-f38f-47e8-bfb0-51d8616b0dee' target=\"_blank\">\n<img alt='Created in deepnote.com' style='display:inline;max-height:16px;margin:0px;margin-right:7.5px;' src='data:image/svg+xml;base64,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' > </img>\nCreated in <span style='font-weight:600;margin-left:4px;'>Deepnote</span></a>",
   "metadata": {
    "tags": [],
    "created_in_deepnote_cell": true,
    "deepnote_cell_type": "markdown"
   }
  }
 ],
 "nbformat": 4,
 "nbformat_minor": 2,
 "metadata": {
  "interpreter": {
   "hash": "49cb93f377a7abe7414b7b0f21fb3017538004a126cf690fb524202736b7fb92"
  },
  "kernelspec": {
   "display_name": "Python 3.8.5 ('base')",
   "language": "python",
   "name": "python3"
  },
  "language_info": {
   "codemirror_mode": {
    "name": "ipython",
    "version": 3
   },
   "file_extension": ".py",
   "mimetype": "text/x-python",
   "name": "python",
   "nbconvert_exporter": "python",
   "pygments_lexer": "ipython3",
   "version": "3.8.5"
  },
  "orig_nbformat": 4,
  "deepnote_notebook_id": "7a8b38d7-efc9-4ac5-939a-68115fbc5706",
  "deepnote": {},
  "deepnote_execution_queue": []
 }
}