{
 "cells": [
  {
   "cell_type": "code",
   "metadata": {
    "deepnote_to_be_reexecuted": false,
    "source_hash": "5b47f221",
    "execution_start": 1653006216800,
    "execution_millis": 2547,
    "cell_id": "0ca60ff7-41ae-4528-9180-2a860229b9fa",
    "deepnote_cell_type": "code",
    "deepnote_cell_height": 171.453125
   },
   "source": "import pandas as pd\npd.set_option('max_columns', None)\nimport numpy as np\nimport json\nimport seaborn as sns\nimport matplotlib.pyplot as plt",
   "execution_count": null,
   "outputs": []
  },
  {
   "cell_type": "markdown",
   "source": "Create dictionaries to update column names and to help with creating new columns...",
   "metadata": {
    "cell_id": "b39dd353ffdd49f594c2e3d5456e3bd9",
    "tags": [],
    "deepnote_cell_type": "markdown",
    "deepnote_cell_height": 52.859375
   }
  },
  {
   "cell_type": "code",
   "metadata": {
    "deepnote_to_be_reexecuted": false,
    "source_hash": "2e9ba122",
    "execution_start": 1653006219355,
    "execution_millis": 52,
    "cell_id": "00001-cef04385-cfff-49b5-9749-0f39f8282758",
    "deepnote_cell_type": "code",
    "deepnote_cell_height": 2169.46875
   },
   "source": "race_cols = {\"Driver\": \"Driver\", \"Car\": \"Car #\", \"AvgPos\": \"Average Position\", \"PassDiff\": \"Pass Differential\",\n                   \"GreenPass\": \"Green Passes\", \"GreenPassed\": \"Green Passed\", \"QualityPasses\": \"Quality Passes\",\n                   \"PercentQualityPasses\": \"% Quality Passes\", \"NumFastestLaps\": \"# Fastest Laps\",\n                   \"LapsTop15\": \"Laps in Top 15\", \"PercentLapsTop15\": \"% Laps in Top 15\", \"LapsLed\": \"Laps Led\",\n                   \"PercentLapsLed\": \"% Laps Led\", \"TotalLaps\": \"Total Laps\", \"DriverRating\": \"Driver Rating\",\n                   \"Pts\": \"Points\", \"StartPos\": \"Start\", \"MidRace\": \"Mid Race\", \"FinishPos\": \"Finish\"}\n\nrace_cols_daytona1_22 = {\"Driver\": \"Driver\", \"Car\": \"Car #\", \"AvgStart\": \"Start\", \"AvgMidRace\": \"Mid Race\", \"AvgFinish\": \"Finish\",\n                 \"Avg Pos\": \"Average Position\", \"PassDiff\": \"Pass Differential\", \"GreenPass\": \"Green Passes\",\n                 \"GreenPassed\": \"Green Passed\", \"QualityPasses\": \"Quality Passes\",\n                 \"PercentQualityPasses\": \"% Quality Passes\", \"NumFastestLaps\": \"# Fastest Laps\",\n                 \"LapsinTop15\": \"Laps in Top 15\", \"PercentLapsTop15\": \"% Laps in Top 15\", \"LapsLed\": \"Laps Led\",\n                 \"PercentLapsLed\": \"% Laps Led\", \"TotalLaps\": \"Total Laps\", \"DriverRating\": \"Driver Rating\",\n                 \"Pts\": \"Points\"}\n\ncar_nums_22 = {\"AJ Allmendinger\": 16, \"Aric Almirola\": 10, \"Christopher Bell\": 20, \"Greg Biffle\": 44,\n             \"Josh Bilicki\": 77, \"Ryan Blaney\": 12, \"Alex Bowman\": 48, \"Chase Briscoe\": 14,\n             \"Chris Buescher\": 17, \"Harrison Burton\": 21, \"Kurt Busch\": 45, \"Kyle Busch\": 18,\n             \"William Byron\": 24, \"Landon Cassill\": 77, \"Ross Chastain\": 1, \"William Byron Jr.\": 24,\n             \"Austin Cindric\": 2, \"Cole Custer\": 41, \"Austin Dillon\": 3, \"Ty Dillon\": 42,\n             \"Chase Elliott\": 9, \"Todd Gilliland\": 38, \"Noah Gragson\": 16, \"Kaz Grala\": 50,\n             \"Denny Hamlin\": 11, \"Joey Hand\": 15, \"Kevin Harvick\": 4, \"Justin Haley\": 31,\n             \"Daniel Hemric\": 16, \"Loris Hezemans\": 27, \"Erik Jones\": 20, \"Brad Keselowski\": 6,\n             \"Corey LaJoie\": 7, \"Kyle Larson\": 5, \"Joey Logano\": 22, \"BJ McLeod\": 78,\n             \"Michael McDowell\": 34, \"Ryan Preece\": 15, \"David Ragan\": 15, \"Tyler Reddick\": 8,\n             \"Boris Said\": 66, \"Garrett Smithley\": 15, \"Ricky Stenhouse Jr.\": 47, \"Daniel Suárez\": 99,\n             \"Martin Truex Jr.\": 19, \"Jacques Villeneuve\": 27, \"Bubba Wallace\": 23, \"Cody Ware\": 51}\n\nteams_22 = {\"AJ Allmendinger\": \"Kaulig\", \"Aric Almirola\": \"SHR\", \"Christopher Bell\": \"JGR\", \"Greg Biffle\": \"NYR\",\n        \"Josh Bilicki\": \"Spire\", \"Ryan Blaney\": \"Penske\", \"Alex Bowman\": \"Hendrick\", \"Chase Briscoe\": \"SHR\",\n        \"Chris Buescher\": \"RFK\", \"Harrison Burton\": \"WBR\", \"Kurt Busch\": \"23X1\", \"Kyle Busch\": \"JGR\",\n        \"William Byron\": \"Hendrick\", \"Landon Cassill\": \"Spire\", \"Ross Chastain\": \"Trackhouse\", \"Austin Cindric\": \"Penske\",\n        \"Cole Custer\": \"SHR\", \"Austin Dillon\": \"RCR\", \"Ty Dillon\": \"PGMS\", \"Chase Elliott\": \"Hendrick\",\n        \"Todd Gilliland\": \"FRM\", \"Noah Gragson\": \"Kaulig\", \"Kaz Grala\": \"TMT\", \"Denny Hamlin\": \"JGR\",\n        \"Joey Hand\": \"RWR\", \"Kevin Harvick\": \"SHR\", \"Justin Haley\": \"Kaulig\", \"Daniel Hemric\": \"Kaulig\",\n        \"Loris Hezemans\": \"Hezeberg\", \"Erik Jones\": \"PGMS\", \"Brad Keselowski\": \"RFK\", \"Corey LaJoie\": \"Spire\",\n        \"Kyle Larson\": \"Hendrick\", \"Joey Logano\": \"Penske\", \"BJ McLeod\": \"LFM\", \"Michael McDowell\": \"FRM\",\n        \"Ryan Preece\": \"RWR\", \"David Ragan\": \"RWR\", \"Tyler Reddick\": \"RCR\", \"Boris Said\": \"MBM\",\n        \"Garrett Smithley\": \"RWR\", \"Ricky Stenhouse Jr.\": \"JTGD\", \"Daniel Suárez\": \"Trackhouse\", \"Martin Truex Jr.\": \"JGR\",\n        \"Jacques Villeneuve\": \"Hezeberg\", \"Bubba Wallace\": \"23X1\", \"Cody Ware\": \"RWR\", \"Martin Truex Jr\": \"JGR\"}\n\nmakes = {\"23X1\": \"Toyota\", \"Beard\": \"Chevy\", \"FRM\": \"Ford\", \"Hendrick\": \"Chevy\",\n        \"Hezeberg\": \"Ford\", \"JGR\": \"Toyota\", \"JTGD\": \"Chevy\", \"Kaulig\": \"Chevy\",\n        \"LFM\": \"Ford\", \"MBM\": \"Ford\", \"NYR\": \"Chevy\", \"Penske\": \"Ford\",\n        \"PGMS\": \"Chevy\", \"RCR\": \"Chevy\", \"RFK\": \"Ford\", \"RWR\": \"Ford\",\n        \"SHR\": \"Ford\", \"Spire\": \"Chevy\", \"TMT\": \"Chevy\", \"Trackhouse\": \"Chevy\",\n        \"WBR\": \"Ford\", \"GBR\": \"Toyota\", \"StarCom\": \"Chevy\"}\n\ntrack_types = {\"Auto Club\": \"Speedway\", \"Atlanta\": \"Superpeedway\", \"Bristol\": \"Short Track\", \"COTA\": \"Road Course\",\n               \"Daytona\": \"Superspeedway\", \"Las Vegas\": \"Speedway\", \"Martinsville\": \"Short Track\", \"Phoenix\": \"Short Track\",\n               \"Richmond\": \"Short Track\", \"Talladega\": \"Superspeedway\", \"Dover\": \"Short Track\",\n               \"Darlington\": \"Speedway\", \"Kansas\": \"Speedway\", \"Charlotte\": \"Speedway\", \"Gateway\": \"Speedway\",\n               \"Sonoma\": \"Road Course\", \"Nashville\": \"Speedway\", \"Road America\": \"Road Course\",\n               \"Loudon\": \"Short Track\", \"Pocono\": \"Speedway\", \"Indianapolis RC\": \"Road Course\",\n               \"Michigan\": \"Speedway\", \"Watkins Glen\": \"Road Course\", \"Texas\": \"Speedway\",\n               \"Homestead\": \"Speedway\", \"Daytona RC\": \"Road Course\", \"Charlotte RC\": \"Road Course\"}\n\ncar_nums_21 = {'Michael McDowell': 34, 'Chase Elliott': 9, 'Austin Dillon': 3,\n       'Kevin Harvick': 4, 'Denny Hamlin': 11, 'Ryan Preece': 37, 'Ross Chastain': 42,\n       'Jamie McMurray': 40, 'Corey Lajoie': 7, 'Kyle Larson': 5, 'Cole Custer': 41,\n       'Joey Logano': 22, 'Brad Keselowski': 2, 'Kyle Busch': 18, 'Austin Cindric': 33,\n       'Christopher Bell': 20, 'Bubba Wallace': 23, 'Ricky Stenhouse Jr': 47,\n       'Chase Briscoe': 14, 'Joey Gase': 53, 'Cody Ware': 51, 'Kurt Busch': 1,\n       'BJ McLeod': 78, 'Josh Bilicki': 52, 'Martin Truex Jr': 19, 'William Byron': 24,\n       'Tyler Reddick': 8, 'Kaz Grala': 16, 'Quin Houff': 00, 'Ryan Blaney': 12,\n       'Chris Buescher': 17, 'Anthony Alfredo': 38, 'Matt DiBenedetto': 21,\n       'Aric Almirola': 10, 'Alex Bowman': 48, 'Daniel Suarez': 99, 'David Ragan': 36,\n       'Ryan Newman': 6, 'Erik Jones': 43, 'Derrike Cope': 15, 'AJ Allmendinger': 16,\n       'Ty Dillon': 96, 'James Davison': 15, 'Justin Haley': 77, 'Garrett Smithley': 53,\n       'Scott Heckert': 78, 'Timmy Hill': 66, 'Stewart Friesen': 77, 'JJ Yeley': 15,\n       'Mike Marlar': 66, 'Chris Windom': 77, 'Shane Golobic': 78, 'Harrison Burton': 96,\n       'Matt Mills': 78, 'Josh Berry': 77, 'Kyle Tilley': 78, 'David Starr': 66,\n       'Ben Rhodes': 77, 'Chad Finchum': 66, 'Justin Allgaier': 77, 'Ryan Eversley': 52,\n       'Bayley Currey': 52, 'Rc Enerson': 53, 'Andy Lally': 78, 'Landon Cassill': 77,\n       'Joey Hand': 52, 'Parker Kligerman': 96, 'Ryan Ellis': 77, \"Daniel Suárez\": 99,\n       \"Martin Truex Jr.\": 19, \"Ricky Stenhouse Jr.\": 47}\n\nteams_21 = {'Michael McDowell': \"FRM\", 'Chase Elliott': \"Hendrick\", 'Austin Dillon': \"RCR\",\n       'Kevin Harvick': \"SHR\", 'Denny Hamlin': \"JGR\", 'Ryan Preece': \"JTGD\", 'Ross Chastain': \"CGR\",\n       'Jamie McMurray': \"Spire\", 'Corey Lajoie': \"Spire\", 'Kyle Larson': \"Hendrick\", 'Cole Custer': \"SHR\",\n       'Joey Logano': \"Penske\", 'Brad Keselowski': \"Penske\", 'Kyle Busch': \"JGR\", 'Austin Cindric': \"Penske\",\n       'Christopher Bell': \"JGR\", 'Bubba Wallace': \"23X1\", 'Ricky Stenhouse Jr': \"JTGD\",\n       'Chase Briscoe': \"SHR\", 'Joey Gase': \"RWR\", 'Cody Ware': \"RWR\", 'Kurt Busch': \"CGR\",\n       'BJ McLeod': \"LFM\", 'Josh Bilicki': \"RWR\", 'Martin Truex Jr': \"JGR\", 'William Byron': \"Hendrick\",\n       'Tyler Reddick': \"RCR\", 'Kaz Grala': \"Kaulig\", 'Quin Houff': \"StarCom\", 'Ryan Blaney': \"Penske\",\n       'Chris Buescher': \"RFK\", 'Anthony Alfredo': \"FRM\", 'Matt DiBenedetto': \"WBR\",\n       'Aric Almirola': \"SHR\", 'Alex Bowman': \"Hendrick\", 'Daniel Suarez': \"Trackhouse\", 'David Ragan': \"FRM\",\n       'Ryan Newman': \"RFK\", 'Erik Jones': \"PGMS\", 'Derrike Cope': \"RWR\", 'AJ Allmendinger': \"Kaulig\",\n       'Ty Dillon': \"GBR\", 'James Davison': \"RWR\", 'Justin Haley': \"Spire\", 'Garrett Smithley': \"RWR\",\n       'Scott Heckert': \"LFM\", 'Timmy Hill': \"MBM\", 'Stewart Friesen': \"Spire\", 'JJ Yeley': \"RWR\",\n       'Mike Marlar': \"MBM\", 'Chris Windom': \"Spire\", 'Shane Golobic': \"LFM\", 'Harrison Burton': \"GBR\",\n       'Matt Mills': \"LFM\", 'Josh Berry': \"Spire\", 'Kyle Tilley': \"LFM\", 'David Starr': \"MBM\",\n       'Ben Rhodes': \"Spire\", 'Chad Finchum': \"MBM\", 'Justin Allgaier': \"Spire\", 'Ryan Eversley': \"RWR\",\n       'Bayley Currey': \"RWR\", 'Rc Enerson': \"RWR\", 'Andy Lally': \"LFM\", 'Landon Cassill': \"Spire\",\n       'Joey Hand': \"RWR\", 'Parker Kligerman': \"GBR\", 'Ryan Ellis': \"Spire\", \"Daniel Suárez\": \"Trackhouse\",\n       \"Martin Truex Jr.\": \"JGR\", \"Ricky Stenhouse Jr.\": \"JTGD\"}\n\nALL_2021_Drivers=['Michael McDowell', 'Chase Elliott', 'Austin Dillon',\n       'Kevin Harvick', 'Denny Hamlin', 'Ryan Preece', 'Ross Chastain',\n       'Jamie McMurray', 'Corey Lajoie', 'Kyle Larson', 'Cole Custer',\n       'Joey Logano', 'Brad Keselowski', 'Kyle Busch', 'Austin Cindric',\n       'Christopher Bell', 'Bubba Wallace', 'Ricky Stenhouse Jr',\n       'Chase Briscoe', 'Joey Gase', 'Cody Ware', 'Kurt Busch',\n       'BJ McLeod', 'Josh Bilicki', 'Martin Truex Jr', 'William Byron',\n       'Tyler Reddick', 'Kaz Grala', 'Quin Houff', 'Ryan Blaney',\n       'Chris Buescher', 'Anthony Alfredo', 'Matt DiBenedetto',\n       'Aric Almirola', 'Alex Bowman', 'Daniel Suarez', 'David Ragan',\n       'Ryan Newman', 'Erik Jones', 'Derrike Cope', 'AJ Allmendinger',\n       'Ty Dillon', 'James Davison', 'Justin Haley', 'Garrett Smithley',\n       'Scott Heckert', 'Timmy Hill', 'Stewart Friesen', 'JJ Yeley',\n       'Mike Marlar', 'Chris Windom', 'Shane Golobic', 'Harrison Burton',\n       'Matt Mills', 'Josh Berry', 'Kyle Tilley', 'David Starr',\n       'Ben Rhodes', 'Chad Finchum', 'Justin Allgaier', 'Ryan Eversley',\n       'Bayley Currey', 'Rc Enerson', 'Andy Lally', 'Landon Cassill',\n       'Joey Hand', 'Parker Kligerman', 'Ryan Ellis']\n\ncup_laps = {1: 201}",
   "execution_count": null,
   "outputs": []
  },
  {
   "cell_type": "markdown",
   "source": "Read in all loop data from csv files.  The csv files were previously downloaded from the web using code to grab the available json from urls.  The web scraping code is available in our project files. The csv files are also available since these files are small enough to share.\n\nIf the data paths do not work, please note the raw data can be located in these directories: \n* data/lap_data\n* data/loop_data",
   "metadata": {
    "cell_id": "d12579a380a8425db4a1789edb7fde99",
    "tags": [],
    "owner_user_id": "dbcfdc03-cb41-42df-88d8-3fffbb8930b7",
    "deepnote_cell_type": "markdown",
    "deepnote_cell_height": 209.8125
   }
  },
  {
   "cell_type": "code",
   "metadata": {
    "scrolled": true,
    "deepnote_to_be_reexecuted": false,
    "source_hash": "e9e25f74",
    "execution_start": 1653006219413,
    "execution_millis": 417,
    "cell_id": "00002-d00669bf-c4e2-453a-9906-e469b5f2299c",
    "deepnote_cell_type": "code",
    "deepnote_cell_height": 1107.453125
   },
   "source": "# /work/Milestone_I/data/loop_TobyChristie/csv/2021\ndaytona1_21_loop = pd.read_csv('/work/Milestone_I/data/loop_TobyChristie/csv/2021/20210215_Daytona500.csv')\ndaytonarc_21_loop = pd.read_csv('/work/Milestone_I/data/loop_TobyChristie/csv/2021/20210221_DaytonaRoadCourse.csv')\nhomestead_21_loop = pd.read_csv('/work/Milestone_I/data/loop_TobyChristie/csv/2021/20210228_Homestead-MiamiSpeedway.csv')\nlasvegas1_21_loop = pd.read_csv('/work/Milestone_I/data/loop_TobyChristie/csv/2021/20210307_LasVegasMotorSpeedway.csv')\nphoenix1_21_loop = pd.read_csv('/work/Milestone_I/data/loop_TobyChristie/csv/2021/20210314_PhoenixRaceway.csv')\natlanta1_21_loop = pd.read_csv('/work/Milestone_I/data/loop_TobyChristie/csv/2021/20210321_AtlantaMotorSpeedway.csv')\nbristoldirt_21_loop = pd.read_csv('/work/Milestone_I/data/loop_TobyChristie/csv/2021/20210329_BristolMotorSpeedwayDirt.csv')\nmartinsville1_21_loop = pd.read_csv('/work/Milestone_I/data/loop_TobyChristie/csv/2021/20210412_MartinsvilleSpeedway.csv')\nrichmond1_21_loop = pd.read_csv('/work/Milestone_I/data/loop_TobyChristie/csv/2021/20210418_RichmondRaceway.csv')\ntalladega1_21_loop = pd.read_csv('/work/Milestone_I/data/loop_TobyChristie/csv/2021/20210425_TalladegaSuperspeedway.csv')\nkansas1_21_loop = pd.read_csv('/work/Milestone_I/data/loop_TobyChristie/csv/2021/20210502_KansasSpeedway.csv')\ndarlington1_21_loop = pd.read_csv('/work/Milestone_I/data/loop_TobyChristie/csv/2021/20210509_DarlingtonRaceway.csv')\ndover_21_loop = pd.read_csv('/work/Milestone_I/data/loop_TobyChristie/csv/2021/20210516_DoverInternationalSpeedway.csv')\ncota_21_loop = pd.read_csv('/work/Milestone_I/data/loop_TobyChristie/csv/2021/20210523_CircuitofTheAmericas.csv')\ncharlotte_21_loop = pd.read_csv('/work/Milestone_I/data/loop_TobyChristie/csv/2021/20210530_CharlotteMotorSpeedway.csv')\nsonoma_21_loop = pd.read_csv('/work/Milestone_I/data/loop_TobyChristie/csv/2021/20210606_SonomaRaceway.csv')\nnashville_21_loop = pd.read_csv('/work/Milestone_I/data/loop_TobyChristie/csv/2021/20210620_NashvilleSuperspeedway.csv')\npocono1_21_loop = pd.read_csv('/work/Milestone_I/data/loop_TobyChristie/csv/2021/20210626_PoconoRaceway.csv')\npocono2_21_loop = pd.read_csv('/work/Milestone_I/data/loop_TobyChristie/csv/2021/20210627_PoconoRaceway.csv')\nroadamerica_21_loop = pd.read_csv('/work/Milestone_I/data/loop_TobyChristie/csv/2021/20210704_RoadAmerica.csv')\natlanta2_21_loop = pd.read_csv('/work/Milestone_I/data/loop_TobyChristie/csv/2021/20210711_AtlantaMotorSpeedway.csv')\nloudon_21_loop = pd.read_csv('/work/Milestone_I/data/loop_TobyChristie/csv/2021/20210718_NewHampshireMotorSpeedway.csv')\nwatkinsglen_21_loop = pd.read_csv('/work/Milestone_I/data/loop_TobyChristie/csv/2021/20210808_WatkinsGlenInternational.csv')\nindianapolisrc_21_loop = pd.read_csv('/work/Milestone_I/data/loop_TobyChristie/csv/2021/20210815_IndianapolisMotorRoadCourse.csv')\nmichigan_21_loop = pd.read_csv('/work/Milestone_I/data/loop_TobyChristie/csv/2021/20210822_MichiganInternationalSpeedway.csv')\ndaytona2_21_loop = pd.read_csv('/work/Milestone_I/data/loop_TobyChristie/csv/2021/20210828_DaytonaInternationalSpeedway.csv')\ndarlington2_21_loop = pd.read_csv('/work/Milestone_I/data/loop_TobyChristie/csv/2021/20210905_DarlingtonRaceway.csv')\nrichmond2_21_loop = pd.read_csv('/work/Milestone_I/data/loop_TobyChristie/csv/2021/20210911_RichmondRaceway.csv')\nbristol_21_loop = pd.read_csv('/work/Milestone_I/data/loop_TobyChristie/csv/2021/20210918_BristolMotorSpeedway.csv')\nlasvegas2_21_loop = pd.read_csv('/work/Milestone_I/data/loop_TobyChristie/csv/2021/20210926_LasVegasMotorSpeedway.csv')\ntalladega2_21_loop = pd.read_csv('/work/Milestone_I/data/loop_TobyChristie/csv/2021/20211004_TalladegaSuperspeedway.csv')\ncharlotterc_21_loop = pd.read_csv('/work/Milestone_I/data/loop_TobyChristie/csv/2021/20211010_CharlotteRoadCourse.csv')\ntexas_21_loop = pd.read_csv('/work/Milestone_I/data/loop_TobyChristie/csv/2021/20211017_TexasMotorSpeedway.csv')\nkansas2_21_loop = pd.read_csv('/work/Milestone_I/data/loop_TobyChristie/csv/2021/20211024_KansasSpeedway.csv')\nmartinsville2_21_loop = pd.read_csv('/work/Milestone_I/data/loop_TobyChristie/csv/2021/20211031_MartinsvilleSpeedway.csv')\nphoenix2_21_loop = pd.read_csv('/work/Milestone_I/data/loop_TobyChristie/csv/2021/20211107_PhoenixRaceway.csv')\n\n\n# /work/Milestone_I/data/loop_TobyChristie/csv/2022\ndaytona1_22_loop = pd.read_csv('/work/Milestone_I/data/loop_TobyChristie/csv/2022/20220220_Daytona500_modified.csv')\nautoclub_22_loop = pd.read_csv('/work/Milestone_I/data/loop_TobyChristie/csv/2022/20220227_AutoClub.csv')\nlasvegas1_22_loop = pd.read_csv('/work/Milestone_I/data/loop_TobyChristie/csv/2022/20220306_LasVegas.csv')\nphoenix1_22_loop = pd.read_csv('/work/Milestone_I/data/loop_TobyChristie/csv/2022/20220313_Phoenix.csv')\natlanta1_22_loop = pd.read_csv('/work/Milestone_I/data/loop_TobyChristie/csv/2022/20220322_Atlanta.csv')\ncota_22_loop = pd.read_csv('/work/Milestone_I/data/loop_TobyChristie/csv/2022/20220327_COTA.csv')\nrichmond1_22_loop = pd.read_csv('/work/Milestone_I/data/loop_TobyChristie/csv/2022/20220403_Richmond.csv')\nmartinsville1_22_loop = pd.read_csv('/work/Milestone_I/data/loop_TobyChristie/csv/2022/20220410_MartinsvilleSpeedway.csv')\nbristoldirt_22_loop = pd.read_csv('/work/Milestone_I/data/loop_TobyChristie/csv/2022/20220417_BristolMotorSpeedwayDirt.csv')\ntalladega1_22_loop = pd.read_csv('/work/Milestone_I/data/loop_TobyChristie/csv/2022/20220424_TalladegaSuperspeedway.csv')\ndover_22_loop = pd.read_csv('/work/Milestone_I/data/loop_TobyChristie/csv/2022/20220502_DoverMotorSpeedway.csv')\ndarlington1_22_loop = pd.read_csv('/work/Milestone_I/data/loop_TobyChristie/csv/2022/20220508_DarlingtonRaceway.csv')\nkansas1_22_loop = pd.read_csv('/work/Milestone_I/data/loop_TobyChristie/csv/2022/20220515_KansasSpeedway.csv')\n\n\n#print(daytona1.columns)\n#print(autoclub.columns)\n#daytona1.head()",
   "execution_count": null,
   "outputs": []
  },
  {
   "cell_type": "code",
   "metadata": {
    "tags": [],
    "deepnote_to_be_reexecuted": false,
    "source_hash": "a30743e5",
    "execution_start": 1653006219836,
    "execution_millis": 9,
    "cell_id": "00003-5d11d357-8c32-46c6-bbe0-0053d22f01c3",
    "deepnote_cell_type": "code",
    "deepnote_cell_height": 81.453125
   },
   "source": "#bristol_21_loop",
   "execution_count": null,
   "outputs": []
  },
  {
   "cell_type": "code",
   "metadata": {
    "tags": [],
    "deepnote_to_be_reexecuted": false,
    "source_hash": "bbc68c0f",
    "execution_start": 1653006219852,
    "execution_millis": 54,
    "deepnote_table_state": {
     "pageSize": 10,
     "pageIndex": 3,
     "filters": [],
     "sortBy": []
    },
    "deepnote_table_loading": false,
    "cell_id": "00004-e1523d8c-343d-4734-b536-1c06837d1d42",
    "deepnote_cell_type": "code",
    "deepnote_cell_height": 81.453125
   },
   "source": "#bristoldirt_21_loop",
   "execution_count": null,
   "outputs": []
  },
  {
   "cell_type": "markdown",
   "source": "Create function to:\n- Update some names to make them consistent across dataframes.\n- Add total number of consecutive races to the dataframes.\n\nRun the function on all race dataframes.",
   "metadata": {
    "cell_id": "a0825290bddd4d82a00f6e25054e7bcd",
    "tags": [],
    "deepnote_cell_type": "markdown",
    "deepnote_cell_height": 151.03125
   }
  },
  {
   "cell_type": "code",
   "metadata": {
    "deepnote_to_be_reexecuted": false,
    "source_hash": "b4e054a",
    "execution_start": 1653006219906,
    "execution_millis": 1140,
    "cell_id": "00005-fd8c1509-ee28-4d75-96e5-daf3bce41383",
    "deepnote_cell_type": "code",
    "deepnote_cell_height": 1683.46875
   },
   "source": "def add_Races(prev_df, curr_df):\n    prev_df = prev_df.set_index('Driver')\n    curr_df = curr_df.set_index('Driver')\n    df = curr_df.copy()\n    df[\"Races\"] = 1\n    if \"Daniel Suarez\" in df.index:\n        df = df.rename(index={'Daniel Suarez':'Daniel Suárez'})\n    if \"Martin Truex Jr\" in df.index:\n        df = df.rename(index={'Martin Truex Jr':'Martin Truex Jr.'}) \n    if \"Ricky Stenhouse Jr\" in df.index:\n        df = df.rename(index={'Ricky Stenhouse Jr':'Ricky Stenhouse Jr.'}) \n    if \"William Byron Jr.\" in df.index:\n        df = df.rename(index={'William Byron Jr.':'William Byron'}) \n    for driver in df.index:\n        if driver in prev_df.index:\n            if df.loc[driver, \"TotalLaps\"] != prev_df.loc[driver, \"TotalLaps\"]:\n                df.loc[driver, \"Races\"] = prev_df.loc[driver, \"Races\"] + 1\n            \n    df = df.reset_index(drop = False)\n    return df\n\n\n#2021 data\ndaytona1_21_loop[\"Races\"] = 1\ndaytona1_21 = daytona1_21_loop\ndaytona1_21 = daytona1_21.set_index('Driver')\nif \"Daniel Suarez\" in daytona1_21.index:\n    daytona1_21 = daytona1_21.rename(index={'Daniel Suarez':'Daniel Suárez'})\nif \"Martin Truex Jr\" in daytona1_21.index:\n    daytona1_21 = daytona1_21.rename(index={'Martin Truex Jr':'Martin Truex Jr.'}) \nif \"Ricky Stenhouse Jr\" in daytona1_21.index:\n    daytona1_21 = daytona1_21.rename(index={'Ricky Stenhouse Jr':'Ricky Stenhouse Jr.'}) \nif \"William Byron Jr.\" in daytona1_21.index:\n    daytona1_21 = daytona1_21.rename(index={'William Byron Jr.':'William Byron'})\ndaytona1_21 = daytona1_21.reset_index(drop = False)\n\n# 2021 DATA\n# All of the races added/put together by Bret\ndaytonarc_21 = add_Races(daytona1_21, daytonarc_21_loop)\nhomestead_21 = add_Races(daytonarc_21, homestead_21_loop)\nlasvegas1_21 = add_Races(homestead_21, lasvegas1_21_loop)\nphoenix1_21 = add_Races(lasvegas1_21, phoenix1_21_loop)\natlanta1_21 = add_Races(phoenix1_21, atlanta1_21_loop)\nbristoldirt_21 = add_Races(atlanta1_21, bristoldirt_21_loop)\nmartinsville1_21 = add_Races(bristoldirt_21, martinsville1_21_loop)\nrichmond1_21 = add_Races(martinsville1_21, richmond1_21_loop)\ntalladega1_21 = add_Races(richmond1_21, talladega1_21_loop)\nkansas1_21 = add_Races(talladega1_21, kansas1_21_loop)\ndarlington1_21 = add_Races(kansas1_21, darlington1_21_loop)\ndover_21 = add_Races(darlington1_21, dover_21_loop)\ncota_21 = add_Races(dover_21, cota_21_loop)\ncharlotte_21 = add_Races(cota_21, charlotte_21_loop)\nsonoma_21 = add_Races(charlotte_21, sonoma_21_loop)\nnashville_21 = add_Races(sonoma_21, nashville_21_loop)\npocono1_21 = add_Races(nashville_21, pocono1_21_loop)\npocono2_21 = add_Races(pocono1_21, pocono2_21_loop)\nroadamerica_21 = add_Races(pocono2_21, roadamerica_21_loop)\natlanta2_21 = add_Races(roadamerica_21, atlanta2_21_loop)\nloudon_21 = add_Races(atlanta2_21, loudon_21_loop)\nwatkinsglen_21 = add_Races(loudon_21, watkinsglen_21_loop)\nindianapolisrc_21 = add_Races(watkinsglen_21, indianapolisrc_21_loop)\nmichigan_21 = add_Races(indianapolisrc_21, michigan_21_loop)\ndaytona2_21 = add_Races(michigan_21, daytona2_21_loop)\ndarlington2_21 = add_Races(daytona2_21, darlington2_21_loop)\nrichmond2_21 = add_Races(darlington2_21, richmond2_21_loop)\nbristol_21 = add_Races(richmond2_21, bristol_21_loop)\nlasvegas2_21 = add_Races(bristol_21, lasvegas2_21_loop)\ntalladega2_21 = add_Races(lasvegas2_21, talladega2_21_loop)\ncharlotterc_21 = add_Races(talladega2_21, charlotterc_21_loop)\ntexas_21 = add_Races(charlotterc_21, texas_21_loop)\nkansas2_21 = add_Races(texas_21, kansas2_21_loop)\nmartinsville2_21 = add_Races(kansas2_21, martinsville2_21_loop)\nphoenix2_21 = add_Races(martinsville2_21, phoenix2_21_loop)\n\n\n#2022 data\ndaytona1_22_loop[\"Races\"] = 1\ndaytona1_22 = daytona1_22_loop\nautoclub_22 = add_Races(daytona1_22, autoclub_22_loop)\nlasvegas1_22 = add_Races(autoclub_22, lasvegas1_22_loop)\nphoenix1_22 = add_Races(lasvegas1_22, phoenix1_22_loop)\natlanta1_22 = add_Races(phoenix1_22, atlanta1_22_loop)\ncota_22 = add_Races(atlanta1_22, cota_22_loop)\nrichmond1_22 = add_Races(cota_22, richmond1_22_loop)\nmartinsville1_22 = add_Races(richmond1_22, martinsville1_22_loop)\nbristoldirt_22 = add_Races(martinsville1_22, bristoldirt_22_loop)\ntalladega1_22 = add_Races(bristoldirt_22, talladega1_22_loop)\ndover_22 = add_Races(talladega1_22, dover_22_loop)\ndarlington1_22 = add_Races(dover_22, darlington1_22_loop)\nkansas1_22 = add_Races(darlington1_22, kansas1_22_loop)",
   "execution_count": null,
   "outputs": []
  },
  {
   "cell_type": "code",
   "metadata": {
    "tags": [],
    "deepnote_to_be_reexecuted": false,
    "source_hash": "146d8db1",
    "execution_start": 1653006221052,
    "execution_millis": 28,
    "cell_id": "00006-f49e7583-8947-4c91-94d6-e7b7c845e968",
    "deepnote_cell_type": "code",
    "deepnote_cell_height": 214.8125
   },
   "source": "daytona1_21.columns",
   "execution_count": null,
   "outputs": [
    {
     "output_type": "execute_result",
     "execution_count": 7,
     "data": {
      "text/plain": "Index(['Driver', 'Car', 'StartPos', 'MidRace', 'CloserPos', 'FinishPos',\n       'HighPos', 'LowPos', 'AvgPos', 'PassDiff', 'GreenPass', 'GreenPassed',\n       'QualityPasses', 'PercentQualityPasses', 'NumFastestLaps', 'LapsTop15',\n       'PercentLapsTop15', 'LapsLed', 'PercentLapsLed', 'TotalLaps',\n       'DriverRating', 'Pts', 'Races'],\n      dtype='object')"
     },
     "metadata": {}
    }
   ]
  },
  {
   "cell_type": "markdown",
   "source": "Create function to add the \"Season\", \"Team\", \"Points Eligible\", \"Make\", \"Same Races - Race #\", \"Race #\",\"Track\", \"Track Type\", and \"Quality Passes Per Lap\" to each dataframe.\n",
   "metadata": {
    "cell_id": "50c4dfd1798b4bd2b7601faa470934f9",
    "tags": [],
    "deepnote_cell_type": "markdown",
    "deepnote_cell_height": 75.265625
   }
  },
  {
   "cell_type": "code",
   "metadata": {
    "deepnote_to_be_reexecuted": false,
    "source_hash": "6bffd4",
    "execution_start": 1653006221091,
    "execution_millis": 18,
    "cell_id": "00007-bc1ae77e-5568-47e4-baec-79b5ec636a52",
    "deepnote_cell_type": "code",
    "deepnote_cell_height": 513.46875
   },
   "source": "def add_cols(df, season, track = \"\", racenum = 0, sameracenum = 0):\n    df[\"Season\"] = season\n    #print(df.columns)\n    df = df.rename(columns = race_cols, errors = \"raise\")\n    df = df.drop(['CloserPos', 'HighPos', 'LowPos'], axis = 1)\n\n    if season == 2022:\n        df[\"Team\"] = df[\"Driver\"].map(teams_22)\n\n    if season == 2021:\n        df[\"Team\"] = df[\"Driver\"].map(teams_21)\n        if track == \"Atlanta\":\n            df[\"Track Type\"] = \"Speedway\"\n\n    df[\"Points Eligible\"] = [1 if row > 0 else 0 for row in df[\"Points\"]]\n    df[\"Make\"] = df[\"Team\"].map(makes)\n    df[\"Same Races - Race #\"] = sameracenum\n    df[\"Race #\"] = racenum\n    df[\"Track\"] = track\n    df[\"Track Type\"] = df[\"Track\"].map(track_types)\n    df[\"Quality Passes Per Lap\"] = round(df[\"Quality Passes\"] / df[\"Total Laps\"], 3)\n\n    \n\n    return df",
   "execution_count": null,
   "outputs": []
  },
  {
   "cell_type": "markdown",
   "source": "Run the above function on the 2021 data...",
   "metadata": {
    "cell_id": "da1cc32aaf984897a57b1514fb187bae",
    "tags": [],
    "deepnote_cell_type": "markdown",
    "deepnote_cell_height": 52.859375
   }
  },
  {
   "cell_type": "code",
   "metadata": {
    "scrolled": true,
    "deepnote_to_be_reexecuted": false,
    "source_hash": "a506b9c6",
    "execution_start": 1653006221116,
    "execution_millis": 617,
    "cell_id": "00008-2bee10d8-6507-4c47-9a97-76aab86ac408",
    "deepnote_cell_type": "code",
    "deepnote_cell_height": 747.453125
   },
   "source": "# 2021\ndaytona1_21 = add_cols(daytona1_21, 2021, \"Daytona\", 1, 1)\ndaytonarc_21 = add_cols(daytonarc_21, 2021, \"Daytona RC\", 2)\nhomestead_21 = add_cols(homestead_21, 2021, \"Homestead\", 3)\nlasvegas1_21 = add_cols(lasvegas1_21, 2021, \"Las Vegas\", 4, 2)\nphoenix1_21 = add_cols(phoenix1_21, 2021, \"Phoenix\", 5, 3)\natlanta1_21 = add_cols(atlanta1_21, 2021, \"Atlanta\", 6, 4)\nbristoldirt_21 = add_cols(bristoldirt_21, 2021, \"Bristol\", 7, 5)\nmartinsville1_21 = add_cols(martinsville1_21, 2021, \"Martinsville\", 8, 6)\nrichmond1_21 = add_cols(richmond1_21, 2021, \"Richmond\", 9, 7)\ntalladega1_21 = add_cols(talladega1_21, 2021, \"Talladega\", 10, 8)\nkansas1_21 = add_cols(kansas1_21, 2021, \"Kansas\", 11, 11)\ndarlington1_21 = add_cols(darlington1_21, 2021, \"Darlington\", 12, 9)\ndover_21 = add_cols(dover_21, 2021, \"Dover\", 13, 10)\ncota_21 = add_cols(cota_21, 2021, \"COTA\", 14, 0)\ncharlotte_21 = add_cols(charlotte_21, 2021, \"Charlotte\", 15, 0)\nsonoma_21 = add_cols(sonoma_21, 2021, \"Sonoma\", 16, 0)\nnashville_21 = add_cols(nashville_21, 2021, \"Nashville\", 17, 0)\npocono1_21 = add_cols(pocono1_21, 2021, \"Pocono\", 18, 0)\npocono2_21 = add_cols(pocono2_21, 2021, \"Pocono\", 19, 0)\nroadamerica_21 = add_cols(roadamerica_21, 2021, \"Road America\", 20, 0)\natlanta2_21 = add_cols(atlanta2_21, 2021, \"Atlanta\", 21, 0)\nloudon_21 = add_cols(loudon_21, 2021, \"Loudon\", 22, 0)\nwatkinsglen_21 = add_cols(watkinsglen_21, 2021, \"Watkins Glen\", 23, 0)\nindianapolisrc_21 = add_cols(indianapolisrc_21, 2021, \"Indianapolis RC\", 24, 0)\nmichigan_21 = add_cols(michigan_21, 2021, \"Michigan\", 25, 0)\ndaytona2_21 = add_cols(daytona2_21, 2021, \"Daytona\", 26, 0)\ndarlington2_21 = add_cols(darlington2_21, 2021, \"Darlington\", 27, 0)\nrichmond2_21 = add_cols(richmond2_21, 2021, \"Richmond\", 28, 0)\nbristol_21 = add_cols(bristol_21, 2021, \"Bristol\", 29, 0)\nlasvegas2_21 = add_cols(lasvegas2_21, 2021, \"Las Vegas\", 30, 0)\ntalladega2_21 = add_cols(talladega2_21, 2021, \"Talladega\", 31, 0)\ncharlotterc_21 = add_cols(charlotterc_21, 2021, \"Charlotte RC\", 32, 0)\ntexas_21 = add_cols(texas_21, 2021, \"Texas\", 33, 0 )\nkansas2_21 = add_cols(kansas2_21, 2021, \"Kansas\", 34, 0)\nmartinsville2_21 = add_cols(martinsville2_21, 2021, \"Martinsville\", 35, 0)\nphoenix2_21 = add_cols(phoenix2_21, 2021, \"Phoenix\", 36, 0)\n",
   "execution_count": null,
   "outputs": []
  },
  {
   "cell_type": "markdown",
   "source": "and then run the same function on the 2022 data...",
   "metadata": {
    "cell_id": "251740166548498895868b43c85e1e76",
    "tags": [],
    "deepnote_cell_type": "markdown",
    "deepnote_cell_height": 52.859375
   }
  },
  {
   "cell_type": "code",
   "metadata": {
    "tags": [],
    "deepnote_to_be_reexecuted": false,
    "source_hash": "14ea9b8f",
    "execution_start": 1653006221745,
    "execution_millis": 200,
    "cell_id": "00009-ef5df3d3-2dc7-4fb3-8562-58b9ebea1ba2",
    "deepnote_cell_type": "code",
    "deepnote_cell_height": 333.46875
   },
   "source": "# 2022\ndaytona1_22 = add_cols(daytona1_22, 2022, \"Daytona\", 1, 1)\nautoclub_22 = add_cols(autoclub_22, 2022, \"Auto Club\", 2, 0)\nlasvegas1_22 = add_cols(lasvegas1_22, 2022, \"Las Vegas\", 3, 2)\nphoenix1_22 = add_cols(phoenix1_22, 2022, \"Phoenix\", 4, 3)\natlanta1_22 = add_cols(atlanta1_22, 2022, \"Atlanta\", 5, 4)\ncota_22 = add_cols(cota_22, 2022, \"COTA\", 6, 0)\nrichmond1_22 = add_cols(richmond1_22, 2022, \"Richmond\", 7, 5)\nmartinsville1_22 = add_cols(martinsville1_22, 2022, \"Martinsville\", 8, 6)\nbristoldirt_22 = add_cols(bristoldirt_22, 2022, \"Bristol\", 9, 7)\ntalladega1_22 = add_cols(talladega1_22, 2022, \"Talladega\", 10, 8)\ndover_22 = add_cols(dover_22, 2022, \"Dover\", 11, 9)\ndarlington1_22 = add_cols(darlington1_22, 2022, \"Darlington\", 12, 10)\nkansas1_22 = add_cols(kansas1_22, 2022, \"Kansas\", 13, 11)\n",
   "execution_count": null,
   "outputs": []
  },
  {
   "cell_type": "code",
   "metadata": {
    "tags": [],
    "deepnote_to_be_reexecuted": false,
    "source_hash": "acd853fc",
    "execution_start": 1653006221949,
    "execution_millis": 8,
    "cell_id": "00010-486f9aca-0968-44f4-a736-d1185e9ff53d",
    "deepnote_cell_type": "code",
    "deepnote_cell_height": 81.453125
   },
   "source": "#martinsville2_21",
   "execution_count": null,
   "outputs": []
  },
  {
   "cell_type": "code",
   "metadata": {
    "tags": [],
    "deepnote_to_be_reexecuted": false,
    "source_hash": "c6ae4199",
    "execution_start": 1653006221968,
    "execution_millis": 64,
    "deepnote_table_state": {
     "pageSize": 10,
     "pageIndex": 0,
     "filters": [],
     "sortBy": []
    },
    "deepnote_table_loading": false,
    "deepnote_table_invalid": false,
    "cell_id": "00011-29211dc6-465a-408c-ab90-f2eae6ec4e5f",
    "deepnote_cell_type": "code",
    "deepnote_cell_height": 81.453125
   },
   "source": "#daytona1_21.Driver.unique",
   "execution_count": null,
   "outputs": []
  },
  {
   "cell_type": "markdown",
   "source": "Create a function to bring in the json file, create several derived variables and adjust names for consistency, ",
   "metadata": {
    "cell_id": "877ca3e1af1047e4b7945373350669b1",
    "tags": [],
    "deepnote_cell_type": "markdown",
    "deepnote_cell_height": 52.859375
   }
  },
  {
   "cell_type": "code",
   "metadata": {
    "deepnote_to_be_reexecuted": false,
    "source_hash": "2815ceb0",
    "execution_start": 1653006222032,
    "execution_millis": 0,
    "cell_id": "00012-2cfcbb69-17a2-4db3-aa5d-fd26f5de318c",
    "deepnote_cell_type": "code",
    "deepnote_cell_height": 1503.46875
   },
   "source": "def raw_laps_to_stats(json_file): # Takes lap-times.json file from Race Center, mapping lap stats to drivers\n    \n    f = open(json_file)\n    data = json.load(f)\n    \n    driver_stats = {}\n    fastest_fast = 1000\n    fastest_median = 1000\n    fastest_full_speed = 1000\n\n    lap_threshold = 28\n    lap_list_9 = []\n    for i in data[\"laps\"]:\n        if (i[\"FullName\"] == \"Chase Elliott\") or (i[\"FullName\"] == \"Chase Elliott (P)\"):\n            lap_list_9 = [j[\"LapTime\"] for j in i[\"Laps\"]]\n            lap_list_9 = [i for i in lap_list_9 if i]\n            #print(lap_list_9)\n            lap_list_9 = [i for i in lap_list_9 if i > 13]\n            #print(lap_list_9)\n            lap_threshold = np.min(lap_list_9) - 0.75\n    \n    for i in data[\"laps\"]:\n        driver = i[\"FullName\"]\n        if driver.startswith(\"*\") == True:\n            driver = driver[2:]\n        if driver.endswith(\"#\") == True:\n            driver = driver[:-2]\n        elif driver.endswith(\")\") == True:\n            driver = driver[:-3]\n        driver = driver.rstrip()\n        if driver == \"William Byron Jr.\":\n            driver = \"William Byron\"\n        if driver == \"Daniel Suarez\":\n            driver = \"Daniel Suárez\"\n        if driver == \"Martin Truex\":\n            driver = \"Martin Truex Jr.\"\n        if driver == \"Martin Truex Jr\":\n            driver = \"Martin Truex Jr.\"\n        if driver == \"Ricky Stenhouse\":\n            driver = \"Ricky Stenhouse Jr.\"\n        #print(driver)\n    \n        lap_list = []\n        #for j in i[\"Laps\"]:\n        #    lap_list.append(j[\"LapTime\"])\n        lap_list = [j[\"LapTime\"] for j in i[\"Laps\"]]\n        lap_list = [i for i in lap_list if i] # This removes the \"none\" values\n        lap_list = [i for i in lap_list if i >= lap_threshold] # Gets rid of unrealistically small numbers\n    \n        if len(lap_list) >= 1:\n            fast_lap = np.min(lap_list)\n            if fast_lap < fastest_fast:\n                fastest_fast = fast_lap\n        if len(lap_list) >= 1:\n            median_lap = round(np.median(lap_list),3)\n            if median_lap < fastest_median:\n                fastest_median = median_lap\n    \n        full_speed_laps = []\n        for lap in lap_list:\n            if lap < fast_lap*1.1:\n                full_speed_laps.append(lap)\n        if len(full_speed_laps) >= 1:\n            average_full_speed_lap = round(np.mean(full_speed_laps),3)\n            if average_full_speed_lap < fastest_full_speed:\n                fastest_full_speed = average_full_speed_lap\n    \n        lap_dict = {\"Fastest Lap\": fast_lap, \"Median Lap\": median_lap, \"Average Full Speed Lap\": average_full_speed_lap}\n        driver_stats[driver] = lap_dict\n        #print(lap_threshold, lap_dict)\n\n    for driver in driver_stats:\n        driver_stats[driver][\"Fastest Lap % Deficit\"] = (fastest_fast - driver_stats[driver][\"Fastest Lap\"]) / fastest_fast * 100\n        if driver_stats[driver][\"Fastest Lap % Deficit\"] < -10:\n            print(json_file, driver, driver_stats[driver][\"Fastest Lap % Deficit\"], fastest_fast,\n            driver_stats[driver][\"Fastest Lap\"])\n        driver_stats[driver][\"Median Lap % Deficit\"] = (fastest_median - driver_stats[driver][\"Median Lap\"]) / fastest_median * 100\n        driver_stats[driver][\"Average Full Speed Lap % Deficit\"] = (fastest_full_speed - driver_stats[driver][\"Average Full Speed Lap\"]) / fastest_full_speed * 100\n\n    return driver_stats",
   "execution_count": null,
   "outputs": []
  },
  {
   "cell_type": "markdown",
   "source": "Just a test...",
   "metadata": {
    "cell_id": "34277340886f4b259e6eb528237b8e9e",
    "tags": [],
    "deepnote_cell_type": "markdown",
    "deepnote_cell_height": 52.859375
   }
  },
  {
   "cell_type": "code",
   "metadata": {
    "tags": [],
    "deepnote_to_be_reexecuted": false,
    "source_hash": "20e94c0",
    "execution_start": 1653006222033,
    "execution_millis": 105,
    "cell_id": "00013-d5e7a7fe-4079-47e7-82e8-6d344747f52e",
    "deepnote_cell_type": "code",
    "deepnote_cell_height": 726.71875
   },
   "source": "test = raw_laps_to_stats('/work/Milestone_I/data/lap_data/2021/lap-times-richmond2.json')\ntest",
   "execution_count": null,
   "outputs": [
    {
     "output_type": "execute_result",
     "execution_count": 14,
     "data": {
      "text/plain": "{'Martin Truex Jr.': {'Fastest Lap': 22.83,\n  'Median Lap': 24.532,\n  'Average Full Speed Lap': 24.318,\n  'Fastest Lap % Deficit': -0.272312016865766,\n  'Median Lap % Deficit': -1.9871954768437747,\n  'Average Full Speed Lap % Deficit': -1.7745040595965642},\n 'Denny Hamlin': {'Fastest Lap': 22.863,\n  'Median Lap': 24.548,\n  'Average Full Speed Lap': 24.273,\n  'Fastest Lap % Deficit': -0.41725228390723323,\n  'Median Lap % Deficit': -2.0537124802527638,\n  'Average Full Speed Lap % Deficit': -1.586172260818621},\n 'Christopher Bell': {'Fastest Lap': 23.1,\n  'Median Lap': 24.636,\n  'Average Full Speed Lap': 24.411,\n  'Fastest Lap % Deficit': -1.4581869290231937,\n  'Median Lap % Deficit': -2.4195559990022484,\n  'Average Full Speed Lap % Deficit': -2.163723110404298},\n 'Chase Elliott': {'Fastest Lap': 22.768,\n  'Median Lap': 24.598,\n  'Average Full Speed Lap': 24.274,\n  'Fastest Lap % Deficit': 0.0,\n  'Median Lap % Deficit': -2.2615781159058805,\n  'Average Full Speed Lap % Deficit': -1.5903574119025803},\n 'Joey Logano': {'Fastest Lap': 22.873,\n  'Median Lap': 24.629,\n  'Average Full Speed Lap': 24.331,\n  'Fastest Lap % Deficit': -0.4611735769501073,\n  'Median Lap % Deficit': -2.390454810010821,\n  'Average Full Speed Lap % Deficit': -1.82891102368796},\n 'Kyle Larson': {'Fastest Lap': 23.19,\n  'Median Lap': 24.604,\n  'Average Full Speed Lap': 24.432,\n  'Fastest Lap % Deficit': -1.8534785664089974,\n  'Median Lap % Deficit': -2.2865219921842552,\n  'Average Full Speed Lap % Deficit': -2.2516112831673234},\n 'Ross Chastain': {'Fastest Lap': 23.269,\n  'Median Lap': 24.686,\n  'Average Full Speed Lap': 24.443,\n  'Fastest Lap % Deficit': -2.2004567814476355,\n  'Median Lap % Deficit': -2.627421634655365,\n  'Average Full Speed Lap % Deficit': -2.297647945090831},\n 'Kevin Harvick': {'Fastest Lap': 23.206,\n  'Median Lap': 24.688,\n  'Average Full Speed Lap': 24.462,\n  'Fastest Lap % Deficit': -1.9237526352775776,\n  'Median Lap % Deficit': -2.635736260081485,\n  'Average Full Speed Lap % Deficit': -2.3771658156859523},\n 'Kyle Busch': {'Fastest Lap': 23.109,\n  'Median Lap': 24.564,\n  'Average Full Speed Lap': 24.381,\n  'Fastest Lap % Deficit': -1.4977160927617756,\n  'Median Lap % Deficit': -2.1202294836617677,\n  'Average Full Speed Lap % Deficit': -2.0381685778856697},\n 'Ryan Blaney': {'Fastest Lap': 22.954,\n  'Median Lap': 24.743,\n  'Average Full Speed Lap': 24.437,\n  'Fastest Lap % Deficit': -0.8169360505973293,\n  'Median Lap % Deficit': -2.8643884592999087,\n  'Average Full Speed Lap % Deficit': -2.272537038587105},\n 'Austin Dillon': {'Fastest Lap': 23.223,\n  'Median Lap': 24.714,\n  'Average Full Speed Lap': 24.512,\n  'Fastest Lap % Deficit': -1.9984188334504494,\n  'Median Lap % Deficit': -2.7438263906211033,\n  'Average Full Speed Lap % Deficit': -2.586423369883662},\n 'Alex Bowman': {'Fastest Lap': 23.135,\n  'Median Lap': 24.731,\n  'Average Full Speed Lap': 24.496,\n  'Fastest Lap % Deficit': -1.6119114546732296,\n  'Median Lap % Deficit': -2.8145007067431744,\n  'Average Full Speed Lap % Deficit': -2.5194609525403884},\n 'Brad Keselowski': {'Fastest Lap': 23.032,\n  'Median Lap': 24.788,\n  'Average Full Speed Lap': 24.465,\n  'Fastest Lap % Deficit': -1.1595221363316908,\n  'Median Lap % Deficit': -3.0514675313877184,\n  'Average Full Speed Lap % Deficit': -2.3897212689378153},\n 'Aric Almirola': {'Fastest Lap': 23.198,\n  'Median Lap': 24.67,\n  'Average Full Speed Lap': 24.45,\n  'Fastest Lap % Deficit': -1.8886156008432873,\n  'Median Lap % Deficit': -2.560904631246376,\n  'Average Full Speed Lap % Deficit': -2.3269440026785007},\n 'Tyler Reddick': {'Fastest Lap': 23.158,\n  'Median Lap': 24.735,\n  'Average Full Speed Lap': 24.501,\n  'Fastest Lap % Deficit': -1.7129304286718228,\n  'Median Lap % Deficit': -2.8311299575954143,\n  'Average Full Speed Lap % Deficit': -2.54038670796017},\n 'Chase Briscoe': {'Fastest Lap': 23.351,\n  'Median Lap': 24.752,\n  'Average Full Speed Lap': 24.537,\n  'Fastest Lap % Deficit': -2.5606113843991496,\n  'Median Lap % Deficit': -2.9018042737174707,\n  'Average Full Speed Lap % Deficit': -2.6910521469825093},\n 'Daniel Suárez': {'Fastest Lap': 23.303,\n  'Median Lap': 24.764,\n  'Average Full Speed Lap': 24.547,\n  'Fastest Lap % Deficit': -2.3497891777933946,\n  'Median Lap % Deficit': -2.95169202627422,\n  'Average Full Speed Lap % Deficit': -2.732903657822057},\n 'Matt DiBenedetto': {'Fastest Lap': 23.324,\n  'Median Lap': 24.754,\n  'Average Full Speed Lap': 24.552,\n  'Fastest Lap % Deficit': -2.4420238931834195,\n  'Median Lap % Deficit': -2.9101188991436056,\n  'Average Full Speed Lap % Deficit': -2.7538294132418235},\n 'William Byron': {'Fastest Lap': 23.232,\n  'Median Lap': 24.79,\n  'Average Full Speed Lap': 24.541,\n  'Fastest Lap % Deficit': -2.037947997189031,\n  'Median Lap % Deficit': -3.0597821568138386,\n  'Average Full Speed Lap % Deficit': -2.7077927513183315},\n 'Ryan Newman': {'Fastest Lap': 23.363,\n  'Median Lap': 24.806,\n  'Average Full Speed Lap': 24.603,\n  'Fastest Lap % Deficit': -2.6133169360505923,\n  'Median Lap % Deficit': -3.1262991602228425,\n  'Average Full Speed Lap % Deficit': -2.9672721185234923},\n 'Erik Jones': {'Fastest Lap': 23.183,\n  'Median Lap': 24.776,\n  'Average Full Speed Lap': 24.576,\n  'Fastest Lap % Deficit': -1.8227336612789844,\n  'Median Lap % Deficit': -3.001579778830969,\n  'Average Full Speed Lap % Deficit': -2.8542730392567264},\n 'Cole Custer': {'Fastest Lap': 23.328,\n  'Median Lap': 24.818,\n  'Average Full Speed Lap': 24.611,\n  'Fastest Lap % Deficit': -2.4595924104005564,\n  'Median Lap % Deficit': -3.176186912779592,\n  'Average Full Speed Lap % Deficit': -3.0007533271951212},\n 'Ricky Stenhouse Jr.': {'Fastest Lap': 23.319,\n  'Median Lap': 24.766,\n  'Average Full Speed Lap': 24.572,\n  'Fastest Lap % Deficit': -2.4200632466619747,\n  'Median Lap % Deficit': -2.96000665170034,\n  'Average Full Speed Lap % Deficit': -2.8375324349209046},\n 'Chris Buescher': {'Fastest Lap': 23.367,\n  'Median Lap': 24.892,\n  'Average Full Speed Lap': 24.685,\n  'Fastest Lap % Deficit': -2.6308854532677453,\n  'Median Lap % Deficit': -3.483828053546192,\n  'Average Full Speed Lap % Deficit': -3.3104545074077194},\n 'Ryan Preece': {'Fastest Lap': 23.397,\n  'Median Lap': 24.857,\n  'Average Full Speed Lap': 24.626,\n  'Fastest Lap % Deficit': -2.762649332396336,\n  'Median Lap % Deficit': -3.338322108589012,\n  'Average Full Speed Lap % Deficit': -3.063530593454436},\n 'Anthony Alfredo': {'Fastest Lap': 23.546,\n  'Median Lap': 24.903,\n  'Average Full Speed Lap': 24.722,\n  'Fastest Lap % Deficit': -3.417076598735061,\n  'Median Lap % Deficit': -3.529558493389874,\n  'Average Full Speed Lap % Deficit': -3.4653050975140327},\n 'Justin Haley': {'Fastest Lap': 23.469,\n  'Median Lap': 24.913,\n  'Average Full Speed Lap': 24.735,\n  'Fastest Lap % Deficit': -3.0788826423049915,\n  'Median Lap % Deficit': -3.5711316205205033,\n  'Average Full Speed Lap % Deficit': -3.519712061605429},\n 'Michael McDowell': {'Fastest Lap': 23.406,\n  'Median Lap': 24.803,\n  'Average Full Speed Lap': 24.626,\n  'Fastest Lap % Deficit': -2.8021784961349177,\n  'Median Lap % Deficit': -3.1138272220836547,\n  'Average Full Speed Lap % Deficit': -3.063530593454436},\n 'Corey LaJoie': {'Fastest Lap': 23.385,\n  'Median Lap': 24.888,\n  'Average Full Speed Lap': 24.678,\n  'Fastest Lap % Deficit': -2.709943780744909,\n  'Median Lap % Deficit': -3.467198802693952,\n  'Average Full Speed Lap % Deficit': -3.2811584498200492},\n 'BJ McLeod': {'Fastest Lap': 23.492,\n  'Median Lap': 25.063,\n  'Average Full Speed Lap': 24.843,\n  'Fastest Lap % Deficit': -3.1799016163035847,\n  'Median Lap % Deficit': -4.194728527479839,\n  'Average Full Speed Lap % Deficit': -3.971708378672477},\n 'Garrett Smithley': {'Fastest Lap': 23.755,\n  'Median Lap': 25.243,\n  'Average Full Speed Lap': 25.081,\n  'Fastest Lap % Deficit': -4.335031623330984,\n  'Median Lap % Deficit': -4.943044815831047,\n  'Average Full Speed Lap % Deficit': -4.967774336653559},\n 'Bubba Wallace': {'Fastest Lap': 23.368,\n  'Median Lap': 25.002,\n  'Average Full Speed Lap': 24.684,\n  'Fastest Lap % Deficit': -2.6352775825720216,\n  'Median Lap % Deficit': -3.94113245198304,\n  'Average Full Speed Lap % Deficit': -3.3062693563237744},\n 'Joey Gase': {'Fastest Lap': 23.741,\n  'Median Lap': 25.503,\n  'Average Full Speed Lap': 25.228,\n  'Fastest Lap % Deficit': -4.273541813070972,\n  'Median Lap % Deficit': -6.023946121227246,\n  'Average Full Speed Lap % Deficit': -5.582991545994824},\n 'JJ Yeley': {'Fastest Lap': 23.763,\n  'Median Lap': 25.584,\n  'Average Full Speed Lap': 25.214,\n  'Fastest Lap % Deficit': -4.370168657765289,\n  'Median Lap % Deficit': -6.360688450985289,\n  'Average Full Speed Lap % Deficit': -5.524399430819455},\n 'Quin Houff': {'Fastest Lap': 23.644,\n  'Median Lap': 25.427,\n  'Average Full Speed Lap': 25.143,\n  'Fastest Lap % Deficit': -3.847505270555155,\n  'Median Lap % Deficit': -5.707990355034511,\n  'Average Full Speed Lap % Deficit': -5.22725370385872},\n 'Josh Bilicki': {'Fastest Lap': 23.618,\n  'Median Lap': 25.53,\n  'Average Full Speed Lap': 25.164,\n  'Fastest Lap % Deficit': -3.7333099086437014,\n  'Median Lap % Deficit': -6.136193564479932,\n  'Average Full Speed Lap % Deficit': -5.31514187662176},\n 'Kurt Busch': {'Fastest Lap': 22.889,\n  'Median Lap': 24.054,\n  'Average Full Speed Lap': 23.894,\n  'Fastest Lap % Deficit': -0.531447645818687,\n  'Median Lap % Deficit': 0.0,\n  'Average Full Speed Lap % Deficit': 0.0}}"
     },
     "metadata": {}
    }
   ]
  },
  {
   "cell_type": "markdown",
   "source": "Run the function for the json laps data...",
   "metadata": {
    "cell_id": "2dfb65131bd341aeb3a833f48c52a374",
    "tags": [],
    "deepnote_cell_type": "markdown",
    "deepnote_cell_height": 52.859375
   }
  },
  {
   "cell_type": "code",
   "metadata": {
    "scrolled": false,
    "deepnote_to_be_reexecuted": false,
    "source_hash": "a28b63f7",
    "execution_start": 1653006222146,
    "execution_millis": 2981,
    "cell_id": "00014-e924df70-0abb-4074-98aa-05bd71617ceb",
    "deepnote_cell_type": "code",
    "deepnote_cell_height": 1086.21875
   },
   "source": "#2021\ndaytona1_21_laps = raw_laps_to_stats('/work/Milestone_I/data/lap_data/2021/lap-times-daytona1.json')\ndaytonarc_21_laps = raw_laps_to_stats('/work/Milestone_I/data/lap_data/2021/lap-times-daytonarc.json')\nhomestead_21_laps = raw_laps_to_stats('/work/Milestone_I/data/lap_data/2021/lap-times-homestead.json')\nlasvegas1_21_laps = raw_laps_to_stats('/work/Milestone_I/data/lap_data/2021/lap-times-lasvegas1.json')\nphoenix1_21_laps = raw_laps_to_stats('/work/Milestone_I/data/lap_data/2021/lap-times-phoenix1.json')\natlanta1_21_laps = raw_laps_to_stats('/work/Milestone_I/data/lap_data/2021/lap-times-atlanta1.json')\nbristoldirt_21_laps = raw_laps_to_stats('/work/Milestone_I/data/lap_data/2021/lap-times-bristoldirt.json')\nmartinsville1_21_laps = raw_laps_to_stats('/work/Milestone_I/data/lap_data/2021/lap-times-martinsville1.json')\nrichmond1_21_laps = raw_laps_to_stats('/work/Milestone_I/data/lap_data/2021/lap-times-richmond1.json')\ntalladega1_21_laps = raw_laps_to_stats('/work/Milestone_I/data/lap_data/2021/lap-times-talladega1.json')\nkansas1_21_laps = raw_laps_to_stats('/work/Milestone_I/data/lap_data/2021/lap-times-kansas1.json')\ndarlington1_21_laps = raw_laps_to_stats('/work/Milestone_I/data/lap_data/2021/lap-times-darlington1.json')\ndover_21_laps = raw_laps_to_stats('/work/Milestone_I/data/lap_data/2021/lap-times-dover.json')\ncota_21_laps = raw_laps_to_stats('/work/Milestone_I/data/lap_data/2021/lap-times-cota.json')\ncharlotte_21_laps = raw_laps_to_stats('/work/Milestone_I/data/lap_data/2021/lap-times-charlotte.json')\nsonoma_21_laps = raw_laps_to_stats('/work/Milestone_I/data/lap_data/2021/lap-times-sonoma.json')\nnashville_21_laps = raw_laps_to_stats('/work/Milestone_I/data/lap_data/2021/lap-times-nashville.json')\npocono1_21_laps = raw_laps_to_stats('/work/Milestone_I/data/lap_data/2021/lap-times-pocono1.json')\npocono2_21_laps = raw_laps_to_stats('/work/Milestone_I/data/lap_data/2021/lap-times-pocono2.json')\nroadamerica_21_laps = raw_laps_to_stats('/work/Milestone_I/data/lap_data/2021/lap-times-roadamerica.json')\natlanta2_21_laps = raw_laps_to_stats('/work/Milestone_I/data/lap_data/2021/lap-times-atlanta2.json')\nloudon_21_laps = raw_laps_to_stats('/work/Milestone_I/data/lap_data/2021/lap-times-loudon.json')\nwatkinsglen_21_laps = raw_laps_to_stats('/work/Milestone_I/data/lap_data/2021/lap-times-watkinsglen.json')\nindianapolisrc_21_laps = raw_laps_to_stats('/work/Milestone_I/data/lap_data/2021/lap-times-indianapolisrc.json')\nmichigan_21_laps = raw_laps_to_stats('/work/Milestone_I/data/lap_data/2021/lap-times-michigan.json')\ndaytona2_21_laps = raw_laps_to_stats('/work/Milestone_I/data/lap_data/2021/lap-times-daytona2.json')\ndarlington2_21_laps = raw_laps_to_stats('/work/Milestone_I/data/lap_data/2021/lap-times-darlington2.json')\nrichmond2_21_laps = raw_laps_to_stats('/work/Milestone_I/data/lap_data/2021/lap-times-richmond2.json')\nbristol_21_laps = raw_laps_to_stats('/work/Milestone_I/data/lap_data/2021/lap-times-bristol.json')\nlasvegas2_21_laps = raw_laps_to_stats('/work/Milestone_I/data/lap_data/2021/lap-times-lasvegas2.json')\ntalladega2_21_laps = raw_laps_to_stats('/work/Milestone_I/data/lap_data/2021/lap-times-talladega2.json')\ncharlotterc_21_laps = raw_laps_to_stats('/work/Milestone_I/data/lap_data/2021/lap-times-charlotterc.json')\ntexas_21_laps = raw_laps_to_stats('/work/Milestone_I/data/lap_data/2021/lap-times-texas.json')\nkansas2_21_laps = raw_laps_to_stats('/work/Milestone_I/data/lap_data/2021/lap-times-kansas2.json')\nmartinsville2_21_laps = raw_laps_to_stats('/work/Milestone_I/data/lap_data/2021/lap-times-martinsville2.json')\nphoenix2_21_laps = raw_laps_to_stats('/work/Milestone_I/data/lap_data/2021/lap-times-phoenix2.json')\n\n\n#2022\ndaytona1_22_laps = raw_laps_to_stats('/work/Milestone_I/data/lap_data/2022/lap-times-daytona1.json')\nautoclub_22_laps = raw_laps_to_stats('/work/Milestone_I/data/lap_data/2022/lap-times-autoclub.json')\nlasvegas1_22_laps = raw_laps_to_stats('/work/Milestone_I/data/lap_data/2022/lap-times-lasvegas1.json')\nphoenix1_22_laps = raw_laps_to_stats('/work/Milestone_I/data/lap_data/2022/lap-times-phoenix1.json')\natlanta1_22_laps = raw_laps_to_stats('/work/Milestone_I/data/lap_data/2022/lap-times-atlanta1.json')\ncota_22_laps = raw_laps_to_stats('/work/Milestone_I/data/lap_data/2022/lap-times-cota.json')\nrichmond1_22_laps = raw_laps_to_stats('/work/Milestone_I/data/lap_data/2022/lap-times-richmond1.json')\nmartinsville1_22_laps = raw_laps_to_stats('/work/Milestone_I/data/lap_data/2022/lap-times-martinsville1.json')\nbristoldirt_22_laps = raw_laps_to_stats('/work/Milestone_I/data/lap_data/2022/lap-times-bristoldirt.json')\ntalladega1_22_laps = raw_laps_to_stats('/work/Milestone_I/data/lap_data/2022/lap-times-talladega1.json')\ndover_22_laps = raw_laps_to_stats('/work/Milestone_I/data/lap_data/2022/lap-times-dover.json')\ndarlington1_22_laps = raw_laps_to_stats('/work/Milestone_I/data/lap_data/2022/lap-times-darlington1.json')\nkansas1_22_laps = raw_laps_to_stats('/work/Milestone_I/data/lap_data/2022/lap-times-kansas1.json')",
   "execution_count": null,
   "outputs": [
    {
     "name": "stdout",
     "text": "/work/Milestone_I/data/lap_data/2021/lap-times-daytonarc.json Quin Houff -12.670625967132615 115.677 130.334\n/work/Milestone_I/data/lap_data/2021/lap-times-richmond1.json Justin Haley -145.74648895250021 22.358 54.944\n/work/Milestone_I/data/lap_data/2021/lap-times-talladega1.json Kyle Larson -15.148435184008816 47.226 54.38\n",
     "output_type": "stream"
    }
   ]
  },
  {
   "cell_type": "code",
   "metadata": {
    "tags": [],
    "deepnote_to_be_reexecuted": false,
    "source_hash": "79500a73",
    "execution_start": 1653006225129,
    "execution_millis": 10,
    "cell_id": "00015-e69a95ee-e093-4033-94c3-245657962081",
    "deepnote_cell_type": "code",
    "deepnote_cell_height": 81.453125
   },
   "source": "#talladega2_21_laps",
   "execution_count": null,
   "outputs": []
  },
  {
   "cell_type": "markdown",
   "source": "Create function to join hte lap stats to the loop data...",
   "metadata": {
    "cell_id": "96b81b0fce2245f68403efa63700b3af",
    "tags": [],
    "deepnote_cell_type": "markdown",
    "deepnote_cell_height": 52.859375
   }
  },
  {
   "cell_type": "code",
   "metadata": {
    "deepnote_to_be_reexecuted": false,
    "source_hash": "5c246a8a",
    "execution_start": 1653006225146,
    "execution_millis": 8,
    "cell_id": "00016-d4b6d5ed-513a-4fad-9081-3ac60f0aaf52",
    "deepnote_cell_type": "code",
    "deepnote_cell_height": 333.46875
   },
   "source": "def add_lap_dict_to_df(lap_dict, main_df): # Adds the driver-mapped lap stats to our main dataframe\n    \n    rows = []\n  \n    for key, value in lap_dict.items():\n        driver = key\n        stats = value\n        stats[\"Driver\"] = driver\n        rows.append(stats)\n  \n    lap_df = pd.DataFrame(rows)\n    #print(lap_df)\n    df = pd.merge(main_df, lap_df, on=\"Driver\")\n    #print(df)\n    return df",
   "execution_count": null,
   "outputs": []
  },
  {
   "cell_type": "code",
   "metadata": {
    "tags": [],
    "deepnote_to_be_reexecuted": false,
    "source_hash": "ecc7a2e0",
    "execution_start": 1653006225162,
    "execution_millis": 553,
    "cell_id": "00017-6476ba01-c4a1-495c-874b-2340f41724bd",
    "deepnote_cell_type": "code",
    "deepnote_cell_height": 392.453125
   },
   "source": "rows = []\n\nfor key, value in daytona2_21_laps.items():\n    driver = key\n    stats = value\n    stats[\"Driver\"] = driver\n    rows.append(stats)\n\nlap_df = pd.DataFrame(rows)\n#print(lap_df)\n# df = pd.merge(main_df, lap_df, on=\"Driver\")\nlap_df.columns\n# return df",
   "execution_count": null,
   "outputs": [
    {
     "output_type": "execute_result",
     "execution_count": 18,
     "data": {
      "text/plain": "Index(['Fastest Lap', 'Median Lap', 'Average Full Speed Lap',\n       'Fastest Lap % Deficit', 'Median Lap % Deficit',\n       'Average Full Speed Lap % Deficit', 'Driver'],\n      dtype='object')"
     },
     "metadata": {}
    }
   ]
  },
  {
   "cell_type": "markdown",
   "source": "... and add some more derived variables...",
   "metadata": {
    "cell_id": "2d2fac832adb4e7b9f1e788da48b7998",
    "tags": [],
    "deepnote_cell_type": "markdown",
    "deepnote_cell_height": 52.859375
   }
  },
  {
   "cell_type": "code",
   "metadata": {
    "tags": [],
    "deepnote_to_be_reexecuted": false,
    "source_hash": "a649850",
    "execution_start": 1653006225234,
    "execution_millis": 0,
    "cell_id": "00018-d133ba56-5ee4-4fb6-bc98-d3caf089e6ce",
    "deepnote_cell_type": "code",
    "deepnote_cell_height": 513.46875
   },
   "source": "def add_more_info(df, laps_dict):\n\n    df = add_lap_dict_to_df(laps_dict, df)\n    #if \"Finish\" not in df:\n    #    df[\"Finish\"] = df[\"FinishPos\"]\n    #print(df.columns)\n\n    df = df.sort_values(by=[\"Finish\"]).reset_index(drop = True)\n    df.index = np.arange(1, len(df) + 1) # Makes index value equal to finish position\n\n    df[\"Fastest Lap Rank\"] = df[\"Fastest Lap\"].rank(method=\"min\")\n    df[\"Median Lap Rank\"] = df[\"Median Lap\"].rank(method=\"min\")\n    df[\"Average Full Speed Lap Rank\"] = df[\"Average Full Speed Lap\"].rank(method=\"min\")\n\n    df_contenders = df[df[\"Quality Passes\"] >= 10] # Gets rid of cars not part of draft for most of race\n    #daytona1_contenders\n    df_varsofinterest = df[[\"Finish\", \"Average Position\", \"Pass Differential\", \"Quality Passes\", \"% Quality Passes\",\n                                   \"Quality Passes Per Lap\", \"Fastest Lap\", \"Median Lap\", \"Average Full Speed Lap\"]]\n    df_corr = df_varsofinterest.corr()\n\n    df_contenders_varsofinterest = df_contenders[[\"Finish\", \"Average Position\", \"Pass Differential\", \"Quality Passes\",\n                                   \"% Quality Passes\", \"Quality Passes Per Lap\", \"Fastest Lap\", \"Median Lap\", \"Average Full Speed Lap\"]]\n    df_contenders_corr = df_contenders_varsofinterest.corr()\n\n    return df, df_contenders, df_corr, df_contenders_corr",
   "execution_count": null,
   "outputs": []
  },
  {
   "cell_type": "markdown",
   "source": "Run the function to create the final versions of data for each race...",
   "metadata": {
    "cell_id": "ffd16d35b9934301a9de3d49c3765479",
    "tags": [],
    "deepnote_cell_type": "markdown",
    "deepnote_cell_height": 52.859375
   }
  },
  {
   "cell_type": "code",
   "metadata": {
    "tags": [],
    "deepnote_to_be_reexecuted": false,
    "source_hash": "ac5ccca1",
    "execution_start": 1653006225283,
    "execution_millis": 3380,
    "cell_id": "00019-7ec52626-3fdc-470c-b62d-47facbc74ab6",
    "deepnote_cell_type": "code",
    "deepnote_cell_height": 1035.46875
   },
   "source": "#2021\ndaytona1_21, daytona1_21_contenders, daytona1_21_corr, daytona1_21_contenders_corr = add_more_info(daytona1_21, daytona1_21_laps)\ndaytonarc_21, daytonarc_21_contenders, daytonarc_21_corr, daytonarc_21_contenders_corr = add_more_info(daytonarc_21, daytonarc_21_laps)\nhomestead_21, homestead_21_contenders, homestead_21_corr, homestead_21_contenders_corr = add_more_info(homestead_21, homestead_21_laps)\nlasvegas1_21, lasvegas1_21_contenders, lasvegas1_21_corr, lasvegas1_21_contenders_corr = add_more_info(lasvegas1_21, lasvegas1_21_laps)\nphoenix1_21, phoenix1_21_contenders, phoenix1_21_corr, phoenix1_21_contenders_corr = add_more_info(phoenix1_21, phoenix1_21_laps)\natlanta1_21, atlanta1_21_contenders, atlanta1_21_corr, atlanta1_21_contenders_corr = add_more_info(atlanta1_21, atlanta1_21_laps)\nbristoldirt_21, bristoldirt_21_contenders, bristoldirt_21_corr, bristoldirt_21_contenders_corr = add_more_info(bristoldirt_21, bristoldirt_21_laps)\nmartinsville1_21, martinsville1_21_contenders, martinsville1_21_corr, martinsville1_21_contenders_corr = add_more_info(martinsville1_21, martinsville1_21_laps)\nrichmond1_21, richmond1_21_contenders, richmond1_21_corr, richmond1_21_contenders_corr = add_more_info(richmond1_21, richmond1_21_laps)\ntalladega1_21, talladega1_21_contenders, talladega1_21_corr, talladega1_21_contenders_corr = add_more_info(talladega1_21, talladega1_21_laps)\nkansas1_21, kansas1_21_contenders, kansas1_21_corr, kansas1_21_contenders_corr = add_more_info(kansas1_21, kansas1_21_laps)\ndarlington1_21, darlington1_21_contenders, darlington1_21_corr, darlington1_21_contenders_corr = add_more_info(darlington1_21, darlington1_21_laps)\ndover_21, dover_21_contenders, dover_21_corr, dover_21_contenders_corr = add_more_info(dover_21, dover_21_laps)\ncota_21, cota_21_contenders, cota_21_corr, cota_21_contenders_corr = add_more_info(cota_21, cota_21_laps)\ncharlotte_21, charlotte_21_contenders, charlotte_21_corr, charlotte_21_contenders_corr = add_more_info(charlotte_21, charlotte_21_laps)\nsonoma_21, sonoma_21_contenders, sonoma_21_corr, sonoma_21_contenders_corr = add_more_info(sonoma_21, sonoma_21_laps)\nnashville_21, nashville_21_contenders, nashville_21_corr, nashville_21_contenders_corr = add_more_info(nashville_21, nashville_21_laps)\npocono1_21, pocono1_21_contenders, pocono1_21_corr, pocono1_21_contenders_corr = add_more_info(pocono1_21, pocono1_21_laps)\npocono2_21, pocono2_21_contenders, pocono2_21_corr, pocono2_21_contenders_corr = add_more_info(pocono2_21, pocono2_21_laps)\nroadamerica_21, roadamerica_21_contenders, roadamerica_21_corr, roadamerica_21_contenders_corr = add_more_info(roadamerica_21, roadamerica_21_laps)\natlanta2_21, atlanta2_21_contenders, atlanta2_21_corr, atlanta2_21_contenders_corr = add_more_info(atlanta2_21, atlanta2_21_laps)\nloudon_21, loudon_21_contenders, loudon_21_corr, loudon_21_contenders_corr = add_more_info(loudon_21, loudon_21_laps)\nwatkinsglen_21, watkinsglen_21_contenders, watkinsglen_21_corr, watkinsglen_21_contenders_corr = add_more_info(watkinsglen_21, watkinsglen_21_laps)\nindianapolisrc_21, indianapolisrc_21_contenders, indianapolisrc_21_corr, indianapolisrc_21_contenders_corr = add_more_info(indianapolisrc_21, indianapolisrc_21_laps)\nmichigan_21, michigan_21_contenders, michigan_21_corr, michigan_21_contenders_corr = add_more_info(michigan_21, michigan_21_laps)\ndaytona2_21, daytona2_21_contenders, daytona2_21_corr, daytona2_21_contenders_corr = add_more_info(daytona2_21, daytona2_21_laps)\ndarlington2_21, darlington2_21_contenders, darlington2_21_corr, darlington2_21_contenders_corr = add_more_info(darlington2_21, darlington2_21_laps)\nrichmond2_21, richmond2_21_contenders, richmond2_21_corr, richmond2_21_contenders_corr = add_more_info(richmond2_21, richmond2_21_laps)\nbristol_21, bristol_21_contenders, bristol_21_corr, bristol_21_contenders_corr = add_more_info(bristol_21, bristol_21_laps)\nlasvegas2_21, lasvegas2_21_contenders, lasvegas2_21_corr, lasvegas2_21_contenders_corr = add_more_info(lasvegas2_21, lasvegas2_21_laps)\ntalladega2_21, talladega2_21_contenders, talladega2_21_corr, talladega2_21_contenders_corr = add_more_info(talladega2_21, talladega2_21_laps)\ncharlotterc_21, charlotterc_21_contenders, charlotterc_21_corr, charlotterc_21_contenders_corr = add_more_info(charlotterc_21, charlotterc_21_laps)\ntexas_21, texas_21_contenders, texas_21_corr, texas_21_contenders_corr = add_more_info(texas_21, texas_21_laps)\nkansas2_21, kansas2_21_contenders, kansas2_21_corr, kansas2_21_contenders_corr = add_more_info(kansas2_21, kansas2_21_laps)\nmartinsville2_21, martinsville2_21_contenders, martinsville2_21_corr, martinsville2_21_contenders_corr = add_more_info(martinsville2_21, martinsville2_21_laps)\nphoenix2_21, phoenix2_21_contenders, phoenix2_21_corr, phoenix2_21_contenders_corr = add_more_info(phoenix2_21, phoenix2_21_laps)\n\n\n#2022\ndaytona1_22, daytona1_22_contenders, daytona1_22_corr, daytona1_22_contenders_corr = add_more_info(daytona1_22, daytona1_22_laps)\nautoclub_22, autoclub_22_contenders, autoclub_22_corr, autoclub_22_contenders_corr = add_more_info(autoclub_22, autoclub_22_laps)\nlasvegas1_22, lasvegas1_22_contenders, lasvegas1_22_corr, lasvegas1_22_contenders_corr = add_more_info(lasvegas1_22, lasvegas1_22_laps)\nphoenix1_22, phoenix1_22_contenders, phoenix1_22_corr, phoenix1_22_contenders_corr = add_more_info(phoenix1_22, phoenix1_22_laps)\natlanta1_22, atlanta1_22_contenders, atlanta1_22_corr, atlanta1_22_contenders_corr = add_more_info(atlanta1_22, atlanta1_22_laps)\ncota_22, cota_22_contenders, cota_22_corr, cota_22_contenders_corr = add_more_info(cota_22, cota_22_laps)\nrichmond1_22, richmond1_22_contenders, richmond1_22_corr, richmond1_22_contenders_corr = add_more_info(richmond1_22, richmond1_22_laps)\nmartinsville1_22, martinsville1_22_contenders, martinsville1_22_corr, martinsville1_22_contenders_corr = add_more_info(martinsville1_22, martinsville1_22_laps)\nbristoldirt_22, bristoldirt_22_contenders, bristoldirt_22_corr, bristoldirt_22_contenders_corr = add_more_info(bristoldirt_22, bristoldirt_22_laps)\ntalladega1_22, talladega1_22_contenders, talladega1_22_corr, talladega1_22_contenders_corr = add_more_info(talladega1_22, talladega1_22_laps)\ndover_22, dover_22_contenders, dover_22_corr, dover_22_contenders_corr = add_more_info(dover_22, dover_22_laps)\ndarlington1_22, darlington1_22_contenders, darlington1_22_corr, darlington1_22_contenders_corr = add_more_info(darlington1_22, darlington1_22_laps)\nkansas1_22, kansas1_22_contenders, kansas1_22_corr, kansas1_22_contenders_corr = add_more_info(kansas1_22, kansas1_22_laps)\n",
   "execution_count": null,
   "outputs": []
  },
  {
   "cell_type": "code",
   "metadata": {
    "tags": [],
    "deepnote_to_be_reexecuted": false,
    "source_hash": "136c73c4",
    "execution_start": 1653006228733,
    "execution_millis": 10946959,
    "deepnote_table_state": {
     "pageSize": 10,
     "pageIndex": 3,
     "filters": [],
     "sortBy": [
      {
       "id": "Driver",
       "type": "asc"
      }
     ]
    },
    "deepnote_table_loading": false,
    "cell_id": "00020-8e11fa9d-6126-4e33-a705-ec4de9814557",
    "deepnote_cell_type": "code",
    "deepnote_cell_height": 81.453125
   },
   "source": "#dover_22",
   "execution_count": null,
   "outputs": []
  },
  {
   "cell_type": "code",
   "metadata": {
    "tags": [],
    "deepnote_to_be_reexecuted": false,
    "source_hash": "6804c28d",
    "execution_start": 1653006228775,
    "execution_millis": 10946948,
    "cell_id": "00021-04753c55-5bac-426f-a855-6f93960cf16d",
    "deepnote_cell_type": "code",
    "deepnote_cell_height": 81.453125
   },
   "source": "#Bristol[Bristol['Driver']== 'Shane Golobic']",
   "execution_count": null,
   "outputs": []
  },
  {
   "cell_type": "markdown",
   "source": "Create the \"Same Races\" dataframes for 2021 and 2022. The \"Same Races\" are the races that we have available that took place in both 2021 and 2022. ",
   "metadata": {
    "cell_id": "93427af822b449b0a52072043bc42593",
    "tags": [],
    "deepnote_cell_type": "markdown",
    "deepnote_cell_height": 75.265625
   }
  },
  {
   "cell_type": "code",
   "metadata": {
    "tags": [],
    "deepnote_to_be_reexecuted": false,
    "source_hash": "1431399b",
    "execution_start": 1653006228800,
    "execution_millis": 10946974,
    "cell_id": "00022-39da9eff-539c-46a9-b514-fbb974f1d2b4",
    "deepnote_cell_type": "code",
    "deepnote_cell_height": 189.46875
   },
   "source": "#Joining 2021 and 2022 races that match\nsameraces_21 = pd.DataFrame().append([daytona1_21, lasvegas1_21, phoenix1_21, atlanta1_21, richmond1_21, \\\n            martinsville1_21, bristoldirt_21, talladega1_21, dover_21, darlington1_21, kansas1_21])\n\nsameraces_22 = pd.DataFrame().append([daytona1_22, lasvegas1_22, phoenix1_22, atlanta1_22, richmond1_22, \\\n            martinsville1_22, bristoldirt_22, talladega1_22, dover_22, darlington1_22, kansas1_22])\n",
   "execution_count": null,
   "outputs": []
  },
  {
   "cell_type": "markdown",
   "source": "Create the \"All Races\" dataframes. These dataframes include all of the race data available for 2021 and 2022. There's a lot more race data for 2021 than for 2022. For some analysis we can use all of the data. For other analysis we'll want to compare only races that are the same for both years.\n",
   "metadata": {
    "cell_id": "d7e544189d764ebc801c22a912069b41",
    "tags": [],
    "deepnote_cell_type": "markdown",
    "deepnote_cell_height": 97.671875
   }
  },
  {
   "cell_type": "code",
   "metadata": {
    "tags": [],
    "deepnote_to_be_reexecuted": false,
    "source_hash": "2a5c56e5",
    "execution_start": 1653006228870,
    "execution_millis": 10946928,
    "cell_id": "00023-890e7f82-094b-4244-a750-e93b5f8342da",
    "deepnote_cell_type": "code",
    "deepnote_cell_height": 261.453125
   },
   "source": "# Creating dataframes for all of the races in 2021 and 2022, respectively\nallraces_21 = pd.DataFrame().append([daytona1_21, daytonarc_21, homestead_21, lasvegas1_21, phoenix1_21,\n            atlanta1_21, bristoldirt_21, martinsville1_21, richmond1_21, talladega1_21, kansas1_21, darlington1_21,\n            dover_21, cota_21, charlotte_21, sonoma_21, nashville_21, pocono1_21, pocono2_21, roadamerica_21,\n            atlanta2_21, loudon_21, watkinsglen_21, indianapolisrc_21, michigan_21, daytona2_21,\n            darlington2_21, richmond2_21, bristol_21, lasvegas2_21, talladega2_21, charlotterc_21, texas_21,\n            kansas2_21, martinsville2_21, phoenix2_21])\n\nallraces_22 = pd.DataFrame().append([daytona1_22, autoclub_22, lasvegas1_22, phoenix1_22, atlanta1_22,\n            cota_22, richmond1_22, martinsville1_22, bristoldirt_22, talladega1_22, dover_22, darlington1_22,\n            kansas1_22])",
   "execution_count": null,
   "outputs": []
  },
  {
   "cell_type": "code",
   "metadata": {
    "tags": [],
    "deepnote_to_be_reexecuted": false,
    "source_hash": "f65282e2",
    "execution_start": 1653006228871,
    "execution_millis": 10946742,
    "cell_id": "00024-6b0865ec-5d54-45fd-a866-a29b3a774579",
    "deepnote_cell_type": "code",
    "deepnote_cell_height": 81.453125
   },
   "source": "#races22[races22['Driver']== 'Shane Golobic']",
   "execution_count": null,
   "outputs": []
  },
  {
   "cell_type": "code",
   "metadata": {
    "tags": [],
    "deepnote_to_be_reexecuted": false,
    "source_hash": "60375885",
    "execution_start": 1653006228915,
    "execution_millis": 10946745,
    "cell_id": "00025-9bb579a7-5d65-42d2-a747-5584858e1525",
    "deepnote_cell_type": "code",
    "deepnote_cell_height": 81.453125
   },
   "source": "sameraces_21_22 = pd.concat([sameraces_21, sameraces_22], ignore_index=True)",
   "execution_count": null,
   "outputs": []
  },
  {
   "cell_type": "markdown",
   "source": "Sending the final dataframes to pickle to use for analysis in other notebooks.",
   "metadata": {
    "cell_id": "8b4861263d664b689c59dedefd595c80",
    "tags": [],
    "deepnote_cell_type": "markdown",
    "deepnote_cell_height": 52.859375
   }
  },
  {
   "cell_type": "code",
   "metadata": {
    "tags": [],
    "deepnote_to_be_reexecuted": false,
    "source_hash": "d3b15a6",
    "execution_start": 1653006228919,
    "execution_millis": 10946753,
    "cell_id": "00026-53c0727d-1862-4354-86c4-ef980f4e0ad1",
    "deepnote_cell_type": "code",
    "deepnote_cell_height": 153.46875
   },
   "source": "sameraces_21.to_pickle(\"/work/Milestone_I/data/Races_Combined/sameraces_21.pkl\")\nsameraces_22.to_pickle(\"/work/Milestone_I/data/Races_Combined/sameraces_22.pkl\")\nsameraces_21_22.to_pickle(\"/work/Milestone_I/data/Races_Combined/sameraces_21_22.pkl\")\nallraces_21.to_pickle(\"/work/Milestone_I/data/Races_Combined/allraces_21.pkl\")\nallraces_22.to_pickle(\"/work/Milestone_I/data/Races_Combined/allraces_22.pkl\")",
   "execution_count": null,
   "outputs": []
  },
  {
   "cell_type": "code",
   "metadata": {
    "tags": [],
    "deepnote_to_be_reexecuted": false,
    "source_hash": "f46580c4",
    "execution_start": 1653006228919,
    "execution_millis": 10946718,
    "cell_id": "00027-20929333-cfdd-4970-9da3-ef7b06207a20",
    "deepnote_cell_type": "code",
    "deepnote_cell_height": 118.875
   },
   "source": "sameraces_21_22.shape",
   "execution_count": null,
   "outputs": [
    {
     "output_type": "execute_result",
     "execution_count": 28,
     "data": {
      "text/plain": "(803, 38)"
     },
     "metadata": {}
    }
   ]
  },
  {
   "cell_type": "code",
   "metadata": {
    "tags": [],
    "deepnote_to_be_reexecuted": false,
    "source_hash": "b623e53d",
    "execution_start": 1653006229238,
    "execution_millis": 1,
    "cell_id": "00029-d47cd25c-e1d1-42ed-b8c8-2f60470f2f70",
    "owner_user_id": "45152886-e80a-4457-8e84-9d99a262197d",
    "deepnote_cell_type": "code",
    "deepnote_cell_height": 81.453125
   },
   "source": "",
   "execution_count": null,
   "outputs": []
  },
  {
   "cell_type": "markdown",
   "source": "<a style='text-decoration:none;line-height:16px;display:flex;color:#5B5B62;padding:10px;justify-content:end;' href='https://deepnote.com?utm_source=created-in-deepnote-cell&projectId=9ef4eb23-f38f-47e8-bfb0-51d8616b0dee' target=\"_blank\">\n<img alt='Created in deepnote.com' style='display:inline;max-height:16px;margin:0px;margin-right:7.5px;' src='data:image/svg+xml;base64,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' > </img>\nCreated in <span style='font-weight:600;margin-left:4px;'>Deepnote</span></a>",
   "metadata": {
    "tags": [],
    "created_in_deepnote_cell": true,
    "deepnote_cell_type": "markdown"
   }
  }
 ],
 "nbformat": 4,
 "nbformat_minor": 4,
 "metadata": {
  "kernelspec": {
   "display_name": "Python 3",
   "language": "python",
   "name": "python3"
  },
  "language_info": {
   "codemirror_mode": {
    "name": "ipython",
    "version": 3
   },
   "file_extension": ".py",
   "mimetype": "text/x-python",
   "name": "python",
   "nbconvert_exporter": "python",
   "pygments_lexer": "ipython3",
   "version": "3.8.5"
  },
  "deepnote_notebook_id": "846ab2e6-a213-4aee-a788-71c71a6ae4f1",
  "deepnote": {},
  "deepnote_execution_queue": []
 }
}