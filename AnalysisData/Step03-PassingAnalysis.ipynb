{
 "cells": [
  {
   "cell_type": "code",
   "metadata": {
    "tags": [],
    "deepnote_to_be_reexecuted": false,
    "source_hash": "b01a95aa",
    "execution_start": 1653428092652,
    "execution_millis": 5,
    "cell_id": "61b59a28-1fd4-4692-8385-1b48336f7075",
    "deepnote_cell_type": "code",
    "deepnote_cell_height": 99.46875
   },
   "source": "#!pip install -U pandasql\n#!pip install statsmodels",
   "outputs": [],
   "execution_count": null
  },
  {
   "cell_type": "code",
   "metadata": {
    "tags": [],
    "deepnote_to_be_reexecuted": false,
    "source_hash": "ee12eb6e",
    "execution_start": 1653344102532,
    "execution_millis": 6216,
    "cell_id": "00001-006bee7e-c7fc-4d42-9110-3333d1514c68",
    "deepnote_cell_type": "code",
    "deepnote_cell_height": 207.453125
   },
   "source": "import pandas as pd\npd.set_option('max_columns', None)\nimport numpy as np\nimport seaborn as sns\nimport matplotlib.pyplot as plt\n#from pandasql import sqldf\n\nimport plotly.express as px",
   "execution_count": null,
   "outputs": []
  },
  {
   "cell_type": "code",
   "metadata": {
    "tags": [],
    "deepnote_to_be_reexecuted": false,
    "source_hash": "45c4a4d",
    "execution_start": 1653428622814,
    "execution_millis": 103,
    "cell_id": "00002-a38e98ca-f9d5-4cc1-a610-b761b11d5a55",
    "owner_user_id": "dbcfdc03-cb41-42df-88d8-3fffbb8930b7",
    "deepnote_cell_type": "code",
    "deepnote_cell_height": 360.859375
   },
   "source": "# Bring in the pickled files\n# if any of the pickle files cannot be reached, please update the directories\n# to the download loaction of the zip then navigate to data/Races_Combined\n\nallraces21 = pd.read_pickle(\"/work/Milestone_I/data/Races_Combined/allraces_21.pkl\")\nallraces22 = pd.read_pickle(\"/work/Milestone_I/data/Races_Combined/allraces_22.pkl\")\n\nsameraces21 = pd.read_pickle(\"/work/Milestone_I/data/Races_Combined/sameraces_21.pkl\")\nsameraces22 = pd.read_pickle(\"/work/Milestone_I/data/Races_Combined/sameraces_22.pkl\")\nsameraces21_22 = pd.read_pickle(\"/work/Milestone_I/data/Races_Combined/sameraces_21_22.pkl\")\nallraces21_22 = pd.concat([allraces21, allraces22], ignore_index=True)\n\n",
   "outputs": [
    {
     "output_type": "error",
     "ename": "NameError",
     "evalue": "name 'pd' is not defined",
     "traceback": [
      "\u001b[0;31m---------------------------------------------------------------------------\u001b[0m",
      "\u001b[0;31mNameError\u001b[0m                                 Traceback (most recent call last)",
      "\u001b[0;32m<ipython-input-2-76f3bee2ba22>\u001b[0m in \u001b[0;36m<module>\u001b[0;34m\u001b[0m\n\u001b[1;32m      3\u001b[0m \u001b[0;31m# to the download loaction of the zip then navigate to data/Races_Combined\u001b[0m\u001b[0;34m\u001b[0m\u001b[0;34m\u001b[0m\u001b[0;34m\u001b[0m\u001b[0m\n\u001b[1;32m      4\u001b[0m \u001b[0;34m\u001b[0m\u001b[0m\n\u001b[0;32m----> 5\u001b[0;31m \u001b[0mallraces21\u001b[0m \u001b[0;34m=\u001b[0m \u001b[0mpd\u001b[0m\u001b[0;34m.\u001b[0m\u001b[0mread_pickle\u001b[0m\u001b[0;34m(\u001b[0m\u001b[0;34m\"/work/Milestone_I/data/Races_Combined/allraces_21.pkl\"\u001b[0m\u001b[0;34m)\u001b[0m\u001b[0;34m\u001b[0m\u001b[0;34m\u001b[0m\u001b[0m\n\u001b[0m\u001b[1;32m      6\u001b[0m \u001b[0mallraces22\u001b[0m \u001b[0;34m=\u001b[0m \u001b[0mpd\u001b[0m\u001b[0;34m.\u001b[0m\u001b[0mread_pickle\u001b[0m\u001b[0;34m(\u001b[0m\u001b[0;34m\"/work/Milestone_I/data/Races_Combined/allraces_22.pkl\"\u001b[0m\u001b[0;34m)\u001b[0m\u001b[0;34m\u001b[0m\u001b[0;34m\u001b[0m\u001b[0m\n\u001b[1;32m      7\u001b[0m \u001b[0;34m\u001b[0m\u001b[0m\n",
      "\u001b[0;31mNameError\u001b[0m: name 'pd' is not defined"
     ]
    }
   ],
   "execution_count": null
  },
  {
   "cell_type": "code",
   "metadata": {
    "tags": [],
    "deepnote_to_be_reexecuted": false,
    "source_hash": "c796b328",
    "execution_start": 1653344108866,
    "execution_millis": 20,
    "cell_id": "00003-850e964e-550b-418d-b6d5-190f0d5a69af",
    "deepnote_cell_type": "code",
    "deepnote_cell_height": 81.453125
   },
   "source": "#allraces21_22.columns",
   "execution_count": null,
   "outputs": []
  },
  {
   "cell_type": "markdown",
   "source": "This notebook is used to look at the Green Passes - comparing 2021 to 2022...",
   "metadata": {
    "tags": [],
    "cell_id": "00004-67331db1-904e-4e6a-b1fc-73a0e919034f",
    "deepnote_cell_type": "markdown",
    "deepnote_cell_height": 52.859375
   }
  },
  {
   "cell_type": "code",
   "metadata": {
    "tags": [],
    "deepnote_to_be_reexecuted": false,
    "source_hash": "f358f12d",
    "execution_start": 1653344108898,
    "execution_millis": 53,
    "cell_id": "00005-95239218-a997-4496-92d6-8a4572afca8f",
    "deepnote_cell_type": "code",
    "deepnote_cell_height": 171.453125
   },
   "source": "# Starting with just plain passing year over year\npassdiff_yoy = allraces21_22.groupby(['Season'])[['Pass Differential']].mean().reset_index()\ngrnpass_yoy = allraces21_22.groupby(['Season'])[['Green Passes']].mean().reset_index()\n#grnpassed_yoy = allraces21_22.groupby(['Season'])[['Green Passed']].mean().reset_index()\nqltypass_yoy = allraces21_22.groupby(['Season'])[['Quality Passes']].mean().reset_index()\npctqltypass_yoy = allraces21_22.groupby(['Season'])[['% Quality Passes']].mean().reset_index()",
   "execution_count": null,
   "outputs": []
  },
  {
   "cell_type": "code",
   "metadata": {
    "tags": [],
    "deepnote_to_be_reexecuted": false,
    "source_hash": "9e1bc834",
    "execution_start": 1653344108958,
    "execution_millis": 8,
    "cell_id": "00006-2f7b31f8-7b9e-487b-862f-304bd7511787",
    "deepnote_cell_type": "code",
    "deepnote_cell_height": 81.453125
   },
   "source": "#all_passing_df = pd.merge(passing_yoy, passdiff_yoy, on=\"Season\")",
   "execution_count": null,
   "outputs": []
  },
  {
   "cell_type": "code",
   "metadata": {
    "tags": [],
    "deepnote_to_be_reexecuted": false,
    "source_hash": "779bf94d",
    "execution_start": 1653344108981,
    "execution_millis": 35,
    "cell_id": "00007-e19b829a-fcec-4079-997c-50bb71dae7c9",
    "owner_user_id": "45152886-e80a-4457-8e84-9d99a262197d",
    "deepnote_cell_type": "code",
    "deepnote_cell_height": 117.453125
   },
   "source": "from functools import reduce\ndata_frames = [passdiff_yoy, grnpass_yoy, qltypass_yoy, pctqltypass_yoy]\nall_passing_df = reduce(lambda  left,right: pd.merge(left,right,on=['Season'], how='outer'), data_frames)",
   "execution_count": null,
   "outputs": []
  },
  {
   "cell_type": "code",
   "metadata": {
    "tags": [],
    "deepnote_to_be_reexecuted": false,
    "source_hash": "c5d1a95",
    "execution_start": 1653344109023,
    "execution_millis": 339,
    "cell_id": "00008-43535123-5b43-4b87-b53c-8edb6363c594",
    "deepnote_cell_type": "code",
    "deepnote_cell_height": 272.90625
   },
   "source": "all_passing_df",
   "execution_count": null,
   "outputs": [
    {
     "output_type": "execute_result",
     "execution_count": 8,
     "data": {
      "application/vnd.deepnote.dataframe.v3+json": {
       "column_count": 5,
       "row_count": 2,
       "columns": [
        {
         "name": "Season",
         "dtype": "int64",
         "stats": {
          "unique_count": 2,
          "nan_count": 0,
          "min": "2021",
          "max": "2022",
          "histogram": [
           {
            "bin_start": 2021,
            "bin_end": 2021.1,
            "count": 1
           },
           {
            "bin_start": 2021.1,
            "bin_end": 2021.2,
            "count": 0
           },
           {
            "bin_start": 2021.2,
            "bin_end": 2021.3,
            "count": 0
           },
           {
            "bin_start": 2021.3,
            "bin_end": 2021.4,
            "count": 0
           },
           {
            "bin_start": 2021.4,
            "bin_end": 2021.5,
            "count": 0
           },
           {
            "bin_start": 2021.5,
            "bin_end": 2021.6,
            "count": 0
           },
           {
            "bin_start": 2021.6,
            "bin_end": 2021.7,
            "count": 0
           },
           {
            "bin_start": 2021.7,
            "bin_end": 2021.8,
            "count": 0
           },
           {
            "bin_start": 2021.8,
            "bin_end": 2021.9,
            "count": 0
           },
           {
            "bin_start": 2021.9,
            "bin_end": 2022,
            "count": 1
           }
          ]
         }
        },
        {
         "name": "Pass Differential",
         "dtype": "float64",
         "stats": {
          "unique_count": 2,
          "nan_count": 0,
          "min": "-0.02746844840386043",
          "max": "0.1032258064516129",
          "histogram": [
           {
            "bin_start": -0.02746844840386043,
            "bin_end": -0.014399022918313097,
            "count": 1
           },
           {
            "bin_start": -0.014399022918313097,
            "bin_end": -0.0013295974327657625,
            "count": 0
           },
           {
            "bin_start": -0.0013295974327657625,
            "bin_end": 0.011739828052781572,
            "count": 0
           },
           {
            "bin_start": 0.011739828052781572,
            "bin_end": 0.024809253538328906,
            "count": 0
           },
           {
            "bin_start": 0.024809253538328906,
            "bin_end": 0.03787867902387624,
            "count": 0
           },
           {
            "bin_start": 0.03787867902387624,
            "bin_end": 0.050948104509423574,
            "count": 0
           },
           {
            "bin_start": 0.050948104509423574,
            "bin_end": 0.0640175299949709,
            "count": 0
           },
           {
            "bin_start": 0.0640175299949709,
            "bin_end": 0.07708695548051825,
            "count": 0
           },
           {
            "bin_start": 0.07708695548051825,
            "bin_end": 0.09015638096606557,
            "count": 0
           },
           {
            "bin_start": 0.09015638096606557,
            "bin_end": 0.1032258064516129,
            "count": 1
           }
          ]
         }
        },
        {
         "name": "Green Passes",
         "dtype": "float64",
         "stats": {
          "unique_count": 2,
          "nan_count": 0,
          "min": "78.60950259836675",
          "max": "92.34408602150538",
          "histogram": [
           {
            "bin_start": 78.60950259836675,
            "bin_end": 79.98296094068061,
            "count": 1
           },
           {
            "bin_start": 79.98296094068061,
            "bin_end": 81.35641928299447,
            "count": 0
           },
           {
            "bin_start": 81.35641928299447,
            "bin_end": 82.72987762530833,
            "count": 0
           },
           {
            "bin_start": 82.72987762530833,
            "bin_end": 84.1033359676222,
            "count": 0
           },
           {
            "bin_start": 84.1033359676222,
            "bin_end": 85.47679430993605,
            "count": 0
           },
           {
            "bin_start": 85.47679430993605,
            "bin_end": 86.85025265224992,
            "count": 0
           },
           {
            "bin_start": 86.85025265224992,
            "bin_end": 88.22371099456379,
            "count": 0
           },
           {
            "bin_start": 88.22371099456379,
            "bin_end": 89.59716933687766,
            "count": 0
           },
           {
            "bin_start": 89.59716933687766,
            "bin_end": 90.97062767919151,
            "count": 0
           },
           {
            "bin_start": 90.97062767919151,
            "bin_end": 92.34408602150538,
            "count": 1
           }
          ]
         }
        },
        {
         "name": "Quality Passes",
         "dtype": "float64",
         "stats": {
          "unique_count": 2,
          "nan_count": 0,
          "min": "30.020786933927244",
          "max": "41.535483870967745",
          "histogram": [
           {
            "bin_start": 30.020786933927244,
            "bin_end": 31.172256627631295,
            "count": 1
           },
           {
            "bin_start": 31.172256627631295,
            "bin_end": 32.32372632133534,
            "count": 0
           },
           {
            "bin_start": 32.32372632133534,
            "bin_end": 33.475196015039394,
            "count": 0
           },
           {
            "bin_start": 33.475196015039394,
            "bin_end": 34.626665708743445,
            "count": 0
           },
           {
            "bin_start": 34.626665708743445,
            "bin_end": 35.7781354024475,
            "count": 0
           },
           {
            "bin_start": 35.7781354024475,
            "bin_end": 36.92960509615155,
            "count": 0
           },
           {
            "bin_start": 36.92960509615155,
            "bin_end": 38.08107478985559,
            "count": 0
           },
           {
            "bin_start": 38.08107478985559,
            "bin_end": 39.23254448355964,
            "count": 0
           },
           {
            "bin_start": 39.23254448355964,
            "bin_end": 40.384014177263694,
            "count": 0
           },
           {
            "bin_start": 40.384014177263694,
            "bin_end": 41.535483870967745,
            "count": 1
           }
          ]
         }
        },
        {
         "name": "% Quality Passes",
         "dtype": "float64",
         "stats": {
          "unique_count": 2,
          "nan_count": 0,
          "min": "32.4292204899777",
          "max": "38.3415483870968",
          "histogram": [
           {
            "bin_start": 32.4292204899777,
            "bin_end": 33.02045327968961,
            "count": 1
           },
           {
            "bin_start": 33.02045327968961,
            "bin_end": 33.61168606940152,
            "count": 0
           },
           {
            "bin_start": 33.61168606940152,
            "bin_end": 34.20291885911343,
            "count": 0
           },
           {
            "bin_start": 34.20291885911343,
            "bin_end": 34.79415164882534,
            "count": 0
           },
           {
            "bin_start": 34.79415164882534,
            "bin_end": 35.38538443853725,
            "count": 0
           },
           {
            "bin_start": 35.38538443853725,
            "bin_end": 35.97661722824916,
            "count": 0
           },
           {
            "bin_start": 35.97661722824916,
            "bin_end": 36.56785001796107,
            "count": 0
           },
           {
            "bin_start": 36.56785001796107,
            "bin_end": 37.15908280767298,
            "count": 0
           },
           {
            "bin_start": 37.15908280767298,
            "bin_end": 37.75031559738489,
            "count": 0
           },
           {
            "bin_start": 37.75031559738489,
            "bin_end": 38.3415483870968,
            "count": 1
           }
          ]
         }
        },
        {
         "name": "_deepnote_index_column",
         "dtype": "int64"
        }
       ],
       "rows": [
        {
         "Season": 2021,
         "Pass Differential": -0.02746844840386043,
         "Green Passes": 78.60950259836675,
         "Quality Passes": 30.020786933927244,
         "% Quality Passes": 32.4292204899777,
         "_deepnote_index_column": 0
        },
        {
         "Season": 2022,
         "Pass Differential": 0.1032258064516129,
         "Green Passes": 92.34408602150538,
         "Quality Passes": 41.535483870967745,
         "% Quality Passes": 38.3415483870968,
         "_deepnote_index_column": 1
        }
       ]
      },
      "text/plain": "   Season  Pass Differential  Green Passes  Quality Passes  % Quality Passes\n0    2021          -0.027468     78.609503       30.020787         32.429220\n1    2022           0.103226     92.344086       41.535484         38.341548",
      "text/html": "<div>\n<style scoped>\n    .dataframe tbody tr th:only-of-type {\n        vertical-align: middle;\n    }\n\n    .dataframe tbody tr th {\n        vertical-align: top;\n    }\n\n    .dataframe thead th {\n        text-align: right;\n    }\n</style>\n<table border=\"1\" class=\"dataframe\">\n  <thead>\n    <tr style=\"text-align: right;\">\n      <th></th>\n      <th>Season</th>\n      <th>Pass Differential</th>\n      <th>Green Passes</th>\n      <th>Quality Passes</th>\n      <th>% Quality Passes</th>\n    </tr>\n  </thead>\n  <tbody>\n    <tr>\n      <th>0</th>\n      <td>2021</td>\n      <td>-0.027468</td>\n      <td>78.609503</td>\n      <td>30.020787</td>\n      <td>32.429220</td>\n    </tr>\n    <tr>\n      <th>1</th>\n      <td>2022</td>\n      <td>0.103226</td>\n      <td>92.344086</td>\n      <td>41.535484</td>\n      <td>38.341548</td>\n    </tr>\n  </tbody>\n</table>\n</div>"
     },
     "metadata": {}
    }
   ]
  },
  {
   "cell_type": "markdown",
   "source": "The amount of difference between Green Passes in 2021 vs 2022 looks like it could be significant. Next lets do a ttest on this and maybe a correlation to find out what those tell us...",
   "metadata": {
    "tags": [],
    "cell_id": "00009-5aa53f89-ad77-453e-b46f-fd6758ee3f23",
    "deepnote_cell_type": "markdown",
    "deepnote_cell_height": 75.265625
   }
  },
  {
   "cell_type": "code",
   "metadata": {
    "tags": [],
    "deepnote_to_be_reexecuted": false,
    "source_hash": "dea45e7c",
    "execution_start": 1653344109159,
    "execution_millis": 203,
    "cell_id": "00010-938cd3e5-0f50-4507-8e15-ec55bd969e91",
    "deepnote_cell_type": "code",
    "deepnote_cell_height": 226.890625,
    "deepnote_output_heights": [
     21.171875
    ]
   },
   "source": "import scipy.stats as stats\n\ngpdata_21 = allraces21['Green Passes'].to_list()\ngpdata_22 = allraces22['Green Passes'].to_list()\n\n#perform two sample t-test with equal variances\nstats.ttest_ind(a=gpdata_21, b=gpdata_22, equal_var=True)",
   "execution_count": null,
   "outputs": [
    {
     "output_type": "execute_result",
     "execution_count": 9,
     "data": {
      "text/plain": "Ttest_indResult(statistic=-3.8144921115805235, pvalue=0.000141041972265661)"
     },
     "metadata": {}
    }
   ]
  },
  {
   "cell_type": "markdown",
   "source": "This shows that these two samples are statistically significant. We'll make a plot of this as a possibility for our slides...",
   "metadata": {
    "tags": [],
    "cell_id": "00011-59e3171a-c3e0-47e0-8d22-4bcf5aa67974",
    "deepnote_cell_type": "markdown",
    "deepnote_cell_height": 52.859375
   }
  },
  {
   "cell_type": "code",
   "metadata": {
    "tags": [],
    "deepnote_to_be_reexecuted": false,
    "source_hash": "7096729a",
    "execution_start": 1653344109165,
    "execution_millis": 198,
    "cell_id": "00012-6c9eb2cc-65e5-4b01-861e-fbff77ee5e37",
    "deepnote_cell_type": "code",
    "deepnote_cell_height": 208.875,
    "deepnote_output_heights": [
     21.171875
    ]
   },
   "source": "# Curious about pass differential - lets do the same thing.\ngpdata_21 = allraces21['Pass Differential'].to_list()\ngpdata_22 = allraces22['Pass Differential'].to_list()\n\n#perform two sample t-test with equal variances\nstats.ttest_ind(a=gpdata_21, b=gpdata_22, equal_var=True)",
   "execution_count": null,
   "outputs": [
    {
     "output_type": "execute_result",
     "execution_count": 10,
     "data": {
      "text/plain": "Ttest_indResult(statistic=-0.14310929367842248, pvalue=0.8862197944855443)"
     },
     "metadata": {}
    }
   ]
  },
  {
   "cell_type": "markdown",
   "source": "Pass differential is not much different. The amount of passing is but the difference between drivers is not.",
   "metadata": {
    "tags": [],
    "cell_id": "00013-030ba713-4e64-4c0d-917b-8ca0cc210302",
    "deepnote_cell_type": "markdown",
    "deepnote_cell_height": 52.859375
   }
  },
  {
   "cell_type": "markdown",
   "source": "Same thing except for just the races that are the same between 2021 and 2022...",
   "metadata": {
    "tags": [],
    "cell_id": "00014-1b8edd75-13ac-4c57-ab6c-dfa5c9698173",
    "deepnote_cell_type": "markdown",
    "deepnote_cell_height": 52.859375
   }
  },
  {
   "cell_type": "code",
   "metadata": {
    "tags": [],
    "deepnote_to_be_reexecuted": false,
    "source_hash": "a6357337",
    "execution_start": 1653344109191,
    "execution_millis": 172,
    "cell_id": "00015-210834ce-f3af-42b7-92ff-a0f74ae494a3",
    "deepnote_cell_type": "code",
    "deepnote_cell_height": 416.90625
   },
   "source": "# Starting with just plain passing year over year\npassdiff_yoy = sameraces21_22.groupby(['Season'])[['Pass Differential']].mean().reset_index()\ngrnpass_yoy = sameraces21_22.groupby(['Season'])[['Green Passes']].mean().reset_index()\n#grnpassed_yoy = sameraces21_22.groupby(['Season'])[['Green Passed']].mean().reset_index()\nqltypass_yoy = sameraces21_22.groupby(['Season'])[['Quality Passes']].mean().reset_index()\npctqltypass_yoy = sameraces21_22.groupby(['Season'])[['% Quality Passes']].mean().reset_index()\ndata_frames = [passdiff_yoy, grnpass_yoy, qltypass_yoy, pctqltypass_yoy]\nsr_all_passing_df = reduce(lambda  left,right: pd.merge(left,right,on=['Season'], how='outer'), data_frames)\nsr_all_passing_df",
   "execution_count": null,
   "outputs": [
    {
     "output_type": "execute_result",
     "execution_count": 11,
     "data": {
      "application/vnd.deepnote.dataframe.v3+json": {
       "column_count": 5,
       "row_count": 2,
       "columns": [
        {
         "name": "Season",
         "dtype": "int64",
         "stats": {
          "unique_count": 2,
          "nan_count": 0,
          "min": "2021",
          "max": "2022",
          "histogram": [
           {
            "bin_start": 2021,
            "bin_end": 2021.1,
            "count": 1
           },
           {
            "bin_start": 2021.1,
            "bin_end": 2021.2,
            "count": 0
           },
           {
            "bin_start": 2021.2,
            "bin_end": 2021.3,
            "count": 0
           },
           {
            "bin_start": 2021.3,
            "bin_end": 2021.4,
            "count": 0
           },
           {
            "bin_start": 2021.4,
            "bin_end": 2021.5,
            "count": 0
           },
           {
            "bin_start": 2021.5,
            "bin_end": 2021.6,
            "count": 0
           },
           {
            "bin_start": 2021.6,
            "bin_end": 2021.7,
            "count": 0
           },
           {
            "bin_start": 2021.7,
            "bin_end": 2021.8,
            "count": 0
           },
           {
            "bin_start": 2021.8,
            "bin_end": 2021.9,
            "count": 0
           },
           {
            "bin_start": 2021.9,
            "bin_end": 2022,
            "count": 1
           }
          ]
         }
        },
        {
         "name": "Pass Differential",
         "dtype": "float64",
         "stats": {
          "unique_count": 2,
          "nan_count": 0,
          "min": "0.0",
          "max": "0.10462287104622871",
          "histogram": [
           {
            "bin_start": 0,
            "bin_end": 0.01046228710462287,
            "count": 1
           },
           {
            "bin_start": 0.01046228710462287,
            "bin_end": 0.02092457420924574,
            "count": 0
           },
           {
            "bin_start": 0.02092457420924574,
            "bin_end": 0.031386861313868614,
            "count": 0
           },
           {
            "bin_start": 0.031386861313868614,
            "bin_end": 0.04184914841849148,
            "count": 0
           },
           {
            "bin_start": 0.04184914841849148,
            "bin_end": 0.05231143552311435,
            "count": 0
           },
           {
            "bin_start": 0.05231143552311435,
            "bin_end": 0.06277372262773723,
            "count": 0
           },
           {
            "bin_start": 0.06277372262773723,
            "bin_end": 0.0732360097323601,
            "count": 0
           },
           {
            "bin_start": 0.0732360097323601,
            "bin_end": 0.08369829683698296,
            "count": 0
           },
           {
            "bin_start": 0.08369829683698296,
            "bin_end": 0.09416058394160583,
            "count": 0
           },
           {
            "bin_start": 0.09416058394160583,
            "bin_end": 0.10462287104622871,
            "count": 1
           }
          ]
         }
        },
        {
         "name": "Green Passes",
         "dtype": "float64",
         "stats": {
          "unique_count": 2,
          "nan_count": 0,
          "min": "81.30656934306569",
          "max": "96.4515306122449",
          "histogram": [
           {
            "bin_start": 81.30656934306569,
            "bin_end": 82.82106546998361,
            "count": 1
           },
           {
            "bin_start": 82.82106546998361,
            "bin_end": 84.33556159690153,
            "count": 0
           },
           {
            "bin_start": 84.33556159690153,
            "bin_end": 85.85005772381945,
            "count": 0
           },
           {
            "bin_start": 85.85005772381945,
            "bin_end": 87.36455385073737,
            "count": 0
           },
           {
            "bin_start": 87.36455385073737,
            "bin_end": 88.87904997765528,
            "count": 0
           },
           {
            "bin_start": 88.87904997765528,
            "bin_end": 90.3935461045732,
            "count": 0
           },
           {
            "bin_start": 90.3935461045732,
            "bin_end": 91.90804223149114,
            "count": 0
           },
           {
            "bin_start": 91.90804223149114,
            "bin_end": 93.42253835840906,
            "count": 0
           },
           {
            "bin_start": 93.42253835840906,
            "bin_end": 94.93703448532698,
            "count": 0
           },
           {
            "bin_start": 94.93703448532698,
            "bin_end": 96.4515306122449,
            "count": 1
           }
          ]
         }
        },
        {
         "name": "Quality Passes",
         "dtype": "float64",
         "stats": {
          "unique_count": 2,
          "nan_count": 0,
          "min": "34.85644768856448",
          "max": "44.77040816326531",
          "histogram": [
           {
            "bin_start": 34.85644768856448,
            "bin_end": 35.84784373603456,
            "count": 1
           },
           {
            "bin_start": 35.84784373603456,
            "bin_end": 36.839239783504645,
            "count": 0
           },
           {
            "bin_start": 36.839239783504645,
            "bin_end": 37.83063583097473,
            "count": 0
           },
           {
            "bin_start": 37.83063583097473,
            "bin_end": 38.82203187844481,
            "count": 0
           },
           {
            "bin_start": 38.82203187844481,
            "bin_end": 39.813427925914894,
            "count": 0
           },
           {
            "bin_start": 39.813427925914894,
            "bin_end": 40.80482397338498,
            "count": 0
           },
           {
            "bin_start": 40.80482397338498,
            "bin_end": 41.79622002085506,
            "count": 0
           },
           {
            "bin_start": 41.79622002085506,
            "bin_end": 42.78761606832514,
            "count": 0
           },
           {
            "bin_start": 42.78761606832514,
            "bin_end": 43.779012115795226,
            "count": 0
           },
           {
            "bin_start": 43.779012115795226,
            "bin_end": 44.77040816326531,
            "count": 1
           }
          ]
         }
        },
        {
         "name": "% Quality Passes",
         "dtype": "float64",
         "stats": {
          "unique_count": 2,
          "nan_count": 0,
          "min": "36.01058394160584",
          "max": "39.09831632653062",
          "histogram": [
           {
            "bin_start": 36.01058394160584,
            "bin_end": 36.319357180098315,
            "count": 1
           },
           {
            "bin_start": 36.319357180098315,
            "bin_end": 36.62813041859079,
            "count": 0
           },
           {
            "bin_start": 36.62813041859079,
            "bin_end": 36.93690365708327,
            "count": 0
           },
           {
            "bin_start": 36.93690365708327,
            "bin_end": 37.24567689557575,
            "count": 0
           },
           {
            "bin_start": 37.24567689557575,
            "bin_end": 37.55445013406823,
            "count": 0
           },
           {
            "bin_start": 37.55445013406823,
            "bin_end": 37.86322337256071,
            "count": 0
           },
           {
            "bin_start": 37.86322337256071,
            "bin_end": 38.17199661105319,
            "count": 0
           },
           {
            "bin_start": 38.17199661105319,
            "bin_end": 38.480769849545666,
            "count": 0
           },
           {
            "bin_start": 38.480769849545666,
            "bin_end": 38.789543088038144,
            "count": 0
           },
           {
            "bin_start": 38.789543088038144,
            "bin_end": 39.09831632653062,
            "count": 1
           }
          ]
         }
        },
        {
         "name": "_deepnote_index_column",
         "dtype": "int64"
        }
       ],
       "rows": [
        {
         "Season": 2021,
         "Pass Differential": 0.10462287104622871,
         "Green Passes": 81.30656934306569,
         "Quality Passes": 34.85644768856448,
         "% Quality Passes": 36.01058394160584,
         "_deepnote_index_column": 0
        },
        {
         "Season": 2022,
         "Pass Differential": 0,
         "Green Passes": 96.4515306122449,
         "Quality Passes": 44.77040816326531,
         "% Quality Passes": 39.09831632653062,
         "_deepnote_index_column": 1
        }
       ]
      },
      "text/plain": "   Season  Pass Differential  Green Passes  Quality Passes  % Quality Passes\n0    2021           0.104623     81.306569       34.856448         36.010584\n1    2022           0.000000     96.451531       44.770408         39.098316",
      "text/html": "<div>\n<style scoped>\n    .dataframe tbody tr th:only-of-type {\n        vertical-align: middle;\n    }\n\n    .dataframe tbody tr th {\n        vertical-align: top;\n    }\n\n    .dataframe thead th {\n        text-align: right;\n    }\n</style>\n<table border=\"1\" class=\"dataframe\">\n  <thead>\n    <tr style=\"text-align: right;\">\n      <th></th>\n      <th>Season</th>\n      <th>Pass Differential</th>\n      <th>Green Passes</th>\n      <th>Quality Passes</th>\n      <th>% Quality Passes</th>\n    </tr>\n  </thead>\n  <tbody>\n    <tr>\n      <th>0</th>\n      <td>2021</td>\n      <td>0.104623</td>\n      <td>81.306569</td>\n      <td>34.856448</td>\n      <td>36.010584</td>\n    </tr>\n    <tr>\n      <th>1</th>\n      <td>2022</td>\n      <td>0.000000</td>\n      <td>96.451531</td>\n      <td>44.770408</td>\n      <td>39.098316</td>\n    </tr>\n  </tbody>\n</table>\n</div>"
     },
     "metadata": {}
    }
   ]
  },
  {
   "cell_type": "markdown",
   "source": "Lets do the same ttest on just the races that are the same...",
   "metadata": {
    "tags": [],
    "cell_id": "00016-eefcd40f-d697-447a-af48-9ec0d77f3750",
    "deepnote_cell_type": "markdown",
    "deepnote_cell_height": 52.859375
   }
  },
  {
   "cell_type": "code",
   "metadata": {
    "tags": [],
    "deepnote_to_be_reexecuted": false,
    "source_hash": "81f0fdc",
    "execution_start": 1653344109417,
    "execution_millis": 1,
    "cell_id": "00017-8dd589c4-0d2b-46f9-85cc-022be4441b42",
    "deepnote_cell_type": "code",
    "deepnote_cell_height": 190.890625,
    "deepnote_output_heights": [
     21.171875
    ]
   },
   "source": "gpdata_21 = sameraces21['Green Passes'].to_list()\ngpdata_22 = sameraces22['Green Passes'].to_list()\n\n#perform two sample t-test with equal variances\nstats.ttest_ind(a=gpdata_21, b=gpdata_22, equal_var=True)",
   "execution_count": null,
   "outputs": [
    {
     "output_type": "execute_result",
     "execution_count": 12,
     "data": {
      "text/plain": "Ttest_indResult(statistic=-2.875646819352095, pvalue=0.004138963944956142)"
     },
     "metadata": {}
    }
   ]
  },
  {
   "cell_type": "markdown",
   "source": "The pvalue changed very slightly. Still significant. ",
   "metadata": {
    "tags": [],
    "cell_id": "00018-71a2d632-09ab-4347-a94f-8314332310fa",
    "deepnote_cell_type": "markdown",
    "deepnote_cell_height": 52.859375
   }
  },
  {
   "cell_type": "code",
   "metadata": {
    "tags": [],
    "deepnote_to_be_reexecuted": false,
    "source_hash": "7308027d",
    "execution_start": 1653344109419,
    "execution_millis": 11,
    "cell_id": "00019-338bf03c-985a-475f-9a73-23e56c198235",
    "deepnote_cell_type": "code",
    "deepnote_cell_height": 190.890625,
    "deepnote_output_heights": [
     21.171875
    ]
   },
   "source": "gpdata_21 = sameraces21['Pass Differential'].to_list()\ngpdata_22 = sameraces22['Pass Differential'].to_list()\n\n#perform two sample t-test with equal variances\nstats.ttest_ind(a=gpdata_21, b=gpdata_22, equal_var=True)",
   "execution_count": null,
   "outputs": [
    {
     "output_type": "execute_result",
     "execution_count": 13,
     "data": {
      "text/plain": "Ttest_indResult(statistic=0.09792517289645716, pvalue=0.9220162092734245)"
     },
     "metadata": {}
    }
   ]
  },
  {
   "cell_type": "markdown",
   "source": "Same outcome as all races. Pass differential is very close to the same.",
   "metadata": {
    "tags": [],
    "cell_id": "00020-d1e7de8c-3299-4e08-be79-576269a510a5",
    "deepnote_cell_type": "markdown",
    "deepnote_cell_height": 52.859375
   }
  },
  {
   "cell_type": "code",
   "metadata": {
    "tags": [],
    "deepnote_to_be_reexecuted": false,
    "source_hash": "c539360a",
    "execution_start": 1653344109462,
    "execution_millis": 83189986,
    "cell_id": "00021-81ee9314-14c2-4803-bb3c-10fbecf7ef48",
    "deepnote_cell_type": "code",
    "deepnote_cell_height": 135.46875
   },
   "source": "#Going to start a plot here...\nplt.style.use('_mpl-gallery')\n\n",
   "execution_count": null,
   "outputs": []
  },
  {
   "cell_type": "code",
   "metadata": {
    "tags": [],
    "deepnote_to_be_reexecuted": false,
    "source_hash": "3175eaaa",
    "execution_start": 1653344109463,
    "execution_millis": 11,
    "cell_id": "00022-8db948ab-c8e5-4c71-af91-0eca165df08e",
    "deepnote_cell_type": "code",
    "deepnote_cell_height": 171.453125
   },
   "source": "grnpass_std = sameraces21_22.groupby(['Season'])[['Green Passes']].std().reset_index()\ngrnpass_std.rename(columns={\"Green Passes\": \"Green Passes Std Dev\"}, inplace = True)\ngrnpass_avg = sameraces21_22.groupby(['Season'])[['Green Passes']].mean().reset_index()\ngrnpass_avg.rename(columns={\"Green Passes\": \"Green Passes Mean\"}, inplace = True)\ngrnpass_df = pd.merge(grnpass_std, grnpass_avg, on=\"Season\")\n",
   "execution_count": null,
   "outputs": []
  },
  {
   "cell_type": "code",
   "metadata": {
    "tags": [],
    "deepnote_to_be_reexecuted": false,
    "source_hash": "b5ef737e",
    "execution_start": 1653344109478,
    "execution_millis": 25,
    "cell_id": "00023-1352020f-258c-4911-b8b3-2638198189ca",
    "deepnote_cell_type": "code",
    "deepnote_cell_height": 272.90625
   },
   "source": "grnpass_df",
   "execution_count": null,
   "outputs": [
    {
     "output_type": "execute_result",
     "execution_count": 16,
     "data": {
      "application/vnd.deepnote.dataframe.v3+json": {
       "column_count": 3,
       "row_count": 2,
       "columns": [
        {
         "name": "Season",
         "dtype": "int64",
         "stats": {
          "unique_count": 2,
          "nan_count": 0,
          "min": "2021",
          "max": "2022",
          "histogram": [
           {
            "bin_start": 2021,
            "bin_end": 2021.1,
            "count": 1
           },
           {
            "bin_start": 2021.1,
            "bin_end": 2021.2,
            "count": 0
           },
           {
            "bin_start": 2021.2,
            "bin_end": 2021.3,
            "count": 0
           },
           {
            "bin_start": 2021.3,
            "bin_end": 2021.4,
            "count": 0
           },
           {
            "bin_start": 2021.4,
            "bin_end": 2021.5,
            "count": 0
           },
           {
            "bin_start": 2021.5,
            "bin_end": 2021.6,
            "count": 0
           },
           {
            "bin_start": 2021.6,
            "bin_end": 2021.7,
            "count": 0
           },
           {
            "bin_start": 2021.7,
            "bin_end": 2021.8,
            "count": 0
           },
           {
            "bin_start": 2021.8,
            "bin_end": 2021.9,
            "count": 0
           },
           {
            "bin_start": 2021.9,
            "bin_end": 2022,
            "count": 1
           }
          ]
         }
        },
        {
         "name": "Green Passes Std Dev",
         "dtype": "float64",
         "stats": {
          "unique_count": 2,
          "nan_count": 0,
          "min": "73.05733093803349",
          "max": "76.04201938951931",
          "histogram": [
           {
            "bin_start": 73.05733093803349,
            "bin_end": 73.35579978318206,
            "count": 1
           },
           {
            "bin_start": 73.35579978318206,
            "bin_end": 73.65426862833066,
            "count": 0
           },
           {
            "bin_start": 73.65426862833066,
            "bin_end": 73.95273747347923,
            "count": 0
           },
           {
            "bin_start": 73.95273747347923,
            "bin_end": 74.25120631862782,
            "count": 0
           },
           {
            "bin_start": 74.25120631862782,
            "bin_end": 74.5496751637764,
            "count": 0
           },
           {
            "bin_start": 74.5496751637764,
            "bin_end": 74.84814400892498,
            "count": 0
           },
           {
            "bin_start": 74.84814400892498,
            "bin_end": 75.14661285407357,
            "count": 0
           },
           {
            "bin_start": 75.14661285407357,
            "bin_end": 75.44508169922214,
            "count": 0
           },
           {
            "bin_start": 75.44508169922214,
            "bin_end": 75.74355054437073,
            "count": 0
           },
           {
            "bin_start": 75.74355054437073,
            "bin_end": 76.04201938951931,
            "count": 1
           }
          ]
         }
        },
        {
         "name": "Green Passes Mean",
         "dtype": "float64",
         "stats": {
          "unique_count": 2,
          "nan_count": 0,
          "min": "81.30656934306569",
          "max": "96.4515306122449",
          "histogram": [
           {
            "bin_start": 81.30656934306569,
            "bin_end": 82.82106546998361,
            "count": 1
           },
           {
            "bin_start": 82.82106546998361,
            "bin_end": 84.33556159690153,
            "count": 0
           },
           {
            "bin_start": 84.33556159690153,
            "bin_end": 85.85005772381945,
            "count": 0
           },
           {
            "bin_start": 85.85005772381945,
            "bin_end": 87.36455385073737,
            "count": 0
           },
           {
            "bin_start": 87.36455385073737,
            "bin_end": 88.87904997765528,
            "count": 0
           },
           {
            "bin_start": 88.87904997765528,
            "bin_end": 90.3935461045732,
            "count": 0
           },
           {
            "bin_start": 90.3935461045732,
            "bin_end": 91.90804223149114,
            "count": 0
           },
           {
            "bin_start": 91.90804223149114,
            "bin_end": 93.42253835840906,
            "count": 0
           },
           {
            "bin_start": 93.42253835840906,
            "bin_end": 94.93703448532698,
            "count": 0
           },
           {
            "bin_start": 94.93703448532698,
            "bin_end": 96.4515306122449,
            "count": 1
           }
          ]
         }
        },
        {
         "name": "_deepnote_index_column",
         "dtype": "int64"
        }
       ],
       "rows": [
        {
         "Season": 2021,
         "Green Passes Std Dev": 76.04201938951931,
         "Green Passes Mean": 81.30656934306569,
         "_deepnote_index_column": 0
        },
        {
         "Season": 2022,
         "Green Passes Std Dev": 73.05733093803349,
         "Green Passes Mean": 96.4515306122449,
         "_deepnote_index_column": 1
        }
       ]
      },
      "text/plain": "   Season  Green Passes Std Dev  Green Passes Mean\n0    2021             76.042019          81.306569\n1    2022             73.057331          96.451531",
      "text/html": "<div>\n<style scoped>\n    .dataframe tbody tr th:only-of-type {\n        vertical-align: middle;\n    }\n\n    .dataframe tbody tr th {\n        vertical-align: top;\n    }\n\n    .dataframe thead th {\n        text-align: right;\n    }\n</style>\n<table border=\"1\" class=\"dataframe\">\n  <thead>\n    <tr style=\"text-align: right;\">\n      <th></th>\n      <th>Season</th>\n      <th>Green Passes Std Dev</th>\n      <th>Green Passes Mean</th>\n    </tr>\n  </thead>\n  <tbody>\n    <tr>\n      <th>0</th>\n      <td>2021</td>\n      <td>76.042019</td>\n      <td>81.306569</td>\n    </tr>\n    <tr>\n      <th>1</th>\n      <td>2022</td>\n      <td>73.057331</td>\n      <td>96.451531</td>\n    </tr>\n  </tbody>\n</table>\n</div>"
     },
     "metadata": {}
    }
   ]
  },
  {
   "cell_type": "code",
   "metadata": {
    "tags": [],
    "deepnote_to_be_reexecuted": false,
    "source_hash": "e89ce2ba",
    "execution_start": 1653344109551,
    "execution_millis": 0,
    "cell_id": "00024-892838c0-5023-4c06-9d58-7c6e4e67d924",
    "deepnote_cell_type": "code",
    "deepnote_cell_height": 225.46875
   },
   "source": "# Changing 'Same Races - Race #' out for 'Track'\ngrnpass_list21 = sameraces21.groupby(['Track'])['Green Passes'].sum().tolist()\ngrnpass_list22 = sameraces22.groupby(['Track'])['Green Passes'].sum().tolist()\n# racenum_list21 = sameraces21.groupby(['Same Races - Race #'])['Same Races - Race #'].unique().tolist()\n# racenum_list22 = sameraces22.groupby(['Same Races - Race #'])['Same Races - Race #'].unique().tolist()\n# racenum_list21 = sameraces21['Same Races - Race #'].unique().tolist()\n# racenum_list22 = sameraces22['Same Races - Race #'].unique().tolist()\n\nracenum_list = np.arange(1,12,1)",
   "execution_count": null,
   "outputs": []
  },
  {
   "cell_type": "code",
   "metadata": {
    "tags": [],
    "deepnote_to_be_reexecuted": false,
    "source_hash": "49750c5f",
    "execution_start": 1653344109551,
    "execution_millis": 43,
    "cell_id": "00025-5624a0f4-1d79-4979-9b56-c0119949c43a",
    "deepnote_cell_type": "code",
    "deepnote_cell_height": 99.46875
   },
   "source": "track_list21 = sameraces21.groupby(['Track'])['Track'].min()\ntrack_list21 = track_list21.to_list()",
   "execution_count": null,
   "outputs": []
  },
  {
   "cell_type": "code",
   "metadata": {
    "tags": [],
    "deepnote_to_be_reexecuted": false,
    "source_hash": "f61168d6",
    "execution_start": 1653344109595,
    "execution_millis": 724,
    "cell_id": "00026-9a9706c5-0962-4e80-974e-03fedd1d929e",
    "deepnote_cell_type": "code",
    "deepnote_cell_height": 670.671875,
    "deepnote_output_heights": [
     356.984375
    ]
   },
   "source": "#import plotly.graph_objects as go\nfig, axes = plt.subplots(1, figsize=(5,5))\n\nplt.sca(axes)\nplt.plot(racenum_list,grnpass_list21,'#FFD93D')\nplt.plot(racenum_list,grnpass_list22,'#FF0F27')\nplt.legend(['2021','2022'], loc='upper left')\n# plt.grid() not sure I love this with a grid line or not\nplt.title('Green Passes: 2021 vs 2022',fontweight=\"bold\")\n#fig.update_layout(title={'text': \"Green Passes: 2021 vs 2022\"})\n\n# plt.show()\nplt.savefig('green_pass_21_22.png') # saving the chart",
   "execution_count": null,
   "outputs": [
    {
     "data": {
      "text/plain": "<Figure size 360x360 with 1 Axes>",
      "image/png": "[encoded data removed]"
     },
     "metadata": {
      "needs_background": "light",
      "image/png": {
       "width": 402,
       "height": 355
      }
     },
     "output_type": "display_data"
    }
   ]
  },
  {
   "cell_type": "code",
   "metadata": {
    "tags": [],
    "deepnote_to_be_reexecuted": false,
    "source_hash": "d6acc579",
    "allow_embed": false,
    "execution_start": 1653344110314,
    "execution_millis": 1114,
    "cell_id": "00027-00227c20-65cd-4582-b7c2-8fe50fba9d71",
    "deepnote_cell_type": "code",
    "deepnote_cell_height": 817.6875,
    "deepnote_output_heights": [
     413.984375
    ]
   },
   "source": "#import plotly.graph_objects as go\nfrom matplotlib import rc,rcParams\nfig, axes = plt.subplots(1, figsize=(5,5))\n\nplt.sca(axes)\nplt.plot(track_list21,grnpass_list21,'#FFD93D')\nplt.plot(track_list21,grnpass_list22,'#FF0F27')\nplt.legend(['2021','2022'], loc='upper left')\naxes.set_ylabel('Total Green Passes', fontweight='bold')\naxes.set_xlabel('Tracks', fontweight='bold')\nplt.grid(False)\nplt.xticks(rotation = 45)\n# plt.grid() not sure I love this with a grid line or not\nplt.title('Green Passes: 2021 vs 2022',fontweight=\"bold\", fontsize=20)\n#fig.update_layout(title={'text': \"Green Passes: 2021 vs 2022\"})\n\n# plt.show()\nplt.savefig('green_pass_21_22.png') # saving the chart",
   "execution_count": null,
   "outputs": [
    {
     "data": {
      "text/plain": "<Figure size 360x360 with 1 Axes>",
      "image/png": "[encoded data removed]"
     },
     "metadata": {
      "needs_background": "light",
      "image/png": {
       "width": 420,
       "height": 412
      }
     },
     "output_type": "display_data"
    }
   ]
  },
  {
   "cell_type": "code",
   "metadata": {
    "tags": [],
    "deepnote_to_be_reexecuted": false,
    "source_hash": "49a7b146",
    "execution_start": 1653344111486,
    "execution_millis": 1123,
    "cell_id": "00028-54f32608-9112-45f6-a0cb-7c2c8017b8e4",
    "deepnote_cell_type": "code",
    "deepnote_cell_height": 707.6875,
    "deepnote_output_heights": [
     303.984375
    ]
   },
   "source": "#same information as above except as a bar\nfrom matplotlib import rc,rcParams\nfig = plt.figure(figsize=(5,3))\nax = fig.add_axes([0,0,1,1])\n\nax.bar(track_list21,grnpass_list21,color='#FFD93D',width = 0.4, align = 'edge')\nax.bar(track_list21,grnpass_list22,color='#FF0F27',width = 0.25, align = 'center')\nplt.legend(['2021','2022'], loc='upper left')\naxes.set_ylabel('Total Green Passes', fontweight='bold')\naxes.set_xlabel('Tracks', fontweight='bold')\nplt.grid(False)\nplt.xticks(rotation = 45)\n# plt.grid() not sure I love this with a grid line or not\nplt.title('Green Passes: 2021 vs 2022',fontweight=\"bold\", fontsize=20)\n#fig.update_layout(title={'text': \"Green Passes: 2021 vs 2022\"})\n\n# plt.show()\nplt.savefig('green_pass_21_22_bar.png', bbox_inches='tight') # saving the chart",
   "execution_count": null,
   "outputs": [
    {
     "data": {
      "text/plain": "<Figure size 360x216 with 1 Axes>",
      "image/png": "[encoded data removed]"
     },
     "metadata": {
      "needs_background": "light",
      "image/png": {
       "width": 409,
       "height": 302
      }
     },
     "output_type": "display_data"
    }
   ]
  },
  {
   "cell_type": "code",
   "metadata": {
    "tags": [],
    "deepnote_to_be_reexecuted": false,
    "source_hash": "290374bd",
    "execution_start": 1653344112615,
    "execution_millis": 881,
    "cell_id": "00029-97d29b24-516a-497c-8c56-ba522bc02ba1",
    "deepnote_cell_type": "code",
    "deepnote_cell_height": 844.6875,
    "deepnote_output_heights": [
     332.984375
    ]
   },
   "source": "fig, (ax1, ax2) = plt.subplots(2, figsize=(10,5))\n\nplt.sca(ax1)\nplt.plot(racenum_list,grnpass_list21, 'o')\n\n#obtain m (slope) and b(intercept) of linear regression line\nm, b = np.polyfit(racenum_list,grnpass_list21, 1)\n#add linear regression line to scatterplot \nplt.plot(racenum_list, m*racenum_list+b,'#FFD93D',linewidth=5,alpha=0.5)\nplt.title(\"2021 Green Pass Trend\",fontweight=\"bold\")\n\nplt.sca(ax2)\nplt.plot(racenum_list,grnpass_list22, 'o')\n#obtain m (slope) and b(intercept) of linear regression line\nm, b = np.polyfit(racenum_list,grnpass_list22, 1)\n#add linear regression line to scatterplot \nplt.plot(racenum_list, m*racenum_list+b,'#FF0F27',linewidth=5,alpha=0.5)\nplt.title(\"2022 Green Pass Trend\",fontweight=\"bold\")\n\n#adding some spacing to the subplots so the titles don't overlap\nplt.subplots_adjust(left=0.1,bottom=0.1,right=0.9,top=0.9,wspace=0.4,hspace=0.4) \n\n# plt.show()\nplt.savefig('green_pass_trends.png') # saving the chart",
   "execution_count": null,
   "outputs": [
    {
     "data": {
      "text/plain": "<Figure size 720x360 with 2 Axes>",
      "image/png": "[encoded data removed]"
     },
     "metadata": {
      "needs_background": "light",
      "image/png": {
       "width": 625,
       "height": 331
      }
     },
     "output_type": "display_data"
    }
   ]
  },
  {
   "cell_type": "markdown",
   "source": "Going to re-do the regression lines using the race # instead of the tracks to see how passing progressed throughout the season instead of putting them in order of tracks...",
   "metadata": {
    "tags": [],
    "cell_id": "00030-ff9f16d2-7eff-4efc-8e7e-86cc4fb4fae3",
    "deepnote_cell_type": "markdown",
    "deepnote_cell_height": 75.265625
   }
  },
  {
   "cell_type": "code",
   "metadata": {
    "tags": [],
    "deepnote_to_be_reexecuted": false,
    "source_hash": "d11ce993",
    "execution_start": 1653344113480,
    "execution_millis": 0,
    "cell_id": "00031-413cbd2a-62a8-41bf-8b5d-039afebb732f",
    "deepnote_cell_type": "code",
    "deepnote_cell_height": 135.46875
   },
   "source": "# Using 'Same Races - Race #' instead of 'Track' - this will put the races in order \ngrnpass_list21 = sameraces21.groupby(['Same Races - Race #'])['Green Passes'].sum().tolist()\ngrnpass_list22 = sameraces22.groupby(['Same Races - Race #'])['Green Passes'].sum().tolist()\nracenum_list = np.arange(1,12,1)",
   "execution_count": null,
   "outputs": []
  },
  {
   "cell_type": "code",
   "metadata": {
    "tags": [],
    "deepnote_to_be_reexecuted": false,
    "source_hash": "bbe2b45b",
    "execution_start": 1653344113491,
    "execution_millis": 20,
    "cell_id": "00032-56a96fd3-df58-468c-b957-b174f319d8cf",
    "deepnote_cell_type": "code",
    "deepnote_cell_height": 118.875,
    "deepnote_output_heights": [
     21.171875
    ]
   },
   "source": "grnpass_list21",
   "execution_count": null,
   "outputs": [
    {
     "output_type": "execute_result",
     "execution_count": 24,
     "data": {
      "text/plain": "[2648, 3966, 3144, 2322, 1163, 1911, 2306, 9585, 2831, 647, 2894]"
     },
     "metadata": {}
    }
   ]
  },
  {
   "cell_type": "code",
   "metadata": {
    "tags": [],
    "deepnote_to_be_reexecuted": false,
    "source_hash": "fe5f4351",
    "execution_start": 1653344113511,
    "execution_millis": 26,
    "cell_id": "00033-19d82c90-911d-493d-bb69-78f134048fe5",
    "deepnote_cell_type": "code",
    "deepnote_cell_height": 118.875,
    "deepnote_output_heights": [
     21.171875
    ]
   },
   "source": "grnpass_list22",
   "execution_count": null,
   "outputs": [
    {
     "output_type": "execute_result",
     "execution_count": 25,
     "data": {
      "text/plain": "[5708, 3147, 2039, 6247, 3054, 1216, 2618, 7700, 1468, 2500, 2112]"
     },
     "metadata": {}
    }
   ]
  },
  {
   "cell_type": "markdown",
   "source": "It might be good to have the Track Names along the x-axis...",
   "metadata": {
    "tags": [],
    "cell_id": "00034-c9572b26-84a4-4159-8bd9-82bca6044aea",
    "deepnote_cell_type": "markdown",
    "deepnote_cell_height": 52.859375
   }
  },
  {
   "cell_type": "code",
   "metadata": {
    "tags": [],
    "deepnote_to_be_reexecuted": false,
    "source_hash": "da965992",
    "execution_start": 1653344113536,
    "execution_millis": 23,
    "cell_id": "00035-e8bde5a4-2fee-424c-aabe-4f87cce1b449",
    "deepnote_cell_type": "code",
    "deepnote_cell_height": 99.46875
   },
   "source": "track_list21 = sameraces21.groupby(['Same Races - Race #'])['Track'].min()\ntrack_list22 = sameraces22.groupby(['Same Races - Race #'])['Track'].min()",
   "execution_count": null,
   "outputs": []
  },
  {
   "cell_type": "code",
   "metadata": {
    "tags": [],
    "deepnote_to_be_reexecuted": false,
    "source_hash": "cc719a12",
    "execution_start": 1653344113576,
    "execution_millis": 5,
    "cell_id": "00036-f93ce5f6-8168-47d8-9489-72b37a7d4c83",
    "deepnote_cell_type": "code",
    "deepnote_cell_height": 99.46875
   },
   "source": "track_list21 = track_list21.to_list()\ntrack_list22 = track_list22.to_list()",
   "execution_count": null,
   "outputs": []
  },
  {
   "cell_type": "code",
   "metadata": {
    "tags": [],
    "deepnote_to_be_reexecuted": false,
    "source_hash": "4f361a1e",
    "execution_start": 1653344113597,
    "execution_millis": 1740,
    "cell_id": "00037-b5c5308b-a062-4e79-90af-b09269827507",
    "deepnote_cell_type": "code",
    "deepnote_cell_height": 1266.71875,
    "deepnote_output_heights": [
     611
    ]
   },
   "source": "fig, (ax1, ax2) = plt.subplots(2, figsize=(10,10))\n\nplt.sca(ax1)\nplt.plot(racenum_list,grnpass_list21, 'o')\n\n#obtain m (slope) and b(intercept) of linear regression line\nm, b = np.polyfit(racenum_list,grnpass_list21, 1)\n#add linear regression line to scatterplot \nplt.plot(track_list21, m*racenum_list+b,'#FFD93D',linewidth=5,alpha=0.5)\nax1.set_ylabel('Total Green Passes')\nax1.set_xlabel('Races In Season Order')\nplt.grid(False)\nplt.xticks(rotation = 45)\nplt.title(\"2021 Green Pass Trend\",fontweight=\"bold\", fontsize=20)\n\nplt.sca(ax2)\nplt.plot(racenum_list,grnpass_list22, 'o')\n#obtain m (slope) and b(intercept) of linear regression line\nm, b = np.polyfit(racenum_list,grnpass_list22, 1)\n#add linear regression line to scatterplot \nplt.plot(track_list22, m*racenum_list+b,'#FF0F27',linewidth=5,alpha=0.5)\nax2.set_ylabel('Total Green Passes')\nax2.set_xlabel('Races In Season Order')\nplt.grid(False)\nplt.xticks(rotation = 45)\nplt.title(\"2022 Green Pass Trend\",fontweight=\"bold\", fontsize=20)\n\n#adding some spacing to the subplots so the titles don't overlap\nplt.subplots_adjust(left=0.1,bottom=0.1,right=0.9,top=0.9,wspace=0.4,hspace=0.4) \n\n# plt.show()\nplt.savefig('green_pass_trends.png') # saving the chart",
   "execution_count": null,
   "outputs": [
    {
     "data": {
      "text/plain": "<Figure size 720x720 with 2 Axes>",
      "image/png": "[encoded data removed]"
     },
     "metadata": {
      "needs_background": "light",
      "image/png": {
       "width": 639,
       "height": 676
      }
     },
     "output_type": "display_data"
    }
   ]
  },
  {
   "cell_type": "markdown",
   "source": "",
   "metadata": {
    "tags": [],
    "cell_id": "00038-527fbda6-05cd-4415-9173-d75fc3738acd",
    "deepnote_cell_type": "markdown",
    "deepnote_cell_height": 46.484375
   }
  },
  {
   "cell_type": "markdown",
   "source": "<a style='text-decoration:none;line-height:16px;display:flex;color:#5B5B62;padding:10px;justify-content:end;' href='https://deepnote.com?utm_source=created-in-deepnote-cell&projectId=9ef4eb23-f38f-47e8-bfb0-51d8616b0dee' target=\"_blank\">\n<img alt='Created in deepnote.com' style='display:inline;max-height:16px;margin:0px;margin-right:7.5px;' src='data:image/svg+xml;base64,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' > </img>\nCreated in <span style='font-weight:600;margin-left:4px;'>Deepnote</span></a>",
   "metadata": {
    "tags": [],
    "created_in_deepnote_cell": true,
    "deepnote_cell_type": "markdown"
   }
  }
 ],
 "nbformat": 4,
 "nbformat_minor": 2,
 "metadata": {
  "orig_nbformat": 2,
  "deepnote": {},
  "deepnote_notebook_id": "7f42d5eb-f7d8-47f4-a498-2eefc9e8232d",
  "deepnote_execution_queue": []
 }
}