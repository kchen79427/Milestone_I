{
 "cells": [
  {
   "cell_type": "code",
   "metadata": {
    "tags": [],
    "deepnote_to_be_reexecuted": false,
    "source_hash": "1d9233e6",
    "execution_start": 1653428375694,
    "execution_millis": 1,
    "cell_id": "e70563c9-4a5d-4c5b-85e6-81681404e874",
    "deepnote_cell_type": "code",
    "deepnote_cell_height": 99.46875
   },
   "source": "#!pip install -U pandasql\n",
   "outputs": [],
   "execution_count": null
  },
  {
   "cell_type": "code",
   "metadata": {
    "tags": [],
    "deepnote_to_be_reexecuted": false,
    "source_hash": "9566ada3",
    "execution_start": 1653344110174,
    "execution_millis": 4811,
    "cell_id": "00001-80286ee3-4de7-49f7-b534-67acce74c15a",
    "deepnote_cell_type": "code",
    "deepnote_cell_height": 207.453125
   },
   "source": "import pandas as pd\npd.set_option('max_columns', None)\nimport numpy as np\nimport seaborn as sns\nimport matplotlib.pyplot as plt\nfrom pandasql import sqldf\n\nimport plotly.express as px",
   "execution_count": null,
   "outputs": []
  },
  {
   "cell_type": "markdown",
   "source": "This code will determine which drivers to be considered FT drivers and which teams contain more than one FT driver.  The final lists will simply be copied and pasted into the Passing Differentials Analysis notebook after this.",
   "metadata": {
    "cell_id": "05cb287c74f74ef3ac2bc669f78a6b16",
    "tags": [],
    "deepnote_cell_type": "markdown",
    "deepnote_cell_height": 75.265625
   }
  },
  {
   "cell_type": "code",
   "metadata": {
    "tags": [],
    "deepnote_to_be_reexecuted": false,
    "source_hash": "b38966d3",
    "execution_start": 1653428640466,
    "execution_millis": 596,
    "cell_id": "00002-06ebb251-e601-44b8-86e6-ac44fa77ddf1",
    "deepnote_cell_type": "code",
    "deepnote_cell_height": 207.453125
   },
   "source": "# Bring in the pickled files\n# if any of the pickle files cannot be reached, please update the directories\n# to the download loaction of the zip then navigate to data/Races_Combined\n\nallraces21 = pd.read_pickle(\"/work/Milestone_I/data/Races_Combined/allraces_21.pkl\")\nallraces22 = pd.read_pickle(\"/work/Milestone_I/data/Races_Combined/allraces_22.pkl\")\n#sameraces21_22 = pd.read_pickle(\"/work/Milestone_I/data/Races_Combined/sameraces_21_22.pkl\")\nallraces21_22 = pd.concat([allraces21, allraces22], ignore_index=True)",
   "outputs": [
    {
     "output_type": "error",
     "ename": "NameError",
     "evalue": "name 'pd' is not defined",
     "traceback": [
      "\u001b[0;31m---------------------------------------------------------------------------\u001b[0m",
      "\u001b[0;31mNameError\u001b[0m                                 Traceback (most recent call last)",
      "\u001b[0;32m<ipython-input-2-a946944f56ef>\u001b[0m in \u001b[0;36m<module>\u001b[0;34m\u001b[0m\n\u001b[1;32m      3\u001b[0m \u001b[0;31m# to the download loaction of the zip then navigate to data/Races_Combined\u001b[0m\u001b[0;34m\u001b[0m\u001b[0;34m\u001b[0m\u001b[0;34m\u001b[0m\u001b[0m\n\u001b[1;32m      4\u001b[0m \u001b[0;34m\u001b[0m\u001b[0m\n\u001b[0;32m----> 5\u001b[0;31m \u001b[0mallraces21\u001b[0m \u001b[0;34m=\u001b[0m \u001b[0mpd\u001b[0m\u001b[0;34m.\u001b[0m\u001b[0mread_pickle\u001b[0m\u001b[0;34m(\u001b[0m\u001b[0;34m\"/work/Milestone_I/data/Races_Combined/allraces_21.pkl\"\u001b[0m\u001b[0;34m)\u001b[0m\u001b[0;34m\u001b[0m\u001b[0;34m\u001b[0m\u001b[0m\n\u001b[0m\u001b[1;32m      6\u001b[0m \u001b[0mallraces22\u001b[0m \u001b[0;34m=\u001b[0m \u001b[0mpd\u001b[0m\u001b[0;34m.\u001b[0m\u001b[0mread_pickle\u001b[0m\u001b[0;34m(\u001b[0m\u001b[0;34m\"/work/Milestone_I/data/Races_Combined/allraces_22.pkl\"\u001b[0m\u001b[0;34m)\u001b[0m\u001b[0;34m\u001b[0m\u001b[0;34m\u001b[0m\u001b[0m\n\u001b[1;32m      7\u001b[0m \u001b[0;31m#sameraces21_22 = pd.read_pickle(\"/work/Milestone_I/data/Races_Combined/sameraces_21_22.pkl\")\u001b[0m\u001b[0;34m\u001b[0m\u001b[0;34m\u001b[0m\u001b[0;34m\u001b[0m\u001b[0m\n",
      "\u001b[0;31mNameError\u001b[0m: name 'pd' is not defined"
     ]
    }
   ],
   "execution_count": null
  },
  {
   "cell_type": "code",
   "metadata": {
    "tags": [],
    "deepnote_to_be_reexecuted": false,
    "source_hash": "c796b328",
    "execution_start": 1653344115024,
    "execution_millis": 7,
    "cell_id": "00003-b0cf0079-3b03-409f-b6c5-59e7ac9e8e0f",
    "owner_user_id": "dbcfdc03-cb41-42df-88d8-3fffbb8930b7",
    "deepnote_cell_type": "code",
    "deepnote_cell_height": 81.453125
   },
   "source": "#allraces21_22.columns",
   "execution_count": null,
   "outputs": []
  },
  {
   "cell_type": "code",
   "metadata": {
    "tags": [],
    "deepnote_to_be_reexecuted": false,
    "source_hash": "678595c2",
    "execution_start": 1653344115051,
    "execution_millis": 693977245,
    "cell_id": "00004-2a83c7dd-44a6-4fc7-b3ea-14379c4c5d41",
    "deepnote_cell_type": "code",
    "deepnote_cell_height": 81.453125
   },
   "source": "#allraces21.head()",
   "execution_count": null,
   "outputs": []
  },
  {
   "cell_type": "code",
   "metadata": {
    "tags": [],
    "deepnote_to_be_reexecuted": false,
    "source_hash": "5532a94f",
    "execution_start": 1653344115075,
    "execution_millis": 1,
    "cell_id": "00005-6061292c-ca02-415d-8294-1faaa19344aa",
    "deepnote_cell_type": "code",
    "deepnote_cell_height": 207.453125
   },
   "source": "DriverCnts21 = allraces21.groupby(['Driver'])['Car #'].count()\nDriverCnts22 = allraces22.groupby(['Driver'])['Car #'].count()\n\nDriverCnts21 = DriverCnts21.to_frame().reset_index()\nDriverCnts21.rename(columns = {'Driver': 'Driver21', 'Car #':'Races21'}, inplace = True)\nDriverCnts22 = DriverCnts22.to_frame().reset_index()\nDriverCnts22.rename(columns = {'Driver': 'Driver22', 'Car #':'Races22'}, inplace = True)\n",
   "execution_count": null,
   "outputs": []
  },
  {
   "cell_type": "code",
   "metadata": {
    "tags": [],
    "deepnote_to_be_reexecuted": false,
    "source_hash": "d25fdbdd",
    "execution_start": 1653344115126,
    "execution_millis": 1,
    "cell_id": "00006-21b99d94-fb42-4095-8f85-fdb5509f9c77",
    "deepnote_cell_type": "code",
    "deepnote_cell_height": 81.453125
   },
   "source": "DriverCountsAll = pd.merge(DriverCnts21, DriverCnts22, how='outer', left_on='Driver21', right_on='Driver22').reset_index()",
   "execution_count": null,
   "outputs": []
  },
  {
   "cell_type": "code",
   "metadata": {
    "tags": [],
    "deepnote_to_be_reexecuted": false,
    "source_hash": "245c3746",
    "execution_start": 1653344115127,
    "execution_millis": 612,
    "cell_id": "00007-2200f304-f8cd-4751-ac33-e7544cd81626",
    "deepnote_cell_type": "code",
    "deepnote_cell_height": 298.875,
    "deepnote_output_heights": [
     21.171875
    ]
   },
   "source": "# Look at drivers in 80% of races - we'll consider these Full Time Drivers\npysqldf = lambda q: sqldf(q, globals())\n\nq = 'select count(distinct(\"Race #\")) as races FROM allraces21'\nraces_in_21 = pysqldf(q).iloc[0,0]\nraces_in_21\n\nq = 'select count(distinct(\"Race #\")) as races FROM allraces22'\nraces_in_22 = pysqldf(q).iloc[0,0]\nraces_in_22\n",
   "execution_count": null,
   "outputs": [
    {
     "output_type": "execute_result",
     "execution_count": 8,
     "data": {
      "text/plain": "13"
     },
     "metadata": {}
    }
   ]
  },
  {
   "cell_type": "code",
   "metadata": {
    "tags": [],
    "deepnote_to_be_reexecuted": false,
    "source_hash": "211be96",
    "execution_start": 1653344115739,
    "execution_millis": 20,
    "deepnote_table_state": {
     "pageSize": 50,
     "pageIndex": 0,
     "filters": [],
     "sortBy": []
    },
    "deepnote_table_loading": false,
    "cell_id": "00008-6f331308-1ed0-4605-87c3-1b8dc6f06b81",
    "deepnote_cell_type": "code",
    "deepnote_cell_height": 117.453125
   },
   "source": "# drivers in ??% of races\npct_of_races = .8\nFT_drivers = DriverCountsAll[(DriverCountsAll['Races21'] >= pct_of_races * races_in_21) & (DriverCountsAll['Races22'] >= pct_of_races * races_in_22)]",
   "execution_count": null,
   "outputs": []
  },
  {
   "cell_type": "code",
   "metadata": {
    "tags": [],
    "deepnote_to_be_reexecuted": false,
    "source_hash": "55185139",
    "execution_start": 1653344115773,
    "execution_millis": 47,
    "deepnote_table_state": {
     "pageSize": 10,
     "pageIndex": 1,
     "filters": [],
     "sortBy": []
    },
    "deepnote_table_loading": false,
    "cell_id": "00009-ba663057-ff91-4453-975f-f2cac34ece21",
    "deepnote_cell_type": "code",
    "deepnote_cell_height": 618.875
   },
   "source": "# 19 FT_drivers @ 80% of races\nFT_drivers",
   "execution_count": null,
   "outputs": [
    {
     "output_type": "execute_result",
     "execution_count": 10,
     "data": {
      "application/vnd.deepnote.dataframe.v3+json": {
       "column_count": 5,
       "row_count": 27,
       "columns": [
        {
         "name": "index",
         "dtype": "int64",
         "stats": {
          "unique_count": 27,
          "nan_count": 0,
          "min": "1",
          "max": "66",
          "histogram": [
           {
            "bin_start": 1,
            "bin_end": 7.5,
            "count": 3
           },
           {
            "bin_start": 7.5,
            "bin_end": 14,
            "count": 3
           },
           {
            "bin_start": 14,
            "bin_end": 20.5,
            "count": 5
           },
           {
            "bin_start": 20.5,
            "bin_end": 27,
            "count": 3
           },
           {
            "bin_start": 27,
            "bin_end": 33.5,
            "count": 0
           },
           {
            "bin_start": 33.5,
            "bin_end": 40,
            "count": 2
           },
           {
            "bin_start": 40,
            "bin_end": 46.5,
            "count": 5
           },
           {
            "bin_start": 46.5,
            "bin_end": 53,
            "count": 1
           },
           {
            "bin_start": 53,
            "bin_end": 59.5,
            "count": 3
           },
           {
            "bin_start": 59.5,
            "bin_end": 66,
            "count": 2
           }
          ]
         }
        },
        {
         "name": "Driver21",
         "dtype": "object",
         "stats": {
          "unique_count": 27,
          "nan_count": 0,
          "categories": [
           {
            "name": "Alex Bowman",
            "count": 1
           },
           {
            "name": "Aric Almirola",
            "count": 1
           },
           {
            "name": "25 others",
            "count": 25
           }
          ]
         }
        },
        {
         "name": "Races21",
         "dtype": "float64",
         "stats": {
          "unique_count": 3,
          "nan_count": 0,
          "min": "31.0",
          "max": "36.0",
          "histogram": [
           {
            "bin_start": 31,
            "bin_end": 31.5,
            "count": 1
           },
           {
            "bin_start": 31.5,
            "bin_end": 32,
            "count": 0
           },
           {
            "bin_start": 32,
            "bin_end": 32.5,
            "count": 1
           },
           {
            "bin_start": 32.5,
            "bin_end": 33,
            "count": 0
           },
           {
            "bin_start": 33,
            "bin_end": 33.5,
            "count": 0
           },
           {
            "bin_start": 33.5,
            "bin_end": 34,
            "count": 0
           },
           {
            "bin_start": 34,
            "bin_end": 34.5,
            "count": 0
           },
           {
            "bin_start": 34.5,
            "bin_end": 35,
            "count": 0
           },
           {
            "bin_start": 35,
            "bin_end": 35.5,
            "count": 0
           },
           {
            "bin_start": 35.5,
            "bin_end": 36,
            "count": 25
           }
          ]
         }
        },
        {
         "name": "Driver22",
         "dtype": "object",
         "stats": {
          "unique_count": 27,
          "nan_count": 0,
          "categories": [
           {
            "name": "Alex Bowman",
            "count": 1
           },
           {
            "name": "Aric Almirola",
            "count": 1
           },
           {
            "name": "25 others",
            "count": 25
           }
          ]
         }
        },
        {
         "name": "Races22",
         "dtype": "float64",
         "stats": {
          "unique_count": 2,
          "nan_count": 0,
          "min": "12.0",
          "max": "13.0",
          "histogram": [
           {
            "bin_start": 12,
            "bin_end": 12.1,
            "count": 3
           },
           {
            "bin_start": 12.1,
            "bin_end": 12.2,
            "count": 0
           },
           {
            "bin_start": 12.2,
            "bin_end": 12.3,
            "count": 0
           },
           {
            "bin_start": 12.3,
            "bin_end": 12.4,
            "count": 0
           },
           {
            "bin_start": 12.4,
            "bin_end": 12.5,
            "count": 0
           },
           {
            "bin_start": 12.5,
            "bin_end": 12.6,
            "count": 0
           },
           {
            "bin_start": 12.6,
            "bin_end": 12.7,
            "count": 0
           },
           {
            "bin_start": 12.7,
            "bin_end": 12.8,
            "count": 0
           },
           {
            "bin_start": 12.8,
            "bin_end": 12.9,
            "count": 0
           },
           {
            "bin_start": 12.9,
            "bin_end": 13,
            "count": 24
           }
          ]
         }
        },
        {
         "name": "_deepnote_index_column",
         "dtype": "int64"
        }
       ],
       "rows": [
        {
         "index": 19,
         "Driver21": "Cole Custer",
         "Races21": 36,
         "Driver22": "Cole Custer",
         "Races22": 13,
         "_deepnote_index_column": 19
        },
        {
         "index": 21,
         "Driver21": "Daniel Suárez",
         "Races21": 36,
         "Driver22": "Daniel Suárez",
         "Races22": 12,
         "_deepnote_index_column": 21
        },
        {
         "index": 24,
         "Driver21": "Denny Hamlin",
         "Races21": 36,
         "Driver22": "Denny Hamlin",
         "Races22": 13,
         "_deepnote_index_column": 24
        },
        {
         "index": 26,
         "Driver21": "Erik Jones",
         "Races21": 36,
         "Driver22": "Erik Jones",
         "Races22": 13,
         "_deepnote_index_column": 26
        },
        {
         "index": 34,
         "Driver21": "Joey Logano",
         "Races21": 36,
         "Driver22": "Joey Logano",
         "Races22": 13,
         "_deepnote_index_column": 34
        },
        {
         "index": 38,
         "Driver21": "Justin Haley",
         "Races21": 31,
         "Driver22": "Justin Haley",
         "Races22": 13,
         "_deepnote_index_column": 38
        },
        {
         "index": 40,
         "Driver21": "Kevin Harvick",
         "Races21": 36,
         "Driver22": "Kevin Harvick",
         "Races22": 13,
         "_deepnote_index_column": 40
        },
        {
         "index": 41,
         "Driver21": "Kurt Busch",
         "Races21": 36,
         "Driver22": "Kurt Busch",
         "Races22": 13,
         "_deepnote_index_column": 41
        },
        {
         "index": 42,
         "Driver21": "Kyle Busch",
         "Races21": 36,
         "Driver22": "Kyle Busch",
         "Races22": 13,
         "_deepnote_index_column": 42
        },
        {
         "index": 43,
         "Driver21": "Kyle Larson",
         "Races21": 36,
         "Driver22": "Kyle Larson",
         "Races22": 13,
         "_deepnote_index_column": 43
        }
       ]
      },
      "text/plain": "    index             Driver21  Races21             Driver22  Races22\n1       1          Alex Bowman     36.0          Alex Bowman     13.0\n4       4        Aric Almirola     36.0        Aric Almirola     13.0\n6       6        Austin Dillon     36.0        Austin Dillon     13.0\n10     10      Brad Keselowski     36.0      Brad Keselowski     13.0\n11     11        Bubba Wallace     36.0        Bubba Wallace     13.0\n13     13        Chase Briscoe     36.0        Chase Briscoe     13.0\n14     14        Chase Elliott     36.0        Chase Elliott     13.0\n15     15       Chris Buescher     36.0       Chris Buescher     13.0\n17     17     Christopher Bell     36.0     Christopher Bell     13.0\n18     18            Cody Ware     32.0            Cody Ware     13.0\n19     19          Cole Custer     36.0          Cole Custer     13.0\n21     21        Daniel Suárez     36.0        Daniel Suárez     12.0\n24     24         Denny Hamlin     36.0         Denny Hamlin     13.0\n26     26           Erik Jones     36.0           Erik Jones     13.0\n34     34          Joey Logano     36.0          Joey Logano     13.0\n38     38         Justin Haley     31.0         Justin Haley     13.0\n40     40        Kevin Harvick     36.0        Kevin Harvick     13.0\n41     41           Kurt Busch     36.0           Kurt Busch     13.0\n42     42           Kyle Busch     36.0           Kyle Busch     13.0\n43     43          Kyle Larson     36.0          Kyle Larson     13.0\n46     46     Martin Truex Jr.     36.0     Martin Truex Jr.     12.0\n49     49     Michael McDowell     36.0     Michael McDowell     13.0\n53     53  Ricky Stenhouse Jr.     36.0  Ricky Stenhouse Jr.     12.0\n54     54        Ross Chastain     36.0        Ross Chastain     13.0\n55     55          Ryan Blaney     36.0          Ryan Blaney     13.0\n65     65        Tyler Reddick     36.0        Tyler Reddick     13.0\n66     66        William Byron     36.0        William Byron     13.0",
      "text/html": "<div>\n<style scoped>\n    .dataframe tbody tr th:only-of-type {\n        vertical-align: middle;\n    }\n\n    .dataframe tbody tr th {\n        vertical-align: top;\n    }\n\n    .dataframe thead th {\n        text-align: right;\n    }\n</style>\n<table border=\"1\" class=\"dataframe\">\n  <thead>\n    <tr style=\"text-align: right;\">\n      <th></th>\n      <th>index</th>\n      <th>Driver21</th>\n      <th>Races21</th>\n      <th>Driver22</th>\n      <th>Races22</th>\n    </tr>\n  </thead>\n  <tbody>\n    <tr>\n      <th>1</th>\n      <td>1</td>\n      <td>Alex Bowman</td>\n      <td>36.0</td>\n      <td>Alex Bowman</td>\n      <td>13.0</td>\n    </tr>\n    <tr>\n      <th>4</th>\n      <td>4</td>\n      <td>Aric Almirola</td>\n      <td>36.0</td>\n      <td>Aric Almirola</td>\n      <td>13.0</td>\n    </tr>\n    <tr>\n      <th>6</th>\n      <td>6</td>\n      <td>Austin Dillon</td>\n      <td>36.0</td>\n      <td>Austin Dillon</td>\n      <td>13.0</td>\n    </tr>\n    <tr>\n      <th>10</th>\n      <td>10</td>\n      <td>Brad Keselowski</td>\n      <td>36.0</td>\n      <td>Brad Keselowski</td>\n      <td>13.0</td>\n    </tr>\n    <tr>\n      <th>11</th>\n      <td>11</td>\n      <td>Bubba Wallace</td>\n      <td>36.0</td>\n      <td>Bubba Wallace</td>\n      <td>13.0</td>\n    </tr>\n    <tr>\n      <th>13</th>\n      <td>13</td>\n      <td>Chase Briscoe</td>\n      <td>36.0</td>\n      <td>Chase Briscoe</td>\n      <td>13.0</td>\n    </tr>\n    <tr>\n      <th>14</th>\n      <td>14</td>\n      <td>Chase Elliott</td>\n      <td>36.0</td>\n      <td>Chase Elliott</td>\n      <td>13.0</td>\n    </tr>\n    <tr>\n      <th>15</th>\n      <td>15</td>\n      <td>Chris Buescher</td>\n      <td>36.0</td>\n      <td>Chris Buescher</td>\n      <td>13.0</td>\n    </tr>\n    <tr>\n      <th>17</th>\n      <td>17</td>\n      <td>Christopher Bell</td>\n      <td>36.0</td>\n      <td>Christopher Bell</td>\n      <td>13.0</td>\n    </tr>\n    <tr>\n      <th>18</th>\n      <td>18</td>\n      <td>Cody Ware</td>\n      <td>32.0</td>\n      <td>Cody Ware</td>\n      <td>13.0</td>\n    </tr>\n    <tr>\n      <th>19</th>\n      <td>19</td>\n      <td>Cole Custer</td>\n      <td>36.0</td>\n      <td>Cole Custer</td>\n      <td>13.0</td>\n    </tr>\n    <tr>\n      <th>21</th>\n      <td>21</td>\n      <td>Daniel Suárez</td>\n      <td>36.0</td>\n      <td>Daniel Suárez</td>\n      <td>12.0</td>\n    </tr>\n    <tr>\n      <th>24</th>\n      <td>24</td>\n      <td>Denny Hamlin</td>\n      <td>36.0</td>\n      <td>Denny Hamlin</td>\n      <td>13.0</td>\n    </tr>\n    <tr>\n      <th>26</th>\n      <td>26</td>\n      <td>Erik Jones</td>\n      <td>36.0</td>\n      <td>Erik Jones</td>\n      <td>13.0</td>\n    </tr>\n    <tr>\n      <th>34</th>\n      <td>34</td>\n      <td>Joey Logano</td>\n      <td>36.0</td>\n      <td>Joey Logano</td>\n      <td>13.0</td>\n    </tr>\n    <tr>\n      <th>38</th>\n      <td>38</td>\n      <td>Justin Haley</td>\n      <td>31.0</td>\n      <td>Justin Haley</td>\n      <td>13.0</td>\n    </tr>\n    <tr>\n      <th>40</th>\n      <td>40</td>\n      <td>Kevin Harvick</td>\n      <td>36.0</td>\n      <td>Kevin Harvick</td>\n      <td>13.0</td>\n    </tr>\n    <tr>\n      <th>41</th>\n      <td>41</td>\n      <td>Kurt Busch</td>\n      <td>36.0</td>\n      <td>Kurt Busch</td>\n      <td>13.0</td>\n    </tr>\n    <tr>\n      <th>42</th>\n      <td>42</td>\n      <td>Kyle Busch</td>\n      <td>36.0</td>\n      <td>Kyle Busch</td>\n      <td>13.0</td>\n    </tr>\n    <tr>\n      <th>43</th>\n      <td>43</td>\n      <td>Kyle Larson</td>\n      <td>36.0</td>\n      <td>Kyle Larson</td>\n      <td>13.0</td>\n    </tr>\n    <tr>\n      <th>46</th>\n      <td>46</td>\n      <td>Martin Truex Jr.</td>\n      <td>36.0</td>\n      <td>Martin Truex Jr.</td>\n      <td>12.0</td>\n    </tr>\n    <tr>\n      <th>49</th>\n      <td>49</td>\n      <td>Michael McDowell</td>\n      <td>36.0</td>\n      <td>Michael McDowell</td>\n      <td>13.0</td>\n    </tr>\n    <tr>\n      <th>53</th>\n      <td>53</td>\n      <td>Ricky Stenhouse Jr.</td>\n      <td>36.0</td>\n      <td>Ricky Stenhouse Jr.</td>\n      <td>12.0</td>\n    </tr>\n    <tr>\n      <th>54</th>\n      <td>54</td>\n      <td>Ross Chastain</td>\n      <td>36.0</td>\n      <td>Ross Chastain</td>\n      <td>13.0</td>\n    </tr>\n    <tr>\n      <th>55</th>\n      <td>55</td>\n      <td>Ryan Blaney</td>\n      <td>36.0</td>\n      <td>Ryan Blaney</td>\n      <td>13.0</td>\n    </tr>\n    <tr>\n      <th>65</th>\n      <td>65</td>\n      <td>Tyler Reddick</td>\n      <td>36.0</td>\n      <td>Tyler Reddick</td>\n      <td>13.0</td>\n    </tr>\n    <tr>\n      <th>66</th>\n      <td>66</td>\n      <td>William Byron</td>\n      <td>36.0</td>\n      <td>William Byron</td>\n      <td>13.0</td>\n    </tr>\n  </tbody>\n</table>\n</div>"
     },
     "metadata": {}
    }
   ]
  },
  {
   "cell_type": "code",
   "metadata": {
    "tags": [],
    "deepnote_to_be_reexecuted": false,
    "source_hash": "68787bcc",
    "execution_start": 1653344115827,
    "execution_millis": 3,
    "cell_id": "00010-e47661af-e1d2-427d-8d72-926968e3d851",
    "deepnote_cell_type": "code",
    "deepnote_cell_height": 81.453125
   },
   "source": "FT_driver_list = FT_drivers['Driver21'].tolist()",
   "execution_count": null,
   "outputs": []
  },
  {
   "cell_type": "code",
   "metadata": {
    "tags": [],
    "deepnote_to_be_reexecuted": false,
    "source_hash": "13bbed05",
    "execution_start": 1653344115879,
    "execution_millis": 2,
    "cell_id": "00011-d852828d-c69e-447e-93c6-d74d96e7acd3",
    "deepnote_cell_type": "code",
    "deepnote_cell_height": 617.546875,
    "deepnote_output_heights": [
     519.84375
    ]
   },
   "source": "FT_driver_list",
   "execution_count": null,
   "outputs": [
    {
     "output_type": "execute_result",
     "execution_count": 12,
     "data": {
      "text/plain": "['Alex Bowman',\n 'Aric Almirola',\n 'Austin Dillon',\n 'Brad Keselowski',\n 'Bubba Wallace',\n 'Chase Briscoe',\n 'Chase Elliott',\n 'Chris Buescher',\n 'Christopher Bell',\n 'Cody Ware',\n 'Cole Custer',\n 'Daniel Suárez',\n 'Denny Hamlin',\n 'Erik Jones',\n 'Joey Logano',\n 'Justin Haley',\n 'Kevin Harvick',\n 'Kurt Busch',\n 'Kyle Busch',\n 'Kyle Larson',\n 'Martin Truex Jr.',\n 'Michael McDowell',\n 'Ricky Stenhouse Jr.',\n 'Ross Chastain',\n 'Ryan Blaney',\n 'Tyler Reddick',\n 'William Byron']"
     },
     "metadata": {}
    }
   ]
  },
  {
   "cell_type": "markdown",
   "source": "We found Brad Keselowski to be a FT driver in both seasons but he switched teams and is in the data for one time in 2021 and a different one for 2022. He ended up getting dropped from the list of drivers for the Passing Differential Analysis because the drivers/teams needed to be the same for that analysis.",
   "metadata": {
    "cell_id": "0f6f7e6e5a414d2987e70495934e0631",
    "tags": [],
    "deepnote_cell_type": "markdown",
    "deepnote_cell_height": 97.671875
   }
  },
  {
   "cell_type": "code",
   "metadata": {
    "tags": [],
    "deepnote_to_be_reexecuted": false,
    "source_hash": "dfb18979",
    "execution_start": 1653354798001,
    "execution_millis": 284,
    "deepnote_table_state": {
     "pageSize": 50,
     "pageIndex": 0,
     "filters": [],
     "sortBy": []
    },
    "deepnote_table_loading": false,
    "cell_id": "00012-18c4dd97-433f-49cf-b342-7463f77237e8",
    "owner_user_id": "45152886-e80a-4457-8e84-9d99a262197d",
    "deepnote_cell_type": "code",
    "deepnote_cell_height": 2238.984375
   },
   "source": "brad = allraces21_22[allraces21_22['Driver']== 'Brad Keselowski']\nbrad",
   "execution_count": null,
   "outputs": [
    {
     "output_type": "execute_result",
     "execution_count": 15,
     "data": {
      "application/vnd.deepnote.dataframe.v3+json": {
       "column_count": 38,
       "row_count": 49,
       "columns": [
        {
         "name": "Driver",
         "dtype": "object",
         "stats": {
          "unique_count": 1,
          "nan_count": 0,
          "categories": [
           {
            "name": "Brad Keselowski",
            "count": 49
           }
          ]
         }
        },
        {
         "name": "Car #",
         "dtype": "int64",
         "stats": {
          "unique_count": 2,
          "nan_count": 0,
          "min": "2",
          "max": "6",
          "histogram": [
           {
            "bin_start": 2,
            "bin_end": 2.4,
            "count": 36
           },
           {
            "bin_start": 2.4,
            "bin_end": 2.8,
            "count": 0
           },
           {
            "bin_start": 2.8,
            "bin_end": 3.2,
            "count": 0
           },
           {
            "bin_start": 3.2,
            "bin_end": 3.6,
            "count": 0
           },
           {
            "bin_start": 3.6,
            "bin_end": 4,
            "count": 0
           },
           {
            "bin_start": 4,
            "bin_end": 4.4,
            "count": 0
           },
           {
            "bin_start": 4.4,
            "bin_end": 4.800000000000001,
            "count": 0
           },
           {
            "bin_start": 4.800000000000001,
            "bin_end": 5.2,
            "count": 0
           },
           {
            "bin_start": 5.2,
            "bin_end": 5.6,
            "count": 0
           },
           {
            "bin_start": 5.6,
            "bin_end": 6,
            "count": 13
           }
          ]
         }
        },
        {
         "name": "Start",
         "dtype": "int64",
         "stats": {
          "unique_count": 22,
          "nan_count": 0,
          "min": "1",
          "max": "31",
          "histogram": [
           {
            "bin_start": 1,
            "bin_end": 4,
            "count": 7
           },
           {
            "bin_start": 4,
            "bin_end": 7,
            "count": 2
           },
           {
            "bin_start": 7,
            "bin_end": 10,
            "count": 7
           },
           {
            "bin_start": 10,
            "bin_end": 13,
            "count": 8
           },
           {
            "bin_start": 13,
            "bin_end": 16,
            "count": 8
           },
           {
            "bin_start": 16,
            "bin_end": 19,
            "count": 4
           },
           {
            "bin_start": 19,
            "bin_end": 22,
            "count": 6
           },
           {
            "bin_start": 22,
            "bin_end": 25,
            "count": 4
           },
           {
            "bin_start": 25,
            "bin_end": 28,
            "count": 1
           },
           {
            "bin_start": 28,
            "bin_end": 31,
            "count": 2
           }
          ]
         }
        },
        {
         "name": "Mid Race",
         "dtype": "int64",
         "stats": {
          "unique_count": 25,
          "nan_count": 0,
          "min": "1",
          "max": "35",
          "histogram": [
           {
            "bin_start": 1,
            "bin_end": 4.4,
            "count": 5
           },
           {
            "bin_start": 4.4,
            "bin_end": 7.8,
            "count": 4
           },
           {
            "bin_start": 7.8,
            "bin_end": 11.2,
            "count": 14
           },
           {
            "bin_start": 11.2,
            "bin_end": 14.6,
            "count": 6
           },
           {
            "bin_start": 14.6,
            "bin_end": 18,
            "count": 3
           },
           {
            "bin_start": 18,
            "bin_end": 21.4,
            "count": 6
           },
           {
            "bin_start": 21.4,
            "bin_end": 24.8,
            "count": 2
           },
           {
            "bin_start": 24.8,
            "bin_end": 28.2,
            "count": 4
           },
           {
            "bin_start": 28.2,
            "bin_end": 31.599999999999998,
            "count": 3
           },
           {
            "bin_start": 31.599999999999998,
            "bin_end": 35,
            "count": 2
           }
          ]
         }
        },
        {
         "name": "Finish",
         "dtype": "int64",
         "stats": {
          "unique_count": 25,
          "nan_count": 0,
          "min": "1",
          "max": "35",
          "histogram": [
           {
            "bin_start": 1,
            "bin_end": 4.4,
            "count": 9
           },
           {
            "bin_start": 4.4,
            "bin_end": 7.8,
            "count": 5
           },
           {
            "bin_start": 7.8,
            "bin_end": 11.2,
            "count": 8
           },
           {
            "bin_start": 11.2,
            "bin_end": 14.6,
            "count": 8
           },
           {
            "bin_start": 14.6,
            "bin_end": 18,
            "count": 4
           },
           {
            "bin_start": 18,
            "bin_end": 21.4,
            "count": 3
           },
           {
            "bin_start": 21.4,
            "bin_end": 24.8,
            "count": 6
           },
           {
            "bin_start": 24.8,
            "bin_end": 28.2,
            "count": 2
           },
           {
            "bin_start": 28.2,
            "bin_end": 31.599999999999998,
            "count": 0
           },
           {
            "bin_start": 31.599999999999998,
            "bin_end": 35,
            "count": 4
           }
          ]
         }
        },
        {
         "name": "Average Position",
         "dtype": "float64",
         "stats": {
          "unique_count": 46,
          "nan_count": 0,
          "min": "3.3",
          "max": "31.6",
          "histogram": [
           {
            "bin_start": 3.3,
            "bin_end": 6.13,
            "count": 6
           },
           {
            "bin_start": 6.13,
            "bin_end": 8.96,
            "count": 5
           },
           {
            "bin_start": 8.96,
            "bin_end": 11.79,
            "count": 5
           },
           {
            "bin_start": 11.79,
            "bin_end": 14.620000000000001,
            "count": 7
           },
           {
            "bin_start": 14.620000000000001,
            "bin_end": 17.45,
            "count": 9
           },
           {
            "bin_start": 17.45,
            "bin_end": 20.28,
            "count": 7
           },
           {
            "bin_start": 20.28,
            "bin_end": 23.110000000000003,
            "count": 4
           },
           {
            "bin_start": 23.110000000000003,
            "bin_end": 25.94,
            "count": 4
           },
           {
            "bin_start": 25.94,
            "bin_end": 28.77,
            "count": 1
           },
           {
            "bin_start": 28.77,
            "bin_end": 31.6,
            "count": 1
           }
          ]
         }
        },
        {
         "name": "Pass Differential",
         "dtype": "int64",
         "stats": {
          "unique_count": 35,
          "nan_count": 0,
          "min": "-48",
          "max": "45",
          "histogram": [
           {
            "bin_start": -48,
            "bin_end": -38.7,
            "count": 2
           },
           {
            "bin_start": -38.7,
            "bin_end": -29.4,
            "count": 2
           },
           {
            "bin_start": -29.4,
            "bin_end": -20.099999999999998,
            "count": 1
           },
           {
            "bin_start": -20.099999999999998,
            "bin_end": -10.799999999999997,
            "count": 7
           },
           {
            "bin_start": -10.799999999999997,
            "bin_end": -1.5,
            "count": 10
           },
           {
            "bin_start": -1.5,
            "bin_end": 7.800000000000004,
            "count": 10
           },
           {
            "bin_start": 7.800000000000004,
            "bin_end": 17.10000000000001,
            "count": 10
           },
           {
            "bin_start": 17.10000000000001,
            "bin_end": 26.400000000000006,
            "count": 0
           },
           {
            "bin_start": 26.400000000000006,
            "bin_end": 35.7,
            "count": 4
           },
           {
            "bin_start": 35.7,
            "bin_end": 45,
            "count": 3
           }
          ]
         }
        },
        {
         "name": "Green Passes",
         "dtype": "int64",
         "stats": {
          "unique_count": 42,
          "nan_count": 0,
          "min": "15",
          "max": "324",
          "histogram": [
           {
            "bin_start": 15,
            "bin_end": 45.9,
            "count": 4
           },
           {
            "bin_start": 45.9,
            "bin_end": 76.8,
            "count": 21
           },
           {
            "bin_start": 76.8,
            "bin_end": 107.69999999999999,
            "count": 10
           },
           {
            "bin_start": 107.69999999999999,
            "bin_end": 138.6,
            "count": 6
           },
           {
            "bin_start": 138.6,
            "bin_end": 169.5,
            "count": 3
           },
           {
            "bin_start": 169.5,
            "bin_end": 200.39999999999998,
            "count": 1
           },
           {
            "bin_start": 200.39999999999998,
            "bin_end": 231.29999999999998,
            "count": 2
           },
           {
            "bin_start": 231.29999999999998,
            "bin_end": 262.2,
            "count": 0
           },
           {
            "bin_start": 262.2,
            "bin_end": 293.09999999999997,
            "count": 0
           },
           {
            "bin_start": 293.09999999999997,
            "bin_end": 324,
            "count": 2
           }
          ]
         }
        },
        {
         "name": "Green Passed",
         "dtype": "int64",
         "stats": {
          "unique_count": 41,
          "nan_count": 0,
          "min": "14",
          "max": "322",
          "histogram": [
           {
            "bin_start": 14,
            "bin_end": 44.8,
            "count": 7
           },
           {
            "bin_start": 44.8,
            "bin_end": 75.6,
            "count": 20
           },
           {
            "bin_start": 75.6,
            "bin_end": 106.4,
            "count": 7
           },
           {
            "bin_start": 106.4,
            "bin_end": 137.2,
            "count": 9
           },
           {
            "bin_start": 137.2,
            "bin_end": 168,
            "count": 0
           },
           {
            "bin_start": 168,
            "bin_end": 198.8,
            "count": 3
           },
           {
            "bin_start": 198.8,
            "bin_end": 229.6,
            "count": 1
           },
           {
            "bin_start": 229.6,
            "bin_end": 260.4,
            "count": 0
           },
           {
            "bin_start": 260.4,
            "bin_end": 291.2,
            "count": 0
           },
           {
            "bin_start": 291.2,
            "bin_end": 322,
            "count": 2
           }
          ]
         }
        },
        {
         "name": "Quality Passes",
         "dtype": "int64",
         "stats": {
          "unique_count": 42,
          "nan_count": 0,
          "min": "1",
          "max": "229",
          "histogram": [
           {
            "bin_start": 1,
            "bin_end": 23.8,
            "count": 18
           },
           {
            "bin_start": 23.8,
            "bin_end": 46.6,
            "count": 11
           },
           {
            "bin_start": 46.6,
            "bin_end": 69.4,
            "count": 12
           },
           {
            "bin_start": 69.4,
            "bin_end": 92.2,
            "count": 1
           },
           {
            "bin_start": 92.2,
            "bin_end": 115,
            "count": 2
           },
           {
            "bin_start": 115,
            "bin_end": 137.8,
            "count": 0
           },
           {
            "bin_start": 137.8,
            "bin_end": 160.6,
            "count": 2
           },
           {
            "bin_start": 160.6,
            "bin_end": 183.4,
            "count": 0
           },
           {
            "bin_start": 183.4,
            "bin_end": 206.20000000000002,
            "count": 0
           },
           {
            "bin_start": 206.20000000000002,
            "bin_end": 229,
            "count": 3
           }
          ]
         }
        },
        {
         "name": "% Quality Passes",
         "dtype": "float64",
         "stats": {
          "unique_count": 47,
          "nan_count": 0,
          "min": "2.22",
          "max": "98.25",
          "histogram": [
           {
            "bin_start": 2.22,
            "bin_end": 11.823,
            "count": 7
           },
           {
            "bin_start": 11.823,
            "bin_end": 21.426,
            "count": 4
           },
           {
            "bin_start": 21.426,
            "bin_end": 31.028999999999996,
            "count": 5
           },
           {
            "bin_start": 31.028999999999996,
            "bin_end": 40.632,
            "count": 7
           },
           {
            "bin_start": 40.632,
            "bin_end": 50.235,
            "count": 5
           },
           {
            "bin_start": 50.235,
            "bin_end": 59.837999999999994,
            "count": 2
           },
           {
            "bin_start": 59.837999999999994,
            "bin_end": 69.441,
            "count": 3
           },
           {
            "bin_start": 69.441,
            "bin_end": 79.044,
            "count": 7
           },
           {
            "bin_start": 79.044,
            "bin_end": 88.64699999999999,
            "count": 4
           },
           {
            "bin_start": 88.64699999999999,
            "bin_end": 98.25,
            "count": 5
           }
          ]
         }
        },
        {
         "name": "# Fastest Laps",
         "dtype": "int64",
         "stats": {
          "unique_count": 18,
          "nan_count": 0,
          "min": "0",
          "max": "36",
          "histogram": [
           {
            "bin_start": 0,
            "bin_end": 3.6,
            "count": 23
           },
           {
            "bin_start": 3.6,
            "bin_end": 7.2,
            "count": 12
           },
           {
            "bin_start": 7.2,
            "bin_end": 10.8,
            "count": 4
           },
           {
            "bin_start": 10.8,
            "bin_end": 14.4,
            "count": 4
           },
           {
            "bin_start": 14.4,
            "bin_end": 18,
            "count": 0
           },
           {
            "bin_start": 18,
            "bin_end": 21.6,
            "count": 2
           },
           {
            "bin_start": 21.6,
            "bin_end": 25.2,
            "count": 0
           },
           {
            "bin_start": 25.2,
            "bin_end": 28.8,
            "count": 2
           },
           {
            "bin_start": 28.8,
            "bin_end": 32.4,
            "count": 1
           },
           {
            "bin_start": 32.4,
            "bin_end": 36,
            "count": 1
           }
          ]
         }
        },
        {
         "name": "Laps in Top 15",
         "dtype": "int64",
         "stats": {
          "unique_count": 48,
          "nan_count": 0,
          "min": "0",
          "max": "501",
          "histogram": [
           {
            "bin_start": 0,
            "bin_end": 50.1,
            "count": 12
           },
           {
            "bin_start": 50.1,
            "bin_end": 100.2,
            "count": 9
           },
           {
            "bin_start": 100.2,
            "bin_end": 150.3,
            "count": 5
           },
           {
            "bin_start": 150.3,
            "bin_end": 200.4,
            "count": 6
           },
           {
            "bin_start": 200.4,
            "bin_end": 250.5,
            "count": 3
           },
           {
            "bin_start": 250.5,
            "bin_end": 300.6,
            "count": 7
           },
           {
            "bin_start": 300.6,
            "bin_end": 350.7,
            "count": 3
           },
           {
            "bin_start": 350.7,
            "bin_end": 400.8,
            "count": 2
           },
           {
            "bin_start": 400.8,
            "bin_end": 450.90000000000003,
            "count": 0
           },
           {
            "bin_start": 450.90000000000003,
            "bin_end": 501,
            "count": 2
           }
          ]
         }
        },
        {
         "name": "% Laps in Top 15",
         "dtype": "float64",
         "stats": {
          "unique_count": 45,
          "nan_count": 0,
          "min": "0.0",
          "max": "100.0",
          "histogram": [
           {
            "bin_start": 0,
            "bin_end": 10,
            "count": 3
           },
           {
            "bin_start": 10,
            "bin_end": 20,
            "count": 5
           },
           {
            "bin_start": 20,
            "bin_end": 30,
            "count": 4
           },
           {
            "bin_start": 30,
            "bin_end": 40,
            "count": 5
           },
           {
            "bin_start": 40,
            "bin_end": 50,
            "count": 1
           },
           {
            "bin_start": 50,
            "bin_end": 60,
            "count": 5
           },
           {
            "bin_start": 60,
            "bin_end": 70,
            "count": 7
           },
           {
            "bin_start": 70,
            "bin_end": 80,
            "count": 3
           },
           {
            "bin_start": 80,
            "bin_end": 90,
            "count": 4
           },
           {
            "bin_start": 90,
            "bin_end": 100,
            "count": 12
           }
          ]
         }
        },
        {
         "name": "Laps Led",
         "dtype": "int64",
         "stats": {
          "unique_count": 16,
          "nan_count": 0,
          "min": "0",
          "max": "72",
          "histogram": [
           {
            "bin_start": 0,
            "bin_end": 7.2,
            "count": 39
           },
           {
            "bin_start": 7.2,
            "bin_end": 14.4,
            "count": 3
           },
           {
            "bin_start": 14.4,
            "bin_end": 21.6,
            "count": 1
           },
           {
            "bin_start": 21.6,
            "bin_end": 28.8,
            "count": 2
           },
           {
            "bin_start": 28.8,
            "bin_end": 36,
            "count": 1
           },
           {
            "bin_start": 36,
            "bin_end": 43.2,
            "count": 0
           },
           {
            "bin_start": 43.2,
            "bin_end": 50.4,
            "count": 0
           },
           {
            "bin_start": 50.4,
            "bin_end": 57.6,
            "count": 1
           },
           {
            "bin_start": 57.6,
            "bin_end": 64.8,
            "count": 0
           },
           {
            "bin_start": 64.8,
            "bin_end": 72,
            "count": 2
           }
          ]
         }
        },
        {
         "name": "% Laps Led",
         "dtype": "float64",
         "stats": {
          "unique_count": 18,
          "nan_count": 0,
          "min": "0.0",
          "max": "33.3",
          "histogram": [
           {
            "bin_start": 0,
            "bin_end": 3.3299999999999996,
            "count": 40
           },
           {
            "bin_start": 3.3299999999999996,
            "bin_end": 6.659999999999999,
            "count": 2
           },
           {
            "bin_start": 6.659999999999999,
            "bin_end": 9.989999999999998,
            "count": 0
           },
           {
            "bin_start": 9.989999999999998,
            "bin_end": 13.319999999999999,
            "count": 3
           },
           {
            "bin_start": 13.319999999999999,
            "bin_end": 16.65,
            "count": 0
           },
           {
            "bin_start": 16.65,
            "bin_end": 19.979999999999997,
            "count": 1
           },
           {
            "bin_start": 19.979999999999997,
            "bin_end": 23.31,
            "count": 1
           },
           {
            "bin_start": 23.31,
            "bin_end": 26.639999999999997,
            "count": 0
           },
           {
            "bin_start": 26.639999999999997,
            "bin_end": 29.969999999999995,
            "count": 1
           },
           {
            "bin_start": 29.969999999999995,
            "bin_end": 33.3,
            "count": 1
           }
          ]
         }
        },
        {
         "name": "Total Laps",
         "dtype": "int64",
         "stats": {
          "unique_count": 40,
          "nan_count": 0,
          "min": "54",
          "max": "501",
          "histogram": [
           {
            "bin_start": 54,
            "bin_end": 98.7,
            "count": 8
           },
           {
            "bin_start": 98.7,
            "bin_end": 143.4,
            "count": 4
           },
           {
            "bin_start": 143.4,
            "bin_end": 188.10000000000002,
            "count": 3
           },
           {
            "bin_start": 188.10000000000002,
            "bin_end": 232.8,
            "count": 5
           },
           {
            "bin_start": 232.8,
            "bin_end": 277.5,
            "count": 9
           },
           {
            "bin_start": 277.5,
            "bin_end": 322.20000000000005,
            "count": 7
           },
           {
            "bin_start": 322.20000000000005,
            "bin_end": 366.90000000000003,
            "count": 2
           },
           {
            "bin_start": 366.90000000000003,
            "bin_end": 411.6,
            "count": 9
           },
           {
            "bin_start": 411.6,
            "bin_end": 456.3,
            "count": 0
           },
           {
            "bin_start": 456.3,
            "bin_end": 501,
            "count": 2
           }
          ]
         }
        },
        {
         "name": "Driver Rating",
         "dtype": "float64",
         "stats": {
          "unique_count": 47,
          "nan_count": 0,
          "min": "31.6",
          "max": "129.9",
          "histogram": [
           {
            "bin_start": 31.6,
            "bin_end": 41.43000000000001,
            "count": 1
           },
           {
            "bin_start": 41.43000000000001,
            "bin_end": 51.260000000000005,
            "count": 2
           },
           {
            "bin_start": 51.260000000000005,
            "bin_end": 61.09,
            "count": 6
           },
           {
            "bin_start": 61.09,
            "bin_end": 70.92000000000002,
            "count": 11
           },
           {
            "bin_start": 70.92000000000002,
            "bin_end": 80.75,
            "count": 5
           },
           {
            "bin_start": 80.75,
            "bin_end": 90.58000000000001,
            "count": 9
           },
           {
            "bin_start": 90.58000000000001,
            "bin_end": 100.41000000000003,
            "count": 4
           },
           {
            "bin_start": 100.41000000000003,
            "bin_end": 110.24000000000001,
            "count": 3
           },
           {
            "bin_start": 110.24000000000001,
            "bin_end": 120.07000000000002,
            "count": 3
           },
           {
            "bin_start": 120.07000000000002,
            "bin_end": 129.9,
            "count": 5
           }
          ]
         }
        },
        {
         "name": "Points",
         "dtype": "int64",
         "stats": {
          "unique_count": 31,
          "nan_count": 0,
          "min": "2",
          "max": "54",
          "histogram": [
           {
            "bin_start": 2,
            "bin_end": 7.2,
            "count": 3
           },
           {
            "bin_start": 7.2,
            "bin_end": 12.4,
            "count": 3
           },
           {
            "bin_start": 12.4,
            "bin_end": 17.6,
            "count": 5
           },
           {
            "bin_start": 17.6,
            "bin_end": 22.8,
            "count": 6
           },
           {
            "bin_start": 22.8,
            "bin_end": 28,
            "count": 11
           },
           {
            "bin_start": 28,
            "bin_end": 33.2,
            "count": 7
           },
           {
            "bin_start": 33.2,
            "bin_end": 38.4,
            "count": 1
           },
           {
            "bin_start": 38.4,
            "bin_end": 43.6,
            "count": 4
           },
           {
            "bin_start": 43.6,
            "bin_end": 48.800000000000004,
            "count": 3
           },
           {
            "bin_start": 48.800000000000004,
            "bin_end": 54,
            "count": 6
           }
          ]
         }
        },
        {
         "name": "Races",
         "dtype": "int64",
         "stats": {
          "unique_count": 34,
          "nan_count": 0,
          "min": "1",
          "max": "34",
          "histogram": [
           {
            "bin_start": 1,
            "bin_end": 4.3,
            "count": 10
           },
           {
            "bin_start": 4.3,
            "bin_end": 7.6,
            "count": 6
           },
           {
            "bin_start": 7.6,
            "bin_end": 10.899999999999999,
            "count": 6
           },
           {
            "bin_start": 10.899999999999999,
            "bin_end": 14.2,
            "count": 7
           },
           {
            "bin_start": 14.2,
            "bin_end": 17.5,
            "count": 3
           },
           {
            "bin_start": 17.5,
            "bin_end": 20.799999999999997,
            "count": 3
           },
           {
            "bin_start": 20.799999999999997,
            "bin_end": 24.099999999999998,
            "count": 4
           },
           {
            "bin_start": 24.099999999999998,
            "bin_end": 27.4,
            "count": 3
           },
           {
            "bin_start": 27.4,
            "bin_end": 30.7,
            "count": 3
           },
           {
            "bin_start": 30.7,
            "bin_end": 34,
            "count": 4
           }
          ]
         }
        },
        {
         "name": "Season",
         "dtype": "int64",
         "stats": {
          "unique_count": 2,
          "nan_count": 0,
          "min": "2021",
          "max": "2022",
          "histogram": [
           {
            "bin_start": 2021,
            "bin_end": 2021.1,
            "count": 36
           },
           {
            "bin_start": 2021.1,
            "bin_end": 2021.2,
            "count": 0
           },
           {
            "bin_start": 2021.2,
            "bin_end": 2021.3,
            "count": 0
           },
           {
            "bin_start": 2021.3,
            "bin_end": 2021.4,
            "count": 0
           },
           {
            "bin_start": 2021.4,
            "bin_end": 2021.5,
            "count": 0
           },
           {
            "bin_start": 2021.5,
            "bin_end": 2021.6,
            "count": 0
           },
           {
            "bin_start": 2021.6,
            "bin_end": 2021.7,
            "count": 0
           },
           {
            "bin_start": 2021.7,
            "bin_end": 2021.8,
            "count": 0
           },
           {
            "bin_start": 2021.8,
            "bin_end": 2021.9,
            "count": 0
           },
           {
            "bin_start": 2021.9,
            "bin_end": 2022,
            "count": 13
           }
          ]
         }
        },
        {
         "name": "Team",
         "dtype": "object",
         "stats": {
          "unique_count": 2,
          "nan_count": 0,
          "categories": [
           {
            "name": "Penske",
            "count": 36
           },
           {
            "name": "RFK",
            "count": 13
           }
          ]
         }
        },
        {
         "name": "Points Eligible",
         "dtype": "int64",
         "stats": {
          "unique_count": 1,
          "nan_count": 0,
          "min": "1",
          "max": "1",
          "histogram": [
           {
            "bin_start": 0.5,
            "bin_end": 0.6,
            "count": 0
           },
           {
            "bin_start": 0.6,
            "bin_end": 0.7,
            "count": 0
           },
           {
            "bin_start": 0.7,
            "bin_end": 0.8,
            "count": 0
           },
           {
            "bin_start": 0.8,
            "bin_end": 0.9,
            "count": 0
           },
           {
            "bin_start": 0.9,
            "bin_end": 1,
            "count": 0
           },
           {
            "bin_start": 1,
            "bin_end": 1.1,
            "count": 49
           },
           {
            "bin_start": 1.1,
            "bin_end": 1.2000000000000002,
            "count": 0
           },
           {
            "bin_start": 1.2000000000000002,
            "bin_end": 1.3,
            "count": 0
           },
           {
            "bin_start": 1.3,
            "bin_end": 1.4,
            "count": 0
           },
           {
            "bin_start": 1.4,
            "bin_end": 1.5,
            "count": 0
           }
          ]
         }
        },
        {
         "name": "Make",
         "dtype": "object",
         "stats": {
          "unique_count": 1,
          "nan_count": 0,
          "categories": [
           {
            "name": "Ford",
            "count": 49
           }
          ]
         }
        },
        {
         "name": "Same Races - Race #",
         "dtype": "int64",
         "stats": {
          "unique_count": 12,
          "nan_count": 0,
          "min": "0",
          "max": "11",
          "histogram": [
           {
            "bin_start": 0,
            "bin_end": 1.1,
            "count": 29
           },
           {
            "bin_start": 1.1,
            "bin_end": 2.2,
            "count": 2
           },
           {
            "bin_start": 2.2,
            "bin_end": 3.3000000000000003,
            "count": 2
           },
           {
            "bin_start": 3.3000000000000003,
            "bin_end": 4.4,
            "count": 2
           },
           {
            "bin_start": 4.4,
            "bin_end": 5.5,
            "count": 2
           },
           {
            "bin_start": 5.5,
            "bin_end": 6.6000000000000005,
            "count": 2
           },
           {
            "bin_start": 6.6000000000000005,
            "bin_end": 7.700000000000001,
            "count": 2
           },
           {
            "bin_start": 7.700000000000001,
            "bin_end": 8.8,
            "count": 2
           },
           {
            "bin_start": 8.8,
            "bin_end": 9.9,
            "count": 2
           },
           {
            "bin_start": 9.9,
            "bin_end": 11,
            "count": 4
           }
          ]
         }
        },
        {
         "name": "Race #",
         "dtype": "int64",
         "stats": {
          "unique_count": 36,
          "nan_count": 0,
          "min": "1",
          "max": "36",
          "histogram": [
           {
            "bin_start": 1,
            "bin_end": 4.5,
            "count": 8
           },
           {
            "bin_start": 4.5,
            "bin_end": 8,
            "count": 6
           },
           {
            "bin_start": 8,
            "bin_end": 11.5,
            "count": 8
           },
           {
            "bin_start": 11.5,
            "bin_end": 15,
            "count": 5
           },
           {
            "bin_start": 15,
            "bin_end": 18.5,
            "count": 4
           },
           {
            "bin_start": 18.5,
            "bin_end": 22,
            "count": 3
           },
           {
            "bin_start": 22,
            "bin_end": 25.5,
            "count": 4
           },
           {
            "bin_start": 25.5,
            "bin_end": 29,
            "count": 3
           },
           {
            "bin_start": 29,
            "bin_end": 32.5,
            "count": 4
           },
           {
            "bin_start": 32.5,
            "bin_end": 36,
            "count": 4
           }
          ]
         }
        },
        {
         "name": "Track",
         "dtype": "object",
         "stats": {
          "unique_count": 26,
          "nan_count": 0,
          "categories": [
           {
            "name": "Daytona",
            "count": 3
           },
           {
            "name": "Las Vegas",
            "count": 3
           },
           {
            "name": "24 others",
            "count": 43
           }
          ]
         }
        },
        {
         "name": "Track Type",
         "dtype": "object",
         "stats": {
          "unique_count": 5,
          "nan_count": 0,
          "categories": [
           {
            "name": "Speedway",
            "count": 17
           },
           {
            "name": "Short Track",
            "count": 15
           },
           {
            "name": "3 others",
            "count": 17
           }
          ]
         }
        },
        {
         "name": "Quality Passes Per Lap",
         "dtype": "float64",
         "stats": {
          "unique_count": 46,
          "nan_count": 0,
          "min": "0.003",
          "max": "1.846",
          "histogram": [
           {
            "bin_start": 0.003,
            "bin_end": 0.18730000000000002,
            "count": 30
           },
           {
            "bin_start": 0.18730000000000002,
            "bin_end": 0.37160000000000004,
            "count": 12
           },
           {
            "bin_start": 0.37160000000000004,
            "bin_end": 0.5559000000000001,
            "count": 3
           },
           {
            "bin_start": 0.5559000000000001,
            "bin_end": 0.7402000000000001,
            "count": 1
           },
           {
            "bin_start": 0.7402000000000001,
            "bin_end": 0.9245000000000001,
            "count": 0
           },
           {
            "bin_start": 0.9245000000000001,
            "bin_end": 1.1088,
            "count": 0
           },
           {
            "bin_start": 1.1088,
            "bin_end": 1.2931000000000001,
            "count": 1
           },
           {
            "bin_start": 1.2931000000000001,
            "bin_end": 1.4774,
            "count": 1
           },
           {
            "bin_start": 1.4774,
            "bin_end": 1.6617,
            "count": 0
           },
           {
            "bin_start": 1.6617,
            "bin_end": 1.846,
            "count": 1
           }
          ]
         }
        },
        {
         "name": "Fastest Lap",
         "dtype": "float64",
         "stats": {
          "unique_count": 49,
          "nan_count": 0,
          "min": "15.651",
          "max": "156.908",
          "histogram": [
           {
            "bin_start": 15.651,
            "bin_end": 29.776699999999998,
            "count": 18
           },
           {
            "bin_start": 29.776699999999998,
            "bin_end": 43.9024,
            "count": 15
           },
           {
            "bin_start": 43.9024,
            "bin_end": 58.028099999999995,
            "count": 8
           },
           {
            "bin_start": 58.028099999999995,
            "bin_end": 72.15379999999999,
            "count": 0
           },
           {
            "bin_start": 72.15379999999999,
            "bin_end": 86.27949999999998,
            "count": 2
           },
           {
            "bin_start": 86.27949999999998,
            "bin_end": 100.4052,
            "count": 1
           },
           {
            "bin_start": 100.4052,
            "bin_end": 114.53089999999999,
            "count": 1
           },
           {
            "bin_start": 114.53089999999999,
            "bin_end": 128.6566,
            "count": 1
           },
           {
            "bin_start": 128.6566,
            "bin_end": 142.7823,
            "count": 2
           },
           {
            "bin_start": 142.7823,
            "bin_end": 156.908,
            "count": 1
           }
          ]
         }
        },
        {
         "name": "Median Lap",
         "dtype": "float64",
         "stats": {
          "unique_count": 49,
          "nan_count": 0,
          "min": "16.275",
          "max": "164.562",
          "histogram": [
           {
            "bin_start": 16.275,
            "bin_end": 31.1037,
            "count": 19
           },
           {
            "bin_start": 31.1037,
            "bin_end": 45.9324,
            "count": 14
           },
           {
            "bin_start": 45.9324,
            "bin_end": 60.761100000000006,
            "count": 8
           },
           {
            "bin_start": 60.761100000000006,
            "bin_end": 75.5898,
            "count": 0
           },
           {
            "bin_start": 75.5898,
            "bin_end": 90.4185,
            "count": 2
           },
           {
            "bin_start": 90.4185,
            "bin_end": 105.24720000000002,
            "count": 2
           },
           {
            "bin_start": 105.24720000000002,
            "bin_end": 120.07590000000002,
            "count": 0
           },
           {
            "bin_start": 120.07590000000002,
            "bin_end": 134.90460000000002,
            "count": 1
           },
           {
            "bin_start": 134.90460000000002,
            "bin_end": 149.7333,
            "count": 2
           },
           {
            "bin_start": 149.7333,
            "bin_end": 164.562,
            "count": 1
           }
          ]
         }
        },
        {
         "name": "Average Full Speed Lap",
         "dtype": "float64",
         "stats": {
          "unique_count": 48,
          "nan_count": 0,
          "min": "16.221",
          "max": "161.592",
          "histogram": [
           {
            "bin_start": 16.221,
            "bin_end": 30.7581,
            "count": 17
           },
           {
            "bin_start": 30.7581,
            "bin_end": 45.2952,
            "count": 16
           },
           {
            "bin_start": 45.2952,
            "bin_end": 59.832300000000004,
            "count": 8
           },
           {
            "bin_start": 59.832300000000004,
            "bin_end": 74.3694,
            "count": 0
           },
           {
            "bin_start": 74.3694,
            "bin_end": 88.90650000000001,
            "count": 2
           },
           {
            "bin_start": 88.90650000000001,
            "bin_end": 103.4436,
            "count": 1
           },
           {
            "bin_start": 103.4436,
            "bin_end": 117.98070000000001,
            "count": 1
           },
           {
            "bin_start": 117.98070000000001,
            "bin_end": 132.5178,
            "count": 1
           },
           {
            "bin_start": 132.5178,
            "bin_end": 147.0549,
            "count": 2
           },
           {
            "bin_start": 147.0549,
            "bin_end": 161.592,
            "count": 1
           }
          ]
         }
        },
        {
         "name": "Fastest Lap % Deficit",
         "dtype": "float64",
         "stats": {
          "unique_count": 48,
          "nan_count": 0,
          "min": "-3.820966328056513",
          "max": "0.0",
          "histogram": [
           {
            "bin_start": -3.820966328056513,
            "bin_end": -3.4388696952508617,
            "count": 1
           },
           {
            "bin_start": -3.4388696952508617,
            "bin_end": -3.0567730624452105,
            "count": 0
           },
           {
            "bin_start": -3.0567730624452105,
            "bin_end": -2.674676429639559,
            "count": 2
           },
           {
            "bin_start": -2.674676429639559,
            "bin_end": -2.2925797968339077,
            "count": 7
           },
           {
            "bin_start": -2.2925797968339077,
            "bin_end": -1.9104831640282565,
            "count": 2
           },
           {
            "bin_start": -1.9104831640282565,
            "bin_end": -1.5283865312226048,
            "count": 4
           },
           {
            "bin_start": -1.5283865312226048,
            "bin_end": -1.1462898984169536,
            "count": 11
           },
           {
            "bin_start": -1.1462898984169536,
            "bin_end": -0.7641932656113024,
            "count": 6
           },
           {
            "bin_start": -0.7641932656113024,
            "bin_end": -0.3820966328056512,
            "count": 8
           },
           {
            "bin_start": -0.3820966328056512,
            "bin_end": 0,
            "count": 8
           }
          ]
         }
        },
        {
         "name": "Median Lap % Deficit",
         "dtype": "float64",
         "stats": {
          "unique_count": 48,
          "nan_count": 0,
          "min": "-4.486789431545224",
          "max": "0.0",
          "histogram": [
           {
            "bin_start": -4.486789431545224,
            "bin_end": -4.038110488390702,
            "count": 2
           },
           {
            "bin_start": -4.038110488390702,
            "bin_end": -3.5894315452361796,
            "count": 0
           },
           {
            "bin_start": -3.5894315452361796,
            "bin_end": -3.140752602081657,
            "count": 0
           },
           {
            "bin_start": -3.140752602081657,
            "bin_end": -2.692073658927135,
            "count": 2
           },
           {
            "bin_start": -2.692073658927135,
            "bin_end": -2.243394715772612,
            "count": 3
           },
           {
            "bin_start": -2.243394715772612,
            "bin_end": -1.7947157726180896,
            "count": 8
           },
           {
            "bin_start": -1.7947157726180896,
            "bin_end": -1.3460368294635674,
            "count": 6
           },
           {
            "bin_start": -1.3460368294635674,
            "bin_end": -0.8973578863090448,
            "count": 10
           },
           {
            "bin_start": -0.8973578863090448,
            "bin_end": -0.4486789431545226,
            "count": 6
           },
           {
            "bin_start": -0.4486789431545226,
            "bin_end": 0,
            "count": 12
           }
          ]
         }
        },
        {
         "name": "Average Full Speed Lap % Deficit",
         "dtype": "float64",
         "stats": {
          "unique_count": 48,
          "nan_count": 0,
          "min": "-3.509456034314693",
          "max": "0.0",
          "histogram": [
           {
            "bin_start": -3.509456034314693,
            "bin_end": -3.158510430883224,
            "count": 2
           },
           {
            "bin_start": -3.158510430883224,
            "bin_end": -2.8075648274517544,
            "count": 0
           },
           {
            "bin_start": -2.8075648274517544,
            "bin_end": -2.456619224020285,
            "count": 0
           },
           {
            "bin_start": -2.456619224020285,
            "bin_end": -2.105673620588816,
            "count": 6
           },
           {
            "bin_start": -2.105673620588816,
            "bin_end": -1.7547280171573465,
            "count": 6
           },
           {
            "bin_start": -1.7547280171573465,
            "bin_end": -1.4037824137258772,
            "count": 8
           },
           {
            "bin_start": -1.4037824137258772,
            "bin_end": -1.0528368102944081,
            "count": 4
           },
           {
            "bin_start": -1.0528368102944081,
            "bin_end": -0.7018912068629386,
            "count": 8
           },
           {
            "bin_start": -0.7018912068629386,
            "bin_end": -0.3509456034314691,
            "count": 6
           },
           {
            "bin_start": -0.3509456034314691,
            "bin_end": 0,
            "count": 9
           }
          ]
         }
        },
        {
         "name": "Fastest Lap Rank",
         "dtype": "float64",
         "stats": {
          "unique_count": 25,
          "nan_count": 0,
          "min": "1.0",
          "max": "34.0",
          "histogram": [
           {
            "bin_start": 1,
            "bin_end": 4.3,
            "count": 10
           },
           {
            "bin_start": 4.3,
            "bin_end": 7.6,
            "count": 5
           },
           {
            "bin_start": 7.6,
            "bin_end": 10.899999999999999,
            "count": 6
           },
           {
            "bin_start": 10.899999999999999,
            "bin_end": 14.2,
            "count": 6
           },
           {
            "bin_start": 14.2,
            "bin_end": 17.5,
            "count": 10
           },
           {
            "bin_start": 17.5,
            "bin_end": 20.799999999999997,
            "count": 4
           },
           {
            "bin_start": 20.799999999999997,
            "bin_end": 24.099999999999998,
            "count": 3
           },
           {
            "bin_start": 24.099999999999998,
            "bin_end": 27.4,
            "count": 1
           },
           {
            "bin_start": 27.4,
            "bin_end": 30.7,
            "count": 1
           },
           {
            "bin_start": 30.7,
            "bin_end": 34,
            "count": 3
           }
          ]
         }
        },
        {
         "name": "Median Lap Rank",
         "dtype": "float64",
         "stats": {
          "unique_count": 27,
          "nan_count": 0,
          "min": "1.0",
          "max": "37.0",
          "histogram": [
           {
            "bin_start": 1,
            "bin_end": 4.6,
            "count": 7
           },
           {
            "bin_start": 4.6,
            "bin_end": 8.2,
            "count": 5
           },
           {
            "bin_start": 8.2,
            "bin_end": 11.8,
            "count": 4
           },
           {
            "bin_start": 11.8,
            "bin_end": 15.4,
            "count": 12
           },
           {
            "bin_start": 15.4,
            "bin_end": 19,
            "count": 3
           },
           {
            "bin_start": 19,
            "bin_end": 22.6,
            "count": 10
           },
           {
            "bin_start": 22.6,
            "bin_end": 26.2,
            "count": 3
           },
           {
            "bin_start": 26.2,
            "bin_end": 29.8,
            "count": 4
           },
           {
            "bin_start": 29.8,
            "bin_end": 33.4,
            "count": 0
           },
           {
            "bin_start": 33.4,
            "bin_end": 37,
            "count": 1
           }
          ]
         }
        },
        {
         "name": "Average Full Speed Lap Rank",
         "dtype": "float64",
         "stats": {
          "unique_count": 25,
          "nan_count": 0,
          "min": "1.0",
          "max": "34.0",
          "histogram": [
           {
            "bin_start": 1,
            "bin_end": 4.3,
            "count": 7
           },
           {
            "bin_start": 4.3,
            "bin_end": 7.6,
            "count": 3
           },
           {
            "bin_start": 7.6,
            "bin_end": 10.899999999999999,
            "count": 8
           },
           {
            "bin_start": 10.899999999999999,
            "bin_end": 14.2,
            "count": 9
           },
           {
            "bin_start": 14.2,
            "bin_end": 17.5,
            "count": 6
           },
           {
            "bin_start": 17.5,
            "bin_end": 20.799999999999997,
            "count": 1
           },
           {
            "bin_start": 20.799999999999997,
            "bin_end": 24.099999999999998,
            "count": 7
           },
           {
            "bin_start": 24.099999999999998,
            "bin_end": 27.4,
            "count": 1
           },
           {
            "bin_start": 27.4,
            "bin_end": 30.7,
            "count": 6
           },
           {
            "bin_start": 30.7,
            "bin_end": 34,
            "count": 1
           }
          ]
         }
        },
        {
         "name": "_deepnote_index_column",
         "dtype": "int64"
        }
       ],
       "rows": [
        {
         "Driver": "Brad Keselowski",
         "Car #": 2,
         "Start": 24,
         "Mid Race": 12,
         "Finish": 13,
         "Average Position": 11.8,
         "Pass Differential": -13,
         "Green Passes": 117,
         "Green Passed": 130,
         "Quality Passes": 104,
         "% Quality Passes": 88.89,
         "# Fastest Laps": 6,
         "Laps in Top 15": 171,
         "% Laps in Top 15": 85.5,
         "Laps Led": 0,
         "% Laps Led": 0,
         "Total Laps": 199,
         "Driver Rating": 90.3,
         "Points": 25,
         "Races": 1,
         "Season": 2021,
         "Team": "Penske",
         "Points Eligible": 1,
         "Make": "Ford",
         "Same Races - Race #": 1,
         "Race #": 1,
         "Track": "Daytona",
         "Track Type": "Superspeedway",
         "Quality Passes Per Lap": 0.523,
         "Fastest Lap": 45.436,
         "Median Lap": 46.357,
         "Average Full Speed Lap": 46.242,
         "Fastest Lap % Deficit": -1.092446323284013,
         "Median Lap % Deficit": -0.6622947971857893,
         "Average Full Speed Lap % Deficit": -0.8131853757439612,
         "Fastest Lap Rank": 16,
         "Median Lap Rank": 9,
         "Average Full Speed Lap Rank": 10,
         "_deepnote_index_column": 11
        },
        {
         "Driver": "Brad Keselowski",
         "Car #": 2,
         "Start": 15,
         "Mid Race": 31,
         "Finish": 5,
         "Average Position": 16.5,
         "Pass Differential": -48,
         "Green Passes": 75,
         "Green Passed": 123,
         "Quality Passes": 22,
         "% Quality Passes": 29.33,
         "# Fastest Laps": 0,
         "Laps in Top 15": 42,
         "% Laps in Top 15": 60,
         "Laps Led": 0,
         "% Laps Led": 0,
         "Total Laps": 70,
         "Driver Rating": 76.7,
         "Points": 39,
         "Races": 2,
         "Season": 2021,
         "Team": "Penske",
         "Points Eligible": 1,
         "Make": "Ford",
         "Same Races - Race #": 0,
         "Race #": 2,
         "Track": "Daytona RC",
         "Track Type": "Road Course",
         "Quality Passes Per Lap": 0.314,
         "Fastest Lap": 117.856,
         "Median Lap": 120.864,
         "Average Full Speed Lap": 120.433,
         "Fastest Lap % Deficit": -1.883693387622421,
         "Median Lap % Deficit": -1.5066767447719924,
         "Average Full Speed Lap % Deficit": -1.7144835857199572,
         "Fastest Lap Rank": 17,
         "Median Lap Rank": 14,
         "Average Full Speed Lap Rank": 14,
         "_deepnote_index_column": 43
        },
        {
         "Driver": "Brad Keselowski",
         "Car #": 2,
         "Start": 15,
         "Mid Race": 31,
         "Finish": 5,
         "Average Position": 16.5,
         "Pass Differential": -48,
         "Green Passes": 75,
         "Green Passed": 123,
         "Quality Passes": 22,
         "% Quality Passes": 29.33,
         "# Fastest Laps": 0,
         "Laps in Top 15": 42,
         "% Laps in Top 15": 60,
         "Laps Led": 0,
         "% Laps Led": 0,
         "Total Laps": 70,
         "Driver Rating": 76.7,
         "Points": 39,
         "Races": 1,
         "Season": 2021,
         "Team": "Penske",
         "Points Eligible": 1,
         "Make": "Ford",
         "Same Races - Race #": 0,
         "Race #": 3,
         "Track": "Homestead",
         "Track Type": "Speedway",
         "Quality Passes Per Lap": 0.314,
         "Fastest Lap": 32.527,
         "Median Lap": 35.01,
         "Average Full Speed Lap": 34.626,
         "Fastest Lap % Deficit": -0.24655592196504542,
         "Median Lap % Deficit": -0.13442782369933085,
         "Average Full Speed Lap % Deficit": -0.10986469295708541,
         "Fastest Lap Rank": 4,
         "Median Lap Rank": 3,
         "Average Full Speed Lap Rank": 3,
         "_deepnote_index_column": 82
        },
        {
         "Driver": "Brad Keselowski",
         "Car #": 2,
         "Start": 10,
         "Mid Race": 8,
         "Finish": 2,
         "Average Position": 4.2,
         "Pass Differential": 36,
         "Green Passes": 133,
         "Green Passed": 97,
         "Quality Passes": 113,
         "% Quality Passes": 84.96,
         "# Fastest Laps": 30,
         "Laps in Top 15": 255,
         "% Laps in Top 15": 95.5,
         "Laps Led": 27,
         "% Laps Led": 10.1,
         "Total Laps": 267,
         "Driver Rating": 123.5,
         "Points": 54,
         "Races": 2,
         "Season": 2021,
         "Team": "Penske",
         "Points Eligible": 1,
         "Make": "Ford",
         "Same Races - Race #": 2,
         "Race #": 4,
         "Track": "Las Vegas",
         "Track Type": "Speedway",
         "Quality Passes Per Lap": 0.423,
         "Fastest Lap": 30.184,
         "Median Lap": 30.946,
         "Average Full Speed Lap": 30.895,
         "Fastest Lap % Deficit": -0.07957559681697914,
         "Median Lap % Deficit": -0.17155990030104173,
         "Average Full Speed Lap % Deficit": 0,
         "Fastest Lap Rank": 2,
         "Median Lap Rank": 2,
         "Average Full Speed Lap Rank": 1,
         "_deepnote_index_column": 115
        },
        {
         "Driver": "Brad Keselowski",
         "Car #": 2,
         "Start": 1,
         "Mid Race": 5,
         "Finish": 4,
         "Average Position": 3.9,
         "Pass Differential": -2,
         "Green Passes": 61,
         "Green Passed": 63,
         "Quality Passes": 32,
         "% Quality Passes": 52.46,
         "# Fastest Laps": 14,
         "Laps in Top 15": 310,
         "% Laps in Top 15": 99.4,
         "Laps Led": 19,
         "% Laps Led": 6.1,
         "Total Laps": 312,
         "Driver Rating": 116.6,
         "Points": 48,
         "Races": 3,
         "Season": 2021,
         "Team": "Penske",
         "Points Eligible": 1,
         "Make": "Ford",
         "Same Races - Race #": 3,
         "Race #": 5,
         "Track": "Phoenix",
         "Track Type": "Short Track",
         "Quality Passes Per Lap": 0.103,
         "Fastest Lap": 27.033,
         "Median Lap": 27.932,
         "Average Full Speed Lap": 27.788,
         "Fastest Lap % Deficit": -0.2001556766373922,
         "Median Lap % Deficit": -0.20088965418280016,
         "Average Full Speed Lap % Deficit": -0.07562934418554686,
         "Fastest Lap Rank": 2,
         "Median Lap Rank": 3,
         "Average Full Speed Lap Rank": 3,
         "_deepnote_index_column": 154
        },
        {
         "Driver": "Brad Keselowski",
         "Car #": 2,
         "Start": 4,
         "Mid Race": 13,
         "Finish": 28,
         "Average Position": 20.3,
         "Pass Differential": -22,
         "Green Passes": 72,
         "Green Passed": 94,
         "Quality Passes": 28,
         "% Quality Passes": 38.89,
         "# Fastest Laps": 5,
         "Laps in Top 15": 121,
         "% Laps in Top 15": 37.2,
         "Laps Led": 0,
         "% Laps Led": 0,
         "Total Laps": 321,
         "Driver Rating": 64.1,
         "Points": 9,
         "Races": 4,
         "Season": 2021,
         "Team": "Penske",
         "Points Eligible": 1,
         "Make": "Ford",
         "Same Races - Race #": 4,
         "Race #": 6,
         "Track": "Atlanta",
         "Track Type": "Superpeedway",
         "Quality Passes Per Lap": 0.087,
         "Fastest Lap": 31.424,
         "Median Lap": 33.392,
         "Average Full Speed Lap": 33.228,
         "Fastest Lap % Deficit": -1.227329832812551,
         "Median Lap % Deficit": -1.9914477703115485,
         "Average Full Speed Lap % Deficit": -2.026529108327204,
         "Fastest Lap Rank": 13,
         "Median Lap Rank": 29,
         "Average Full Speed Lap Rank": 29,
         "_deepnote_index_column": 215
        },
        {
         "Driver": "Brad Keselowski",
         "Car #": 2,
         "Start": 20,
         "Mid Race": 20,
         "Finish": 11,
         "Average Position": 17.9,
         "Pass Differential": -1,
         "Green Passes": 54,
         "Green Passed": 55,
         "Quality Passes": 14,
         "% Quality Passes": 25.93,
         "# Fastest Laps": 1,
         "Laps in Top 15": 99,
         "% Laps in Top 15": 39.1,
         "Laps Led": 0,
         "% Laps Led": 0,
         "Total Laps": 253,
         "Driver Rating": 73.8,
         "Points": 26,
         "Races": 5,
         "Season": 2021,
         "Team": "Penske",
         "Points Eligible": 1,
         "Make": "Ford",
         "Same Races - Race #": 5,
         "Race #": 7,
         "Track": "Bristol",
         "Track Type": "Short Track",
         "Quality Passes Per Lap": 0.055,
         "Fastest Lap": 20.134,
         "Median Lap": 21.349,
         "Average Full Speed Lap": 21.236,
         "Fastest Lap % Deficit": -3.820966328056513,
         "Median Lap % Deficit": -2.7134953091171523,
         "Average Full Speed Lap % Deficit": -3.509456034314693,
         "Fastest Lap Rank": 33,
         "Median Lap Rank": 22,
         "Average Full Speed Lap Rank": 27,
         "_deepnote_index_column": 236
        },
        {
         "Driver": "Brad Keselowski",
         "Car #": 2,
         "Start": 10,
         "Mid Race": 7,
         "Finish": 33,
         "Average Position": 15.8,
         "Pass Differential": 10,
         "Green Passes": 42,
         "Green Passed": 32,
         "Quality Passes": 30,
         "% Quality Passes": 71.43,
         "# Fastest Laps": 5,
         "Laps in Top 15": 319,
         "% Laps in Top 15": 63.8,
         "Laps Led": 0,
         "% Laps Led": 0,
         "Total Laps": 385,
         "Driver Rating": 76.8,
         "Points": 12,
         "Races": 6,
         "Season": 2021,
         "Team": "Penske",
         "Points Eligible": 1,
         "Make": "Ford",
         "Same Races - Race #": 6,
         "Race #": 8,
         "Track": "Martinsville",
         "Track Type": "Short Track",
         "Quality Passes Per Lap": 0.078,
         "Fastest Lap": 20.123,
         "Median Lap": 21.321,
         "Average Full Speed Lap": 21.076,
         "Fastest Lap % Deficit": -1.0393653344045026,
         "Median Lap % Deficit": -1.0473933649289102,
         "Average Full Speed Lap % Deficit": -0.7649646203863077,
         "Fastest Lap Rank": 6,
         "Median Lap Rank": 15,
         "Average Full Speed Lap Rank": 10,
         "_deepnote_index_column": 296
        },
        {
         "Driver": "Brad Keselowski",
         "Car #": 2,
         "Start": 20,
         "Mid Race": 1,
         "Finish": 14,
         "Average Position": 10,
         "Pass Differential": 8,
         "Green Passes": 63,
         "Green Passed": 55,
         "Quality Passes": 42,
         "% Quality Passes": 66.67,
         "# Fastest Laps": 11,
         "Laps in Top 15": 374,
         "% Laps in Top 15": 93.5,
         "Laps Led": 25,
         "% Laps Led": 6.3,
         "Total Laps": 400,
         "Driver Rating": 90.7,
         "Points": 25,
         "Races": 7,
         "Season": 2021,
         "Team": "Penske",
         "Points Eligible": 1,
         "Make": "Ford",
         "Same Races - Race #": 7,
         "Race #": 9,
         "Track": "Richmond",
         "Track Type": "Short Track",
         "Quality Passes Per Lap": 0.105,
         "Fastest Lap": 22.924,
         "Median Lap": 24.524,
         "Average Full Speed Lap": 24.247,
         "Fastest Lap % Deficit": -2.5315323374183687,
         "Median Lap % Deficit": -1.10904968047826,
         "Average Full Speed Lap % Deficit": -1.528347709572056,
         "Fastest Lap Rank": 11,
         "Median Lap Rank": 13,
         "Average Full Speed Lap Rank": 12,
         "_deepnote_index_column": 313
        },
        {
         "Driver": "Brad Keselowski",
         "Car #": 2,
         "Start": 10,
         "Mid Race": 8,
         "Finish": 1,
         "Average Position": 8.5,
         "Pass Differential": 28,
         "Green Passes": 324,
         "Green Passed": 296,
         "Quality Passes": 229,
         "% Quality Passes": 70.68,
         "# Fastest Laps": 5,
         "Laps in Top 15": 163,
         "% Laps in Top 15": 85.3,
         "Laps Led": 1,
         "% Laps Led": 0.5,
         "Total Laps": 191,
         "Driver Rating": 117.9,
         "Points": 49,
         "Races": 8,
         "Season": 2021,
         "Team": "Penske",
         "Points Eligible": 1,
         "Make": "Ford",
         "Same Races - Race #": 8,
         "Race #": 10,
         "Track": "Talladega",
         "Track Type": "Superspeedway",
         "Quality Passes Per Lap": 1.199,
         "Fastest Lap": 47.527,
         "Median Lap": 49.339,
         "Average Full Speed Lap": 49.213,
         "Fastest Lap % Deficit": -0.637360775843819,
         "Median Lap % Deficit": -0.41927014430219195,
         "Average Full Speed Lap % Deficit": -0.43469387755102235,
         "Fastest Lap Rank": 4,
         "Median Lap Rank": 10,
         "Average Full Speed Lap Rank": 8,
         "_deepnote_index_column": 337
        },
        {
         "Driver": "Brad Keselowski",
         "Car #": 2,
         "Start": 1,
         "Mid Race": 8,
         "Finish": 3,
         "Average Position": 4.2,
         "Pass Differential": 4,
         "Green Passes": 66,
         "Green Passed": 62,
         "Quality Passes": 53,
         "% Quality Passes": 80.3,
         "# Fastest Laps": 18,
         "Laps in Top 15": 267,
         "% Laps in Top 15": 100,
         "Laps Led": 72,
         "% Laps Led": 27,
         "Total Laps": 267,
         "Driver Rating": 121.7,
         "Points": 48,
         "Races": 9,
         "Season": 2021,
         "Team": "Penske",
         "Points Eligible": 1,
         "Make": "Ford",
         "Same Races - Race #": 11,
         "Race #": 11,
         "Track": "Kansas",
         "Track Type": "Speedway",
         "Quality Passes Per Lap": 0.199,
         "Fastest Lap": 30.998,
         "Median Lap": 32.173,
         "Average Full Speed Lap": 32.095,
         "Fastest Lap % Deficit": 0,
         "Median Lap % Deficit": -0.5594799024817217,
         "Average Full Speed Lap % Deficit": -0.3313639063427994,
         "Fastest Lap Rank": 1,
         "Median Lap Rank": 4,
         "Average Full Speed Lap Rank": 4,
         "_deepnote_index_column": 378
        },
        {
         "Driver": "Brad Keselowski",
         "Car #": 2,
         "Start": 1,
         "Mid Race": 27,
         "Finish": 24,
         "Average Position": 19.9,
         "Pass Differential": -34,
         "Green Passes": 92,
         "Green Passed": 126,
         "Quality Passes": 4,
         "% Quality Passes": 4.35,
         "# Fastest Laps": 28,
         "Laps in Top 15": 34,
         "% Laps in Top 15": 11.6,
         "Laps Led": 4,
         "% Laps Led": 1.4,
         "Total Laps": 290,
         "Driver Rating": 64.4,
         "Points": 13,
         "Races": 10,
         "Season": 2021,
         "Team": "Penske",
         "Points Eligible": 1,
         "Make": "Ford",
         "Same Races - Race #": 9,
         "Race #": 12,
         "Track": "Darlington",
         "Track Type": "Speedway",
         "Quality Passes Per Lap": 0.014,
         "Fastest Lap": 30.008,
         "Median Lap": 32.626,
         "Average Full Speed Lap": 32.05,
         "Fastest Lap % Deficit": -1.8152207104807794,
         "Median Lap % Deficit": -4.486789431545224,
         "Average Full Speed Lap % Deficit": -2.2589496522238477,
         "Fastest Lap Rank": 8,
         "Median Lap Rank": 23,
         "Average Full Speed Lap Rank": 14,
         "_deepnote_index_column": 436
        },
        {
         "Driver": "Brad Keselowski",
         "Car #": 2,
         "Start": 15,
         "Mid Race": 8,
         "Finish": 16,
         "Average Position": 10.8,
         "Pass Differential": 1,
         "Green Passes": 15,
         "Green Passed": 14,
         "Quality Passes": 14,
         "% Quality Passes": 93.33,
         "# Fastest Laps": 1,
         "Laps in Top 15": 311,
         "% Laps in Top 15": 77.8,
         "Laps Led": 0,
         "% Laps Led": 0,
         "Total Laps": 400,
         "Driver Rating": 85.5,
         "Points": 25,
         "Races": 11,
         "Season": 2021,
         "Team": "Penske",
         "Points Eligible": 1,
         "Make": "Ford",
         "Same Races - Race #": 10,
         "Race #": 13,
         "Track": "Dover",
         "Track Type": "Short Track",
         "Quality Passes Per Lap": 0.035,
         "Fastest Lap": 23.644,
         "Median Lap": 24.618,
         "Average Full Speed Lap": 24.545,
         "Fastest Lap % Deficit": -1.9797282725900354,
         "Median Lap % Deficit": -0.6953534031413536,
         "Average Full Speed Lap % Deficit": -1.0997611005849042,
         "Fastest Lap Rank": 14,
         "Median Lap Rank": 7,
         "Average Full Speed Lap Rank": 9,
         "_deepnote_index_column": 465
        },
        {
         "Driver": "Brad Keselowski",
         "Car #": 2,
         "Start": 24,
         "Mid Race": 15,
         "Finish": 19,
         "Average Position": 21.7,
         "Pass Differential": 13,
         "Green Passes": 87,
         "Green Passed": 74,
         "Quality Passes": 17,
         "% Quality Passes": 19.54,
         "# Fastest Laps": 0,
         "Laps in Top 15": 12,
         "% Laps in Top 15": 22.2,
         "Laps Led": 0,
         "% Laps Led": 0,
         "Total Laps": 54,
         "Driver Rating": 56.8,
         "Points": 18,
         "Races": 12,
         "Season": 2021,
         "Team": "Penske",
         "Points Eligible": 1,
         "Make": "Ford",
         "Same Races - Race #": 0,
         "Race #": 14,
         "Track": "COTA",
         "Track Type": "Road Course",
         "Quality Passes Per Lap": 0.315,
         "Fastest Lap": 156.908,
         "Median Lap": 164.562,
         "Average Full Speed Lap": 161.592,
         "Fastest Lap % Deficit": -1.0354153251770608,
         "Median Lap % Deficit": -2.640836285614496,
         "Average Full Speed Lap % Deficit": -1.880725557818285,
         "Fastest Lap Rank": 17,
         "Median Lap Rank": 22,
         "Average Full Speed Lap Rank": 21,
         "_deepnote_index_column": 504
        },
        {
         "Driver": "Brad Keselowski",
         "Car #": 2,
         "Start": 13,
         "Mid Race": 16,
         "Finish": 11,
         "Average Position": 14.3,
         "Pass Differential": -3,
         "Green Passes": 120,
         "Green Passed": 123,
         "Quality Passes": 47,
         "% Quality Passes": 39.17,
         "# Fastest Laps": 8,
         "Laps in Top 15": 233,
         "% Laps in Top 15": 58.3,
         "Laps Led": 6,
         "% Laps Led": 1.5,
         "Total Laps": 400,
         "Driver Rating": 79.3,
         "Points": 26,
         "Races": 13,
         "Season": 2021,
         "Team": "Penske",
         "Points Eligible": 1,
         "Make": "Ford",
         "Same Races - Race #": 0,
         "Race #": 15,
         "Track": "Charlotte",
         "Track Type": "Speedway",
         "Quality Passes Per Lap": 0.118,
         "Fastest Lap": 29.951,
         "Median Lap": 30.811,
         "Average Full Speed Lap": 30.803,
         "Fastest Lap % Deficit": -0.5370749555234807,
         "Median Lap % Deficit": -1.1722598016680872,
         "Average Full Speed Lap % Deficit": -1.049765443033823,
         "Fastest Lap Rank": 4,
         "Median Lap Rank": 15,
         "Average Full Speed Lap Rank": 17,
         "_deepnote_index_column": 535
        },
        {
         "Driver": "Brad Keselowski",
         "Car #": 2,
         "Start": 9,
         "Mid Race": 5,
         "Finish": 15,
         "Average Position": 12.5,
         "Pass Differential": 34,
         "Green Passes": 76,
         "Green Passed": 42,
         "Quality Passes": 24,
         "% Quality Passes": 31.58,
         "# Fastest Laps": 0,
         "Laps in Top 15": 59,
         "% Laps in Top 15": 64.1,
         "Laps Led": 0,
         "% Laps Led": 0,
         "Total Laps": 92,
         "Driver Rating": 91.7,
         "Points": 25,
         "Races": 14,
         "Season": 2021,
         "Team": "Penske",
         "Points Eligible": 1,
         "Make": "Ford",
         "Same Races - Race #": 0,
         "Race #": 16,
         "Track": "Sonoma",
         "Track Type": "Road Course",
         "Quality Passes Per Lap": 0.261,
         "Fastest Lap": 101.235,
         "Median Lap": 103.838,
         "Average Full Speed Lap": 103.468,
         "Fastest Lap % Deficit": -1.7999899441902623,
         "Median Lap % Deficit": -1.5113596371172644,
         "Average Full Speed Lap % Deficit": -1.6125547502602577,
         "Fastest Lap Rank": 19,
         "Median Lap Rank": 6,
         "Average Full Speed Lap Rank": 8,
         "_deepnote_index_column": 576
        },
        {
         "Driver": "Brad Keselowski",
         "Car #": 2,
         "Start": 15,
         "Mid Race": 19,
         "Finish": 24,
         "Average Position": 18.3,
         "Pass Differential": -12,
         "Green Passes": 83,
         "Green Passed": 95,
         "Quality Passes": 21,
         "% Quality Passes": 25.3,
         "# Fastest Laps": 0,
         "Laps in Top 15": 90,
         "% Laps in Top 15": 30,
         "Laps Led": 0,
         "% Laps Led": 0,
         "Total Laps": 299,
         "Driver Rating": 58.8,
         "Points": 16,
         "Races": 15,
         "Season": 2021,
         "Team": "Penske",
         "Points Eligible": 1,
         "Make": "Ford",
         "Same Races - Race #": 0,
         "Race #": 17,
         "Track": "Nashville",
         "Track Type": "Speedway",
         "Quality Passes Per Lap": 0.07,
         "Fastest Lap": 31.322,
         "Median Lap": 32.562,
         "Average Full Speed Lap": 32.467,
         "Fastest Lap % Deficit": -2.5202932704896557,
         "Median Lap % Deficit": -1.8899805995368897,
         "Average Full Speed Lap % Deficit": -2.4130969654911265,
         "Fastest Lap Rank": 18,
         "Median Lap Rank": 27,
         "Average Full Speed Lap Rank": 28,
         "_deepnote_index_column": 620
        },
        {
         "Driver": "Brad Keselowski",
         "Car #": 2,
         "Start": 18,
         "Mid Race": 12,
         "Finish": 10,
         "Average Position": 14.8,
         "Pass Differential": 31,
         "Green Passes": 91,
         "Green Passed": 60,
         "Quality Passes": 38,
         "% Quality Passes": 41.76,
         "# Fastest Laps": 4,
         "Laps in Top 15": 85,
         "% Laps in Top 15": 65.4,
         "Laps Led": 0,
         "% Laps Led": 0,
         "Total Laps": 130,
         "Driver Rating": 84.9,
         "Points": 28,
         "Races": 16,
         "Season": 2021,
         "Team": "Penske",
         "Points Eligible": 1,
         "Make": "Ford",
         "Same Races - Race #": 0,
         "Race #": 18,
         "Track": "Pocono",
         "Track Type": "Speedway",
         "Quality Passes Per Lap": 0.292,
         "Fastest Lap": 53.12,
         "Median Lap": 54.611,
         "Average Full Speed Lap": 54.462,
         "Fastest Lap % Deficit": -0.08478568064059275,
         "Median Lap % Deficit": -1.2439747868001472,
         "Average Full Speed Lap % Deficit": -1.0033196713710872,
         "Fastest Lap Rank": 5,
         "Median Lap Rank": 14,
         "Average Full Speed Lap Rank": 9,
         "_deepnote_index_column": 645
        },
        {
         "Driver": "Brad Keselowski",
         "Car #": 2,
         "Start": 11,
         "Mid Race": 18,
         "Finish": 3,
         "Average Position": 8,
         "Pass Differential": 16,
         "Green Passes": 68,
         "Green Passed": 52,
         "Quality Passes": 33,
         "% Quality Passes": 48.53,
         "# Fastest Laps": 20,
         "Laps in Top 15": 113,
         "% Laps in Top 15": 80.7,
         "Laps Led": 31,
         "% Laps Led": 22.1,
         "Total Laps": 140,
         "Driver Rating": 124.2,
         "Points": 50,
         "Races": 17,
         "Season": 2021,
         "Team": "Penske",
         "Points Eligible": 1,
         "Make": "Ford",
         "Same Races - Race #": 0,
         "Race #": 19,
         "Track": "Pocono",
         "Track Type": "Speedway",
         "Quality Passes Per Lap": 0.236,
         "Fastest Lap": 53.264,
         "Median Lap": 54.206,
         "Average Full Speed Lap": 54.234,
         "Fastest Lap % Deficit": -0.5398467288308381,
         "Median Lap % Deficit": 0,
         "Average Full Speed Lap % Deficit": 0,
         "Fastest Lap Rank": 4,
         "Median Lap Rank": 1,
         "Average Full Speed Lap Rank": 1,
         "_deepnote_index_column": 675
        },
        {
         "Driver": "Brad Keselowski",
         "Car #": 2,
         "Start": 20,
         "Mid Race": 11,
         "Finish": 13,
         "Average Position": 20.2,
         "Pass Differential": 38,
         "Green Passes": 77,
         "Green Passed": 39,
         "Quality Passes": 7,
         "% Quality Passes": 9.09,
         "# Fastest Laps": 0,
         "Laps in Top 15": 7,
         "% Laps in Top 15": 11.3,
         "Laps Led": 0,
         "% Laps Led": 0,
         "Total Laps": 62,
         "Driver Rating": 67.5,
         "Points": 24,
         "Races": 18,
         "Season": 2021,
         "Team": "Penske",
         "Points Eligible": 1,
         "Make": "Ford",
         "Same Races - Race #": 0,
         "Race #": 20,
         "Track": "Road America",
         "Track Type": "Road Course",
         "Quality Passes Per Lap": 0.113,
         "Fastest Lap": 137.412,
         "Median Lap": 140.955,
         "Average Full Speed Lap": 140.681,
         "Fastest Lap % Deficit": -2.3545448451035758,
         "Median Lap % Deficit": -1.1147696214517844,
         "Average Full Speed Lap % Deficit": -2.2272119520985916,
         "Fastest Lap Rank": 24,
         "Median Lap Rank": 20,
         "Average Full Speed Lap Rank": 23,
         "_deepnote_index_column": 722
        },
        {
         "Driver": "Brad Keselowski",
         "Car #": 2,
         "Start": 14,
         "Mid Race": 11,
         "Finish": 10,
         "Average Position": 9,
         "Pass Differential": -6,
         "Green Passes": 66,
         "Green Passed": 72,
         "Quality Passes": 50,
         "% Quality Passes": 75.76,
         "# Fastest Laps": 0,
         "Laps in Top 15": 253,
         "% Laps in Top 15": 97.3,
         "Laps Led": 0,
         "% Laps Led": 0,
         "Total Laps": 260,
         "Driver Rating": 96.3,
         "Points": 30,
         "Races": 19,
         "Season": 2021,
         "Team": "Penske",
         "Points Eligible": 1,
         "Make": "Ford",
         "Same Races - Race #": 0,
         "Race #": 21,
         "Track": "Atlanta",
         "Track Type": "Superpeedway",
         "Quality Passes Per Lap": 0.192,
         "Fastest Lap": 31.655,
         "Median Lap": 33.34,
         "Average Full Speed Lap": 33.168,
         "Fastest Lap % Deficit": -1.3251816523158717,
         "Median Lap % Deficit": -0.9324291596028305,
         "Average Full Speed Lap % Deficit": -0.8513743614692324,
         "Fastest Lap Rank": 17,
         "Median Lap Rank": 12,
         "Average Full Speed Lap Rank": 10,
         "_deepnote_index_column": 758
        },
        {
         "Driver": "Brad Keselowski",
         "Car #": 2,
         "Start": 11,
         "Mid Race": 1,
         "Finish": 3,
         "Average Position": 3.3,
         "Pass Differential": 5,
         "Green Passes": 47,
         "Green Passed": 42,
         "Quality Passes": 35,
         "% Quality Passes": 74.47,
         "# Fastest Laps": 36,
         "Laps in Top 15": 292,
         "% Laps in Top 15": 99.7,
         "Laps Led": 53,
         "% Laps Led": 18.1,
         "Total Laps": 293,
         "Driver Rating": 129.9,
         "Points": 53,
         "Races": 20,
         "Season": 2021,
         "Team": "Penske",
         "Points Eligible": 1,
         "Make": "Ford",
         "Same Races - Race #": 0,
         "Race #": 22,
         "Track": "Loudon",
         "Track Type": "Short Track",
         "Quality Passes Per Lap": 0.119,
         "Fastest Lap": 29.862,
         "Median Lap": 30.803,
         "Average Full Speed Lap": 30.663,
         "Fastest Lap % Deficit": 0,
         "Median Lap % Deficit": 0,
         "Average Full Speed Lap % Deficit": -0.4224798585183774,
         "Fastest Lap Rank": 1,
         "Median Lap Rank": 1,
         "Average Full Speed Lap Rank": 2,
         "_deepnote_index_column": 787
        },
        {
         "Driver": "Brad Keselowski",
         "Car #": 2,
         "Start": 1,
         "Mid Race": 15,
         "Finish": 35,
         "Average Position": 23.9,
         "Pass Differential": -15,
         "Green Passes": 46,
         "Green Passed": 61,
         "Quality Passes": 10,
         "% Quality Passes": 21.74,
         "# Fastest Laps": 0,
         "Laps in Top 15": 27,
         "% Laps in Top 15": 30,
         "Laps Led": 9,
         "% Laps Led": 10.3,
         "Total Laps": 87,
         "Driver Rating": 55.7,
         "Points": 2,
         "Races": 21,
         "Season": 2021,
         "Team": "Penske",
         "Points Eligible": 1,
         "Make": "Ford",
         "Same Races - Race #": 0,
         "Race #": 23,
         "Track": "Watkins Glen",
         "Track Type": "Road Course",
         "Quality Passes Per Lap": 0.115,
         "Fastest Lap": 73.63,
         "Median Lap": 76.093,
         "Average Full Speed Lap": 76.054,
         "Fastest Lap % Deficit": -1.372654303140446,
         "Median Lap % Deficit": -1.870247402806048,
         "Average Full Speed Lap % Deficit": -1.9955475685969468,
         "Fastest Lap Rank": 8,
         "Median Lap Rank": 26,
         "Average Full Speed Lap Rank": 24,
         "_deepnote_index_column": 853
        },
        {
         "Driver": "Brad Keselowski",
         "Car #": 2,
         "Start": 31,
         "Mid Race": 35,
         "Finish": 24,
         "Average Position": 25.7,
         "Pass Differential": -17,
         "Green Passes": 97,
         "Green Passed": 114,
         "Quality Passes": 8,
         "% Quality Passes": 8.25,
         "# Fastest Laps": 0,
         "Laps in Top 15": 17,
         "% Laps in Top 15": 17.9,
         "Laps Led": 2,
         "% Laps Led": 2.1,
         "Total Laps": 95,
         "Driver Rating": 47.7,
         "Points": 18,
         "Races": 22,
         "Season": 2021,
         "Team": "Penske",
         "Points Eligible": 1,
         "Make": "Ford",
         "Same Races - Race #": 0,
         "Race #": 24,
         "Track": "Indianapolis RC",
         "Track Type": "Road Course",
         "Quality Passes Per Lap": 0.084,
         "Fastest Lap": 92.683,
         "Median Lap": 96.88,
         "Average Full Speed Lap": 95.458,
         "Fastest Lap % Deficit": -2.780118878637337,
         "Median Lap % Deficit": -4.4652195947767295,
         "Average Full Speed Lap % Deficit": -3.4337786735147167,
         "Fastest Lap Rank": 32,
         "Median Lap Rank": 37,
         "Average Full Speed Lap Rank": 34,
         "_deepnote_index_column": 879
        },
        {
         "Driver": "Brad Keselowski",
         "Car #": 2,
         "Start": 20,
         "Mid Race": 9,
         "Finish": 9,
         "Average Position": 12,
         "Pass Differential": 34,
         "Green Passes": 148,
         "Green Passed": 114,
         "Quality Passes": 55,
         "% Quality Passes": 37.16,
         "# Fastest Laps": 4,
         "Laps in Top 15": 138,
         "% Laps in Top 15": 69,
         "Laps Led": 6,
         "% Laps Led": 3,
         "Total Laps": 200,
         "Driver Rating": 86.6,
         "Points": 33,
         "Races": 23,
         "Season": 2021,
         "Team": "Penske",
         "Points Eligible": 1,
         "Make": "Ford",
         "Same Races - Race #": 0,
         "Race #": 25,
         "Track": "Michigan",
         "Track Type": "Speedway",
         "Quality Passes Per Lap": 0.275,
         "Fastest Lap": 38.816,
         "Median Lap": 39.494,
         "Average Full Speed Lap": 39.548,
         "Fastest Lap % Deficit": -0.5856439492096374,
         "Median Lap % Deficit": -0.4961958319550123,
         "Average Full Speed Lap % Deficit": -0.4801951269087122,
         "Fastest Lap Rank": 16,
         "Median Lap Rank": 14,
         "Average Full Speed Lap Rank": 14,
         "_deepnote_index_column": 904
        },
        {
         "Driver": "Brad Keselowski",
         "Car #": 2,
         "Start": 10,
         "Mid Race": 10,
         "Finish": 34,
         "Average Position": 16.5,
         "Pass Differential": -3,
         "Green Passes": 319,
         "Green Passed": 322,
         "Quality Passes": 213,
         "% Quality Passes": 66.77,
         "# Fastest Laps": 1,
         "Laps in Top 15": 98,
         "% Laps in Top 15": 59.4,
         "Laps Led": 0,
         "% Laps Led": 0,
         "Total Laps": 156,
         "Driver Rating": 63.3,
         "Points": 3,
         "Races": 24,
         "Season": 2021,
         "Team": "Penske",
         "Points Eligible": 1,
         "Make": "Ford",
         "Same Races - Race #": 0,
         "Race #": 26,
         "Track": "Daytona",
         "Track Type": "Superspeedway",
         "Quality Passes Per Lap": 1.365,
         "Fastest Lap": 47.196,
         "Median Lap": 48.303,
         "Average Full Speed Lap": 48.133,
         "Fastest Lap % Deficit": -1.6388500053838604,
         "Median Lap % Deficit": -1.0607582224453884,
         "Average Full Speed Lap % Deficit": -0.5389033942558802,
         "Fastest Lap Rank": 34,
         "Median Lap Rank": 19,
         "Average Full Speed Lap Rank": 21,
         "_deepnote_index_column": 965
        },
        {
         "Driver": "Brad Keselowski",
         "Car #": 2,
         "Start": 16,
         "Mid Race": 13,
         "Finish": 7,
         "Average Position": 13.7,
         "Pass Differential": -2,
         "Green Passes": 125,
         "Green Passed": 127,
         "Quality Passes": 47,
         "% Quality Passes": 37.6,
         "# Fastest Laps": 4,
         "Laps in Top 15": 247,
         "% Laps in Top 15": 67.3,
         "Laps Led": 0,
         "% Laps Led": 0,
         "Total Laps": 367,
         "Driver Rating": 83.7,
         "Points": 30,
         "Races": 25,
         "Season": 2021,
         "Team": "Penske",
         "Points Eligible": 1,
         "Make": "Ford",
         "Same Races - Race #": 0,
         "Race #": 27,
         "Track": "Darlington",
         "Track Type": "Speedway",
         "Quality Passes Per Lap": 0.128,
         "Fastest Lap": 29.67,
         "Median Lap": 31.573,
         "Average Full Speed Lap": 31.234,
         "Fastest Lap % Deficit": -2.289181548645113,
         "Median Lap % Deficit": -1.3709625634110305,
         "Average Full Speed Lap % Deficit": -1.5244596131968184,
         "Fastest Lap Rank": 14,
         "Median Lap Rank": 16,
         "Average Full Speed Lap Rank": 16,
         "_deepnote_index_column": 978
        },
        {
         "Driver": "Brad Keselowski",
         "Car #": 2,
         "Start": 7,
         "Mid Race": 10,
         "Finish": 13,
         "Average Position": 9.3,
         "Pass Differential": -9,
         "Green Passes": 60,
         "Green Passed": 69,
         "Quality Passes": 45,
         "% Quality Passes": 75,
         "# Fastest Laps": 1,
         "Laps in Top 15": 399,
         "% Laps in Top 15": 99.8,
         "Laps Led": 0,
         "% Laps Led": 0,
         "Total Laps": 399,
         "Driver Rating": 85.4,
         "Points": 28,
         "Races": 26,
         "Season": 2021,
         "Team": "Penske",
         "Points Eligible": 1,
         "Make": "Ford",
         "Same Races - Race #": 0,
         "Race #": 28,
         "Track": "Richmond",
         "Track Type": "Short Track",
         "Quality Passes Per Lap": 0.113,
         "Fastest Lap": 23.032,
         "Median Lap": 24.788,
         "Average Full Speed Lap": 24.465,
         "Fastest Lap % Deficit": -1.1595221363316908,
         "Median Lap % Deficit": -3.0514675313877184,
         "Average Full Speed Lap % Deficit": -2.3897212689378153,
         "Fastest Lap Rank": 7,
         "Median Lap Rank": 21,
         "Average Full Speed Lap Rank": 13,
         "_deepnote_index_column": 1020
        },
        {
         "Driver": "Brad Keselowski",
         "Car #": 2,
         "Start": 10,
         "Mid Race": 3,
         "Finish": 6,
         "Average Position": 7.4,
         "Pass Differential": 8,
         "Green Passes": 57,
         "Green Passed": 49,
         "Quality Passes": 56,
         "% Quality Passes": 98.25,
         "# Fastest Laps": 28,
         "Laps in Top 15": 497,
         "% Laps in Top 15": 99.4,
         "Laps Led": 10,
         "% Laps Led": 2,
         "Total Laps": 500,
         "Driver Rating": 104.7,
         "Points": 46,
         "Races": 27,
         "Season": 2021,
         "Team": "Penske",
         "Points Eligible": 1,
         "Make": "Ford",
         "Same Races - Race #": 0,
         "Race #": 29,
         "Track": "Bristol",
         "Track Type": "Short Track",
         "Quality Passes Per Lap": 0.112,
         "Fastest Lap": 15.651,
         "Median Lap": 16.275,
         "Average Full Speed Lap": 16.221,
         "Fastest Lap % Deficit": -0.49441376653396657,
         "Median Lap % Deficit": -0.32053257720520006,
         "Average Full Speed Lap % Deficit": -0.3836871093508334,
         "Fastest Lap Rank": 5,
         "Median Lap Rank": 4,
         "Average Full Speed Lap Rank": 6,
         "_deepnote_index_column": 1049
        },
        {
         "Driver": "Brad Keselowski",
         "Car #": 2,
         "Start": 8,
         "Mid Race": 12,
         "Finish": 7,
         "Average Position": 9.9,
         "Pass Differential": 3,
         "Green Passes": 78,
         "Green Passed": 75,
         "Quality Passes": 59,
         "% Quality Passes": 75.64,
         "# Fastest Laps": 6,
         "Laps in Top 15": 254,
         "% Laps in Top 15": 95.1,
         "Laps Led": 4,
         "% Laps Led": 1.5,
         "Total Laps": 267,
         "Driver Rating": 92.5,
         "Points": 35,
         "Races": 28,
         "Season": 2021,
         "Team": "Penske",
         "Points Eligible": 1,
         "Make": "Ford",
         "Same Races - Race #": 0,
         "Race #": 30,
         "Track": "Las Vegas",
         "Track Type": "Speedway",
         "Quality Passes Per Lap": 0.221,
         "Fastest Lap": 30.586,
         "Median Lap": 31.922,
         "Average Full Speed Lap": 31.826,
         "Fastest Lap % Deficit": -0.6581978542749927,
         "Median Lap % Deficit": -0.827542640555908,
         "Average Full Speed Lap % Deficit": -0.8332541266673057,
         "Fastest Lap Rank": 8,
         "Median Lap Rank": 11,
         "Average Full Speed Lap Rank": 12,
         "_deepnote_index_column": 1087
        },
        {
         "Driver": "Brad Keselowski",
         "Car #": 2,
         "Start": 7,
         "Mid Race": 3,
         "Finish": 2,
         "Average Position": 6,
         "Pass Differential": 7,
         "Green Passes": 229,
         "Green Passed": 222,
         "Quality Passes": 216,
         "% Quality Passes": 94.32,
         "# Fastest Laps": 1,
         "Laps in Top 15": 115,
         "% Laps in Top 15": 98.3,
         "Laps Led": 13,
         "% Laps Led": 11.1,
         "Total Laps": 117,
         "Driver Rating": 112.5,
         "Points": 52,
         "Races": 29,
         "Season": 2021,
         "Team": "Penske",
         "Points Eligible": 1,
         "Make": "Ford",
         "Same Races - Race #": 0,
         "Race #": 31,
         "Track": "Talladega",
         "Track Type": "Superspeedway",
         "Quality Passes Per Lap": 1.846,
         "Fastest Lap": 49.859,
         "Median Lap": 51.016,
         "Average Full Speed Lap": 50.863,
         "Fastest Lap % Deficit": -1.3785811593908306,
         "Median Lap % Deficit": -0.3540797859784399,
         "Average Full Speed Lap % Deficit": -0.2108125147765768,
         "Fastest Lap Rank": 22,
         "Median Lap Rank": 14,
         "Average Full Speed Lap Rank": 15,
         "_deepnote_index_column": 1119
        },
        {
         "Driver": "Brad Keselowski",
         "Car #": 2,
         "Start": 2,
         "Mid Race": 25,
         "Finish": 20,
         "Average Position": 18.8,
         "Pass Differential": -10,
         "Green Passes": 90,
         "Green Passed": 100,
         "Quality Passes": 9,
         "% Quality Passes": 10,
         "# Fastest Laps": 0,
         "Laps in Top 15": 26,
         "% Laps in Top 15": 23.9,
         "Laps Led": 0,
         "% Laps Led": 0,
         "Total Laps": 109,
         "Driver Rating": 67.5,
         "Points": 21,
         "Races": 30,
         "Season": 2021,
         "Team": "Penske",
         "Points Eligible": 1,
         "Make": "Ford",
         "Same Races - Race #": 0,
         "Race #": 32,
         "Track": "Charlotte RC",
         "Track Type": "Road Course",
         "Quality Passes Per Lap": 0.083,
         "Fastest Lap": 84.493,
         "Median Lap": 87.182,
         "Average Full Speed Lap": 87.078,
         "Fastest Lap % Deficit": -1.3117663281334238,
         "Median Lap % Deficit": -1.1345181198088357,
         "Average Full Speed Lap % Deficit": -1.50607325204579,
         "Fastest Lap Rank": 13,
         "Median Lap Rank": 14,
         "Average Full Speed Lap Rank": 16,
         "_deepnote_index_column": 1176
        },
        {
         "Driver": "Brad Keselowski",
         "Car #": 2,
         "Start": 7,
         "Mid Race": 8,
         "Finish": 4,
         "Average Position": 7.9,
         "Pass Differential": 12,
         "Green Passes": 76,
         "Green Passed": 64,
         "Quality Passes": 62,
         "% Quality Passes": 81.58,
         "# Fastest Laps": 11,
         "Laps in Top 15": 279,
         "% Laps in Top 15": 83.5,
         "Laps Led": 0,
         "% Laps Led": 0,
         "Total Laps": 334,
         "Driver Rating": 101,
         "Points": 40,
         "Races": 31,
         "Season": 2021,
         "Team": "Penske",
         "Points Eligible": 1,
         "Make": "Ford",
         "Same Races - Race #": 0,
         "Race #": 33,
         "Track": "Texas",
         "Track Type": "Speedway",
         "Quality Passes Per Lap": 0.186,
         "Fastest Lap": 28.993,
         "Median Lap": 29.593,
         "Average Full Speed Lap": 29.618,
         "Fastest Lap % Deficit": -0.21083920918014637,
         "Median Lap % Deficit": -1.0758931621012409,
         "Average Full Speed Lap % Deficit": -1.0473883524956453,
         "Fastest Lap Rank": 4,
         "Median Lap Rank": 9,
         "Average Full Speed Lap Rank": 9,
         "_deepnote_index_column": 1198
        },
        {
         "Driver": "Brad Keselowski",
         "Car #": 2,
         "Start": 3,
         "Mid Race": 22,
         "Finish": 17,
         "Average Position": 22.5,
         "Pass Differential": -12,
         "Green Passes": 61,
         "Green Passed": 73,
         "Quality Passes": 11,
         "% Quality Passes": 18.03,
         "# Fastest Laps": 12,
         "Laps in Top 15": 36,
         "% Laps in Top 15": 13.5,
         "Laps Led": 2,
         "% Laps Led": 0.8,
         "Total Laps": 266,
         "Driver Rating": 68.7,
         "Points": 20,
         "Races": 32,
         "Season": 2021,
         "Team": "Penske",
         "Points Eligible": 1,
         "Make": "Ford",
         "Same Races - Race #": 0,
         "Race #": 34,
         "Track": "Kansas",
         "Track Type": "Speedway",
         "Quality Passes Per Lap": 0.041,
         "Fastest Lap": 30.932,
         "Median Lap": 32.038,
         "Average Full Speed Lap": 32.016,
         "Fastest Lap % Deficit": -1.2736142487640354,
         "Median Lap % Deficit": -1.4374366767983697,
         "Average Full Speed Lap % Deficit": -1.150006318716028,
         "Fastest Lap Rank": 15,
         "Median Lap Rank": 13,
         "Average Full Speed Lap Rank": 13,
         "_deepnote_index_column": 1249
        },
        {
         "Driver": "Brad Keselowski",
         "Car #": 2,
         "Start": 6,
         "Mid Race": 9,
         "Finish": 3,
         "Average Position": 6.9,
         "Pass Differential": 8,
         "Green Passes": 50,
         "Green Passed": 42,
         "Quality Passes": 49,
         "% Quality Passes": 98,
         "# Fastest Laps": 8,
         "Laps in Top 15": 501,
         "% Laps in Top 15": 100,
         "Laps Led": 0,
         "% Laps Led": 0,
         "Total Laps": 501,
         "Driver Rating": 108.5,
         "Points": 43,
         "Races": 33,
         "Season": 2021,
         "Team": "Penske",
         "Points Eligible": 1,
         "Make": "Ford",
         "Same Races - Race #": 0,
         "Race #": 35,
         "Track": "Martinsville",
         "Track Type": "Short Track",
         "Quality Passes Per Lap": 0.098,
         "Fastest Lap": 19.983,
         "Median Lap": 21.058,
         "Average Full Speed Lap": 20.83,
         "Fastest Lap % Deficit": -0.8071432174746515,
         "Median Lap % Deficit": -0.5491094876569662,
         "Average Full Speed Lap % Deficit": -0.4872400984128472,
         "Fastest Lap Rank": 5,
         "Median Lap Rank": 6,
         "Average Full Speed Lap Rank": 5,
         "_deepnote_index_column": 1274
        },
        {
         "Driver": "Brad Keselowski",
         "Car #": 2,
         "Start": 11,
         "Mid Race": 3,
         "Finish": 10,
         "Average Position": 12.4,
         "Pass Differential": -7,
         "Green Passes": 76,
         "Green Passed": 83,
         "Quality Passes": 57,
         "% Quality Passes": 75,
         "# Fastest Laps": 5,
         "Laps in Top 15": 223,
         "% Laps in Top 15": 71.5,
         "Laps Led": 0,
         "% Laps Led": 0,
         "Total Laps": 312,
         "Driver Rating": 87.8,
         "Points": 31,
         "Races": 34,
         "Season": 2021,
         "Team": "Penske",
         "Points Eligible": 1,
         "Make": "Ford",
         "Same Races - Race #": 0,
         "Race #": 36,
         "Track": "Phoenix",
         "Track Type": "Short Track",
         "Quality Passes Per Lap": 0.183,
         "Fastest Lap": 27.23,
         "Median Lap": 28.594,
         "Average Full Speed Lap": 28.415,
         "Fastest Lap % Deficit": -1.5135699373695153,
         "Median Lap % Deficit": -2.2528965813188475,
         "Average Full Speed Lap % Deficit": -1.4459121742234828,
         "Fastest Lap Rank": 8,
         "Median Lap Rank": 12,
         "Average Full Speed Lap Rank": 12,
         "_deepnote_index_column": 1318
        },
        {
         "Driver": "Brad Keselowski",
         "Car #": 6,
         "Start": 3,
         "Mid Race": 5,
         "Finish": 9,
         "Average Position": 4.8,
         "Pass Differential": 1,
         "Green Passes": 171,
         "Green Passed": 170,
         "Quality Passes": 148,
         "% Quality Passes": 86.5,
         "# Fastest Laps": 4,
         "Laps in Top 15": 198,
         "% Laps in Top 15": 98.5,
         "Laps Led": 67,
         "% Laps Led": 33.3,
         "Total Laps": 201,
         "Driver Rating": 121.3,
         "Points": 54,
         "Races": 1,
         "Season": 2022,
         "Team": "RFK",
         "Points Eligible": 1,
         "Make": "Ford",
         "Same Races - Race #": 1,
         "Race #": 1,
         "Track": "Daytona",
         "Track Type": "Superspeedway",
         "Quality Passes Per Lap": 0.736,
         "Fastest Lap": 46.07,
         "Median Lap": 47.084,
         "Average Full Speed Lap": 46.987,
         "Fastest Lap % Deficit": -0.44258399284889566,
         "Median Lap % Deficit": -0.04887273963579873,
         "Average Full Speed Lap % Deficit": -0.06175731504749663,
         "Fastest Lap Rank": 9,
         "Median Lap Rank": 6,
         "Average Full Speed Lap Rank": 4,
         "_deepnote_index_column": 1355
        },
        {
         "Driver": "Brad Keselowski",
         "Car #": 6,
         "Start": 9,
         "Mid Race": 11,
         "Finish": 27,
         "Average Position": 19.2,
         "Pass Differential": 13,
         "Green Passes": 78,
         "Green Passed": 65,
         "Quality Passes": 32,
         "% Quality Passes": 41.03,
         "# Fastest Laps": 0,
         "Laps in Top 15": 68,
         "% Laps in Top 15": 34,
         "Laps Led": 0,
         "% Laps Led": 0,
         "Total Laps": 198,
         "Driver Rating": 61,
         "Points": 10,
         "Races": 2,
         "Season": 2022,
         "Team": "RFK",
         "Points Eligible": 1,
         "Make": "Ford",
         "Same Races - Race #": 0,
         "Race #": 2,
         "Track": "Auto Club",
         "Track Type": "Speedway",
         "Quality Passes Per Lap": 0.162,
         "Fastest Lap": 42.033,
         "Median Lap": 44.207,
         "Average Full Speed Lap": 43.687,
         "Fastest Lap % Deficit": -1.492212966316557,
         "Median Lap % Deficit": -2.0192929013200405,
         "Average Full Speed Lap % Deficit": -1.6804375654602448,
         "Fastest Lap Rank": 15,
         "Median Lap Rank": 18,
         "Average Full Speed Lap Rank": 17,
         "_deepnote_index_column": 1409
        },
        {
         "Driver": "Brad Keselowski",
         "Car #": 6,
         "Start": 15,
         "Mid Race": 33,
         "Finish": 24,
         "Average Position": 24.7,
         "Pass Differential": -5,
         "Green Passes": 66,
         "Green Passed": 71,
         "Quality Passes": 14,
         "% Quality Passes": 21.21,
         "# Fastest Laps": 2,
         "Laps in Top 15": 51,
         "% Laps in Top 15": 18.6,
         "Laps Led": 3,
         "% Laps Led": 1.1,
         "Total Laps": 273,
         "Driver Rating": 58.3,
         "Points": 13,
         "Races": 3,
         "Season": 2022,
         "Team": "RFK",
         "Points Eligible": 1,
         "Make": "Ford",
         "Same Races - Race #": 2,
         "Race #": 3,
         "Track": "Las Vegas",
         "Track Type": "Speedway",
         "Quality Passes Per Lap": 0.051,
         "Fastest Lap": 29.915,
         "Median Lap": 31.438,
         "Average Full Speed Lap": 31.262,
         "Fastest Lap % Deficit": -0.9686782773052485,
         "Median Lap % Deficit": -1.9985724482512481,
         "Average Full Speed Lap % Deficit": -1.780888816539152,
         "Fastest Lap Rank": 12,
         "Median Lap Rank": 22,
         "Average Full Speed Lap Rank": 22,
         "_deepnote_index_column": 1440
        },
        {
         "Driver": "Brad Keselowski",
         "Car #": 6,
         "Start": 18,
         "Mid Race": 26,
         "Finish": 23,
         "Average Position": 24.5,
         "Pass Differential": -20,
         "Green Passes": 45,
         "Green Passed": 65,
         "Quality Passes": 1,
         "% Quality Passes": 2.22,
         "# Fastest Laps": 0,
         "Laps in Top 15": 0,
         "% Laps in Top 15": 0,
         "Laps Led": 0,
         "% Laps Led": 0,
         "Total Laps": 311,
         "Driver Rating": 43.3,
         "Points": 14,
         "Races": 4,
         "Season": 2022,
         "Team": "RFK",
         "Points Eligible": 1,
         "Make": "Ford",
         "Same Races - Race #": 3,
         "Race #": 4,
         "Track": "Phoenix",
         "Track Type": "Short Track",
         "Quality Passes Per Lap": 0.003,
         "Fastest Lap": 28.299,
         "Median Lap": 29.055,
         "Average Full Speed Lap": 29.005,
         "Fastest Lap % Deficit": -2.770918070889011,
         "Median Lap % Deficit": -2.1768181178787445,
         "Average Full Speed Lap % Deficit": -2.256301780363126,
         "Fastest Lap Rank": 29,
         "Median Lap Rank": 28,
         "Average Full Speed Lap Rank": 30,
         "_deepnote_index_column": 1476
        },
        {
         "Driver": "Brad Keselowski",
         "Car #": 6,
         "Start": 24,
         "Mid Race": 10,
         "Finish": 12,
         "Average Position": 18.5,
         "Pass Differential": 11,
         "Green Passes": 209,
         "Green Passed": 198,
         "Quality Passes": 145,
         "% Quality Passes": 69.38,
         "# Fastest Laps": 9,
         "Laps in Top 15": 174,
         "% Laps in Top 15": 53.5,
         "Laps Led": 0,
         "% Laps Led": 0,
         "Total Laps": 325,
         "Driver Rating": 64.6,
         "Points": 31,
         "Races": 5,
         "Season": 2022,
         "Team": "RFK",
         "Points Eligible": 1,
         "Make": "Ford",
         "Same Races - Race #": 4,
         "Race #": 5,
         "Track": "Atlanta",
         "Track Type": "Superpeedway",
         "Quality Passes Per Lap": 0.446,
         "Fastest Lap": 29.725,
         "Median Lap": 30.371,
         "Average Full Speed Lap": 30.307,
         "Fastest Lap % Deficit": -0.6569367783007776,
         "Median Lap % Deficit": -0.34029337914628643,
         "Average Full Speed Lap % Deficit": -0.3111243504451648,
         "Fastest Lap Rank": 19,
         "Median Lap Rank": 19,
         "Average Full Speed Lap Rank": 23,
         "_deepnote_index_column": 1499
        },
        {
         "Driver": "Brad Keselowski",
         "Car #": 6,
         "Start": 26,
         "Mid Race": 30,
         "Finish": 14,
         "Average Position": 27.6,
         "Pass Differential": 45,
         "Green Passes": 111,
         "Green Passed": 66,
         "Quality Passes": 5,
         "% Quality Passes": 4.5,
         "# Fastest Laps": 0,
         "Laps in Top 15": 4,
         "% Laps in Top 15": 5.8,
         "Laps Led": 0,
         "% Laps Led": 0,
         "Total Laps": 69,
         "Driver Rating": 52.2,
         "Points": 23,
         "Races": 6,
         "Season": 2022,
         "Team": "RFK",
         "Points Eligible": 1,
         "Make": "Ford",
         "Same Races - Race #": 0,
         "Race #": 6,
         "Track": "COTA",
         "Track Type": "Road Course",
         "Quality Passes Per Lap": 0.072,
         "Fastest Lap": 135.153,
         "Median Lap": 139.21,
         "Average Full Speed Lap": 138.755,
         "Fastest Lap % Deficit": -1.199541748096236,
         "Median Lap % Deficit": -2.2843329586116257,
         "Average Full Speed Lap % Deficit": -1.896117438846169,
         "Fastest Lap Rank": 25,
         "Median Lap Rank": 20,
         "Average Full Speed Lap Rank": 29,
         "_deepnote_index_column": 1538
        },
        {
         "Driver": "Brad Keselowski",
         "Car #": 6,
         "Start": 19,
         "Mid Race": 12,
         "Finish": 13,
         "Average Position": 12.9,
         "Pass Differential": 7,
         "Green Passes": 139,
         "Green Passed": 132,
         "Quality Passes": 73,
         "% Quality Passes": 52.52,
         "# Fastest Laps": 10,
         "Laps in Top 15": 284,
         "% Laps in Top 15": 71,
         "Laps Led": 0,
         "% Laps Led": 0,
         "Total Laps": 400,
         "Driver Rating": 89.5,
         "Points": 27,
         "Races": 7,
         "Season": 2022,
         "Team": "RFK",
         "Points Eligible": 1,
         "Make": "Ford",
         "Same Races - Race #": 5,
         "Race #": 7,
         "Track": "Richmond",
         "Track Type": "Short Track",
         "Quality Passes Per Lap": 0.182,
         "Fastest Lap": 23.232,
         "Median Lap": 24.507,
         "Average Full Speed Lap": 24.352,
         "Fastest Lap % Deficit": -1.436493035846835,
         "Median Lap % Deficit": -0.2823471642524045,
         "Average Full Speed Lap % Deficit": -0.27176150868812876,
         "Fastest Lap Rank": 16,
         "Median Lap Rank": 5,
         "Average Full Speed Lap Rank": 5,
         "_deepnote_index_column": 1575
        },
        {
         "Driver": "Brad Keselowski",
         "Car #": 6,
         "Start": 9,
         "Mid Race": 19,
         "Finish": 17,
         "Average Position": 17.3,
         "Pass Differential": 0,
         "Green Passes": 31,
         "Green Passed": 31,
         "Quality Passes": 4,
         "% Quality Passes": 12.9,
         "# Fastest Laps": 3,
         "Laps in Top 15": 86,
         "% Laps in Top 15": 21.3,
         "Laps Led": 0,
         "% Laps Led": 0,
         "Total Laps": 403,
         "Driver Rating": 68.5,
         "Points": 20,
         "Races": 8,
         "Season": 2022,
         "Team": "RFK",
         "Points Eligible": 1,
         "Make": "Ford",
         "Same Races - Race #": 6,
         "Race #": 8,
         "Track": "Martinsville",
         "Track Type": "Short Track",
         "Quality Passes Per Lap": 0.01,
         "Fastest Lap": 20.001,
         "Median Lap": 20.58,
         "Average Full Speed Lap": 20.608,
         "Fastest Lap % Deficit": -0.8521581282775337,
         "Median Lap % Deficit": -0.42943587741556416,
         "Average Full Speed Lap % Deficit": -0.7233626588465283,
         "Fastest Lap Rank": 9,
         "Median Lap Rank": 12,
         "Average Full Speed Lap Rank": 18,
         "_deepnote_index_column": 1615
        },
        {
         "Driver": "Brad Keselowski",
         "Car #": 6,
         "Start": 18,
         "Mid Race": 21,
         "Finish": 11,
         "Average Position": 14.9,
         "Pass Differential": 11,
         "Green Passes": 110,
         "Green Passed": 99,
         "Quality Passes": 48,
         "% Quality Passes": 43.64,
         "# Fastest Laps": 5,
         "Laps in Top 15": 136,
         "% Laps in Top 15": 54.4,
         "Laps Led": 0,
         "% Laps Led": 0,
         "Total Laps": 250,
         "Driver Rating": 81.5,
         "Points": 26,
         "Races": 9,
         "Season": 2022,
         "Team": "RFK",
         "Points Eligible": 1,
         "Make": "Ford",
         "Same Races - Race #": 7,
         "Race #": 9,
         "Track": "Bristol",
         "Track Type": "Short Track",
         "Quality Passes Per Lap": 0.192,
         "Fastest Lap": 19.757,
         "Median Lap": 20.646,
         "Average Full Speed Lap": 20.368,
         "Fastest Lap % Deficit": -2.5751518612740885,
         "Median Lap % Deficit": -1.6243354991140082,
         "Average Full Speed Lap % Deficit": -1.4595267745952643,
         "Fastest Lap Rank": 19,
         "Median Lap Rank": 21,
         "Average Full Speed Lap Rank": 14,
         "_deepnote_index_column": 1644
        },
        {
         "Driver": "Brad Keselowski",
         "Car #": 6,
         "Start": 15,
         "Mid Race": 20,
         "Finish": 23,
         "Average Position": 21.1,
         "Pass Differential": -33,
         "Green Passes": 158,
         "Green Passed": 191,
         "Quality Passes": 66,
         "% Quality Passes": 41.77,
         "# Fastest Laps": 5,
         "Laps in Top 15": 53,
         "% Laps in Top 15": 28.2,
         "Laps Led": 0,
         "% Laps Led": 0,
         "Total Laps": 187,
         "Driver Rating": 62.9,
         "Points": 14,
         "Races": 10,
         "Season": 2022,
         "Team": "RFK",
         "Points Eligible": 1,
         "Make": "Ford",
         "Same Races - Race #": 8,
         "Race #": 10,
         "Track": "Talladega",
         "Track Type": "Superspeedway",
         "Quality Passes Per Lap": 0.353,
         "Fastest Lap": 49.065,
         "Median Lap": 50.601,
         "Average Full Speed Lap": 50.69,
         "Fastest Lap % Deficit": -0.3210108775660352,
         "Median Lap % Deficit": -0.9315035704312419,
         "Average Full Speed Lap % Deficit": -1.1211299074369565,
         "Fastest Lap Rank": 2,
         "Median Lap Rank": 27,
         "Average Full Speed Lap Rank": 29,
         "_deepnote_index_column": 1690
        },
        {
         "Driver": "Brad Keselowski",
         "Car #": 6,
         "Start": 20,
         "Mid Race": 23,
         "Finish": 20,
         "Average Position": 15.9,
         "Pass Differential": -7,
         "Green Passes": 48,
         "Green Passed": 55,
         "Quality Passes": 17,
         "% Quality Passes": 35.42,
         "# Fastest Laps": 1,
         "Laps in Top 15": 180,
         "% Laps in Top 15": 45,
         "Laps Led": 0,
         "% Laps Led": 0,
         "Total Laps": 399,
         "Driver Rating": 65.7,
         "Points": 18,
         "Races": 11,
         "Season": 2022,
         "Team": "RFK",
         "Points Eligible": 1,
         "Make": "Ford",
         "Same Races - Race #": 9,
         "Race #": 11,
         "Track": "Dover",
         "Track Type": "Short Track",
         "Quality Passes Per Lap": 0.043,
         "Fastest Lap": 23.35,
         "Median Lap": 24.296,
         "Average Full Speed Lap": 24.201,
         "Fastest Lap % Deficit": -2.542707830134823,
         "Median Lap % Deficit": -1.4446764091858042,
         "Average Full Speed Lap % Deficit": -1.3781836461126031,
         "Fastest Lap Rank": 16,
         "Median Lap Rank": 20,
         "Average Full Speed Lap Rank": 22,
         "_deepnote_index_column": 1725
        },
        {
         "Driver": "Brad Keselowski",
         "Car #": 6,
         "Start": 23,
         "Mid Race": 26,
         "Finish": 34,
         "Average Position": 31.6,
         "Pass Differential": 4,
         "Green Passes": 52,
         "Green Passed": 48,
         "Quality Passes": 3,
         "% Quality Passes": 5.77,
         "# Fastest Laps": 1,
         "Laps in Top 15": 2,
         "% Laps in Top 15": 0.7,
         "Laps Led": 0,
         "% Laps Led": 0,
         "Total Laps": 166,
         "Driver Rating": 31.6,
         "Points": 3,
         "Races": 12,
         "Season": 2022,
         "Team": "RFK",
         "Points Eligible": 1,
         "Make": "Ford",
         "Same Races - Race #": 10,
         "Race #": 12,
         "Track": "Darlington",
         "Track Type": "Speedway",
         "Quality Passes Per Lap": 0.018,
         "Fastest Lap": 29.735,
         "Median Lap": 31.196,
         "Average Full Speed Lap": 31.095,
         "Fastest Lap % Deficit": -2.672559649183388,
         "Median Lap % Deficit": -1.8378872457807018,
         "Average Full Speed Lap % Deficit": -2.11822660098522,
         "Fastest Lap Rank": 21,
         "Median Lap Rank": 26,
         "Average Full Speed Lap Rank": 30,
         "_deepnote_index_column": 1775
        },
        {
         "Driver": "Brad Keselowski",
         "Car #": 6,
         "Start": 30,
         "Mid Race": 9,
         "Finish": 14,
         "Average Position": 17.1,
         "Pass Differential": -12,
         "Green Passes": 81,
         "Green Passed": 93,
         "Quality Passes": 31,
         "% Quality Passes": 38.27,
         "# Fastest Laps": 0,
         "Laps in Top 15": 155,
         "% Laps in Top 15": 58.1,
         "Laps Led": 0,
         "% Laps Led": 0,
         "Total Laps": 267,
         "Driver Rating": 70.3,
         "Points": 23,
         "Races": 13,
         "Season": 2022,
         "Team": "RFK",
         "Points Eligible": 1,
         "Make": "Ford",
         "Same Races - Race #": 11,
         "Race #": 13,
         "Track": "Kansas",
         "Track Type": "Speedway",
         "Quality Passes Per Lap": 0.116,
         "Fastest Lap": 30.807,
         "Median Lap": 32.131,
         "Average Full Speed Lap": 32.05,
         "Fastest Lap % Deficit": -2.4748029138808496,
         "Median Lap % Deficit": -1.8479776847977747,
         "Average Full Speed Lap % Deficit": -1.9564180054079796,
         "Fastest Lap Rank": 16,
         "Median Lap Rank": 17,
         "Average Full Speed Lap Rank": 17,
         "_deepnote_index_column": 1790
        }
       ]
      },
      "text/plain": "               Driver  Car #  Start  Mid Race  Finish  Average Position  \\\n11    Brad Keselowski      2     24        12      13              11.8   \n43    Brad Keselowski      2     15        31       5              16.5   \n82    Brad Keselowski      2     15        31       5              16.5   \n115   Brad Keselowski      2     10         8       2               4.2   \n154   Brad Keselowski      2      1         5       4               3.9   \n215   Brad Keselowski      2      4        13      28              20.3   \n236   Brad Keselowski      2     20        20      11              17.9   \n296   Brad Keselowski      2     10         7      33              15.8   \n313   Brad Keselowski      2     20         1      14              10.0   \n337   Brad Keselowski      2     10         8       1               8.5   \n378   Brad Keselowski      2      1         8       3               4.2   \n436   Brad Keselowski      2      1        27      24              19.9   \n465   Brad Keselowski      2     15         8      16              10.8   \n504   Brad Keselowski      2     24        15      19              21.7   \n535   Brad Keselowski      2     13        16      11              14.3   \n576   Brad Keselowski      2      9         5      15              12.5   \n620   Brad Keselowski      2     15        19      24              18.3   \n645   Brad Keselowski      2     18        12      10              14.8   \n675   Brad Keselowski      2     11        18       3               8.0   \n722   Brad Keselowski      2     20        11      13              20.2   \n758   Brad Keselowski      2     14        11      10               9.0   \n787   Brad Keselowski      2     11         1       3               3.3   \n853   Brad Keselowski      2      1        15      35              23.9   \n879   Brad Keselowski      2     31        35      24              25.7   \n904   Brad Keselowski      2     20         9       9              12.0   \n965   Brad Keselowski      2     10        10      34              16.5   \n978   Brad Keselowski      2     16        13       7              13.7   \n1020  Brad Keselowski      2      7        10      13               9.3   \n1049  Brad Keselowski      2     10         3       6               7.4   \n1087  Brad Keselowski      2      8        12       7               9.9   \n1119  Brad Keselowski      2      7         3       2               6.0   \n1176  Brad Keselowski      2      2        25      20              18.8   \n1198  Brad Keselowski      2      7         8       4               7.9   \n1249  Brad Keselowski      2      3        22      17              22.5   \n1274  Brad Keselowski      2      6         9       3               6.9   \n1318  Brad Keselowski      2     11         3      10              12.4   \n1355  Brad Keselowski      6      3         5       9               4.8   \n1409  Brad Keselowski      6      9        11      27              19.2   \n1440  Brad Keselowski      6     15        33      24              24.7   \n1476  Brad Keselowski      6     18        26      23              24.5   \n1499  Brad Keselowski      6     24        10      12              18.5   \n1538  Brad Keselowski      6     26        30      14              27.6   \n1575  Brad Keselowski      6     19        12      13              12.9   \n1615  Brad Keselowski      6      9        19      17              17.3   \n1644  Brad Keselowski      6     18        21      11              14.9   \n1690  Brad Keselowski      6     15        20      23              21.1   \n1725  Brad Keselowski      6     20        23      20              15.9   \n1775  Brad Keselowski      6     23        26      34              31.6   \n1790  Brad Keselowski      6     30         9      14              17.1   \n\n      Pass Differential  Green Passes  Green Passed  Quality Passes  \\\n11                  -13           117           130             104   \n43                  -48            75           123              22   \n82                  -48            75           123              22   \n115                  36           133            97             113   \n154                  -2            61            63              32   \n215                 -22            72            94              28   \n236                  -1            54            55              14   \n296                  10            42            32              30   \n313                   8            63            55              42   \n337                  28           324           296             229   \n378                   4            66            62              53   \n436                 -34            92           126               4   \n465                   1            15            14              14   \n504                  13            87            74              17   \n535                  -3           120           123              47   \n576                  34            76            42              24   \n620                 -12            83            95              21   \n645                  31            91            60              38   \n675                  16            68            52              33   \n722                  38            77            39               7   \n758                  -6            66            72              50   \n787                   5            47            42              35   \n853                 -15            46            61              10   \n879                 -17            97           114               8   \n904                  34           148           114              55   \n965                  -3           319           322             213   \n978                  -2           125           127              47   \n1020                 -9            60            69              45   \n1049                  8            57            49              56   \n1087                  3            78            75              59   \n1119                  7           229           222             216   \n1176                -10            90           100               9   \n1198                 12            76            64              62   \n1249                -12            61            73              11   \n1274                  8            50            42              49   \n1318                 -7            76            83              57   \n1355                  1           171           170             148   \n1409                 13            78            65              32   \n1440                 -5            66            71              14   \n1476                -20            45            65               1   \n1499                 11           209           198             145   \n1538                 45           111            66               5   \n1575                  7           139           132              73   \n1615                  0            31            31               4   \n1644                 11           110            99              48   \n1690                -33           158           191              66   \n1725                 -7            48            55              17   \n1775                  4            52            48               3   \n1790                -12            81            93              31   \n\n      % Quality Passes  # Fastest Laps  Laps in Top 15  % Laps in Top 15  \\\n11               88.89               6             171              85.5   \n43               29.33               0              42              60.0   \n82               29.33               0              42              60.0   \n115              84.96              30             255              95.5   \n154              52.46              14             310              99.4   \n215              38.89               5             121              37.2   \n236              25.93               1              99              39.1   \n296              71.43               5             319              63.8   \n313              66.67              11             374              93.5   \n337              70.68               5             163              85.3   \n378              80.30              18             267             100.0   \n436               4.35              28              34              11.6   \n465              93.33               1             311              77.8   \n504              19.54               0              12              22.2   \n535              39.17               8             233              58.3   \n576              31.58               0              59              64.1   \n620              25.30               0              90              30.0   \n645              41.76               4              85              65.4   \n675              48.53              20             113              80.7   \n722               9.09               0               7              11.3   \n758              75.76               0             253              97.3   \n787              74.47              36             292              99.7   \n853              21.74               0              27              30.0   \n879               8.25               0              17              17.9   \n904              37.16               4             138              69.0   \n965              66.77               1              98              59.4   \n978              37.60               4             247              67.3   \n1020             75.00               1             399              99.8   \n1049             98.25              28             497              99.4   \n1087             75.64               6             254              95.1   \n1119             94.32               1             115              98.3   \n1176             10.00               0              26              23.9   \n1198             81.58              11             279              83.5   \n1249             18.03              12              36              13.5   \n1274             98.00               8             501             100.0   \n1318             75.00               5             223              71.5   \n1355             86.50               4             198              98.5   \n1409             41.03               0              68              34.0   \n1440             21.21               2              51              18.6   \n1476              2.22               0               0               0.0   \n1499             69.38               9             174              53.5   \n1538              4.50               0               4               5.8   \n1575             52.52              10             284              71.0   \n1615             12.90               3              86              21.3   \n1644             43.64               5             136              54.4   \n1690             41.77               5              53              28.2   \n1725             35.42               1             180              45.0   \n1775              5.77               1               2               0.7   \n1790             38.27               0             155              58.1   \n\n      Laps Led  % Laps Led  Total Laps  Driver Rating  Points  Races  Season  \\\n11           0         0.0         199           90.3      25      1    2021   \n43           0         0.0          70           76.7      39      2    2021   \n82           0         0.0          70           76.7      39      1    2021   \n115         27        10.1         267          123.5      54      2    2021   \n154         19         6.1         312          116.6      48      3    2021   \n215          0         0.0         321           64.1       9      4    2021   \n236          0         0.0         253           73.8      26      5    2021   \n296          0         0.0         385           76.8      12      6    2021   \n313         25         6.3         400           90.7      25      7    2021   \n337          1         0.5         191          117.9      49      8    2021   \n378         72        27.0         267          121.7      48      9    2021   \n436          4         1.4         290           64.4      13     10    2021   \n465          0         0.0         400           85.5      25     11    2021   \n504          0         0.0          54           56.8      18     12    2021   \n535          6         1.5         400           79.3      26     13    2021   \n576          0         0.0          92           91.7      25     14    2021   \n620          0         0.0         299           58.8      16     15    2021   \n645          0         0.0         130           84.9      28     16    2021   \n675         31        22.1         140          124.2      50     17    2021   \n722          0         0.0          62           67.5      24     18    2021   \n758          0         0.0         260           96.3      30     19    2021   \n787         53        18.1         293          129.9      53     20    2021   \n853          9        10.3          87           55.7       2     21    2021   \n879          2         2.1          95           47.7      18     22    2021   \n904          6         3.0         200           86.6      33     23    2021   \n965          0         0.0         156           63.3       3     24    2021   \n978          0         0.0         367           83.7      30     25    2021   \n1020         0         0.0         399           85.4      28     26    2021   \n1049        10         2.0         500          104.7      46     27    2021   \n1087         4         1.5         267           92.5      35     28    2021   \n1119        13        11.1         117          112.5      52     29    2021   \n1176         0         0.0         109           67.5      21     30    2021   \n1198         0         0.0         334          101.0      40     31    2021   \n1249         2         0.8         266           68.7      20     32    2021   \n1274         0         0.0         501          108.5      43     33    2021   \n1318         0         0.0         312           87.8      31     34    2021   \n1355        67        33.3         201          121.3      54      1    2022   \n1409         0         0.0         198           61.0      10      2    2022   \n1440         3         1.1         273           58.3      13      3    2022   \n1476         0         0.0         311           43.3      14      4    2022   \n1499         0         0.0         325           64.6      31      5    2022   \n1538         0         0.0          69           52.2      23      6    2022   \n1575         0         0.0         400           89.5      27      7    2022   \n1615         0         0.0         403           68.5      20      8    2022   \n1644         0         0.0         250           81.5      26      9    2022   \n1690         0         0.0         187           62.9      14     10    2022   \n1725         0         0.0         399           65.7      18     11    2022   \n1775         0         0.0         166           31.6       3     12    2022   \n1790         0         0.0         267           70.3      23     13    2022   \n\n        Team  Points Eligible  Make  Same Races - Race #  Race #  \\\n11    Penske                1  Ford                    1       1   \n43    Penske                1  Ford                    0       2   \n82    Penske                1  Ford                    0       3   \n115   Penske                1  Ford                    2       4   \n154   Penske                1  Ford                    3       5   \n215   Penske                1  Ford                    4       6   \n236   Penske                1  Ford                    5       7   \n296   Penske                1  Ford                    6       8   \n313   Penske                1  Ford                    7       9   \n337   Penske                1  Ford                    8      10   \n378   Penske                1  Ford                   11      11   \n436   Penske                1  Ford                    9      12   \n465   Penske                1  Ford                   10      13   \n504   Penske                1  Ford                    0      14   \n535   Penske                1  Ford                    0      15   \n576   Penske                1  Ford                    0      16   \n620   Penske                1  Ford                    0      17   \n645   Penske                1  Ford                    0      18   \n675   Penske                1  Ford                    0      19   \n722   Penske                1  Ford                    0      20   \n758   Penske                1  Ford                    0      21   \n787   Penske                1  Ford                    0      22   \n853   Penske                1  Ford                    0      23   \n879   Penske                1  Ford                    0      24   \n904   Penske                1  Ford                    0      25   \n965   Penske                1  Ford                    0      26   \n978   Penske                1  Ford                    0      27   \n1020  Penske                1  Ford                    0      28   \n1049  Penske                1  Ford                    0      29   \n1087  Penske                1  Ford                    0      30   \n1119  Penske                1  Ford                    0      31   \n1176  Penske                1  Ford                    0      32   \n1198  Penske                1  Ford                    0      33   \n1249  Penske                1  Ford                    0      34   \n1274  Penske                1  Ford                    0      35   \n1318  Penske                1  Ford                    0      36   \n1355     RFK                1  Ford                    1       1   \n1409     RFK                1  Ford                    0       2   \n1440     RFK                1  Ford                    2       3   \n1476     RFK                1  Ford                    3       4   \n1499     RFK                1  Ford                    4       5   \n1538     RFK                1  Ford                    0       6   \n1575     RFK                1  Ford                    5       7   \n1615     RFK                1  Ford                    6       8   \n1644     RFK                1  Ford                    7       9   \n1690     RFK                1  Ford                    8      10   \n1725     RFK                1  Ford                    9      11   \n1775     RFK                1  Ford                   10      12   \n1790     RFK                1  Ford                   11      13   \n\n                Track     Track Type  Quality Passes Per Lap  Fastest Lap  \\\n11            Daytona  Superspeedway                   0.523       45.436   \n43         Daytona RC    Road Course                   0.314      117.856   \n82          Homestead       Speedway                   0.314       32.527   \n115         Las Vegas       Speedway                   0.423       30.184   \n154           Phoenix    Short Track                   0.103       27.033   \n215           Atlanta   Superpeedway                   0.087       31.424   \n236           Bristol    Short Track                   0.055       20.134   \n296      Martinsville    Short Track                   0.078       20.123   \n313          Richmond    Short Track                   0.105       22.924   \n337         Talladega  Superspeedway                   1.199       47.527   \n378            Kansas       Speedway                   0.199       30.998   \n436        Darlington       Speedway                   0.014       30.008   \n465             Dover    Short Track                   0.035       23.644   \n504              COTA    Road Course                   0.315      156.908   \n535         Charlotte       Speedway                   0.118       29.951   \n576            Sonoma    Road Course                   0.261      101.235   \n620         Nashville       Speedway                   0.070       31.322   \n645            Pocono       Speedway                   0.292       53.120   \n675            Pocono       Speedway                   0.236       53.264   \n722      Road America    Road Course                   0.113      137.412   \n758           Atlanta   Superpeedway                   0.192       31.655   \n787            Loudon    Short Track                   0.119       29.862   \n853      Watkins Glen    Road Course                   0.115       73.630   \n879   Indianapolis RC    Road Course                   0.084       92.683   \n904          Michigan       Speedway                   0.275       38.816   \n965           Daytona  Superspeedway                   1.365       47.196   \n978        Darlington       Speedway                   0.128       29.670   \n1020         Richmond    Short Track                   0.113       23.032   \n1049          Bristol    Short Track                   0.112       15.651   \n1087        Las Vegas       Speedway                   0.221       30.586   \n1119        Talladega  Superspeedway                   1.846       49.859   \n1176     Charlotte RC    Road Course                   0.083       84.493   \n1198            Texas       Speedway                   0.186       28.993   \n1249           Kansas       Speedway                   0.041       30.932   \n1274     Martinsville    Short Track                   0.098       19.983   \n1318          Phoenix    Short Track                   0.183       27.230   \n1355          Daytona  Superspeedway                   0.736       46.070   \n1409        Auto Club       Speedway                   0.162       42.033   \n1440        Las Vegas       Speedway                   0.051       29.915   \n1476          Phoenix    Short Track                   0.003       28.299   \n1499          Atlanta   Superpeedway                   0.446       29.725   \n1538             COTA    Road Course                   0.072      135.153   \n1575         Richmond    Short Track                   0.182       23.232   \n1615     Martinsville    Short Track                   0.010       20.001   \n1644          Bristol    Short Track                   0.192       19.757   \n1690        Talladega  Superspeedway                   0.353       49.065   \n1725            Dover    Short Track                   0.043       23.350   \n1775       Darlington       Speedway                   0.018       29.735   \n1790           Kansas       Speedway                   0.116       30.807   \n\n      Median Lap  Average Full Speed Lap  Fastest Lap % Deficit  \\\n11        46.357                  46.242              -1.092446   \n43       120.864                 120.433              -1.883693   \n82        35.010                  34.626              -0.246556   \n115       30.946                  30.895              -0.079576   \n154       27.932                  27.788              -0.200156   \n215       33.392                  33.228              -1.227330   \n236       21.349                  21.236              -3.820966   \n296       21.321                  21.076              -1.039365   \n313       24.524                  24.247              -2.531532   \n337       49.339                  49.213              -0.637361   \n378       32.173                  32.095               0.000000   \n436       32.626                  32.050              -1.815221   \n465       24.618                  24.545              -1.979728   \n504      164.562                 161.592              -1.035415   \n535       30.811                  30.803              -0.537075   \n576      103.838                 103.468              -1.799990   \n620       32.562                  32.467              -2.520293   \n645       54.611                  54.462              -0.084786   \n675       54.206                  54.234              -0.539847   \n722      140.955                 140.681              -2.354545   \n758       33.340                  33.168              -1.325182   \n787       30.803                  30.663               0.000000   \n853       76.093                  76.054              -1.372654   \n879       96.880                  95.458              -2.780119   \n904       39.494                  39.548              -0.585644   \n965       48.303                  48.133              -1.638850   \n978       31.573                  31.234              -2.289182   \n1020      24.788                  24.465              -1.159522   \n1049      16.275                  16.221              -0.494414   \n1087      31.922                  31.826              -0.658198   \n1119      51.016                  50.863              -1.378581   \n1176      87.182                  87.078              -1.311766   \n1198      29.593                  29.618              -0.210839   \n1249      32.038                  32.016              -1.273614   \n1274      21.058                  20.830              -0.807143   \n1318      28.594                  28.415              -1.513570   \n1355      47.084                  46.987              -0.442584   \n1409      44.207                  43.687              -1.492213   \n1440      31.438                  31.262              -0.968678   \n1476      29.055                  29.005              -2.770918   \n1499      30.371                  30.307              -0.656937   \n1538     139.210                 138.755              -1.199542   \n1575      24.507                  24.352              -1.436493   \n1615      20.580                  20.608              -0.852158   \n1644      20.646                  20.368              -2.575152   \n1690      50.601                  50.690              -0.321011   \n1725      24.296                  24.201              -2.542708   \n1775      31.196                  31.095              -2.672560   \n1790      32.131                  32.050              -2.474803   \n\n      Median Lap % Deficit  Average Full Speed Lap % Deficit  \\\n11               -0.662295                         -0.813185   \n43               -1.506677                         -1.714484   \n82               -0.134428                         -0.109865   \n115              -0.171560                          0.000000   \n154              -0.200890                         -0.075629   \n215              -1.991448                         -2.026529   \n236              -2.713495                         -3.509456   \n296              -1.047393                         -0.764965   \n313              -1.109050                         -1.528348   \n337              -0.419270                         -0.434694   \n378              -0.559480                         -0.331364   \n436              -4.486789                         -2.258950   \n465              -0.695353                         -1.099761   \n504              -2.640836                         -1.880726   \n535              -1.172260                         -1.049765   \n576              -1.511360                         -1.612555   \n620              -1.889981                         -2.413097   \n645              -1.243975                         -1.003320   \n675               0.000000                          0.000000   \n722              -1.114770                         -2.227212   \n758              -0.932429                         -0.851374   \n787               0.000000                         -0.422480   \n853              -1.870247                         -1.995548   \n879              -4.465220                         -3.433779   \n904              -0.496196                         -0.480195   \n965              -1.060758                         -0.538903   \n978              -1.370963                         -1.524460   \n1020             -3.051468                         -2.389721   \n1049             -0.320533                         -0.383687   \n1087             -0.827543                         -0.833254   \n1119             -0.354080                         -0.210813   \n1176             -1.134518                         -1.506073   \n1198             -1.075893                         -1.047388   \n1249             -1.437437                         -1.150006   \n1274             -0.549109                         -0.487240   \n1318             -2.252897                         -1.445912   \n1355             -0.048873                         -0.061757   \n1409             -2.019293                         -1.680438   \n1440             -1.998572                         -1.780889   \n1476             -2.176818                         -2.256302   \n1499             -0.340293                         -0.311124   \n1538             -2.284333                         -1.896117   \n1575             -0.282347                         -0.271762   \n1615             -0.429436                         -0.723363   \n1644             -1.624335                         -1.459527   \n1690             -0.931504                         -1.121130   \n1725             -1.444676                         -1.378184   \n1775             -1.837887                         -2.118227   \n1790             -1.847978                         -1.956418   \n\n      Fastest Lap Rank  Median Lap Rank  Average Full Speed Lap Rank  \n11                16.0              9.0                         10.0  \n43                17.0             14.0                         14.0  \n82                 4.0              3.0                          3.0  \n115                2.0              2.0                          1.0  \n154                2.0              3.0                          3.0  \n215               13.0             29.0                         29.0  \n236               33.0             22.0                         27.0  \n296                6.0             15.0                         10.0  \n313               11.0             13.0                         12.0  \n337                4.0             10.0                          8.0  \n378                1.0              4.0                          4.0  \n436                8.0             23.0                         14.0  \n465               14.0              7.0                          9.0  \n504               17.0             22.0                         21.0  \n535                4.0             15.0                         17.0  \n576               19.0              6.0                          8.0  \n620               18.0             27.0                         28.0  \n645                5.0             14.0                          9.0  \n675                4.0              1.0                          1.0  \n722               24.0             20.0                         23.0  \n758               17.0             12.0                         10.0  \n787                1.0              1.0                          2.0  \n853                8.0             26.0                         24.0  \n879               32.0             37.0                         34.0  \n904               16.0             14.0                         14.0  \n965               34.0             19.0                         21.0  \n978               14.0             16.0                         16.0  \n1020               7.0             21.0                         13.0  \n1049               5.0              4.0                          6.0  \n1087               8.0             11.0                         12.0  \n1119              22.0             14.0                         15.0  \n1176              13.0             14.0                         16.0  \n1198               4.0              9.0                          9.0  \n1249              15.0             13.0                         13.0  \n1274               5.0              6.0                          5.0  \n1318               8.0             12.0                         12.0  \n1355               9.0              6.0                          4.0  \n1409              15.0             18.0                         17.0  \n1440              12.0             22.0                         22.0  \n1476              29.0             28.0                         30.0  \n1499              19.0             19.0                         23.0  \n1538              25.0             20.0                         29.0  \n1575              16.0              5.0                          5.0  \n1615               9.0             12.0                         18.0  \n1644              19.0             21.0                         14.0  \n1690               2.0             27.0                         29.0  \n1725              16.0             20.0                         22.0  \n1775              21.0             26.0                         30.0  \n1790              16.0             17.0                         17.0  ",
      "text/html": "<div>\n<style scoped>\n    .dataframe tbody tr th:only-of-type {\n        vertical-align: middle;\n    }\n\n    .dataframe tbody tr th {\n        vertical-align: top;\n    }\n\n    .dataframe thead th {\n        text-align: right;\n    }\n</style>\n<table border=\"1\" class=\"dataframe\">\n  <thead>\n    <tr style=\"text-align: right;\">\n      <th></th>\n      <th>Driver</th>\n      <th>Car #</th>\n      <th>Start</th>\n      <th>Mid Race</th>\n      <th>Finish</th>\n      <th>Average Position</th>\n      <th>Pass Differential</th>\n      <th>Green Passes</th>\n      <th>Green Passed</th>\n      <th>Quality Passes</th>\n      <th>% Quality Passes</th>\n      <th># Fastest Laps</th>\n      <th>Laps in Top 15</th>\n      <th>% Laps in Top 15</th>\n      <th>Laps Led</th>\n      <th>% Laps Led</th>\n      <th>Total Laps</th>\n      <th>Driver Rating</th>\n      <th>Points</th>\n      <th>Races</th>\n      <th>Season</th>\n      <th>Team</th>\n      <th>Points Eligible</th>\n      <th>Make</th>\n      <th>Same Races - Race #</th>\n      <th>Race #</th>\n      <th>Track</th>\n      <th>Track Type</th>\n      <th>Quality Passes Per Lap</th>\n      <th>Fastest Lap</th>\n      <th>Median Lap</th>\n      <th>Average Full Speed Lap</th>\n      <th>Fastest Lap % Deficit</th>\n      <th>Median Lap % Deficit</th>\n      <th>Average Full Speed Lap % Deficit</th>\n      <th>Fastest Lap Rank</th>\n      <th>Median Lap Rank</th>\n      <th>Average Full Speed Lap Rank</th>\n    </tr>\n  </thead>\n  <tbody>\n    <tr>\n      <th>11</th>\n      <td>Brad Keselowski</td>\n      <td>2</td>\n      <td>24</td>\n      <td>12</td>\n      <td>13</td>\n      <td>11.8</td>\n      <td>-13</td>\n      <td>117</td>\n      <td>130</td>\n      <td>104</td>\n      <td>88.89</td>\n      <td>6</td>\n      <td>171</td>\n      <td>85.5</td>\n      <td>0</td>\n      <td>0.0</td>\n      <td>199</td>\n      <td>90.3</td>\n      <td>25</td>\n      <td>1</td>\n      <td>2021</td>\n      <td>Penske</td>\n      <td>1</td>\n      <td>Ford</td>\n      <td>1</td>\n      <td>1</td>\n      <td>Daytona</td>\n      <td>Superspeedway</td>\n      <td>0.523</td>\n      <td>45.436</td>\n      <td>46.357</td>\n      <td>46.242</td>\n      <td>-1.092446</td>\n      <td>-0.662295</td>\n      <td>-0.813185</td>\n      <td>16.0</td>\n      <td>9.0</td>\n      <td>10.0</td>\n    </tr>\n    <tr>\n      <th>43</th>\n      <td>Brad Keselowski</td>\n      <td>2</td>\n      <td>15</td>\n      <td>31</td>\n      <td>5</td>\n      <td>16.5</td>\n      <td>-48</td>\n      <td>75</td>\n      <td>123</td>\n      <td>22</td>\n      <td>29.33</td>\n      <td>0</td>\n      <td>42</td>\n      <td>60.0</td>\n      <td>0</td>\n      <td>0.0</td>\n      <td>70</td>\n      <td>76.7</td>\n      <td>39</td>\n      <td>2</td>\n      <td>2021</td>\n      <td>Penske</td>\n      <td>1</td>\n      <td>Ford</td>\n      <td>0</td>\n      <td>2</td>\n      <td>Daytona RC</td>\n      <td>Road Course</td>\n      <td>0.314</td>\n      <td>117.856</td>\n      <td>120.864</td>\n      <td>120.433</td>\n      <td>-1.883693</td>\n      <td>-1.506677</td>\n      <td>-1.714484</td>\n      <td>17.0</td>\n      <td>14.0</td>\n      <td>14.0</td>\n    </tr>\n    <tr>\n      <th>82</th>\n      <td>Brad Keselowski</td>\n      <td>2</td>\n      <td>15</td>\n      <td>31</td>\n      <td>5</td>\n      <td>16.5</td>\n      <td>-48</td>\n      <td>75</td>\n      <td>123</td>\n      <td>22</td>\n      <td>29.33</td>\n      <td>0</td>\n      <td>42</td>\n      <td>60.0</td>\n      <td>0</td>\n      <td>0.0</td>\n      <td>70</td>\n      <td>76.7</td>\n      <td>39</td>\n      <td>1</td>\n      <td>2021</td>\n      <td>Penske</td>\n      <td>1</td>\n      <td>Ford</td>\n      <td>0</td>\n      <td>3</td>\n      <td>Homestead</td>\n      <td>Speedway</td>\n      <td>0.314</td>\n      <td>32.527</td>\n      <td>35.010</td>\n      <td>34.626</td>\n      <td>-0.246556</td>\n      <td>-0.134428</td>\n      <td>-0.109865</td>\n      <td>4.0</td>\n      <td>3.0</td>\n      <td>3.0</td>\n    </tr>\n    <tr>\n      <th>115</th>\n      <td>Brad Keselowski</td>\n      <td>2</td>\n      <td>10</td>\n      <td>8</td>\n      <td>2</td>\n      <td>4.2</td>\n      <td>36</td>\n      <td>133</td>\n      <td>97</td>\n      <td>113</td>\n      <td>84.96</td>\n      <td>30</td>\n      <td>255</td>\n      <td>95.5</td>\n      <td>27</td>\n      <td>10.1</td>\n      <td>267</td>\n      <td>123.5</td>\n      <td>54</td>\n      <td>2</td>\n      <td>2021</td>\n      <td>Penske</td>\n      <td>1</td>\n      <td>Ford</td>\n      <td>2</td>\n      <td>4</td>\n      <td>Las Vegas</td>\n      <td>Speedway</td>\n      <td>0.423</td>\n      <td>30.184</td>\n      <td>30.946</td>\n      <td>30.895</td>\n      <td>-0.079576</td>\n      <td>-0.171560</td>\n      <td>0.000000</td>\n      <td>2.0</td>\n      <td>2.0</td>\n      <td>1.0</td>\n    </tr>\n    <tr>\n      <th>154</th>\n      <td>Brad Keselowski</td>\n      <td>2</td>\n      <td>1</td>\n      <td>5</td>\n      <td>4</td>\n      <td>3.9</td>\n      <td>-2</td>\n      <td>61</td>\n      <td>63</td>\n      <td>32</td>\n      <td>52.46</td>\n      <td>14</td>\n      <td>310</td>\n      <td>99.4</td>\n      <td>19</td>\n      <td>6.1</td>\n      <td>312</td>\n      <td>116.6</td>\n      <td>48</td>\n      <td>3</td>\n      <td>2021</td>\n      <td>Penske</td>\n      <td>1</td>\n      <td>Ford</td>\n      <td>3</td>\n      <td>5</td>\n      <td>Phoenix</td>\n      <td>Short Track</td>\n      <td>0.103</td>\n      <td>27.033</td>\n      <td>27.932</td>\n      <td>27.788</td>\n      <td>-0.200156</td>\n      <td>-0.200890</td>\n      <td>-0.075629</td>\n      <td>2.0</td>\n      <td>3.0</td>\n      <td>3.0</td>\n    </tr>\n    <tr>\n      <th>215</th>\n      <td>Brad Keselowski</td>\n      <td>2</td>\n      <td>4</td>\n      <td>13</td>\n      <td>28</td>\n      <td>20.3</td>\n      <td>-22</td>\n      <td>72</td>\n      <td>94</td>\n      <td>28</td>\n      <td>38.89</td>\n      <td>5</td>\n      <td>121</td>\n      <td>37.2</td>\n      <td>0</td>\n      <td>0.0</td>\n      <td>321</td>\n      <td>64.1</td>\n      <td>9</td>\n      <td>4</td>\n      <td>2021</td>\n      <td>Penske</td>\n      <td>1</td>\n      <td>Ford</td>\n      <td>4</td>\n      <td>6</td>\n      <td>Atlanta</td>\n      <td>Superpeedway</td>\n      <td>0.087</td>\n      <td>31.424</td>\n      <td>33.392</td>\n      <td>33.228</td>\n      <td>-1.227330</td>\n      <td>-1.991448</td>\n      <td>-2.026529</td>\n      <td>13.0</td>\n      <td>29.0</td>\n      <td>29.0</td>\n    </tr>\n    <tr>\n      <th>236</th>\n      <td>Brad Keselowski</td>\n      <td>2</td>\n      <td>20</td>\n      <td>20</td>\n      <td>11</td>\n      <td>17.9</td>\n      <td>-1</td>\n      <td>54</td>\n      <td>55</td>\n      <td>14</td>\n      <td>25.93</td>\n      <td>1</td>\n      <td>99</td>\n      <td>39.1</td>\n      <td>0</td>\n      <td>0.0</td>\n      <td>253</td>\n      <td>73.8</td>\n      <td>26</td>\n      <td>5</td>\n      <td>2021</td>\n      <td>Penske</td>\n      <td>1</td>\n      <td>Ford</td>\n      <td>5</td>\n      <td>7</td>\n      <td>Bristol</td>\n      <td>Short Track</td>\n      <td>0.055</td>\n      <td>20.134</td>\n      <td>21.349</td>\n      <td>21.236</td>\n      <td>-3.820966</td>\n      <td>-2.713495</td>\n      <td>-3.509456</td>\n      <td>33.0</td>\n      <td>22.0</td>\n      <td>27.0</td>\n    </tr>\n    <tr>\n      <th>296</th>\n      <td>Brad Keselowski</td>\n      <td>2</td>\n      <td>10</td>\n      <td>7</td>\n      <td>33</td>\n      <td>15.8</td>\n      <td>10</td>\n      <td>42</td>\n      <td>32</td>\n      <td>30</td>\n      <td>71.43</td>\n      <td>5</td>\n      <td>319</td>\n      <td>63.8</td>\n      <td>0</td>\n      <td>0.0</td>\n      <td>385</td>\n      <td>76.8</td>\n      <td>12</td>\n      <td>6</td>\n      <td>2021</td>\n      <td>Penske</td>\n      <td>1</td>\n      <td>Ford</td>\n      <td>6</td>\n      <td>8</td>\n      <td>Martinsville</td>\n      <td>Short Track</td>\n      <td>0.078</td>\n      <td>20.123</td>\n      <td>21.321</td>\n      <td>21.076</td>\n      <td>-1.039365</td>\n      <td>-1.047393</td>\n      <td>-0.764965</td>\n      <td>6.0</td>\n      <td>15.0</td>\n      <td>10.0</td>\n    </tr>\n    <tr>\n      <th>313</th>\n      <td>Brad Keselowski</td>\n      <td>2</td>\n      <td>20</td>\n      <td>1</td>\n      <td>14</td>\n      <td>10.0</td>\n      <td>8</td>\n      <td>63</td>\n      <td>55</td>\n      <td>42</td>\n      <td>66.67</td>\n      <td>11</td>\n      <td>374</td>\n      <td>93.5</td>\n      <td>25</td>\n      <td>6.3</td>\n      <td>400</td>\n      <td>90.7</td>\n      <td>25</td>\n      <td>7</td>\n      <td>2021</td>\n      <td>Penske</td>\n      <td>1</td>\n      <td>Ford</td>\n      <td>7</td>\n      <td>9</td>\n      <td>Richmond</td>\n      <td>Short Track</td>\n      <td>0.105</td>\n      <td>22.924</td>\n      <td>24.524</td>\n      <td>24.247</td>\n      <td>-2.531532</td>\n      <td>-1.109050</td>\n      <td>-1.528348</td>\n      <td>11.0</td>\n      <td>13.0</td>\n      <td>12.0</td>\n    </tr>\n    <tr>\n      <th>337</th>\n      <td>Brad Keselowski</td>\n      <td>2</td>\n      <td>10</td>\n      <td>8</td>\n      <td>1</td>\n      <td>8.5</td>\n      <td>28</td>\n      <td>324</td>\n      <td>296</td>\n      <td>229</td>\n      <td>70.68</td>\n      <td>5</td>\n      <td>163</td>\n      <td>85.3</td>\n      <td>1</td>\n      <td>0.5</td>\n      <td>191</td>\n      <td>117.9</td>\n      <td>49</td>\n      <td>8</td>\n      <td>2021</td>\n      <td>Penske</td>\n      <td>1</td>\n      <td>Ford</td>\n      <td>8</td>\n      <td>10</td>\n      <td>Talladega</td>\n      <td>Superspeedway</td>\n      <td>1.199</td>\n      <td>47.527</td>\n      <td>49.339</td>\n      <td>49.213</td>\n      <td>-0.637361</td>\n      <td>-0.419270</td>\n      <td>-0.434694</td>\n      <td>4.0</td>\n      <td>10.0</td>\n      <td>8.0</td>\n    </tr>\n    <tr>\n      <th>378</th>\n      <td>Brad Keselowski</td>\n      <td>2</td>\n      <td>1</td>\n      <td>8</td>\n      <td>3</td>\n      <td>4.2</td>\n      <td>4</td>\n      <td>66</td>\n      <td>62</td>\n      <td>53</td>\n      <td>80.30</td>\n      <td>18</td>\n      <td>267</td>\n      <td>100.0</td>\n      <td>72</td>\n      <td>27.0</td>\n      <td>267</td>\n      <td>121.7</td>\n      <td>48</td>\n      <td>9</td>\n      <td>2021</td>\n      <td>Penske</td>\n      <td>1</td>\n      <td>Ford</td>\n      <td>11</td>\n      <td>11</td>\n      <td>Kansas</td>\n      <td>Speedway</td>\n      <td>0.199</td>\n      <td>30.998</td>\n      <td>32.173</td>\n      <td>32.095</td>\n      <td>0.000000</td>\n      <td>-0.559480</td>\n      <td>-0.331364</td>\n      <td>1.0</td>\n      <td>4.0</td>\n      <td>4.0</td>\n    </tr>\n    <tr>\n      <th>436</th>\n      <td>Brad Keselowski</td>\n      <td>2</td>\n      <td>1</td>\n      <td>27</td>\n      <td>24</td>\n      <td>19.9</td>\n      <td>-34</td>\n      <td>92</td>\n      <td>126</td>\n      <td>4</td>\n      <td>4.35</td>\n      <td>28</td>\n      <td>34</td>\n      <td>11.6</td>\n      <td>4</td>\n      <td>1.4</td>\n      <td>290</td>\n      <td>64.4</td>\n      <td>13</td>\n      <td>10</td>\n      <td>2021</td>\n      <td>Penske</td>\n      <td>1</td>\n      <td>Ford</td>\n      <td>9</td>\n      <td>12</td>\n      <td>Darlington</td>\n      <td>Speedway</td>\n      <td>0.014</td>\n      <td>30.008</td>\n      <td>32.626</td>\n      <td>32.050</td>\n      <td>-1.815221</td>\n      <td>-4.486789</td>\n      <td>-2.258950</td>\n      <td>8.0</td>\n      <td>23.0</td>\n      <td>14.0</td>\n    </tr>\n    <tr>\n      <th>465</th>\n      <td>Brad Keselowski</td>\n      <td>2</td>\n      <td>15</td>\n      <td>8</td>\n      <td>16</td>\n      <td>10.8</td>\n      <td>1</td>\n      <td>15</td>\n      <td>14</td>\n      <td>14</td>\n      <td>93.33</td>\n      <td>1</td>\n      <td>311</td>\n      <td>77.8</td>\n      <td>0</td>\n      <td>0.0</td>\n      <td>400</td>\n      <td>85.5</td>\n      <td>25</td>\n      <td>11</td>\n      <td>2021</td>\n      <td>Penske</td>\n      <td>1</td>\n      <td>Ford</td>\n      <td>10</td>\n      <td>13</td>\n      <td>Dover</td>\n      <td>Short Track</td>\n      <td>0.035</td>\n      <td>23.644</td>\n      <td>24.618</td>\n      <td>24.545</td>\n      <td>-1.979728</td>\n      <td>-0.695353</td>\n      <td>-1.099761</td>\n      <td>14.0</td>\n      <td>7.0</td>\n      <td>9.0</td>\n    </tr>\n    <tr>\n      <th>504</th>\n      <td>Brad Keselowski</td>\n      <td>2</td>\n      <td>24</td>\n      <td>15</td>\n      <td>19</td>\n      <td>21.7</td>\n      <td>13</td>\n      <td>87</td>\n      <td>74</td>\n      <td>17</td>\n      <td>19.54</td>\n      <td>0</td>\n      <td>12</td>\n      <td>22.2</td>\n      <td>0</td>\n      <td>0.0</td>\n      <td>54</td>\n      <td>56.8</td>\n      <td>18</td>\n      <td>12</td>\n      <td>2021</td>\n      <td>Penske</td>\n      <td>1</td>\n      <td>Ford</td>\n      <td>0</td>\n      <td>14</td>\n      <td>COTA</td>\n      <td>Road Course</td>\n      <td>0.315</td>\n      <td>156.908</td>\n      <td>164.562</td>\n      <td>161.592</td>\n      <td>-1.035415</td>\n      <td>-2.640836</td>\n      <td>-1.880726</td>\n      <td>17.0</td>\n      <td>22.0</td>\n      <td>21.0</td>\n    </tr>\n    <tr>\n      <th>535</th>\n      <td>Brad Keselowski</td>\n      <td>2</td>\n      <td>13</td>\n      <td>16</td>\n      <td>11</td>\n      <td>14.3</td>\n      <td>-3</td>\n      <td>120</td>\n      <td>123</td>\n      <td>47</td>\n      <td>39.17</td>\n      <td>8</td>\n      <td>233</td>\n      <td>58.3</td>\n      <td>6</td>\n      <td>1.5</td>\n      <td>400</td>\n      <td>79.3</td>\n      <td>26</td>\n      <td>13</td>\n      <td>2021</td>\n      <td>Penske</td>\n      <td>1</td>\n      <td>Ford</td>\n      <td>0</td>\n      <td>15</td>\n      <td>Charlotte</td>\n      <td>Speedway</td>\n      <td>0.118</td>\n      <td>29.951</td>\n      <td>30.811</td>\n      <td>30.803</td>\n      <td>-0.537075</td>\n      <td>-1.172260</td>\n      <td>-1.049765</td>\n      <td>4.0</td>\n      <td>15.0</td>\n      <td>17.0</td>\n    </tr>\n    <tr>\n      <th>576</th>\n      <td>Brad Keselowski</td>\n      <td>2</td>\n      <td>9</td>\n      <td>5</td>\n      <td>15</td>\n      <td>12.5</td>\n      <td>34</td>\n      <td>76</td>\n      <td>42</td>\n      <td>24</td>\n      <td>31.58</td>\n      <td>0</td>\n      <td>59</td>\n      <td>64.1</td>\n      <td>0</td>\n      <td>0.0</td>\n      <td>92</td>\n      <td>91.7</td>\n      <td>25</td>\n      <td>14</td>\n      <td>2021</td>\n      <td>Penske</td>\n      <td>1</td>\n      <td>Ford</td>\n      <td>0</td>\n      <td>16</td>\n      <td>Sonoma</td>\n      <td>Road Course</td>\n      <td>0.261</td>\n      <td>101.235</td>\n      <td>103.838</td>\n      <td>103.468</td>\n      <td>-1.799990</td>\n      <td>-1.511360</td>\n      <td>-1.612555</td>\n      <td>19.0</td>\n      <td>6.0</td>\n      <td>8.0</td>\n    </tr>\n    <tr>\n      <th>620</th>\n      <td>Brad Keselowski</td>\n      <td>2</td>\n      <td>15</td>\n      <td>19</td>\n      <td>24</td>\n      <td>18.3</td>\n      <td>-12</td>\n      <td>83</td>\n      <td>95</td>\n      <td>21</td>\n      <td>25.30</td>\n      <td>0</td>\n      <td>90</td>\n      <td>30.0</td>\n      <td>0</td>\n      <td>0.0</td>\n      <td>299</td>\n      <td>58.8</td>\n      <td>16</td>\n      <td>15</td>\n      <td>2021</td>\n      <td>Penske</td>\n      <td>1</td>\n      <td>Ford</td>\n      <td>0</td>\n      <td>17</td>\n      <td>Nashville</td>\n      <td>Speedway</td>\n      <td>0.070</td>\n      <td>31.322</td>\n      <td>32.562</td>\n      <td>32.467</td>\n      <td>-2.520293</td>\n      <td>-1.889981</td>\n      <td>-2.413097</td>\n      <td>18.0</td>\n      <td>27.0</td>\n      <td>28.0</td>\n    </tr>\n    <tr>\n      <th>645</th>\n      <td>Brad Keselowski</td>\n      <td>2</td>\n      <td>18</td>\n      <td>12</td>\n      <td>10</td>\n      <td>14.8</td>\n      <td>31</td>\n      <td>91</td>\n      <td>60</td>\n      <td>38</td>\n      <td>41.76</td>\n      <td>4</td>\n      <td>85</td>\n      <td>65.4</td>\n      <td>0</td>\n      <td>0.0</td>\n      <td>130</td>\n      <td>84.9</td>\n      <td>28</td>\n      <td>16</td>\n      <td>2021</td>\n      <td>Penske</td>\n      <td>1</td>\n      <td>Ford</td>\n      <td>0</td>\n      <td>18</td>\n      <td>Pocono</td>\n      <td>Speedway</td>\n      <td>0.292</td>\n      <td>53.120</td>\n      <td>54.611</td>\n      <td>54.462</td>\n      <td>-0.084786</td>\n      <td>-1.243975</td>\n      <td>-1.003320</td>\n      <td>5.0</td>\n      <td>14.0</td>\n      <td>9.0</td>\n    </tr>\n    <tr>\n      <th>675</th>\n      <td>Brad Keselowski</td>\n      <td>2</td>\n      <td>11</td>\n      <td>18</td>\n      <td>3</td>\n      <td>8.0</td>\n      <td>16</td>\n      <td>68</td>\n      <td>52</td>\n      <td>33</td>\n      <td>48.53</td>\n      <td>20</td>\n      <td>113</td>\n      <td>80.7</td>\n      <td>31</td>\n      <td>22.1</td>\n      <td>140</td>\n      <td>124.2</td>\n      <td>50</td>\n      <td>17</td>\n      <td>2021</td>\n      <td>Penske</td>\n      <td>1</td>\n      <td>Ford</td>\n      <td>0</td>\n      <td>19</td>\n      <td>Pocono</td>\n      <td>Speedway</td>\n      <td>0.236</td>\n      <td>53.264</td>\n      <td>54.206</td>\n      <td>54.234</td>\n      <td>-0.539847</td>\n      <td>0.000000</td>\n      <td>0.000000</td>\n      <td>4.0</td>\n      <td>1.0</td>\n      <td>1.0</td>\n    </tr>\n    <tr>\n      <th>722</th>\n      <td>Brad Keselowski</td>\n      <td>2</td>\n      <td>20</td>\n      <td>11</td>\n      <td>13</td>\n      <td>20.2</td>\n      <td>38</td>\n      <td>77</td>\n      <td>39</td>\n      <td>7</td>\n      <td>9.09</td>\n      <td>0</td>\n      <td>7</td>\n      <td>11.3</td>\n      <td>0</td>\n      <td>0.0</td>\n      <td>62</td>\n      <td>67.5</td>\n      <td>24</td>\n      <td>18</td>\n      <td>2021</td>\n      <td>Penske</td>\n      <td>1</td>\n      <td>Ford</td>\n      <td>0</td>\n      <td>20</td>\n      <td>Road America</td>\n      <td>Road Course</td>\n      <td>0.113</td>\n      <td>137.412</td>\n      <td>140.955</td>\n      <td>140.681</td>\n      <td>-2.354545</td>\n      <td>-1.114770</td>\n      <td>-2.227212</td>\n      <td>24.0</td>\n      <td>20.0</td>\n      <td>23.0</td>\n    </tr>\n    <tr>\n      <th>758</th>\n      <td>Brad Keselowski</td>\n      <td>2</td>\n      <td>14</td>\n      <td>11</td>\n      <td>10</td>\n      <td>9.0</td>\n      <td>-6</td>\n      <td>66</td>\n      <td>72</td>\n      <td>50</td>\n      <td>75.76</td>\n      <td>0</td>\n      <td>253</td>\n      <td>97.3</td>\n      <td>0</td>\n      <td>0.0</td>\n      <td>260</td>\n      <td>96.3</td>\n      <td>30</td>\n      <td>19</td>\n      <td>2021</td>\n      <td>Penske</td>\n      <td>1</td>\n      <td>Ford</td>\n      <td>0</td>\n      <td>21</td>\n      <td>Atlanta</td>\n      <td>Superpeedway</td>\n      <td>0.192</td>\n      <td>31.655</td>\n      <td>33.340</td>\n      <td>33.168</td>\n      <td>-1.325182</td>\n      <td>-0.932429</td>\n      <td>-0.851374</td>\n      <td>17.0</td>\n      <td>12.0</td>\n      <td>10.0</td>\n    </tr>\n    <tr>\n      <th>787</th>\n      <td>Brad Keselowski</td>\n      <td>2</td>\n      <td>11</td>\n      <td>1</td>\n      <td>3</td>\n      <td>3.3</td>\n      <td>5</td>\n      <td>47</td>\n      <td>42</td>\n      <td>35</td>\n      <td>74.47</td>\n      <td>36</td>\n      <td>292</td>\n      <td>99.7</td>\n      <td>53</td>\n      <td>18.1</td>\n      <td>293</td>\n      <td>129.9</td>\n      <td>53</td>\n      <td>20</td>\n      <td>2021</td>\n      <td>Penske</td>\n      <td>1</td>\n      <td>Ford</td>\n      <td>0</td>\n      <td>22</td>\n      <td>Loudon</td>\n      <td>Short Track</td>\n      <td>0.119</td>\n      <td>29.862</td>\n      <td>30.803</td>\n      <td>30.663</td>\n      <td>0.000000</td>\n      <td>0.000000</td>\n      <td>-0.422480</td>\n      <td>1.0</td>\n      <td>1.0</td>\n      <td>2.0</td>\n    </tr>\n    <tr>\n      <th>853</th>\n      <td>Brad Keselowski</td>\n      <td>2</td>\n      <td>1</td>\n      <td>15</td>\n      <td>35</td>\n      <td>23.9</td>\n      <td>-15</td>\n      <td>46</td>\n      <td>61</td>\n      <td>10</td>\n      <td>21.74</td>\n      <td>0</td>\n      <td>27</td>\n      <td>30.0</td>\n      <td>9</td>\n      <td>10.3</td>\n      <td>87</td>\n      <td>55.7</td>\n      <td>2</td>\n      <td>21</td>\n      <td>2021</td>\n      <td>Penske</td>\n      <td>1</td>\n      <td>Ford</td>\n      <td>0</td>\n      <td>23</td>\n      <td>Watkins Glen</td>\n      <td>Road Course</td>\n      <td>0.115</td>\n      <td>73.630</td>\n      <td>76.093</td>\n      <td>76.054</td>\n      <td>-1.372654</td>\n      <td>-1.870247</td>\n      <td>-1.995548</td>\n      <td>8.0</td>\n      <td>26.0</td>\n      <td>24.0</td>\n    </tr>\n    <tr>\n      <th>879</th>\n      <td>Brad Keselowski</td>\n      <td>2</td>\n      <td>31</td>\n      <td>35</td>\n      <td>24</td>\n      <td>25.7</td>\n      <td>-17</td>\n      <td>97</td>\n      <td>114</td>\n      <td>8</td>\n      <td>8.25</td>\n      <td>0</td>\n      <td>17</td>\n      <td>17.9</td>\n      <td>2</td>\n      <td>2.1</td>\n      <td>95</td>\n      <td>47.7</td>\n      <td>18</td>\n      <td>22</td>\n      <td>2021</td>\n      <td>Penske</td>\n      <td>1</td>\n      <td>Ford</td>\n      <td>0</td>\n      <td>24</td>\n      <td>Indianapolis RC</td>\n      <td>Road Course</td>\n      <td>0.084</td>\n      <td>92.683</td>\n      <td>96.880</td>\n      <td>95.458</td>\n      <td>-2.780119</td>\n      <td>-4.465220</td>\n      <td>-3.433779</td>\n      <td>32.0</td>\n      <td>37.0</td>\n      <td>34.0</td>\n    </tr>\n    <tr>\n      <th>904</th>\n      <td>Brad Keselowski</td>\n      <td>2</td>\n      <td>20</td>\n      <td>9</td>\n      <td>9</td>\n      <td>12.0</td>\n      <td>34</td>\n      <td>148</td>\n      <td>114</td>\n      <td>55</td>\n      <td>37.16</td>\n      <td>4</td>\n      <td>138</td>\n      <td>69.0</td>\n      <td>6</td>\n      <td>3.0</td>\n      <td>200</td>\n      <td>86.6</td>\n      <td>33</td>\n      <td>23</td>\n      <td>2021</td>\n      <td>Penske</td>\n      <td>1</td>\n      <td>Ford</td>\n      <td>0</td>\n      <td>25</td>\n      <td>Michigan</td>\n      <td>Speedway</td>\n      <td>0.275</td>\n      <td>38.816</td>\n      <td>39.494</td>\n      <td>39.548</td>\n      <td>-0.585644</td>\n      <td>-0.496196</td>\n      <td>-0.480195</td>\n      <td>16.0</td>\n      <td>14.0</td>\n      <td>14.0</td>\n    </tr>\n    <tr>\n      <th>965</th>\n      <td>Brad Keselowski</td>\n      <td>2</td>\n      <td>10</td>\n      <td>10</td>\n      <td>34</td>\n      <td>16.5</td>\n      <td>-3</td>\n      <td>319</td>\n      <td>322</td>\n      <td>213</td>\n      <td>66.77</td>\n      <td>1</td>\n      <td>98</td>\n      <td>59.4</td>\n      <td>0</td>\n      <td>0.0</td>\n      <td>156</td>\n      <td>63.3</td>\n      <td>3</td>\n      <td>24</td>\n      <td>2021</td>\n      <td>Penske</td>\n      <td>1</td>\n      <td>Ford</td>\n      <td>0</td>\n      <td>26</td>\n      <td>Daytona</td>\n      <td>Superspeedway</td>\n      <td>1.365</td>\n      <td>47.196</td>\n      <td>48.303</td>\n      <td>48.133</td>\n      <td>-1.638850</td>\n      <td>-1.060758</td>\n      <td>-0.538903</td>\n      <td>34.0</td>\n      <td>19.0</td>\n      <td>21.0</td>\n    </tr>\n    <tr>\n      <th>978</th>\n      <td>Brad Keselowski</td>\n      <td>2</td>\n      <td>16</td>\n      <td>13</td>\n      <td>7</td>\n      <td>13.7</td>\n      <td>-2</td>\n      <td>125</td>\n      <td>127</td>\n      <td>47</td>\n      <td>37.60</td>\n      <td>4</td>\n      <td>247</td>\n      <td>67.3</td>\n      <td>0</td>\n      <td>0.0</td>\n      <td>367</td>\n      <td>83.7</td>\n      <td>30</td>\n      <td>25</td>\n      <td>2021</td>\n      <td>Penske</td>\n      <td>1</td>\n      <td>Ford</td>\n      <td>0</td>\n      <td>27</td>\n      <td>Darlington</td>\n      <td>Speedway</td>\n      <td>0.128</td>\n      <td>29.670</td>\n      <td>31.573</td>\n      <td>31.234</td>\n      <td>-2.289182</td>\n      <td>-1.370963</td>\n      <td>-1.524460</td>\n      <td>14.0</td>\n      <td>16.0</td>\n      <td>16.0</td>\n    </tr>\n    <tr>\n      <th>1020</th>\n      <td>Brad Keselowski</td>\n      <td>2</td>\n      <td>7</td>\n      <td>10</td>\n      <td>13</td>\n      <td>9.3</td>\n      <td>-9</td>\n      <td>60</td>\n      <td>69</td>\n      <td>45</td>\n      <td>75.00</td>\n      <td>1</td>\n      <td>399</td>\n      <td>99.8</td>\n      <td>0</td>\n      <td>0.0</td>\n      <td>399</td>\n      <td>85.4</td>\n      <td>28</td>\n      <td>26</td>\n      <td>2021</td>\n      <td>Penske</td>\n      <td>1</td>\n      <td>Ford</td>\n      <td>0</td>\n      <td>28</td>\n      <td>Richmond</td>\n      <td>Short Track</td>\n      <td>0.113</td>\n      <td>23.032</td>\n      <td>24.788</td>\n      <td>24.465</td>\n      <td>-1.159522</td>\n      <td>-3.051468</td>\n      <td>-2.389721</td>\n      <td>7.0</td>\n      <td>21.0</td>\n      <td>13.0</td>\n    </tr>\n    <tr>\n      <th>1049</th>\n      <td>Brad Keselowski</td>\n      <td>2</td>\n      <td>10</td>\n      <td>3</td>\n      <td>6</td>\n      <td>7.4</td>\n      <td>8</td>\n      <td>57</td>\n      <td>49</td>\n      <td>56</td>\n      <td>98.25</td>\n      <td>28</td>\n      <td>497</td>\n      <td>99.4</td>\n      <td>10</td>\n      <td>2.0</td>\n      <td>500</td>\n      <td>104.7</td>\n      <td>46</td>\n      <td>27</td>\n      <td>2021</td>\n      <td>Penske</td>\n      <td>1</td>\n      <td>Ford</td>\n      <td>0</td>\n      <td>29</td>\n      <td>Bristol</td>\n      <td>Short Track</td>\n      <td>0.112</td>\n      <td>15.651</td>\n      <td>16.275</td>\n      <td>16.221</td>\n      <td>-0.494414</td>\n      <td>-0.320533</td>\n      <td>-0.383687</td>\n      <td>5.0</td>\n      <td>4.0</td>\n      <td>6.0</td>\n    </tr>\n    <tr>\n      <th>1087</th>\n      <td>Brad Keselowski</td>\n      <td>2</td>\n      <td>8</td>\n      <td>12</td>\n      <td>7</td>\n      <td>9.9</td>\n      <td>3</td>\n      <td>78</td>\n      <td>75</td>\n      <td>59</td>\n      <td>75.64</td>\n      <td>6</td>\n      <td>254</td>\n      <td>95.1</td>\n      <td>4</td>\n      <td>1.5</td>\n      <td>267</td>\n      <td>92.5</td>\n      <td>35</td>\n      <td>28</td>\n      <td>2021</td>\n      <td>Penske</td>\n      <td>1</td>\n      <td>Ford</td>\n      <td>0</td>\n      <td>30</td>\n      <td>Las Vegas</td>\n      <td>Speedway</td>\n      <td>0.221</td>\n      <td>30.586</td>\n      <td>31.922</td>\n      <td>31.826</td>\n      <td>-0.658198</td>\n      <td>-0.827543</td>\n      <td>-0.833254</td>\n      <td>8.0</td>\n      <td>11.0</td>\n      <td>12.0</td>\n    </tr>\n    <tr>\n      <th>1119</th>\n      <td>Brad Keselowski</td>\n      <td>2</td>\n      <td>7</td>\n      <td>3</td>\n      <td>2</td>\n      <td>6.0</td>\n      <td>7</td>\n      <td>229</td>\n      <td>222</td>\n      <td>216</td>\n      <td>94.32</td>\n      <td>1</td>\n      <td>115</td>\n      <td>98.3</td>\n      <td>13</td>\n      <td>11.1</td>\n      <td>117</td>\n      <td>112.5</td>\n      <td>52</td>\n      <td>29</td>\n      <td>2021</td>\n      <td>Penske</td>\n      <td>1</td>\n      <td>Ford</td>\n      <td>0</td>\n      <td>31</td>\n      <td>Talladega</td>\n      <td>Superspeedway</td>\n      <td>1.846</td>\n      <td>49.859</td>\n      <td>51.016</td>\n      <td>50.863</td>\n      <td>-1.378581</td>\n      <td>-0.354080</td>\n      <td>-0.210813</td>\n      <td>22.0</td>\n      <td>14.0</td>\n      <td>15.0</td>\n    </tr>\n    <tr>\n      <th>1176</th>\n      <td>Brad Keselowski</td>\n      <td>2</td>\n      <td>2</td>\n      <td>25</td>\n      <td>20</td>\n      <td>18.8</td>\n      <td>-10</td>\n      <td>90</td>\n      <td>100</td>\n      <td>9</td>\n      <td>10.00</td>\n      <td>0</td>\n      <td>26</td>\n      <td>23.9</td>\n      <td>0</td>\n      <td>0.0</td>\n      <td>109</td>\n      <td>67.5</td>\n      <td>21</td>\n      <td>30</td>\n      <td>2021</td>\n      <td>Penske</td>\n      <td>1</td>\n      <td>Ford</td>\n      <td>0</td>\n      <td>32</td>\n      <td>Charlotte RC</td>\n      <td>Road Course</td>\n      <td>0.083</td>\n      <td>84.493</td>\n      <td>87.182</td>\n      <td>87.078</td>\n      <td>-1.311766</td>\n      <td>-1.134518</td>\n      <td>-1.506073</td>\n      <td>13.0</td>\n      <td>14.0</td>\n      <td>16.0</td>\n    </tr>\n    <tr>\n      <th>1198</th>\n      <td>Brad Keselowski</td>\n      <td>2</td>\n      <td>7</td>\n      <td>8</td>\n      <td>4</td>\n      <td>7.9</td>\n      <td>12</td>\n      <td>76</td>\n      <td>64</td>\n      <td>62</td>\n      <td>81.58</td>\n      <td>11</td>\n      <td>279</td>\n      <td>83.5</td>\n      <td>0</td>\n      <td>0.0</td>\n      <td>334</td>\n      <td>101.0</td>\n      <td>40</td>\n      <td>31</td>\n      <td>2021</td>\n      <td>Penske</td>\n      <td>1</td>\n      <td>Ford</td>\n      <td>0</td>\n      <td>33</td>\n      <td>Texas</td>\n      <td>Speedway</td>\n      <td>0.186</td>\n      <td>28.993</td>\n      <td>29.593</td>\n      <td>29.618</td>\n      <td>-0.210839</td>\n      <td>-1.075893</td>\n      <td>-1.047388</td>\n      <td>4.0</td>\n      <td>9.0</td>\n      <td>9.0</td>\n    </tr>\n    <tr>\n      <th>1249</th>\n      <td>Brad Keselowski</td>\n      <td>2</td>\n      <td>3</td>\n      <td>22</td>\n      <td>17</td>\n      <td>22.5</td>\n      <td>-12</td>\n      <td>61</td>\n      <td>73</td>\n      <td>11</td>\n      <td>18.03</td>\n      <td>12</td>\n      <td>36</td>\n      <td>13.5</td>\n      <td>2</td>\n      <td>0.8</td>\n      <td>266</td>\n      <td>68.7</td>\n      <td>20</td>\n      <td>32</td>\n      <td>2021</td>\n      <td>Penske</td>\n      <td>1</td>\n      <td>Ford</td>\n      <td>0</td>\n      <td>34</td>\n      <td>Kansas</td>\n      <td>Speedway</td>\n      <td>0.041</td>\n      <td>30.932</td>\n      <td>32.038</td>\n      <td>32.016</td>\n      <td>-1.273614</td>\n      <td>-1.437437</td>\n      <td>-1.150006</td>\n      <td>15.0</td>\n      <td>13.0</td>\n      <td>13.0</td>\n    </tr>\n    <tr>\n      <th>1274</th>\n      <td>Brad Keselowski</td>\n      <td>2</td>\n      <td>6</td>\n      <td>9</td>\n      <td>3</td>\n      <td>6.9</td>\n      <td>8</td>\n      <td>50</td>\n      <td>42</td>\n      <td>49</td>\n      <td>98.00</td>\n      <td>8</td>\n      <td>501</td>\n      <td>100.0</td>\n      <td>0</td>\n      <td>0.0</td>\n      <td>501</td>\n      <td>108.5</td>\n      <td>43</td>\n      <td>33</td>\n      <td>2021</td>\n      <td>Penske</td>\n      <td>1</td>\n      <td>Ford</td>\n      <td>0</td>\n      <td>35</td>\n      <td>Martinsville</td>\n      <td>Short Track</td>\n      <td>0.098</td>\n      <td>19.983</td>\n      <td>21.058</td>\n      <td>20.830</td>\n      <td>-0.807143</td>\n      <td>-0.549109</td>\n      <td>-0.487240</td>\n      <td>5.0</td>\n      <td>6.0</td>\n      <td>5.0</td>\n    </tr>\n    <tr>\n      <th>1318</th>\n      <td>Brad Keselowski</td>\n      <td>2</td>\n      <td>11</td>\n      <td>3</td>\n      <td>10</td>\n      <td>12.4</td>\n      <td>-7</td>\n      <td>76</td>\n      <td>83</td>\n      <td>57</td>\n      <td>75.00</td>\n      <td>5</td>\n      <td>223</td>\n      <td>71.5</td>\n      <td>0</td>\n      <td>0.0</td>\n      <td>312</td>\n      <td>87.8</td>\n      <td>31</td>\n      <td>34</td>\n      <td>2021</td>\n      <td>Penske</td>\n      <td>1</td>\n      <td>Ford</td>\n      <td>0</td>\n      <td>36</td>\n      <td>Phoenix</td>\n      <td>Short Track</td>\n      <td>0.183</td>\n      <td>27.230</td>\n      <td>28.594</td>\n      <td>28.415</td>\n      <td>-1.513570</td>\n      <td>-2.252897</td>\n      <td>-1.445912</td>\n      <td>8.0</td>\n      <td>12.0</td>\n      <td>12.0</td>\n    </tr>\n    <tr>\n      <th>1355</th>\n      <td>Brad Keselowski</td>\n      <td>6</td>\n      <td>3</td>\n      <td>5</td>\n      <td>9</td>\n      <td>4.8</td>\n      <td>1</td>\n      <td>171</td>\n      <td>170</td>\n      <td>148</td>\n      <td>86.50</td>\n      <td>4</td>\n      <td>198</td>\n      <td>98.5</td>\n      <td>67</td>\n      <td>33.3</td>\n      <td>201</td>\n      <td>121.3</td>\n      <td>54</td>\n      <td>1</td>\n      <td>2022</td>\n      <td>RFK</td>\n      <td>1</td>\n      <td>Ford</td>\n      <td>1</td>\n      <td>1</td>\n      <td>Daytona</td>\n      <td>Superspeedway</td>\n      <td>0.736</td>\n      <td>46.070</td>\n      <td>47.084</td>\n      <td>46.987</td>\n      <td>-0.442584</td>\n      <td>-0.048873</td>\n      <td>-0.061757</td>\n      <td>9.0</td>\n      <td>6.0</td>\n      <td>4.0</td>\n    </tr>\n    <tr>\n      <th>1409</th>\n      <td>Brad Keselowski</td>\n      <td>6</td>\n      <td>9</td>\n      <td>11</td>\n      <td>27</td>\n      <td>19.2</td>\n      <td>13</td>\n      <td>78</td>\n      <td>65</td>\n      <td>32</td>\n      <td>41.03</td>\n      <td>0</td>\n      <td>68</td>\n      <td>34.0</td>\n      <td>0</td>\n      <td>0.0</td>\n      <td>198</td>\n      <td>61.0</td>\n      <td>10</td>\n      <td>2</td>\n      <td>2022</td>\n      <td>RFK</td>\n      <td>1</td>\n      <td>Ford</td>\n      <td>0</td>\n      <td>2</td>\n      <td>Auto Club</td>\n      <td>Speedway</td>\n      <td>0.162</td>\n      <td>42.033</td>\n      <td>44.207</td>\n      <td>43.687</td>\n      <td>-1.492213</td>\n      <td>-2.019293</td>\n      <td>-1.680438</td>\n      <td>15.0</td>\n      <td>18.0</td>\n      <td>17.0</td>\n    </tr>\n    <tr>\n      <th>1440</th>\n      <td>Brad Keselowski</td>\n      <td>6</td>\n      <td>15</td>\n      <td>33</td>\n      <td>24</td>\n      <td>24.7</td>\n      <td>-5</td>\n      <td>66</td>\n      <td>71</td>\n      <td>14</td>\n      <td>21.21</td>\n      <td>2</td>\n      <td>51</td>\n      <td>18.6</td>\n      <td>3</td>\n      <td>1.1</td>\n      <td>273</td>\n      <td>58.3</td>\n      <td>13</td>\n      <td>3</td>\n      <td>2022</td>\n      <td>RFK</td>\n      <td>1</td>\n      <td>Ford</td>\n      <td>2</td>\n      <td>3</td>\n      <td>Las Vegas</td>\n      <td>Speedway</td>\n      <td>0.051</td>\n      <td>29.915</td>\n      <td>31.438</td>\n      <td>31.262</td>\n      <td>-0.968678</td>\n      <td>-1.998572</td>\n      <td>-1.780889</td>\n      <td>12.0</td>\n      <td>22.0</td>\n      <td>22.0</td>\n    </tr>\n    <tr>\n      <th>1476</th>\n      <td>Brad Keselowski</td>\n      <td>6</td>\n      <td>18</td>\n      <td>26</td>\n      <td>23</td>\n      <td>24.5</td>\n      <td>-20</td>\n      <td>45</td>\n      <td>65</td>\n      <td>1</td>\n      <td>2.22</td>\n      <td>0</td>\n      <td>0</td>\n      <td>0.0</td>\n      <td>0</td>\n      <td>0.0</td>\n      <td>311</td>\n      <td>43.3</td>\n      <td>14</td>\n      <td>4</td>\n      <td>2022</td>\n      <td>RFK</td>\n      <td>1</td>\n      <td>Ford</td>\n      <td>3</td>\n      <td>4</td>\n      <td>Phoenix</td>\n      <td>Short Track</td>\n      <td>0.003</td>\n      <td>28.299</td>\n      <td>29.055</td>\n      <td>29.005</td>\n      <td>-2.770918</td>\n      <td>-2.176818</td>\n      <td>-2.256302</td>\n      <td>29.0</td>\n      <td>28.0</td>\n      <td>30.0</td>\n    </tr>\n    <tr>\n      <th>1499</th>\n      <td>Brad Keselowski</td>\n      <td>6</td>\n      <td>24</td>\n      <td>10</td>\n      <td>12</td>\n      <td>18.5</td>\n      <td>11</td>\n      <td>209</td>\n      <td>198</td>\n      <td>145</td>\n      <td>69.38</td>\n      <td>9</td>\n      <td>174</td>\n      <td>53.5</td>\n      <td>0</td>\n      <td>0.0</td>\n      <td>325</td>\n      <td>64.6</td>\n      <td>31</td>\n      <td>5</td>\n      <td>2022</td>\n      <td>RFK</td>\n      <td>1</td>\n      <td>Ford</td>\n      <td>4</td>\n      <td>5</td>\n      <td>Atlanta</td>\n      <td>Superpeedway</td>\n      <td>0.446</td>\n      <td>29.725</td>\n      <td>30.371</td>\n      <td>30.307</td>\n      <td>-0.656937</td>\n      <td>-0.340293</td>\n      <td>-0.311124</td>\n      <td>19.0</td>\n      <td>19.0</td>\n      <td>23.0</td>\n    </tr>\n    <tr>\n      <th>1538</th>\n      <td>Brad Keselowski</td>\n      <td>6</td>\n      <td>26</td>\n      <td>30</td>\n      <td>14</td>\n      <td>27.6</td>\n      <td>45</td>\n      <td>111</td>\n      <td>66</td>\n      <td>5</td>\n      <td>4.50</td>\n      <td>0</td>\n      <td>4</td>\n      <td>5.8</td>\n      <td>0</td>\n      <td>0.0</td>\n      <td>69</td>\n      <td>52.2</td>\n      <td>23</td>\n      <td>6</td>\n      <td>2022</td>\n      <td>RFK</td>\n      <td>1</td>\n      <td>Ford</td>\n      <td>0</td>\n      <td>6</td>\n      <td>COTA</td>\n      <td>Road Course</td>\n      <td>0.072</td>\n      <td>135.153</td>\n      <td>139.210</td>\n      <td>138.755</td>\n      <td>-1.199542</td>\n      <td>-2.284333</td>\n      <td>-1.896117</td>\n      <td>25.0</td>\n      <td>20.0</td>\n      <td>29.0</td>\n    </tr>\n    <tr>\n      <th>1575</th>\n      <td>Brad Keselowski</td>\n      <td>6</td>\n      <td>19</td>\n      <td>12</td>\n      <td>13</td>\n      <td>12.9</td>\n      <td>7</td>\n      <td>139</td>\n      <td>132</td>\n      <td>73</td>\n      <td>52.52</td>\n      <td>10</td>\n      <td>284</td>\n      <td>71.0</td>\n      <td>0</td>\n      <td>0.0</td>\n      <td>400</td>\n      <td>89.5</td>\n      <td>27</td>\n      <td>7</td>\n      <td>2022</td>\n      <td>RFK</td>\n      <td>1</td>\n      <td>Ford</td>\n      <td>5</td>\n      <td>7</td>\n      <td>Richmond</td>\n      <td>Short Track</td>\n      <td>0.182</td>\n      <td>23.232</td>\n      <td>24.507</td>\n      <td>24.352</td>\n      <td>-1.436493</td>\n      <td>-0.282347</td>\n      <td>-0.271762</td>\n      <td>16.0</td>\n      <td>5.0</td>\n      <td>5.0</td>\n    </tr>\n    <tr>\n      <th>1615</th>\n      <td>Brad Keselowski</td>\n      <td>6</td>\n      <td>9</td>\n      <td>19</td>\n      <td>17</td>\n      <td>17.3</td>\n      <td>0</td>\n      <td>31</td>\n      <td>31</td>\n      <td>4</td>\n      <td>12.90</td>\n      <td>3</td>\n      <td>86</td>\n      <td>21.3</td>\n      <td>0</td>\n      <td>0.0</td>\n      <td>403</td>\n      <td>68.5</td>\n      <td>20</td>\n      <td>8</td>\n      <td>2022</td>\n      <td>RFK</td>\n      <td>1</td>\n      <td>Ford</td>\n      <td>6</td>\n      <td>8</td>\n      <td>Martinsville</td>\n      <td>Short Track</td>\n      <td>0.010</td>\n      <td>20.001</td>\n      <td>20.580</td>\n      <td>20.608</td>\n      <td>-0.852158</td>\n      <td>-0.429436</td>\n      <td>-0.723363</td>\n      <td>9.0</td>\n      <td>12.0</td>\n      <td>18.0</td>\n    </tr>\n    <tr>\n      <th>1644</th>\n      <td>Brad Keselowski</td>\n      <td>6</td>\n      <td>18</td>\n      <td>21</td>\n      <td>11</td>\n      <td>14.9</td>\n      <td>11</td>\n      <td>110</td>\n      <td>99</td>\n      <td>48</td>\n      <td>43.64</td>\n      <td>5</td>\n      <td>136</td>\n      <td>54.4</td>\n      <td>0</td>\n      <td>0.0</td>\n      <td>250</td>\n      <td>81.5</td>\n      <td>26</td>\n      <td>9</td>\n      <td>2022</td>\n      <td>RFK</td>\n      <td>1</td>\n      <td>Ford</td>\n      <td>7</td>\n      <td>9</td>\n      <td>Bristol</td>\n      <td>Short Track</td>\n      <td>0.192</td>\n      <td>19.757</td>\n      <td>20.646</td>\n      <td>20.368</td>\n      <td>-2.575152</td>\n      <td>-1.624335</td>\n      <td>-1.459527</td>\n      <td>19.0</td>\n      <td>21.0</td>\n      <td>14.0</td>\n    </tr>\n    <tr>\n      <th>1690</th>\n      <td>Brad Keselowski</td>\n      <td>6</td>\n      <td>15</td>\n      <td>20</td>\n      <td>23</td>\n      <td>21.1</td>\n      <td>-33</td>\n      <td>158</td>\n      <td>191</td>\n      <td>66</td>\n      <td>41.77</td>\n      <td>5</td>\n      <td>53</td>\n      <td>28.2</td>\n      <td>0</td>\n      <td>0.0</td>\n      <td>187</td>\n      <td>62.9</td>\n      <td>14</td>\n      <td>10</td>\n      <td>2022</td>\n      <td>RFK</td>\n      <td>1</td>\n      <td>Ford</td>\n      <td>8</td>\n      <td>10</td>\n      <td>Talladega</td>\n      <td>Superspeedway</td>\n      <td>0.353</td>\n      <td>49.065</td>\n      <td>50.601</td>\n      <td>50.690</td>\n      <td>-0.321011</td>\n      <td>-0.931504</td>\n      <td>-1.121130</td>\n      <td>2.0</td>\n      <td>27.0</td>\n      <td>29.0</td>\n    </tr>\n    <tr>\n      <th>1725</th>\n      <td>Brad Keselowski</td>\n      <td>6</td>\n      <td>20</td>\n      <td>23</td>\n      <td>20</td>\n      <td>15.9</td>\n      <td>-7</td>\n      <td>48</td>\n      <td>55</td>\n      <td>17</td>\n      <td>35.42</td>\n      <td>1</td>\n      <td>180</td>\n      <td>45.0</td>\n      <td>0</td>\n      <td>0.0</td>\n      <td>399</td>\n      <td>65.7</td>\n      <td>18</td>\n      <td>11</td>\n      <td>2022</td>\n      <td>RFK</td>\n      <td>1</td>\n      <td>Ford</td>\n      <td>9</td>\n      <td>11</td>\n      <td>Dover</td>\n      <td>Short Track</td>\n      <td>0.043</td>\n      <td>23.350</td>\n      <td>24.296</td>\n      <td>24.201</td>\n      <td>-2.542708</td>\n      <td>-1.444676</td>\n      <td>-1.378184</td>\n      <td>16.0</td>\n      <td>20.0</td>\n      <td>22.0</td>\n    </tr>\n    <tr>\n      <th>1775</th>\n      <td>Brad Keselowski</td>\n      <td>6</td>\n      <td>23</td>\n      <td>26</td>\n      <td>34</td>\n      <td>31.6</td>\n      <td>4</td>\n      <td>52</td>\n      <td>48</td>\n      <td>3</td>\n      <td>5.77</td>\n      <td>1</td>\n      <td>2</td>\n      <td>0.7</td>\n      <td>0</td>\n      <td>0.0</td>\n      <td>166</td>\n      <td>31.6</td>\n      <td>3</td>\n      <td>12</td>\n      <td>2022</td>\n      <td>RFK</td>\n      <td>1</td>\n      <td>Ford</td>\n      <td>10</td>\n      <td>12</td>\n      <td>Darlington</td>\n      <td>Speedway</td>\n      <td>0.018</td>\n      <td>29.735</td>\n      <td>31.196</td>\n      <td>31.095</td>\n      <td>-2.672560</td>\n      <td>-1.837887</td>\n      <td>-2.118227</td>\n      <td>21.0</td>\n      <td>26.0</td>\n      <td>30.0</td>\n    </tr>\n    <tr>\n      <th>1790</th>\n      <td>Brad Keselowski</td>\n      <td>6</td>\n      <td>30</td>\n      <td>9</td>\n      <td>14</td>\n      <td>17.1</td>\n      <td>-12</td>\n      <td>81</td>\n      <td>93</td>\n      <td>31</td>\n      <td>38.27</td>\n      <td>0</td>\n      <td>155</td>\n      <td>58.1</td>\n      <td>0</td>\n      <td>0.0</td>\n      <td>267</td>\n      <td>70.3</td>\n      <td>23</td>\n      <td>13</td>\n      <td>2022</td>\n      <td>RFK</td>\n      <td>1</td>\n      <td>Ford</td>\n      <td>11</td>\n      <td>13</td>\n      <td>Kansas</td>\n      <td>Speedway</td>\n      <td>0.116</td>\n      <td>30.807</td>\n      <td>32.131</td>\n      <td>32.050</td>\n      <td>-2.474803</td>\n      <td>-1.847978</td>\n      <td>-1.956418</td>\n      <td>16.0</td>\n      <td>17.0</td>\n      <td>17.0</td>\n    </tr>\n  </tbody>\n</table>\n</div>"
     },
     "metadata": {}
    }
   ]
  },
  {
   "cell_type": "markdown",
   "source": "<a style='text-decoration:none;line-height:16px;display:flex;color:#5B5B62;padding:10px;justify-content:end;' href='https://deepnote.com?utm_source=created-in-deepnote-cell&projectId=9ef4eb23-f38f-47e8-bfb0-51d8616b0dee' target=\"_blank\">\n<img alt='Created in deepnote.com' style='display:inline;max-height:16px;margin:0px;margin-right:7.5px;' src='data:image/svg+xml;base64,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' > </img>\nCreated in <span style='font-weight:600;margin-left:4px;'>Deepnote</span></a>",
   "metadata": {
    "tags": [],
    "created_in_deepnote_cell": true,
    "deepnote_cell_type": "markdown"
   }
  }
 ],
 "nbformat": 4,
 "nbformat_minor": 2,
 "metadata": {
  "orig_nbformat": 2,
  "deepnote": {},
  "deepnote_notebook_id": "06f81363-08dc-41a6-b693-744df2d0200c",
  "deepnote_execution_queue": []
 }
}