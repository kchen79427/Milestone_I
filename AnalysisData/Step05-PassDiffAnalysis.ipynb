{
 "cells": [
  {
   "cell_type": "code",
   "metadata": {
    "tags": [],
    "deepnote_to_be_reexecuted": false,
    "source_hash": "946e7203",
    "execution_start": 1653428902087,
    "execution_millis": 5286,
    "cell_id": "b9fcde59-4391-4f14-8682-608bd1a6c42b",
    "deepnote_cell_type": "code",
    "deepnote_cell_height": 206.5625
   },
   "source": "#!pip install altair\n\n#install for plotly to save images\n! pip install -U kaleido  ",
   "execution_count": 1,
   "outputs": [
    {
     "name": "stdout",
     "text": "Requirement already up-to-date: kaleido in /root/venv/lib/python3.7/site-packages (0.2.1)\n\u001b[33mWARNING: You are using pip version 20.1.1; however, version 22.1.1 is available.\nYou should consider upgrading via the '/root/venv/bin/python -m pip install --upgrade pip' command.\u001b[0m\n",
     "output_type": "stream"
    }
   ]
  },
  {
   "cell_type": "code",
   "metadata": {
    "tags": [],
    "deepnote_to_be_reexecuted": false,
    "source_hash": "82c5f41b",
    "execution_start": 1653428907383,
    "execution_millis": 2878,
    "cell_id": "00001-58838b4b-b1ee-435c-a8c3-58a7db3f32db",
    "deepnote_cell_type": "code",
    "deepnote_cell_height": 297
   },
   "source": "import pandas as pd\nimport altair as alt\nfrom altair import datum\npd.set_option('max_columns', None)\nimport numpy as np\nimport seaborn as sns\nimport matplotlib.pyplot as plt\n#from pandasql import sqldf\n\n\nimport plotly.express as px\nfrom plotly.subplots import make_subplots\nimport plotly.graph_objects as go",
   "execution_count": 2,
   "outputs": []
  },
  {
   "cell_type": "code",
   "metadata": {
    "tags": [],
    "deepnote_to_be_reexecuted": false,
    "source_hash": "45c4a4d",
    "execution_start": 1653428910273,
    "execution_millis": 88,
    "cell_id": "00002-d195cc49-52e9-453c-ad19-f7c40903a60b",
    "owner_user_id": "dbcfdc03-cb41-42df-88d8-3fffbb8930b7",
    "deepnote_cell_type": "code",
    "deepnote_cell_height": 297
   },
   "source": "# Bring in the pickled files\n# if any of the pickle files cannot be reached, please update the directories\n# to the download loaction of the zip then navigate to data/Races_Combined\n\nallraces21 = pd.read_pickle(\"/work/Milestone_I/data/Races_Combined/allraces_21.pkl\")\nallraces22 = pd.read_pickle(\"/work/Milestone_I/data/Races_Combined/allraces_22.pkl\")\n\nsameraces21 = pd.read_pickle(\"/work/Milestone_I/data/Races_Combined/sameraces_21.pkl\")\nsameraces22 = pd.read_pickle(\"/work/Milestone_I/data/Races_Combined/sameraces_22.pkl\")\nsameraces21_22 = pd.read_pickle(\"/work/Milestone_I/data/Races_Combined/sameraces_21_22.pkl\")\nallraces21_22 = pd.concat([allraces21, allraces22], ignore_index=True)\n\n",
   "execution_count": 3,
   "outputs": []
  },
  {
   "cell_type": "code",
   "metadata": {
    "tags": [],
    "deepnote_to_be_reexecuted": false,
    "source_hash": "84e69470",
    "execution_start": 1653428910387,
    "execution_millis": 0,
    "cell_id": "00003-b4aef271-798c-4fd5-8a0c-8a79f5aeb9ad",
    "deepnote_cell_type": "code",
    "deepnote_cell_height": 99
   },
   "source": "#print(len(reviewdf21_22.Track.unique()))\n#allraces21_22.Track.unique()",
   "execution_count": 4,
   "outputs": []
  },
  {
   "cell_type": "code",
   "metadata": {
    "tags": [],
    "deepnote_to_be_reexecuted": false,
    "source_hash": "1747e1d1",
    "execution_start": 1653428910387,
    "execution_millis": 0,
    "cell_id": "00004-3829a4b6-2b3b-4524-809b-76b9d9a66408",
    "deepnote_cell_type": "code",
    "deepnote_cell_height": 171
   },
   "source": "#Copied and pasted the FT Drivers list in case we want to use that...\nFT_Drivers = ['Alex Bowman', 'Aric Almirola', 'Austin Dillon', 'Brad Keselowski', 'Bubba Wallace',\n 'Chase Briscoe', 'Chase Elliott', 'Chris Buescher', 'Christopher Bell', 'Cody Ware',\n 'Cole Custer', 'Daniel Suárez', 'Denny Hamlin', 'Erik Jones', 'Joey Logano', 'Justin Haley',\n 'Kevin Harvick', 'Kurt Busch', 'Kyle Busch', 'Kyle Larson', 'Martin Truex Jr.', 'Michael McDowell',\n 'Ricky Stenhouse Jr.', 'Ross Chastain', 'Ryan Blaney', 'Tyler Reddick', 'William Byron']",
   "execution_count": 5,
   "outputs": []
  },
  {
   "cell_type": "markdown",
   "source": "Lets do this by pass differential and not total number of passes. The pass differential might be better to look at based on driver within team.",
   "metadata": {
    "tags": [],
    "cell_id": "00005-86b7808f-ab53-4b8d-a126-5b6bf00e3665",
    "deepnote_cell_type": "markdown",
    "deepnote_cell_height": 74.78125
   }
  },
  {
   "cell_type": "code",
   "metadata": {
    "tags": [],
    "deepnote_to_be_reexecuted": false,
    "source_hash": "6625564f",
    "execution_start": 1653428910426,
    "execution_millis": 25,
    "deepnote_table_state": {
     "pageSize": 25,
     "pageIndex": 0,
     "filters": [],
     "sortBy": []
    },
    "deepnote_table_loading": false,
    "cell_id": "00006-d27fc792-ec98-4855-8009-0404d7e25d2b",
    "deepnote_cell_type": "code",
    "deepnote_cell_height": 316.1875,
    "deepnote_output_heights": [
     21.1875
    ]
   },
   "source": "FTdriver_races21 = sameraces21[sameraces21['Driver'].isin(FT_Drivers)]\nFTdriver_races22 = sameraces22[sameraces22['Driver'].isin(FT_Drivers)]\n\nDriversPerTeam21 = FTdriver_races21.groupby(['Team','Driver']).size().reset_index().rename(columns={0:'count'})\nDriversPerTeam22 = FTdriver_races22.groupby(['Team','Driver']).size().reset_index().rename(columns={0:'count'})\n\nTeamFTDrivers21_22 = pd.merge(DriversPerTeam21, DriversPerTeam22, on = ['Team','Driver'])\nDriversPerTeam21_22 = TeamFTDrivers21_22.groupby(['Team'])[['Driver']].count().reset_index()\n\n#Teams for Analysis - Only those with more than one FT driver\nteamsFT_21_22 = DriversPerTeam21_22[DriversPerTeam21_22['Driver'] > 1]['Team'].tolist()\nteamsFT_21_22",
   "execution_count": 6,
   "outputs": [
    {
     "output_type": "execute_result",
     "execution_count": 6,
     "data": {
      "text/plain": "['Hendrick', 'JGR', 'Penske', 'RCR', 'SHR']"
     },
     "metadata": {}
    }
   ]
  },
  {
   "cell_type": "code",
   "metadata": {
    "tags": [],
    "deepnote_to_be_reexecuted": false,
    "source_hash": "f0b2c8fd",
    "cell_id": "00007-b70a7edd-4991-4580-b41e-f7ae9d8b107d",
    "execution_start": 1653428910507,
    "execution_millis": 0,
    "deepnote_cell_type": "code",
    "deepnote_cell_height": 99
   },
   "source": "DriversPerTeam21 = FTdriver_races21.groupby(['Team','Driver']).size().reset_index().rename(columns={0:'count'})\nDriversPerTeam22 = FTdriver_races22.groupby(['Team','Driver']).size().reset_index().rename(columns={0:'count'})",
   "execution_count": 7,
   "outputs": []
  },
  {
   "cell_type": "markdown",
   "source": "We now have our FT Drivers and the teams with more than one FT Driver.  We'll use both lists since if we only use the teams list we'd get moret than FT drivers and vice versa.",
   "metadata": {
    "tags": [],
    "cell_id": "00008-5b1414ac-b5ad-4bfe-8464-d38fa8e250ea",
    "deepnote_cell_type": "markdown",
    "deepnote_cell_height": 74.78125
   }
  },
  {
   "cell_type": "code",
   "metadata": {
    "tags": [],
    "deepnote_to_be_reexecuted": false,
    "source_hash": "948970e3",
    "execution_start": 1653428910507,
    "execution_millis": 1,
    "cell_id": "00009-8ce99087-ec38-439a-ab97-600324f69595",
    "deepnote_cell_type": "code",
    "deepnote_cell_height": 117
   },
   "source": "reviewdf21_22 = sameraces21_22[(sameraces21_22['Driver'].isin(FT_Drivers)) & (sameraces21_22['Team'].isin(teamsFT_21_22))]\n#reviewdf21_22\n",
   "execution_count": 8,
   "outputs": []
  },
  {
   "cell_type": "code",
   "metadata": {
    "tags": [],
    "deepnote_to_be_reexecuted": false,
    "source_hash": "7e2bda4e",
    "execution_start": 1653428910508,
    "execution_millis": 2,
    "cell_id": "00010-e527b101-bc1f-4a42-8b29-7cda6a1b8a99",
    "deepnote_cell_type": "code",
    "deepnote_cell_height": 136.1875,
    "deepnote_output_heights": [
     21.1875
    ]
   },
   "source": "# Just checking...\nreviewdf21_22['Team'].unique()",
   "execution_count": 9,
   "outputs": [
    {
     "output_type": "execute_result",
     "execution_count": 9,
     "data": {
      "text/plain": "array(['Hendrick', 'RCR', 'SHR', 'JGR', 'Penske'], dtype=object)"
     },
     "metadata": {}
    }
   ]
  },
  {
   "cell_type": "markdown",
   "source": "",
   "metadata": {
    "tags": [],
    "cell_id": "00011-e2b0e8da-4ff3-404c-bc1f-f6f6456577ea",
    "deepnote_cell_type": "markdown",
    "deepnote_cell_height": 46
   }
  },
  {
   "cell_type": "code",
   "metadata": {
    "tags": [],
    "deepnote_to_be_reexecuted": false,
    "source_hash": "7a06283b",
    "execution_start": 1653428910552,
    "execution_millis": 1,
    "cell_id": "00012-27e2f420-763b-4f35-bf96-662a7e0bdce4",
    "deepnote_cell_type": "code",
    "deepnote_cell_height": 99
   },
   "source": "passdiff_yoy_driver = reviewdf21_22.groupby(['Season','Team','Driver'])[['Pass Differential']].mean().reset_index()\n",
   "execution_count": 10,
   "outputs": []
  },
  {
   "cell_type": "code",
   "metadata": {
    "tags": [],
    "deepnote_to_be_reexecuted": false,
    "source_hash": "142346b5",
    "execution_start": 1653428910553,
    "execution_millis": 3,
    "cell_id": "00013-279d08c6-1dec-4e6c-bbab-cb509d1ac020",
    "deepnote_cell_type": "code",
    "deepnote_cell_height": 443.1875,
    "deepnote_output_heights": [
     328.1875
    ]
   },
   "source": "driver_order = passdiff_yoy_driver['Driver'].unique().tolist()\ndriver_order",
   "execution_count": 11,
   "outputs": [
    {
     "output_type": "execute_result",
     "execution_count": 11,
     "data": {
      "text/plain": "['Alex Bowman',\n 'Chase Elliott',\n 'Kyle Larson',\n 'William Byron',\n 'Christopher Bell',\n 'Denny Hamlin',\n 'Kyle Busch',\n 'Martin Truex Jr.',\n 'Brad Keselowski',\n 'Joey Logano',\n 'Ryan Blaney',\n 'Austin Dillon',\n 'Tyler Reddick',\n 'Aric Almirola',\n 'Chase Briscoe',\n 'Cole Custer',\n 'Kevin Harvick']"
     },
     "metadata": {}
    }
   ]
  },
  {
   "cell_type": "code",
   "metadata": {
    "tags": [],
    "deepnote_to_be_reexecuted": false,
    "source_hash": "7ad9bfb8",
    "execution_start": 1653428910554,
    "execution_millis": 41,
    "cell_id": "00014-3421c311-5aa7-4549-997c-8c7c37c76eef",
    "deepnote_cell_type": "code",
    "deepnote_cell_height": 99
   },
   "source": "passdiff_yoy_team = reviewdf21_22.groupby(['Season','Team'])[['Pass Differential']].mean().reset_index()\n#passdiff_yoy_team",
   "execution_count": 12,
   "outputs": []
  },
  {
   "cell_type": "code",
   "metadata": {
    "tags": [],
    "deepnote_to_be_reexecuted": false,
    "source_hash": "c920f24a",
    "execution_start": 1653428910595,
    "execution_millis": 0,
    "cell_id": "00015-57e4b457-9507-49ac-90e3-6bc19fe4bc12",
    "deepnote_cell_type": "code",
    "deepnote_cell_height": 621
   },
   "source": "#teamsFT_21_22\n# 2021\npassdiff21 = passdiff_yoy_driver[passdiff_yoy_driver['Season'] == 2021]\npassdiff22 = passdiff_yoy_driver[passdiff_yoy_driver['Season'] == 2022]\n\n# nascar_colors = ['#000000', '#FFD93D', '#FF0F27', '#FFFFFF', '#007DC8']\n\n# color_scale = alt.Scale(\n#             domain=(passdiff21.dropna().Team.min(),\n#                     0,\n#                     passdiff21.dropna().Team.max()),\n#             range=[nascar_colors[0], nascar_colors[len(nascar_colors) // 2], nascar_colors[-1]])\n\nbase = alt.Chart(passdiff21).encode(\n    x = alt.X('Driver:N', axis= alt.Axis(title=\"Driver\"), sort= driver_order),\n    y = alt.Y('Pass Differential:Q', axis=alt.Axis(format='.2', title = 'Pass Differential'))\n)\n\nbars = base.mark_bar().encode(\n    color = alt.Color('Team:N')\n)\n\ntext = base.mark_text(\n    align='center',\n    #dx = -1,\n    dy = -5\n).encode(\n    text=alt.Text('Pass Differential:Q', format = '.2')\n)\n\nchart21 = (bars+text).properties(height=300, width=300)",
   "execution_count": 13,
   "outputs": []
  },
  {
   "cell_type": "code",
   "metadata": {
    "tags": [],
    "deepnote_to_be_reexecuted": false,
    "source_hash": "53609eaf",
    "execution_start": 1653428910596,
    "execution_millis": 0,
    "cell_id": "00016-ae38c381-ac00-450e-9a9f-01d08bc9ddf2",
    "deepnote_cell_type": "code",
    "deepnote_cell_height": 423
   },
   "source": "# 2022\n\nbase = alt.Chart(passdiff22).encode(\n    x = alt.X('Driver:N', axis= alt.Axis(title=\"Driver\"), sort= driver_order),\n    y = alt.Y('Pass Differential:Q', axis=alt.Axis(format='.2', title = 'Pass Differential'))\n)\n\nbars = base.mark_bar().encode(\n    color = alt.Color('Team:N')\n)\n\ntext = base.mark_text(\n    align='center',\n    #dx = -1,\n    dy = -5\n).encode(\n    text=alt.Text('Pass Differential:Q', format = '.2')\n)\n\nchart22 = (bars+text).properties(height=300, width=300)",
   "execution_count": 14,
   "outputs": []
  },
  {
   "cell_type": "code",
   "metadata": {
    "tags": [],
    "deepnote_to_be_reexecuted": false,
    "source_hash": "293e01c1",
    "execution_start": 1653428910654,
    "execution_millis": 6,
    "cell_id": "00017-53ba946a-1ee1-453f-a2bf-bb6f566c094d",
    "deepnote_cell_type": "code",
    "deepnote_cell_height": 524,
    "deepnote_output_heights": [
     427
    ]
   },
   "source": "chart21 | chart22",
   "execution_count": 15,
   "outputs": [
    {
     "output_type": "execute_result",
     "execution_count": 15,
     "data": {
      "text/html": "\n<div id=\"altair-viz-f1d2ca6218b146c88ca9b72f2fa3a1c0\"></div>\n<script type=\"text/javascript\">\n  (function(spec, embedOpt){\n    let outputDiv = document.currentScript.previousElementSibling;\n    if (outputDiv.id !== \"altair-viz-f1d2ca6218b146c88ca9b72f2fa3a1c0\") {\n      outputDiv = document.getElementById(\"altair-viz-f1d2ca6218b146c88ca9b72f2fa3a1c0\");\n    }\n    const paths = {\n      \"vega\": \"https://cdn.jsdelivr.net/npm//vega@5?noext\",\n      \"vega-lib\": \"https://cdn.jsdelivr.net/npm//vega-lib?noext\",\n      \"vega-lite\": \"https://cdn.jsdelivr.net/npm//vega-lite@4.8.1?noext\",\n      \"vega-embed\": \"https://cdn.jsdelivr.net/npm//vega-embed@6?noext\",\n    };\n\n    function loadScript(lib) {\n      return new Promise(function(resolve, reject) {\n        var s = document.createElement('script');\n        s.src = paths[lib];\n        s.async = true;\n        s.onload = () => resolve(paths[lib]);\n        s.onerror = () => reject(`Error loading script: ${paths[lib]}`);\n        document.getElementsByTagName(\"head\")[0].appendChild(s);\n      });\n    }\n\n    function showError(err) {\n      outputDiv.innerHTML = `<div class=\"error\" style=\"color:red;\">${err}</div>`;\n      throw err;\n    }\n\n    function displayChart(vegaEmbed) {\n      vegaEmbed(outputDiv, spec, embedOpt)\n        .catch(err => showError(`Javascript Error: ${err.message}<br>This usually means there's a typo in your chart specification. See the javascript console for the full traceback.`));\n    }\n\n    if(typeof define === \"function\" && define.amd) {\n      requirejs.config({paths});\n      require([\"vega-embed\"], displayChart, err => showError(`Error loading script: ${err.message}`));\n    } else if (typeof vegaEmbed === \"function\") {\n      displayChart(vegaEmbed);\n    } else {\n      loadScript(\"vega\")\n        .then(() => loadScript(\"vega-lite\"))\n        .then(() => loadScript(\"vega-embed\"))\n        .catch(showError)\n        .then(() => displayChart(vegaEmbed));\n    }\n  })({\"config\": {\"view\": {\"continuousWidth\": 400, \"continuousHeight\": 300}}, \"hconcat\": [{\"layer\": [{\"mark\": \"bar\", \"encoding\": {\"color\": {\"type\": \"nominal\", \"field\": \"Team\"}, \"x\": {\"type\": \"nominal\", \"axis\": {\"title\": \"Driver\"}, \"field\": \"Driver\", \"sort\": [\"Alex Bowman\", \"Chase Elliott\", \"Kyle Larson\", \"William Byron\", \"Christopher Bell\", \"Denny Hamlin\", \"Kyle Busch\", \"Martin Truex Jr.\", \"Brad Keselowski\", \"Joey Logano\", \"Ryan Blaney\", \"Austin Dillon\", \"Tyler Reddick\", \"Aric Almirola\", \"Chase Briscoe\", \"Cole Custer\", \"Kevin Harvick\"]}, \"y\": {\"type\": \"quantitative\", \"axis\": {\"format\": \".2\", \"title\": \"Pass Differential\"}, \"field\": \"Pass Differential\"}}}, {\"mark\": {\"type\": \"text\", \"align\": \"center\", \"dy\": -5}, \"encoding\": {\"text\": {\"type\": \"quantitative\", \"field\": \"Pass Differential\", \"format\": \".2\"}, \"x\": {\"type\": \"nominal\", \"axis\": {\"title\": \"Driver\"}, \"field\": \"Driver\", \"sort\": [\"Alex Bowman\", \"Chase Elliott\", \"Kyle Larson\", \"William Byron\", \"Christopher Bell\", \"Denny Hamlin\", \"Kyle Busch\", \"Martin Truex Jr.\", \"Brad Keselowski\", \"Joey Logano\", \"Ryan Blaney\", \"Austin Dillon\", \"Tyler Reddick\", \"Aric Almirola\", \"Chase Briscoe\", \"Cole Custer\", \"Kevin Harvick\"]}, \"y\": {\"type\": \"quantitative\", \"axis\": {\"format\": \".2\", \"title\": \"Pass Differential\"}, \"field\": \"Pass Differential\"}}}], \"data\": {\"name\": \"data-8efee7ccd4d42c45be3f3b2a783f12f4\"}, \"height\": 300, \"width\": 300}, {\"layer\": [{\"mark\": \"bar\", \"encoding\": {\"color\": {\"type\": \"nominal\", \"field\": \"Team\"}, \"x\": {\"type\": \"nominal\", \"axis\": {\"title\": \"Driver\"}, \"field\": \"Driver\", \"sort\": [\"Alex Bowman\", \"Chase Elliott\", \"Kyle Larson\", \"William Byron\", \"Christopher Bell\", \"Denny Hamlin\", \"Kyle Busch\", \"Martin Truex Jr.\", \"Brad Keselowski\", \"Joey Logano\", \"Ryan Blaney\", \"Austin Dillon\", \"Tyler Reddick\", \"Aric Almirola\", \"Chase Briscoe\", \"Cole Custer\", \"Kevin Harvick\"]}, \"y\": {\"type\": \"quantitative\", \"axis\": {\"format\": \".2\", \"title\": \"Pass Differential\"}, \"field\": \"Pass Differential\"}}}, {\"mark\": {\"type\": \"text\", \"align\": \"center\", \"dy\": -5}, \"encoding\": {\"text\": {\"type\": \"quantitative\", \"field\": \"Pass Differential\", \"format\": \".2\"}, \"x\": {\"type\": \"nominal\", \"axis\": {\"title\": \"Driver\"}, \"field\": \"Driver\", \"sort\": [\"Alex Bowman\", \"Chase Elliott\", \"Kyle Larson\", \"William Byron\", \"Christopher Bell\", \"Denny Hamlin\", \"Kyle Busch\", \"Martin Truex Jr.\", \"Brad Keselowski\", \"Joey Logano\", \"Ryan Blaney\", \"Austin Dillon\", \"Tyler Reddick\", \"Aric Almirola\", \"Chase Briscoe\", \"Cole Custer\", \"Kevin Harvick\"]}, \"y\": {\"type\": \"quantitative\", \"axis\": {\"format\": \".2\", \"title\": \"Pass Differential\"}, \"field\": \"Pass Differential\"}}}], \"data\": {\"name\": \"data-02b27fffec05dea02b3f9f022183ea2b\"}, \"height\": 300, \"width\": 300}], \"$schema\": \"https://vega.github.io/schema/vega-lite/v4.8.1.json\", \"datasets\": {\"data-8efee7ccd4d42c45be3f3b2a783f12f4\": [{\"Season\": 2021, \"Team\": \"Hendrick\", \"Driver\": \"Alex Bowman\", \"Pass Differential\": 4.545454545454546}, {\"Season\": 2021, \"Team\": \"Hendrick\", \"Driver\": \"Chase Elliott\", \"Pass Differential\": 15.272727272727273}, {\"Season\": 2021, \"Team\": \"Hendrick\", \"Driver\": \"Kyle Larson\", \"Pass Differential\": 10.909090909090908}, {\"Season\": 2021, \"Team\": \"Hendrick\", \"Driver\": \"William Byron\", \"Pass Differential\": 4.454545454545454}, {\"Season\": 2021, \"Team\": \"JGR\", \"Driver\": \"Christopher Bell\", \"Pass Differential\": 5.090909090909091}, {\"Season\": 2021, \"Team\": \"JGR\", \"Driver\": \"Denny Hamlin\", \"Pass Differential\": 0.2727272727272727}, {\"Season\": 2021, \"Team\": \"JGR\", \"Driver\": \"Kyle Busch\", \"Pass Differential\": 5.545454545454546}, {\"Season\": 2021, \"Team\": \"JGR\", \"Driver\": \"Martin Truex Jr.\", \"Pass Differential\": 5.909090909090909}, {\"Season\": 2021, \"Team\": \"Penske\", \"Driver\": \"Brad Keselowski\", \"Pass Differential\": 1.3636363636363635}, {\"Season\": 2021, \"Team\": \"Penske\", \"Driver\": \"Joey Logano\", \"Pass Differential\": -0.09090909090909091}, {\"Season\": 2021, \"Team\": \"Penske\", \"Driver\": \"Ryan Blaney\", \"Pass Differential\": 1.9090909090909092}, {\"Season\": 2021, \"Team\": \"RCR\", \"Driver\": \"Austin Dillon\", \"Pass Differential\": -1.4545454545454546}, {\"Season\": 2021, \"Team\": \"RCR\", \"Driver\": \"Tyler Reddick\", \"Pass Differential\": 2.727272727272727}, {\"Season\": 2021, \"Team\": \"SHR\", \"Driver\": \"Aric Almirola\", \"Pass Differential\": -0.6363636363636364}, {\"Season\": 2021, \"Team\": \"SHR\", \"Driver\": \"Chase Briscoe\", \"Pass Differential\": -0.45454545454545453}, {\"Season\": 2021, \"Team\": \"SHR\", \"Driver\": \"Cole Custer\", \"Pass Differential\": -2.909090909090909}, {\"Season\": 2021, \"Team\": \"SHR\", \"Driver\": \"Kevin Harvick\", \"Pass Differential\": 2.4545454545454546}], \"data-02b27fffec05dea02b3f9f022183ea2b\": [{\"Season\": 2022, \"Team\": \"Hendrick\", \"Driver\": \"Alex Bowman\", \"Pass Differential\": 10.363636363636363}, {\"Season\": 2022, \"Team\": \"Hendrick\", \"Driver\": \"Chase Elliott\", \"Pass Differential\": 12.363636363636363}, {\"Season\": 2022, \"Team\": \"Hendrick\", \"Driver\": \"Kyle Larson\", \"Pass Differential\": 12.363636363636363}, {\"Season\": 2022, \"Team\": \"Hendrick\", \"Driver\": \"William Byron\", \"Pass Differential\": 1.0}, {\"Season\": 2022, \"Team\": \"JGR\", \"Driver\": \"Christopher Bell\", \"Pass Differential\": 7.636363636363637}, {\"Season\": 2022, \"Team\": \"JGR\", \"Driver\": \"Denny Hamlin\", \"Pass Differential\": 18.636363636363637}, {\"Season\": 2022, \"Team\": \"JGR\", \"Driver\": \"Kyle Busch\", \"Pass Differential\": 10.818181818181818}, {\"Season\": 2022, \"Team\": \"JGR\", \"Driver\": \"Martin Truex Jr.\", \"Pass Differential\": 3.2}, {\"Season\": 2022, \"Team\": \"Penske\", \"Driver\": \"Joey Logano\", \"Pass Differential\": 2.909090909090909}, {\"Season\": 2022, \"Team\": \"Penske\", \"Driver\": \"Ryan Blaney\", \"Pass Differential\": 4.636363636363637}, {\"Season\": 2022, \"Team\": \"RCR\", \"Driver\": \"Austin Dillon\", \"Pass Differential\": -12.272727272727273}, {\"Season\": 2022, \"Team\": \"RCR\", \"Driver\": \"Tyler Reddick\", \"Pass Differential\": 0.2727272727272727}, {\"Season\": 2022, \"Team\": \"SHR\", \"Driver\": \"Aric Almirola\", \"Pass Differential\": -6.545454545454546}, {\"Season\": 2022, \"Team\": \"SHR\", \"Driver\": \"Chase Briscoe\", \"Pass Differential\": -0.18181818181818182}, {\"Season\": 2022, \"Team\": \"SHR\", \"Driver\": \"Cole Custer\", \"Pass Differential\": -12.818181818181818}, {\"Season\": 2022, \"Team\": \"SHR\", \"Driver\": \"Kevin Harvick\", \"Pass Differential\": 0.2727272727272727}]}}, {\"mode\": \"vega-lite\"});\n</script>",
      "text/plain": "alt.HConcatChart(...)"
     },
     "metadata": {}
    }
   ]
  },
  {
   "cell_type": "code",
   "metadata": {
    "tags": [],
    "deepnote_to_be_reexecuted": false,
    "source_hash": "43d66474",
    "execution_start": 1653428910690,
    "execution_millis": 24,
    "deepnote_table_state": {
     "pageSize": 10,
     "pageIndex": 0,
     "filters": [],
     "sortBy": []
    },
    "deepnote_table_loading": false,
    "cell_id": "00018-0102bc50-4c09-4294-8e0f-7a0fb69cbf3a",
    "deepnote_cell_type": "code",
    "deepnote_cell_height": 636
   },
   "source": "# passdiff21 = passdiff_yoy_driver[passdiff_yoy_driver['Season'] == 2021]\n# passdiff22 = passdiff_yoy_driver[passdiff_yoy_driver['Season'] == 2022]\npassdiff22",
   "execution_count": 16,
   "outputs": [
    {
     "output_type": "execute_result",
     "execution_count": 16,
     "data": {
      "application/vnd.deepnote.dataframe.v3+json": {
       "column_count": 4,
       "row_count": 16,
       "columns": [
        {
         "name": "Season",
         "dtype": "int64",
         "stats": {
          "unique_count": 1,
          "nan_count": 0,
          "min": "2022",
          "max": "2022",
          "histogram": [
           {
            "bin_start": 2021.5,
            "bin_end": 2021.6,
            "count": 0
           },
           {
            "bin_start": 2021.6,
            "bin_end": 2021.7,
            "count": 0
           },
           {
            "bin_start": 2021.7,
            "bin_end": 2021.8,
            "count": 0
           },
           {
            "bin_start": 2021.8,
            "bin_end": 2021.9,
            "count": 0
           },
           {
            "bin_start": 2021.9,
            "bin_end": 2022,
            "count": 0
           },
           {
            "bin_start": 2022,
            "bin_end": 2022.1,
            "count": 16
           },
           {
            "bin_start": 2022.1,
            "bin_end": 2022.2,
            "count": 0
           },
           {
            "bin_start": 2022.2,
            "bin_end": 2022.3,
            "count": 0
           },
           {
            "bin_start": 2022.3,
            "bin_end": 2022.4,
            "count": 0
           },
           {
            "bin_start": 2022.4,
            "bin_end": 2022.5,
            "count": 0
           }
          ]
         }
        },
        {
         "name": "Team",
         "dtype": "object",
         "stats": {
          "unique_count": 5,
          "nan_count": 0,
          "categories": [
           {
            "name": "Hendrick",
            "count": 4
           },
           {
            "name": "JGR",
            "count": 4
           },
           {
            "name": "3 others",
            "count": 8
           }
          ]
         }
        },
        {
         "name": "Driver",
         "dtype": "object",
         "stats": {
          "unique_count": 16,
          "nan_count": 0,
          "categories": [
           {
            "name": "Alex Bowman",
            "count": 1
           },
           {
            "name": "Chase Elliott",
            "count": 1
           },
           {
            "name": "14 others",
            "count": 14
           }
          ]
         }
        },
        {
         "name": "Pass Differential",
         "dtype": "float64",
         "stats": {
          "unique_count": 14,
          "nan_count": 0,
          "min": "-12.818181818181818",
          "max": "18.636363636363637",
          "histogram": [
           {
            "bin_start": -12.818181818181818,
            "bin_end": -9.672727272727272,
            "count": 2
           },
           {
            "bin_start": -9.672727272727272,
            "bin_end": -6.527272727272727,
            "count": 1
           },
           {
            "bin_start": -6.527272727272727,
            "bin_end": -3.381818181818181,
            "count": 0
           },
           {
            "bin_start": -3.381818181818181,
            "bin_end": -0.23636363636363633,
            "count": 0
           },
           {
            "bin_start": -0.23636363636363633,
            "bin_end": 2.9090909090909083,
            "count": 4
           },
           {
            "bin_start": 2.9090909090909083,
            "bin_end": 6.0545454545454565,
            "count": 3
           },
           {
            "bin_start": 6.0545454545454565,
            "bin_end": 9.200000000000001,
            "count": 1
           },
           {
            "bin_start": 9.200000000000001,
            "bin_end": 12.345454545454546,
            "count": 2
           },
           {
            "bin_start": 12.345454545454546,
            "bin_end": 15.49090909090909,
            "count": 2
           },
           {
            "bin_start": 15.49090909090909,
            "bin_end": 18.636363636363637,
            "count": 1
           }
          ]
         }
        },
        {
         "name": "_deepnote_index_column",
         "dtype": "int64"
        }
       ],
       "rows": [
        {
         "Season": 2022,
         "Team": "Hendrick",
         "Driver": "Alex Bowman",
         "Pass Differential": 10.363636363636363,
         "_deepnote_index_column": 17
        },
        {
         "Season": 2022,
         "Team": "Hendrick",
         "Driver": "Chase Elliott",
         "Pass Differential": 12.363636363636363,
         "_deepnote_index_column": 18
        },
        {
         "Season": 2022,
         "Team": "Hendrick",
         "Driver": "Kyle Larson",
         "Pass Differential": 12.363636363636363,
         "_deepnote_index_column": 19
        },
        {
         "Season": 2022,
         "Team": "Hendrick",
         "Driver": "William Byron",
         "Pass Differential": 1,
         "_deepnote_index_column": 20
        },
        {
         "Season": 2022,
         "Team": "JGR",
         "Driver": "Christopher Bell",
         "Pass Differential": 7.636363636363637,
         "_deepnote_index_column": 21
        },
        {
         "Season": 2022,
         "Team": "JGR",
         "Driver": "Denny Hamlin",
         "Pass Differential": 18.636363636363637,
         "_deepnote_index_column": 22
        },
        {
         "Season": 2022,
         "Team": "JGR",
         "Driver": "Kyle Busch",
         "Pass Differential": 10.818181818181818,
         "_deepnote_index_column": 23
        },
        {
         "Season": 2022,
         "Team": "JGR",
         "Driver": "Martin Truex Jr.",
         "Pass Differential": 3.2,
         "_deepnote_index_column": 24
        },
        {
         "Season": 2022,
         "Team": "Penske",
         "Driver": "Joey Logano",
         "Pass Differential": 2.909090909090909,
         "_deepnote_index_column": 25
        },
        {
         "Season": 2022,
         "Team": "Penske",
         "Driver": "Ryan Blaney",
         "Pass Differential": 4.636363636363637,
         "_deepnote_index_column": 26
        }
       ]
      },
      "text/plain": "    Season      Team            Driver  Pass Differential\n17    2022  Hendrick       Alex Bowman          10.363636\n18    2022  Hendrick     Chase Elliott          12.363636\n19    2022  Hendrick       Kyle Larson          12.363636\n20    2022  Hendrick     William Byron           1.000000\n21    2022       JGR  Christopher Bell           7.636364\n22    2022       JGR      Denny Hamlin          18.636364\n23    2022       JGR        Kyle Busch          10.818182\n24    2022       JGR  Martin Truex Jr.           3.200000\n25    2022    Penske       Joey Logano           2.909091\n26    2022    Penske       Ryan Blaney           4.636364\n27    2022       RCR     Austin Dillon         -12.272727\n28    2022       RCR     Tyler Reddick           0.272727\n29    2022       SHR     Aric Almirola          -6.545455\n30    2022       SHR     Chase Briscoe          -0.181818\n31    2022       SHR       Cole Custer         -12.818182\n32    2022       SHR     Kevin Harvick           0.272727",
      "text/html": "<div>\n<style scoped>\n    .dataframe tbody tr th:only-of-type {\n        vertical-align: middle;\n    }\n\n    .dataframe tbody tr th {\n        vertical-align: top;\n    }\n\n    .dataframe thead th {\n        text-align: right;\n    }\n</style>\n<table border=\"1\" class=\"dataframe\">\n  <thead>\n    <tr style=\"text-align: right;\">\n      <th></th>\n      <th>Season</th>\n      <th>Team</th>\n      <th>Driver</th>\n      <th>Pass Differential</th>\n    </tr>\n  </thead>\n  <tbody>\n    <tr>\n      <th>17</th>\n      <td>2022</td>\n      <td>Hendrick</td>\n      <td>Alex Bowman</td>\n      <td>10.363636</td>\n    </tr>\n    <tr>\n      <th>18</th>\n      <td>2022</td>\n      <td>Hendrick</td>\n      <td>Chase Elliott</td>\n      <td>12.363636</td>\n    </tr>\n    <tr>\n      <th>19</th>\n      <td>2022</td>\n      <td>Hendrick</td>\n      <td>Kyle Larson</td>\n      <td>12.363636</td>\n    </tr>\n    <tr>\n      <th>20</th>\n      <td>2022</td>\n      <td>Hendrick</td>\n      <td>William Byron</td>\n      <td>1.000000</td>\n    </tr>\n    <tr>\n      <th>21</th>\n      <td>2022</td>\n      <td>JGR</td>\n      <td>Christopher Bell</td>\n      <td>7.636364</td>\n    </tr>\n    <tr>\n      <th>22</th>\n      <td>2022</td>\n      <td>JGR</td>\n      <td>Denny Hamlin</td>\n      <td>18.636364</td>\n    </tr>\n    <tr>\n      <th>23</th>\n      <td>2022</td>\n      <td>JGR</td>\n      <td>Kyle Busch</td>\n      <td>10.818182</td>\n    </tr>\n    <tr>\n      <th>24</th>\n      <td>2022</td>\n      <td>JGR</td>\n      <td>Martin Truex Jr.</td>\n      <td>3.200000</td>\n    </tr>\n    <tr>\n      <th>25</th>\n      <td>2022</td>\n      <td>Penske</td>\n      <td>Joey Logano</td>\n      <td>2.909091</td>\n    </tr>\n    <tr>\n      <th>26</th>\n      <td>2022</td>\n      <td>Penske</td>\n      <td>Ryan Blaney</td>\n      <td>4.636364</td>\n    </tr>\n    <tr>\n      <th>27</th>\n      <td>2022</td>\n      <td>RCR</td>\n      <td>Austin Dillon</td>\n      <td>-12.272727</td>\n    </tr>\n    <tr>\n      <th>28</th>\n      <td>2022</td>\n      <td>RCR</td>\n      <td>Tyler Reddick</td>\n      <td>0.272727</td>\n    </tr>\n    <tr>\n      <th>29</th>\n      <td>2022</td>\n      <td>SHR</td>\n      <td>Aric Almirola</td>\n      <td>-6.545455</td>\n    </tr>\n    <tr>\n      <th>30</th>\n      <td>2022</td>\n      <td>SHR</td>\n      <td>Chase Briscoe</td>\n      <td>-0.181818</td>\n    </tr>\n    <tr>\n      <th>31</th>\n      <td>2022</td>\n      <td>SHR</td>\n      <td>Cole Custer</td>\n      <td>-12.818182</td>\n    </tr>\n    <tr>\n      <th>32</th>\n      <td>2022</td>\n      <td>SHR</td>\n      <td>Kevin Harvick</td>\n      <td>0.272727</td>\n    </tr>\n  </tbody>\n</table>\n</div>"
     },
     "metadata": {}
    }
   ]
  },
  {
   "cell_type": "code",
   "metadata": {
    "tags": [],
    "deepnote_to_be_reexecuted": false,
    "source_hash": "7aa17eff",
    "execution_start": 1653428910728,
    "execution_millis": 7,
    "cell_id": "00019-078dbdcf-d577-4fd2-b389-58dc2c64c891",
    "deepnote_cell_type": "code",
    "deepnote_cell_height": 947.1875,
    "deepnote_output_heights": [
     328.1875
    ]
   },
   "source": "DriverList21 = passdiff21['Driver'].to_list()\nPassDiffList21 = passdiff21['Pass Differential'].to_list()\nTeamList21 = passdiff21['Team'].to_list()\n\n# Could probably do some type of list comprehension of mapping but...\ndef makeColorList(lst):\n    for i in range(len(lst)):\n        if lst[i] == 'Hendrick':\n            lst[i] = '#000000'\n\n        if lst[i] == 'RCR':\n            lst[i] = '#FFD93D'\n\n        if lst[i] == 'SHR':\n            lst[i] = '#FF0F27'\n\n        if lst[i] == 'JGR':\n            lst[i] = '#FFFFFF'\n\n        if lst[i] == 'Penske':\n            lst[i] = '#007DC8'\n    return None\n\nmakeColorList(TeamList21)\n\nDriverList22 = passdiff22['Driver'].to_list()\nPassDiffList22 = passdiff22['Pass Differential'].to_list()\nTeamList22 = passdiff22['Team'].to_list()\nmakeColorList(TeamList22)\npassdiff21['Team'].to_list()",
   "execution_count": 17,
   "outputs": [
    {
     "output_type": "execute_result",
     "execution_count": 17,
     "data": {
      "text/plain": "['Hendrick',\n 'Hendrick',\n 'Hendrick',\n 'Hendrick',\n 'JGR',\n 'JGR',\n 'JGR',\n 'JGR',\n 'Penske',\n 'Penske',\n 'Penske',\n 'RCR',\n 'RCR',\n 'SHR',\n 'SHR',\n 'SHR',\n 'SHR']"
     },
     "metadata": {}
    }
   ]
  },
  {
   "cell_type": "code",
   "metadata": {
    "tags": [],
    "deepnote_to_be_reexecuted": false,
    "source_hash": "865196c4",
    "execution_start": 1653428910737,
    "execution_millis": 920,
    "cell_id": "00020-b3a6dadf-c285-4412-a263-c653805dc1d2",
    "deepnote_cell_type": "code",
    "deepnote_cell_height": 973,
    "deepnote_output_heights": [
     426
    ]
   },
   "source": "fig, (ax1, ax2) = plt.subplots(1,2,figsize=(12,6)) #changed the layout to side by side\n\nplt.sca(ax1)\nax1.bar(DriverList21,PassDiffList21,color=TeamList21)\nax1.set_xlabel('Drivers By Team', fontweight='bold')\nax1.set_ylabel('Mean Passing Differential', fontweight='bold')\nplt.grid(False)\n#I think 90 degree rotation is a little easier to read\nplt.xticks(rotation=90)\nplt.title('Average Passing Differentials Per Driver By Team - 2021', fontweight='bold'#, fontsize=20\n)\n\nplt.sca(ax2)\nax2.bar(DriverList22,PassDiffList22,color=TeamList22)\nax2.set_xlabel('Drivers By Team', fontweight='bold')\nax2.set_ylabel('Mean Passing Differential', fontweight='bold')\nplt.grid(False)\n#I think 90 degree rotation is a little easier to read\nplt.xticks(rotation=90)\nplt.title('Average Passing Differentials Per Driver By Team - 2022', fontweight='bold'#, fontsize=20\n)\n\nplt.tight_layout() #added more spacing between the 2 charts\nplt.show()\n# plt.savefig('passdiffmean_21_22.png') # saving the chart\n",
   "execution_count": 18,
   "outputs": [
    {
     "data": {
      "text/plain": "<Figure size 864x432 with 2 Axes>",
      "image/png": "[encoded data removed]"
     },
     "metadata": {
      "needs_background": "light",
      "image/png": {
       "width": 861,
       "height": 424
      }
     },
     "output_type": "display_data"
    }
   ]
  },
  {
   "cell_type": "code",
   "metadata": {
    "tags": [],
    "deepnote_to_be_reexecuted": false,
    "source_hash": "a833940a",
    "execution_start": 1653428911675,
    "execution_millis": 684,
    "cell_id": "00021-bd7f86f2-81ce-4abd-b5fe-062b195e9410",
    "deepnote_cell_type": "code",
    "deepnote_cell_height": 1869,
    "deepnote_output_heights": [
     602
    ]
   },
   "source": "passdiff21=passdiff21.query('Driver!=\"Brad Keselowski\"') # remove Brad for now\npassdiff21=passdiff21.sort_values(by='Team')\npassdiff22=passdiff22.sort_values(by='Team')\n\ndef add_color_for_team(s):\n    if s=='Hendrick':\n        return '#000000'\n    if s=='RCR':\n        return '#FFD93D'\n    if s=='SHR':\n        return '#FF0F27'\n    if s=='JGR':\n        return '#FFFFFF'\n    if s=='Penske':\n        return '#007DC8'\n\ndef format_title(title, subtitle=None, subtitle_font_size=14):\n    \"\"\"takes in titles and or subtitles and format them\"\"\"\n    title = f'<b>{title}</b>'\n    if not subtitle:\n        return title\n    subtitle = f'<span style=\"font-size: {subtitle_font_size}px;\">{subtitle}</span>'\n    return f'{title}<br>{subtitle}'\n    \n\npassdiff21['Team_Color']=passdiff21['Team'].apply(add_color_for_team)\npassdiff22['Team_Color']=passdiff22['Team'].apply(add_color_for_team)\n\n\ndef format_title(title, subtitle=None, subtitle_font_size=14):\n    \"\"\"takes in titles and or subtitles and format them\"\"\"\n    title = f'<b>{title}</b>'\n    if not subtitle:\n        return title\n    subtitle = f'<span style=\"font-size: {subtitle_font_size}px;\">{subtitle}</span>'\n    return f'{title}<br>{subtitle}'\n\ncolors=['#000000','#FFD93D','#FF0F27','#FFFFFF','#007DC8']\nfig = make_subplots(rows=1, cols=2, subplot_titles=['2021 pass diff','2022 pass diff']\n                    ,horizontal_spacing = 0.01,shared_yaxes=True)\nfig.add_trace(go.Bar(x=passdiff21['Team']\n                    ,y=passdiff21['Pass Differential']\n                    ,marker_color=passdiff21['Team_Color']\n                    )\n                    ,row=1,col=1)\n\nfig.add_trace(go.Bar(x=passdiff22['Team']\n                    ,y=passdiff22['Pass Differential']\n                    ,marker_color=passdiff22['Team_Color']\n                    )\n                    ,row=1,col=2)\nfig.for_each_xaxis(lambda x: x.update(showgrid=False))\nfig.for_each_yaxis(lambda x: x.update(showgrid=False))\n\n\n  \n\nfig.update_layout(plot_bgcolor='rgba(220, 239, 255, 0.8)'\n                ,yaxis_title=\"Mean Pass Differential\",showlegend=False\n                ,title=format_title('Full Time Teams Pass Differential 2021 vs 2022')\n                ,height = 600,width = 900,autosize = False,title_x=0.5\n                )\n\n# fig.write_image(\"pass_diff_teams.png\") # saving image out\nfig.show()\n",
   "execution_count": 19,
   "outputs": [
    {
     "data": {
      "text/html": "<html>\n<head><meta charset=\"utf-8\" /></head>\n<body>\n    <div>            <script src=\"https://cdnjs.cloudflare.com/ajax/libs/mathjax/2.7.5/MathJax.js?config=TeX-AMS-MML_SVG\"></script><script type=\"text/javascript\">if (window.MathJax) {MathJax.Hub.Config({SVG: {font: \"STIX-Web\"}});}</script>                <script type=\"text/javascript\">window.PlotlyConfig = {MathJaxConfig: 'local'};</script>\n        <script src=\"https://cdn.plot.ly/plotly-2.11.1.min.js\"></script>                <div id=\"345b24e0-1e3d-411a-9a15-8889dcfc83e8\" class=\"plotly-graph-div\" style=\"height:600px; width:900px;\"></div>            <script type=\"text/javascript\">                                    window.PLOTLYENV=window.PLOTLYENV || {};                                    if (document.getElementById(\"345b24e0-1e3d-411a-9a15-8889dcfc83e8\")) {                    Plotly.newPlot(                        \"345b24e0-1e3d-411a-9a15-8889dcfc83e8\",                        [{\"marker\":{\"color\":[\"#000000\",\"#000000\",\"#000000\",\"#000000\",\"#FFFFFF\",\"#FFFFFF\",\"#FFFFFF\",\"#FFFFFF\",\"#007DC8\",\"#007DC8\",\"#FFD93D\",\"#FFD93D\",\"#FF0F27\",\"#FF0F27\",\"#FF0F27\",\"#FF0F27\"]},\"x\":[\"Hendrick\",\"Hendrick\",\"Hendrick\",\"Hendrick\",\"JGR\",\"JGR\",\"JGR\",\"JGR\",\"Penske\",\"Penske\",\"RCR\",\"RCR\",\"SHR\",\"SHR\",\"SHR\",\"SHR\"],\"y\":[4.545454545454546,15.272727272727273,10.909090909090908,4.454545454545454,5.090909090909091,0.2727272727272727,5.545454545454546,5.909090909090909,-0.09090909090909091,1.9090909090909092,-1.4545454545454546,2.727272727272727,-0.6363636363636364,-0.45454545454545453,-2.909090909090909,2.4545454545454546],\"type\":\"bar\",\"xaxis\":\"x\",\"yaxis\":\"y\"},{\"marker\":{\"color\":[\"#000000\",\"#000000\",\"#000000\",\"#000000\",\"#FFFFFF\",\"#FFFFFF\",\"#FFFFFF\",\"#FFFFFF\",\"#007DC8\",\"#007DC8\",\"#FFD93D\",\"#FFD93D\",\"#FF0F27\",\"#FF0F27\",\"#FF0F27\",\"#FF0F27\"]},\"x\":[\"Hendrick\",\"Hendrick\",\"Hendrick\",\"Hendrick\",\"JGR\",\"JGR\",\"JGR\",\"JGR\",\"Penske\",\"Penske\",\"RCR\",\"RCR\",\"SHR\",\"SHR\",\"SHR\",\"SHR\"],\"y\":[10.363636363636363,12.363636363636363,12.363636363636363,1.0,7.636363636363637,18.636363636363637,10.818181818181818,3.2,2.909090909090909,4.636363636363637,-12.272727272727273,0.2727272727272727,-6.545454545454546,-0.18181818181818182,-12.818181818181818,0.2727272727272727],\"type\":\"bar\",\"xaxis\":\"x2\",\"yaxis\":\"y2\"}],                        {\"template\":{\"data\":{\"histogram2dcontour\":[{\"type\":\"histogram2dcontour\",\"colorbar\":{\"outlinewidth\":0,\"ticks\":\"\"},\"colorscale\":[[0.0,\"#0d0887\"],[0.1111111111111111,\"#46039f\"],[0.2222222222222222,\"#7201a8\"],[0.3333333333333333,\"#9c179e\"],[0.4444444444444444,\"#bd3786\"],[0.5555555555555556,\"#d8576b\"],[0.6666666666666666,\"#ed7953\"],[0.7777777777777778,\"#fb9f3a\"],[0.8888888888888888,\"#fdca26\"],[1.0,\"#f0f921\"]]}],\"choropleth\":[{\"type\":\"choropleth\",\"colorbar\":{\"outlinewidth\":0,\"ticks\":\"\"}}],\"histogram2d\":[{\"type\":\"histogram2d\",\"colorbar\":{\"outlinewidth\":0,\"ticks\":\"\"},\"colorscale\":[[0.0,\"#0d0887\"],[0.1111111111111111,\"#46039f\"],[0.2222222222222222,\"#7201a8\"],[0.3333333333333333,\"#9c179e\"],[0.4444444444444444,\"#bd3786\"],[0.5555555555555556,\"#d8576b\"],[0.6666666666666666,\"#ed7953\"],[0.7777777777777778,\"#fb9f3a\"],[0.8888888888888888,\"#fdca26\"],[1.0,\"#f0f921\"]]}],\"heatmap\":[{\"type\":\"heatmap\",\"colorbar\":{\"outlinewidth\":0,\"ticks\":\"\"},\"colorscale\":[[0.0,\"#0d0887\"],[0.1111111111111111,\"#46039f\"],[0.2222222222222222,\"#7201a8\"],[0.3333333333333333,\"#9c179e\"],[0.4444444444444444,\"#bd3786\"],[0.5555555555555556,\"#d8576b\"],[0.6666666666666666,\"#ed7953\"],[0.7777777777777778,\"#fb9f3a\"],[0.8888888888888888,\"#fdca26\"],[1.0,\"#f0f921\"]]}],\"heatmapgl\":[{\"type\":\"heatmapgl\",\"colorbar\":{\"outlinewidth\":0,\"ticks\":\"\"},\"colorscale\":[[0.0,\"#0d0887\"],[0.1111111111111111,\"#46039f\"],[0.2222222222222222,\"#7201a8\"],[0.3333333333333333,\"#9c179e\"],[0.4444444444444444,\"#bd3786\"],[0.5555555555555556,\"#d8576b\"],[0.6666666666666666,\"#ed7953\"],[0.7777777777777778,\"#fb9f3a\"],[0.8888888888888888,\"#fdca26\"],[1.0,\"#f0f921\"]]}],\"contourcarpet\":[{\"type\":\"contourcarpet\",\"colorbar\":{\"outlinewidth\":0,\"ticks\":\"\"}}],\"contour\":[{\"type\":\"contour\",\"colorbar\":{\"outlinewidth\":0,\"ticks\":\"\"},\"colorscale\":[[0.0,\"#0d0887\"],[0.1111111111111111,\"#46039f\"],[0.2222222222222222,\"#7201a8\"],[0.3333333333333333,\"#9c179e\"],[0.4444444444444444,\"#bd3786\"],[0.5555555555555556,\"#d8576b\"],[0.6666666666666666,\"#ed7953\"],[0.7777777777777778,\"#fb9f3a\"],[0.8888888888888888,\"#fdca26\"],[1.0,\"#f0f921\"]]}],\"surface\":[{\"type\":\"surface\",\"colorbar\":{\"outlinewidth\":0,\"ticks\":\"\"},\"colorscale\":[[0.0,\"#0d0887\"],[0.1111111111111111,\"#46039f\"],[0.2222222222222222,\"#7201a8\"],[0.3333333333333333,\"#9c179e\"],[0.4444444444444444,\"#bd3786\"],[0.5555555555555556,\"#d8576b\"],[0.6666666666666666,\"#ed7953\"],[0.7777777777777778,\"#fb9f3a\"],[0.8888888888888888,\"#fdca26\"],[1.0,\"#f0f921\"]]}],\"mesh3d\":[{\"type\":\"mesh3d\",\"colorbar\":{\"outlinewidth\":0,\"ticks\":\"\"}}],\"scatter\":[{\"fillpattern\":{\"fillmode\":\"overlay\",\"size\":10,\"solidity\":0.2},\"type\":\"scatter\"}],\"parcoords\":[{\"type\":\"parcoords\",\"line\":{\"colorbar\":{\"outlinewidth\":0,\"ticks\":\"\"}}}],\"scatterpolargl\":[{\"type\":\"scatterpolargl\",\"marker\":{\"colorbar\":{\"outlinewidth\":0,\"ticks\":\"\"}}}],\"bar\":[{\"error_x\":{\"color\":\"#2a3f5f\"},\"error_y\":{\"color\":\"#2a3f5f\"},\"marker\":{\"line\":{\"color\":\"#E5ECF6\",\"width\":0.5},\"pattern\":{\"fillmode\":\"overlay\",\"size\":10,\"solidity\":0.2}},\"type\":\"bar\"}],\"scattergeo\":[{\"type\":\"scattergeo\",\"marker\":{\"colorbar\":{\"outlinewidth\":0,\"ticks\":\"\"}}}],\"scatterpolar\":[{\"type\":\"scatterpolar\",\"marker\":{\"colorbar\":{\"outlinewidth\":0,\"ticks\":\"\"}}}],\"histogram\":[{\"marker\":{\"pattern\":{\"fillmode\":\"overlay\",\"size\":10,\"solidity\":0.2}},\"type\":\"histogram\"}],\"scattergl\":[{\"type\":\"scattergl\",\"marker\":{\"colorbar\":{\"outlinewidth\":0,\"ticks\":\"\"}}}],\"scatter3d\":[{\"type\":\"scatter3d\",\"line\":{\"colorbar\":{\"outlinewidth\":0,\"ticks\":\"\"}},\"marker\":{\"colorbar\":{\"outlinewidth\":0,\"ticks\":\"\"}}}],\"scattermapbox\":[{\"type\":\"scattermapbox\",\"marker\":{\"colorbar\":{\"outlinewidth\":0,\"ticks\":\"\"}}}],\"scatterternary\":[{\"type\":\"scatterternary\",\"marker\":{\"colorbar\":{\"outlinewidth\":0,\"ticks\":\"\"}}}],\"scattercarpet\":[{\"type\":\"scattercarpet\",\"marker\":{\"colorbar\":{\"outlinewidth\":0,\"ticks\":\"\"}}}],\"carpet\":[{\"aaxis\":{\"endlinecolor\":\"#2a3f5f\",\"gridcolor\":\"white\",\"linecolor\":\"white\",\"minorgridcolor\":\"white\",\"startlinecolor\":\"#2a3f5f\"},\"baxis\":{\"endlinecolor\":\"#2a3f5f\",\"gridcolor\":\"white\",\"linecolor\":\"white\",\"minorgridcolor\":\"white\",\"startlinecolor\":\"#2a3f5f\"},\"type\":\"carpet\"}],\"table\":[{\"cells\":{\"fill\":{\"color\":\"#EBF0F8\"},\"line\":{\"color\":\"white\"}},\"header\":{\"fill\":{\"color\":\"#C8D4E3\"},\"line\":{\"color\":\"white\"}},\"type\":\"table\"}],\"barpolar\":[{\"marker\":{\"line\":{\"color\":\"#E5ECF6\",\"width\":0.5},\"pattern\":{\"fillmode\":\"overlay\",\"size\":10,\"solidity\":0.2}},\"type\":\"barpolar\"}],\"pie\":[{\"automargin\":true,\"type\":\"pie\"}]},\"layout\":{\"autotypenumbers\":\"strict\",\"colorway\":[\"#636efa\",\"#EF553B\",\"#00cc96\",\"#ab63fa\",\"#FFA15A\",\"#19d3f3\",\"#FF6692\",\"#B6E880\",\"#FF97FF\",\"#FECB52\"],\"font\":{\"color\":\"#2a3f5f\"},\"hovermode\":\"closest\",\"hoverlabel\":{\"align\":\"left\"},\"paper_bgcolor\":\"white\",\"plot_bgcolor\":\"#E5ECF6\",\"polar\":{\"bgcolor\":\"#E5ECF6\",\"angularaxis\":{\"gridcolor\":\"white\",\"linecolor\":\"white\",\"ticks\":\"\"},\"radialaxis\":{\"gridcolor\":\"white\",\"linecolor\":\"white\",\"ticks\":\"\"}},\"ternary\":{\"bgcolor\":\"#E5ECF6\",\"aaxis\":{\"gridcolor\":\"white\",\"linecolor\":\"white\",\"ticks\":\"\"},\"baxis\":{\"gridcolor\":\"white\",\"linecolor\":\"white\",\"ticks\":\"\"},\"caxis\":{\"gridcolor\":\"white\",\"linecolor\":\"white\",\"ticks\":\"\"}},\"coloraxis\":{\"colorbar\":{\"outlinewidth\":0,\"ticks\":\"\"}},\"colorscale\":{\"sequential\":[[0.0,\"#0d0887\"],[0.1111111111111111,\"#46039f\"],[0.2222222222222222,\"#7201a8\"],[0.3333333333333333,\"#9c179e\"],[0.4444444444444444,\"#bd3786\"],[0.5555555555555556,\"#d8576b\"],[0.6666666666666666,\"#ed7953\"],[0.7777777777777778,\"#fb9f3a\"],[0.8888888888888888,\"#fdca26\"],[1.0,\"#f0f921\"]],\"sequentialminus\":[[0.0,\"#0d0887\"],[0.1111111111111111,\"#46039f\"],[0.2222222222222222,\"#7201a8\"],[0.3333333333333333,\"#9c179e\"],[0.4444444444444444,\"#bd3786\"],[0.5555555555555556,\"#d8576b\"],[0.6666666666666666,\"#ed7953\"],[0.7777777777777778,\"#fb9f3a\"],[0.8888888888888888,\"#fdca26\"],[1.0,\"#f0f921\"]],\"diverging\":[[0,\"#8e0152\"],[0.1,\"#c51b7d\"],[0.2,\"#de77ae\"],[0.3,\"#f1b6da\"],[0.4,\"#fde0ef\"],[0.5,\"#f7f7f7\"],[0.6,\"#e6f5d0\"],[0.7,\"#b8e186\"],[0.8,\"#7fbc41\"],[0.9,\"#4d9221\"],[1,\"#276419\"]]},\"xaxis\":{\"gridcolor\":\"white\",\"linecolor\":\"white\",\"ticks\":\"\",\"title\":{\"standoff\":15},\"zerolinecolor\":\"white\",\"automargin\":true,\"zerolinewidth\":2},\"yaxis\":{\"gridcolor\":\"white\",\"linecolor\":\"white\",\"ticks\":\"\",\"title\":{\"standoff\":15},\"zerolinecolor\":\"white\",\"automargin\":true,\"zerolinewidth\":2},\"scene\":{\"xaxis\":{\"backgroundcolor\":\"#E5ECF6\",\"gridcolor\":\"white\",\"linecolor\":\"white\",\"showbackground\":true,\"ticks\":\"\",\"zerolinecolor\":\"white\",\"gridwidth\":2},\"yaxis\":{\"backgroundcolor\":\"#E5ECF6\",\"gridcolor\":\"white\",\"linecolor\":\"white\",\"showbackground\":true,\"ticks\":\"\",\"zerolinecolor\":\"white\",\"gridwidth\":2},\"zaxis\":{\"backgroundcolor\":\"#E5ECF6\",\"gridcolor\":\"white\",\"linecolor\":\"white\",\"showbackground\":true,\"ticks\":\"\",\"zerolinecolor\":\"white\",\"gridwidth\":2}},\"shapedefaults\":{\"line\":{\"color\":\"#2a3f5f\"}},\"annotationdefaults\":{\"arrowcolor\":\"#2a3f5f\",\"arrowhead\":0,\"arrowwidth\":1},\"geo\":{\"bgcolor\":\"white\",\"landcolor\":\"#E5ECF6\",\"subunitcolor\":\"white\",\"showland\":true,\"showlakes\":true,\"lakecolor\":\"white\"},\"title\":{\"x\":0.05},\"mapbox\":{\"style\":\"light\"}}},\"xaxis\":{\"anchor\":\"y\",\"domain\":[0.0,0.495],\"showgrid\":false},\"yaxis\":{\"anchor\":\"x\",\"domain\":[0.0,1.0],\"showgrid\":false,\"title\":{\"text\":\"Mean Pass Differential\"}},\"xaxis2\":{\"anchor\":\"y2\",\"domain\":[0.505,1.0],\"showgrid\":false},\"yaxis2\":{\"anchor\":\"x2\",\"domain\":[0.0,1.0],\"matches\":\"y\",\"showticklabels\":false,\"showgrid\":false},\"annotations\":[{\"font\":{\"size\":16},\"showarrow\":false,\"text\":\"2021 pass diff\",\"x\":0.2475,\"xanchor\":\"center\",\"xref\":\"paper\",\"y\":1.0,\"yanchor\":\"bottom\",\"yref\":\"paper\"},{\"font\":{\"size\":16},\"showarrow\":false,\"text\":\"2022 pass diff\",\"x\":0.7525,\"xanchor\":\"center\",\"xref\":\"paper\",\"y\":1.0,\"yanchor\":\"bottom\",\"yref\":\"paper\"}],\"title\":{\"text\":\"<b>Full Time Teams Pass Differential 2021 vs 2022</b>\",\"x\":0.5},\"plot_bgcolor\":\"rgba(220, 239, 255, 0.8)\",\"showlegend\":false,\"height\":600,\"width\":900,\"autosize\":false},                        {\"responsive\": true}                    ).then(function(){\n                            \nvar gd = document.getElementById('345b24e0-1e3d-411a-9a15-8889dcfc83e8');\nvar x = new MutationObserver(function (mutations, observer) {{\n        var display = window.getComputedStyle(gd).display;\n        if (!display || display === 'none') {{\n            console.log([gd, 'removed!']);\n            Plotly.purge(gd);\n            observer.disconnect();\n        }}\n}});\n\n// Listen for the removal of the full notebook cells\nvar notebookContainer = gd.closest('#notebook-container');\nif (notebookContainer) {{\n    x.observe(notebookContainer, {childList: true});\n}}\n\n// Listen for the clearing of the current output cell\nvar outputEl = gd.closest('.output');\nif (outputEl) {{\n    x.observe(outputEl, {childList: true});\n}}\n\n                        })                };                            </script>        </div>\n</body>\n</html>"
     },
     "metadata": {},
     "output_type": "display_data"
    }
   ]
  },
  {
   "cell_type": "code",
   "metadata": {
    "tags": [],
    "deepnote_to_be_reexecuted": false,
    "source_hash": "17d354f1",
    "execution_start": 1653428912226,
    "execution_millis": 1182,
    "cell_id": "00022-edd236e8-d385-4abe-a3cf-a31690923a4d",
    "owner_user_id": "45152886-e80a-4457-8e84-9d99a262197d",
    "deepnote_cell_type": "code",
    "deepnote_cell_height": 1120,
    "deepnote_output_heights": [
     602
    ]
   },
   "source": "passdiff21=passdiff21.query('Driver!=\"Brad Keselowski\"') # remove Brad for now\npassdiff21=passdiff21.sort_values(by='Team')\npassdiff22=passdiff22.sort_values(by='Team')\n\ndef add_color_for_team(s):\n    if s=='Hendrick':\n        return '#000000'\n    if s=='RCR':\n        return '#FFD93D'\n    if s=='SHR':\n        return '#FF0F27'\n    if s=='JGR':\n        return '#FFFFFF'\n    if s=='Penske':\n        return '#007DC8'\n\ndef format_title(title, subtitle=None, subtitle_font_size=14):\n    \"\"\"takes in titles and or subtitles and format them\"\"\"\n    title = f'<b>{title}</b>'\n    if not subtitle:\n        return title\n    subtitle = f'<span style=\"font-size: {subtitle_font_size}px;\">{subtitle}</span>'\n    return f'{title}<br>{subtitle}'\n    \n\npassdiff21['Team_Color']=passdiff21['Team'].apply(add_color_for_team)\npassdiff22['Team_Color']=passdiff22['Team'].apply(add_color_for_team)\n\nfig = make_subplots(rows=1, cols=2, subplot_titles=['2021 pass diff','2022 pass diff']\n                    ,horizontal_spacing = 0.01,shared_yaxes=True)\n\nfig.add_trace(go.Bar(x=passdiff21['Driver']\n                    ,y=passdiff21['Pass Differential'],marker_color=passdiff21['Team_Color'])\n                    ,row=1,col=1)\n\nfig.add_trace(go.Bar(x=passdiff21['Driver']\n                    ,y=passdiff22['Pass Differential'],marker_color=passdiff21['Team_Color'])\n                    ,row=1,col=2)\nfig.for_each_xaxis(lambda x: x.update(showgrid=False))\nfig.for_each_yaxis(lambda x: x.update(showgrid=False))\n\n\n  \n\nfig.update_layout(plot_bgcolor='rgba(220, 239, 255, 0.8)'\n                ,yaxis_title=\"Mean Passing Differential\",showlegend=False\n                ,title=format_title('Full Time Drivers Pass Differential 2021 vs 2022')\n                ,height = 600,width = 900,autosize = False,title_x=0.5)\n\nfig.write_image(\"pass_diff_drivers.png\") # saving image out\nfig.show()\n",
   "execution_count": 20,
   "outputs": [
    {
     "data": {
      "text/html": "<html>\n<head><meta charset=\"utf-8\" /></head>\n<body>\n    <div>            <script src=\"https://cdnjs.cloudflare.com/ajax/libs/mathjax/2.7.5/MathJax.js?config=TeX-AMS-MML_SVG\"></script><script type=\"text/javascript\">if (window.MathJax) {MathJax.Hub.Config({SVG: {font: \"STIX-Web\"}});}</script>                <script type=\"text/javascript\">window.PlotlyConfig = {MathJaxConfig: 'local'};</script>\n        <script src=\"https://cdn.plot.ly/plotly-2.11.1.min.js\"></script>                <div id=\"93631ac8-a1b2-47f9-800c-7dbe222f5116\" class=\"plotly-graph-div\" style=\"height:600px; width:900px;\"></div>            <script type=\"text/javascript\">                                    window.PLOTLYENV=window.PLOTLYENV || {};                                    if (document.getElementById(\"93631ac8-a1b2-47f9-800c-7dbe222f5116\")) {                    Plotly.newPlot(                        \"93631ac8-a1b2-47f9-800c-7dbe222f5116\",                        [{\"marker\":{\"color\":[\"#000000\",\"#000000\",\"#000000\",\"#000000\",\"#FFFFFF\",\"#FFFFFF\",\"#FFFFFF\",\"#FFFFFF\",\"#007DC8\",\"#007DC8\",\"#FFD93D\",\"#FFD93D\",\"#FF0F27\",\"#FF0F27\",\"#FF0F27\",\"#FF0F27\"]},\"x\":[\"Alex Bowman\",\"Chase Elliott\",\"Kyle Larson\",\"William Byron\",\"Christopher Bell\",\"Denny Hamlin\",\"Kyle Busch\",\"Martin Truex Jr.\",\"Joey Logano\",\"Ryan Blaney\",\"Austin Dillon\",\"Tyler Reddick\",\"Aric Almirola\",\"Chase Briscoe\",\"Cole Custer\",\"Kevin Harvick\"],\"y\":[4.545454545454546,15.272727272727273,10.909090909090908,4.454545454545454,5.090909090909091,0.2727272727272727,5.545454545454546,5.909090909090909,-0.09090909090909091,1.9090909090909092,-1.4545454545454546,2.727272727272727,-0.6363636363636364,-0.45454545454545453,-2.909090909090909,2.4545454545454546],\"type\":\"bar\",\"xaxis\":\"x\",\"yaxis\":\"y\"},{\"marker\":{\"color\":[\"#000000\",\"#000000\",\"#000000\",\"#000000\",\"#FFFFFF\",\"#FFFFFF\",\"#FFFFFF\",\"#FFFFFF\",\"#007DC8\",\"#007DC8\",\"#FFD93D\",\"#FFD93D\",\"#FF0F27\",\"#FF0F27\",\"#FF0F27\",\"#FF0F27\"]},\"x\":[\"Alex Bowman\",\"Chase Elliott\",\"Kyle Larson\",\"William Byron\",\"Christopher Bell\",\"Denny Hamlin\",\"Kyle Busch\",\"Martin Truex Jr.\",\"Joey Logano\",\"Ryan Blaney\",\"Austin Dillon\",\"Tyler Reddick\",\"Aric Almirola\",\"Chase Briscoe\",\"Cole Custer\",\"Kevin Harvick\"],\"y\":[10.363636363636363,12.363636363636363,12.363636363636363,1.0,7.636363636363637,18.636363636363637,10.818181818181818,3.2,2.909090909090909,4.636363636363637,-12.272727272727273,0.2727272727272727,-6.545454545454546,-0.18181818181818182,-12.818181818181818,0.2727272727272727],\"type\":\"bar\",\"xaxis\":\"x2\",\"yaxis\":\"y2\"}],                        {\"template\":{\"data\":{\"histogram2dcontour\":[{\"type\":\"histogram2dcontour\",\"colorbar\":{\"outlinewidth\":0,\"ticks\":\"\"},\"colorscale\":[[0.0,\"#0d0887\"],[0.1111111111111111,\"#46039f\"],[0.2222222222222222,\"#7201a8\"],[0.3333333333333333,\"#9c179e\"],[0.4444444444444444,\"#bd3786\"],[0.5555555555555556,\"#d8576b\"],[0.6666666666666666,\"#ed7953\"],[0.7777777777777778,\"#fb9f3a\"],[0.8888888888888888,\"#fdca26\"],[1.0,\"#f0f921\"]]}],\"choropleth\":[{\"type\":\"choropleth\",\"colorbar\":{\"outlinewidth\":0,\"ticks\":\"\"}}],\"histogram2d\":[{\"type\":\"histogram2d\",\"colorbar\":{\"outlinewidth\":0,\"ticks\":\"\"},\"colorscale\":[[0.0,\"#0d0887\"],[0.1111111111111111,\"#46039f\"],[0.2222222222222222,\"#7201a8\"],[0.3333333333333333,\"#9c179e\"],[0.4444444444444444,\"#bd3786\"],[0.5555555555555556,\"#d8576b\"],[0.6666666666666666,\"#ed7953\"],[0.7777777777777778,\"#fb9f3a\"],[0.8888888888888888,\"#fdca26\"],[1.0,\"#f0f921\"]]}],\"heatmap\":[{\"type\":\"heatmap\",\"colorbar\":{\"outlinewidth\":0,\"ticks\":\"\"},\"colorscale\":[[0.0,\"#0d0887\"],[0.1111111111111111,\"#46039f\"],[0.2222222222222222,\"#7201a8\"],[0.3333333333333333,\"#9c179e\"],[0.4444444444444444,\"#bd3786\"],[0.5555555555555556,\"#d8576b\"],[0.6666666666666666,\"#ed7953\"],[0.7777777777777778,\"#fb9f3a\"],[0.8888888888888888,\"#fdca26\"],[1.0,\"#f0f921\"]]}],\"heatmapgl\":[{\"type\":\"heatmapgl\",\"colorbar\":{\"outlinewidth\":0,\"ticks\":\"\"},\"colorscale\":[[0.0,\"#0d0887\"],[0.1111111111111111,\"#46039f\"],[0.2222222222222222,\"#7201a8\"],[0.3333333333333333,\"#9c179e\"],[0.4444444444444444,\"#bd3786\"],[0.5555555555555556,\"#d8576b\"],[0.6666666666666666,\"#ed7953\"],[0.7777777777777778,\"#fb9f3a\"],[0.8888888888888888,\"#fdca26\"],[1.0,\"#f0f921\"]]}],\"contourcarpet\":[{\"type\":\"contourcarpet\",\"colorbar\":{\"outlinewidth\":0,\"ticks\":\"\"}}],\"contour\":[{\"type\":\"contour\",\"colorbar\":{\"outlinewidth\":0,\"ticks\":\"\"},\"colorscale\":[[0.0,\"#0d0887\"],[0.1111111111111111,\"#46039f\"],[0.2222222222222222,\"#7201a8\"],[0.3333333333333333,\"#9c179e\"],[0.4444444444444444,\"#bd3786\"],[0.5555555555555556,\"#d8576b\"],[0.6666666666666666,\"#ed7953\"],[0.7777777777777778,\"#fb9f3a\"],[0.8888888888888888,\"#fdca26\"],[1.0,\"#f0f921\"]]}],\"surface\":[{\"type\":\"surface\",\"colorbar\":{\"outlinewidth\":0,\"ticks\":\"\"},\"colorscale\":[[0.0,\"#0d0887\"],[0.1111111111111111,\"#46039f\"],[0.2222222222222222,\"#7201a8\"],[0.3333333333333333,\"#9c179e\"],[0.4444444444444444,\"#bd3786\"],[0.5555555555555556,\"#d8576b\"],[0.6666666666666666,\"#ed7953\"],[0.7777777777777778,\"#fb9f3a\"],[0.8888888888888888,\"#fdca26\"],[1.0,\"#f0f921\"]]}],\"mesh3d\":[{\"type\":\"mesh3d\",\"colorbar\":{\"outlinewidth\":0,\"ticks\":\"\"}}],\"scatter\":[{\"fillpattern\":{\"fillmode\":\"overlay\",\"size\":10,\"solidity\":0.2},\"type\":\"scatter\"}],\"parcoords\":[{\"type\":\"parcoords\",\"line\":{\"colorbar\":{\"outlinewidth\":0,\"ticks\":\"\"}}}],\"scatterpolargl\":[{\"type\":\"scatterpolargl\",\"marker\":{\"colorbar\":{\"outlinewidth\":0,\"ticks\":\"\"}}}],\"bar\":[{\"error_x\":{\"color\":\"#2a3f5f\"},\"error_y\":{\"color\":\"#2a3f5f\"},\"marker\":{\"line\":{\"color\":\"#E5ECF6\",\"width\":0.5},\"pattern\":{\"fillmode\":\"overlay\",\"size\":10,\"solidity\":0.2}},\"type\":\"bar\"}],\"scattergeo\":[{\"type\":\"scattergeo\",\"marker\":{\"colorbar\":{\"outlinewidth\":0,\"ticks\":\"\"}}}],\"scatterpolar\":[{\"type\":\"scatterpolar\",\"marker\":{\"colorbar\":{\"outlinewidth\":0,\"ticks\":\"\"}}}],\"histogram\":[{\"marker\":{\"pattern\":{\"fillmode\":\"overlay\",\"size\":10,\"solidity\":0.2}},\"type\":\"histogram\"}],\"scattergl\":[{\"type\":\"scattergl\",\"marker\":{\"colorbar\":{\"outlinewidth\":0,\"ticks\":\"\"}}}],\"scatter3d\":[{\"type\":\"scatter3d\",\"line\":{\"colorbar\":{\"outlinewidth\":0,\"ticks\":\"\"}},\"marker\":{\"colorbar\":{\"outlinewidth\":0,\"ticks\":\"\"}}}],\"scattermapbox\":[{\"type\":\"scattermapbox\",\"marker\":{\"colorbar\":{\"outlinewidth\":0,\"ticks\":\"\"}}}],\"scatterternary\":[{\"type\":\"scatterternary\",\"marker\":{\"colorbar\":{\"outlinewidth\":0,\"ticks\":\"\"}}}],\"scattercarpet\":[{\"type\":\"scattercarpet\",\"marker\":{\"colorbar\":{\"outlinewidth\":0,\"ticks\":\"\"}}}],\"carpet\":[{\"aaxis\":{\"endlinecolor\":\"#2a3f5f\",\"gridcolor\":\"white\",\"linecolor\":\"white\",\"minorgridcolor\":\"white\",\"startlinecolor\":\"#2a3f5f\"},\"baxis\":{\"endlinecolor\":\"#2a3f5f\",\"gridcolor\":\"white\",\"linecolor\":\"white\",\"minorgridcolor\":\"white\",\"startlinecolor\":\"#2a3f5f\"},\"type\":\"carpet\"}],\"table\":[{\"cells\":{\"fill\":{\"color\":\"#EBF0F8\"},\"line\":{\"color\":\"white\"}},\"header\":{\"fill\":{\"color\":\"#C8D4E3\"},\"line\":{\"color\":\"white\"}},\"type\":\"table\"}],\"barpolar\":[{\"marker\":{\"line\":{\"color\":\"#E5ECF6\",\"width\":0.5},\"pattern\":{\"fillmode\":\"overlay\",\"size\":10,\"solidity\":0.2}},\"type\":\"barpolar\"}],\"pie\":[{\"automargin\":true,\"type\":\"pie\"}]},\"layout\":{\"autotypenumbers\":\"strict\",\"colorway\":[\"#636efa\",\"#EF553B\",\"#00cc96\",\"#ab63fa\",\"#FFA15A\",\"#19d3f3\",\"#FF6692\",\"#B6E880\",\"#FF97FF\",\"#FECB52\"],\"font\":{\"color\":\"#2a3f5f\"},\"hovermode\":\"closest\",\"hoverlabel\":{\"align\":\"left\"},\"paper_bgcolor\":\"white\",\"plot_bgcolor\":\"#E5ECF6\",\"polar\":{\"bgcolor\":\"#E5ECF6\",\"angularaxis\":{\"gridcolor\":\"white\",\"linecolor\":\"white\",\"ticks\":\"\"},\"radialaxis\":{\"gridcolor\":\"white\",\"linecolor\":\"white\",\"ticks\":\"\"}},\"ternary\":{\"bgcolor\":\"#E5ECF6\",\"aaxis\":{\"gridcolor\":\"white\",\"linecolor\":\"white\",\"ticks\":\"\"},\"baxis\":{\"gridcolor\":\"white\",\"linecolor\":\"white\",\"ticks\":\"\"},\"caxis\":{\"gridcolor\":\"white\",\"linecolor\":\"white\",\"ticks\":\"\"}},\"coloraxis\":{\"colorbar\":{\"outlinewidth\":0,\"ticks\":\"\"}},\"colorscale\":{\"sequential\":[[0.0,\"#0d0887\"],[0.1111111111111111,\"#46039f\"],[0.2222222222222222,\"#7201a8\"],[0.3333333333333333,\"#9c179e\"],[0.4444444444444444,\"#bd3786\"],[0.5555555555555556,\"#d8576b\"],[0.6666666666666666,\"#ed7953\"],[0.7777777777777778,\"#fb9f3a\"],[0.8888888888888888,\"#fdca26\"],[1.0,\"#f0f921\"]],\"sequentialminus\":[[0.0,\"#0d0887\"],[0.1111111111111111,\"#46039f\"],[0.2222222222222222,\"#7201a8\"],[0.3333333333333333,\"#9c179e\"],[0.4444444444444444,\"#bd3786\"],[0.5555555555555556,\"#d8576b\"],[0.6666666666666666,\"#ed7953\"],[0.7777777777777778,\"#fb9f3a\"],[0.8888888888888888,\"#fdca26\"],[1.0,\"#f0f921\"]],\"diverging\":[[0,\"#8e0152\"],[0.1,\"#c51b7d\"],[0.2,\"#de77ae\"],[0.3,\"#f1b6da\"],[0.4,\"#fde0ef\"],[0.5,\"#f7f7f7\"],[0.6,\"#e6f5d0\"],[0.7,\"#b8e186\"],[0.8,\"#7fbc41\"],[0.9,\"#4d9221\"],[1,\"#276419\"]]},\"xaxis\":{\"gridcolor\":\"white\",\"linecolor\":\"white\",\"ticks\":\"\",\"title\":{\"standoff\":15},\"zerolinecolor\":\"white\",\"automargin\":true,\"zerolinewidth\":2},\"yaxis\":{\"gridcolor\":\"white\",\"linecolor\":\"white\",\"ticks\":\"\",\"title\":{\"standoff\":15},\"zerolinecolor\":\"white\",\"automargin\":true,\"zerolinewidth\":2},\"scene\":{\"xaxis\":{\"backgroundcolor\":\"#E5ECF6\",\"gridcolor\":\"white\",\"linecolor\":\"white\",\"showbackground\":true,\"ticks\":\"\",\"zerolinecolor\":\"white\",\"gridwidth\":2},\"yaxis\":{\"backgroundcolor\":\"#E5ECF6\",\"gridcolor\":\"white\",\"linecolor\":\"white\",\"showbackground\":true,\"ticks\":\"\",\"zerolinecolor\":\"white\",\"gridwidth\":2},\"zaxis\":{\"backgroundcolor\":\"#E5ECF6\",\"gridcolor\":\"white\",\"linecolor\":\"white\",\"showbackground\":true,\"ticks\":\"\",\"zerolinecolor\":\"white\",\"gridwidth\":2}},\"shapedefaults\":{\"line\":{\"color\":\"#2a3f5f\"}},\"annotationdefaults\":{\"arrowcolor\":\"#2a3f5f\",\"arrowhead\":0,\"arrowwidth\":1},\"geo\":{\"bgcolor\":\"white\",\"landcolor\":\"#E5ECF6\",\"subunitcolor\":\"white\",\"showland\":true,\"showlakes\":true,\"lakecolor\":\"white\"},\"title\":{\"x\":0.05},\"mapbox\":{\"style\":\"light\"}}},\"xaxis\":{\"anchor\":\"y\",\"domain\":[0.0,0.495],\"showgrid\":false},\"yaxis\":{\"anchor\":\"x\",\"domain\":[0.0,1.0],\"showgrid\":false,\"title\":{\"text\":\"Mean Passing Differential\"}},\"xaxis2\":{\"anchor\":\"y2\",\"domain\":[0.505,1.0],\"showgrid\":false},\"yaxis2\":{\"anchor\":\"x2\",\"domain\":[0.0,1.0],\"matches\":\"y\",\"showticklabels\":false,\"showgrid\":false},\"annotations\":[{\"font\":{\"size\":16},\"showarrow\":false,\"text\":\"2021 pass diff\",\"x\":0.2475,\"xanchor\":\"center\",\"xref\":\"paper\",\"y\":1.0,\"yanchor\":\"bottom\",\"yref\":\"paper\"},{\"font\":{\"size\":16},\"showarrow\":false,\"text\":\"2022 pass diff\",\"x\":0.7525,\"xanchor\":\"center\",\"xref\":\"paper\",\"y\":1.0,\"yanchor\":\"bottom\",\"yref\":\"paper\"}],\"title\":{\"text\":\"<b>Full Time Drivers Pass Differential 2021 vs 2022</b>\",\"x\":0.5},\"plot_bgcolor\":\"rgba(220, 239, 255, 0.8)\",\"showlegend\":false,\"height\":600,\"width\":900,\"autosize\":false},                        {\"responsive\": true}                    ).then(function(){\n                            \nvar gd = document.getElementById('93631ac8-a1b2-47f9-800c-7dbe222f5116');\nvar x = new MutationObserver(function (mutations, observer) {{\n        var display = window.getComputedStyle(gd).display;\n        if (!display || display === 'none') {{\n            console.log([gd, 'removed!']);\n            Plotly.purge(gd);\n            observer.disconnect();\n        }}\n}});\n\n// Listen for the removal of the full notebook cells\nvar notebookContainer = gd.closest('#notebook-container');\nif (notebookContainer) {{\n    x.observe(notebookContainer, {childList: true});\n}}\n\n// Listen for the clearing of the current output cell\nvar outputEl = gd.closest('.output');\nif (outputEl) {{\n    x.observe(outputEl, {childList: true});\n}}\n\n                        })                };                            </script>        </div>\n</body>\n</html>"
     },
     "metadata": {},
     "output_type": "display_data"
    }
   ]
  },
  {
   "cell_type": "code",
   "metadata": {
    "tags": [],
    "deepnote_to_be_reexecuted": false,
    "source_hash": "b623e53d",
    "execution_start": 1653428913451,
    "execution_millis": 58014731,
    "cell_id": "00023-df331eb4-62eb-46d9-9a01-b02966806b9e",
    "deepnote_cell_type": "code",
    "deepnote_cell_height": 81
   },
   "source": "",
   "execution_count": 20,
   "outputs": []
  },
  {
   "cell_type": "markdown",
   "source": "<a style='text-decoration:none;line-height:16px;display:flex;color:#5B5B62;padding:10px;justify-content:end;' href='https://deepnote.com?utm_source=created-in-deepnote-cell&projectId=9ef4eb23-f38f-47e8-bfb0-51d8616b0dee' target=\"_blank\">\n<img alt='Created in deepnote.com' style='display:inline;max-height:16px;margin:0px;margin-right:7.5px;' src='data:image/svg+xml;base64,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' > </img>\nCreated in <span style='font-weight:600;margin-left:4px;'>Deepnote</span></a>",
   "metadata": {
    "tags": [],
    "created_in_deepnote_cell": true,
    "deepnote_cell_type": "markdown"
   }
  }
 ],
 "nbformat": 4,
 "nbformat_minor": 2,
 "metadata": {
  "orig_nbformat": 2,
  "deepnote": {},
  "deepnote_notebook_id": "6bf39920-bcdd-406f-9c28-b0cfba0a18c3",
  "deepnote_execution_queue": []
 }
}