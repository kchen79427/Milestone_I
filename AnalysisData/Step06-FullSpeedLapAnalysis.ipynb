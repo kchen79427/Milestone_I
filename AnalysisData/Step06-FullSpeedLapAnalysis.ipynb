{
 "cells": [
  {
   "cell_type": "code",
   "metadata": {
    "tags": [],
    "deepnote_to_be_reexecuted": false,
    "source_hash": "b18e70dd",
    "execution_start": 1653250067911,
    "execution_millis": 43,
    "cell_id": "dda5ed8b-a70b-44d1-9775-8e1a99fde2c2",
    "deepnote_cell_type": "code",
    "deepnote_cell_height": 81.453125
   },
   "source": "#pip install kaleido",
   "execution_count": null,
   "outputs": []
  },
  {
   "cell_type": "code",
   "metadata": {
    "tags": [],
    "deepnote_to_be_reexecuted": false,
    "source_hash": "434f8f62",
    "execution_start": 1653250067955,
    "execution_millis": 428,
    "cell_id": "00001-bd0e31dc-ed03-4d19-a12f-51844ce61ed5",
    "deepnote_cell_type": "code",
    "deepnote_cell_height": 171.453125
   },
   "source": "import pandas as pd\npd.set_option('max_columns', None)\nimport numpy as np\nfrom plotly.subplots import make_subplots\nimport plotly.graph_objects as go\nimport plotly.express as px",
   "execution_count": null,
   "outputs": []
  },
  {
   "cell_type": "code",
   "metadata": {
    "tags": [],
    "deepnote_to_be_reexecuted": false,
    "source_hash": "2c53da21",
    "execution_start": 1653428657918,
    "execution_millis": 90,
    "cell_id": "00002-0a541bd6-ff3b-459e-b63b-a66a2927bf20",
    "deepnote_cell_type": "code",
    "deepnote_cell_height": 153.46875
   },
   "source": "# if any of the pickle files cannot be reached, please update the directories\n# to the download loaction of the zip then navigate to data/Races_Combined\n\nallraces21 = pd.read_pickle(\"/work/Milestone_I/data/Races_Combined/allraces_21.pkl\")\nallraces22 = pd.read_pickle(\"/work/Milestone_I/data/Races_Combined/allraces_22.pkl\")",
   "execution_count": 1,
   "outputs": [
    {
     "output_type": "error",
     "ename": "NameError",
     "evalue": "name 'pd' is not defined",
     "traceback": [
      "\u001b[0;31m---------------------------------------------------------------------------\u001b[0m",
      "\u001b[0;31mNameError\u001b[0m                                 Traceback (most recent call last)",
      "\u001b[0;32m<ipython-input-1-c87ac2f44035>\u001b[0m in \u001b[0;36m<module>\u001b[0;34m\u001b[0m\n\u001b[1;32m      2\u001b[0m \u001b[0;31m# to the download loaction of the zip then navigate to data/Races_Combined\u001b[0m\u001b[0;34m\u001b[0m\u001b[0;34m\u001b[0m\u001b[0;34m\u001b[0m\u001b[0m\n\u001b[1;32m      3\u001b[0m \u001b[0;34m\u001b[0m\u001b[0m\n\u001b[0;32m----> 4\u001b[0;31m \u001b[0mallraces21\u001b[0m \u001b[0;34m=\u001b[0m \u001b[0mpd\u001b[0m\u001b[0;34m.\u001b[0m\u001b[0mread_pickle\u001b[0m\u001b[0;34m(\u001b[0m\u001b[0;34m\"/work/Milestone_I/data/Races_Combined/allraces_21.pkl\"\u001b[0m\u001b[0;34m)\u001b[0m\u001b[0;34m\u001b[0m\u001b[0;34m\u001b[0m\u001b[0m\n\u001b[0m\u001b[1;32m      5\u001b[0m \u001b[0mallraces22\u001b[0m \u001b[0;34m=\u001b[0m \u001b[0mpd\u001b[0m\u001b[0;34m.\u001b[0m\u001b[0mread_pickle\u001b[0m\u001b[0;34m(\u001b[0m\u001b[0;34m\"/work/Milestone_I/data/Races_Combined/allraces_22.pkl\"\u001b[0m\u001b[0;34m)\u001b[0m\u001b[0;34m\u001b[0m\u001b[0;34m\u001b[0m\u001b[0m\n",
      "\u001b[0;31mNameError\u001b[0m: name 'pd' is not defined"
     ]
    }
   ]
  },
  {
   "cell_type": "code",
   "metadata": {
    "tags": [],
    "deepnote_to_be_reexecuted": false,
    "source_hash": "62c193db",
    "execution_start": 1653250068427,
    "execution_millis": 28,
    "deepnote_table_state": {
     "pageSize": 10,
     "pageIndex": 0,
     "filters": [],
     "sortBy": []
    },
    "deepnote_table_loading": false,
    "cell_id": "00003-e3cfa39f-bcdb-4311-bfa3-7471559a5699",
    "deepnote_cell_type": "code",
    "deepnote_cell_height": 153.46875
   },
   "source": "reddick_21 = allraces21[allraces21[\"Driver\"] == \"Tyler Reddick\"]\nreddick_22 = allraces22[allraces22[\"Driver\"] == \"Tyler Reddick\"]\n\ndillon_21 = allraces21[allraces21[\"Driver\"] == \"Austin Dillon\"]\ndillon_22 = allraces22[allraces22[\"Driver\"] == \"Austin Dillon\"]",
   "execution_count": null,
   "outputs": []
  },
  {
   "cell_type": "code",
   "metadata": {
    "tags": [],
    "deepnote_to_be_reexecuted": false,
    "source_hash": "6ccfc7ac",
    "execution_start": 1653250068459,
    "execution_millis": 14,
    "cell_id": "00004-5ce89e88-91d7-4172-8597-ae35b96e787b",
    "deepnote_cell_type": "code",
    "deepnote_cell_height": 315.46875
   },
   "source": "def just_lap_data(df, car_num):\n    df = df[[\"Race #\", \"Fastest Lap\", \"Median Lap\", \"Average Full Speed Lap\", \"Fastest Lap % Deficit\",\n    \"Median Lap % Deficit\", \"Average Full Speed Lap % Deficit\", \"Fastest Lap Rank\", \"Median Lap Rank\",\n    \"Average Full Speed Lap Rank\"]]\n    df = df.rename(columns = {\"Fastest Lap\": \"{} Fastest Lap\".format(car_num),\n    \"Median Lap\": \"{} Median Lap\".format(car_num),\n    \"Average Full Speed Lap\": \"{} Average Full Speed Lap\".format(car_num),\n    \"Fastest Lap % Deficit\": \"{} Fastest Lap % Deficit\".format(car_num),\n    \"Median Lap % Deficit\": \"{} Median Lap % Deficit\".format(car_num),\n    \"Average Full Speed Lap % Deficit\": \"{} Average Full Speed Lap % Deficit\".format(car_num),\n    \"Fastest Lap Rank\": \"{} Fastest Lap Rank\".format(car_num),\n    \"Median Lap Rank\": \"{} Median Lap Rank\".format(car_num),\n    \"Average Full Speed Lap Rank\": \"{} Average Full Speed Lap Rank\".format(car_num)})\n    return df",
   "execution_count": null,
   "outputs": []
  },
  {
   "cell_type": "code",
   "metadata": {
    "tags": [],
    "deepnote_to_be_reexecuted": false,
    "source_hash": "8c842c73",
    "execution_start": 1653250068495,
    "execution_millis": 205,
    "cell_id": "00005-8faf542b-0d48-4980-bfaf-af1b9775228e",
    "deepnote_cell_type": "code",
    "deepnote_cell_height": 766.125
   },
   "source": "reddick_21 = just_lap_data(reddick_21, car_num = 8)\ndillon_21 = just_lap_data(dillon_21, car_num = 3)\nrcrlaps_21 = pd.merge(reddick_21, dillon_21, on = \"Race #\")\n\n\nreddick_22 = just_lap_data(reddick_22, car_num = 8)\ndillon_22 = just_lap_data(dillon_22, car_num = 3)\nrcrlaps_22 = pd.merge(reddick_22, dillon_22, on = \"Race #\")\nrcrlaps_22",
   "execution_count": null,
   "outputs": [
    {
     "output_type": "execute_result",
     "execution_count": 6,
     "data": {
      "application/vnd.deepnote.dataframe.v3+json": {
       "column_count": 19,
       "row_count": 13,
       "columns": [
        {
         "name": "Race #",
         "dtype": "int64",
         "stats": {
          "unique_count": 13,
          "nan_count": 0,
          "min": "1",
          "max": "13",
          "histogram": [
           {
            "bin_start": 1,
            "bin_end": 2.2,
            "count": 2
           },
           {
            "bin_start": 2.2,
            "bin_end": 3.4,
            "count": 1
           },
           {
            "bin_start": 3.4,
            "bin_end": 4.6,
            "count": 1
           },
           {
            "bin_start": 4.6,
            "bin_end": 5.8,
            "count": 1
           },
           {
            "bin_start": 5.8,
            "bin_end": 7,
            "count": 1
           },
           {
            "bin_start": 7,
            "bin_end": 8.2,
            "count": 2
           },
           {
            "bin_start": 8.2,
            "bin_end": 9.4,
            "count": 1
           },
           {
            "bin_start": 9.4,
            "bin_end": 10.6,
            "count": 1
           },
           {
            "bin_start": 10.6,
            "bin_end": 11.799999999999999,
            "count": 1
           },
           {
            "bin_start": 11.799999999999999,
            "bin_end": 13,
            "count": 2
           }
          ]
         }
        },
        {
         "name": "8 Fastest Lap",
         "dtype": "float64",
         "stats": {
          "unique_count": 13,
          "nan_count": 0,
          "min": "19.308",
          "max": "134.439",
          "histogram": [
           {
            "bin_start": 19.308,
            "bin_end": 30.8211,
            "count": 9
           },
           {
            "bin_start": 30.8211,
            "bin_end": 42.334199999999996,
            "count": 1
           },
           {
            "bin_start": 42.334199999999996,
            "bin_end": 53.8473,
            "count": 2
           },
           {
            "bin_start": 53.8473,
            "bin_end": 65.3604,
            "count": 0
           },
           {
            "bin_start": 65.3604,
            "bin_end": 76.8735,
            "count": 0
           },
           {
            "bin_start": 76.8735,
            "bin_end": 88.38659999999999,
            "count": 0
           },
           {
            "bin_start": 88.38659999999999,
            "bin_end": 99.8997,
            "count": 0
           },
           {
            "bin_start": 99.8997,
            "bin_end": 111.4128,
            "count": 0
           },
           {
            "bin_start": 111.4128,
            "bin_end": 122.92589999999998,
            "count": 0
           },
           {
            "bin_start": 122.92589999999998,
            "bin_end": 134.439,
            "count": 1
           }
          ]
         }
        },
        {
         "name": "8 Median Lap",
         "dtype": "float64",
         "stats": {
          "unique_count": 13,
          "nan_count": 0,
          "min": "20.39",
          "max": "136.923",
          "histogram": [
           {
            "bin_start": 20.39,
            "bin_end": 32.0433,
            "count": 8
           },
           {
            "bin_start": 32.0433,
            "bin_end": 43.696600000000004,
            "count": 2
           },
           {
            "bin_start": 43.696600000000004,
            "bin_end": 55.3499,
            "count": 2
           },
           {
            "bin_start": 55.3499,
            "bin_end": 67.00319999999999,
            "count": 0
           },
           {
            "bin_start": 67.00319999999999,
            "bin_end": 78.6565,
            "count": 0
           },
           {
            "bin_start": 78.6565,
            "bin_end": 90.3098,
            "count": 0
           },
           {
            "bin_start": 90.3098,
            "bin_end": 101.9631,
            "count": 0
           },
           {
            "bin_start": 101.9631,
            "bin_end": 113.6164,
            "count": 0
           },
           {
            "bin_start": 113.6164,
            "bin_end": 125.2697,
            "count": 0
           },
           {
            "bin_start": 125.2697,
            "bin_end": 136.923,
            "count": 1
           }
          ]
         }
        },
        {
         "name": "8 Average Full Speed Lap",
         "dtype": "float64",
         "stats": {
          "unique_count": 13,
          "nan_count": 0,
          "min": "20.075",
          "max": "136.84",
          "histogram": [
           {
            "bin_start": 20.075,
            "bin_end": 31.7515,
            "count": 8
           },
           {
            "bin_start": 31.7515,
            "bin_end": 43.428,
            "count": 2
           },
           {
            "bin_start": 43.428,
            "bin_end": 55.1045,
            "count": 2
           },
           {
            "bin_start": 55.1045,
            "bin_end": 66.781,
            "count": 0
           },
           {
            "bin_start": 66.781,
            "bin_end": 78.45750000000001,
            "count": 0
           },
           {
            "bin_start": 78.45750000000001,
            "bin_end": 90.134,
            "count": 0
           },
           {
            "bin_start": 90.134,
            "bin_end": 101.8105,
            "count": 0
           },
           {
            "bin_start": 101.8105,
            "bin_end": 113.48700000000001,
            "count": 0
           },
           {
            "bin_start": 113.48700000000001,
            "bin_end": 125.16350000000001,
            "count": 0
           },
           {
            "bin_start": 125.16350000000001,
            "bin_end": 136.84,
            "count": 1
           }
          ]
         }
        },
        {
         "name": "8 Fastest Lap % Deficit",
         "dtype": "float64",
         "stats": {
          "unique_count": 13,
          "nan_count": 0,
          "min": "-2.8764656800316084",
          "max": "0.0",
          "histogram": [
           {
            "bin_start": -2.8764656800316084,
            "bin_end": -2.5888191120284474,
            "count": 1
           },
           {
            "bin_start": -2.5888191120284474,
            "bin_end": -2.301172544025287,
            "count": 0
           },
           {
            "bin_start": -2.301172544025287,
            "bin_end": -2.013525976022126,
            "count": 0
           },
           {
            "bin_start": -2.013525976022126,
            "bin_end": -1.725879408018965,
            "count": 0
           },
           {
            "bin_start": -1.725879408018965,
            "bin_end": -1.4382328400158042,
            "count": 2
           },
           {
            "bin_start": -1.4382328400158042,
            "bin_end": -1.1505862720126432,
            "count": 3
           },
           {
            "bin_start": -1.1505862720126432,
            "bin_end": -0.8629397040094826,
            "count": 1
           },
           {
            "bin_start": -0.8629397040094826,
            "bin_end": -0.5752931360063216,
            "count": 3
           },
           {
            "bin_start": -0.5752931360063216,
            "bin_end": -0.2876465680031606,
            "count": 1
           },
           {
            "bin_start": -0.2876465680031606,
            "bin_end": 0,
            "count": 2
           }
          ]
         }
        },
        {
         "name": "8 Median Lap % Deficit",
         "dtype": "float64",
         "stats": {
          "unique_count": 13,
          "nan_count": 0,
          "min": "-2.4634655532359075",
          "max": "-0.0023077633157889536",
          "histogram": [
           {
            "bin_start": -2.4634655532359075,
            "bin_end": -2.2173497742438957,
            "count": 1
           },
           {
            "bin_start": -2.2173497742438957,
            "bin_end": -1.9712339952518838,
            "count": 0
           },
           {
            "bin_start": -1.9712339952518838,
            "bin_end": -1.725118216259872,
            "count": 0
           },
           {
            "bin_start": -1.725118216259872,
            "bin_end": -1.47900243726786,
            "count": 1
           },
           {
            "bin_start": -1.47900243726786,
            "bin_end": -1.2328866582758482,
            "count": 1
           },
           {
            "bin_start": -1.2328866582758482,
            "bin_end": -0.9867708792838363,
            "count": 0
           },
           {
            "bin_start": -0.9867708792838363,
            "bin_end": -0.7406551002918245,
            "count": 0
           },
           {
            "bin_start": -0.7406551002918245,
            "bin_end": -0.4945393212998126,
            "count": 3
           },
           {
            "bin_start": -0.4945393212998126,
            "bin_end": -0.24842354230780073,
            "count": 4
           },
           {
            "bin_start": -0.24842354230780073,
            "bin_end": -0.0023077633157889536,
            "count": 3
           }
          ]
         }
        },
        {
         "name": "8 Average Full Speed Lap % Deficit",
         "dtype": "float64",
         "stats": {
          "unique_count": 12,
          "nan_count": 0,
          "min": "-1.7635723860589785",
          "max": "0.0",
          "histogram": [
           {
            "bin_start": -1.7635723860589785,
            "bin_end": -1.5872151474530807,
            "count": 1
           },
           {
            "bin_start": -1.5872151474530807,
            "bin_end": -1.4108579088471829,
            "count": 0
           },
           {
            "bin_start": -1.4108579088471829,
            "bin_end": -1.2345006702412848,
            "count": 0
           },
           {
            "bin_start": -1.2345006702412848,
            "bin_end": -1.058143431635387,
            "count": 0
           },
           {
            "bin_start": -1.058143431635387,
            "bin_end": -0.8817861930294892,
            "count": 2
           },
           {
            "bin_start": -0.8817861930294892,
            "bin_end": -0.7054289544235912,
            "count": 1
           },
           {
            "bin_start": -0.7054289544235912,
            "bin_end": -0.5290717158176934,
            "count": 2
           },
           {
            "bin_start": -0.5290717158176934,
            "bin_end": -0.3527144772117956,
            "count": 3
           },
           {
            "bin_start": -0.3527144772117956,
            "bin_end": -0.1763572386058978,
            "count": 2
           },
           {
            "bin_start": -0.1763572386058978,
            "bin_end": 0,
            "count": 2
           }
          ]
         }
        },
        {
         "name": "8 Fastest Lap Rank",
         "dtype": "float64",
         "stats": {
          "unique_count": 13,
          "nan_count": 0,
          "min": "1.0",
          "max": "37.0",
          "histogram": [
           {
            "bin_start": 1,
            "bin_end": 4.6,
            "count": 3
           },
           {
            "bin_start": 4.6,
            "bin_end": 8.2,
            "count": 1
           },
           {
            "bin_start": 8.2,
            "bin_end": 11.8,
            "count": 2
           },
           {
            "bin_start": 11.8,
            "bin_end": 15.4,
            "count": 2
           },
           {
            "bin_start": 15.4,
            "bin_end": 19,
            "count": 2
           },
           {
            "bin_start": 19,
            "bin_end": 22.6,
            "count": 1
           },
           {
            "bin_start": 22.6,
            "bin_end": 26.2,
            "count": 0
           },
           {
            "bin_start": 26.2,
            "bin_end": 29.8,
            "count": 1
           },
           {
            "bin_start": 29.8,
            "bin_end": 33.4,
            "count": 0
           },
           {
            "bin_start": 33.4,
            "bin_end": 37,
            "count": 1
           }
          ]
         }
        },
        {
         "name": "8 Median Lap Rank",
         "dtype": "float64",
         "stats": {
          "unique_count": 11,
          "nan_count": 0,
          "min": "2.0",
          "max": "30.0",
          "histogram": [
           {
            "bin_start": 2,
            "bin_end": 4.8,
            "count": 3
           },
           {
            "bin_start": 4.8,
            "bin_end": 7.6,
            "count": 3
           },
           {
            "bin_start": 7.6,
            "bin_end": 10.399999999999999,
            "count": 1
           },
           {
            "bin_start": 10.399999999999999,
            "bin_end": 13.2,
            "count": 0
           },
           {
            "bin_start": 13.2,
            "bin_end": 16,
            "count": 2
           },
           {
            "bin_start": 16,
            "bin_end": 18.799999999999997,
            "count": 2
           },
           {
            "bin_start": 18.799999999999997,
            "bin_end": 21.599999999999998,
            "count": 0
           },
           {
            "bin_start": 21.599999999999998,
            "bin_end": 24.4,
            "count": 1
           },
           {
            "bin_start": 24.4,
            "bin_end": 27.2,
            "count": 0
           },
           {
            "bin_start": 27.2,
            "bin_end": 30,
            "count": 1
           }
          ]
         }
        },
        {
         "name": "8 Average Full Speed Lap Rank",
         "dtype": "float64",
         "stats": {
          "unique_count": 11,
          "nan_count": 0,
          "min": "1.0",
          "max": "24.0",
          "histogram": [
           {
            "bin_start": 1,
            "bin_end": 3.3,
            "count": 2
           },
           {
            "bin_start": 3.3,
            "bin_end": 5.6,
            "count": 2
           },
           {
            "bin_start": 5.6,
            "bin_end": 7.8999999999999995,
            "count": 0
           },
           {
            "bin_start": 7.8999999999999995,
            "bin_end": 10.2,
            "count": 3
           },
           {
            "bin_start": 10.2,
            "bin_end": 12.5,
            "count": 0
           },
           {
            "bin_start": 12.5,
            "bin_end": 14.799999999999999,
            "count": 0
           },
           {
            "bin_start": 14.799999999999999,
            "bin_end": 17.099999999999998,
            "count": 2
           },
           {
            "bin_start": 17.099999999999998,
            "bin_end": 19.4,
            "count": 0
           },
           {
            "bin_start": 19.4,
            "bin_end": 21.7,
            "count": 2
           },
           {
            "bin_start": 21.7,
            "bin_end": 24,
            "count": 2
           }
          ]
         }
        },
        {
         "name": "3 Fastest Lap",
         "dtype": "float64",
         "stats": {
          "unique_count": 13,
          "nan_count": 0,
          "min": "19.514",
          "max": "135.206",
          "histogram": [
           {
            "bin_start": 19.514,
            "bin_end": 31.083199999999998,
            "count": 8
           },
           {
            "bin_start": 31.083199999999998,
            "bin_end": 42.6524,
            "count": 2
           },
           {
            "bin_start": 42.6524,
            "bin_end": 54.221599999999995,
            "count": 2
           },
           {
            "bin_start": 54.221599999999995,
            "bin_end": 65.79079999999999,
            "count": 0
           },
           {
            "bin_start": 65.79079999999999,
            "bin_end": 77.35999999999999,
            "count": 0
           },
           {
            "bin_start": 77.35999999999999,
            "bin_end": 88.9292,
            "count": 0
           },
           {
            "bin_start": 88.9292,
            "bin_end": 100.49839999999999,
            "count": 0
           },
           {
            "bin_start": 100.49839999999999,
            "bin_end": 112.06759999999998,
            "count": 0
           },
           {
            "bin_start": 112.06759999999998,
            "bin_end": 123.63679999999998,
            "count": 0
           },
           {
            "bin_start": 123.63679999999998,
            "bin_end": 135.206,
            "count": 1
           }
          ]
         }
        },
        {
         "name": "3 Median Lap",
         "dtype": "float64",
         "stats": {
          "unique_count": 13,
          "nan_count": 0,
          "min": "20.518",
          "max": "140.401",
          "histogram": [
           {
            "bin_start": 20.518,
            "bin_end": 32.5063,
            "count": 9
           },
           {
            "bin_start": 32.5063,
            "bin_end": 44.494600000000005,
            "count": 1
           },
           {
            "bin_start": 44.494600000000005,
            "bin_end": 56.4829,
            "count": 2
           },
           {
            "bin_start": 56.4829,
            "bin_end": 68.47120000000001,
            "count": 0
           },
           {
            "bin_start": 68.47120000000001,
            "bin_end": 80.4595,
            "count": 0
           },
           {
            "bin_start": 80.4595,
            "bin_end": 92.4478,
            "count": 0
           },
           {
            "bin_start": 92.4478,
            "bin_end": 104.43610000000001,
            "count": 0
           },
           {
            "bin_start": 104.43610000000001,
            "bin_end": 116.4244,
            "count": 0
           },
           {
            "bin_start": 116.4244,
            "bin_end": 128.4127,
            "count": 0
           },
           {
            "bin_start": 128.4127,
            "bin_end": 140.401,
            "count": 1
           }
          ]
         }
        },
        {
         "name": "3 Average Full Speed Lap",
         "dtype": "float64",
         "stats": {
          "unique_count": 13,
          "nan_count": 0,
          "min": "20.218",
          "max": "138.151",
          "histogram": [
           {
            "bin_start": 20.218,
            "bin_end": 32.0113,
            "count": 8
           },
           {
            "bin_start": 32.0113,
            "bin_end": 43.8046,
            "count": 2
           },
           {
            "bin_start": 43.8046,
            "bin_end": 55.597899999999996,
            "count": 2
           },
           {
            "bin_start": 55.597899999999996,
            "bin_end": 67.3912,
            "count": 0
           },
           {
            "bin_start": 67.3912,
            "bin_end": 79.1845,
            "count": 0
           },
           {
            "bin_start": 79.1845,
            "bin_end": 90.9778,
            "count": 0
           },
           {
            "bin_start": 90.9778,
            "bin_end": 102.7711,
            "count": 0
           },
           {
            "bin_start": 102.7711,
            "bin_end": 114.5644,
            "count": 0
           },
           {
            "bin_start": 114.5644,
            "bin_end": 126.35770000000001,
            "count": 0
           },
           {
            "bin_start": 126.35770000000001,
            "bin_end": 138.151,
            "count": 1
           }
          ]
         }
        },
        {
         "name": "3 Fastest Lap % Deficit",
         "dtype": "float64",
         "stats": {
          "unique_count": 13,
          "nan_count": 0,
          "min": "-4.3168942953756995",
          "max": "-0.24418427191663264",
          "histogram": [
           {
            "bin_start": -4.3168942953756995,
            "bin_end": -3.9096232930297927,
            "count": 1
           },
           {
            "bin_start": -3.9096232930297927,
            "bin_end": -3.502352290683886,
            "count": 2
           },
           {
            "bin_start": -3.502352290683886,
            "bin_end": -3.0950812883379797,
            "count": 0
           },
           {
            "bin_start": -3.0950812883379797,
            "bin_end": -2.687810285992073,
            "count": 0
           },
           {
            "bin_start": -2.687810285992073,
            "bin_end": -2.280539283646166,
            "count": 1
           },
           {
            "bin_start": -2.280539283646166,
            "bin_end": -1.87326828130026,
            "count": 0
           },
           {
            "bin_start": -1.87326828130026,
            "bin_end": -1.4659972789543532,
            "count": 0
           },
           {
            "bin_start": -1.4659972789543532,
            "bin_end": -1.0587262766084464,
            "count": 5
           },
           {
            "bin_start": -1.0587262766084464,
            "bin_end": -0.6514552742625397,
            "count": 3
           },
           {
            "bin_start": -0.6514552742625397,
            "bin_end": -0.24418427191663264,
            "count": 1
           }
          ]
         }
        },
        {
         "name": "3 Median Lap % Deficit",
         "dtype": "float64",
         "stats": {
          "unique_count": 13,
          "nan_count": 0,
          "min": "-5.613990352946183",
          "max": "-0.12687878196369218",
          "histogram": [
           {
            "bin_start": -5.613990352946183,
            "bin_end": -5.065279195847934,
            "count": 1
           },
           {
            "bin_start": -5.065279195847934,
            "bin_end": -4.516568038749685,
            "count": 0
           },
           {
            "bin_start": -4.516568038749685,
            "bin_end": -3.9678568816514357,
            "count": 0
           },
           {
            "bin_start": -3.9678568816514357,
            "bin_end": -3.4191457245531867,
            "count": 0
           },
           {
            "bin_start": -3.4191457245531867,
            "bin_end": -2.8704345674549376,
            "count": 1
           },
           {
            "bin_start": -2.8704345674549376,
            "bin_end": -2.3217234103566886,
            "count": 1
           },
           {
            "bin_start": -2.3217234103566886,
            "bin_end": -1.7730122532584396,
            "count": 3
           },
           {
            "bin_start": -1.7730122532584396,
            "bin_end": -1.2243010961601906,
            "count": 1
           },
           {
            "bin_start": -1.2243010961601906,
            "bin_end": -0.6755899390619415,
            "count": 3
           },
           {
            "bin_start": -0.6755899390619415,
            "bin_end": -0.12687878196369218,
            "count": 3
           }
          ]
         }
        },
        {
         "name": "3 Average Full Speed Lap % Deficit",
         "dtype": "float64",
         "stats": {
          "unique_count": 13,
          "nan_count": 0,
          "min": "-2.4380026809651505",
          "max": "-0.24926686217008007",
          "histogram": [
           {
            "bin_start": -2.4380026809651505,
            "bin_end": -2.2191290990856434,
            "count": 3
           },
           {
            "bin_start": -2.2191290990856434,
            "bin_end": -2.0002555172061363,
            "count": 0
           },
           {
            "bin_start": -2.0002555172061363,
            "bin_end": -1.7813819353266294,
            "count": 0
           },
           {
            "bin_start": -1.7813819353266294,
            "bin_end": -1.5625083534471225,
            "count": 2
           },
           {
            "bin_start": -1.5625083534471225,
            "bin_end": -1.3436347715676153,
            "count": 2
           },
           {
            "bin_start": -1.3436347715676153,
            "bin_end": -1.1247611896881082,
            "count": 0
           },
           {
            "bin_start": -1.1247611896881082,
            "bin_end": -0.9058876078086013,
            "count": 1
           },
           {
            "bin_start": -0.9058876078086013,
            "bin_end": -0.6870140259290942,
            "count": 2
           },
           {
            "bin_start": -0.6870140259290942,
            "bin_end": -0.4681404440495871,
            "count": 1
           },
           {
            "bin_start": -0.4681404440495871,
            "bin_end": -0.24926686217008007,
            "count": 2
           }
          ]
         }
        },
        {
         "name": "3 Fastest Lap Rank",
         "dtype": "float64",
         "stats": {
          "unique_count": 11,
          "nan_count": 0,
          "min": "4.0",
          "max": "34.0",
          "histogram": [
           {
            "bin_start": 4,
            "bin_end": 7,
            "count": 1
           },
           {
            "bin_start": 7,
            "bin_end": 10,
            "count": 2
           },
           {
            "bin_start": 10,
            "bin_end": 13,
            "count": 0
           },
           {
            "bin_start": 13,
            "bin_end": 16,
            "count": 3
           },
           {
            "bin_start": 16,
            "bin_end": 19,
            "count": 1
           },
           {
            "bin_start": 19,
            "bin_end": 22,
            "count": 0
           },
           {
            "bin_start": 22,
            "bin_end": 25,
            "count": 0
           },
           {
            "bin_start": 25,
            "bin_end": 28,
            "count": 3
           },
           {
            "bin_start": 28,
            "bin_end": 31,
            "count": 2
           },
           {
            "bin_start": 31,
            "bin_end": 34,
            "count": 1
           }
          ]
         }
        },
        {
         "name": "3 Median Lap Rank",
         "dtype": "float64",
         "stats": {
          "unique_count": 11,
          "nan_count": 0,
          "min": "4.0",
          "max": "33.0",
          "histogram": [
           {
            "bin_start": 4,
            "bin_end": 6.9,
            "count": 1
           },
           {
            "bin_start": 6.9,
            "bin_end": 9.8,
            "count": 0
           },
           {
            "bin_start": 9.8,
            "bin_end": 12.7,
            "count": 2
           },
           {
            "bin_start": 12.7,
            "bin_end": 15.6,
            "count": 0
           },
           {
            "bin_start": 15.6,
            "bin_end": 18.5,
            "count": 1
           },
           {
            "bin_start": 18.5,
            "bin_end": 21.4,
            "count": 4
           },
           {
            "bin_start": 21.4,
            "bin_end": 24.3,
            "count": 2
           },
           {
            "bin_start": 24.3,
            "bin_end": 27.2,
            "count": 2
           },
           {
            "bin_start": 27.2,
            "bin_end": 30.099999999999998,
            "count": 0
           },
           {
            "bin_start": 30.099999999999998,
            "bin_end": 33,
            "count": 1
           }
          ]
         }
        },
        {
         "name": "3 Average Full Speed Lap Rank",
         "dtype": "float64",
         "stats": {
          "unique_count": 9,
          "nan_count": 0,
          "min": "4.0",
          "max": "31.0",
          "histogram": [
           {
            "bin_start": 4,
            "bin_end": 6.7,
            "count": 2
           },
           {
            "bin_start": 6.7,
            "bin_end": 9.4,
            "count": 0
           },
           {
            "bin_start": 9.4,
            "bin_end": 12.100000000000001,
            "count": 1
           },
           {
            "bin_start": 12.100000000000001,
            "bin_end": 14.8,
            "count": 0
           },
           {
            "bin_start": 14.8,
            "bin_end": 17.5,
            "count": 0
           },
           {
            "bin_start": 17.5,
            "bin_end": 20.200000000000003,
            "count": 5
           },
           {
            "bin_start": 20.200000000000003,
            "bin_end": 22.900000000000002,
            "count": 1
           },
           {
            "bin_start": 22.900000000000002,
            "bin_end": 25.6,
            "count": 2
           },
           {
            "bin_start": 25.6,
            "bin_end": 28.3,
            "count": 1
           },
           {
            "bin_start": 28.3,
            "bin_end": 31,
            "count": 1
           }
          ]
         }
        },
        {
         "name": "_deepnote_index_column",
         "dtype": "int64"
        }
       ],
       "rows": [
        {
         "Race #": 1,
         "8 Fastest Lap": 46.124,
         "8 Median Lap": 47.146,
         "8 Average Full Speed Lap": 47.126,
         "8 Fastest Lap % Deficit": -0.5603156953801317,
         "8 Median Lap % Deficit": -0.18061664648010212,
         "8 Average Full Speed Lap % Deficit": -0.3577665147578672,
         "8 Fastest Lap Rank": 15,
         "8 Median Lap Rank": 14,
         "8 Average Full Speed Lap Rank": 16,
         "3 Fastest Lap": 45.979,
         "3 Median Lap": 49.703,
         "3 Average Full Speed Lap": 48.062,
         "3 Fastest Lap % Deficit": -0.24418427191663264,
         "3 Median Lap % Deficit": -5.613990352946183,
         "3 Average Full Speed Lap % Deficit": -2.3510370969802787,
         "3 Fastest Lap Rank": 4,
         "3 Median Lap Rank": 33,
         "3 Average Full Speed Lap Rank": 31,
         "_deepnote_index_column": 0
        },
        {
         "Race #": 2,
         "8 Fastest Lap": 41.415,
         "8 Median Lap": 43.333,
         "8 Average Full Speed Lap": 42.965,
         "8 Fastest Lap % Deficit": 0,
         "8 Median Lap % Deficit": -0.0023077633157889536,
         "8 Average Full Speed Lap % Deficit": 0,
         "8 Fastest Lap Rank": 1,
         "8 Median Lap Rank": 2,
         "8 Average Full Speed Lap Rank": 1,
         "3 Fastest Lap": 41.923,
         "3 Median Lap": 44.357,
         "3 Average Full Speed Lap": 43.722,
         "3 Fastest Lap % Deficit": -1.2266087166485637,
         "3 Median Lap % Deficit": -2.365457398689187,
         "3 Average Full Speed Lap % Deficit": -1.7618992202955843,
         "3 Fastest Lap Rank": 9,
         "3 Median Lap Rank": 23,
         "3 Average Full Speed Lap Rank": 19,
         "_deepnote_index_column": 1
        },
        {
         "Race #": 3,
         "8 Fastest Lap": 30.014,
         "8 Median Lap": 31.232,
         "8 Average Full Speed Lap": 31.021,
         "8 Fastest Lap % Deficit": -1.3028216551910328,
         "8 Median Lap % Deficit": -1.3302186749724227,
         "8 Average Full Speed Lap % Deficit": -0.9962559010255606,
         "8 Fastest Lap Rank": 16,
         "8 Median Lap Rank": 15,
         "8 Average Full Speed Lap Rank": 15,
         "3 Fastest Lap": 29.924,
         "3 Median Lap": 31.38,
         "3 Average Full Speed Lap": 31.207,
         "3 Fastest Lap % Deficit": -0.9990549480221391,
         "3 Median Lap % Deficit": -1.81039517227954,
         "3 Average Full Speed Lap % Deficit": -1.6018232134136445,
         "3 Fastest Lap Rank": 14,
         "3 Median Lap Rank": 20,
         "3 Average Full Speed Lap Rank": 19,
         "_deepnote_index_column": 2
        },
        {
         "Race #": 4,
         "8 Fastest Lap": 27.753,
         "8 Median Lap": 28.508,
         "8 Average Full Speed Lap": 28.418,
         "8 Fastest Lap % Deficit": -0.7880592678675142,
         "8 Median Lap % Deficit": -0.25320016880010965,
         "8 Average Full Speed Lap % Deficit": -0.1868499911863241,
         "8 Fastest Lap Rank": 7,
         "8 Median Lap Rank": 5,
         "8 Average Full Speed Lap Rank": 4,
         "3 Fastest Lap": 27.882,
         "3 Median Lap": 28.639,
         "3 Average Full Speed Lap": 28.556,
         "3 Fastest Lap % Deficit": -1.2565368971528184,
         "3 Median Lap % Deficit": -0.7138838092558707,
         "3 Average Full Speed Lap % Deficit": -0.6733650625771286,
         "3 Fastest Lap Rank": 13,
         "3 Median Lap Rank": 10,
         "3 Average Full Speed Lap Rank": 10,
         "_deepnote_index_column": 3
        },
        {
         "Race #": 5,
         "8 Fastest Lap": 29.789,
         "8 Median Lap": 30.428,
         "8 Average Full Speed Lap": 30.377,
         "8 Fastest Lap % Deficit": -0.8736581896989695,
         "8 Median Lap % Deficit": -0.5286110744020092,
         "8 Average Full Speed Lap % Deficit": -0.5428126965213581,
         "8 Fastest Lap Rank": 27,
         "8 Median Lap Rank": 24,
         "8 Average Full Speed Lap Rank": 24,
         "3 Fastest Lap": 29.878,
         "3 Median Lap": 30.394,
         "3 Average Full Speed Lap": 30.305,
         "3 Fastest Lap % Deficit": -1.1750364024245752,
         "3 Median Lap % Deficit": -0.41628122109157417,
         "3 Average Full Speed Lap % Deficit": -0.3045046834144201,
         "3 Fastest Lap Rank": 34,
         "3 Median Lap Rank": 21,
         "3 Average Full Speed Lap Rank": 20,
         "_deepnote_index_column": 4
        },
        {
         "Race #": 6,
         "8 Fastest Lap": 134.439,
         "8 Median Lap": 136.923,
         "8 Average Full Speed Lap": 136.84,
         "8 Fastest Lap % Deficit": -0.66491452703462,
         "8 Median Lap % Deficit": -0.6039632331871204,
         "8 Average Full Speed Lap % Deficit": -0.48981809903578655,
         "8 Fastest Lap Rank": 11,
         "8 Median Lap Rank": 3,
         "8 Average Full Speed Lap Rank": 8,
         "3 Fastest Lap": 135.206,
         "3 Median Lap": 140.401,
         "3 Average Full Speed Lap": 138.151,
         "3 Fastest Lap % Deficit": -1.239226961984561,
         "3 Median Lap % Deficit": -3.159418373119971,
         "3 Average Full Speed Lap % Deficit": -1.4525640178302663,
         "3 Fastest Lap Rank": 27,
         "3 Median Lap Rank": 26,
         "3 Average Full Speed Lap Rank": 23,
         "_deepnote_index_column": 5
        },
        {
         "Race #": 7,
         "8 Fastest Lap": 23.219,
         "8 Median Lap": 24.546,
         "8 Average Full Speed Lap": 24.388,
         "8 Fastest Lap % Deficit": -1.379731912849856,
         "8 Median Lap % Deficit": -0.44193469187331424,
         "8 Average Full Speed Lap % Deficit": -0.41999505888166144,
         "8 Fastest Lap Rank": 14,
         "8 Median Lap Rank": 10,
         "8 Average Full Speed Lap Rank": 10,
         "3 Fastest Lap": 23.464,
         "3 Median Lap": 24.636,
         "3 Average Full Speed Lap": 24.518,
         "3 Fastest Lap % Deficit": -2.4494607693315285,
         "3 Median Lap % Deficit": -0.8102136017677404,
         "3 Average Full Speed Lap % Deficit": -0.9552828790249497,
         "3 Fastest Lap Rank": 25,
         "3 Median Lap Rank": 17,
         "3 Average Full Speed Lap Rank": 20,
         "_deepnote_index_column": 6
        },
        {
         "Race #": 8,
         "8 Fastest Lap": 20.075,
         "8 Median Lap": 20.6,
         "8 Average Full Speed Lap": 20.612,
         "8 Fastest Lap % Deficit": -1.2252924566357328,
         "8 Median Lap % Deficit": -0.5270349404645742,
         "8 Average Full Speed Lap % Deficit": -0.7429130009775047,
         "8 Fastest Lap Rank": 18,
         "8 Median Lap Rank": 18,
         "8 Average Full Speed Lap Rank": 20,
         "3 Fastest Lap": 20.032,
         "3 Median Lap": 20.518,
         "3 Average Full Speed Lap": 20.511,
         "3 Fastest Lap % Deficit": -1.0084711577248855,
         "3 Median Lap % Deficit": -0.12687878196369218,
         "3 Average Full Speed Lap % Deficit": -0.24926686217008007,
         "3 Fastest Lap Rank": 13,
         "3 Median Lap Rank": 4,
         "3 Average Full Speed Lap Rank": 4,
         "_deepnote_index_column": 7
        },
        {
         "Race #": 9,
         "8 Fastest Lap": 19.308,
         "8 Median Lap": 20.39,
         "8 Average Full Speed Lap": 20.075,
         "8 Fastest Lap % Deficit": -0.2440164062094419,
         "8 Median Lap % Deficit": -0.3642449301043592,
         "8 Average Full Speed Lap % Deficit": 0,
         "8 Fastest Lap Rank": 2,
         "8 Median Lap Rank": 4,
         "8 Average Full Speed Lap Rank": 1,
         "3 Fastest Lap": 19.514,
         "3 Median Lap": 20.537,
         "3 Average Full Speed Lap": 20.218,
         "3 Fastest Lap % Deficit": -1.3135351227869796,
         "3 Median Lap % Deficit": -1.0878125615278602,
         "3 Average Full Speed Lap % Deficit": -0.7123287671232911,
         "3 Fastest Lap Rank": 9,
         "3 Median Lap Rank": 11,
         "3 Average Full Speed Lap Rank": 6,
         "_deepnote_index_column": 8
        },
        {
         "Race #": 10,
         "8 Fastest Lap": 49.727,
         "8 Median Lap": 50.336,
         "8 Average Full Speed Lap": 50.44,
         "8 Fastest Lap % Deficit": -1.6745726670483265,
         "8 Median Lap % Deficit": -0.4029201739338536,
         "8 Average Full Speed Lap % Deficit": -0.6224066390041446,
         "8 Fastest Lap Rank": 37,
         "8 Median Lap Rank": 5,
         "8 Average Full Speed Lap Rank": 21,
         "3 Fastest Lap": 49.343,
         "3 Median Lap": 50.47,
         "3 Average Full Speed Lap": 50.477,
         "3 Fastest Lap % Deficit": -0.8894250429377653,
         "3 Median Lap % Deficit": -0.6702038536721556,
         "3 Average Full Speed Lap % Deficit": -0.6962176827321989,
         "3 Fastest Lap Rank": 17,
         "3 Median Lap Rank": 21,
         "3 Average Full Speed Lap Rank": 23,
         "_deepnote_index_column": 9
        }
       ]
      },
      "text/plain": "    Race #  8 Fastest Lap  8 Median Lap  8 Average Full Speed Lap  \\\n0        1         46.124        47.146                    47.126   \n1        2         41.415        43.333                    42.965   \n2        3         30.014        31.232                    31.021   \n3        4         27.753        28.508                    28.418   \n4        5         29.789        30.428                    30.377   \n5        6        134.439       136.923                   136.840   \n6        7         23.219        24.546                    24.388   \n7        8         20.075        20.600                    20.612   \n8        9         19.308        20.390                    20.075   \n9       10         49.727        50.336                    50.440   \n10      11         23.426        24.540                    24.293   \n11      12         29.399        30.684                    30.507   \n12      13         30.273        32.079                    31.766   \n\n    8 Fastest Lap % Deficit  8 Median Lap % Deficit  \\\n0                 -0.560316               -0.180617   \n1                  0.000000               -0.002308   \n2                 -1.302822               -1.330219   \n3                 -0.788059               -0.253200   \n4                 -0.873658               -0.528611   \n5                 -0.664915               -0.603963   \n6                 -1.379732               -0.441935   \n7                 -1.225292               -0.527035   \n8                 -0.244016               -0.364245   \n9                 -1.674573               -0.402920   \n10                -2.876466               -2.463466   \n11                -1.512379               -0.166487   \n12                -0.698533               -1.683149   \n\n    8 Average Full Speed Lap % Deficit  8 Fastest Lap Rank  8 Median Lap Rank  \\\n0                            -0.357767                15.0               14.0   \n1                             0.000000                 1.0                2.0   \n2                            -0.996256                16.0               15.0   \n3                            -0.186850                 7.0                5.0   \n4                            -0.542813                27.0               24.0   \n5                            -0.489818                11.0                3.0   \n6                            -0.419995                14.0               10.0   \n7                            -0.742913                18.0               18.0   \n8                             0.000000                 2.0                4.0   \n9                            -0.622407                37.0                5.0   \n10                           -1.763572                22.0               30.0   \n11                           -0.187192                 9.0                5.0   \n12                           -1.052966                 3.0               16.0   \n\n    8 Average Full Speed Lap Rank  3 Fastest Lap  3 Median Lap  \\\n0                            16.0         45.979        49.703   \n1                             1.0         41.923        44.357   \n2                            15.0         29.924        31.380   \n3                             4.0         27.882        28.639   \n4                            24.0         29.878        30.394   \n5                             8.0        135.206       140.401   \n6                            10.0         23.464        24.636   \n7                            20.0         20.032        20.518   \n8                             1.0         19.514        20.537   \n9                            21.0         49.343        50.470   \n10                           23.0         23.754        24.493   \n11                            4.0         30.018        31.102   \n12                            9.0         31.205        32.208   \n\n    3 Average Full Speed Lap  3 Fastest Lap % Deficit  3 Median Lap % Deficit  \\\n0                     48.062                -0.244184               -5.613990   \n1                     43.722                -1.226609               -2.365457   \n2                     31.207                -0.999055               -1.810395   \n3                     28.556                -1.256537               -0.713884   \n4                     30.305                -1.175036               -0.416281   \n5                    138.151                -1.239227               -3.159418   \n6                     24.518                -2.449461               -0.810214   \n7                     20.511                -1.008471               -0.126879   \n8                     20.218                -1.313535               -1.087813   \n9                     50.477                -0.889425               -0.670204   \n10                    24.454                -4.316894               -2.267223   \n11                    30.923                -3.649736               -1.531029   \n12                    32.175                -3.798689               -2.092050   \n\n    3 Average Full Speed Lap % Deficit  3 Fastest Lap Rank  3 Median Lap Rank  \\\n0                            -2.351037                 4.0               33.0   \n1                            -1.761899                 9.0               23.0   \n2                            -1.601823                14.0               20.0   \n3                            -0.673365                13.0               10.0   \n4                            -0.304505                34.0               21.0   \n5                            -1.452564                27.0               26.0   \n6                            -0.955283                25.0               17.0   \n7                            -0.249267                13.0                4.0   \n8                            -0.712329                 9.0               11.0   \n9                            -0.696218                17.0               21.0   \n10                           -2.438003                29.0               27.0   \n11                           -1.553366                30.0               23.0   \n12                           -2.354064                26.0               19.0   \n\n    3 Average Full Speed Lap Rank  \n0                            31.0  \n1                            19.0  \n2                            19.0  \n3                            10.0  \n4                            20.0  \n5                            23.0  \n6                            20.0  \n7                             4.0  \n8                             6.0  \n9                            23.0  \n10                           28.0  \n11                           22.0  \n12                           20.0  ",
      "text/html": "<div>\n<style scoped>\n    .dataframe tbody tr th:only-of-type {\n        vertical-align: middle;\n    }\n\n    .dataframe tbody tr th {\n        vertical-align: top;\n    }\n\n    .dataframe thead th {\n        text-align: right;\n    }\n</style>\n<table border=\"1\" class=\"dataframe\">\n  <thead>\n    <tr style=\"text-align: right;\">\n      <th></th>\n      <th>Race #</th>\n      <th>8 Fastest Lap</th>\n      <th>8 Median Lap</th>\n      <th>8 Average Full Speed Lap</th>\n      <th>8 Fastest Lap % Deficit</th>\n      <th>8 Median Lap % Deficit</th>\n      <th>8 Average Full Speed Lap % Deficit</th>\n      <th>8 Fastest Lap Rank</th>\n      <th>8 Median Lap Rank</th>\n      <th>8 Average Full Speed Lap Rank</th>\n      <th>3 Fastest Lap</th>\n      <th>3 Median Lap</th>\n      <th>3 Average Full Speed Lap</th>\n      <th>3 Fastest Lap % Deficit</th>\n      <th>3 Median Lap % Deficit</th>\n      <th>3 Average Full Speed Lap % Deficit</th>\n      <th>3 Fastest Lap Rank</th>\n      <th>3 Median Lap Rank</th>\n      <th>3 Average Full Speed Lap Rank</th>\n    </tr>\n  </thead>\n  <tbody>\n    <tr>\n      <th>0</th>\n      <td>1</td>\n      <td>46.124</td>\n      <td>47.146</td>\n      <td>47.126</td>\n      <td>-0.560316</td>\n      <td>-0.180617</td>\n      <td>-0.357767</td>\n      <td>15.0</td>\n      <td>14.0</td>\n      <td>16.0</td>\n      <td>45.979</td>\n      <td>49.703</td>\n      <td>48.062</td>\n      <td>-0.244184</td>\n      <td>-5.613990</td>\n      <td>-2.351037</td>\n      <td>4.0</td>\n      <td>33.0</td>\n      <td>31.0</td>\n    </tr>\n    <tr>\n      <th>1</th>\n      <td>2</td>\n      <td>41.415</td>\n      <td>43.333</td>\n      <td>42.965</td>\n      <td>0.000000</td>\n      <td>-0.002308</td>\n      <td>0.000000</td>\n      <td>1.0</td>\n      <td>2.0</td>\n      <td>1.0</td>\n      <td>41.923</td>\n      <td>44.357</td>\n      <td>43.722</td>\n      <td>-1.226609</td>\n      <td>-2.365457</td>\n      <td>-1.761899</td>\n      <td>9.0</td>\n      <td>23.0</td>\n      <td>19.0</td>\n    </tr>\n    <tr>\n      <th>2</th>\n      <td>3</td>\n      <td>30.014</td>\n      <td>31.232</td>\n      <td>31.021</td>\n      <td>-1.302822</td>\n      <td>-1.330219</td>\n      <td>-0.996256</td>\n      <td>16.0</td>\n      <td>15.0</td>\n      <td>15.0</td>\n      <td>29.924</td>\n      <td>31.380</td>\n      <td>31.207</td>\n      <td>-0.999055</td>\n      <td>-1.810395</td>\n      <td>-1.601823</td>\n      <td>14.0</td>\n      <td>20.0</td>\n      <td>19.0</td>\n    </tr>\n    <tr>\n      <th>3</th>\n      <td>4</td>\n      <td>27.753</td>\n      <td>28.508</td>\n      <td>28.418</td>\n      <td>-0.788059</td>\n      <td>-0.253200</td>\n      <td>-0.186850</td>\n      <td>7.0</td>\n      <td>5.0</td>\n      <td>4.0</td>\n      <td>27.882</td>\n      <td>28.639</td>\n      <td>28.556</td>\n      <td>-1.256537</td>\n      <td>-0.713884</td>\n      <td>-0.673365</td>\n      <td>13.0</td>\n      <td>10.0</td>\n      <td>10.0</td>\n    </tr>\n    <tr>\n      <th>4</th>\n      <td>5</td>\n      <td>29.789</td>\n      <td>30.428</td>\n      <td>30.377</td>\n      <td>-0.873658</td>\n      <td>-0.528611</td>\n      <td>-0.542813</td>\n      <td>27.0</td>\n      <td>24.0</td>\n      <td>24.0</td>\n      <td>29.878</td>\n      <td>30.394</td>\n      <td>30.305</td>\n      <td>-1.175036</td>\n      <td>-0.416281</td>\n      <td>-0.304505</td>\n      <td>34.0</td>\n      <td>21.0</td>\n      <td>20.0</td>\n    </tr>\n    <tr>\n      <th>5</th>\n      <td>6</td>\n      <td>134.439</td>\n      <td>136.923</td>\n      <td>136.840</td>\n      <td>-0.664915</td>\n      <td>-0.603963</td>\n      <td>-0.489818</td>\n      <td>11.0</td>\n      <td>3.0</td>\n      <td>8.0</td>\n      <td>135.206</td>\n      <td>140.401</td>\n      <td>138.151</td>\n      <td>-1.239227</td>\n      <td>-3.159418</td>\n      <td>-1.452564</td>\n      <td>27.0</td>\n      <td>26.0</td>\n      <td>23.0</td>\n    </tr>\n    <tr>\n      <th>6</th>\n      <td>7</td>\n      <td>23.219</td>\n      <td>24.546</td>\n      <td>24.388</td>\n      <td>-1.379732</td>\n      <td>-0.441935</td>\n      <td>-0.419995</td>\n      <td>14.0</td>\n      <td>10.0</td>\n      <td>10.0</td>\n      <td>23.464</td>\n      <td>24.636</td>\n      <td>24.518</td>\n      <td>-2.449461</td>\n      <td>-0.810214</td>\n      <td>-0.955283</td>\n      <td>25.0</td>\n      <td>17.0</td>\n      <td>20.0</td>\n    </tr>\n    <tr>\n      <th>7</th>\n      <td>8</td>\n      <td>20.075</td>\n      <td>20.600</td>\n      <td>20.612</td>\n      <td>-1.225292</td>\n      <td>-0.527035</td>\n      <td>-0.742913</td>\n      <td>18.0</td>\n      <td>18.0</td>\n      <td>20.0</td>\n      <td>20.032</td>\n      <td>20.518</td>\n      <td>20.511</td>\n      <td>-1.008471</td>\n      <td>-0.126879</td>\n      <td>-0.249267</td>\n      <td>13.0</td>\n      <td>4.0</td>\n      <td>4.0</td>\n    </tr>\n    <tr>\n      <th>8</th>\n      <td>9</td>\n      <td>19.308</td>\n      <td>20.390</td>\n      <td>20.075</td>\n      <td>-0.244016</td>\n      <td>-0.364245</td>\n      <td>0.000000</td>\n      <td>2.0</td>\n      <td>4.0</td>\n      <td>1.0</td>\n      <td>19.514</td>\n      <td>20.537</td>\n      <td>20.218</td>\n      <td>-1.313535</td>\n      <td>-1.087813</td>\n      <td>-0.712329</td>\n      <td>9.0</td>\n      <td>11.0</td>\n      <td>6.0</td>\n    </tr>\n    <tr>\n      <th>9</th>\n      <td>10</td>\n      <td>49.727</td>\n      <td>50.336</td>\n      <td>50.440</td>\n      <td>-1.674573</td>\n      <td>-0.402920</td>\n      <td>-0.622407</td>\n      <td>37.0</td>\n      <td>5.0</td>\n      <td>21.0</td>\n      <td>49.343</td>\n      <td>50.470</td>\n      <td>50.477</td>\n      <td>-0.889425</td>\n      <td>-0.670204</td>\n      <td>-0.696218</td>\n      <td>17.0</td>\n      <td>21.0</td>\n      <td>23.0</td>\n    </tr>\n    <tr>\n      <th>10</th>\n      <td>11</td>\n      <td>23.426</td>\n      <td>24.540</td>\n      <td>24.293</td>\n      <td>-2.876466</td>\n      <td>-2.463466</td>\n      <td>-1.763572</td>\n      <td>22.0</td>\n      <td>30.0</td>\n      <td>23.0</td>\n      <td>23.754</td>\n      <td>24.493</td>\n      <td>24.454</td>\n      <td>-4.316894</td>\n      <td>-2.267223</td>\n      <td>-2.438003</td>\n      <td>29.0</td>\n      <td>27.0</td>\n      <td>28.0</td>\n    </tr>\n    <tr>\n      <th>11</th>\n      <td>12</td>\n      <td>29.399</td>\n      <td>30.684</td>\n      <td>30.507</td>\n      <td>-1.512379</td>\n      <td>-0.166487</td>\n      <td>-0.187192</td>\n      <td>9.0</td>\n      <td>5.0</td>\n      <td>4.0</td>\n      <td>30.018</td>\n      <td>31.102</td>\n      <td>30.923</td>\n      <td>-3.649736</td>\n      <td>-1.531029</td>\n      <td>-1.553366</td>\n      <td>30.0</td>\n      <td>23.0</td>\n      <td>22.0</td>\n    </tr>\n    <tr>\n      <th>12</th>\n      <td>13</td>\n      <td>30.273</td>\n      <td>32.079</td>\n      <td>31.766</td>\n      <td>-0.698533</td>\n      <td>-1.683149</td>\n      <td>-1.052966</td>\n      <td>3.0</td>\n      <td>16.0</td>\n      <td>9.0</td>\n      <td>31.205</td>\n      <td>32.208</td>\n      <td>32.175</td>\n      <td>-3.798689</td>\n      <td>-2.092050</td>\n      <td>-2.354064</td>\n      <td>26.0</td>\n      <td>19.0</td>\n      <td>20.0</td>\n    </tr>\n  </tbody>\n</table>\n</div>"
     },
     "metadata": {}
    }
   ]
  },
  {
   "cell_type": "code",
   "metadata": {
    "tags": [],
    "deepnote_to_be_reexecuted": false,
    "source_hash": "30167e8b",
    "execution_start": 1653250618678,
    "execution_millis": 168,
    "cell_id": "00006-cd3dbe14-1772-4201-ae96-db89bdb2c00c",
    "deepnote_cell_type": "code",
    "deepnote_cell_height": 1231.71875
   },
   "source": "fig = make_subplots(rows=1, cols=2, x_title = \"Tyler Reddick's (#8) % Deficit\",\n                    y_title = \"Austin Dillon's (#3) % Deficit\")\n\nfig.add_trace(\n    go.Scatter(x=rcrlaps_21[\"8 Fastest Lap % Deficit\"], y=rcrlaps_21[\"3 Fastest Lap % Deficit\"],\n    mode = \"markers\", marker = dict(color = \"#007DC8\", size = 10), showlegend = False),\n    row=1, col=1\n)\n\nfig.add_shape(type = \"line\", x0 = -3.5, x1 = 0, y0 = -3.5, y1 = 0,\n              line = dict(color = \"black\", dash = \"dash\"), row = 1, col = 1)\n\nfig.add_trace(\n    go.Scatter(x=rcrlaps_22[\"8 Fastest Lap % Deficit\"], y=rcrlaps_22[\"3 Fastest Lap % Deficit\"],\n    mode = \"markers\", marker = dict(color = \"#FF0F27\", size = 10), showlegend = False),\n    row=1, col=2\n)\n\nfig.add_shape(type = \"line\", x0 = -3.5, x1 = 0, y0 = -3.5, y1 = 0,\n              line = dict(color = \"black\", dash = \"dash\"), row = 1, col = 2)\n\nfig.add_shape(type = \"circle\", x0 = -1.8, x1 = -0.2, y0 = -3.3, y1 = -4.2,\n              line=dict(color = \"black\"), row = 1, col = 2)\n\nfig.add_trace(go.Scatter(x=[-1], y=[-3.1], text=[\"<b>New outliers!</b>\"], mode=\"text\", showlegend=False),\n            row = 1, col = 2)\n\nfig.update_layout(height=480, width=870, title_text=\"<b>Disparity in RCR Fastest Lap Deficits<br>2021 vs. 2022</b>\",\n                title_x = 0.5,\n                #font_family = \"Century Gothic, bold\",\n                font_color = \"black\",\n                paper_bgcolor='rgba(0,0,0,0)')\n\nfig['layout']['title']['font'] = dict(size=24)\nfig.write_image(\"Deficit Plot for Slides 1.png\")\n\nfig.show()",
   "execution_count": null,
   "outputs": [
    {
     "data": {
      "text/html": "<html>\n<head><meta charset=\"utf-8\" /></head>\n<body>\n    <div>            <script src=\"https://cdnjs.cloudflare.com/ajax/libs/mathjax/2.7.5/MathJax.js?config=TeX-AMS-MML_SVG\"></script><script type=\"text/javascript\">if (window.MathJax) {MathJax.Hub.Config({SVG: {font: \"STIX-Web\"}});}</script>                <script type=\"text/javascript\">window.PlotlyConfig = {MathJaxConfig: 'local'};</script>\n        <script src=\"https://cdn.plot.ly/plotly-2.11.1.min.js\"></script>                <div id=\"fd7f5685-54b5-4a2a-8421-558d5997fa5c\" class=\"plotly-graph-div\" style=\"height:480px; width:870px;\"></div>            <script type=\"text/javascript\">                                    window.PLOTLYENV=window.PLOTLYENV || {};                                    if (document.getElementById(\"fd7f5685-54b5-4a2a-8421-558d5997fa5c\")) {                    Plotly.newPlot(                        \"fd7f5685-54b5-4a2a-8421-558d5997fa5c\",                        [{\"marker\":{\"color\":\"#007DC8\",\"size\":10},\"mode\":\"markers\",\"showlegend\":false,\"x\":[-1.4706863944821478,-1.9044408136448805,-2.39159244306098,-1.5218832891246672,-1.7346825308573333,-2.3258061398705063,-2.263703398133347,-2.565776260293228,-2.983272206816343,-1.2196671325117532,-0.8032776308148872,-1.1773487598819303,-1.535475522967443,-0.9942047649710126,-0.7116243160686104,-1.2529538941123328,-2.95561665357423,-0.9119170984455858,-0.9513382913662234,-0.12662847948990136,0.0,-0.6597012926126942,-1.4222185507964717,-1.5569552874378951,-0.37574501166104174,-1.2749003984063718,-1.7892849755223001,-1.7129304286718228,-1.5025041736227045,0.0,-1.4172139647424875,-0.40408158371203884,-0.39402737453339126,-1.0968143273417834,-2.143974171417044,-3.340292275574102],\"y\":[-1.061297140950043,-1.7306811207067916,-2.1851018584152495,-1.6478779840848803,-0.581934096890174,-1.2208871565248247,-2.3513638941886223,-2.319742920265112,-3.081670990249575,-0.7898191674077787,-0.8484418349570879,-2.6295253282665563,-2.014233340521899,-1.399871216999342,-0.6142794803799799,-1.3394338579114162,-2.873788949986908,-0.6858219500706494,-1.4402204688738687,-2.393278262359307,-0.9762811689766645,-1.4232134485299066,-2.1601751270083884,-2.0837029808374785,-0.48458149779735066,-0.9798643264778686,-3.0855685030683295,-1.9984188334504494,-1.0979838191858187,-1.37234252616337,0.0,-1.430472787443492,-0.8779206415042213,-1.4635104606620148,-1.730313272461282,-3.519236504622722],\"type\":\"scatter\",\"xaxis\":\"x\",\"yaxis\":\"y\"},{\"marker\":{\"color\":\"#FF0F27\",\"size\":10},\"mode\":\"markers\",\"showlegend\":false,\"x\":[-0.5603156953801317,0.0,-1.3028216551910328,-0.7880592678675142,-0.8736581896989695,-0.66491452703462,-1.379731912849856,-1.2252924566357328,-0.2440164062094419,-1.6745726670483265,-2.8764656800316084,-1.5123787162045592,-0.698533080530888],\"y\":[-0.24418427191663264,-1.2266087166485637,-0.9990549480221391,-1.2565368971528184,-1.1750364024245752,-1.239226961984561,-2.4494607693315285,-1.0084711577248855,-1.3135351227869796,-0.8894250429377653,-4.3168942953756995,-3.649735851662588,-3.7986894188870024],\"type\":\"scatter\",\"xaxis\":\"x2\",\"yaxis\":\"y2\"},{\"mode\":\"text\",\"showlegend\":false,\"text\":[\"<b>New outliers!</b>\"],\"x\":[-1],\"y\":[-3.1],\"type\":\"scatter\",\"xaxis\":\"x2\",\"yaxis\":\"y2\"}],                        {\"template\":{\"data\":{\"histogram2dcontour\":[{\"type\":\"histogram2dcontour\",\"colorbar\":{\"outlinewidth\":0,\"ticks\":\"\"},\"colorscale\":[[0.0,\"#0d0887\"],[0.1111111111111111,\"#46039f\"],[0.2222222222222222,\"#7201a8\"],[0.3333333333333333,\"#9c179e\"],[0.4444444444444444,\"#bd3786\"],[0.5555555555555556,\"#d8576b\"],[0.6666666666666666,\"#ed7953\"],[0.7777777777777778,\"#fb9f3a\"],[0.8888888888888888,\"#fdca26\"],[1.0,\"#f0f921\"]]}],\"choropleth\":[{\"type\":\"choropleth\",\"colorbar\":{\"outlinewidth\":0,\"ticks\":\"\"}}],\"histogram2d\":[{\"type\":\"histogram2d\",\"colorbar\":{\"outlinewidth\":0,\"ticks\":\"\"},\"colorscale\":[[0.0,\"#0d0887\"],[0.1111111111111111,\"#46039f\"],[0.2222222222222222,\"#7201a8\"],[0.3333333333333333,\"#9c179e\"],[0.4444444444444444,\"#bd3786\"],[0.5555555555555556,\"#d8576b\"],[0.6666666666666666,\"#ed7953\"],[0.7777777777777778,\"#fb9f3a\"],[0.8888888888888888,\"#fdca26\"],[1.0,\"#f0f921\"]]}],\"heatmap\":[{\"type\":\"heatmap\",\"colorbar\":{\"outlinewidth\":0,\"ticks\":\"\"},\"colorscale\":[[0.0,\"#0d0887\"],[0.1111111111111111,\"#46039f\"],[0.2222222222222222,\"#7201a8\"],[0.3333333333333333,\"#9c179e\"],[0.4444444444444444,\"#bd3786\"],[0.5555555555555556,\"#d8576b\"],[0.6666666666666666,\"#ed7953\"],[0.7777777777777778,\"#fb9f3a\"],[0.8888888888888888,\"#fdca26\"],[1.0,\"#f0f921\"]]}],\"heatmapgl\":[{\"type\":\"heatmapgl\",\"colorbar\":{\"outlinewidth\":0,\"ticks\":\"\"},\"colorscale\":[[0.0,\"#0d0887\"],[0.1111111111111111,\"#46039f\"],[0.2222222222222222,\"#7201a8\"],[0.3333333333333333,\"#9c179e\"],[0.4444444444444444,\"#bd3786\"],[0.5555555555555556,\"#d8576b\"],[0.6666666666666666,\"#ed7953\"],[0.7777777777777778,\"#fb9f3a\"],[0.8888888888888888,\"#fdca26\"],[1.0,\"#f0f921\"]]}],\"contourcarpet\":[{\"type\":\"contourcarpet\",\"colorbar\":{\"outlinewidth\":0,\"ticks\":\"\"}}],\"contour\":[{\"type\":\"contour\",\"colorbar\":{\"outlinewidth\":0,\"ticks\":\"\"},\"colorscale\":[[0.0,\"#0d0887\"],[0.1111111111111111,\"#46039f\"],[0.2222222222222222,\"#7201a8\"],[0.3333333333333333,\"#9c179e\"],[0.4444444444444444,\"#bd3786\"],[0.5555555555555556,\"#d8576b\"],[0.6666666666666666,\"#ed7953\"],[0.7777777777777778,\"#fb9f3a\"],[0.8888888888888888,\"#fdca26\"],[1.0,\"#f0f921\"]]}],\"surface\":[{\"type\":\"surface\",\"colorbar\":{\"outlinewidth\":0,\"ticks\":\"\"},\"colorscale\":[[0.0,\"#0d0887\"],[0.1111111111111111,\"#46039f\"],[0.2222222222222222,\"#7201a8\"],[0.3333333333333333,\"#9c179e\"],[0.4444444444444444,\"#bd3786\"],[0.5555555555555556,\"#d8576b\"],[0.6666666666666666,\"#ed7953\"],[0.7777777777777778,\"#fb9f3a\"],[0.8888888888888888,\"#fdca26\"],[1.0,\"#f0f921\"]]}],\"mesh3d\":[{\"type\":\"mesh3d\",\"colorbar\":{\"outlinewidth\":0,\"ticks\":\"\"}}],\"scatter\":[{\"fillpattern\":{\"fillmode\":\"overlay\",\"size\":10,\"solidity\":0.2},\"type\":\"scatter\"}],\"parcoords\":[{\"type\":\"parcoords\",\"line\":{\"colorbar\":{\"outlinewidth\":0,\"ticks\":\"\"}}}],\"scatterpolargl\":[{\"type\":\"scatterpolargl\",\"marker\":{\"colorbar\":{\"outlinewidth\":0,\"ticks\":\"\"}}}],\"bar\":[{\"error_x\":{\"color\":\"#2a3f5f\"},\"error_y\":{\"color\":\"#2a3f5f\"},\"marker\":{\"line\":{\"color\":\"#E5ECF6\",\"width\":0.5},\"pattern\":{\"fillmode\":\"overlay\",\"size\":10,\"solidity\":0.2}},\"type\":\"bar\"}],\"scattergeo\":[{\"type\":\"scattergeo\",\"marker\":{\"colorbar\":{\"outlinewidth\":0,\"ticks\":\"\"}}}],\"scatterpolar\":[{\"type\":\"scatterpolar\",\"marker\":{\"colorbar\":{\"outlinewidth\":0,\"ticks\":\"\"}}}],\"histogram\":[{\"marker\":{\"pattern\":{\"fillmode\":\"overlay\",\"size\":10,\"solidity\":0.2}},\"type\":\"histogram\"}],\"scattergl\":[{\"type\":\"scattergl\",\"marker\":{\"colorbar\":{\"outlinewidth\":0,\"ticks\":\"\"}}}],\"scatter3d\":[{\"type\":\"scatter3d\",\"line\":{\"colorbar\":{\"outlinewidth\":0,\"ticks\":\"\"}},\"marker\":{\"colorbar\":{\"outlinewidth\":0,\"ticks\":\"\"}}}],\"scattermapbox\":[{\"type\":\"scattermapbox\",\"marker\":{\"colorbar\":{\"outlinewidth\":0,\"ticks\":\"\"}}}],\"scatterternary\":[{\"type\":\"scatterternary\",\"marker\":{\"colorbar\":{\"outlinewidth\":0,\"ticks\":\"\"}}}],\"scattercarpet\":[{\"type\":\"scattercarpet\",\"marker\":{\"colorbar\":{\"outlinewidth\":0,\"ticks\":\"\"}}}],\"carpet\":[{\"aaxis\":{\"endlinecolor\":\"#2a3f5f\",\"gridcolor\":\"white\",\"linecolor\":\"white\",\"minorgridcolor\":\"white\",\"startlinecolor\":\"#2a3f5f\"},\"baxis\":{\"endlinecolor\":\"#2a3f5f\",\"gridcolor\":\"white\",\"linecolor\":\"white\",\"minorgridcolor\":\"white\",\"startlinecolor\":\"#2a3f5f\"},\"type\":\"carpet\"}],\"table\":[{\"cells\":{\"fill\":{\"color\":\"#EBF0F8\"},\"line\":{\"color\":\"white\"}},\"header\":{\"fill\":{\"color\":\"#C8D4E3\"},\"line\":{\"color\":\"white\"}},\"type\":\"table\"}],\"barpolar\":[{\"marker\":{\"line\":{\"color\":\"#E5ECF6\",\"width\":0.5},\"pattern\":{\"fillmode\":\"overlay\",\"size\":10,\"solidity\":0.2}},\"type\":\"barpolar\"}],\"pie\":[{\"automargin\":true,\"type\":\"pie\"}]},\"layout\":{\"autotypenumbers\":\"strict\",\"colorway\":[\"#636efa\",\"#EF553B\",\"#00cc96\",\"#ab63fa\",\"#FFA15A\",\"#19d3f3\",\"#FF6692\",\"#B6E880\",\"#FF97FF\",\"#FECB52\"],\"font\":{\"color\":\"#2a3f5f\"},\"hovermode\":\"closest\",\"hoverlabel\":{\"align\":\"left\"},\"paper_bgcolor\":\"white\",\"plot_bgcolor\":\"#E5ECF6\",\"polar\":{\"bgcolor\":\"#E5ECF6\",\"angularaxis\":{\"gridcolor\":\"white\",\"linecolor\":\"white\",\"ticks\":\"\"},\"radialaxis\":{\"gridcolor\":\"white\",\"linecolor\":\"white\",\"ticks\":\"\"}},\"ternary\":{\"bgcolor\":\"#E5ECF6\",\"aaxis\":{\"gridcolor\":\"white\",\"linecolor\":\"white\",\"ticks\":\"\"},\"baxis\":{\"gridcolor\":\"white\",\"linecolor\":\"white\",\"ticks\":\"\"},\"caxis\":{\"gridcolor\":\"white\",\"linecolor\":\"white\",\"ticks\":\"\"}},\"coloraxis\":{\"colorbar\":{\"outlinewidth\":0,\"ticks\":\"\"}},\"colorscale\":{\"sequential\":[[0.0,\"#0d0887\"],[0.1111111111111111,\"#46039f\"],[0.2222222222222222,\"#7201a8\"],[0.3333333333333333,\"#9c179e\"],[0.4444444444444444,\"#bd3786\"],[0.5555555555555556,\"#d8576b\"],[0.6666666666666666,\"#ed7953\"],[0.7777777777777778,\"#fb9f3a\"],[0.8888888888888888,\"#fdca26\"],[1.0,\"#f0f921\"]],\"sequentialminus\":[[0.0,\"#0d0887\"],[0.1111111111111111,\"#46039f\"],[0.2222222222222222,\"#7201a8\"],[0.3333333333333333,\"#9c179e\"],[0.4444444444444444,\"#bd3786\"],[0.5555555555555556,\"#d8576b\"],[0.6666666666666666,\"#ed7953\"],[0.7777777777777778,\"#fb9f3a\"],[0.8888888888888888,\"#fdca26\"],[1.0,\"#f0f921\"]],\"diverging\":[[0,\"#8e0152\"],[0.1,\"#c51b7d\"],[0.2,\"#de77ae\"],[0.3,\"#f1b6da\"],[0.4,\"#fde0ef\"],[0.5,\"#f7f7f7\"],[0.6,\"#e6f5d0\"],[0.7,\"#b8e186\"],[0.8,\"#7fbc41\"],[0.9,\"#4d9221\"],[1,\"#276419\"]]},\"xaxis\":{\"gridcolor\":\"white\",\"linecolor\":\"white\",\"ticks\":\"\",\"title\":{\"standoff\":15},\"zerolinecolor\":\"white\",\"automargin\":true,\"zerolinewidth\":2},\"yaxis\":{\"gridcolor\":\"white\",\"linecolor\":\"white\",\"ticks\":\"\",\"title\":{\"standoff\":15},\"zerolinecolor\":\"white\",\"automargin\":true,\"zerolinewidth\":2},\"scene\":{\"xaxis\":{\"backgroundcolor\":\"#E5ECF6\",\"gridcolor\":\"white\",\"linecolor\":\"white\",\"showbackground\":true,\"ticks\":\"\",\"zerolinecolor\":\"white\",\"gridwidth\":2},\"yaxis\":{\"backgroundcolor\":\"#E5ECF6\",\"gridcolor\":\"white\",\"linecolor\":\"white\",\"showbackground\":true,\"ticks\":\"\",\"zerolinecolor\":\"white\",\"gridwidth\":2},\"zaxis\":{\"backgroundcolor\":\"#E5ECF6\",\"gridcolor\":\"white\",\"linecolor\":\"white\",\"showbackground\":true,\"ticks\":\"\",\"zerolinecolor\":\"white\",\"gridwidth\":2}},\"shapedefaults\":{\"line\":{\"color\":\"#2a3f5f\"}},\"annotationdefaults\":{\"arrowcolor\":\"#2a3f5f\",\"arrowhead\":0,\"arrowwidth\":1},\"geo\":{\"bgcolor\":\"white\",\"landcolor\":\"#E5ECF6\",\"subunitcolor\":\"white\",\"showland\":true,\"showlakes\":true,\"lakecolor\":\"white\"},\"title\":{\"x\":0.05},\"mapbox\":{\"style\":\"light\"}}},\"xaxis\":{\"anchor\":\"y\",\"domain\":[0.0,0.45]},\"yaxis\":{\"anchor\":\"x\",\"domain\":[0.0,1.0]},\"xaxis2\":{\"anchor\":\"y2\",\"domain\":[0.55,1.0]},\"yaxis2\":{\"anchor\":\"x2\",\"domain\":[0.0,1.0]},\"annotations\":[{\"font\":{\"size\":16},\"showarrow\":false,\"text\":\"Tyler Reddick's (#8) % Deficit\",\"x\":0.5,\"xanchor\":\"center\",\"xref\":\"paper\",\"y\":0,\"yanchor\":\"top\",\"yref\":\"paper\",\"yshift\":-30},{\"font\":{\"size\":16},\"showarrow\":false,\"text\":\"Austin Dillon's (#3) % Deficit\",\"textangle\":-90,\"x\":0,\"xanchor\":\"right\",\"xref\":\"paper\",\"xshift\":-40,\"y\":0.5,\"yanchor\":\"middle\",\"yref\":\"paper\"}],\"shapes\":[{\"line\":{\"color\":\"black\",\"dash\":\"dash\"},\"type\":\"line\",\"x0\":-3.5,\"x1\":0,\"xref\":\"x\",\"y0\":-3.5,\"y1\":0,\"yref\":\"y\"},{\"line\":{\"color\":\"black\",\"dash\":\"dash\"},\"type\":\"line\",\"x0\":-3.5,\"x1\":0,\"xref\":\"x2\",\"y0\":-3.5,\"y1\":0,\"yref\":\"y2\"},{\"line\":{\"color\":\"black\"},\"type\":\"circle\",\"x0\":-1.8,\"x1\":-0.2,\"xref\":\"x2\",\"y0\":-3.3,\"y1\":-4.2,\"yref\":\"y2\"}],\"title\":{\"text\":\"<b>Disparity in RCR Fastest Lap Deficits<br>2021 vs. 2022</b>\",\"x\":0.5,\"font\":{\"size\":24}},\"font\":{\"color\":\"black\"},\"height\":480,\"width\":870,\"paper_bgcolor\":\"rgba(0,0,0,0)\"},                        {\"responsive\": true}                    ).then(function(){\n                            \nvar gd = document.getElementById('fd7f5685-54b5-4a2a-8421-558d5997fa5c');\nvar x = new MutationObserver(function (mutations, observer) {{\n        var display = window.getComputedStyle(gd).display;\n        if (!display || display === 'none') {{\n            console.log([gd, 'removed!']);\n            Plotly.purge(gd);\n            observer.disconnect();\n        }}\n}});\n\n// Listen for the removal of the full notebook cells\nvar notebookContainer = gd.closest('#notebook-container');\nif (notebookContainer) {{\n    x.observe(notebookContainer, {childList: true});\n}}\n\n// Listen for the clearing of the current output cell\nvar outputEl = gd.closest('.output');\nif (outputEl) {{\n    x.observe(outputEl, {childList: true});\n}}\n\n                        })                };                            </script>        </div>\n</body>\n</html>"
     },
     "metadata": {},
     "output_type": "display_data"
    }
   ]
  },
  {
   "cell_type": "code",
   "metadata": {
    "tags": [],
    "deepnote_to_be_reexecuted": false,
    "source_hash": "23f4c29a",
    "execution_start": 1653250070926,
    "execution_millis": 300,
    "owner_user_id": "6ac10842-8af3-4f88-a9de-b86cd7e1a210",
    "cell_id": "00007-51e7259b-0766-4c71-9e0c-0b4201fa7272",
    "deepnote_cell_type": "code",
    "deepnote_cell_height": 1195.71875
   },
   "source": "fig = make_subplots(rows=1, cols=2, x_title = \"Tyler Reddick's (#8) % Deficit\",\n                    y_title = \"Austin Dillon's (#3) % Deficit\")\n\nfig.add_trace(\n    go.Scatter(x=rcrlaps_21[\"8 Average Full Speed Lap % Deficit\"], y=rcrlaps_21[\"3 Average Full Speed Lap % Deficit\"],\n    mode = \"markers\", marker = dict(color = \"#007DC8\", size = 10), showlegend = False),\n    row=1, col=1\n)\n\nfig.add_shape(type = \"line\", x0 = -3.5, x1 = 0, y0 = -3.5, y1 = 0,\n              line = dict(color = \"black\", dash = \"dash\"), row = 1, col = 1)\n\nfig.add_trace(\n    go.Scatter(x=rcrlaps_22[\"8 Average Full Speed Lap % Deficit\"], y=rcrlaps_22[\"3 Average Full Speed Lap % Deficit\"],\n    mode = \"markers\", marker = dict(color = \"#FF0F27\", size = 10), showlegend = False),\n    row=1, col=2\n)\n\nfig.add_shape(type = \"line\", x0 = -3.5, x1 = 0, y0 = -3.5, y1 = 0,\n              line = dict(color = \"black\", dash = \"dash\"), row = 1, col = 2)\n\nfig.add_shape(type = \"circle\", x0 = -1.3, x1 = 0.1, y0 = -2.6, y1 = -1.3,\n              line=dict(color = \"black\"), row = 1, col = 2)\n\nfig.add_trace(go.Scatter(x=[-0.6], y=[-2.8], text=[\"<b>Uneven distribution</b>\"], mode=\"text\", showlegend=False),\n            row = 1, col = 2)\n\nfig.update_layout(height=480, width=870, title_text=\"<b>Disparity in RCR Average Full Speed Lap Deficits<br>2021 vs. 2022</b>\",\n                title_x = 0.5,\n                #font_family = \"Century Gothic, bold\",\n                font_color = \"black\")\n\nfig['layout']['title']['font'] = dict(size=24)\n\nfig.show()",
   "execution_count": null,
   "outputs": [
    {
     "data": {
      "text/html": "<html>\n<head><meta charset=\"utf-8\" /></head>\n<body>\n    <div>            <script src=\"https://cdnjs.cloudflare.com/ajax/libs/mathjax/2.7.5/MathJax.js?config=TeX-AMS-MML_SVG\"></script><script type=\"text/javascript\">if (window.MathJax) {MathJax.Hub.Config({SVG: {font: \"STIX-Web\"}});}</script>                <script type=\"text/javascript\">window.PlotlyConfig = {MathJaxConfig: 'local'};</script>\n        <script src=\"https://cdn.plot.ly/plotly-2.11.1.min.js\"></script>                <div id=\"2b6d172f-1c0a-4c3f-b117-26f5410f5a5f\" class=\"plotly-graph-div\" style=\"height:480px; width:870px;\"></div>            <script type=\"text/javascript\">                                    window.PLOTLYENV=window.PLOTLYENV || {};                                    if (document.getElementById(\"2b6d172f-1c0a-4c3f-b117-26f5410f5a5f\")) {                    Plotly.newPlot(                        \"2b6d172f-1c0a-4c3f-b117-26f5410f5a5f\",                        [{\"marker\":{\"color\":\"#007DC8\",\"size\":10},\"mode\":\"markers\",\"showlegend\":false,\"x\":[-5.084043689637883,-2.0514682904993857,-1.0957557534404931,-1.6151480822139468,-1.3901393740771393,-1.1882829771554915,-3.080522519009561,-0.8701472556894176,-2.1313122854032187,-0.8244897959183743,-0.7408796773890972,-1.065662689043455,-1.1574264766455324,-1.2288079491075437,-0.4986385854410688,-2.0132382692043405,-1.9714844489306556,-1.2184492127371593,-0.6637902422834374,-0.9998837344494653,-0.38007783994162003,-1.1200628807231359,-1.1010380065981786,-1.510472537355487,-0.37094438374958916,-0.605744125326369,-1.1506582155046292,-2.54038670796017,-0.9344637663221722,-0.5069226626112858,-0.20490188352115848,-0.2156529037372092,-0.7062195080345288,-0.8498673069632198,-1.5919725987746725,-1.917172438414848],\"y\":[-0.7216202664108724,-1.6325599858111641,-0.9483057707875444,-1.2720504936073822,-1.0299996398602707,-0.7768361581920907,-3.6410606356014985,-1.0948556129278983,-1.8130809814923365,-0.4857142857142848,-1.0316046140860977,-2.373811498947099,-1.1368316994810108,-2.2962126991532608,-0.4592723813272991,-2.3687466855223676,-1.8421550690808137,-1.6616902505517346,-0.7652026404100734,-2.122572956632944,-0.8878618341036293,-1.4311914587017789,-1.4953195826516037,-1.7889455948162798,-0.38364795853552236,-0.28198433420365115,-1.807248496668295,-2.586423369883662,-1.138684324525039,-1.1469125241580391,-0.2856805106785466,-0.7950015153987855,-1.388557196956774,-1.330089725767722,-0.9358869217038885,-2.177793645126738],\"type\":\"scatter\",\"xaxis\":\"x\",\"yaxis\":\"y\"},{\"marker\":{\"color\":\"#FF0F27\",\"size\":10},\"mode\":\"markers\",\"showlegend\":false,\"x\":[-0.3577665147578672,0.0,-0.9962559010255606,-0.1868499911863241,-0.5428126965213581,-0.48981809903578655,-0.41999505888166144,-0.7429130009775047,0.0,-0.6224066390041446,-1.7635723860589785,-0.18719211822660808,-1.052966438682995],\"y\":[-2.3510370969802787,-1.7618992202955843,-1.6018232134136445,-0.6733650625771286,-0.3045046834144201,-1.4525640178302663,-0.9552828790249497,-0.24926686217008007,-0.7123287671232911,-0.6962176827321989,-2.4380026809651505,-1.553366174055826,-2.354063941466513],\"type\":\"scatter\",\"xaxis\":\"x2\",\"yaxis\":\"y2\"},{\"mode\":\"text\",\"showlegend\":false,\"text\":[\"<b>Uneven distribution</b>\"],\"x\":[-0.6],\"y\":[-2.8],\"type\":\"scatter\",\"xaxis\":\"x2\",\"yaxis\":\"y2\"}],                        {\"template\":{\"data\":{\"histogram2dcontour\":[{\"type\":\"histogram2dcontour\",\"colorbar\":{\"outlinewidth\":0,\"ticks\":\"\"},\"colorscale\":[[0.0,\"#0d0887\"],[0.1111111111111111,\"#46039f\"],[0.2222222222222222,\"#7201a8\"],[0.3333333333333333,\"#9c179e\"],[0.4444444444444444,\"#bd3786\"],[0.5555555555555556,\"#d8576b\"],[0.6666666666666666,\"#ed7953\"],[0.7777777777777778,\"#fb9f3a\"],[0.8888888888888888,\"#fdca26\"],[1.0,\"#f0f921\"]]}],\"choropleth\":[{\"type\":\"choropleth\",\"colorbar\":{\"outlinewidth\":0,\"ticks\":\"\"}}],\"histogram2d\":[{\"type\":\"histogram2d\",\"colorbar\":{\"outlinewidth\":0,\"ticks\":\"\"},\"colorscale\":[[0.0,\"#0d0887\"],[0.1111111111111111,\"#46039f\"],[0.2222222222222222,\"#7201a8\"],[0.3333333333333333,\"#9c179e\"],[0.4444444444444444,\"#bd3786\"],[0.5555555555555556,\"#d8576b\"],[0.6666666666666666,\"#ed7953\"],[0.7777777777777778,\"#fb9f3a\"],[0.8888888888888888,\"#fdca26\"],[1.0,\"#f0f921\"]]}],\"heatmap\":[{\"type\":\"heatmap\",\"colorbar\":{\"outlinewidth\":0,\"ticks\":\"\"},\"colorscale\":[[0.0,\"#0d0887\"],[0.1111111111111111,\"#46039f\"],[0.2222222222222222,\"#7201a8\"],[0.3333333333333333,\"#9c179e\"],[0.4444444444444444,\"#bd3786\"],[0.5555555555555556,\"#d8576b\"],[0.6666666666666666,\"#ed7953\"],[0.7777777777777778,\"#fb9f3a\"],[0.8888888888888888,\"#fdca26\"],[1.0,\"#f0f921\"]]}],\"heatmapgl\":[{\"type\":\"heatmapgl\",\"colorbar\":{\"outlinewidth\":0,\"ticks\":\"\"},\"colorscale\":[[0.0,\"#0d0887\"],[0.1111111111111111,\"#46039f\"],[0.2222222222222222,\"#7201a8\"],[0.3333333333333333,\"#9c179e\"],[0.4444444444444444,\"#bd3786\"],[0.5555555555555556,\"#d8576b\"],[0.6666666666666666,\"#ed7953\"],[0.7777777777777778,\"#fb9f3a\"],[0.8888888888888888,\"#fdca26\"],[1.0,\"#f0f921\"]]}],\"contourcarpet\":[{\"type\":\"contourcarpet\",\"colorbar\":{\"outlinewidth\":0,\"ticks\":\"\"}}],\"contour\":[{\"type\":\"contour\",\"colorbar\":{\"outlinewidth\":0,\"ticks\":\"\"},\"colorscale\":[[0.0,\"#0d0887\"],[0.1111111111111111,\"#46039f\"],[0.2222222222222222,\"#7201a8\"],[0.3333333333333333,\"#9c179e\"],[0.4444444444444444,\"#bd3786\"],[0.5555555555555556,\"#d8576b\"],[0.6666666666666666,\"#ed7953\"],[0.7777777777777778,\"#fb9f3a\"],[0.8888888888888888,\"#fdca26\"],[1.0,\"#f0f921\"]]}],\"surface\":[{\"type\":\"surface\",\"colorbar\":{\"outlinewidth\":0,\"ticks\":\"\"},\"colorscale\":[[0.0,\"#0d0887\"],[0.1111111111111111,\"#46039f\"],[0.2222222222222222,\"#7201a8\"],[0.3333333333333333,\"#9c179e\"],[0.4444444444444444,\"#bd3786\"],[0.5555555555555556,\"#d8576b\"],[0.6666666666666666,\"#ed7953\"],[0.7777777777777778,\"#fb9f3a\"],[0.8888888888888888,\"#fdca26\"],[1.0,\"#f0f921\"]]}],\"mesh3d\":[{\"type\":\"mesh3d\",\"colorbar\":{\"outlinewidth\":0,\"ticks\":\"\"}}],\"scatter\":[{\"fillpattern\":{\"fillmode\":\"overlay\",\"size\":10,\"solidity\":0.2},\"type\":\"scatter\"}],\"parcoords\":[{\"type\":\"parcoords\",\"line\":{\"colorbar\":{\"outlinewidth\":0,\"ticks\":\"\"}}}],\"scatterpolargl\":[{\"type\":\"scatterpolargl\",\"marker\":{\"colorbar\":{\"outlinewidth\":0,\"ticks\":\"\"}}}],\"bar\":[{\"error_x\":{\"color\":\"#2a3f5f\"},\"error_y\":{\"color\":\"#2a3f5f\"},\"marker\":{\"line\":{\"color\":\"#E5ECF6\",\"width\":0.5},\"pattern\":{\"fillmode\":\"overlay\",\"size\":10,\"solidity\":0.2}},\"type\":\"bar\"}],\"scattergeo\":[{\"type\":\"scattergeo\",\"marker\":{\"colorbar\":{\"outlinewidth\":0,\"ticks\":\"\"}}}],\"scatterpolar\":[{\"type\":\"scatterpolar\",\"marker\":{\"colorbar\":{\"outlinewidth\":0,\"ticks\":\"\"}}}],\"histogram\":[{\"marker\":{\"pattern\":{\"fillmode\":\"overlay\",\"size\":10,\"solidity\":0.2}},\"type\":\"histogram\"}],\"scattergl\":[{\"type\":\"scattergl\",\"marker\":{\"colorbar\":{\"outlinewidth\":0,\"ticks\":\"\"}}}],\"scatter3d\":[{\"type\":\"scatter3d\",\"line\":{\"colorbar\":{\"outlinewidth\":0,\"ticks\":\"\"}},\"marker\":{\"colorbar\":{\"outlinewidth\":0,\"ticks\":\"\"}}}],\"scattermapbox\":[{\"type\":\"scattermapbox\",\"marker\":{\"colorbar\":{\"outlinewidth\":0,\"ticks\":\"\"}}}],\"scatterternary\":[{\"type\":\"scatterternary\",\"marker\":{\"colorbar\":{\"outlinewidth\":0,\"ticks\":\"\"}}}],\"scattercarpet\":[{\"type\":\"scattercarpet\",\"marker\":{\"colorbar\":{\"outlinewidth\":0,\"ticks\":\"\"}}}],\"carpet\":[{\"aaxis\":{\"endlinecolor\":\"#2a3f5f\",\"gridcolor\":\"white\",\"linecolor\":\"white\",\"minorgridcolor\":\"white\",\"startlinecolor\":\"#2a3f5f\"},\"baxis\":{\"endlinecolor\":\"#2a3f5f\",\"gridcolor\":\"white\",\"linecolor\":\"white\",\"minorgridcolor\":\"white\",\"startlinecolor\":\"#2a3f5f\"},\"type\":\"carpet\"}],\"table\":[{\"cells\":{\"fill\":{\"color\":\"#EBF0F8\"},\"line\":{\"color\":\"white\"}},\"header\":{\"fill\":{\"color\":\"#C8D4E3\"},\"line\":{\"color\":\"white\"}},\"type\":\"table\"}],\"barpolar\":[{\"marker\":{\"line\":{\"color\":\"#E5ECF6\",\"width\":0.5},\"pattern\":{\"fillmode\":\"overlay\",\"size\":10,\"solidity\":0.2}},\"type\":\"barpolar\"}],\"pie\":[{\"automargin\":true,\"type\":\"pie\"}]},\"layout\":{\"autotypenumbers\":\"strict\",\"colorway\":[\"#636efa\",\"#EF553B\",\"#00cc96\",\"#ab63fa\",\"#FFA15A\",\"#19d3f3\",\"#FF6692\",\"#B6E880\",\"#FF97FF\",\"#FECB52\"],\"font\":{\"color\":\"#2a3f5f\"},\"hovermode\":\"closest\",\"hoverlabel\":{\"align\":\"left\"},\"paper_bgcolor\":\"white\",\"plot_bgcolor\":\"#E5ECF6\",\"polar\":{\"bgcolor\":\"#E5ECF6\",\"angularaxis\":{\"gridcolor\":\"white\",\"linecolor\":\"white\",\"ticks\":\"\"},\"radialaxis\":{\"gridcolor\":\"white\",\"linecolor\":\"white\",\"ticks\":\"\"}},\"ternary\":{\"bgcolor\":\"#E5ECF6\",\"aaxis\":{\"gridcolor\":\"white\",\"linecolor\":\"white\",\"ticks\":\"\"},\"baxis\":{\"gridcolor\":\"white\",\"linecolor\":\"white\",\"ticks\":\"\"},\"caxis\":{\"gridcolor\":\"white\",\"linecolor\":\"white\",\"ticks\":\"\"}},\"coloraxis\":{\"colorbar\":{\"outlinewidth\":0,\"ticks\":\"\"}},\"colorscale\":{\"sequential\":[[0.0,\"#0d0887\"],[0.1111111111111111,\"#46039f\"],[0.2222222222222222,\"#7201a8\"],[0.3333333333333333,\"#9c179e\"],[0.4444444444444444,\"#bd3786\"],[0.5555555555555556,\"#d8576b\"],[0.6666666666666666,\"#ed7953\"],[0.7777777777777778,\"#fb9f3a\"],[0.8888888888888888,\"#fdca26\"],[1.0,\"#f0f921\"]],\"sequentialminus\":[[0.0,\"#0d0887\"],[0.1111111111111111,\"#46039f\"],[0.2222222222222222,\"#7201a8\"],[0.3333333333333333,\"#9c179e\"],[0.4444444444444444,\"#bd3786\"],[0.5555555555555556,\"#d8576b\"],[0.6666666666666666,\"#ed7953\"],[0.7777777777777778,\"#fb9f3a\"],[0.8888888888888888,\"#fdca26\"],[1.0,\"#f0f921\"]],\"diverging\":[[0,\"#8e0152\"],[0.1,\"#c51b7d\"],[0.2,\"#de77ae\"],[0.3,\"#f1b6da\"],[0.4,\"#fde0ef\"],[0.5,\"#f7f7f7\"],[0.6,\"#e6f5d0\"],[0.7,\"#b8e186\"],[0.8,\"#7fbc41\"],[0.9,\"#4d9221\"],[1,\"#276419\"]]},\"xaxis\":{\"gridcolor\":\"white\",\"linecolor\":\"white\",\"ticks\":\"\",\"title\":{\"standoff\":15},\"zerolinecolor\":\"white\",\"automargin\":true,\"zerolinewidth\":2},\"yaxis\":{\"gridcolor\":\"white\",\"linecolor\":\"white\",\"ticks\":\"\",\"title\":{\"standoff\":15},\"zerolinecolor\":\"white\",\"automargin\":true,\"zerolinewidth\":2},\"scene\":{\"xaxis\":{\"backgroundcolor\":\"#E5ECF6\",\"gridcolor\":\"white\",\"linecolor\":\"white\",\"showbackground\":true,\"ticks\":\"\",\"zerolinecolor\":\"white\",\"gridwidth\":2},\"yaxis\":{\"backgroundcolor\":\"#E5ECF6\",\"gridcolor\":\"white\",\"linecolor\":\"white\",\"showbackground\":true,\"ticks\":\"\",\"zerolinecolor\":\"white\",\"gridwidth\":2},\"zaxis\":{\"backgroundcolor\":\"#E5ECF6\",\"gridcolor\":\"white\",\"linecolor\":\"white\",\"showbackground\":true,\"ticks\":\"\",\"zerolinecolor\":\"white\",\"gridwidth\":2}},\"shapedefaults\":{\"line\":{\"color\":\"#2a3f5f\"}},\"annotationdefaults\":{\"arrowcolor\":\"#2a3f5f\",\"arrowhead\":0,\"arrowwidth\":1},\"geo\":{\"bgcolor\":\"white\",\"landcolor\":\"#E5ECF6\",\"subunitcolor\":\"white\",\"showland\":true,\"showlakes\":true,\"lakecolor\":\"white\"},\"title\":{\"x\":0.05},\"mapbox\":{\"style\":\"light\"}}},\"xaxis\":{\"anchor\":\"y\",\"domain\":[0.0,0.45]},\"yaxis\":{\"anchor\":\"x\",\"domain\":[0.0,1.0]},\"xaxis2\":{\"anchor\":\"y2\",\"domain\":[0.55,1.0]},\"yaxis2\":{\"anchor\":\"x2\",\"domain\":[0.0,1.0]},\"annotations\":[{\"font\":{\"size\":16},\"showarrow\":false,\"text\":\"Tyler Reddick's (#8) % Deficit\",\"x\":0.5,\"xanchor\":\"center\",\"xref\":\"paper\",\"y\":0,\"yanchor\":\"top\",\"yref\":\"paper\",\"yshift\":-30},{\"font\":{\"size\":16},\"showarrow\":false,\"text\":\"Austin Dillon's (#3) % Deficit\",\"textangle\":-90,\"x\":0,\"xanchor\":\"right\",\"xref\":\"paper\",\"xshift\":-40,\"y\":0.5,\"yanchor\":\"middle\",\"yref\":\"paper\"}],\"shapes\":[{\"line\":{\"color\":\"black\",\"dash\":\"dash\"},\"type\":\"line\",\"x0\":-3.5,\"x1\":0,\"xref\":\"x\",\"y0\":-3.5,\"y1\":0,\"yref\":\"y\"},{\"line\":{\"color\":\"black\",\"dash\":\"dash\"},\"type\":\"line\",\"x0\":-3.5,\"x1\":0,\"xref\":\"x2\",\"y0\":-3.5,\"y1\":0,\"yref\":\"y2\"},{\"line\":{\"color\":\"black\"},\"type\":\"circle\",\"x0\":-1.3,\"x1\":0.1,\"xref\":\"x2\",\"y0\":-2.6,\"y1\":-1.3,\"yref\":\"y2\"}],\"title\":{\"text\":\"<b>Disparity in RCR Average Full Speed Lap Deficits<br>2021 vs. 2022</b>\",\"x\":0.5,\"font\":{\"size\":24}},\"font\":{\"color\":\"black\"},\"height\":480,\"width\":870},                        {\"responsive\": true}                    ).then(function(){\n                            \nvar gd = document.getElementById('2b6d172f-1c0a-4c3f-b117-26f5410f5a5f');\nvar x = new MutationObserver(function (mutations, observer) {{\n        var display = window.getComputedStyle(gd).display;\n        if (!display || display === 'none') {{\n            console.log([gd, 'removed!']);\n            Plotly.purge(gd);\n            observer.disconnect();\n        }}\n}});\n\n// Listen for the removal of the full notebook cells\nvar notebookContainer = gd.closest('#notebook-container');\nif (notebookContainer) {{\n    x.observe(notebookContainer, {childList: true});\n}}\n\n// Listen for the clearing of the current output cell\nvar outputEl = gd.closest('.output');\nif (outputEl) {{\n    x.observe(outputEl, {childList: true});\n}}\n\n                        })                };                            </script>        </div>\n</body>\n</html>"
     },
     "metadata": {},
     "output_type": "display_data"
    }
   ]
  },
  {
   "cell_type": "code",
   "metadata": {
    "tags": [],
    "deepnote_to_be_reexecuted": false,
    "source_hash": "bf55fc89",
    "execution_start": 1653250070991,
    "execution_millis": 275,
    "cell_id": "00008-5becb992-b238-4c6c-a71e-511643382179",
    "deepnote_cell_type": "code",
    "deepnote_cell_height": 874.140625
   },
   "source": "blaney_21 = allraces21[allraces21[\"Driver\"] == \"Ryan Blaney\"]\nblaney_22 = allraces22[allraces22[\"Driver\"] == \"Ryan Blaney\"]\n\nlogano_21 = allraces21[allraces21[\"Driver\"] == \"Joey Logano\"]\nlogano_22 = allraces22[allraces22[\"Driver\"] == \"Joey Logano\"]\n\nblaney_21 = just_lap_data(blaney_21, car_num = 12)\nlogano_21 = just_lap_data(logano_21, car_num = 22)\npenskelaps_21 = pd.merge(blaney_21, logano_21, on = \"Race #\")\n\n\nblaney_22 = just_lap_data(blaney_22, car_num = 12)\nlogano_22 = just_lap_data(logano_22, car_num = 22)\npenskelaps_22 = pd.merge(blaney_22, logano_22, on = \"Race #\")\npenskelaps_22",
   "execution_count": null,
   "outputs": [
    {
     "output_type": "execute_result",
     "execution_count": 9,
     "data": {
      "application/vnd.deepnote.dataframe.v3+json": {
       "column_count": 19,
       "row_count": 13,
       "columns": [
        {
         "name": "Race #",
         "dtype": "int64",
         "stats": {
          "unique_count": 13,
          "nan_count": 0,
          "min": "1",
          "max": "13",
          "histogram": [
           {
            "bin_start": 1,
            "bin_end": 2.2,
            "count": 2
           },
           {
            "bin_start": 2.2,
            "bin_end": 3.4,
            "count": 1
           },
           {
            "bin_start": 3.4,
            "bin_end": 4.6,
            "count": 1
           },
           {
            "bin_start": 4.6,
            "bin_end": 5.8,
            "count": 1
           },
           {
            "bin_start": 5.8,
            "bin_end": 7,
            "count": 1
           },
           {
            "bin_start": 7,
            "bin_end": 8.2,
            "count": 2
           },
           {
            "bin_start": 8.2,
            "bin_end": 9.4,
            "count": 1
           },
           {
            "bin_start": 9.4,
            "bin_end": 10.6,
            "count": 1
           },
           {
            "bin_start": 10.6,
            "bin_end": 11.799999999999999,
            "count": 1
           },
           {
            "bin_start": 11.799999999999999,
            "bin_end": 13,
            "count": 2
           }
          ]
         }
        },
        {
         "name": "12 Fastest Lap",
         "dtype": "float64",
         "stats": {
          "unique_count": 13,
          "nan_count": 0,
          "min": "19.651",
          "max": "134.553",
          "histogram": [
           {
            "bin_start": 19.651,
            "bin_end": 31.141199999999998,
            "count": 9
           },
           {
            "bin_start": 31.141199999999998,
            "bin_end": 42.6314,
            "count": 1
           },
           {
            "bin_start": 42.6314,
            "bin_end": 54.1216,
            "count": 2
           },
           {
            "bin_start": 54.1216,
            "bin_end": 65.6118,
            "count": 0
           },
           {
            "bin_start": 65.6118,
            "bin_end": 77.102,
            "count": 0
           },
           {
            "bin_start": 77.102,
            "bin_end": 88.59219999999999,
            "count": 0
           },
           {
            "bin_start": 88.59219999999999,
            "bin_end": 100.08239999999999,
            "count": 0
           },
           {
            "bin_start": 100.08239999999999,
            "bin_end": 111.5726,
            "count": 0
           },
           {
            "bin_start": 111.5726,
            "bin_end": 123.0628,
            "count": 0
           },
           {
            "bin_start": 123.0628,
            "bin_end": 134.553,
            "count": 1
           }
          ]
         }
        },
        {
         "name": "12 Median Lap",
         "dtype": "float64",
         "stats": {
          "unique_count": 13,
          "nan_count": 0,
          "min": "20.499",
          "max": "136.101",
          "histogram": [
           {
            "bin_start": 20.499,
            "bin_end": 32.0592,
            "count": 9
           },
           {
            "bin_start": 32.0592,
            "bin_end": 43.6194,
            "count": 1
           },
           {
            "bin_start": 43.6194,
            "bin_end": 55.17959999999999,
            "count": 2
           },
           {
            "bin_start": 55.17959999999999,
            "bin_end": 66.7398,
            "count": 0
           },
           {
            "bin_start": 66.7398,
            "bin_end": 78.3,
            "count": 0
           },
           {
            "bin_start": 78.3,
            "bin_end": 89.86019999999999,
            "count": 0
           },
           {
            "bin_start": 89.86019999999999,
            "bin_end": 101.4204,
            "count": 0
           },
           {
            "bin_start": 101.4204,
            "bin_end": 112.9806,
            "count": 0
           },
           {
            "bin_start": 112.9806,
            "bin_end": 124.54079999999999,
            "count": 0
           },
           {
            "bin_start": 124.54079999999999,
            "bin_end": 136.101,
            "count": 1
           }
          ]
         }
        },
        {
         "name": "12 Average Full Speed Lap",
         "dtype": "float64",
         "stats": {
          "unique_count": 13,
          "nan_count": 0,
          "min": "20.255",
          "max": "136.667",
          "histogram": [
           {
            "bin_start": 20.255,
            "bin_end": 31.8962,
            "count": 9
           },
           {
            "bin_start": 31.8962,
            "bin_end": 43.537400000000005,
            "count": 1
           },
           {
            "bin_start": 43.537400000000005,
            "bin_end": 55.1786,
            "count": 2
           },
           {
            "bin_start": 55.1786,
            "bin_end": 66.8198,
            "count": 0
           },
           {
            "bin_start": 66.8198,
            "bin_end": 78.461,
            "count": 0
           },
           {
            "bin_start": 78.461,
            "bin_end": 90.10220000000001,
            "count": 0
           },
           {
            "bin_start": 90.10220000000001,
            "bin_end": 101.74340000000001,
            "count": 0
           },
           {
            "bin_start": 101.74340000000001,
            "bin_end": 113.3846,
            "count": 0
           },
           {
            "bin_start": 113.3846,
            "bin_end": 125.0258,
            "count": 0
           },
           {
            "bin_start": 125.0258,
            "bin_end": 136.667,
            "count": 1
           }
          ]
         }
        },
        {
         "name": "12 Fastest Lap % Deficit",
         "dtype": "float64",
         "stats": {
          "unique_count": 13,
          "nan_count": 0,
          "min": "-2.1787921687787035",
          "max": "0.0",
          "histogram": [
           {
            "bin_start": -2.1787921687787035,
            "bin_end": -1.9609129519008333,
            "count": 3
           },
           {
            "bin_start": -1.9609129519008333,
            "bin_end": -1.7430337350229628,
            "count": 0
           },
           {
            "bin_start": -1.7430337350229628,
            "bin_end": -1.5251545181450925,
            "count": 0
           },
           {
            "bin_start": -1.5251545181450925,
            "bin_end": -1.307275301267222,
            "count": 1
           },
           {
            "bin_start": -1.307275301267222,
            "bin_end": -1.0893960843893518,
            "count": 1
           },
           {
            "bin_start": -1.0893960843893518,
            "bin_end": -0.8715168675114815,
            "count": 2
           },
           {
            "bin_start": -0.8715168675114815,
            "bin_end": -0.653637650633611,
            "count": 1
           },
           {
            "bin_start": -0.653637650633611,
            "bin_end": -0.43575843375574075,
            "count": 2
           },
           {
            "bin_start": -0.43575843375574075,
            "bin_end": -0.21787921687787049,
            "count": 0
           },
           {
            "bin_start": -0.21787921687787049,
            "bin_end": 0,
            "count": 3
           }
          ]
         }
        },
        {
         "name": "12 Median Lap % Deficit",
         "dtype": "float64",
         "stats": {
          "unique_count": 13,
          "nan_count": 0,
          "min": "-1.2025052192066816",
          "max": "0.0",
          "histogram": [
           {
            "bin_start": -1.2025052192066816,
            "bin_end": -1.0822546972860134,
            "count": 1
           },
           {
            "bin_start": -1.0822546972860134,
            "bin_end": -0.9620041753653453,
            "count": 1
           },
           {
            "bin_start": -0.9620041753653453,
            "bin_end": -0.8417536534446771,
            "count": 0
           },
           {
            "bin_start": -0.8417536534446771,
            "bin_end": -0.721503131524009,
            "count": 1
           },
           {
            "bin_start": -0.721503131524009,
            "bin_end": -0.6012526096033408,
            "count": 1
           },
           {
            "bin_start": -0.6012526096033408,
            "bin_end": -0.4810020876826726,
            "count": 1
           },
           {
            "bin_start": -0.4810020876826726,
            "bin_end": -0.3607515657620045,
            "count": 2
           },
           {
            "bin_start": -0.3607515657620045,
            "bin_end": -0.2405010438413363,
            "count": 0
           },
           {
            "bin_start": -0.2405010438413363,
            "bin_end": -0.12025052192066821,
            "count": 2
           },
           {
            "bin_start": -0.12025052192066821,
            "bin_end": 0,
            "count": 4
           }
          ]
         }
        },
        {
         "name": "12 Average Full Speed Lap % Deficit",
         "dtype": "float64",
         "stats": {
          "unique_count": 13,
          "nan_count": 0,
          "min": "-1.0221179624664871",
          "max": "-0.05626716976135922",
          "histogram": [
           {
            "bin_start": -1.0221179624664871,
            "bin_end": -0.9255328831959744,
            "count": 2
           },
           {
            "bin_start": -0.9255328831959744,
            "bin_end": -0.8289478039254615,
            "count": 1
           },
           {
            "bin_start": -0.8289478039254615,
            "bin_end": -0.7323627246549488,
            "count": 1
           },
           {
            "bin_start": -0.7323627246549488,
            "bin_end": -0.6357776453844359,
            "count": 0
           },
           {
            "bin_start": -0.6357776453844359,
            "bin_end": -0.5391925661139232,
            "count": 1
           },
           {
            "bin_start": -0.5391925661139232,
            "bin_end": -0.44260748684341045,
            "count": 0
           },
           {
            "bin_start": -0.44260748684341045,
            "bin_end": -0.3460224075728976,
            "count": 1
           },
           {
            "bin_start": -0.3460224075728976,
            "bin_end": -0.24943732830238485,
            "count": 3
           },
           {
            "bin_start": -0.24943732830238485,
            "bin_end": -0.1528522490318721,
            "count": 1
           },
           {
            "bin_start": -0.1528522490318721,
            "bin_end": -0.05626716976135922,
            "count": 3
           }
          ]
         }
        },
        {
         "name": "12 Fastest Lap Rank",
         "dtype": "float64",
         "stats": {
          "unique_count": 10,
          "nan_count": 0,
          "min": "1.0",
          "max": "18.0",
          "histogram": [
           {
            "bin_start": 1,
            "bin_end": 2.7,
            "count": 3
           },
           {
            "bin_start": 2.7,
            "bin_end": 4.4,
            "count": 0
           },
           {
            "bin_start": 4.4,
            "bin_end": 6.1,
            "count": 0
           },
           {
            "bin_start": 6.1,
            "bin_end": 7.8,
            "count": 2
           },
           {
            "bin_start": 7.8,
            "bin_end": 9.5,
            "count": 0
           },
           {
            "bin_start": 9.5,
            "bin_end": 11.2,
            "count": 0
           },
           {
            "bin_start": 11.2,
            "bin_end": 12.9,
            "count": 1
           },
           {
            "bin_start": 12.9,
            "bin_end": 14.6,
            "count": 2
           },
           {
            "bin_start": 14.6,
            "bin_end": 16.299999999999997,
            "count": 3
           },
           {
            "bin_start": 16.299999999999997,
            "bin_end": 18,
            "count": 2
           }
          ]
         }
        },
        {
         "name": "12 Median Lap Rank",
         "dtype": "float64",
         "stats": {
          "unique_count": 9,
          "nan_count": 0,
          "min": "1.0",
          "max": "19.0",
          "histogram": [
           {
            "bin_start": 1,
            "bin_end": 2.8,
            "count": 1
           },
           {
            "bin_start": 2.8,
            "bin_end": 4.6,
            "count": 5
           },
           {
            "bin_start": 4.6,
            "bin_end": 6.4,
            "count": 1
           },
           {
            "bin_start": 6.4,
            "bin_end": 8.2,
            "count": 3
           },
           {
            "bin_start": 8.2,
            "bin_end": 10,
            "count": 1
           },
           {
            "bin_start": 10,
            "bin_end": 11.8,
            "count": 0
           },
           {
            "bin_start": 11.8,
            "bin_end": 13.6,
            "count": 0
           },
           {
            "bin_start": 13.6,
            "bin_end": 15.4,
            "count": 0
           },
           {
            "bin_start": 15.4,
            "bin_end": 17.2,
            "count": 1
           },
           {
            "bin_start": 17.2,
            "bin_end": 19,
            "count": 1
           }
          ]
         }
        },
        {
         "name": "12 Average Full Speed Lap Rank",
         "dtype": "float64",
         "stats": {
          "unique_count": 9,
          "nan_count": 0,
          "min": "2.0",
          "max": "20.0",
          "histogram": [
           {
            "bin_start": 2,
            "bin_end": 3.8,
            "count": 1
           },
           {
            "bin_start": 3.8,
            "bin_end": 5.6,
            "count": 4
           },
           {
            "bin_start": 5.6,
            "bin_end": 7.4,
            "count": 1
           },
           {
            "bin_start": 7.4,
            "bin_end": 9.2,
            "count": 4
           },
           {
            "bin_start": 9.2,
            "bin_end": 11,
            "count": 1
           },
           {
            "bin_start": 11,
            "bin_end": 12.8,
            "count": 0
           },
           {
            "bin_start": 12.8,
            "bin_end": 14.6,
            "count": 0
           },
           {
            "bin_start": 14.6,
            "bin_end": 16.4,
            "count": 1
           },
           {
            "bin_start": 16.4,
            "bin_end": 18.2,
            "count": 0
           },
           {
            "bin_start": 18.2,
            "bin_end": 20,
            "count": 1
           }
          ]
         }
        },
        {
         "name": "22 Fastest Lap",
         "dtype": "float64",
         "stats": {
          "unique_count": 13,
          "nan_count": 0,
          "min": "19.658",
          "max": "134.936",
          "histogram": [
           {
            "bin_start": 19.658,
            "bin_end": 31.1858,
            "count": 9
           },
           {
            "bin_start": 31.1858,
            "bin_end": 42.7136,
            "count": 1
           },
           {
            "bin_start": 42.7136,
            "bin_end": 54.241400000000006,
            "count": 2
           },
           {
            "bin_start": 54.241400000000006,
            "bin_end": 65.76920000000001,
            "count": 0
           },
           {
            "bin_start": 65.76920000000001,
            "bin_end": 77.297,
            "count": 0
           },
           {
            "bin_start": 77.297,
            "bin_end": 88.82480000000001,
            "count": 0
           },
           {
            "bin_start": 88.82480000000001,
            "bin_end": 100.35260000000001,
            "count": 0
           },
           {
            "bin_start": 100.35260000000001,
            "bin_end": 111.88040000000001,
            "count": 0
           },
           {
            "bin_start": 111.88040000000001,
            "bin_end": 123.40820000000001,
            "count": 0
           },
           {
            "bin_start": 123.40820000000001,
            "bin_end": 134.936,
            "count": 1
           }
          ]
         }
        },
        {
         "name": "22 Median Lap",
         "dtype": "float64",
         "stats": {
          "unique_count": 13,
          "nan_count": 0,
          "min": "20.462",
          "max": "137.682",
          "histogram": [
           {
            "bin_start": 20.462,
            "bin_end": 32.184,
            "count": 9
           },
           {
            "bin_start": 32.184,
            "bin_end": 43.90599999999999,
            "count": 1
           },
           {
            "bin_start": 43.90599999999999,
            "bin_end": 55.628,
            "count": 2
           },
           {
            "bin_start": 55.628,
            "bin_end": 67.35,
            "count": 0
           },
           {
            "bin_start": 67.35,
            "bin_end": 79.07199999999999,
            "count": 0
           },
           {
            "bin_start": 79.07199999999999,
            "bin_end": 90.794,
            "count": 0
           },
           {
            "bin_start": 90.794,
            "bin_end": 102.51599999999999,
            "count": 0
           },
           {
            "bin_start": 102.51599999999999,
            "bin_end": 114.23799999999999,
            "count": 0
           },
           {
            "bin_start": 114.23799999999999,
            "bin_end": 125.95999999999998,
            "count": 0
           },
           {
            "bin_start": 125.95999999999998,
            "bin_end": 137.682,
            "count": 1
           }
          ]
         }
        },
        {
         "name": "22 Average Full Speed Lap",
         "dtype": "float64",
         "stats": {
          "unique_count": 13,
          "nan_count": 0,
          "min": "20.219",
          "max": "136.8",
          "histogram": [
           {
            "bin_start": 20.219,
            "bin_end": 31.877100000000002,
            "count": 8
           },
           {
            "bin_start": 31.877100000000002,
            "bin_end": 43.5352,
            "count": 2
           },
           {
            "bin_start": 43.5352,
            "bin_end": 55.1933,
            "count": 2
           },
           {
            "bin_start": 55.1933,
            "bin_end": 66.85140000000001,
            "count": 0
           },
           {
            "bin_start": 66.85140000000001,
            "bin_end": 78.5095,
            "count": 0
           },
           {
            "bin_start": 78.5095,
            "bin_end": 90.1676,
            "count": 0
           },
           {
            "bin_start": 90.1676,
            "bin_end": 101.82570000000001,
            "count": 0
           },
           {
            "bin_start": 101.82570000000001,
            "bin_end": 113.4838,
            "count": 0
           },
           {
            "bin_start": 113.4838,
            "bin_end": 125.14190000000002,
            "count": 0
           },
           {
            "bin_start": 125.14190000000002,
            "bin_end": 136.8,
            "count": 1
           }
          ]
         }
        },
        {
         "name": "22 Fastest Lap % Deficit",
         "dtype": "float64",
         "stats": {
          "unique_count": 13,
          "nan_count": 0,
          "min": "-4.009485749418121",
          "max": "0.0",
          "histogram": [
           {
            "bin_start": -4.009485749418121,
            "bin_end": -3.608537174476309,
            "count": 1
           },
           {
            "bin_start": -3.608537174476309,
            "bin_end": -3.207588599534497,
            "count": 0
           },
           {
            "bin_start": -3.207588599534497,
            "bin_end": -2.8066400245926846,
            "count": 1
           },
           {
            "bin_start": -2.8066400245926846,
            "bin_end": -2.4056914496508726,
            "count": 0
           },
           {
            "bin_start": -2.4056914496508726,
            "bin_end": -2.0047428747090605,
            "count": 1
           },
           {
            "bin_start": -2.0047428747090605,
            "bin_end": -1.603794299767248,
            "count": 0
           },
           {
            "bin_start": -1.603794299767248,
            "bin_end": -1.202845724825436,
            "count": 1
           },
           {
            "bin_start": -1.202845724825436,
            "bin_end": -0.801897149883624,
            "count": 3
           },
           {
            "bin_start": -0.801897149883624,
            "bin_end": -0.400948574941812,
            "count": 3
           },
           {
            "bin_start": -0.400948574941812,
            "bin_end": 0,
            "count": 3
           }
          ]
         }
        },
        {
         "name": "22 Median Lap % Deficit",
         "dtype": "float64",
         "stats": {
          "unique_count": 13,
          "nan_count": 0,
          "min": "-2.747390396659713",
          "max": "-0.004879953152438363",
          "histogram": [
           {
            "bin_start": -2.747390396659713,
            "bin_end": -2.4731393523089853,
            "count": 1
           },
           {
            "bin_start": -2.4731393523089853,
            "bin_end": -2.198888307958258,
            "count": 0
           },
           {
            "bin_start": -2.198888307958258,
            "bin_end": -1.9246372636075306,
            "count": 0
           },
           {
            "bin_start": -1.9246372636075306,
            "bin_end": -1.650386219256803,
            "count": 1
           },
           {
            "bin_start": -1.650386219256803,
            "bin_end": -1.3761351749060755,
            "count": 0
           },
           {
            "bin_start": -1.3761351749060755,
            "bin_end": -1.1018841305553482,
            "count": 2
           },
           {
            "bin_start": -1.1018841305553482,
            "bin_end": -0.8276330862046208,
            "count": 0
           },
           {
            "bin_start": -0.8276330862046208,
            "bin_end": -0.5533820418538933,
            "count": 3
           },
           {
            "bin_start": -0.5533820418538933,
            "bin_end": -0.2791309975031657,
            "count": 2
           },
           {
            "bin_start": -0.2791309975031657,
            "bin_end": -0.004879953152438363,
            "count": 4
           }
          ]
         }
        },
        {
         "name": "22 Average Full Speed Lap % Deficit",
         "dtype": "float64",
         "stats": {
          "unique_count": 13,
          "nan_count": 0,
          "min": "-2.789879356568366",
          "max": "0.0",
          "histogram": [
           {
            "bin_start": -2.789879356568366,
            "bin_end": -2.510891420911529,
            "count": 1
           },
           {
            "bin_start": -2.510891420911529,
            "bin_end": -2.231903485254693,
            "count": 0
           },
           {
            "bin_start": -2.231903485254693,
            "bin_end": -1.952915549597856,
            "count": 1
           },
           {
            "bin_start": -1.952915549597856,
            "bin_end": -1.6739276139410195,
            "count": 0
           },
           {
            "bin_start": -1.6739276139410195,
            "bin_end": -1.394939678284183,
            "count": 0
           },
           {
            "bin_start": -1.394939678284183,
            "bin_end": -1.1159517426273462,
            "count": 0
           },
           {
            "bin_start": -1.1159517426273462,
            "bin_end": -0.8369638069705096,
            "count": 0
           },
           {
            "bin_start": -0.8369638069705096,
            "bin_end": -0.5579758713136731,
            "count": 4
           },
           {
            "bin_start": -0.5579758713136731,
            "bin_end": -0.27898793565683633,
            "count": 3
           },
           {
            "bin_start": -0.27898793565683633,
            "bin_end": 0,
            "count": 4
           }
          ]
         }
        },
        {
         "name": "22 Fastest Lap Rank",
         "dtype": "float64",
         "stats": {
          "unique_count": 12,
          "nan_count": 0,
          "min": "1.0",
          "max": "27.0",
          "histogram": [
           {
            "bin_start": 1,
            "bin_end": 3.6,
            "count": 2
           },
           {
            "bin_start": 3.6,
            "bin_end": 6.2,
            "count": 3
           },
           {
            "bin_start": 6.2,
            "bin_end": 8.8,
            "count": 0
           },
           {
            "bin_start": 8.8,
            "bin_end": 11.4,
            "count": 2
           },
           {
            "bin_start": 11.4,
            "bin_end": 14,
            "count": 0
           },
           {
            "bin_start": 14,
            "bin_end": 16.6,
            "count": 1
           },
           {
            "bin_start": 16.6,
            "bin_end": 19.2,
            "count": 2
           },
           {
            "bin_start": 19.2,
            "bin_end": 21.8,
            "count": 1
           },
           {
            "bin_start": 21.8,
            "bin_end": 24.400000000000002,
            "count": 0
           },
           {
            "bin_start": 24.400000000000002,
            "bin_end": 27,
            "count": 2
           }
          ]
         }
        },
        {
         "name": "22 Median Lap Rank",
         "dtype": "float64",
         "stats": {
          "unique_count": 11,
          "nan_count": 0,
          "min": "2.0",
          "max": "32.0",
          "histogram": [
           {
            "bin_start": 2,
            "bin_end": 5,
            "count": 3
           },
           {
            "bin_start": 5,
            "bin_end": 8,
            "count": 2
           },
           {
            "bin_start": 8,
            "bin_end": 11,
            "count": 3
           },
           {
            "bin_start": 11,
            "bin_end": 14,
            "count": 2
           },
           {
            "bin_start": 14,
            "bin_end": 17,
            "count": 1
           },
           {
            "bin_start": 17,
            "bin_end": 20,
            "count": 1
           },
           {
            "bin_start": 20,
            "bin_end": 23,
            "count": 0
           },
           {
            "bin_start": 23,
            "bin_end": 26,
            "count": 0
           },
           {
            "bin_start": 26,
            "bin_end": 29,
            "count": 0
           },
           {
            "bin_start": 29,
            "bin_end": 32,
            "count": 1
           }
          ]
         }
        },
        {
         "name": "22 Average Full Speed Lap Rank",
         "dtype": "float64",
         "stats": {
          "unique_count": 11,
          "nan_count": 0,
          "min": "1.0",
          "max": "32.0",
          "histogram": [
           {
            "bin_start": 1,
            "bin_end": 4.1,
            "count": 3
           },
           {
            "bin_start": 4.1,
            "bin_end": 7.2,
            "count": 4
           },
           {
            "bin_start": 7.2,
            "bin_end": 10.3,
            "count": 3
           },
           {
            "bin_start": 10.3,
            "bin_end": 13.4,
            "count": 0
           },
           {
            "bin_start": 13.4,
            "bin_end": 16.5,
            "count": 1
           },
           {
            "bin_start": 16.5,
            "bin_end": 19.6,
            "count": 1
           },
           {
            "bin_start": 19.6,
            "bin_end": 22.7,
            "count": 0
           },
           {
            "bin_start": 22.7,
            "bin_end": 25.8,
            "count": 0
           },
           {
            "bin_start": 25.8,
            "bin_end": 28.900000000000002,
            "count": 0
           },
           {
            "bin_start": 28.900000000000002,
            "bin_end": 32,
            "count": 1
           }
          ]
         }
        },
        {
         "name": "_deepnote_index_column",
         "dtype": "int64"
        }
       ],
       "rows": [
        {
         "Race #": 1,
         "12 Fastest Lap": 46.141,
         "12 Median Lap": 47.081,
         "12 Average Full Speed Lap": 47.014,
         "12 Fastest Lap % Deficit": -0.5973793795103253,
         "12 Median Lap % Deficit": -0.04249803446591259,
         "12 Average Full Speed Lap % Deficit": -0.11925550491929914,
         "12 Fastest Lap Rank": 17,
         "12 Median Lap Rank": 3,
         "12 Average Full Speed Lap Rank": 9,
         "22 Fastest Lap": 45.907,
         "22 Median Lap": 47.094,
         "22 Average Full Speed Lap": 46.958,
         "22 Fastest Lap % Deficit": -0.08720866854165119,
         "22 Median Lap % Deficit": -0.07012175686874748,
         "22 Average Full Speed Lap % Deficit": 0,
         "22 Fastest Lap Rank": 3,
         "22 Median Lap Rank": 8,
         "22 Average Full Speed Lap Rank": 1,
         "_deepnote_index_column": 0
        },
        {
         "Race #": 2,
         "12 Fastest Lap": 41.827,
         "12 Median Lap": 43.408,
         "12 Average Full Speed Lap": 43.078,
         "12 Fastest Lap % Deficit": -0.9948086442110324,
         "12 Median Lap % Deficit": -0.1753900120003704,
         "12 Average Full Speed Lap % Deficit": -0.26300477132549643,
         "12 Fastest Lap Rank": 7,
         "12 Median Lap Rank": 4,
         "12 Average Full Speed Lap Rank": 4,
         "22 Fastest Lap": 41.701,
         "22 Median Lap": 43.49,
         "22 Average Full Speed Lap": 43.128,
         "22 Fastest Lap % Deficit": -0.6905710491367895,
         "22 Median Lap % Deficit": -0.36462660389550733,
         "22 Average Full Speed Lap % Deficit": -0.37937856394739133,
         "22 Fastest Lap Rank": 5,
         "22 Median Lap Rank": 5,
         "22 Average Full Speed Lap Rank": 5,
         "_deepnote_index_column": 1
        },
        {
         "Race #": 3,
         "12 Fastest Lap": 29.684,
         "12 Median Lap": 30.934,
         "12 Average Full Speed Lap": 30.762,
         "12 Fastest Lap % Deficit": -0.1890103955717596,
         "12 Median Lap % Deficit": -0.36337680877296047,
         "12 Average Full Speed Lap % Deficit": -0.15301969721634576,
         "12 Fastest Lap Rank": 2,
         "12 Median Lap Rank": 5,
         "12 Average Full Speed Lap Rank": 5,
         "22 Fastest Lap": 29.826,
         "22 Median Lap": 31.173,
         "22 Average Full Speed Lap": 30.946,
         "22 Fastest Lap % Deficit": -0.6682867557715688,
         "22 Median Lap % Deficit": -1.1387969632080952,
         "22 Average Full Speed Lap % Deficit": -0.7520755331271419,
         "22 Fastest Lap Rank": 10,
         "22 Median Lap Rank": 12,
         "22 Average Full Speed Lap Rank": 10,
         "_deepnote_index_column": 2
        },
        {
         "Race #": 4,
         "12 Fastest Lap": 27.536,
         "12 Median Lap": 28.495,
         "12 Average Full Speed Lap": 28.389,
         "12 Fastest Lap % Deficit": 0,
         "12 Median Lap % Deficit": -0.20748347165565148,
         "12 Average Full Speed Lap % Deficit": -0.08461131676362034,
         "12 Fastest Lap Rank": 1,
         "12 Median Lap Rank": 3,
         "12 Average Full Speed Lap Rank": 2,
         "22 Fastest Lap": 27.775,
         "22 Median Lap": 28.627,
         "22 Average Full Speed Lap": 28.524,
         "22 Fastest Lap % Deficit": -0.8679546775130637,
         "22 Median Lap % Deficit": -0.671683781122517,
         "22 Average Full Speed Lap % Deficit": -0.5605499735589723,
         "22 Fastest Lap Rank": 9,
         "22 Median Lap Rank": 9,
         "22 Average Full Speed Lap Rank": 9,
         "_deepnote_index_column": 3
        },
        {
         "Race #": 5,
         "12 Fastest Lap": 29.713,
         "12 Median Lap": 30.277,
         "12 Average Full Speed Lap": 30.23,
         "12 Fastest Lap % Deficit": -0.6163015136636151,
         "12 Median Lap % Deficit": -0.029734372935114117,
         "12 Average Full Speed Lap % Deficit": -0.05626716976135922,
         "12 Fastest Lap Rank": 16,
         "12 Median Lap Rank": 3,
         "12 Average Full Speed Lap Rank": 7,
         "22 Fastest Lap": 29.599,
         "22 Median Lap": 30.323,
         "22 Average Full Speed Lap": 30.233,
         "22 Fastest Lap % Deficit": -0.23026649961058343,
         "22 Median Lap % Deficit": -0.18171005682568955,
         "22 Average Full Speed Lap % Deficit": -0.06619667030748212,
         "22 Fastest Lap Rank": 4,
         "22 Median Lap Rank": 13,
         "22 Average Full Speed Lap Rank": 8,
         "_deepnote_index_column": 4
        },
        {
         "Race #": 6,
         "12 Fastest Lap": 134.553,
         "12 Median Lap": 136.101,
         "12 Average Full Speed Lap": 136.667,
         "12 Fastest Lap % Deficit": -0.7502751757755537,
         "12 Median Lap % Deficit": 0,
         "12 Average Full Speed Lap % Deficit": -0.36277382447328016,
         "12 Fastest Lap Rank": 14,
         "12 Median Lap Rank": 1,
         "12 Average Full Speed Lap Rank": 5,
         "22 Fastest Lap": 134.936,
         "22 Median Lap": 137.682,
         "22 Average Full Speed Lap": 136.8,
         "22 Fastest Lap % Deficit": -1.0370570044402658,
         "22 Median Lap % Deficit": -1.161637313465727,
         "22 Average Full Speed Lap % Deficit": -0.4604437002930166,
         "22 Fastest Lap Rank": 21,
         "22 Median Lap Rank": 8,
         "22 Average Full Speed Lap Rank": 7,
         "_deepnote_index_column": 5
        },
        {
         "Race #": 7,
         "12 Fastest Lap": 22.913,
         "12 Median Lap": 24.532,
         "12 Average Full Speed Lap": 24.37,
         "12 Fastest Lap % Deficit": -0.04366240230538167,
         "12 Median Lap % Deficit": -0.38464686144529503,
         "12 Average Full Speed Lap % Deficit": -0.3458782837848951,
         "12 Fastest Lap Rank": 2,
         "12 Median Lap Rank": 8,
         "12 Average Full Speed Lap Rank": 8,
         "22 Fastest Lap": 23.02,
         "22 Median Lap": 24.603,
         "22 Average Full Speed Lap": 24.434,
         "22 Fastest Lap % Deficit": -0.5108501069728895,
         "22 Median Lap % Deficit": -0.6751780014731267,
         "22 Average Full Speed Lap % Deficit": -0.6094045952400546,
         "22 Fastest Lap Rank": 5,
         "22 Median Lap Rank": 15,
         "22 Average Full Speed Lap Rank": 14,
         "_deepnote_index_column": 6
        },
        {
         "Race #": 8,
         "12 Fastest Lap": 20.049,
         "12 Median Lap": 20.499,
         "12 Average Full Speed Lap": 20.515,
         "12 Fastest Lap % Deficit": -1.0941912061314982,
         "12 Median Lap % Deficit": -0.034159672067137895,
         "12 Average Full Speed Lap % Deficit": -0.26881720430107386,
         "12 Fastest Lap Rank": 15,
         "12 Median Lap Rank": 3,
         "12 Average Full Speed Lap Rank": 5,
         "22 Fastest Lap": 20.079,
         "22 Median Lap": 20.493,
         "22 Average Full Speed Lap": 20.493,
         "22 Fastest Lap % Deficit": -1.2454618797902373,
         "22 Median Lap % Deficit": -0.004879953152438363,
         "22 Average Full Speed Lap % Deficit": -0.16129032258063392,
         "22 Fastest Lap Rank": 19,
         "22 Median Lap Rank": 2,
         "22 Average Full Speed Lap Rank": 2,
         "_deepnote_index_column": 7
        },
        {
         "Race #": 9,
         "12 Fastest Lap": 19.651,
         "12 Median Lap": 20.527,
         "12 Average Full Speed Lap": 20.255,
         "12 Fastest Lap % Deficit": -2.024816987695346,
         "12 Median Lap % Deficit": -1.0385902736759307,
         "12 Average Full Speed Lap % Deficit": -0.8966376089663747,
         "12 Fastest Lap Rank": 13,
         "12 Median Lap Rank": 9,
         "12 Average Full Speed Lap Rank": 9,
         "22 Fastest Lap": 19.658,
         "22 Median Lap": 20.462,
         "22 Average Full Speed Lap": 20.219,
         "22 Fastest Lap % Deficit": -2.06115985670527,
         "22 Median Lap % Deficit": -0.7186454026383186,
         "22 Average Full Speed Lap % Deficit": -0.7173100871731104,
         "22 Fastest Lap Rank": 14,
         "22 Median Lap Rank": 6,
         "22 Average Full Speed Lap Rank": 7,
         "_deepnote_index_column": 8
        },
        {
         "Race #": 10,
         "12 Fastest Lap": 49.351,
         "12 Median Lap": 50.442,
         "12 Average Full Speed Lap": 50.433,
         "12 Fastest Lap % Deficit": -0.9057822851067265,
         "12 Median Lap % Deficit": -0.6143535325328118,
         "12 Average Full Speed Lap % Deficit": -0.60844238748803,
         "12 Fastest Lap Rank": 18,
         "12 Median Lap Rank": 19,
         "12 Average Full Speed Lap Rank": 20,
         "22 Fastest Lap": 49.436,
         "22 Median Lap": 50.318,
         "22 Average Full Speed Lap": 50.286,
         "22 Fastest Lap % Deficit": -1.0795779831520378,
         "22 Median Lap % Deficit": -0.36701639605855807,
         "22 Average Full Speed Lap % Deficit": -0.3151931056495397,
         "22 Fastest Lap Rank": 25,
         "22 Median Lap Rank": 4,
         "22 Average Full Speed Lap Rank": 6,
         "_deepnote_index_column": 9
        }
       ]
      },
      "text/plain": "    Race #  12 Fastest Lap  12 Median Lap  12 Average Full Speed Lap  \\\n0        1          46.141         47.081                     47.014   \n1        2          41.827         43.408                     43.078   \n2        3          29.684         30.934                     30.762   \n3        4          27.536         28.495                     28.389   \n4        5          29.713         30.277                     30.230   \n5        6         134.553        136.101                    136.667   \n6        7          22.913         24.532                     24.370   \n7        8          20.049         20.499                     20.515   \n8        9          19.651         20.527                     20.255   \n9       10          49.351         50.442                     50.433   \n10      11          23.091         24.238                     24.116   \n11      12          29.592         30.782                     30.681   \n12      13          30.680         31.806                     31.734   \n\n    12 Fastest Lap % Deficit  12 Median Lap % Deficit  \\\n0                  -0.597379                -0.042498   \n1                  -0.994809                -0.175390   \n2                  -0.189010                -0.363377   \n3                   0.000000                -0.207483   \n4                  -0.616302                -0.029734   \n5                  -0.750275                 0.000000   \n6                  -0.043662                -0.384647   \n7                  -1.094191                -0.034160   \n8                  -2.024817                -1.038590   \n9                  -0.905782                -0.614354   \n10                 -1.405296                -1.202505   \n11                 -2.178792                -0.486404   \n12                 -2.052357                -0.817801   \n\n    12 Average Full Speed Lap % Deficit  12 Fastest Lap Rank  \\\n0                             -0.119256                 17.0   \n1                             -0.263005                  7.0   \n2                             -0.153020                  2.0   \n3                             -0.084611                  1.0   \n4                             -0.056267                 16.0   \n5                             -0.362774                 14.0   \n6                             -0.345878                  2.0   \n7                             -0.268817                 15.0   \n8                             -0.896638                 13.0   \n9                             -0.608442                 18.0   \n10                            -1.022118                  7.0   \n11                            -0.758621                 15.0   \n12                            -0.951169                 12.0   \n\n    12 Median Lap Rank  12 Average Full Speed Lap Rank  22 Fastest Lap  \\\n0                  3.0                             9.0          45.907   \n1                  4.0                             4.0          41.701   \n2                  5.0                             5.0          29.826   \n3                  3.0                             2.0          27.775   \n4                  3.0                             7.0          29.599   \n5                  1.0                             5.0         134.936   \n6                  8.0                             8.0          23.020   \n7                  3.0                             5.0          20.079   \n8                  9.0                             9.0          19.658   \n9                 19.0                            20.0          49.436   \n10                17.0                            15.0          23.684   \n11                 7.0                            10.0          28.961   \n12                 8.0                             8.0          30.932   \n\n    22 Median Lap  22 Average Full Speed Lap  22 Fastest Lap % Deficit  \\\n0          47.094                     46.958                 -0.087209   \n1          43.490                     43.128                 -0.690571   \n2          31.173                     30.946                 -0.668287   \n3          28.627                     28.524                 -0.867955   \n4          30.323                     30.233                 -0.230266   \n5         137.682                    136.800                 -1.037057   \n6          24.603                     24.434                 -0.510850   \n7          20.493                     20.493                 -1.245462   \n8          20.462                     20.219                 -2.061160   \n9          50.318                     50.286                 -1.079578   \n10         24.608                     24.538                 -4.009486   \n11         30.678                     30.469                  0.000000   \n12         32.132                     32.054                 -2.890596   \n\n    22 Median Lap % Deficit  22 Average Full Speed Lap % Deficit  \\\n0                 -0.070122                             0.000000   \n1                 -0.364627                            -0.379379   \n2                 -1.138797                            -0.752076   \n3                 -0.671684                            -0.560550   \n4                 -0.181710                            -0.066197   \n5                 -1.161637                            -0.460444   \n6                 -0.675178                            -0.609405   \n7                 -0.004880                            -0.161290   \n8                 -0.718645                            -0.717310   \n9                 -0.367016                            -0.315193   \n10                -2.747390                            -2.789879   \n11                -0.146900                            -0.062397   \n12                -1.851147                            -1.969143   \n\n    22 Fastest Lap Rank  22 Median Lap Rank  22 Average Full Speed Lap Rank  \n0                   3.0                 8.0                             1.0  \n1                   5.0                 5.0                             5.0  \n2                  10.0                12.0                            10.0  \n3                   9.0                 9.0                             9.0  \n4                   4.0                13.0                             8.0  \n5                  21.0                 8.0                             7.0  \n6                   5.0                15.0                            14.0  \n7                  19.0                 2.0                             2.0  \n8                  14.0                 6.0                             7.0  \n9                  25.0                 4.0                             6.0  \n10                 27.0                32.0                            32.0  \n11                  1.0                 4.0                             2.0  \n12                 18.0                18.0                            18.0  ",
      "text/html": "<div>\n<style scoped>\n    .dataframe tbody tr th:only-of-type {\n        vertical-align: middle;\n    }\n\n    .dataframe tbody tr th {\n        vertical-align: top;\n    }\n\n    .dataframe thead th {\n        text-align: right;\n    }\n</style>\n<table border=\"1\" class=\"dataframe\">\n  <thead>\n    <tr style=\"text-align: right;\">\n      <th></th>\n      <th>Race #</th>\n      <th>12 Fastest Lap</th>\n      <th>12 Median Lap</th>\n      <th>12 Average Full Speed Lap</th>\n      <th>12 Fastest Lap % Deficit</th>\n      <th>12 Median Lap % Deficit</th>\n      <th>12 Average Full Speed Lap % Deficit</th>\n      <th>12 Fastest Lap Rank</th>\n      <th>12 Median Lap Rank</th>\n      <th>12 Average Full Speed Lap Rank</th>\n      <th>22 Fastest Lap</th>\n      <th>22 Median Lap</th>\n      <th>22 Average Full Speed Lap</th>\n      <th>22 Fastest Lap % Deficit</th>\n      <th>22 Median Lap % Deficit</th>\n      <th>22 Average Full Speed Lap % Deficit</th>\n      <th>22 Fastest Lap Rank</th>\n      <th>22 Median Lap Rank</th>\n      <th>22 Average Full Speed Lap Rank</th>\n    </tr>\n  </thead>\n  <tbody>\n    <tr>\n      <th>0</th>\n      <td>1</td>\n      <td>46.141</td>\n      <td>47.081</td>\n      <td>47.014</td>\n      <td>-0.597379</td>\n      <td>-0.042498</td>\n      <td>-0.119256</td>\n      <td>17.0</td>\n      <td>3.0</td>\n      <td>9.0</td>\n      <td>45.907</td>\n      <td>47.094</td>\n      <td>46.958</td>\n      <td>-0.087209</td>\n      <td>-0.070122</td>\n      <td>0.000000</td>\n      <td>3.0</td>\n      <td>8.0</td>\n      <td>1.0</td>\n    </tr>\n    <tr>\n      <th>1</th>\n      <td>2</td>\n      <td>41.827</td>\n      <td>43.408</td>\n      <td>43.078</td>\n      <td>-0.994809</td>\n      <td>-0.175390</td>\n      <td>-0.263005</td>\n      <td>7.0</td>\n      <td>4.0</td>\n      <td>4.0</td>\n      <td>41.701</td>\n      <td>43.490</td>\n      <td>43.128</td>\n      <td>-0.690571</td>\n      <td>-0.364627</td>\n      <td>-0.379379</td>\n      <td>5.0</td>\n      <td>5.0</td>\n      <td>5.0</td>\n    </tr>\n    <tr>\n      <th>2</th>\n      <td>3</td>\n      <td>29.684</td>\n      <td>30.934</td>\n      <td>30.762</td>\n      <td>-0.189010</td>\n      <td>-0.363377</td>\n      <td>-0.153020</td>\n      <td>2.0</td>\n      <td>5.0</td>\n      <td>5.0</td>\n      <td>29.826</td>\n      <td>31.173</td>\n      <td>30.946</td>\n      <td>-0.668287</td>\n      <td>-1.138797</td>\n      <td>-0.752076</td>\n      <td>10.0</td>\n      <td>12.0</td>\n      <td>10.0</td>\n    </tr>\n    <tr>\n      <th>3</th>\n      <td>4</td>\n      <td>27.536</td>\n      <td>28.495</td>\n      <td>28.389</td>\n      <td>0.000000</td>\n      <td>-0.207483</td>\n      <td>-0.084611</td>\n      <td>1.0</td>\n      <td>3.0</td>\n      <td>2.0</td>\n      <td>27.775</td>\n      <td>28.627</td>\n      <td>28.524</td>\n      <td>-0.867955</td>\n      <td>-0.671684</td>\n      <td>-0.560550</td>\n      <td>9.0</td>\n      <td>9.0</td>\n      <td>9.0</td>\n    </tr>\n    <tr>\n      <th>4</th>\n      <td>5</td>\n      <td>29.713</td>\n      <td>30.277</td>\n      <td>30.230</td>\n      <td>-0.616302</td>\n      <td>-0.029734</td>\n      <td>-0.056267</td>\n      <td>16.0</td>\n      <td>3.0</td>\n      <td>7.0</td>\n      <td>29.599</td>\n      <td>30.323</td>\n      <td>30.233</td>\n      <td>-0.230266</td>\n      <td>-0.181710</td>\n      <td>-0.066197</td>\n      <td>4.0</td>\n      <td>13.0</td>\n      <td>8.0</td>\n    </tr>\n    <tr>\n      <th>5</th>\n      <td>6</td>\n      <td>134.553</td>\n      <td>136.101</td>\n      <td>136.667</td>\n      <td>-0.750275</td>\n      <td>0.000000</td>\n      <td>-0.362774</td>\n      <td>14.0</td>\n      <td>1.0</td>\n      <td>5.0</td>\n      <td>134.936</td>\n      <td>137.682</td>\n      <td>136.800</td>\n      <td>-1.037057</td>\n      <td>-1.161637</td>\n      <td>-0.460444</td>\n      <td>21.0</td>\n      <td>8.0</td>\n      <td>7.0</td>\n    </tr>\n    <tr>\n      <th>6</th>\n      <td>7</td>\n      <td>22.913</td>\n      <td>24.532</td>\n      <td>24.370</td>\n      <td>-0.043662</td>\n      <td>-0.384647</td>\n      <td>-0.345878</td>\n      <td>2.0</td>\n      <td>8.0</td>\n      <td>8.0</td>\n      <td>23.020</td>\n      <td>24.603</td>\n      <td>24.434</td>\n      <td>-0.510850</td>\n      <td>-0.675178</td>\n      <td>-0.609405</td>\n      <td>5.0</td>\n      <td>15.0</td>\n      <td>14.0</td>\n    </tr>\n    <tr>\n      <th>7</th>\n      <td>8</td>\n      <td>20.049</td>\n      <td>20.499</td>\n      <td>20.515</td>\n      <td>-1.094191</td>\n      <td>-0.034160</td>\n      <td>-0.268817</td>\n      <td>15.0</td>\n      <td>3.0</td>\n      <td>5.0</td>\n      <td>20.079</td>\n      <td>20.493</td>\n      <td>20.493</td>\n      <td>-1.245462</td>\n      <td>-0.004880</td>\n      <td>-0.161290</td>\n      <td>19.0</td>\n      <td>2.0</td>\n      <td>2.0</td>\n    </tr>\n    <tr>\n      <th>8</th>\n      <td>9</td>\n      <td>19.651</td>\n      <td>20.527</td>\n      <td>20.255</td>\n      <td>-2.024817</td>\n      <td>-1.038590</td>\n      <td>-0.896638</td>\n      <td>13.0</td>\n      <td>9.0</td>\n      <td>9.0</td>\n      <td>19.658</td>\n      <td>20.462</td>\n      <td>20.219</td>\n      <td>-2.061160</td>\n      <td>-0.718645</td>\n      <td>-0.717310</td>\n      <td>14.0</td>\n      <td>6.0</td>\n      <td>7.0</td>\n    </tr>\n    <tr>\n      <th>9</th>\n      <td>10</td>\n      <td>49.351</td>\n      <td>50.442</td>\n      <td>50.433</td>\n      <td>-0.905782</td>\n      <td>-0.614354</td>\n      <td>-0.608442</td>\n      <td>18.0</td>\n      <td>19.0</td>\n      <td>20.0</td>\n      <td>49.436</td>\n      <td>50.318</td>\n      <td>50.286</td>\n      <td>-1.079578</td>\n      <td>-0.367016</td>\n      <td>-0.315193</td>\n      <td>25.0</td>\n      <td>4.0</td>\n      <td>6.0</td>\n    </tr>\n    <tr>\n      <th>10</th>\n      <td>11</td>\n      <td>23.091</td>\n      <td>24.238</td>\n      <td>24.116</td>\n      <td>-1.405296</td>\n      <td>-1.202505</td>\n      <td>-1.022118</td>\n      <td>7.0</td>\n      <td>17.0</td>\n      <td>15.0</td>\n      <td>23.684</td>\n      <td>24.608</td>\n      <td>24.538</td>\n      <td>-4.009486</td>\n      <td>-2.747390</td>\n      <td>-2.789879</td>\n      <td>27.0</td>\n      <td>32.0</td>\n      <td>32.0</td>\n    </tr>\n    <tr>\n      <th>11</th>\n      <td>12</td>\n      <td>29.592</td>\n      <td>30.782</td>\n      <td>30.681</td>\n      <td>-2.178792</td>\n      <td>-0.486404</td>\n      <td>-0.758621</td>\n      <td>15.0</td>\n      <td>7.0</td>\n      <td>10.0</td>\n      <td>28.961</td>\n      <td>30.678</td>\n      <td>30.469</td>\n      <td>0.000000</td>\n      <td>-0.146900</td>\n      <td>-0.062397</td>\n      <td>1.0</td>\n      <td>4.0</td>\n      <td>2.0</td>\n    </tr>\n    <tr>\n      <th>12</th>\n      <td>13</td>\n      <td>30.680</td>\n      <td>31.806</td>\n      <td>31.734</td>\n      <td>-2.052357</td>\n      <td>-0.817801</td>\n      <td>-0.951169</td>\n      <td>12.0</td>\n      <td>8.0</td>\n      <td>8.0</td>\n      <td>30.932</td>\n      <td>32.132</td>\n      <td>32.054</td>\n      <td>-2.890596</td>\n      <td>-1.851147</td>\n      <td>-1.969143</td>\n      <td>18.0</td>\n      <td>18.0</td>\n      <td>18.0</td>\n    </tr>\n  </tbody>\n</table>\n</div>"
     },
     "metadata": {}
    }
   ]
  },
  {
   "cell_type": "code",
   "metadata": {
    "tags": [],
    "deepnote_to_be_reexecuted": false,
    "source_hash": "dcd29909",
    "execution_start": 1653250071267,
    "execution_millis": 66,
    "cell_id": "00009-3764ba3a-5c41-4311-9dba-cdfe2ebf7891",
    "deepnote_cell_type": "code",
    "deepnote_cell_height": 1303.703125
   },
   "source": "fig = make_subplots(rows=1, cols=2, x_title = \"Joey Logano's (#22) % Deficit\",\n                    y_title = \"Ryan Blaney's (#12) % Deficit\")\n\nfig.add_trace(\n    go.Scatter(x=penskelaps_21[\"22 Fastest Lap % Deficit\"], y=penskelaps_21[\"12 Fastest Lap % Deficit\"],\n    mode = \"markers\", marker = dict(color = \"#007DC8\", size = 10), showlegend = False),\n    row=1, col=1\n)\n\nfig.add_shape(type = \"line\", x0 = -3.5, x1 = 0, y0 = -3.5, y1 = 0,\n              line = dict(color = \"black\", dash = \"dash\"), row = 1, col = 1)\n\nfig.add_trace(\n    go.Scatter(x=penskelaps_22[\"22 Fastest Lap % Deficit\"], y=penskelaps_22[\"12 Fastest Lap % Deficit\"],\n    mode = \"markers\", marker = dict(color = \"#FF0F27\", size = 10), showlegend = False),\n    row=1, col=2\n)\n\nfig.add_shape(type = \"line\", x0 = -3.5, x1 = 0, y0 = -3.5, y1 = 0,\n              line = dict(color = \"black\", dash = \"dash\"), row = 1, col = 2)\n\nfig.add_shape(type = \"circle\", x0 = -4.2, x1 = -3.8, y0 = -1.6, y1 = -1.2,\n              line=dict(color = \"black\"), row = 1, col = 2)\n\nfig.add_trace(go.Scatter(x=[-2.75], y=[-1.4], text=[\"<b>Anti-Logano outlier</b>\"], mode=\"text\", showlegend=False),\n            row = 1, col = 2)\n\nfig.add_shape(type = \"circle\", x0 = -1.3, x1 = -0.1, y0 = -3.7, y1 = -3.1,\n              line=dict(color = \"black\"), row = 1, col = 1)\n\nfig.add_trace(go.Scatter(x=[-0.7], y=[-3], text=[\"<b>Anti-Blaney outliers</b>\"], mode=\"text\", showlegend=False),\n            row = 1, col = 1)\n\nfig.update_layout(height=480, width=870, title_text=\"<b>Disparity in Penske Fastest Lap Deficits<br>2021 vs. 2022</b>\",\n                title_x = 0.5,\n                #font_family = \"Century Gothic, bold\",\n                font_color = \"black\")\n\nfig['layout']['title']['font'] = dict(size=24)\n\nfig.show()",
   "execution_count": null,
   "outputs": [
    {
     "data": {
      "text/html": "<html>\n<head><meta charset=\"utf-8\" /></head>\n<body>\n    <div>            <script src=\"https://cdnjs.cloudflare.com/ajax/libs/mathjax/2.7.5/MathJax.js?config=TeX-AMS-MML_SVG\"></script><script type=\"text/javascript\">if (window.MathJax) {MathJax.Hub.Config({SVG: {font: \"STIX-Web\"}});}</script>                <script type=\"text/javascript\">window.PlotlyConfig = {MathJaxConfig: 'local'};</script>\n        <script src=\"https://cdn.plot.ly/plotly-2.11.1.min.js\"></script>                <div id=\"10095d25-38d0-4657-bc7c-9d5e91f04f32\" class=\"plotly-graph-div\" style=\"height:480px; width:870px;\"></div>            <script type=\"text/javascript\">                                    window.PLOTLYENV=window.PLOTLYENV || {};                                    if (document.getElementById(\"10095d25-38d0-4657-bc7c-9d5e91f04f32\")) {                    Plotly.newPlot(                        \"10095d25-38d0-4657-bc7c-9d5e91f04f32\",                        [{\"marker\":{\"color\":\"#007DC8\",\"size\":10},\"mode\":\"markers\",\"showlegend\":false,\"x\":[-1.3527644899321325,-0.5861147851344669,-0.3390143927019429,-1.1870026525198956,-0.24463471589014604,-0.8311052411171572,-1.7686794204094258,-1.174934725848555,-1.1271133375078222,-2.1704146021259447,-1.23878959932899,-1.0925253621959174,-1.828768600388195,-0.06245975531228589,-1.141284280487395,-1.8653527075267777,-1.0343021733438038,-0.08855393311351303,-1.4911850201970613,-1.9403952298306826,-0.8098332319708079,-0.5759828544638692,-1.274902592485512,-0.8893718949609568,-0.767038092770146,-1.4019597286529475,-1.151485899469074,-0.4611735769501073,-1.3548221394632098,-0.4212466267359972,-1.6530774079420965,-1.2314296334488435,-0.888289782939311,-0.4223553678420631,-1.296473793068647,-1.8229943334327363],\"y\":[-1.7732784514406432,-2.088574219594212,-3.337750793601869,-0.5537135278514641,-0.28911375514288673,-0.32857649067422706,-1.3819419378126163,-0.8284796143803934,-1.4044189999105468,-1.7215093380764883,-1.1032969869023768,-2.527737251043331,-1.2335561785637323,-1.4269156471345652,-0.7619750931489386,-1.6964151038262476,-3.5120450379680554,-0.3184173339613696,-0.3510891313375362,-1.9739145332250827,-1.0178931532281341,-0.040184850311434116,-1.2983079316564066,-1.2908090844570632,-0.8266390256543028,-1.386884892860985,-0.10342687719782505,-0.8169360505973293,-0.6870425067420015,-0.6252879615612496,-1.299282243142683,-0.9172771855777653,-0.17627540439652264,-0.9462069868709736,-1.1552237300105896,-0.9208171786459882],\"type\":\"scatter\",\"xaxis\":\"x\",\"yaxis\":\"y\"},{\"marker\":{\"color\":\"#FF0F27\",\"size\":10},\"mode\":\"markers\",\"showlegend\":false,\"x\":[-0.08720866854165119,-0.6905710491367895,-0.6682867557715688,-0.8679546775130637,-0.23026649961058343,-1.0370570044402658,-0.5108501069728895,-1.2454618797902373,-2.06115985670527,-1.0795779831520378,-4.009485749418121,0.0,-2.8905964141968528],\"y\":[-0.5973793795103253,-0.9948086442110324,-0.1890103955717596,0.0,-0.6163015136636151,-0.7502751757755537,-0.04366240230538167,-1.0941912061314982,-2.024816987695346,-0.9057822851067265,-1.4052962100917845,-2.1787921687787035,-2.0523567175597943],\"type\":\"scatter\",\"xaxis\":\"x2\",\"yaxis\":\"y2\"},{\"mode\":\"text\",\"showlegend\":false,\"text\":[\"<b>Anti-Logano outlier</b>\"],\"x\":[-2.75],\"y\":[-1.4],\"type\":\"scatter\",\"xaxis\":\"x2\",\"yaxis\":\"y2\"},{\"mode\":\"text\",\"showlegend\":false,\"text\":[\"<b>Anti-Blaney outliers</b>\"],\"x\":[-0.7],\"y\":[-3],\"type\":\"scatter\",\"xaxis\":\"x\",\"yaxis\":\"y\"}],                        {\"template\":{\"data\":{\"histogram2dcontour\":[{\"type\":\"histogram2dcontour\",\"colorbar\":{\"outlinewidth\":0,\"ticks\":\"\"},\"colorscale\":[[0.0,\"#0d0887\"],[0.1111111111111111,\"#46039f\"],[0.2222222222222222,\"#7201a8\"],[0.3333333333333333,\"#9c179e\"],[0.4444444444444444,\"#bd3786\"],[0.5555555555555556,\"#d8576b\"],[0.6666666666666666,\"#ed7953\"],[0.7777777777777778,\"#fb9f3a\"],[0.8888888888888888,\"#fdca26\"],[1.0,\"#f0f921\"]]}],\"choropleth\":[{\"type\":\"choropleth\",\"colorbar\":{\"outlinewidth\":0,\"ticks\":\"\"}}],\"histogram2d\":[{\"type\":\"histogram2d\",\"colorbar\":{\"outlinewidth\":0,\"ticks\":\"\"},\"colorscale\":[[0.0,\"#0d0887\"],[0.1111111111111111,\"#46039f\"],[0.2222222222222222,\"#7201a8\"],[0.3333333333333333,\"#9c179e\"],[0.4444444444444444,\"#bd3786\"],[0.5555555555555556,\"#d8576b\"],[0.6666666666666666,\"#ed7953\"],[0.7777777777777778,\"#fb9f3a\"],[0.8888888888888888,\"#fdca26\"],[1.0,\"#f0f921\"]]}],\"heatmap\":[{\"type\":\"heatmap\",\"colorbar\":{\"outlinewidth\":0,\"ticks\":\"\"},\"colorscale\":[[0.0,\"#0d0887\"],[0.1111111111111111,\"#46039f\"],[0.2222222222222222,\"#7201a8\"],[0.3333333333333333,\"#9c179e\"],[0.4444444444444444,\"#bd3786\"],[0.5555555555555556,\"#d8576b\"],[0.6666666666666666,\"#ed7953\"],[0.7777777777777778,\"#fb9f3a\"],[0.8888888888888888,\"#fdca26\"],[1.0,\"#f0f921\"]]}],\"heatmapgl\":[{\"type\":\"heatmapgl\",\"colorbar\":{\"outlinewidth\":0,\"ticks\":\"\"},\"colorscale\":[[0.0,\"#0d0887\"],[0.1111111111111111,\"#46039f\"],[0.2222222222222222,\"#7201a8\"],[0.3333333333333333,\"#9c179e\"],[0.4444444444444444,\"#bd3786\"],[0.5555555555555556,\"#d8576b\"],[0.6666666666666666,\"#ed7953\"],[0.7777777777777778,\"#fb9f3a\"],[0.8888888888888888,\"#fdca26\"],[1.0,\"#f0f921\"]]}],\"contourcarpet\":[{\"type\":\"contourcarpet\",\"colorbar\":{\"outlinewidth\":0,\"ticks\":\"\"}}],\"contour\":[{\"type\":\"contour\",\"colorbar\":{\"outlinewidth\":0,\"ticks\":\"\"},\"colorscale\":[[0.0,\"#0d0887\"],[0.1111111111111111,\"#46039f\"],[0.2222222222222222,\"#7201a8\"],[0.3333333333333333,\"#9c179e\"],[0.4444444444444444,\"#bd3786\"],[0.5555555555555556,\"#d8576b\"],[0.6666666666666666,\"#ed7953\"],[0.7777777777777778,\"#fb9f3a\"],[0.8888888888888888,\"#fdca26\"],[1.0,\"#f0f921\"]]}],\"surface\":[{\"type\":\"surface\",\"colorbar\":{\"outlinewidth\":0,\"ticks\":\"\"},\"colorscale\":[[0.0,\"#0d0887\"],[0.1111111111111111,\"#46039f\"],[0.2222222222222222,\"#7201a8\"],[0.3333333333333333,\"#9c179e\"],[0.4444444444444444,\"#bd3786\"],[0.5555555555555556,\"#d8576b\"],[0.6666666666666666,\"#ed7953\"],[0.7777777777777778,\"#fb9f3a\"],[0.8888888888888888,\"#fdca26\"],[1.0,\"#f0f921\"]]}],\"mesh3d\":[{\"type\":\"mesh3d\",\"colorbar\":{\"outlinewidth\":0,\"ticks\":\"\"}}],\"scatter\":[{\"fillpattern\":{\"fillmode\":\"overlay\",\"size\":10,\"solidity\":0.2},\"type\":\"scatter\"}],\"parcoords\":[{\"type\":\"parcoords\",\"line\":{\"colorbar\":{\"outlinewidth\":0,\"ticks\":\"\"}}}],\"scatterpolargl\":[{\"type\":\"scatterpolargl\",\"marker\":{\"colorbar\":{\"outlinewidth\":0,\"ticks\":\"\"}}}],\"bar\":[{\"error_x\":{\"color\":\"#2a3f5f\"},\"error_y\":{\"color\":\"#2a3f5f\"},\"marker\":{\"line\":{\"color\":\"#E5ECF6\",\"width\":0.5},\"pattern\":{\"fillmode\":\"overlay\",\"size\":10,\"solidity\":0.2}},\"type\":\"bar\"}],\"scattergeo\":[{\"type\":\"scattergeo\",\"marker\":{\"colorbar\":{\"outlinewidth\":0,\"ticks\":\"\"}}}],\"scatterpolar\":[{\"type\":\"scatterpolar\",\"marker\":{\"colorbar\":{\"outlinewidth\":0,\"ticks\":\"\"}}}],\"histogram\":[{\"marker\":{\"pattern\":{\"fillmode\":\"overlay\",\"size\":10,\"solidity\":0.2}},\"type\":\"histogram\"}],\"scattergl\":[{\"type\":\"scattergl\",\"marker\":{\"colorbar\":{\"outlinewidth\":0,\"ticks\":\"\"}}}],\"scatter3d\":[{\"type\":\"scatter3d\",\"line\":{\"colorbar\":{\"outlinewidth\":0,\"ticks\":\"\"}},\"marker\":{\"colorbar\":{\"outlinewidth\":0,\"ticks\":\"\"}}}],\"scattermapbox\":[{\"type\":\"scattermapbox\",\"marker\":{\"colorbar\":{\"outlinewidth\":0,\"ticks\":\"\"}}}],\"scatterternary\":[{\"type\":\"scatterternary\",\"marker\":{\"colorbar\":{\"outlinewidth\":0,\"ticks\":\"\"}}}],\"scattercarpet\":[{\"type\":\"scattercarpet\",\"marker\":{\"colorbar\":{\"outlinewidth\":0,\"ticks\":\"\"}}}],\"carpet\":[{\"aaxis\":{\"endlinecolor\":\"#2a3f5f\",\"gridcolor\":\"white\",\"linecolor\":\"white\",\"minorgridcolor\":\"white\",\"startlinecolor\":\"#2a3f5f\"},\"baxis\":{\"endlinecolor\":\"#2a3f5f\",\"gridcolor\":\"white\",\"linecolor\":\"white\",\"minorgridcolor\":\"white\",\"startlinecolor\":\"#2a3f5f\"},\"type\":\"carpet\"}],\"table\":[{\"cells\":{\"fill\":{\"color\":\"#EBF0F8\"},\"line\":{\"color\":\"white\"}},\"header\":{\"fill\":{\"color\":\"#C8D4E3\"},\"line\":{\"color\":\"white\"}},\"type\":\"table\"}],\"barpolar\":[{\"marker\":{\"line\":{\"color\":\"#E5ECF6\",\"width\":0.5},\"pattern\":{\"fillmode\":\"overlay\",\"size\":10,\"solidity\":0.2}},\"type\":\"barpolar\"}],\"pie\":[{\"automargin\":true,\"type\":\"pie\"}]},\"layout\":{\"autotypenumbers\":\"strict\",\"colorway\":[\"#636efa\",\"#EF553B\",\"#00cc96\",\"#ab63fa\",\"#FFA15A\",\"#19d3f3\",\"#FF6692\",\"#B6E880\",\"#FF97FF\",\"#FECB52\"],\"font\":{\"color\":\"#2a3f5f\"},\"hovermode\":\"closest\",\"hoverlabel\":{\"align\":\"left\"},\"paper_bgcolor\":\"white\",\"plot_bgcolor\":\"#E5ECF6\",\"polar\":{\"bgcolor\":\"#E5ECF6\",\"angularaxis\":{\"gridcolor\":\"white\",\"linecolor\":\"white\",\"ticks\":\"\"},\"radialaxis\":{\"gridcolor\":\"white\",\"linecolor\":\"white\",\"ticks\":\"\"}},\"ternary\":{\"bgcolor\":\"#E5ECF6\",\"aaxis\":{\"gridcolor\":\"white\",\"linecolor\":\"white\",\"ticks\":\"\"},\"baxis\":{\"gridcolor\":\"white\",\"linecolor\":\"white\",\"ticks\":\"\"},\"caxis\":{\"gridcolor\":\"white\",\"linecolor\":\"white\",\"ticks\":\"\"}},\"coloraxis\":{\"colorbar\":{\"outlinewidth\":0,\"ticks\":\"\"}},\"colorscale\":{\"sequential\":[[0.0,\"#0d0887\"],[0.1111111111111111,\"#46039f\"],[0.2222222222222222,\"#7201a8\"],[0.3333333333333333,\"#9c179e\"],[0.4444444444444444,\"#bd3786\"],[0.5555555555555556,\"#d8576b\"],[0.6666666666666666,\"#ed7953\"],[0.7777777777777778,\"#fb9f3a\"],[0.8888888888888888,\"#fdca26\"],[1.0,\"#f0f921\"]],\"sequentialminus\":[[0.0,\"#0d0887\"],[0.1111111111111111,\"#46039f\"],[0.2222222222222222,\"#7201a8\"],[0.3333333333333333,\"#9c179e\"],[0.4444444444444444,\"#bd3786\"],[0.5555555555555556,\"#d8576b\"],[0.6666666666666666,\"#ed7953\"],[0.7777777777777778,\"#fb9f3a\"],[0.8888888888888888,\"#fdca26\"],[1.0,\"#f0f921\"]],\"diverging\":[[0,\"#8e0152\"],[0.1,\"#c51b7d\"],[0.2,\"#de77ae\"],[0.3,\"#f1b6da\"],[0.4,\"#fde0ef\"],[0.5,\"#f7f7f7\"],[0.6,\"#e6f5d0\"],[0.7,\"#b8e186\"],[0.8,\"#7fbc41\"],[0.9,\"#4d9221\"],[1,\"#276419\"]]},\"xaxis\":{\"gridcolor\":\"white\",\"linecolor\":\"white\",\"ticks\":\"\",\"title\":{\"standoff\":15},\"zerolinecolor\":\"white\",\"automargin\":true,\"zerolinewidth\":2},\"yaxis\":{\"gridcolor\":\"white\",\"linecolor\":\"white\",\"ticks\":\"\",\"title\":{\"standoff\":15},\"zerolinecolor\":\"white\",\"automargin\":true,\"zerolinewidth\":2},\"scene\":{\"xaxis\":{\"backgroundcolor\":\"#E5ECF6\",\"gridcolor\":\"white\",\"linecolor\":\"white\",\"showbackground\":true,\"ticks\":\"\",\"zerolinecolor\":\"white\",\"gridwidth\":2},\"yaxis\":{\"backgroundcolor\":\"#E5ECF6\",\"gridcolor\":\"white\",\"linecolor\":\"white\",\"showbackground\":true,\"ticks\":\"\",\"zerolinecolor\":\"white\",\"gridwidth\":2},\"zaxis\":{\"backgroundcolor\":\"#E5ECF6\",\"gridcolor\":\"white\",\"linecolor\":\"white\",\"showbackground\":true,\"ticks\":\"\",\"zerolinecolor\":\"white\",\"gridwidth\":2}},\"shapedefaults\":{\"line\":{\"color\":\"#2a3f5f\"}},\"annotationdefaults\":{\"arrowcolor\":\"#2a3f5f\",\"arrowhead\":0,\"arrowwidth\":1},\"geo\":{\"bgcolor\":\"white\",\"landcolor\":\"#E5ECF6\",\"subunitcolor\":\"white\",\"showland\":true,\"showlakes\":true,\"lakecolor\":\"white\"},\"title\":{\"x\":0.05},\"mapbox\":{\"style\":\"light\"}}},\"xaxis\":{\"anchor\":\"y\",\"domain\":[0.0,0.45]},\"yaxis\":{\"anchor\":\"x\",\"domain\":[0.0,1.0]},\"xaxis2\":{\"anchor\":\"y2\",\"domain\":[0.55,1.0]},\"yaxis2\":{\"anchor\":\"x2\",\"domain\":[0.0,1.0]},\"annotations\":[{\"font\":{\"size\":16},\"showarrow\":false,\"text\":\"Joey Logano's (#22) % Deficit\",\"x\":0.5,\"xanchor\":\"center\",\"xref\":\"paper\",\"y\":0,\"yanchor\":\"top\",\"yref\":\"paper\",\"yshift\":-30},{\"font\":{\"size\":16},\"showarrow\":false,\"text\":\"Ryan Blaney's (#12) % Deficit\",\"textangle\":-90,\"x\":0,\"xanchor\":\"right\",\"xref\":\"paper\",\"xshift\":-40,\"y\":0.5,\"yanchor\":\"middle\",\"yref\":\"paper\"}],\"shapes\":[{\"line\":{\"color\":\"black\",\"dash\":\"dash\"},\"type\":\"line\",\"x0\":-3.5,\"x1\":0,\"xref\":\"x\",\"y0\":-3.5,\"y1\":0,\"yref\":\"y\"},{\"line\":{\"color\":\"black\",\"dash\":\"dash\"},\"type\":\"line\",\"x0\":-3.5,\"x1\":0,\"xref\":\"x2\",\"y0\":-3.5,\"y1\":0,\"yref\":\"y2\"},{\"line\":{\"color\":\"black\"},\"type\":\"circle\",\"x0\":-4.2,\"x1\":-3.8,\"xref\":\"x2\",\"y0\":-1.6,\"y1\":-1.2,\"yref\":\"y2\"},{\"line\":{\"color\":\"black\"},\"type\":\"circle\",\"x0\":-1.3,\"x1\":-0.1,\"xref\":\"x\",\"y0\":-3.7,\"y1\":-3.1,\"yref\":\"y\"}],\"title\":{\"text\":\"<b>Disparity in Penske Fastest Lap Deficits<br>2021 vs. 2022</b>\",\"x\":0.5,\"font\":{\"size\":24}},\"font\":{\"color\":\"black\"},\"height\":480,\"width\":870},                        {\"responsive\": true}                    ).then(function(){\n                            \nvar gd = document.getElementById('10095d25-38d0-4657-bc7c-9d5e91f04f32');\nvar x = new MutationObserver(function (mutations, observer) {{\n        var display = window.getComputedStyle(gd).display;\n        if (!display || display === 'none') {{\n            console.log([gd, 'removed!']);\n            Plotly.purge(gd);\n            observer.disconnect();\n        }}\n}});\n\n// Listen for the removal of the full notebook cells\nvar notebookContainer = gd.closest('#notebook-container');\nif (notebookContainer) {{\n    x.observe(notebookContainer, {childList: true});\n}}\n\n// Listen for the clearing of the current output cell\nvar outputEl = gd.closest('.output');\nif (outputEl) {{\n    x.observe(outputEl, {childList: true});\n}}\n\n                        })                };                            </script>        </div>\n</body>\n</html>"
     },
     "metadata": {},
     "output_type": "display_data"
    }
   ]
  },
  {
   "cell_type": "code",
   "metadata": {
    "tags": [],
    "deepnote_to_be_reexecuted": false,
    "source_hash": "ee1e5412",
    "execution_start": 1653250474062,
    "execution_millis": 152,
    "cell_id": "00010-abbb147e-317b-4a35-848d-95ff0777c652",
    "deepnote_cell_type": "code",
    "deepnote_cell_height": 1249.703125
   },
   "source": "fig = make_subplots(rows=1, cols=2, x_title = \"Joey Logano's (#22) % Deficit\",\n                    y_title = \"Ryan Blaney's (#12) % Deficit\")\n\nfig.add_trace(\n    go.Scatter(x=penskelaps_21[\"22 Average Full Speed Lap % Deficit\"], y=penskelaps_21[\"12 Average Full Speed Lap % Deficit\"],\n    mode = \"markers\", marker = dict(color = \"#007DC8\", size = 10), showlegend = False),\n    row=1, col=1\n)\n\nfig.add_shape(type = \"line\", x0 = -3.5, x1 = 0, y0 = -3.5, y1 = 0,\n              line = dict(color = \"black\", dash = \"dash\"), row = 1, col = 1)\n\nfig.add_trace(\n    go.Scatter(x=penskelaps_22[\"22 Average Full Speed Lap % Deficit\"], y=penskelaps_22[\"12 Average Full Speed Lap % Deficit\"],\n    mode = \"markers\", marker = dict(color = \"#FF0F27\", size = 10), showlegend = False),\n    row=1, col=2\n)\n\nfig.add_shape(type = \"line\", x0 = -3.5, x1 = 0, y0 = -3.5, y1 = 0,\n              line = dict(color = \"black\", dash = \"dash\"), row = 1, col = 2)\n\nfig.add_shape(type = \"circle\", x0 = -2.9, x1 = -1.8, y0 = -1.2, y1 = -0.8,\n              line=dict(color = \"black\"), row = 1, col = 2)\n\nfig.add_trace(go.Scatter(x=[-2.35], y=[-0.6], text=[\"<b>2022-Only<br>Outliers</b>\"], mode=\"text\", showlegend=False),\n            row = 1, col = 2)\n\nfig.update_layout(height=480, width=870,\n                title_text=\"<b>Disparity in Penske Average Full Speed Lap Deficits<br>2021 vs. 2022</b>\",\n                title_x = 0.5,\n                #font_family = \"Century Gothic, bold\",\n                font_color = \"black\",\n                paper_bgcolor='rgba(0,0,0,0)')\n\nfig['layout']['title']['font'] = dict(size=24)\nfig.write_image(\"Deficit Plot for Slides 2.png\")\n\nfig.show()",
   "execution_count": null,
   "outputs": [
    {
     "data": {
      "text/html": "<html>\n<head><meta charset=\"utf-8\" /></head>\n<body>\n    <div>            <script src=\"https://cdnjs.cloudflare.com/ajax/libs/mathjax/2.7.5/MathJax.js?config=TeX-AMS-MML_SVG\"></script><script type=\"text/javascript\">if (window.MathJax) {MathJax.Hub.Config({SVG: {font: \"STIX-Web\"}});}</script>                <script type=\"text/javascript\">window.PlotlyConfig = {MathJaxConfig: 'local'};</script>\n        <script src=\"https://cdn.plot.ly/plotly-2.11.1.min.js\"></script>                <div id=\"a340fdb3-d967-4f58-9cd5-6e82fc6cadb2\" class=\"plotly-graph-div\" style=\"height:480px; width:870px;\"></div>            <script type=\"text/javascript\">                                    window.PLOTLYENV=window.PLOTLYENV || {};                                    if (document.getElementById(\"a340fdb3-d967-4f58-9cd5-6e82fc6cadb2\")) {                    Plotly.newPlot(                        \"a340fdb3-d967-4f58-9cd5-6e82fc6cadb2\",                        [{\"marker\":{\"color\":\"#007DC8\",\"size\":10},\"mode\":\"markers\",\"showlegend\":false,\"x\":[-0.8240859839979073,-0.5945795292348957,-0.5146293512200685,-0.8901116685547892,0.0,-1.136084500122834,-2.2519009553519367,-0.645438898450937,-0.7453312117912958,-0.2571428571428524,-1.4598768326612344,-0.9476102354667877,-1.0338578136584613,-0.584456115352844,-1.0268018239674535,-1.5398817590792255,-1.3816163018106076,-0.23738432150739067,-0.63428845373751,-1.722910126729436,-0.927389929457552,-0.9595860352394144,-0.8650054984845587,-0.9708632664781293,-0.29472293503391767,-0.17336814621409588,-0.8028603933040789,-1.82891102368796,-0.9282752645584637,-0.8934511928523906,-0.20096146268420828,-0.8148182687151726,-0.9416260107127009,-0.8972576772399814,-0.9600077186550322,-1.4887540164226991],\"y\":[-1.3909176132028127,-1.8411695649603408,-1.2721174973979348,-0.2071532610454768,-0.3025173767421746,-0.2579218865143797,-2.768570871514922,-0.1625549818320851,-1.51159869357674,-0.79591836734694,-0.49391978492606115,-1.94307957373493,-0.9308839278359118,-1.6386207592255102,-0.9775940688252412,-1.7372773162060824,-1.8768531953819798,-0.5804788486860452,-0.09219308920602787,-2.4452098593186697,-0.6567745074191228,-0.4814305364511758,-1.1667516026070923,-1.464963321739323,-0.3811072435783393,-0.33002610966057705,-0.6305867056720269,-2.272537038587105,-0.2970480846587154,-0.20593733168583875,-0.12018283552683415,-0.7250600331056348,-0.6141039200300219,-0.8814608871477312,-1.2446331226783691,-0.842556229917876],\"type\":\"scatter\",\"xaxis\":\"x\",\"yaxis\":\"y\"},{\"marker\":{\"color\":\"#FF0F27\",\"size\":10},\"mode\":\"markers\",\"showlegend\":false,\"x\":[0.0,-0.37937856394739133,-0.7520755331271419,-0.5605499735589723,-0.06619667030748212,-0.4604437002930166,-0.6094045952400546,-0.16129032258063392,-0.7173100871731104,-0.3151931056495397,-2.789879356568366,-0.06239737274220658,-1.9691426753618686],\"y\":[-0.11925550491929914,-0.26300477132549643,-0.15301969721634576,-0.08461131676362034,-0.05626716976135922,-0.36277382447328016,-0.3458782837848951,-0.26881720430107386,-0.8966376089663747,-0.60844238748803,-1.0221179624664871,-0.7586206896551779,-0.9511690790520219],\"type\":\"scatter\",\"xaxis\":\"x2\",\"yaxis\":\"y2\"},{\"mode\":\"text\",\"showlegend\":false,\"text\":[\"<b>2022-Only<br>Outliers</b>\"],\"x\":[-2.35],\"y\":[-0.6],\"type\":\"scatter\",\"xaxis\":\"x2\",\"yaxis\":\"y2\"}],                        {\"template\":{\"data\":{\"histogram2dcontour\":[{\"type\":\"histogram2dcontour\",\"colorbar\":{\"outlinewidth\":0,\"ticks\":\"\"},\"colorscale\":[[0.0,\"#0d0887\"],[0.1111111111111111,\"#46039f\"],[0.2222222222222222,\"#7201a8\"],[0.3333333333333333,\"#9c179e\"],[0.4444444444444444,\"#bd3786\"],[0.5555555555555556,\"#d8576b\"],[0.6666666666666666,\"#ed7953\"],[0.7777777777777778,\"#fb9f3a\"],[0.8888888888888888,\"#fdca26\"],[1.0,\"#f0f921\"]]}],\"choropleth\":[{\"type\":\"choropleth\",\"colorbar\":{\"outlinewidth\":0,\"ticks\":\"\"}}],\"histogram2d\":[{\"type\":\"histogram2d\",\"colorbar\":{\"outlinewidth\":0,\"ticks\":\"\"},\"colorscale\":[[0.0,\"#0d0887\"],[0.1111111111111111,\"#46039f\"],[0.2222222222222222,\"#7201a8\"],[0.3333333333333333,\"#9c179e\"],[0.4444444444444444,\"#bd3786\"],[0.5555555555555556,\"#d8576b\"],[0.6666666666666666,\"#ed7953\"],[0.7777777777777778,\"#fb9f3a\"],[0.8888888888888888,\"#fdca26\"],[1.0,\"#f0f921\"]]}],\"heatmap\":[{\"type\":\"heatmap\",\"colorbar\":{\"outlinewidth\":0,\"ticks\":\"\"},\"colorscale\":[[0.0,\"#0d0887\"],[0.1111111111111111,\"#46039f\"],[0.2222222222222222,\"#7201a8\"],[0.3333333333333333,\"#9c179e\"],[0.4444444444444444,\"#bd3786\"],[0.5555555555555556,\"#d8576b\"],[0.6666666666666666,\"#ed7953\"],[0.7777777777777778,\"#fb9f3a\"],[0.8888888888888888,\"#fdca26\"],[1.0,\"#f0f921\"]]}],\"heatmapgl\":[{\"type\":\"heatmapgl\",\"colorbar\":{\"outlinewidth\":0,\"ticks\":\"\"},\"colorscale\":[[0.0,\"#0d0887\"],[0.1111111111111111,\"#46039f\"],[0.2222222222222222,\"#7201a8\"],[0.3333333333333333,\"#9c179e\"],[0.4444444444444444,\"#bd3786\"],[0.5555555555555556,\"#d8576b\"],[0.6666666666666666,\"#ed7953\"],[0.7777777777777778,\"#fb9f3a\"],[0.8888888888888888,\"#fdca26\"],[1.0,\"#f0f921\"]]}],\"contourcarpet\":[{\"type\":\"contourcarpet\",\"colorbar\":{\"outlinewidth\":0,\"ticks\":\"\"}}],\"contour\":[{\"type\":\"contour\",\"colorbar\":{\"outlinewidth\":0,\"ticks\":\"\"},\"colorscale\":[[0.0,\"#0d0887\"],[0.1111111111111111,\"#46039f\"],[0.2222222222222222,\"#7201a8\"],[0.3333333333333333,\"#9c179e\"],[0.4444444444444444,\"#bd3786\"],[0.5555555555555556,\"#d8576b\"],[0.6666666666666666,\"#ed7953\"],[0.7777777777777778,\"#fb9f3a\"],[0.8888888888888888,\"#fdca26\"],[1.0,\"#f0f921\"]]}],\"surface\":[{\"type\":\"surface\",\"colorbar\":{\"outlinewidth\":0,\"ticks\":\"\"},\"colorscale\":[[0.0,\"#0d0887\"],[0.1111111111111111,\"#46039f\"],[0.2222222222222222,\"#7201a8\"],[0.3333333333333333,\"#9c179e\"],[0.4444444444444444,\"#bd3786\"],[0.5555555555555556,\"#d8576b\"],[0.6666666666666666,\"#ed7953\"],[0.7777777777777778,\"#fb9f3a\"],[0.8888888888888888,\"#fdca26\"],[1.0,\"#f0f921\"]]}],\"mesh3d\":[{\"type\":\"mesh3d\",\"colorbar\":{\"outlinewidth\":0,\"ticks\":\"\"}}],\"scatter\":[{\"fillpattern\":{\"fillmode\":\"overlay\",\"size\":10,\"solidity\":0.2},\"type\":\"scatter\"}],\"parcoords\":[{\"type\":\"parcoords\",\"line\":{\"colorbar\":{\"outlinewidth\":0,\"ticks\":\"\"}}}],\"scatterpolargl\":[{\"type\":\"scatterpolargl\",\"marker\":{\"colorbar\":{\"outlinewidth\":0,\"ticks\":\"\"}}}],\"bar\":[{\"error_x\":{\"color\":\"#2a3f5f\"},\"error_y\":{\"color\":\"#2a3f5f\"},\"marker\":{\"line\":{\"color\":\"#E5ECF6\",\"width\":0.5},\"pattern\":{\"fillmode\":\"overlay\",\"size\":10,\"solidity\":0.2}},\"type\":\"bar\"}],\"scattergeo\":[{\"type\":\"scattergeo\",\"marker\":{\"colorbar\":{\"outlinewidth\":0,\"ticks\":\"\"}}}],\"scatterpolar\":[{\"type\":\"scatterpolar\",\"marker\":{\"colorbar\":{\"outlinewidth\":0,\"ticks\":\"\"}}}],\"histogram\":[{\"marker\":{\"pattern\":{\"fillmode\":\"overlay\",\"size\":10,\"solidity\":0.2}},\"type\":\"histogram\"}],\"scattergl\":[{\"type\":\"scattergl\",\"marker\":{\"colorbar\":{\"outlinewidth\":0,\"ticks\":\"\"}}}],\"scatter3d\":[{\"type\":\"scatter3d\",\"line\":{\"colorbar\":{\"outlinewidth\":0,\"ticks\":\"\"}},\"marker\":{\"colorbar\":{\"outlinewidth\":0,\"ticks\":\"\"}}}],\"scattermapbox\":[{\"type\":\"scattermapbox\",\"marker\":{\"colorbar\":{\"outlinewidth\":0,\"ticks\":\"\"}}}],\"scatterternary\":[{\"type\":\"scatterternary\",\"marker\":{\"colorbar\":{\"outlinewidth\":0,\"ticks\":\"\"}}}],\"scattercarpet\":[{\"type\":\"scattercarpet\",\"marker\":{\"colorbar\":{\"outlinewidth\":0,\"ticks\":\"\"}}}],\"carpet\":[{\"aaxis\":{\"endlinecolor\":\"#2a3f5f\",\"gridcolor\":\"white\",\"linecolor\":\"white\",\"minorgridcolor\":\"white\",\"startlinecolor\":\"#2a3f5f\"},\"baxis\":{\"endlinecolor\":\"#2a3f5f\",\"gridcolor\":\"white\",\"linecolor\":\"white\",\"minorgridcolor\":\"white\",\"startlinecolor\":\"#2a3f5f\"},\"type\":\"carpet\"}],\"table\":[{\"cells\":{\"fill\":{\"color\":\"#EBF0F8\"},\"line\":{\"color\":\"white\"}},\"header\":{\"fill\":{\"color\":\"#C8D4E3\"},\"line\":{\"color\":\"white\"}},\"type\":\"table\"}],\"barpolar\":[{\"marker\":{\"line\":{\"color\":\"#E5ECF6\",\"width\":0.5},\"pattern\":{\"fillmode\":\"overlay\",\"size\":10,\"solidity\":0.2}},\"type\":\"barpolar\"}],\"pie\":[{\"automargin\":true,\"type\":\"pie\"}]},\"layout\":{\"autotypenumbers\":\"strict\",\"colorway\":[\"#636efa\",\"#EF553B\",\"#00cc96\",\"#ab63fa\",\"#FFA15A\",\"#19d3f3\",\"#FF6692\",\"#B6E880\",\"#FF97FF\",\"#FECB52\"],\"font\":{\"color\":\"#2a3f5f\"},\"hovermode\":\"closest\",\"hoverlabel\":{\"align\":\"left\"},\"paper_bgcolor\":\"white\",\"plot_bgcolor\":\"#E5ECF6\",\"polar\":{\"bgcolor\":\"#E5ECF6\",\"angularaxis\":{\"gridcolor\":\"white\",\"linecolor\":\"white\",\"ticks\":\"\"},\"radialaxis\":{\"gridcolor\":\"white\",\"linecolor\":\"white\",\"ticks\":\"\"}},\"ternary\":{\"bgcolor\":\"#E5ECF6\",\"aaxis\":{\"gridcolor\":\"white\",\"linecolor\":\"white\",\"ticks\":\"\"},\"baxis\":{\"gridcolor\":\"white\",\"linecolor\":\"white\",\"ticks\":\"\"},\"caxis\":{\"gridcolor\":\"white\",\"linecolor\":\"white\",\"ticks\":\"\"}},\"coloraxis\":{\"colorbar\":{\"outlinewidth\":0,\"ticks\":\"\"}},\"colorscale\":{\"sequential\":[[0.0,\"#0d0887\"],[0.1111111111111111,\"#46039f\"],[0.2222222222222222,\"#7201a8\"],[0.3333333333333333,\"#9c179e\"],[0.4444444444444444,\"#bd3786\"],[0.5555555555555556,\"#d8576b\"],[0.6666666666666666,\"#ed7953\"],[0.7777777777777778,\"#fb9f3a\"],[0.8888888888888888,\"#fdca26\"],[1.0,\"#f0f921\"]],\"sequentialminus\":[[0.0,\"#0d0887\"],[0.1111111111111111,\"#46039f\"],[0.2222222222222222,\"#7201a8\"],[0.3333333333333333,\"#9c179e\"],[0.4444444444444444,\"#bd3786\"],[0.5555555555555556,\"#d8576b\"],[0.6666666666666666,\"#ed7953\"],[0.7777777777777778,\"#fb9f3a\"],[0.8888888888888888,\"#fdca26\"],[1.0,\"#f0f921\"]],\"diverging\":[[0,\"#8e0152\"],[0.1,\"#c51b7d\"],[0.2,\"#de77ae\"],[0.3,\"#f1b6da\"],[0.4,\"#fde0ef\"],[0.5,\"#f7f7f7\"],[0.6,\"#e6f5d0\"],[0.7,\"#b8e186\"],[0.8,\"#7fbc41\"],[0.9,\"#4d9221\"],[1,\"#276419\"]]},\"xaxis\":{\"gridcolor\":\"white\",\"linecolor\":\"white\",\"ticks\":\"\",\"title\":{\"standoff\":15},\"zerolinecolor\":\"white\",\"automargin\":true,\"zerolinewidth\":2},\"yaxis\":{\"gridcolor\":\"white\",\"linecolor\":\"white\",\"ticks\":\"\",\"title\":{\"standoff\":15},\"zerolinecolor\":\"white\",\"automargin\":true,\"zerolinewidth\":2},\"scene\":{\"xaxis\":{\"backgroundcolor\":\"#E5ECF6\",\"gridcolor\":\"white\",\"linecolor\":\"white\",\"showbackground\":true,\"ticks\":\"\",\"zerolinecolor\":\"white\",\"gridwidth\":2},\"yaxis\":{\"backgroundcolor\":\"#E5ECF6\",\"gridcolor\":\"white\",\"linecolor\":\"white\",\"showbackground\":true,\"ticks\":\"\",\"zerolinecolor\":\"white\",\"gridwidth\":2},\"zaxis\":{\"backgroundcolor\":\"#E5ECF6\",\"gridcolor\":\"white\",\"linecolor\":\"white\",\"showbackground\":true,\"ticks\":\"\",\"zerolinecolor\":\"white\",\"gridwidth\":2}},\"shapedefaults\":{\"line\":{\"color\":\"#2a3f5f\"}},\"annotationdefaults\":{\"arrowcolor\":\"#2a3f5f\",\"arrowhead\":0,\"arrowwidth\":1},\"geo\":{\"bgcolor\":\"white\",\"landcolor\":\"#E5ECF6\",\"subunitcolor\":\"white\",\"showland\":true,\"showlakes\":true,\"lakecolor\":\"white\"},\"title\":{\"x\":0.05},\"mapbox\":{\"style\":\"light\"}}},\"xaxis\":{\"anchor\":\"y\",\"domain\":[0.0,0.45]},\"yaxis\":{\"anchor\":\"x\",\"domain\":[0.0,1.0]},\"xaxis2\":{\"anchor\":\"y2\",\"domain\":[0.55,1.0]},\"yaxis2\":{\"anchor\":\"x2\",\"domain\":[0.0,1.0]},\"annotations\":[{\"font\":{\"size\":16},\"showarrow\":false,\"text\":\"Joey Logano's (#22) % Deficit\",\"x\":0.5,\"xanchor\":\"center\",\"xref\":\"paper\",\"y\":0,\"yanchor\":\"top\",\"yref\":\"paper\",\"yshift\":-30},{\"font\":{\"size\":16},\"showarrow\":false,\"text\":\"Ryan Blaney's (#12) % Deficit\",\"textangle\":-90,\"x\":0,\"xanchor\":\"right\",\"xref\":\"paper\",\"xshift\":-40,\"y\":0.5,\"yanchor\":\"middle\",\"yref\":\"paper\"}],\"shapes\":[{\"line\":{\"color\":\"black\",\"dash\":\"dash\"},\"type\":\"line\",\"x0\":-3.5,\"x1\":0,\"xref\":\"x\",\"y0\":-3.5,\"y1\":0,\"yref\":\"y\"},{\"line\":{\"color\":\"black\",\"dash\":\"dash\"},\"type\":\"line\",\"x0\":-3.5,\"x1\":0,\"xref\":\"x2\",\"y0\":-3.5,\"y1\":0,\"yref\":\"y2\"},{\"line\":{\"color\":\"black\"},\"type\":\"circle\",\"x0\":-2.9,\"x1\":-1.8,\"xref\":\"x2\",\"y0\":-1.2,\"y1\":-0.8,\"yref\":\"y2\"}],\"title\":{\"text\":\"<b>Disparity in Penske Average Full Speed Lap Deficits<br>2021 vs. 2022</b>\",\"x\":0.5,\"font\":{\"size\":24}},\"font\":{\"color\":\"black\"},\"height\":480,\"width\":870,\"paper_bgcolor\":\"rgba(0,0,0,0)\"},                        {\"responsive\": true}                    ).then(function(){\n                            \nvar gd = document.getElementById('a340fdb3-d967-4f58-9cd5-6e82fc6cadb2');\nvar x = new MutationObserver(function (mutations, observer) {{\n        var display = window.getComputedStyle(gd).display;\n        if (!display || display === 'none') {{\n            console.log([gd, 'removed!']);\n            Plotly.purge(gd);\n            observer.disconnect();\n        }}\n}});\n\n// Listen for the removal of the full notebook cells\nvar notebookContainer = gd.closest('#notebook-container');\nif (notebookContainer) {{\n    x.observe(notebookContainer, {childList: true});\n}}\n\n// Listen for the clearing of the current output cell\nvar outputEl = gd.closest('.output');\nif (outputEl) {{\n    x.observe(outputEl, {childList: true});\n}}\n\n                        })                };                            </script>        </div>\n</body>\n</html>"
     },
     "metadata": {},
     "output_type": "display_data"
    }
   ]
  },
  {
   "cell_type": "code",
   "metadata": {
    "tags": [],
    "deepnote_to_be_reexecuted": false,
    "source_hash": "b623e53d",
    "execution_start": 1653250071462,
    "execution_millis": 8,
    "cell_id": "00011-cd1f6162-cc9f-43de-9c38-2c6a8da3ccae",
    "deepnote_cell_type": "code",
    "deepnote_cell_height": 81.453125
   },
   "source": "",
   "execution_count": null,
   "outputs": []
  },
  {
   "cell_type": "markdown",
   "source": "<a style='text-decoration:none;line-height:16px;display:flex;color:#5B5B62;padding:10px;justify-content:end;' href='https://deepnote.com?utm_source=created-in-deepnote-cell&projectId=9ef4eb23-f38f-47e8-bfb0-51d8616b0dee' target=\"_blank\">\n<img alt='Created in deepnote.com' style='display:inline;max-height:16px;margin:0px;margin-right:7.5px;' src='data:image/svg+xml;base64,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' > </img>\nCreated in <span style='font-weight:600;margin-left:4px;'>Deepnote</span></a>",
   "metadata": {
    "tags": [],
    "created_in_deepnote_cell": true,
    "deepnote_cell_type": "markdown"
   }
  }
 ],
 "nbformat": 4,
 "nbformat_minor": 2,
 "metadata": {
  "orig_nbformat": 2,
  "deepnote": {},
  "deepnote_notebook_id": "9c5c1598-4f05-4a10-91a3-64a25fc8fc0c",
  "deepnote_execution_queue": []
 }
}