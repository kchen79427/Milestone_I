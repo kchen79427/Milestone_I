{
 "cells": [
  {
   "cell_type": "code",
   "execution_count": 12,
   "metadata": {},
   "outputs": [],
   "source": [
    "import pandas as pd\n",
    "pd.set_option('max_columns', None)\n",
    "import numpy as np\n",
    "import json\n",
    "import seaborn as sns\n",
    "import matplotlib.pyplot as plt\n",
    "import plotly.express as px\n",
    "from nltk import metrics, stem, tokenize\n",
    "import nltk\n",
    "import glob"
   ]
  },
  {
   "cell_type": "code",
   "execution_count": 3,
   "metadata": {},
   "outputs": [],
   "source": [
    "one_race_cols = {\"Driver\": \"Driver\", \"Car\": \"Car #\", \"AvgStart\": \"Start\", \"AvgMidRace\": \"Mid Race\", \"AvgFinish\": \"Finish\",\n",
    "                 \"Avg Pos\": \"Average Position\", \"PassDiff\": \"Pass Differential\", \"GreenPass\": \"Green Passes\",\n",
    "                 \"GreenPassed\": \"Green Passed\", \"QualityPasses\": \"Quality Passes\",\n",
    "                 \"PercentQualityPasses\": \"% Quality Passes\", \"NumFastestLaps\": \"# Fastest Laps\",\n",
    "                 \"LapsinTop15\": \"Laps in Top 15\", \"PercentLapsTop15\": \"% Laps in Top 15\", \"LapsLed\": \"Laps Led\",\n",
    "                 \"PercentLapsLed\": \"% Laps Led\", \"TotalLaps\": \"Total Laps\", \"DriverRating\": \"Driver Rating\",\n",
    "                 \"Pts\": \"Points\"}\n",
    "\n",
    "one_race_cols_2 = {\"Driver\": \"Driver\", \"Car\": \"Car #\", \"AvgPos\": \"Average Position\", \"PassDiff\": \"Pass Differential\",\n",
    "                   \"GreenPass\": \"Green Passes\", \"GreenPassed\": \"Green Passed\", \"QualityPasses\": \"Quality Passes\",\n",
    "                   \"PercentQualityPasses\": \"% Quality Passes\", \"NumFastestLaps\": \"# Fastest Laps\",\n",
    "                   \"LapsTop15\": \"Laps in Top 15\", \"PercentLapsTop15\": \"% Laps in Top 15\", \"LapsLed\": \"Laps Led\",\n",
    "                   \"PercentLapsLed\": \"% Laps Led\", \"TotalLaps\": \"Total Laps\", \"DriverRating\": \"Driver Rating\",\n",
    "                   \"Pts\": \"Points\", \"StartPos\": \"Start\", \"MidRace\": \"Mid Race\", \"FinishPos\": \"Finish\"}\n",
    "\n",
    "car_nums_22 = {\"AJ Allmendinger\": 16, \"Aric Almirola\": 10, \"Christopher Bell\": 20, \"Greg Biffle\": 44,\n",
    "             \"Josh Bilicki\": 77, \"Ryan Blaney\": 12, \"Alex Bowman\": 48, \"Chase Briscoe\": 14,\n",
    "             \"Chris Buescher\": 17, \"Harrison Burton\": 21, \"Kurt Busch\": 45, \"Kyle Busch\": 18,\n",
    "             \"William Byron\": 24, \"Landon Cassill\": 77, \"Ross Chastain\": 1,\n",
    "             \"Austin Cindric\": 2, \"Cole Custer\": 41, \"Austin Dillon\": 3, \"Ty Dillon\": 42,\n",
    "             \"Chase Elliott\": 9, \"Todd Gilliland\": 38, \"Noah Gragson\": 16, \"Kaz Grala\": 50,\n",
    "             \"Denny Hamlin\": 11, \"Joey Hand\": 15, \"Kevin Harvick\": 4, \"Justin Haley\": 31,\n",
    "             \"Daniel Hemric\": 16, \"Loris Hezemans\": 27, \"Erik Jones\": 20, \"Brad Keselowski\": 6,\n",
    "             \"Corey LaJoie\": 7, \"Kyle Larson\": 5, \"Joey Logano\": 22, \"BJ McLeod\": 78,\n",
    "             \"Michael McDowell\": 34, \"Ryan Preece\": 15, \"David Ragan\": 15, \"Tyler Reddick\": 8,\n",
    "             \"Boris Said\": 66, \"Garrett Smithley\": 15, \"Ricky Stenhouse Jr.\": 47, \"Daniel Suárez\": 99,\n",
    "             \"Martin Truex Jr.\": 19, \"Jacques Villeneuve\": 27, \"Bubba Wallace\": 23, \"Cody Ware\": 51}\n",
    "\n",
    "teams_22 = {\"AJ Allmendinger\": \"Kaulig\", \"Aric Almirola\": \"SHR\", \"Christopher Bell\": \"JGR\", \"Greg Biffle\": \"NYR\",\n",
    "        \"Josh Bilicki\": \"Spire\", \"Ryan Blaney\": \"Penske\", \"Alex Bowman\": \"Hendrick\", \"Chase Briscoe\": \"SHR\",\n",
    "        \"Chris Buescher\": \"RFK\", \"Harrison Burton\": \"WBR\", \"Kurt Busch\": \"23X1\", \"Kyle Busch\": \"JGR\",\n",
    "        \"William Byron\": \"Hendrick\", \"Landon Cassill\": \"Spire\", \"Ross Chastain\": \"Trackhouse\", \"Austin Cindric\": \"Penske\",\n",
    "        \"Cole Custer\": \"SHR\", \"Austin Dillon\": \"RCR\", \"Ty Dillon\": \"PGMS\", \"Chase Elliott\": \"Hendrick\",\n",
    "        \"Todd Gilliland\": \"FRM\", \"Noah Gragson\": \"Kaulig\", \"Kaz Grala\": \"TMT\", \"Denny Hamlin\": \"JGR\",\n",
    "        \"Joey Hand\": \"RWR\", \"Kevin Harvick\": \"SHR\", \"Justin Haley\": \"Kaulig\", \"Daniel Hemric\": \"Kaulig\",\n",
    "        \"Loris Hezemans\": \"Hezeberg\", \"Erik Jones\": \"PGMS\", \"Brad Keselowski\": \"RFK\", \"Corey LaJoie\": \"Spire\",\n",
    "        \"Kyle Larson\": \"Hendrick\", \"Joey Logano\": \"Penske\", \"BJ McLeod\": \"LFM\", \"Michael McDowell\": \"FRM\",\n",
    "        \"Ryan Preece\": \"RWR\", \"David Ragan\": \"RWR\", \"Tyler Reddick\": \"RCR\", \"Boris Said\": \"MBM\",\n",
    "        \"Garrett Smithley\": \"RWR\", \"Ricky Stenhouse Jr.\": \"JTGD\", \"Daniel Suárez\": \"Trackhouse\", \"Martin Truex Jr.\": \"JGR\",\n",
    "        \"Jacques Villeneuve\": \"Hezeberg\", \"Bubba Wallace\": \"23X1\", \"Cody Ware\": \"RWR\"}\n",
    "\n",
    "makes_22 = {\"23X1\": \"Toyota\", \"Beard\": \"Chevy\", \"FRM\": \"Ford\", \"Hendrick\": \"Chevy\",\n",
    "        \"Hezeberg\": \"Ford\", \"JGR\": \"Toyota\", \"JTGD\": \"Chevy\", \"Kaulig\": \"Chevy\",\n",
    "        \"LFM\": \"Ford\", \"MBM\": \"Ford\", \"NYR\": \"Chevy\", \"Penske\": \"Ford\",\n",
    "        \"PGMS\": \"Chevy\", \"RCR\": \"Chevy\", \"RFK\": \"Ford\", \"RWR\": \"Ford\",\n",
    "        \"SHR\": \"Ford\", \"Spire\": \"Chevy\", \"TMT\": \"Chevy\", \"Trackhouse\": \"Chevy\",\n",
    "        \"WBR\": \"Ford\"}\n",
    "\n",
    "track_types_22 = {\"Auto Club\": \"Speedway\", \"Atlanta\": \"Superpeedway\", \"Bristol\": \"Short Track\", \"COTA\": \"Road Course\",\n",
    "               \"Daytona\": \"Superspeedway\", \"Las Vegas\": \"Speedway\", \"Martinsville\": \"Short Track\", \"Phoenix\": \"Speedway\",\n",
    "               \"Richmond\": \"Short Track\", \"Talladega\": \"Superspeedway\", \"Dover\": \"Short Track\", \"Darlington\": \"Speedway\"}\n",
    "\n",
    "laps_22 = {\"Daytona1\": 201, \"Auto Club\": 200, \"Las Vegas1\": 274, \"Phoenix1\": 312, \"Atlanta1\": 325,\n",
    "           \"COTA\": 69, \"Richmond1\": 400, \"Martinsville1\": 403, \"Bristol Dirt\": 250, \"Talladega1\": 188,\n",
    "           \"Dover\": 400, \"Darlington1\": 999}\n",
    "\n",
    "laps_racenum_22 = {\"Daytona1\": 1, \"Auto Club\": 2, \"Las Vegas1\": 3, \"Phoenix1\": 4, \"Atlanta1\": 5,\n",
    "           \"COTA\": 6, \"Richmond1\": 7, \"Martinsville1\": 8, \"Bristol Dirt\": 9, \"Talladega1\": 10,\n",
    "           \"Dover\": 11, \"Darlington1\": 12}"
   ]
  },
  {
   "cell_type": "code",
   "execution_count": 49,
   "metadata": {},
   "outputs": [
    {
     "data": {
      "text/html": [
       "<div>\n",
       "<style scoped>\n",
       "    .dataframe tbody tr th:only-of-type {\n",
       "        vertical-align: middle;\n",
       "    }\n",
       "\n",
       "    .dataframe tbody tr th {\n",
       "        vertical-align: top;\n",
       "    }\n",
       "\n",
       "    .dataframe thead th {\n",
       "        text-align: right;\n",
       "    }\n",
       "</style>\n",
       "<table border=\"1\" class=\"dataframe\">\n",
       "  <thead>\n",
       "    <tr style=\"text-align: right;\">\n",
       "      <th></th>\n",
       "      <th>Car</th>\n",
       "      <th>Driver</th>\n",
       "      <th>StartPos</th>\n",
       "      <th>MidRace</th>\n",
       "      <th>CloserPos</th>\n",
       "      <th>FinishPos</th>\n",
       "      <th>HighPos</th>\n",
       "      <th>LowPos</th>\n",
       "      <th>AvgPos</th>\n",
       "      <th>PassDiff</th>\n",
       "      <th>GreenPass</th>\n",
       "      <th>GreenPassed</th>\n",
       "      <th>QualityPasses</th>\n",
       "      <th>PercentQualityPasses</th>\n",
       "      <th>NumFastestLaps</th>\n",
       "      <th>LapsTop15</th>\n",
       "      <th>PercentLapsTop15</th>\n",
       "      <th>LapsLed</th>\n",
       "      <th>PercentLapsLed</th>\n",
       "      <th>TotalLaps</th>\n",
       "      <th>DriverRating</th>\n",
       "      <th>Pts</th>\n",
       "      <th>race</th>\n",
       "      <th>date</th>\n",
       "      <th>Driver-Car</th>\n",
       "      <th>Points Eligible</th>\n",
       "      <th>Team</th>\n",
       "      <th>Make</th>\n",
       "      <th>% Fastest Laps</th>\n",
       "      <th>Pass Diff Per Lap</th>\n",
       "      <th>Quality Passes Per Lap</th>\n",
       "    </tr>\n",
       "  </thead>\n",
       "  <tbody>\n",
       "    <tr>\n",
       "      <th>0</th>\n",
       "      <td>2</td>\n",
       "      <td>Austin Cindric</td>\n",
       "      <td>5</td>\n",
       "      <td>2</td>\n",
       "      <td>9999</td>\n",
       "      <td>1</td>\n",
       "      <td>9999</td>\n",
       "      <td>9999</td>\n",
       "      <td>6.2</td>\n",
       "      <td>-13</td>\n",
       "      <td>168</td>\n",
       "      <td>181</td>\n",
       "      <td>125</td>\n",
       "      <td>74.40</td>\n",
       "      <td>0</td>\n",
       "      <td>176</td>\n",
       "      <td>87.6</td>\n",
       "      <td>21</td>\n",
       "      <td>10.4</td>\n",
       "      <td>201</td>\n",
       "      <td>122.4</td>\n",
       "      <td>54</td>\n",
       "      <td>Daytona500_modified</td>\n",
       "      <td>20220220</td>\n",
       "      <td>Austin Cindric_2</td>\n",
       "      <td>1</td>\n",
       "      <td>Penske</td>\n",
       "      <td>Ford</td>\n",
       "      <td>0.000</td>\n",
       "      <td>-0.065</td>\n",
       "      <td>0.622</td>\n",
       "    </tr>\n",
       "    <tr>\n",
       "      <th>1</th>\n",
       "      <td>6</td>\n",
       "      <td>Brad Keselowski</td>\n",
       "      <td>3</td>\n",
       "      <td>5</td>\n",
       "      <td>9999</td>\n",
       "      <td>9</td>\n",
       "      <td>9999</td>\n",
       "      <td>9999</td>\n",
       "      <td>4.8</td>\n",
       "      <td>1</td>\n",
       "      <td>171</td>\n",
       "      <td>170</td>\n",
       "      <td>148</td>\n",
       "      <td>86.50</td>\n",
       "      <td>4</td>\n",
       "      <td>198</td>\n",
       "      <td>98.5</td>\n",
       "      <td>67</td>\n",
       "      <td>33.3</td>\n",
       "      <td>201</td>\n",
       "      <td>121.3</td>\n",
       "      <td>54</td>\n",
       "      <td>Daytona500_modified</td>\n",
       "      <td>20220220</td>\n",
       "      <td>Brad Keselowski_6</td>\n",
       "      <td>1</td>\n",
       "      <td>RFK</td>\n",
       "      <td>Ford</td>\n",
       "      <td>1.990</td>\n",
       "      <td>0.005</td>\n",
       "      <td>0.736</td>\n",
       "    </tr>\n",
       "    <tr>\n",
       "      <th>2</th>\n",
       "      <td>19</td>\n",
       "      <td>Martin Truex Jr</td>\n",
       "      <td>14</td>\n",
       "      <td>18</td>\n",
       "      <td>9999</td>\n",
       "      <td>13</td>\n",
       "      <td>9999</td>\n",
       "      <td>9999</td>\n",
       "      <td>11.9</td>\n",
       "      <td>25</td>\n",
       "      <td>258</td>\n",
       "      <td>233</td>\n",
       "      <td>192</td>\n",
       "      <td>74.40</td>\n",
       "      <td>4</td>\n",
       "      <td>143</td>\n",
       "      <td>71.1</td>\n",
       "      <td>11</td>\n",
       "      <td>5.5</td>\n",
       "      <td>201</td>\n",
       "      <td>94.0</td>\n",
       "      <td>49</td>\n",
       "      <td>Daytona500_modified</td>\n",
       "      <td>20220220</td>\n",
       "      <td>Martin Truex Jr_19</td>\n",
       "      <td>1</td>\n",
       "      <td>NaN</td>\n",
       "      <td>NaN</td>\n",
       "      <td>1.990</td>\n",
       "      <td>0.124</td>\n",
       "      <td>0.955</td>\n",
       "    </tr>\n",
       "    <tr>\n",
       "      <th>3</th>\n",
       "      <td>23</td>\n",
       "      <td>Bubba Wallace</td>\n",
       "      <td>16</td>\n",
       "      <td>19</td>\n",
       "      <td>9999</td>\n",
       "      <td>2</td>\n",
       "      <td>9999</td>\n",
       "      <td>9999</td>\n",
       "      <td>10.2</td>\n",
       "      <td>16</td>\n",
       "      <td>253</td>\n",
       "      <td>237</td>\n",
       "      <td>191</td>\n",
       "      <td>75.50</td>\n",
       "      <td>7</td>\n",
       "      <td>145</td>\n",
       "      <td>72.1</td>\n",
       "      <td>12</td>\n",
       "      <td>6.0</td>\n",
       "      <td>201</td>\n",
       "      <td>104.7</td>\n",
       "      <td>47</td>\n",
       "      <td>Daytona500_modified</td>\n",
       "      <td>20220220</td>\n",
       "      <td>Bubba Wallace_23</td>\n",
       "      <td>1</td>\n",
       "      <td>23X1</td>\n",
       "      <td>Toyota</td>\n",
       "      <td>3.483</td>\n",
       "      <td>0.080</td>\n",
       "      <td>0.950</td>\n",
       "    </tr>\n",
       "    <tr>\n",
       "      <th>4</th>\n",
       "      <td>14</td>\n",
       "      <td>Chase Briscoe</td>\n",
       "      <td>9</td>\n",
       "      <td>10</td>\n",
       "      <td>9999</td>\n",
       "      <td>3</td>\n",
       "      <td>9999</td>\n",
       "      <td>9999</td>\n",
       "      <td>18.3</td>\n",
       "      <td>17</td>\n",
       "      <td>209</td>\n",
       "      <td>192</td>\n",
       "      <td>70</td>\n",
       "      <td>33.50</td>\n",
       "      <td>6</td>\n",
       "      <td>88</td>\n",
       "      <td>43.8</td>\n",
       "      <td>0</td>\n",
       "      <td>0.0</td>\n",
       "      <td>201</td>\n",
       "      <td>75.0</td>\n",
       "      <td>41</td>\n",
       "      <td>Daytona500_modified</td>\n",
       "      <td>20220220</td>\n",
       "      <td>Chase Briscoe_14</td>\n",
       "      <td>1</td>\n",
       "      <td>SHR</td>\n",
       "      <td>Ford</td>\n",
       "      <td>2.985</td>\n",
       "      <td>0.085</td>\n",
       "      <td>0.348</td>\n",
       "    </tr>\n",
       "    <tr>\n",
       "      <th>...</th>\n",
       "      <td>...</td>\n",
       "      <td>...</td>\n",
       "      <td>...</td>\n",
       "      <td>...</td>\n",
       "      <td>...</td>\n",
       "      <td>...</td>\n",
       "      <td>...</td>\n",
       "      <td>...</td>\n",
       "      <td>...</td>\n",
       "      <td>...</td>\n",
       "      <td>...</td>\n",
       "      <td>...</td>\n",
       "      <td>...</td>\n",
       "      <td>...</td>\n",
       "      <td>...</td>\n",
       "      <td>...</td>\n",
       "      <td>...</td>\n",
       "      <td>...</td>\n",
       "      <td>...</td>\n",
       "      <td>...</td>\n",
       "      <td>...</td>\n",
       "      <td>...</td>\n",
       "      <td>...</td>\n",
       "      <td>...</td>\n",
       "      <td>...</td>\n",
       "      <td>...</td>\n",
       "      <td>...</td>\n",
       "      <td>...</td>\n",
       "      <td>...</td>\n",
       "      <td>...</td>\n",
       "      <td>...</td>\n",
       "    </tr>\n",
       "    <tr>\n",
       "      <th>31</th>\n",
       "      <td>77</td>\n",
       "      <td>Josh Bilicki</td>\n",
       "      <td>36</td>\n",
       "      <td>34</td>\n",
       "      <td>32</td>\n",
       "      <td>32</td>\n",
       "      <td>32</td>\n",
       "      <td>36</td>\n",
       "      <td>34.1</td>\n",
       "      <td>-3</td>\n",
       "      <td>1</td>\n",
       "      <td>4</td>\n",
       "      <td>0</td>\n",
       "      <td>0.00</td>\n",
       "      <td>0</td>\n",
       "      <td>0</td>\n",
       "      <td>0.0</td>\n",
       "      <td>0</td>\n",
       "      <td>0.0</td>\n",
       "      <td>381</td>\n",
       "      <td>26.7</td>\n",
       "      <td>0</td>\n",
       "      <td>DoverMotorSpeedway</td>\n",
       "      <td>20220502</td>\n",
       "      <td>Josh Bilicki_77</td>\n",
       "      <td>0</td>\n",
       "      <td>Spire</td>\n",
       "      <td>Chevy</td>\n",
       "      <td>0.000</td>\n",
       "      <td>-0.008</td>\n",
       "      <td>0.000</td>\n",
       "    </tr>\n",
       "    <tr>\n",
       "      <th>32</th>\n",
       "      <td>16</td>\n",
       "      <td>AJ Allmendinger</td>\n",
       "      <td>19</td>\n",
       "      <td>2</td>\n",
       "      <td>33</td>\n",
       "      <td>33</td>\n",
       "      <td>2</td>\n",
       "      <td>31</td>\n",
       "      <td>18.9</td>\n",
       "      <td>-21</td>\n",
       "      <td>47</td>\n",
       "      <td>68</td>\n",
       "      <td>18</td>\n",
       "      <td>38.30</td>\n",
       "      <td>4</td>\n",
       "      <td>179</td>\n",
       "      <td>44.8</td>\n",
       "      <td>0</td>\n",
       "      <td>0.0</td>\n",
       "      <td>321</td>\n",
       "      <td>62.6</td>\n",
       "      <td>0</td>\n",
       "      <td>DoverMotorSpeedway</td>\n",
       "      <td>20220502</td>\n",
       "      <td>AJ Allmendinger_16</td>\n",
       "      <td>0</td>\n",
       "      <td>Kaulig</td>\n",
       "      <td>Chevy</td>\n",
       "      <td>1.246</td>\n",
       "      <td>-0.065</td>\n",
       "      <td>0.056</td>\n",
       "    </tr>\n",
       "    <tr>\n",
       "      <th>33</th>\n",
       "      <td>51</td>\n",
       "      <td>Cody Ware</td>\n",
       "      <td>28</td>\n",
       "      <td>33</td>\n",
       "      <td>34</td>\n",
       "      <td>34</td>\n",
       "      <td>26</td>\n",
       "      <td>33</td>\n",
       "      <td>32.9</td>\n",
       "      <td>-3</td>\n",
       "      <td>11</td>\n",
       "      <td>14</td>\n",
       "      <td>0</td>\n",
       "      <td>0.00</td>\n",
       "      <td>0</td>\n",
       "      <td>0</td>\n",
       "      <td>0.0</td>\n",
       "      <td>0</td>\n",
       "      <td>0.0</td>\n",
       "      <td>238</td>\n",
       "      <td>31.8</td>\n",
       "      <td>3</td>\n",
       "      <td>DoverMotorSpeedway</td>\n",
       "      <td>20220502</td>\n",
       "      <td>Cody Ware_51</td>\n",
       "      <td>1</td>\n",
       "      <td>RWR</td>\n",
       "      <td>Ford</td>\n",
       "      <td>0.000</td>\n",
       "      <td>-0.013</td>\n",
       "      <td>0.000</td>\n",
       "    </tr>\n",
       "    <tr>\n",
       "      <th>34</th>\n",
       "      <td>78</td>\n",
       "      <td>BJ McLeod</td>\n",
       "      <td>32</td>\n",
       "      <td>35</td>\n",
       "      <td>35</td>\n",
       "      <td>35</td>\n",
       "      <td>32</td>\n",
       "      <td>36</td>\n",
       "      <td>34.7</td>\n",
       "      <td>3</td>\n",
       "      <td>5</td>\n",
       "      <td>2</td>\n",
       "      <td>0</td>\n",
       "      <td>0.00</td>\n",
       "      <td>0</td>\n",
       "      <td>0</td>\n",
       "      <td>0.0</td>\n",
       "      <td>0</td>\n",
       "      <td>0.0</td>\n",
       "      <td>167</td>\n",
       "      <td>24.8</td>\n",
       "      <td>2</td>\n",
       "      <td>DoverMotorSpeedway</td>\n",
       "      <td>20220502</td>\n",
       "      <td>BJ McLeod_78</td>\n",
       "      <td>1</td>\n",
       "      <td>LFM</td>\n",
       "      <td>Ford</td>\n",
       "      <td>0.000</td>\n",
       "      <td>0.018</td>\n",
       "      <td>0.000</td>\n",
       "    </tr>\n",
       "    <tr>\n",
       "      <th>35</th>\n",
       "      <td>2</td>\n",
       "      <td>Austin Cindric</td>\n",
       "      <td>12</td>\n",
       "      <td>36</td>\n",
       "      <td>36</td>\n",
       "      <td>36</td>\n",
       "      <td>6</td>\n",
       "      <td>36</td>\n",
       "      <td>30.9</td>\n",
       "      <td>-4</td>\n",
       "      <td>9</td>\n",
       "      <td>13</td>\n",
       "      <td>4</td>\n",
       "      <td>44.44</td>\n",
       "      <td>1</td>\n",
       "      <td>74</td>\n",
       "      <td>18.5</td>\n",
       "      <td>0</td>\n",
       "      <td>0.0</td>\n",
       "      <td>91</td>\n",
       "      <td>46.9</td>\n",
       "      <td>1</td>\n",
       "      <td>DoverMotorSpeedway</td>\n",
       "      <td>20220502</td>\n",
       "      <td>Austin Cindric_2</td>\n",
       "      <td>1</td>\n",
       "      <td>Penske</td>\n",
       "      <td>Ford</td>\n",
       "      <td>1.099</td>\n",
       "      <td>-0.044</td>\n",
       "      <td>0.044</td>\n",
       "    </tr>\n",
       "  </tbody>\n",
       "</table>\n",
       "<p>409 rows × 31 columns</p>\n",
       "</div>"
      ],
      "text/plain": [
       "    Car           Driver  StartPos  MidRace  CloserPos  FinishPos  HighPos  \\\n",
       "0     2   Austin Cindric         5        2       9999          1     9999   \n",
       "1     6  Brad Keselowski         3        5       9999          9     9999   \n",
       "2    19  Martin Truex Jr        14       18       9999         13     9999   \n",
       "3    23    Bubba Wallace        16       19       9999          2     9999   \n",
       "4    14    Chase Briscoe         9       10       9999          3     9999   \n",
       "..  ...              ...       ...      ...        ...        ...      ...   \n",
       "31   77     Josh Bilicki        36       34         32         32       32   \n",
       "32   16  AJ Allmendinger        19        2         33         33        2   \n",
       "33   51        Cody Ware        28       33         34         34       26   \n",
       "34   78        BJ McLeod        32       35         35         35       32   \n",
       "35    2   Austin Cindric        12       36         36         36        6   \n",
       "\n",
       "    LowPos  AvgPos  PassDiff  GreenPass  GreenPassed  QualityPasses  \\\n",
       "0     9999     6.2       -13        168          181            125   \n",
       "1     9999     4.8         1        171          170            148   \n",
       "2     9999    11.9        25        258          233            192   \n",
       "3     9999    10.2        16        253          237            191   \n",
       "4     9999    18.3        17        209          192             70   \n",
       "..     ...     ...       ...        ...          ...            ...   \n",
       "31      36    34.1        -3          1            4              0   \n",
       "32      31    18.9       -21         47           68             18   \n",
       "33      33    32.9        -3         11           14              0   \n",
       "34      36    34.7         3          5            2              0   \n",
       "35      36    30.9        -4          9           13              4   \n",
       "\n",
       "    PercentQualityPasses  NumFastestLaps  LapsTop15  PercentLapsTop15  \\\n",
       "0                  74.40               0        176              87.6   \n",
       "1                  86.50               4        198              98.5   \n",
       "2                  74.40               4        143              71.1   \n",
       "3                  75.50               7        145              72.1   \n",
       "4                  33.50               6         88              43.8   \n",
       "..                   ...             ...        ...               ...   \n",
       "31                  0.00               0          0               0.0   \n",
       "32                 38.30               4        179              44.8   \n",
       "33                  0.00               0          0               0.0   \n",
       "34                  0.00               0          0               0.0   \n",
       "35                 44.44               1         74              18.5   \n",
       "\n",
       "    LapsLed  PercentLapsLed  TotalLaps  DriverRating  Pts  \\\n",
       "0        21            10.4        201         122.4   54   \n",
       "1        67            33.3        201         121.3   54   \n",
       "2        11             5.5        201          94.0   49   \n",
       "3        12             6.0        201         104.7   47   \n",
       "4         0             0.0        201          75.0   41   \n",
       "..      ...             ...        ...           ...  ...   \n",
       "31        0             0.0        381          26.7    0   \n",
       "32        0             0.0        321          62.6    0   \n",
       "33        0             0.0        238          31.8    3   \n",
       "34        0             0.0        167          24.8    2   \n",
       "35        0             0.0         91          46.9    1   \n",
       "\n",
       "                   race      date          Driver-Car  Points Eligible  \\\n",
       "0   Daytona500_modified  20220220    Austin Cindric_2                1   \n",
       "1   Daytona500_modified  20220220   Brad Keselowski_6                1   \n",
       "2   Daytona500_modified  20220220  Martin Truex Jr_19                1   \n",
       "3   Daytona500_modified  20220220    Bubba Wallace_23                1   \n",
       "4   Daytona500_modified  20220220    Chase Briscoe_14                1   \n",
       "..                  ...       ...                 ...              ...   \n",
       "31   DoverMotorSpeedway  20220502     Josh Bilicki_77                0   \n",
       "32   DoverMotorSpeedway  20220502  AJ Allmendinger_16                0   \n",
       "33   DoverMotorSpeedway  20220502        Cody Ware_51                1   \n",
       "34   DoverMotorSpeedway  20220502        BJ McLeod_78                1   \n",
       "35   DoverMotorSpeedway  20220502    Austin Cindric_2                1   \n",
       "\n",
       "      Team    Make  % Fastest Laps  Pass Diff Per Lap  Quality Passes Per Lap  \n",
       "0   Penske    Ford           0.000             -0.065                   0.622  \n",
       "1      RFK    Ford           1.990              0.005                   0.736  \n",
       "2      NaN     NaN           1.990              0.124                   0.955  \n",
       "3     23X1  Toyota           3.483              0.080                   0.950  \n",
       "4      SHR    Ford           2.985              0.085                   0.348  \n",
       "..     ...     ...             ...                ...                     ...  \n",
       "31   Spire   Chevy           0.000             -0.008                   0.000  \n",
       "32  Kaulig   Chevy           1.246             -0.065                   0.056  \n",
       "33     RWR    Ford           0.000             -0.013                   0.000  \n",
       "34     LFM    Ford           0.000              0.018                   0.000  \n",
       "35  Penske    Ford           1.099             -0.044                   0.044  \n",
       "\n",
       "[409 rows x 31 columns]"
      ]
     },
     "execution_count": 49,
     "metadata": {},
     "output_type": "execute_result"
    }
   ],
   "source": [
    "# reading in 2022 data\n",
    "import re\n",
    "from nltk import metrics, stem, tokenize\n",
    "def normalize(s):\n",
    "    stemmer = stem.PorterStemmer()\n",
    "    words = tokenize.wordpunct_tokenize(s.lower().strip())\n",
    "    return ' '.join([stemmer.stem(w) for w in words])\n",
    " \n",
    "def fuzzy_match(s1, s2, max_dist=3):\n",
    "    return nltk.edit_distance(normalize(s1), normalize(s2)) <= max_dist\n",
    "\n",
    "def add_cols_22(df, race, track = \"\"):\n",
    "    df[\"Driver-Car\"] = df[\"Driver\"] + \"_\" + df[\"Car #\"].astype(str)\n",
    "    df[\"Points Eligible\"] = [1 if row > 0 else 0 for row in df[\"Points\"]]\n",
    "    df[\"Team\"] = df[\"Driver\"].map(teams_22)\n",
    "    df[\"Make\"] = df[\"Team\"].map(makes_22)\n",
    "    # df[\"Race #\"] = racenum\n",
    "    df[\"Track\"] = track\n",
    "    df[\"Track Type\"] = df[\"Track\"].map(track_types_22)\n",
    "    df[\"Race Laps\"] = laps_22[race]\n",
    "    df[\"% Fastest Laps\"] = round(df[\"# Fastest Laps\"] / df[\"Race Laps\"] * 100, 3)\n",
    "    df[\"Pass Diff Per Lap\"] = round(df[\"Pass Differential\"] / df[\"Total Laps\"], 3)\n",
    "    df[\"Quality Passes Per Lap\"] = round(df[\"Quality Passes\"] / df[\"Total Laps\"], 3)\n",
    "    return df\n",
    "\n",
    "data_path = r'C:\\Users\\kchen\\OneDrive\\MADS\\SIADS591_592_Milestone1\\Milestone_I\\Milestone_I\\data\\loop_TobyChristie\\csv\\2022'\n",
    "\n",
    "filenames = glob.glob(data_path + \"/*.csv\")\n",
    "loop_data=[]\n",
    "\n",
    "for file in filenames:\n",
    "    df=pd.read_csv(file)\n",
    "    race_date=re.search(r'(\\d{8})_(\\w*)',file)\n",
    "    date=race_date.group(1)\n",
    "    race=race_date.group(2)\n",
    "    df['race']=race\n",
    "    df['date']=date\n",
    "    df[\"Driver-Car\"] = df[\"Driver\"] + \"_\" + df[\"Car\"].astype(str)\n",
    "    df[\"Points Eligible\"] = [1 if row > 0 else 0 for row in df[\"Pts\"]]\n",
    "    df[\"Team\"] = df[\"Driver\"].map(teams_22)\n",
    "    df[\"Make\"] = df[\"Team\"].map(makes_22)\n",
    "    df[\"% Fastest Laps\"] = round(df[\"NumFastestLaps\"] / df[\"TotalLaps\"] * 100, 3)\n",
    "    df[\"Pass Diff Per Lap\"] = round(df[\"PassDiff\"] / df[\"TotalLaps\"], 3)\n",
    "    df[\"Quality Passes Per Lap\"] = round(df[\"QualityPasses\"] / df[\"TotalLaps\"], 3)\n",
    "    loop_data.append(df)\n",
    "\n",
    "pd.concat(loop_data)"
   ]
  },
  {
   "cell_type": "code",
   "execution_count": 27,
   "metadata": {},
   "outputs": [
    {
     "data": {
      "text/plain": [
       "1"
      ]
     },
     "execution_count": 27,
     "metadata": {},
     "output_type": "execute_result"
    }
   ],
   "source": [
    "fuzzy_match('MartinsvilleSpeedway','Martinsville1')\n",
    "nltk.edit_distance('Richmond ','Richmond1')"
   ]
  },
  {
   "cell_type": "code",
   "execution_count": 10,
   "metadata": {},
   "outputs": [],
   "source": [
    "def add_cols_22(df, race, track = \"\", racenum = 0):\n",
    "    df[\"Driver-Car\"] = df[\"Driver\"] + \"_\" + df[\"Car #\"].astype(str)\n",
    "    df[\"Points Eligible\"] = [1 if row > 0 else 0 for row in df[\"Points\"]]\n",
    "    df[\"Team\"] = df[\"Driver\"].map(teams_22)\n",
    "    df[\"Make\"] = df[\"Team\"].map(makes_22)\n",
    "    df[\"Race #\"] = racenum\n",
    "    df[\"Track\"] = track\n",
    "    df[\"Track Type\"] = df[\"Track\"].map(track_types_22)\n",
    "    df[\"Race Laps\"] = laps_22[race]\n",
    "    df[\"% Fastest Laps\"] = round(df[\"# Fastest Laps\"] / df[\"Race Laps\"] * 100, 3)\n",
    "    df[\"Pass Diff Per Lap\"] = round(df[\"Pass Differential\"] / df[\"Total Laps\"], 3)\n",
    "    df[\"Quality Passes Per Lap\"] = round(df[\"Quality Passes\"] / df[\"Total Laps\"], 3)\n",
    "    return df"
   ]
  },
  {
   "cell_type": "code",
   "execution_count": 11,
   "metadata": {},
   "outputs": [
    {
     "ename": "TypeError",
     "evalue": "add_cols_22() missing 1 required positional argument: 'race'",
     "output_type": "error",
     "traceback": [
      "\u001b[1;31m---------------------------------------------------------------------------\u001b[0m",
      "\u001b[1;31mTypeError\u001b[0m                                 Traceback (most recent call last)",
      "\u001b[1;32m<ipython-input-11-a2fbba5896a7>\u001b[0m in \u001b[0;36m<module>\u001b[1;34m\u001b[0m\n\u001b[1;32m----> 1\u001b[1;33m \u001b[0madd_cols_22\u001b[0m\u001b[1;33m(\u001b[0m\u001b[0mdf\u001b[0m\u001b[1;33m)\u001b[0m\u001b[1;33m\u001b[0m\u001b[1;33m\u001b[0m\u001b[0m\n\u001b[0m",
      "\u001b[1;31mTypeError\u001b[0m: add_cols_22() missing 1 required positional argument: 'race'"
     ]
    }
   ],
   "source": [
    "add_cols_22(df)"
   ]
  },
  {
   "cell_type": "code",
   "execution_count": 23,
   "metadata": {},
   "outputs": [
    {
     "data": {
      "text/html": [
       "<div>\n",
       "<style scoped>\n",
       "    .dataframe tbody tr th:only-of-type {\n",
       "        vertical-align: middle;\n",
       "    }\n",
       "\n",
       "    .dataframe tbody tr th {\n",
       "        vertical-align: top;\n",
       "    }\n",
       "\n",
       "    .dataframe thead th {\n",
       "        text-align: right;\n",
       "    }\n",
       "</style>\n",
       "<table border=\"1\" class=\"dataframe\">\n",
       "  <thead>\n",
       "    <tr style=\"text-align: right;\">\n",
       "      <th></th>\n",
       "      <th>Car</th>\n",
       "      <th>Driver</th>\n",
       "      <th>StartPos</th>\n",
       "      <th>MidRace</th>\n",
       "      <th>CloserPos</th>\n",
       "      <th>FinishPos</th>\n",
       "      <th>HighPos</th>\n",
       "      <th>LowPos</th>\n",
       "      <th>AvgPos</th>\n",
       "      <th>PassDiff</th>\n",
       "      <th>GreenPass</th>\n",
       "      <th>GreenPassed</th>\n",
       "      <th>QualityPasses</th>\n",
       "      <th>PercentQualityPasses</th>\n",
       "      <th>NumFastestLaps</th>\n",
       "      <th>LapsTop15</th>\n",
       "      <th>PercentLapsTop15</th>\n",
       "      <th>LapsLed</th>\n",
       "      <th>PercentLapsLed</th>\n",
       "      <th>TotalLaps</th>\n",
       "      <th>DriverRating</th>\n",
       "      <th>Pts</th>\n",
       "      <th>Date</th>\n",
       "      <th>Race</th>\n",
       "      <th>Points Eligible</th>\n",
       "      <th>Team</th>\n",
       "      <th>Make</th>\n",
       "      <th>Race #</th>\n",
       "      <th>Track</th>\n",
       "      <th>Track Type</th>\n",
       "      <th>Quality Passes Per Lap</th>\n",
       "    </tr>\n",
       "  </thead>\n",
       "  <tbody>\n",
       "    <tr>\n",
       "      <th>0</th>\n",
       "      <td>5</td>\n",
       "      <td>Kyle Larson</td>\n",
       "      <td>13</td>\n",
       "      <td>3</td>\n",
       "      <td>2</td>\n",
       "      <td>1</td>\n",
       "      <td>1</td>\n",
       "      <td>25</td>\n",
       "      <td>7.1</td>\n",
       "      <td>24</td>\n",
       "      <td>83</td>\n",
       "      <td>59</td>\n",
       "      <td>63</td>\n",
       "      <td>75.90</td>\n",
       "      <td>16</td>\n",
       "      <td>183</td>\n",
       "      <td>91.5</td>\n",
       "      <td>28</td>\n",
       "      <td>14.0</td>\n",
       "      <td>200</td>\n",
       "      <td>116.3</td>\n",
       "      <td>52</td>\n",
       "      <td>20220227</td>\n",
       "      <td>AutoClub</td>\n",
       "      <td>1</td>\n",
       "      <td>Hendrick</td>\n",
       "      <td>Chevy</td>\n",
       "      <td>0</td>\n",
       "      <td></td>\n",
       "      <td>NaN</td>\n",
       "      <td>0.315</td>\n",
       "    </tr>\n",
       "    <tr>\n",
       "      <th>1</th>\n",
       "      <td>3</td>\n",
       "      <td>Austin Dillon</td>\n",
       "      <td>16</td>\n",
       "      <td>12</td>\n",
       "      <td>3</td>\n",
       "      <td>2</td>\n",
       "      <td>2</td>\n",
       "      <td>31</td>\n",
       "      <td>15.6</td>\n",
       "      <td>-22</td>\n",
       "      <td>97</td>\n",
       "      <td>119</td>\n",
       "      <td>52</td>\n",
       "      <td>53.61</td>\n",
       "      <td>3</td>\n",
       "      <td>118</td>\n",
       "      <td>59.0</td>\n",
       "      <td>0</td>\n",
       "      <td>0.0</td>\n",
       "      <td>200</td>\n",
       "      <td>82.9</td>\n",
       "      <td>35</td>\n",
       "      <td>20220227</td>\n",
       "      <td>AutoClub</td>\n",
       "      <td>1</td>\n",
       "      <td>RCR</td>\n",
       "      <td>Chevy</td>\n",
       "      <td>0</td>\n",
       "      <td></td>\n",
       "      <td>NaN</td>\n",
       "      <td>0.260</td>\n",
       "    </tr>\n",
       "    <tr>\n",
       "      <th>2</th>\n",
       "      <td>43</td>\n",
       "      <td>Erik Jones</td>\n",
       "      <td>2</td>\n",
       "      <td>7</td>\n",
       "      <td>6</td>\n",
       "      <td>3</td>\n",
       "      <td>1</td>\n",
       "      <td>12</td>\n",
       "      <td>4.3</td>\n",
       "      <td>13</td>\n",
       "      <td>72</td>\n",
       "      <td>59</td>\n",
       "      <td>64</td>\n",
       "      <td>88.89</td>\n",
       "      <td>23</td>\n",
       "      <td>200</td>\n",
       "      <td>100.0</td>\n",
       "      <td>18</td>\n",
       "      <td>9.0</td>\n",
       "      <td>200</td>\n",
       "      <td>122.7</td>\n",
       "      <td>52</td>\n",
       "      <td>20220227</td>\n",
       "      <td>AutoClub</td>\n",
       "      <td>1</td>\n",
       "      <td>PGMS</td>\n",
       "      <td>Chevy</td>\n",
       "      <td>0</td>\n",
       "      <td></td>\n",
       "      <td>NaN</td>\n",
       "      <td>0.320</td>\n",
       "    </tr>\n",
       "    <tr>\n",
       "      <th>3</th>\n",
       "      <td>99</td>\n",
       "      <td>Daniel Suarez</td>\n",
       "      <td>15</td>\n",
       "      <td>26</td>\n",
       "      <td>4</td>\n",
       "      <td>4</td>\n",
       "      <td>1</td>\n",
       "      <td>31</td>\n",
       "      <td>14.5</td>\n",
       "      <td>-3</td>\n",
       "      <td>96</td>\n",
       "      <td>99</td>\n",
       "      <td>54</td>\n",
       "      <td>56.25</td>\n",
       "      <td>0</td>\n",
       "      <td>115</td>\n",
       "      <td>57.5</td>\n",
       "      <td>0</td>\n",
       "      <td>0.0</td>\n",
       "      <td>200</td>\n",
       "      <td>86.2</td>\n",
       "      <td>33</td>\n",
       "      <td>20220227</td>\n",
       "      <td>AutoClub</td>\n",
       "      <td>1</td>\n",
       "      <td>Trackhouse</td>\n",
       "      <td>Chevy</td>\n",
       "      <td>0</td>\n",
       "      <td></td>\n",
       "      <td>NaN</td>\n",
       "      <td>0.270</td>\n",
       "    </tr>\n",
       "    <tr>\n",
       "      <th>4</th>\n",
       "      <td>22</td>\n",
       "      <td>Joey Logano</td>\n",
       "      <td>7</td>\n",
       "      <td>4</td>\n",
       "      <td>1</td>\n",
       "      <td>5</td>\n",
       "      <td>1</td>\n",
       "      <td>20</td>\n",
       "      <td>5.4</td>\n",
       "      <td>32</td>\n",
       "      <td>87</td>\n",
       "      <td>55</td>\n",
       "      <td>66</td>\n",
       "      <td>75.86</td>\n",
       "      <td>5</td>\n",
       "      <td>198</td>\n",
       "      <td>99.0</td>\n",
       "      <td>14</td>\n",
       "      <td>7.0</td>\n",
       "      <td>200</td>\n",
       "      <td>110.3</td>\n",
       "      <td>44</td>\n",
       "      <td>20220227</td>\n",
       "      <td>AutoClub</td>\n",
       "      <td>1</td>\n",
       "      <td>Penske</td>\n",
       "      <td>Ford</td>\n",
       "      <td>0</td>\n",
       "      <td></td>\n",
       "      <td>NaN</td>\n",
       "      <td>0.330</td>\n",
       "    </tr>\n",
       "  </tbody>\n",
       "</table>\n",
       "</div>"
      ],
      "text/plain": [
       "   Car         Driver  StartPos  MidRace  CloserPos  FinishPos  HighPos  \\\n",
       "0    5    Kyle Larson        13        3          2          1        1   \n",
       "1    3  Austin Dillon        16       12          3          2        2   \n",
       "2   43     Erik Jones         2        7          6          3        1   \n",
       "3   99  Daniel Suarez        15       26          4          4        1   \n",
       "4   22    Joey Logano         7        4          1          5        1   \n",
       "\n",
       "   LowPos  AvgPos  PassDiff  GreenPass  GreenPassed  QualityPasses  \\\n",
       "0      25     7.1        24         83           59             63   \n",
       "1      31    15.6       -22         97          119             52   \n",
       "2      12     4.3        13         72           59             64   \n",
       "3      31    14.5        -3         96           99             54   \n",
       "4      20     5.4        32         87           55             66   \n",
       "\n",
       "   PercentQualityPasses  NumFastestLaps  LapsTop15  PercentLapsTop15  LapsLed  \\\n",
       "0                 75.90              16        183              91.5       28   \n",
       "1                 53.61               3        118              59.0        0   \n",
       "2                 88.89              23        200             100.0       18   \n",
       "3                 56.25               0        115              57.5        0   \n",
       "4                 75.86               5        198              99.0       14   \n",
       "\n",
       "   PercentLapsLed  TotalLaps  DriverRating  Pts      Date      Race  \\\n",
       "0            14.0        200         116.3   52  20220227  AutoClub   \n",
       "1             0.0        200          82.9   35  20220227  AutoClub   \n",
       "2             9.0        200         122.7   52  20220227  AutoClub   \n",
       "3             0.0        200          86.2   33  20220227  AutoClub   \n",
       "4             7.0        200         110.3   44  20220227  AutoClub   \n",
       "\n",
       "   Points Eligible        Team   Make  Race # Track Track Type  \\\n",
       "0                1    Hendrick  Chevy       0              NaN   \n",
       "1                1         RCR  Chevy       0              NaN   \n",
       "2                1        PGMS  Chevy       0              NaN   \n",
       "3                1  Trackhouse  Chevy       0              NaN   \n",
       "4                1      Penske   Ford       0              NaN   \n",
       "\n",
       "   Quality Passes Per Lap  \n",
       "0                   0.315  \n",
       "1                   0.260  \n",
       "2                   0.320  \n",
       "3                   0.270  \n",
       "4                   0.330  "
      ]
     },
     "execution_count": 23,
     "metadata": {},
     "output_type": "execute_result"
    }
   ],
   "source": [
    "df.head()"
   ]
  },
  {
   "cell_type": "code",
   "execution_count": 97,
   "metadata": {},
   "outputs": [
    {
     "data": {
      "text/html": [
       "<div>\n",
       "<style scoped>\n",
       "    .dataframe tbody tr th:only-of-type {\n",
       "        vertical-align: middle;\n",
       "    }\n",
       "\n",
       "    .dataframe tbody tr th {\n",
       "        vertical-align: top;\n",
       "    }\n",
       "\n",
       "    .dataframe thead th {\n",
       "        text-align: right;\n",
       "    }\n",
       "</style>\n",
       "<table border=\"1\" class=\"dataframe\">\n",
       "  <thead>\n",
       "    <tr style=\"text-align: right;\">\n",
       "      <th></th>\n",
       "      <th>Date</th>\n",
       "      <th>Driver</th>\n",
       "      <th>Team</th>\n",
       "      <th>level_3</th>\n",
       "      <th>FinishPos</th>\n",
       "      <th>Pts</th>\n",
       "    </tr>\n",
       "  </thead>\n",
       "  <tbody>\n",
       "    <tr>\n",
       "      <th>6</th>\n",
       "      <td>20220227</td>\n",
       "      <td>Bubba Wallace</td>\n",
       "      <td>23X1</td>\n",
       "      <td>18</td>\n",
       "      <td>19.0</td>\n",
       "      <td>18.0</td>\n",
       "    </tr>\n",
       "    <tr>\n",
       "      <th>23</th>\n",
       "      <td>20220227</td>\n",
       "      <td>Kurt Busch</td>\n",
       "      <td>23X1</td>\n",
       "      <td>7</td>\n",
       "      <td>8.0</td>\n",
       "      <td>29.0</td>\n",
       "    </tr>\n",
       "    <tr>\n",
       "      <th>26</th>\n",
       "      <td>20220227</td>\n",
       "      <td>Michael McDowell</td>\n",
       "      <td>FRM</td>\n",
       "      <td>30</td>\n",
       "      <td>31.0</td>\n",
       "      <td>6.0</td>\n",
       "    </tr>\n",
       "    <tr>\n",
       "      <th>29</th>\n",
       "      <td>20220227</td>\n",
       "      <td>Todd Gilliland</td>\n",
       "      <td>FRM</td>\n",
       "      <td>19</td>\n",
       "      <td>20.0</td>\n",
       "      <td>17.0</td>\n",
       "    </tr>\n",
       "    <tr>\n",
       "      <th>0</th>\n",
       "      <td>20220227</td>\n",
       "      <td>Alex Bowman</td>\n",
       "      <td>Hendrick</td>\n",
       "      <td>24</td>\n",
       "      <td>25.0</td>\n",
       "      <td>17.0</td>\n",
       "    </tr>\n",
       "    <tr>\n",
       "      <th>...</th>\n",
       "      <td>...</td>\n",
       "      <td>...</td>\n",
       "      <td>...</td>\n",
       "      <td>...</td>\n",
       "      <td>...</td>\n",
       "      <td>...</td>\n",
       "    </tr>\n",
       "    <tr>\n",
       "      <th>304</th>\n",
       "      <td>20220502</td>\n",
       "      <td>Cole Custer</td>\n",
       "      <td>SHR</td>\n",
       "      <td>347</td>\n",
       "      <td>15.0</td>\n",
       "      <td>22.0</td>\n",
       "    </tr>\n",
       "    <tr>\n",
       "      <th>311</th>\n",
       "      <td>20220502</td>\n",
       "      <td>Kevin Harvick</td>\n",
       "      <td>SHR</td>\n",
       "      <td>341</td>\n",
       "      <td>9.0</td>\n",
       "      <td>28.0</td>\n",
       "    </tr>\n",
       "    <tr>\n",
       "      <th>309</th>\n",
       "      <td>20220502</td>\n",
       "      <td>Josh Bilicki</td>\n",
       "      <td>Spire</td>\n",
       "      <td>364</td>\n",
       "      <td>32.0</td>\n",
       "      <td>0.0</td>\n",
       "    </tr>\n",
       "    <tr>\n",
       "      <th>316</th>\n",
       "      <td>20220502</td>\n",
       "      <td>Ross Chastain</td>\n",
       "      <td>Trackhouse</td>\n",
       "      <td>335</td>\n",
       "      <td>3.0</td>\n",
       "      <td>46.0</td>\n",
       "    </tr>\n",
       "    <tr>\n",
       "      <th>307</th>\n",
       "      <td>20220502</td>\n",
       "      <td>Harrison Burton</td>\n",
       "      <td>WBR</td>\n",
       "      <td>356</td>\n",
       "      <td>24.0</td>\n",
       "      <td>16.0</td>\n",
       "    </tr>\n",
       "  </tbody>\n",
       "</table>\n",
       "<p>323 rows × 6 columns</p>\n",
       "</div>"
      ],
      "text/plain": [
       "         Date            Driver        Team  level_3  FinishPos   Pts\n",
       "6    20220227     Bubba Wallace        23X1       18       19.0  18.0\n",
       "23   20220227        Kurt Busch        23X1        7        8.0  29.0\n",
       "26   20220227  Michael McDowell         FRM       30       31.0   6.0\n",
       "29   20220227    Todd Gilliland         FRM       19       20.0  17.0\n",
       "0    20220227       Alex Bowman    Hendrick       24       25.0  17.0\n",
       "..        ...               ...         ...      ...        ...   ...\n",
       "304  20220502       Cole Custer         SHR      347       15.0  22.0\n",
       "311  20220502     Kevin Harvick         SHR      341        9.0  28.0\n",
       "309  20220502      Josh Bilicki       Spire      364       32.0   0.0\n",
       "316  20220502     Ross Chastain  Trackhouse      335        3.0  46.0\n",
       "307  20220502   Harrison Burton         WBR      356       24.0  16.0\n",
       "\n",
       "[323 rows x 6 columns]"
      ]
     },
     "execution_count": 97,
     "metadata": {},
     "output_type": "execute_result"
    }
   ],
   "source": [
    "df_rolling=df.groupby(['Date','Driver','Team'])[['FinishPos','Pts']].expanding().mean().reset_index()\n",
    "df_rolling=df_rolling.sort_values(by=['Date','Team'])\n",
    "df_rolling"
   ]
  },
  {
   "cell_type": "code",
   "execution_count": 103,
   "metadata": {},
   "outputs": [
    {
     "data": {
      "application/vnd.plotly.v1+json": {
       "config": {
        "plotlyServerURL": "https://plot.ly"
       },
       "data": [
        {
         "hovertemplate": "Race=AutoClub<br>Driver=%{x}<br>FinishPos=%{y}<extra></extra>",
         "legendgroup": "AutoClub",
         "marker": {
          "color": "#636efa",
          "symbol": "circle"
         },
         "mode": "markers",
         "name": "AutoClub",
         "orientation": "v",
         "showlegend": true,
         "type": "scatter",
         "x": [
          "Kyle Larson",
          "Austin Dillon",
          "Erik Jones",
          "Daniel Suarez",
          "Joey Logano",
          "Aric Almirola",
          "Kevin Harvick",
          "Kurt Busch",
          "Daniel Hemric",
          "Ricky Stenhouse Jr",
          "Cole Custer",
          "Austin Cindric",
          "Martin Truex Jr",
          "Kyle Busch",
          "Denny Hamlin",
          "Chase Briscoe",
          "Ty Dillon",
          "Ryan Blaney",
          "Bubba Wallace",
          "Todd Gilliland",
          "Garrett Smithley",
          "BJ McLeod",
          "Justin Haley",
          "Tyler Reddick",
          "Alex Bowman",
          "Chase Elliott",
          "Brad Keselowski",
          "Corey Lajoie",
          "Ross Chastain",
          "Josh Bilicki",
          "Michael McDowell",
          "Cody Ware",
          "Harrison Burton",
          "William Byron",
          "Chris Buescher",
          "Christopher Bell"
         ],
         "xaxis": "x",
         "y": [
          1,
          2,
          3,
          4,
          5,
          6,
          7,
          8,
          9,
          10,
          11,
          12,
          13,
          14,
          15,
          16,
          17,
          18,
          19,
          20,
          21,
          22,
          23,
          24,
          25,
          26,
          27,
          28,
          29,
          30,
          31,
          32,
          33,
          34,
          35,
          36
         ],
         "yaxis": "y"
        },
        {
         "hovertemplate": "Race=LasVegas<br>Driver=%{x}<br>FinishPos=%{y}<extra></extra>",
         "legendgroup": "LasVegas",
         "marker": {
          "color": "#EF553B",
          "symbol": "circle"
         },
         "mode": "markers",
         "name": "LasVegas",
         "orientation": "v",
         "showlegend": true,
         "type": "scatter",
         "x": [
          "Alex Bowman",
          "Kyle Larson",
          "Ross Chastain",
          "Kyle Busch",
          "William Byron",
          "Aric Almirola",
          "Tyler Reddick",
          "Martin Truex Jr",
          "Chase Elliott",
          "Christopher Bell",
          "Austin Dillon",
          "Kevin Harvick",
          "Kurt Busch",
          "Joey Logano",
          "Corey Lajoie",
          "Harrison Burton",
          "Justin Haley",
          "Chris Buescher",
          "Austin Cindric",
          "Ty Dillon",
          "Ricky Stenhouse Jr",
          "Daniel Hemric",
          "Todd Gilliland",
          "Brad Keselowski",
          "Bubba Wallace",
          "Cody Ware",
          "Michael McDowell",
          "BJ McLeod",
          "Josh Bilicki",
          "Garrett Smithley",
          "Erik Jones",
          "Denny Hamlin",
          "Cole Custer",
          "Greg Biffle",
          "Chase Briscoe",
          "Ryan Blaney",
          "Daniel Suárez"
         ],
         "xaxis": "x",
         "y": [
          1,
          2,
          3,
          4,
          5,
          6,
          7,
          8,
          9,
          10,
          11,
          12,
          13,
          14,
          15,
          16,
          17,
          18,
          19,
          20,
          21,
          22,
          23,
          24,
          25,
          26,
          27,
          28,
          29,
          30,
          31,
          32,
          33,
          34,
          35,
          36,
          37
         ],
         "yaxis": "y"
        },
        {
         "hovertemplate": "Race=Phoenix<br>Driver=%{x}<br>FinishPos=%{y}<extra></extra>",
         "legendgroup": "Phoenix",
         "marker": {
          "color": "#00cc96",
          "symbol": "circle"
         },
         "mode": "markers",
         "name": "Phoenix",
         "orientation": "v",
         "showlegend": true,
         "type": "scatter",
         "x": [
          "Chase Briscoe",
          "Ross Chastain",
          "Tyler Reddick",
          "Ryan Blaney",
          "Kurt Busch",
          "Kevin Harvick",
          "Kyle Busch",
          "Joey Logano",
          "Daniel Suárez",
          "Chris Buescher",
          "Chase Elliott",
          "Aric Almirola",
          "Denny Hamlin",
          "Alex Bowman",
          "Ty Dillon",
          "Cole Custer",
          "Justin Haley",
          "William Byron",
          "Todd Gilliland",
          "AJ Allmendinger",
          "Austin Dillon",
          "Bubba Wallace",
          "Brad Keselowski",
          "Austin Cindric",
          "Erik Jones",
          "Christopher Bell",
          "Michael McDowell",
          "Ricky Stenhouse Jr",
          "Harrison Burton",
          "Landon Cassill",
          "Cody Ware",
          "Garrett Smithley",
          "BJ McLeod",
          "Kyle Larson",
          "Martin Truex Jr",
          "Corey Lajoie"
         ],
         "xaxis": "x",
         "y": [
          1,
          2,
          3,
          4,
          5,
          6,
          7,
          8,
          9,
          10,
          11,
          12,
          13,
          14,
          15,
          16,
          17,
          18,
          19,
          20,
          21,
          22,
          23,
          24,
          25,
          26,
          27,
          28,
          29,
          30,
          31,
          32,
          33,
          34,
          35,
          36
         ],
         "yaxis": "y"
        },
        {
         "hovertemplate": "Race=Atlanta<br>Driver=%{x}<br>FinishPos=%{y}<extra></extra>",
         "legendgroup": "Atlanta",
         "marker": {
          "color": "#ab63fa",
          "symbol": "circle"
         },
         "mode": "markers",
         "name": "Atlanta",
         "orientation": "v",
         "showlegend": true,
         "type": "scatter",
         "x": [
          "William Byron",
          "Ross Chastain",
          "Kurt Busch",
          "Daniel Suárez",
          "Corey Lajoie",
          "Chase Elliott",
          "Chris Buescher",
          "Martin Truex Jr",
          "Joey Logano",
          "Alex Bowman",
          "Justin Haley",
          "Brad Keselowski",
          "Bubba Wallace",
          "Erik Jones",
          "Chase Briscoe",
          "Josh Bilicki",
          "Ryan Blaney",
          "David Ragan",
          "BJ McLeod",
          "Greg Biffle",
          "Kevin Harvick",
          "Aric Almirola",
          "Christopher Bell",
          "Michael McDowell",
          "Harrison Burton",
          "Cody Ware",
          "Todd Gilliland",
          "Tyler Reddick",
          "Denny Hamlin",
          "Kyle Larson",
          "Ricky Stenhouse Jr",
          "Austin Cindric",
          "Kyle Busch",
          "Cole Custer",
          "Austin Dillon",
          "Ty Dillon",
          "Noah Gragson"
         ],
         "xaxis": "x",
         "y": [
          1,
          2,
          3,
          4,
          5,
          6,
          7,
          8,
          9,
          10,
          11,
          12,
          13,
          14,
          15,
          16,
          17,
          18,
          19,
          20,
          21,
          22,
          23,
          24,
          25,
          26,
          27,
          28,
          29,
          30,
          31,
          32,
          33,
          34,
          35,
          36,
          37
         ],
         "yaxis": "y"
        },
        {
         "hovertemplate": "Race=COTA<br>Driver=%{x}<br>FinishPos=%{y}<extra></extra>",
         "legendgroup": "COTA",
         "marker": {
          "color": "#FFA15A",
          "symbol": "circle"
         },
         "mode": "markers",
         "name": "COTA",
         "orientation": "v",
         "showlegend": true,
         "type": "scatter",
         "x": [
          "Ross Chastain",
          "Alex Bowman",
          "Christopher Bell",
          "Chase Elliott",
          "Tyler Reddick",
          "Ryan Blaney",
          "Martin Truex Jr",
          "Austin Cindric",
          "Erik Jones",
          "Austin Dillon",
          "Kevin Harvick",
          "William Byron",
          "Michael McDowell",
          "Brad Keselowski",
          "Justin Haley",
          "Todd Gilliland",
          "Harrison Burton",
          "Denny Hamlin",
          "Aric Almirola",
          "Ty Dillon",
          "Chris Buescher",
          "Josh Bilicki",
          "Cole Custer",
          "Daniel Suárez",
          "Kaz Grala",
          "Boris Said",
          "Cody Ware",
          "Kyle Busch",
          "Kyle Larson",
          "Chase Briscoe",
          "Joey Logano",
          "Kurt Busch",
          "AJ Allmendinger",
          "Loris Hezemans",
          "Joey Hand",
          "Corey Lajoie",
          "Ricky Stenhouse Jr",
          "Bubba Wallace",
          "Andy Lally"
         ],
         "xaxis": "x",
         "y": [
          1,
          2,
          3,
          4,
          5,
          6,
          7,
          8,
          9,
          10,
          11,
          12,
          13,
          14,
          15,
          16,
          17,
          18,
          19,
          20,
          21,
          22,
          23,
          24,
          25,
          26,
          27,
          28,
          29,
          30,
          31,
          32,
          33,
          34,
          35,
          36,
          37,
          38,
          39
         ],
         "yaxis": "y"
        },
        {
         "hovertemplate": "Race=Richmond<br>Driver=%{x}<br>FinishPos=%{y}<extra></extra>",
         "legendgroup": "Richmond",
         "marker": {
          "color": "#19d3f3",
          "symbol": "circle"
         },
         "mode": "markers",
         "name": "Richmond",
         "orientation": "v",
         "showlegend": true,
         "type": "scatter",
         "x": [
          "Denny Hamlin",
          "Kevin Harvick",
          "William Byron",
          "Martin Truex Jr",
          "Kyle Larson",
          "Christopher Bell",
          "Ryan Blaney",
          "Alex Bowman",
          "Kyle Busch",
          "Austin Dillon",
          "Chase Briscoe",
          "Tyler Reddick",
          "Brad Keselowski",
          "Chase Elliott",
          "Chris Buescher",
          "Daniel Suárez",
          "Joey Logano",
          "Harrison Burton",
          "Ross Chastain",
          "Austin Cindric",
          "Aric Almirola",
          "Cole Custer",
          "Erik Jones",
          "Ty Dillon",
          "Todd Gilliland",
          "Bubba Wallace",
          "AJ Allmendinger",
          "Ricky Stenhouse Jr",
          "Justin Haley",
          "Michael McDowell",
          "Corey Lajoie",
          "Landon Cassill",
          "JJ Yeley",
          "BJ McLeod",
          "Kurt Busch",
          "Cody Ware",
          "Greg Biffle"
         ],
         "xaxis": "x",
         "y": [
          1,
          2,
          3,
          4,
          5,
          6,
          7,
          8,
          9,
          10,
          11,
          12,
          13,
          14,
          15,
          16,
          17,
          18,
          19,
          20,
          21,
          22,
          23,
          24,
          25,
          26,
          27,
          28,
          29,
          30,
          31,
          32,
          33,
          34,
          35,
          36,
          37
         ],
         "yaxis": "y"
        },
        {
         "hovertemplate": "Race=MartinsvilleSpeedway<br>Driver=%{x}<br>FinishPos=%{y}<extra></extra>",
         "legendgroup": "MartinsvilleSpeedway",
         "marker": {
          "color": "#FF6692",
          "symbol": "circle"
         },
         "mode": "markers",
         "name": "MartinsvilleSpeedway",
         "orientation": "v",
         "showlegend": true,
         "type": "scatter",
         "x": [
          "William Byron",
          "Joey Logano",
          "Austin Dillon",
          "Ryan Blaney",
          "Ross Chastain",
          "Kurt Busch",
          "Kyle Busch",
          "Aric Almirola",
          "Chase Briscoe",
          "Chase Elliott",
          "Austin Cindric",
          "Alex Bowman",
          "Erik Jones",
          "Kevin Harvick",
          "Chris Buescher",
          "Bubba Wallace",
          "Brad Keselowski",
          "Tyler Reddick",
          "Kyle Larson",
          "Christopher Bell",
          "Cole Custer",
          "Martin Truex Jr",
          "Ty Dillon",
          "AJ Allmendinger",
          "Michael McDowell",
          "Harrison Burton",
          "Ricky Stenhouse Jr",
          "Denny Hamlin",
          "Daniel Suárez",
          "Todd Gilliland",
          "Justin Haley",
          "Corey Lajoie",
          "Cody Ware",
          "JJ Yeley",
          "Josh Bilicki",
          "BJ McLeod"
         ],
         "xaxis": "x",
         "y": [
          1,
          2,
          3,
          4,
          5,
          6,
          7,
          8,
          9,
          10,
          11,
          12,
          13,
          14,
          15,
          16,
          17,
          18,
          19,
          20,
          21,
          22,
          23,
          24,
          25,
          26,
          27,
          28,
          29,
          30,
          31,
          32,
          33,
          34,
          35,
          36
         ],
         "yaxis": "y"
        },
        {
         "hovertemplate": "Race=BristolMotorSpeedwayDirt<br>Driver=%{x}<br>FinishPos=%{y}<extra></extra>",
         "legendgroup": "BristolMotorSpeedwayDirt",
         "marker": {
          "color": "#B6E880",
          "symbol": "circle"
         },
         "mode": "markers",
         "name": "BristolMotorSpeedwayDirt",
         "orientation": "v",
         "showlegend": true,
         "type": "scatter",
         "x": [
          "Kyle Busch",
          "Tyler Reddick",
          "Joey Logano",
          "Kyle Larson",
          "Ryan Blaney",
          "Alex Bowman",
          "Christopher Bell",
          "Chase Elliott",
          "Michael McDowell",
          "Ty Dillon",
          "Brad Keselowski",
          "Daniel Suárez",
          "Cole Custer",
          "Justin Haley",
          "Chris Buescher",
          "Austin Cindric",
          "Todd Gilliland",
          "William Byron",
          "Corey Lajoie",
          "Harrison Burton",
          "Martin Truex Jr",
          "Chase Briscoe",
          "Aric Almirola",
          "Erik Jones",
          "Josh Williams",
          "Cody Ware",
          "Noah Gragson",
          "Bubba Wallace",
          "Ricky Stenhouse Jr",
          "JJ Yeley",
          "Austin Dillon",
          "Kurt Busch",
          "Ross Chastain",
          "Kevin Harvick",
          "Denny Hamlin",
          "Justin Allgaier"
         ],
         "xaxis": "x",
         "y": [
          1,
          2,
          3,
          4,
          5,
          6,
          7,
          8,
          9,
          10,
          11,
          12,
          13,
          14,
          15,
          16,
          17,
          18,
          19,
          20,
          21,
          22,
          23,
          24,
          25,
          26,
          27,
          28,
          29,
          30,
          31,
          32,
          33,
          34,
          35,
          36
         ],
         "yaxis": "y"
        },
        {
         "hovertemplate": "Race=TalladegaSuperspeedway<br>Driver=%{x}<br>FinishPos=%{y}<extra></extra>",
         "legendgroup": "TalladegaSuperspeedway",
         "marker": {
          "color": "#FF97FF",
          "symbol": "circle"
         },
         "mode": "markers",
         "name": "TalladegaSuperspeedway",
         "orientation": "v",
         "showlegend": true,
         "type": "scatter",
         "x": [
          "Ross Chastain",
          "Austin Dillon",
          "Kyle Busch",
          "Kyle Larson",
          "Martin Truex Jr",
          "Erik Jones",
          "Chase Elliott",
          "Michael McDowell",
          "Alex Bowman",
          "Kevin Harvick",
          "Ryan Blaney",
          "Justin Haley",
          "Aric Almirola",
          "Corey Lajoie",
          "William Byron",
          "Kurt Busch",
          "Bubba Wallace",
          "Denny Hamlin",
          "Landon Cassill",
          "Noah Gragson",
          "Austin Cindric",
          "Christopher Bell",
          "Brad Keselowski",
          "David Ragan",
          "JJ Yeley",
          "BJ McLeod",
          "Todd Gilliland",
          "Cody Ware",
          "Cole Custer",
          "Ricky Stenhouse Jr",
          "Daniel Suárez",
          "Joey Logano",
          "Ty Dillon",
          "Harrison Burton",
          "Greg Biffle",
          "Daniel Hemric",
          "Chase Briscoe",
          "Chris Buescher",
          "Tyler Reddick"
         ],
         "xaxis": "x",
         "y": [
          1,
          2,
          3,
          4,
          5,
          6,
          7,
          8,
          9,
          10,
          11,
          12,
          13,
          14,
          15,
          16,
          17,
          18,
          19,
          20,
          21,
          22,
          23,
          24,
          25,
          26,
          27,
          28,
          29,
          30,
          31,
          32,
          33,
          34,
          35,
          36,
          37,
          38,
          39
         ],
         "yaxis": "y"
        },
        {
         "hovertemplate": "Race=DoverMotorSpeedway<br>Driver=%{x}<br>FinishPos=%{y}<extra></extra>",
         "legendgroup": "DoverMotorSpeedway",
         "marker": {
          "color": "#FECB52",
          "symbol": "circle"
         },
         "mode": "markers",
         "name": "DoverMotorSpeedway",
         "orientation": "v",
         "showlegend": true,
         "type": "scatter",
         "x": [
          "Chase Elliott",
          "Ricky Stenhouse Jr",
          "Ross Chastain",
          "Christopher Bell",
          "Alex Bowman",
          "Kyle Larson",
          "Kyle Busch",
          "Chris Buescher",
          "Kevin Harvick",
          "Erik Jones",
          "Justin Haley",
          "Martin Truex Jr",
          "Chase Briscoe",
          "Daniel Suárez",
          "Cole Custer",
          "Bubba Wallace",
          "Michael McDowell",
          "Corey Lajoie",
          "Aric Almirola",
          "Brad Keselowski",
          "Denny Hamlin",
          "William Byron",
          "Austin Dillon",
          "Harrison Burton",
          "Ryan Preece",
          "Ryan Blaney",
          "Ty Dillon",
          "Todd Gilliland",
          "Joey Logano",
          "Tyler Reddick",
          "Kurt Busch",
          "Josh Bilicki",
          "AJ Allmendinger",
          "Cody Ware",
          "BJ McLeod",
          "Austin Cindric"
         ],
         "xaxis": "x",
         "y": [
          1,
          2,
          3,
          4,
          5,
          6,
          7,
          8,
          9,
          10,
          11,
          12,
          13,
          14,
          15,
          16,
          17,
          18,
          19,
          20,
          21,
          22,
          23,
          24,
          25,
          26,
          27,
          28,
          29,
          30,
          31,
          32,
          33,
          34,
          35,
          36
         ],
         "yaxis": "y"
        }
       ],
       "layout": {
        "legend": {
         "title": {
          "text": "Race"
         },
         "tracegroupgap": 0
        },
        "margin": {
         "t": 60
        },
        "template": {
         "data": {
          "bar": [
           {
            "error_x": {
             "color": "#2a3f5f"
            },
            "error_y": {
             "color": "#2a3f5f"
            },
            "marker": {
             "line": {
              "color": "#E5ECF6",
              "width": 0.5
             },
             "pattern": {
              "fillmode": "overlay",
              "size": 10,
              "solidity": 0.2
             }
            },
            "type": "bar"
           }
          ],
          "barpolar": [
           {
            "marker": {
             "line": {
              "color": "#E5ECF6",
              "width": 0.5
             },
             "pattern": {
              "fillmode": "overlay",
              "size": 10,
              "solidity": 0.2
             }
            },
            "type": "barpolar"
           }
          ],
          "carpet": [
           {
            "aaxis": {
             "endlinecolor": "#2a3f5f",
             "gridcolor": "white",
             "linecolor": "white",
             "minorgridcolor": "white",
             "startlinecolor": "#2a3f5f"
            },
            "baxis": {
             "endlinecolor": "#2a3f5f",
             "gridcolor": "white",
             "linecolor": "white",
             "minorgridcolor": "white",
             "startlinecolor": "#2a3f5f"
            },
            "type": "carpet"
           }
          ],
          "choropleth": [
           {
            "colorbar": {
             "outlinewidth": 0,
             "ticks": ""
            },
            "type": "choropleth"
           }
          ],
          "contour": [
           {
            "colorbar": {
             "outlinewidth": 0,
             "ticks": ""
            },
            "colorscale": [
             [
              0,
              "#0d0887"
             ],
             [
              0.1111111111111111,
              "#46039f"
             ],
             [
              0.2222222222222222,
              "#7201a8"
             ],
             [
              0.3333333333333333,
              "#9c179e"
             ],
             [
              0.4444444444444444,
              "#bd3786"
             ],
             [
              0.5555555555555556,
              "#d8576b"
             ],
             [
              0.6666666666666666,
              "#ed7953"
             ],
             [
              0.7777777777777778,
              "#fb9f3a"
             ],
             [
              0.8888888888888888,
              "#fdca26"
             ],
             [
              1,
              "#f0f921"
             ]
            ],
            "type": "contour"
           }
          ],
          "contourcarpet": [
           {
            "colorbar": {
             "outlinewidth": 0,
             "ticks": ""
            },
            "type": "contourcarpet"
           }
          ],
          "heatmap": [
           {
            "colorbar": {
             "outlinewidth": 0,
             "ticks": ""
            },
            "colorscale": [
             [
              0,
              "#0d0887"
             ],
             [
              0.1111111111111111,
              "#46039f"
             ],
             [
              0.2222222222222222,
              "#7201a8"
             ],
             [
              0.3333333333333333,
              "#9c179e"
             ],
             [
              0.4444444444444444,
              "#bd3786"
             ],
             [
              0.5555555555555556,
              "#d8576b"
             ],
             [
              0.6666666666666666,
              "#ed7953"
             ],
             [
              0.7777777777777778,
              "#fb9f3a"
             ],
             [
              0.8888888888888888,
              "#fdca26"
             ],
             [
              1,
              "#f0f921"
             ]
            ],
            "type": "heatmap"
           }
          ],
          "heatmapgl": [
           {
            "colorbar": {
             "outlinewidth": 0,
             "ticks": ""
            },
            "colorscale": [
             [
              0,
              "#0d0887"
             ],
             [
              0.1111111111111111,
              "#46039f"
             ],
             [
              0.2222222222222222,
              "#7201a8"
             ],
             [
              0.3333333333333333,
              "#9c179e"
             ],
             [
              0.4444444444444444,
              "#bd3786"
             ],
             [
              0.5555555555555556,
              "#d8576b"
             ],
             [
              0.6666666666666666,
              "#ed7953"
             ],
             [
              0.7777777777777778,
              "#fb9f3a"
             ],
             [
              0.8888888888888888,
              "#fdca26"
             ],
             [
              1,
              "#f0f921"
             ]
            ],
            "type": "heatmapgl"
           }
          ],
          "histogram": [
           {
            "marker": {
             "pattern": {
              "fillmode": "overlay",
              "size": 10,
              "solidity": 0.2
             }
            },
            "type": "histogram"
           }
          ],
          "histogram2d": [
           {
            "colorbar": {
             "outlinewidth": 0,
             "ticks": ""
            },
            "colorscale": [
             [
              0,
              "#0d0887"
             ],
             [
              0.1111111111111111,
              "#46039f"
             ],
             [
              0.2222222222222222,
              "#7201a8"
             ],
             [
              0.3333333333333333,
              "#9c179e"
             ],
             [
              0.4444444444444444,
              "#bd3786"
             ],
             [
              0.5555555555555556,
              "#d8576b"
             ],
             [
              0.6666666666666666,
              "#ed7953"
             ],
             [
              0.7777777777777778,
              "#fb9f3a"
             ],
             [
              0.8888888888888888,
              "#fdca26"
             ],
             [
              1,
              "#f0f921"
             ]
            ],
            "type": "histogram2d"
           }
          ],
          "histogram2dcontour": [
           {
            "colorbar": {
             "outlinewidth": 0,
             "ticks": ""
            },
            "colorscale": [
             [
              0,
              "#0d0887"
             ],
             [
              0.1111111111111111,
              "#46039f"
             ],
             [
              0.2222222222222222,
              "#7201a8"
             ],
             [
              0.3333333333333333,
              "#9c179e"
             ],
             [
              0.4444444444444444,
              "#bd3786"
             ],
             [
              0.5555555555555556,
              "#d8576b"
             ],
             [
              0.6666666666666666,
              "#ed7953"
             ],
             [
              0.7777777777777778,
              "#fb9f3a"
             ],
             [
              0.8888888888888888,
              "#fdca26"
             ],
             [
              1,
              "#f0f921"
             ]
            ],
            "type": "histogram2dcontour"
           }
          ],
          "mesh3d": [
           {
            "colorbar": {
             "outlinewidth": 0,
             "ticks": ""
            },
            "type": "mesh3d"
           }
          ],
          "parcoords": [
           {
            "line": {
             "colorbar": {
              "outlinewidth": 0,
              "ticks": ""
             }
            },
            "type": "parcoords"
           }
          ],
          "pie": [
           {
            "automargin": true,
            "type": "pie"
           }
          ],
          "scatter": [
           {
            "fillpattern": {
             "fillmode": "overlay",
             "size": 10,
             "solidity": 0.2
            },
            "type": "scatter"
           }
          ],
          "scatter3d": [
           {
            "line": {
             "colorbar": {
              "outlinewidth": 0,
              "ticks": ""
             }
            },
            "marker": {
             "colorbar": {
              "outlinewidth": 0,
              "ticks": ""
             }
            },
            "type": "scatter3d"
           }
          ],
          "scattercarpet": [
           {
            "marker": {
             "colorbar": {
              "outlinewidth": 0,
              "ticks": ""
             }
            },
            "type": "scattercarpet"
           }
          ],
          "scattergeo": [
           {
            "marker": {
             "colorbar": {
              "outlinewidth": 0,
              "ticks": ""
             }
            },
            "type": "scattergeo"
           }
          ],
          "scattergl": [
           {
            "marker": {
             "colorbar": {
              "outlinewidth": 0,
              "ticks": ""
             }
            },
            "type": "scattergl"
           }
          ],
          "scattermapbox": [
           {
            "marker": {
             "colorbar": {
              "outlinewidth": 0,
              "ticks": ""
             }
            },
            "type": "scattermapbox"
           }
          ],
          "scatterpolar": [
           {
            "marker": {
             "colorbar": {
              "outlinewidth": 0,
              "ticks": ""
             }
            },
            "type": "scatterpolar"
           }
          ],
          "scatterpolargl": [
           {
            "marker": {
             "colorbar": {
              "outlinewidth": 0,
              "ticks": ""
             }
            },
            "type": "scatterpolargl"
           }
          ],
          "scatterternary": [
           {
            "marker": {
             "colorbar": {
              "outlinewidth": 0,
              "ticks": ""
             }
            },
            "type": "scatterternary"
           }
          ],
          "surface": [
           {
            "colorbar": {
             "outlinewidth": 0,
             "ticks": ""
            },
            "colorscale": [
             [
              0,
              "#0d0887"
             ],
             [
              0.1111111111111111,
              "#46039f"
             ],
             [
              0.2222222222222222,
              "#7201a8"
             ],
             [
              0.3333333333333333,
              "#9c179e"
             ],
             [
              0.4444444444444444,
              "#bd3786"
             ],
             [
              0.5555555555555556,
              "#d8576b"
             ],
             [
              0.6666666666666666,
              "#ed7953"
             ],
             [
              0.7777777777777778,
              "#fb9f3a"
             ],
             [
              0.8888888888888888,
              "#fdca26"
             ],
             [
              1,
              "#f0f921"
             ]
            ],
            "type": "surface"
           }
          ],
          "table": [
           {
            "cells": {
             "fill": {
              "color": "#EBF0F8"
             },
             "line": {
              "color": "white"
             }
            },
            "header": {
             "fill": {
              "color": "#C8D4E3"
             },
             "line": {
              "color": "white"
             }
            },
            "type": "table"
           }
          ]
         },
         "layout": {
          "annotationdefaults": {
           "arrowcolor": "#2a3f5f",
           "arrowhead": 0,
           "arrowwidth": 1
          },
          "autotypenumbers": "strict",
          "coloraxis": {
           "colorbar": {
            "outlinewidth": 0,
            "ticks": ""
           }
          },
          "colorscale": {
           "diverging": [
            [
             0,
             "#8e0152"
            ],
            [
             0.1,
             "#c51b7d"
            ],
            [
             0.2,
             "#de77ae"
            ],
            [
             0.3,
             "#f1b6da"
            ],
            [
             0.4,
             "#fde0ef"
            ],
            [
             0.5,
             "#f7f7f7"
            ],
            [
             0.6,
             "#e6f5d0"
            ],
            [
             0.7,
             "#b8e186"
            ],
            [
             0.8,
             "#7fbc41"
            ],
            [
             0.9,
             "#4d9221"
            ],
            [
             1,
             "#276419"
            ]
           ],
           "sequential": [
            [
             0,
             "#0d0887"
            ],
            [
             0.1111111111111111,
             "#46039f"
            ],
            [
             0.2222222222222222,
             "#7201a8"
            ],
            [
             0.3333333333333333,
             "#9c179e"
            ],
            [
             0.4444444444444444,
             "#bd3786"
            ],
            [
             0.5555555555555556,
             "#d8576b"
            ],
            [
             0.6666666666666666,
             "#ed7953"
            ],
            [
             0.7777777777777778,
             "#fb9f3a"
            ],
            [
             0.8888888888888888,
             "#fdca26"
            ],
            [
             1,
             "#f0f921"
            ]
           ],
           "sequentialminus": [
            [
             0,
             "#0d0887"
            ],
            [
             0.1111111111111111,
             "#46039f"
            ],
            [
             0.2222222222222222,
             "#7201a8"
            ],
            [
             0.3333333333333333,
             "#9c179e"
            ],
            [
             0.4444444444444444,
             "#bd3786"
            ],
            [
             0.5555555555555556,
             "#d8576b"
            ],
            [
             0.6666666666666666,
             "#ed7953"
            ],
            [
             0.7777777777777778,
             "#fb9f3a"
            ],
            [
             0.8888888888888888,
             "#fdca26"
            ],
            [
             1,
             "#f0f921"
            ]
           ]
          },
          "colorway": [
           "#636efa",
           "#EF553B",
           "#00cc96",
           "#ab63fa",
           "#FFA15A",
           "#19d3f3",
           "#FF6692",
           "#B6E880",
           "#FF97FF",
           "#FECB52"
          ],
          "font": {
           "color": "#2a3f5f"
          },
          "geo": {
           "bgcolor": "white",
           "lakecolor": "white",
           "landcolor": "#E5ECF6",
           "showlakes": true,
           "showland": true,
           "subunitcolor": "white"
          },
          "hoverlabel": {
           "align": "left"
          },
          "hovermode": "closest",
          "mapbox": {
           "style": "light"
          },
          "paper_bgcolor": "white",
          "plot_bgcolor": "#E5ECF6",
          "polar": {
           "angularaxis": {
            "gridcolor": "white",
            "linecolor": "white",
            "ticks": ""
           },
           "bgcolor": "#E5ECF6",
           "radialaxis": {
            "gridcolor": "white",
            "linecolor": "white",
            "ticks": ""
           }
          },
          "scene": {
           "xaxis": {
            "backgroundcolor": "#E5ECF6",
            "gridcolor": "white",
            "gridwidth": 2,
            "linecolor": "white",
            "showbackground": true,
            "ticks": "",
            "zerolinecolor": "white"
           },
           "yaxis": {
            "backgroundcolor": "#E5ECF6",
            "gridcolor": "white",
            "gridwidth": 2,
            "linecolor": "white",
            "showbackground": true,
            "ticks": "",
            "zerolinecolor": "white"
           },
           "zaxis": {
            "backgroundcolor": "#E5ECF6",
            "gridcolor": "white",
            "gridwidth": 2,
            "linecolor": "white",
            "showbackground": true,
            "ticks": "",
            "zerolinecolor": "white"
           }
          },
          "shapedefaults": {
           "line": {
            "color": "#2a3f5f"
           }
          },
          "ternary": {
           "aaxis": {
            "gridcolor": "white",
            "linecolor": "white",
            "ticks": ""
           },
           "baxis": {
            "gridcolor": "white",
            "linecolor": "white",
            "ticks": ""
           },
           "bgcolor": "#E5ECF6",
           "caxis": {
            "gridcolor": "white",
            "linecolor": "white",
            "ticks": ""
           }
          },
          "title": {
           "x": 0.05
          },
          "xaxis": {
           "automargin": true,
           "gridcolor": "white",
           "linecolor": "white",
           "ticks": "",
           "title": {
            "standoff": 15
           },
           "zerolinecolor": "white",
           "zerolinewidth": 2
          },
          "yaxis": {
           "automargin": true,
           "gridcolor": "white",
           "linecolor": "white",
           "ticks": "",
           "title": {
            "standoff": 15
           },
           "zerolinecolor": "white",
           "zerolinewidth": 2
          }
         }
        },
        "xaxis": {
         "anchor": "y",
         "domain": [
          0,
          1
         ],
         "title": {
          "text": "Driver"
         }
        },
        "yaxis": {
         "anchor": "x",
         "domain": [
          0,
          1
         ],
         "title": {
          "text": "FinishPos"
         }
        }
       }
      }
     },
     "metadata": {},
     "output_type": "display_data"
    }
   ],
   "source": [
    "df\n",
    "px.scatter(df,x='Driver',y='FinishPos',color='Race')"
   ]
  },
  {
   "cell_type": "code",
   "execution_count": null,
   "metadata": {},
   "outputs": [],
   "source": []
  }
 ],
 "metadata": {
  "interpreter": {
   "hash": "49cb93f377a7abe7414b7b0f21fb3017538004a126cf690fb524202736b7fb92"
  },
  "kernelspec": {
   "display_name": "Python 3.8.5 ('base')",
   "language": "python",
   "name": "python3"
  },
  "language_info": {
   "codemirror_mode": {
    "name": "ipython",
    "version": 3
   },
   "file_extension": ".py",
   "mimetype": "text/x-python",
   "name": "python",
   "nbconvert_exporter": "python",
   "pygments_lexer": "ipython3",
   "version": "3.8.5"
  },
  "orig_nbformat": 4
 },
 "nbformat": 4,
 "nbformat_minor": 2
}
