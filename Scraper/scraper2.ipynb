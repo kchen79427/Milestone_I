{
 "cells": [
  {
   "cell_type": "code",
   "metadata": {
    "cell_id": "89dcf800-405f-468e-b27e-918c5478b472",
    "deepnote_cell_type": "code",
    "deepnote_cell_height": 408
   },
   "source": "# to scrap the box score data from nascar statshub\n\nimport pandas as pd\nfrom selenium import webdriver\nfrom selenium.webdriver.common.keys import Keys\n\n# be sure to download this webdriver and put it on a location where you can find the path\n# this is just for selenium to be able to access chrome to actually grab the data.\nPATH=r\"C:\\Program Files (x86)\\chromedriver.exe\"\n\n# url to grab \nurl = r'https://www.nascar.com/stats/2022/1/box-score'\n# a bunch of options to get the webdriver configured so we don't grab a bunch of junk\noptions = webdriver.ChromeOptions()\noptions.add_argument('--headless')\noptions.add_argument('--no-sandbox')\noptions.add_argument('--disable-dev-shm-usage')\n# setting up the selenium instance and grab the data from the url\ndriver=webdriver.Chrome(PATH,options=options)\ndriver.get(url)",
   "outputs": [],
   "execution_count": null
  },
  {
   "cell_type": "code",
   "metadata": {
    "cell_id": "00001-39e98f68-1d76-46b1-85d7-5d8163de4579",
    "deepnote_cell_type": "code",
    "deepnote_cell_height": 156
   },
   "source": "# the html is exactly what it sounds like the html source code\nhtml=driver.page_source\n# belive it or not, pandas read_html does the trick\ndfs=pd.read_html(html)\n# simple horizontal concat\nrichmond_df=pd.concat([dfs[0],dfs[1]],axis=1)",
   "outputs": [],
   "execution_count": null
  },
  {
   "cell_type": "code",
   "metadata": {
    "cell_id": "00002-4503ac6b-9a7b-4b3f-8877-000deb16278c",
    "deepnote_cell_type": "code",
    "deepnote_cell_height": 274,
    "deepnote_output_heights": [
     177
    ]
   },
   "source": "richmond_df.head()",
   "outputs": [
    {
     "data": {
      "text/html": "<div>\n<style scoped>\n    .dataframe tbody tr th:only-of-type {\n        vertical-align: middle;\n    }\n\n    .dataframe tbody tr th {\n        vertical-align: top;\n    }\n\n    .dataframe thead th {\n        text-align: right;\n    }\n</style>\n<table border=\"1\" class=\"dataframe\">\n  <thead>\n    <tr style=\"text-align: right;\">\n      <th></th>\n      <th>Driver</th>\n      <th>WINS</th>\n      <th>AS</th>\n      <th>AMR</th>\n      <th>AF</th>\n      <th>AP</th>\n      <th>PD</th>\n      <th>GP</th>\n      <th>GPD</th>\n      <th>QP</th>\n      <th>%QP</th>\n      <th>#FL</th>\n      <th>LTOP15</th>\n      <th>%LTOP15</th>\n      <th>LL</th>\n      <th>%LL</th>\n      <th>TL</th>\n      <th>DR</th>\n      <th>PTS</th>\n    </tr>\n  </thead>\n  <tbody>\n    <tr>\n      <th>0</th>\n      <td>Ryan Blaney</td>\n      <td>0</td>\n      <td>4.1</td>\n      <td>8.1</td>\n      <td>13.1</td>\n      <td>9.2</td>\n      <td>115</td>\n      <td>784</td>\n      <td>669</td>\n      <td>574</td>\n      <td>73.2</td>\n      <td>110</td>\n      <td>1475</td>\n      <td>91.6</td>\n      <td>334</td>\n      <td>20.7</td>\n      <td>1611</td>\n      <td>106.6</td>\n      <td>241</td>\n    </tr>\n    <tr>\n      <th>1</th>\n      <td>Chase Elliott</td>\n      <td>0</td>\n      <td>10.9</td>\n      <td>10.4</td>\n      <td>11.4</td>\n      <td>11.0</td>\n      <td>20</td>\n      <td>899</td>\n      <td>879</td>\n      <td>627</td>\n      <td>69.7</td>\n      <td>68</td>\n      <td>1383</td>\n      <td>77.7</td>\n      <td>91</td>\n      <td>5.1</td>\n      <td>1779</td>\n      <td>93.8</td>\n      <td>241</td>\n    </tr>\n    <tr>\n      <th>2</th>\n      <td>Martin Truex Jr.</td>\n      <td>0</td>\n      <td>15.3</td>\n      <td>13.1</td>\n      <td>12.6</td>\n      <td>12.0</td>\n      <td>25</td>\n      <td>906</td>\n      <td>881</td>\n      <td>600</td>\n      <td>66.2</td>\n      <td>80</td>\n      <td>1298</td>\n      <td>76.9</td>\n      <td>97</td>\n      <td>5.7</td>\n      <td>1688</td>\n      <td>91.1</td>\n      <td>222</td>\n    </tr>\n    <tr>\n      <th>3</th>\n      <td>William Byron</td>\n      <td>1</td>\n      <td>12.6</td>\n      <td>13.7</td>\n      <td>15.9</td>\n      <td>11.7</td>\n      <td>87</td>\n      <td>672</td>\n      <td>585</td>\n      <td>429</td>\n      <td>63.8</td>\n      <td>81</td>\n      <td>1466</td>\n      <td>92.0</td>\n      <td>270</td>\n      <td>16.9</td>\n      <td>1593</td>\n      <td>97.8</td>\n      <td>218</td>\n    </tr>\n    <tr>\n      <th>4</th>\n      <td>Joey Logano</td>\n      <td>0</td>\n      <td>9.0</td>\n      <td>13.3</td>\n      <td>15.0</td>\n      <td>11.6</td>\n      <td>85</td>\n      <td>994</td>\n      <td>909</td>\n      <td>637</td>\n      <td>64.1</td>\n      <td>31</td>\n      <td>1456</td>\n      <td>81.9</td>\n      <td>34</td>\n      <td>1.9</td>\n      <td>1777</td>\n      <td>90.7</td>\n      <td>215</td>\n    </tr>\n  </tbody>\n</table>\n</div>",
      "text/plain": "             Driver  WINS    AS   AMR    AF    AP   PD   GP  GPD   QP   %QP  \\\n0       Ryan Blaney     0   4.1   8.1  13.1   9.2  115  784  669  574  73.2   \n1     Chase Elliott     0  10.9  10.4  11.4  11.0   20  899  879  627  69.7   \n2  Martin Truex Jr.     0  15.3  13.1  12.6  12.0   25  906  881  600  66.2   \n3     William Byron     1  12.6  13.7  15.9  11.7   87  672  585  429  63.8   \n4       Joey Logano     0   9.0  13.3  15.0  11.6   85  994  909  637  64.1   \n\n   #FL  LTOP15  %LTOP15   LL   %LL    TL     DR  PTS  \n0  110    1475     91.6  334  20.7  1611  106.6  241  \n1   68    1383     77.7   91   5.1  1779   93.8  241  \n2   80    1298     76.9   97   5.7  1688   91.1  222  \n3   81    1466     92.0  270  16.9  1593   97.8  218  \n4   31    1456     81.9   34   1.9  1777   90.7  215  "
     },
     "execution_count": 95,
     "metadata": {},
     "output_type": "execute_result"
    }
   ],
   "execution_count": null
  },
  {
   "cell_type": "code",
   "metadata": {
    "cell_id": "00003-7227c2d4-9408-42d2-b933-435c4aa45657",
    "deepnote_cell_type": "code",
    "deepnote_cell_height": 84
   },
   "source": "# outputing the data\nCOTA_df.to_excel(r'C:\\Users\\kchen\\OneDrive\\MADS\\SIADS591_592_Milestone1\\Milestone_I\\data\\Richmond_CUP.xlsx',index=False)",
   "outputs": [],
   "execution_count": null
  },
  {
   "cell_type": "code",
   "metadata": {
    "cell_id": "00004-15c35481-bea7-4a56-a259-1d622cb5ff93",
    "deepnote_cell_type": "code",
    "deepnote_cell_height": 66
   },
   "source": "",
   "execution_count": null,
   "outputs": []
  },
  {
   "cell_type": "markdown",
   "source": "<a style='text-decoration:none;line-height:16px;display:flex;color:#5B5B62;padding:10px;justify-content:end;' href='https://deepnote.com?utm_source=created-in-deepnote-cell&projectId=9ef4eb23-f38f-47e8-bfb0-51d8616b0dee' target=\"_blank\">\n<img alt='Created in deepnote.com' style='display:inline;max-height:16px;margin:0px;margin-right:7.5px;' src='data:image/svg+xml;base64,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' > </img>\nCreated in <span style='font-weight:600;margin-left:4px;'>Deepnote</span></a>",
   "metadata": {
    "tags": [],
    "created_in_deepnote_cell": true,
    "deepnote_cell_type": "markdown"
   }
  }
 ],
 "nbformat": 4,
 "nbformat_minor": 2,
 "metadata": {
  "interpreter": {
   "hash": "7b4b4feff2f24a0f0a34464dbe537a36fda679851528fb8735cb41fa49dffb2d"
  },
  "kernelspec": {
   "display_name": "Python 3.8.5 ('base')",
   "language": "python",
   "name": "python3"
  },
  "language_info": {
   "codemirror_mode": {
    "name": "ipython",
    "version": 3
   },
   "file_extension": ".py",
   "mimetype": "text/x-python",
   "name": "python",
   "nbconvert_exporter": "python",
   "pygments_lexer": "ipython3",
   "version": "3.8.5"
  },
  "orig_nbformat": 4,
  "deepnote_notebook_id": "628f5e60-921e-407d-9a70-d337171a0b96",
  "deepnote": {},
  "deepnote_execution_queue": []
 }
}