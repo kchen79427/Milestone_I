{
 "cells": [
  {
   "cell_type": "code",
   "execution_count": 1,
   "metadata": {},
   "outputs": [],
   "source": [
    "# scrap PDF loop data from toby christie's site\n",
    "# https://tobychristie.com/loop-data-2021-nascar-cup-series/\"\n",
    "# this is v2 of the scraper because there is a different pattern of PDF that tabula could output\n",
    "# this works for most of the PDFs from the 2021 and 2022 cup series data\n",
    "\n",
    "# skip to the last cell and execute, \n",
    "# if you get an error then go through each cell to see what is going on\n",
    "# likely issues with the merged columns.\n",
    "\n",
    "# tabula is the library that reads in searchable PDFs\n",
    "import tabula\n",
    "import pandas as pd\n",
    "import re\n",
    "from tabula import read_pdf\n",
    "HEADERS_1=[\"Car\",\"Driver\",\"StartPos\",\"MidRace\",\"CloserPos\",\"FinishPos\",\"HighPos\",\"LowPos\", \"NumFastestLaps\", \"LapsLed\", \"AvgPos\",\"PassDiff\",\"GreenPass\",\"GreenPassed\",\"QualityPasses\",\"PercentQualityPasses\", \"LapsTop15\",\"PercentLapsTop15\", \"PercentLapsLed\", \"TotalLaps\",\"DriverRating\",\"Pts\"]\n",
    "HEADERS_2=[\"Car\",\"Driver\",\"StartPos\",\"MidRace\",\"CloserPos\",\"FinishPos\",\"HighPos\",\"LowPos\",\"AvgPos\",\"PassDiff\",\"GreenPass\",\"GreenPassed\",\"QualityPasses\",\"PercentQualityPasses\",\"NumFastestLaps\",\"LapsTop15\",\"PercentLapsTop15\",\"LapsLed\",\"PercentLapsLed\",\"TotalLaps\",\"DriverRating\",\"Pts\"]\n",
    "data_location=r\".\\SIADS591_592_Milestone1\\Milestone_I\\Milestone_I\\data\\loop_TobyChristie\\pdf\\2022\\LD12212_POST_POSTBOOK.pdf\"\n",
    "df=read_pdf(data_location,pages='1')\n"
   ]
  },
  {
   "cell_type": "code",
   "execution_count": 2,
   "metadata": {},
   "outputs": [],
   "source": [
    "# preview uncleaned data\n",
    "# df[0].head(10)"
   ]
  },
  {
   "cell_type": "code",
   "execution_count": 119,
   "metadata": {},
   "outputs": [],
   "source": [
    "# extract the race date and race track names for csv output\n",
    "fname_track=df[0]['Box Score'][0].replace(\" \",\"\")\n",
    "date_text=df[0]['Box Score'][2]\n",
    "pattern=r'(\\d*)/(\\d*)/(\\d*)'\n",
    "fname_year=re.search(pattern,date_text).group(3)\n",
    "fname_day=re.search(pattern,date_text).group(2).zfill(2)\n",
    "fname_month=re.search(pattern,date_text).group(1).zfill(2)"
   ]
  },
  {
   "cell_type": "code",
   "execution_count": 59,
   "metadata": {},
   "outputs": [
    {
     "name": "stderr",
     "output_type": "stream",
     "text": [
      "<ipython-input-59-c9aad1a1a6b7>:3: SettingWithCopyWarning: \n",
      "A value is trying to be set on a copy of a slice from a DataFrame.\n",
      "Try using .loc[row_indexer,col_indexer] = value instead\n",
      "\n",
      "See the caveats in the documentation: https://pandas.pydata.org/pandas-docs/stable/user_guide/indexing.html#returning-a-view-versus-a-copy\n",
      "  df2['Box Score']=df2['Box Score'].str.split()\n",
      "<ipython-input-59-c9aad1a1a6b7>:4: SettingWithCopyWarning: \n",
      "A value is trying to be set on a copy of a slice from a DataFrame.\n",
      "Try using .loc[row_indexer,col_indexer] = value instead\n",
      "\n",
      "See the caveats in the documentation: https://pandas.pydata.org/pandas-docs/stable/user_guide/indexing.html#returning-a-view-versus-a-copy\n",
      "  df2['Unnamed: 9']=df2['Unnamed: 9'].str.split()\n",
      "<ipython-input-59-c9aad1a1a6b7>:5: SettingWithCopyWarning: \n",
      "A value is trying to be set on a copy of a slice from a DataFrame.\n",
      "Try using .loc[row_indexer,col_indexer] = value instead\n",
      "\n",
      "See the caveats in the documentation: https://pandas.pydata.org/pandas-docs/stable/user_guide/indexing.html#returning-a-view-versus-a-copy\n",
      "  df2['Unnamed: 11']=df2['Unnamed: 11'].str.split()\n"
     ]
    }
   ],
   "source": [
    "# dataframe cleanup steps:\n",
    "# 1. removed extra header information\n",
    "df2=df[0].iloc[6:]\n",
    "# 2. handling merged columns \n",
    "df2['Box Score']=df2['Box Score'].str.split()\n",
    "df2['Unnamed: 9']=df2['Unnamed: 9'].str.split()\n",
    "df2['Unnamed: 11']=df2['Unnamed: 11'].str.split()"
   ]
  },
  {
   "cell_type": "code",
   "execution_count": 3,
   "metadata": {},
   "outputs": [],
   "source": [
    "# df2.head()"
   ]
  },
  {
   "cell_type": "code",
   "execution_count": 4,
   "metadata": {},
   "outputs": [
    {
     "ename": "NameError",
     "evalue": "name 'pd' is not defined",
     "output_type": "error",
     "traceback": [
      "\u001b[1;31m---------------------------------------------------------------------------\u001b[0m",
      "\u001b[1;31mNameError\u001b[0m                                 Traceback (most recent call last)",
      "\u001b[1;32m<ipython-input-4-d7226998eb62>\u001b[0m in \u001b[0;36m<module>\u001b[1;34m\u001b[0m\n\u001b[0;32m      1\u001b[0m \u001b[1;31m#split merged columns into the respected columns, this information can be gathered from the PDF.\u001b[0m\u001b[1;33m\u001b[0m\u001b[1;33m\u001b[0m\u001b[1;33m\u001b[0m\u001b[0m\n\u001b[1;32m----> 2\u001b[1;33m \u001b[0mdf3\u001b[0m\u001b[1;33m=\u001b[0m\u001b[0mpd\u001b[0m\u001b[1;33m.\u001b[0m\u001b[0mDataFrame\u001b[0m\u001b[1;33m(\u001b[0m\u001b[0mdf2\u001b[0m\u001b[1;33m[\u001b[0m\u001b[1;34m'Box Score'\u001b[0m\u001b[1;33m]\u001b[0m\u001b[1;33m.\u001b[0m\u001b[0mtolist\u001b[0m\u001b[1;33m(\u001b[0m\u001b[1;33m)\u001b[0m\u001b[1;33m,\u001b[0m \u001b[0mcolumns\u001b[0m\u001b[1;33m=\u001b[0m\u001b[1;33m[\u001b[0m\u001b[1;34m\"AvgPos\"\u001b[0m\u001b[1;33m,\u001b[0m\u001b[1;34m\"PassDiff\"\u001b[0m\u001b[1;33m,\u001b[0m\u001b[1;34m\"GreenPass\"\u001b[0m\u001b[1;33m,\u001b[0m\u001b[1;34m\"GreenPassed\"\u001b[0m\u001b[1;33m,\u001b[0m\u001b[1;34m\"QualityPasses\"\u001b[0m\u001b[1;33m,\u001b[0m\u001b[1;34m\"PercentQualityPasses\"\u001b[0m\u001b[1;33m]\u001b[0m\u001b[1;33m)\u001b[0m\u001b[1;33m\u001b[0m\u001b[1;33m\u001b[0m\u001b[0m\n\u001b[0m\u001b[0;32m      3\u001b[0m \u001b[0mdf4\u001b[0m\u001b[1;33m=\u001b[0m\u001b[0mpd\u001b[0m\u001b[1;33m.\u001b[0m\u001b[0mDataFrame\u001b[0m\u001b[1;33m(\u001b[0m\u001b[0mdf2\u001b[0m\u001b[1;33m[\u001b[0m\u001b[1;34m'Unnamed: 9'\u001b[0m\u001b[1;33m]\u001b[0m\u001b[1;33m.\u001b[0m\u001b[0mtolist\u001b[0m\u001b[1;33m(\u001b[0m\u001b[1;33m)\u001b[0m\u001b[1;33m,\u001b[0m \u001b[0mcolumns\u001b[0m\u001b[1;33m=\u001b[0m\u001b[1;33m[\u001b[0m\u001b[1;34m\"LapsTop15\"\u001b[0m\u001b[1;33m,\u001b[0m\u001b[1;34m\"PercentLapsTop15\"\u001b[0m\u001b[1;33m]\u001b[0m\u001b[1;33m)\u001b[0m\u001b[1;33m\u001b[0m\u001b[1;33m\u001b[0m\u001b[0m\n\u001b[0;32m      4\u001b[0m \u001b[0mdf5\u001b[0m\u001b[1;33m=\u001b[0m\u001b[0mpd\u001b[0m\u001b[1;33m.\u001b[0m\u001b[0mDataFrame\u001b[0m\u001b[1;33m(\u001b[0m\u001b[0mdf2\u001b[0m\u001b[1;33m[\u001b[0m\u001b[1;34m'Unnamed: 11'\u001b[0m\u001b[1;33m]\u001b[0m\u001b[1;33m.\u001b[0m\u001b[0mtolist\u001b[0m\u001b[1;33m(\u001b[0m\u001b[1;33m)\u001b[0m\u001b[1;33m,\u001b[0m \u001b[0mcolumns\u001b[0m\u001b[1;33m=\u001b[0m\u001b[1;33m[\u001b[0m\u001b[1;34m\"PercentLapsLed\"\u001b[0m\u001b[1;33m,\u001b[0m \u001b[1;34m\"TotalLaps\"\u001b[0m\u001b[1;33m,\u001b[0m\u001b[1;34m\"DriverRating\"\u001b[0m\u001b[1;33m,\u001b[0m\u001b[1;34m\"Pts\"\u001b[0m\u001b[1;33m]\u001b[0m\u001b[1;33m)\u001b[0m\u001b[1;33m\u001b[0m\u001b[1;33m\u001b[0m\u001b[0m\n",
      "\u001b[1;31mNameError\u001b[0m: name 'pd' is not defined"
     ]
    }
   ],
   "source": [
    "#split merged columns into the respected columns, this information can be gathered from the PDF.\n",
    "df3=pd.DataFrame(df2['Box Score'].tolist(), columns=[\"AvgPos\",\"PassDiff\",\"GreenPass\",\"GreenPassed\",\"QualityPasses\",\"PercentQualityPasses\"])\n",
    "df4=pd.DataFrame(df2['Unnamed: 9'].tolist(), columns=[\"LapsTop15\",\"PercentLapsTop15\"])\n",
    "df5=pd.DataFrame(df2['Unnamed: 11'].tolist(), columns=[\"PercentLapsLed\", \"TotalLaps\",\"DriverRating\",\"Pts\"])\n",
    "# resetting the index to prep for the concat\n",
    "df2=df2[['Unnamed: 0', 'Unnamed: 1', 'Unnamed: 2', 'Unnamed: 3', 'Unnamed: 4',\n",
    "       'Unnamed: 5', 'Unnamed: 6','Unnamed: 7', 'Unnamed: 8','Unnamed: 10']].reset_index(drop=True)\n",
    "# combine the split up columns with the properly parsed columns\n",
    "df_final=pd.concat([df2,df3,df4,df5],axis=1)\n",
    "df_final.columns=HEADERS_1\n",
    "df_final=df_final[HEADERS_2]\n"
   ]
  },
  {
   "cell_type": "code",
   "execution_count": 5,
   "metadata": {},
   "outputs": [],
   "source": [
    "# double checking\n",
    "# df_final.head(2)"
   ]
  },
  {
   "cell_type": "code",
   "execution_count": 121,
   "metadata": {},
   "outputs": [],
   "source": [
    "# final output\n",
    "df_final.to_csv(r'.\\SIADS591_592_Milestone1\\Milestone_I\\data\\loop_TobyChristie\\csv\\2021\\{}.csv'.format(fname_year+fname_month+fname_day+'_'+fname_track),index=False)\n"
   ]
  },
  {
   "cell_type": "code",
   "execution_count": 3,
   "metadata": {},
   "outputs": [
    {
     "name": "stdout",
     "output_type": "stream",
     "text": [
      "C:\\Users\\kchen\\OneDrive\\MADS\\SIADS591_592_Milestone1\\Milestone_I\\Milestone_I\\data\\loop_TobyChristie\\pdf\\2022\\LD12213_POST_POSTBOOK.pdf\n"
     ]
    },
    {
     "name": "stderr",
     "output_type": "stream",
     "text": [
      "<ipython-input-3-31034cbe9950>:27: SettingWithCopyWarning: \n",
      "A value is trying to be set on a copy of a slice from a DataFrame.\n",
      "Try using .loc[row_indexer,col_indexer] = value instead\n",
      "\n",
      "See the caveats in the documentation: https://pandas.pydata.org/pandas-docs/stable/user_guide/indexing.html#returning-a-view-versus-a-copy\n",
      "  df2['Box Score']=df2['Box Score'].str.split()\n",
      "<ipython-input-3-31034cbe9950>:28: SettingWithCopyWarning: \n",
      "A value is trying to be set on a copy of a slice from a DataFrame.\n",
      "Try using .loc[row_indexer,col_indexer] = value instead\n",
      "\n",
      "See the caveats in the documentation: https://pandas.pydata.org/pandas-docs/stable/user_guide/indexing.html#returning-a-view-versus-a-copy\n",
      "  df2['Unnamed: 9']=df2['Unnamed: 9'].str.split()\n",
      "<ipython-input-3-31034cbe9950>:29: SettingWithCopyWarning: \n",
      "A value is trying to be set on a copy of a slice from a DataFrame.\n",
      "Try using .loc[row_indexer,col_indexer] = value instead\n",
      "\n",
      "See the caveats in the documentation: https://pandas.pydata.org/pandas-docs/stable/user_guide/indexing.html#returning-a-view-versus-a-copy\n",
      "  df2['Unnamed: 11']=df2['Unnamed: 11'].str.split()\n"
     ]
    }
   ],
   "source": [
    "# put it all together and loopiong through a directory where the downloaded PDFs are.\n",
    "import tabula\n",
    "import pandas as pd\n",
    "import re\n",
    "from tabula import read_pdf\n",
    "HEADERS_1=[\"Car\",\"Driver\",\"StartPos\",\"MidRace\",\"CloserPos\",\"FinishPos\",\"HighPos\",\"LowPos\", \"NumFastestLaps\", \"LapsLed\", \"AvgPos\",\"PassDiff\",\"GreenPass\",\"GreenPassed\",\"QualityPasses\",\"PercentQualityPasses\", \"LapsTop15\",\"PercentLapsTop15\", \"PercentLapsLed\", \"TotalLaps\",\"DriverRating\",\"Pts\"]\n",
    "HEADERS_2=[\"Car\",\"Driver\",\"StartPos\",\"MidRace\",\"CloserPos\",\"FinishPos\",\"HighPos\",\"LowPos\",\"AvgPos\",\"PassDiff\",\"GreenPass\",\"GreenPassed\",\"QualityPasses\",\"PercentQualityPasses\",\"NumFastestLaps\",\"LapsTop15\",\"PercentLapsTop15\",\"LapsLed\",\"PercentLapsLed\",\"TotalLaps\",\"DriverRating\",\"Pts\"]\n",
    "\n",
    "\n",
    "# loop through the whole directory\n",
    "directory=r'.\\SIADS591_592_Milestone1\\Milestone_I\\Milestone_I\\data\\loop_TobyChristie\\pdf\\2022'\n",
    "for filename in os.listdir(directory):\n",
    "    f = os.path.join(directory, filename)\n",
    "    # checking if it is a file\n",
    "    if os.path.isfile(f):\n",
    "        # read in data\n",
    "        df=read_pdf(f,pages='1')\n",
    "        # get the file name info\n",
    "        fname_track=df[0]['Box Score'][0].replace(\" \",\"\")\n",
    "        date_text=df[0]['Box Score'][2]\n",
    "        pattern=r'(\\d*)/(\\d*)/(\\d*)'\n",
    "        fname_year=re.search(pattern,date_text).group(3)\n",
    "        fname_day=re.search(pattern,date_text).group(2).zfill(2)\n",
    "        fname_month=re.search(pattern,date_text).group(1).zfill(2)\n",
    "        # getting the data cleaned up\n",
    "        print(f)\n",
    "        df2=df[0].iloc[6:]\n",
    "        df2['Box Score']=df2['Box Score'].str.split()\n",
    "        df2['Unnamed: 9']=df2['Unnamed: 9'].str.split()\n",
    "        df2['Unnamed: 11']=df2['Unnamed: 11'].str.split()\n",
    "\n",
    "        # continue to clean\n",
    "        df3=pd.DataFrame(df2['Box Score'].tolist(), columns=[\"AvgPos\",\"PassDiff\",\"GreenPass\",\"GreenPassed\",\"QualityPasses\",\"PercentQualityPasses\"])\n",
    "        df4=pd.DataFrame(df2['Unnamed: 9'].tolist(), columns=[\"LapsTop15\",\"PercentLapsTop15\"])\n",
    "        df5=pd.DataFrame(df2['Unnamed: 11'].tolist(), columns=[\"PercentLapsLed\", \"TotalLaps\",\"DriverRating\",\"Pts\"])\n",
    "        \n",
    "        df2=df2[['Unnamed: 0', 'Unnamed: 1', 'Unnamed: 2', 'Unnamed: 3', 'Unnamed: 4',\n",
    "        'Unnamed: 5', 'Unnamed: 6','Unnamed: 7', 'Unnamed: 8','Unnamed: 10']].reset_index(drop=True)\n",
    "        \n",
    "        # final cleaning steps\n",
    "        df_final=pd.concat([df2,df3,df4,df5],axis=1)\n",
    "        df_final.columns=HEADERS_1\n",
    "        df_final=df_final[HEADERS_2]\n",
    "\n",
    "        # output the data\n",
    "        df_final.to_csv(r'.\\SIADS591_592_Milestone1\\Milestone_I\\Milestone_I\\data\\loop_TobyChristie\\csv\\2022\\{}.csv'.format(fname_year+fname_month+fname_day+'_'+fname_track),index=False)\n"
   ]
  },
  {
   "cell_type": "code",
   "execution_count": null,
   "metadata": {},
   "outputs": [],
   "source": []
  }
 ],
 "metadata": {
  "interpreter": {
   "hash": "49cb93f377a7abe7414b7b0f21fb3017538004a126cf690fb524202736b7fb92"
  },
  "kernelspec": {
   "display_name": "Python 3.8.5 ('base')",
   "language": "python",
   "name": "python3"
  },
  "language_info": {
   "codemirror_mode": {
    "name": "ipython",
    "version": 3
   },
   "file_extension": ".py",
   "mimetype": "text/x-python",
   "name": "python",
   "nbconvert_exporter": "python",
   "pygments_lexer": "ipython3",
   "version": "3.8.5"
  },
  "orig_nbformat": 4
 },
 "nbformat": 4,
 "nbformat_minor": 2
}
