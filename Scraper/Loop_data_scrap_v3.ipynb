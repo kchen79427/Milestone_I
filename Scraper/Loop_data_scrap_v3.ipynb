{
 "cells": [
  {
   "cell_type": "code",
   "execution_count": 3,
   "metadata": {},
   "outputs": [
    {
     "ename": "FileNotFoundError",
     "evalue": "[Errno 2] No such file or directory: 'C:\\\\Users\\\\kchen\\\\OneDrive\\\\MADS\\\\SIADS591_592_Milestone1\\\\Milestone_I\\\\Milestone_I\\\\data\\\\loop_TobyChristie\\\\pdf\\\\2022\\\\LD12211_POST_POSTBOOK.pdf'",
     "output_type": "error",
     "traceback": [
      "\u001b[1;31m---------------------------------------------------------------------------\u001b[0m",
      "\u001b[1;31mFileNotFoundError\u001b[0m                         Traceback (most recent call last)",
      "\u001b[1;32m<ipython-input-3-67345cfc55b4>\u001b[0m in \u001b[0;36m<module>\u001b[1;34m\u001b[0m\n\u001b[0;32m     13\u001b[0m \u001b[0mHEADERS_2\u001b[0m\u001b[1;33m=\u001b[0m\u001b[1;33m[\u001b[0m\u001b[1;34m\"Car\"\u001b[0m\u001b[1;33m,\u001b[0m\u001b[1;34m\"Driver\"\u001b[0m\u001b[1;33m,\u001b[0m\u001b[1;34m\"StartPos\"\u001b[0m\u001b[1;33m,\u001b[0m\u001b[1;34m\"MidRace\"\u001b[0m\u001b[1;33m,\u001b[0m\u001b[1;34m\"CloserPos\"\u001b[0m\u001b[1;33m,\u001b[0m\u001b[1;34m\"FinishPos\"\u001b[0m\u001b[1;33m,\u001b[0m\u001b[1;34m\"HighPos\"\u001b[0m\u001b[1;33m,\u001b[0m\u001b[1;34m\"LowPos\"\u001b[0m\u001b[1;33m,\u001b[0m\u001b[1;34m\"AvgPos\"\u001b[0m\u001b[1;33m,\u001b[0m\u001b[1;34m\"PassDiff\"\u001b[0m\u001b[1;33m,\u001b[0m\u001b[1;34m\"GreenPass\"\u001b[0m\u001b[1;33m,\u001b[0m\u001b[1;34m\"GreenPassed\"\u001b[0m\u001b[1;33m,\u001b[0m\u001b[1;34m\"QualityPasses\"\u001b[0m\u001b[1;33m,\u001b[0m\u001b[1;34m\"PercentQualityPasses\"\u001b[0m\u001b[1;33m,\u001b[0m\u001b[1;34m\"NumFastestLaps\"\u001b[0m\u001b[1;33m,\u001b[0m\u001b[1;34m\"LapsTop15\"\u001b[0m\u001b[1;33m,\u001b[0m\u001b[1;34m\"PercentLapsTop15\"\u001b[0m\u001b[1;33m,\u001b[0m\u001b[1;34m\"LapsLed\"\u001b[0m\u001b[1;33m,\u001b[0m\u001b[1;34m\"PercentLapsLed\"\u001b[0m\u001b[1;33m,\u001b[0m\u001b[1;34m\"TotalLaps\"\u001b[0m\u001b[1;33m,\u001b[0m\u001b[1;34m\"DriverRating\"\u001b[0m\u001b[1;33m,\u001b[0m\u001b[1;34m\"Pts\"\u001b[0m\u001b[1;33m]\u001b[0m\u001b[1;33m\u001b[0m\u001b[1;33m\u001b[0m\u001b[0m\n\u001b[0;32m     14\u001b[0m \u001b[0mdata_location\u001b[0m\u001b[1;33m=\u001b[0m\u001b[1;34mr\"C:\\Users\\kchen\\OneDrive\\MADS\\SIADS591_592_Milestone1\\Milestone_I\\Milestone_I\\data\\loop_TobyChristie\\pdf\\2022\\LD12211_POST_POSTBOOK.pdf\"\u001b[0m\u001b[1;33m\u001b[0m\u001b[1;33m\u001b[0m\u001b[0m\n\u001b[1;32m---> 15\u001b[1;33m \u001b[0mdf\u001b[0m\u001b[1;33m=\u001b[0m\u001b[0mread_pdf\u001b[0m\u001b[1;33m(\u001b[0m\u001b[0mdata_location\u001b[0m\u001b[1;33m,\u001b[0m\u001b[0mpages\u001b[0m\u001b[1;33m=\u001b[0m\u001b[1;34m'1'\u001b[0m\u001b[1;33m)\u001b[0m\u001b[1;33m\u001b[0m\u001b[1;33m\u001b[0m\u001b[0m\n\u001b[0m",
      "\u001b[1;32md:\\anaconda3\\lib\\site-packages\\tabula\\io.py\u001b[0m in \u001b[0;36mread_pdf\u001b[1;34m(input_path, output_format, encoding, java_options, pandas_options, multiple_tables, user_agent, **kwargs)\u001b[0m\n\u001b[0;32m    312\u001b[0m \u001b[1;33m\u001b[0m\u001b[0m\n\u001b[0;32m    313\u001b[0m     \u001b[1;32mif\u001b[0m \u001b[1;32mnot\u001b[0m \u001b[0mos\u001b[0m\u001b[1;33m.\u001b[0m\u001b[0mpath\u001b[0m\u001b[1;33m.\u001b[0m\u001b[0mexists\u001b[0m\u001b[1;33m(\u001b[0m\u001b[0mpath\u001b[0m\u001b[1;33m)\u001b[0m\u001b[1;33m:\u001b[0m\u001b[1;33m\u001b[0m\u001b[1;33m\u001b[0m\u001b[0m\n\u001b[1;32m--> 314\u001b[1;33m         \u001b[1;32mraise\u001b[0m \u001b[0mFileNotFoundError\u001b[0m\u001b[1;33m(\u001b[0m\u001b[0merrno\u001b[0m\u001b[1;33m.\u001b[0m\u001b[0mENOENT\u001b[0m\u001b[1;33m,\u001b[0m \u001b[0mos\u001b[0m\u001b[1;33m.\u001b[0m\u001b[0mstrerror\u001b[0m\u001b[1;33m(\u001b[0m\u001b[0merrno\u001b[0m\u001b[1;33m.\u001b[0m\u001b[0mENOENT\u001b[0m\u001b[1;33m)\u001b[0m\u001b[1;33m,\u001b[0m \u001b[0mpath\u001b[0m\u001b[1;33m)\u001b[0m\u001b[1;33m\u001b[0m\u001b[1;33m\u001b[0m\u001b[0m\n\u001b[0m\u001b[0;32m    315\u001b[0m \u001b[1;33m\u001b[0m\u001b[0m\n\u001b[0;32m    316\u001b[0m     \u001b[1;32mif\u001b[0m \u001b[0mos\u001b[0m\u001b[1;33m.\u001b[0m\u001b[0mpath\u001b[0m\u001b[1;33m.\u001b[0m\u001b[0mgetsize\u001b[0m\u001b[1;33m(\u001b[0m\u001b[0mpath\u001b[0m\u001b[1;33m)\u001b[0m \u001b[1;33m==\u001b[0m \u001b[1;36m0\u001b[0m\u001b[1;33m:\u001b[0m\u001b[1;33m\u001b[0m\u001b[1;33m\u001b[0m\u001b[0m\n",
      "\u001b[1;31mFileNotFoundError\u001b[0m: [Errno 2] No such file or directory: 'C:\\\\Users\\\\kchen\\\\OneDrive\\\\MADS\\\\SIADS591_592_Milestone1\\\\Milestone_I\\\\Milestone_I\\\\data\\\\loop_TobyChristie\\\\pdf\\\\2022\\\\LD12211_POST_POSTBOOK.pdf'"
     ]
    }
   ],
   "source": [
    "# scrap PDF loop data from toby christie's site\n",
    "# https://tobychristie.com/loop-data-2021-nascar-cup-series/\"\n",
    "# this is v2 of the scraper because there is a different pattern of PDF that tabula could output\n",
    "# this scraper works for some of the races in 2022 cup series. (Discovered additional merged column patterns)\n",
    "\n",
    "# skip to the last cell and execute, \n",
    "# if you get an error then go through each cell to see what is going on\n",
    "# likely issues with the merged columns.\n",
    "\n",
    "# tabula is the library that reads in searchable PDFs\n",
    "import tabula\n",
    "import pandas as pd\n",
    "import re\n",
    "from tabula import read_pdf                                                      \n",
    "HEADERS_1=[\"Car\",\"Driver\",\"StartPos\",\"MidRace\",\"CloserPos\",\"FinishPos\",\"HighPos\",\"LapsLed\", \"LowPos\",\"AvgPos\",\"PassDiff\",\"GreenPass\",\"GreenPassed\",\"QualityPasses\",\"PercentQualityPasses\",\"NumFastestLaps\",\"LapsTop15\",\"PercentLapsTop15\",\"PercentLapsLed\", \"TotalLaps\",\"DriverRating\",\"Pts\"]\n",
    "HEADERS_2=[\"Car\",\"Driver\",\"StartPos\",\"MidRace\",\"CloserPos\",\"FinishPos\",\"HighPos\",\"LowPos\",\"AvgPos\",\"PassDiff\",\"GreenPass\",\"GreenPassed\",\"QualityPasses\",\"PercentQualityPasses\",\"NumFastestLaps\",\"LapsTop15\",\"PercentLapsTop15\",\"LapsLed\",\"PercentLapsLed\",\"TotalLaps\",\"DriverRating\",\"Pts\"]\n",
    "data_location=r\".\\SIADS591_592_Milestone1\\Milestone_I\\Milestone_I\\data\\loop_TobyChristie\\pdf\\2022\\LD12211_POST_POSTBOOK.pdf\"\n",
    "df=read_pdf(data_location,pages='1')\n"
   ]
  },
  {
   "cell_type": "code",
   "execution_count": 1,
   "metadata": {},
   "outputs": [],
   "source": [
    "# preview uncleaned data\n",
    "# df[0].head(10)"
   ]
  },
  {
   "cell_type": "code",
   "execution_count": 15,
   "metadata": {},
   "outputs": [],
   "source": [
    "# extract the race date and race track names for csv output\n",
    "fname_track=df[0]['Box Score'][0].replace(\" \",\"\")\n",
    "date_text=df[0]['Box Score'][2]\n",
    "pattern=r'(\\d*)/(\\d*)/(\\d*)'\n",
    "fname_year=re.search(pattern,date_text).group(3)\n",
    "fname_day=re.search(pattern,date_text).group(2).zfill(2)\n",
    "fname_month=re.search(pattern,date_text).group(1).zfill(2)\n"
   ]
  },
  {
   "cell_type": "code",
   "execution_count": 16,
   "metadata": {},
   "outputs": [
    {
     "name": "stderr",
     "output_type": "stream",
     "text": [
      "<ipython-input-16-1adc89defd34>:2: SettingWithCopyWarning: \n",
      "A value is trying to be set on a copy of a slice from a DataFrame.\n",
      "Try using .loc[row_indexer,col_indexer] = value instead\n",
      "\n",
      "See the caveats in the documentation: https://pandas.pydata.org/pandas-docs/stable/user_guide/indexing.html#returning-a-view-versus-a-copy\n",
      "  df2['Box Score']=df2['Box Score'].str.split()\n",
      "<ipython-input-16-1adc89defd34>:3: SettingWithCopyWarning: \n",
      "A value is trying to be set on a copy of a slice from a DataFrame.\n",
      "Try using .loc[row_indexer,col_indexer] = value instead\n",
      "\n",
      "See the caveats in the documentation: https://pandas.pydata.org/pandas-docs/stable/user_guide/indexing.html#returning-a-view-versus-a-copy\n",
      "  df2['Unnamed: 7']=df2['Unnamed: 7'].str.split()\n",
      "<ipython-input-16-1adc89defd34>:4: SettingWithCopyWarning: \n",
      "A value is trying to be set on a copy of a slice from a DataFrame.\n",
      "Try using .loc[row_indexer,col_indexer] = value instead\n",
      "\n",
      "See the caveats in the documentation: https://pandas.pydata.org/pandas-docs/stable/user_guide/indexing.html#returning-a-view-versus-a-copy\n",
      "  df2['Unnamed: 9']=df2['Unnamed: 9'].str.split()\n"
     ]
    }
   ],
   "source": [
    "# dataframe cleanup steps:\n",
    "# 1. removed extra header information\n",
    "df2=df[0].iloc[6:]\n",
    "# 2. handling merged columns \n",
    "df2['Box Score']=df2['Box Score'].str.split()\n",
    "df2['Unnamed: 7']=df2['Unnamed: 7'].str.split()\n",
    "df2['Unnamed: 9']=df2['Unnamed: 9'].str.split()"
   ]
  },
  {
   "cell_type": "code",
   "execution_count": 2,
   "metadata": {},
   "outputs": [],
   "source": [
    "# df2.head()"
   ]
  },
  {
   "cell_type": "code",
   "execution_count": 18,
   "metadata": {},
   "outputs": [],
   "source": [
    "#split merged columns into the respected columns, this information can be gathered from the PDF.\n",
    "df3=pd.DataFrame(df2['Box Score'].tolist(), columns=[\"LowPos\",\"AvgPos\",\"PassDiff\",\"GreenPass\",\"GreenPassed\",\"QualityPasses\",\"PercentQualityPasses\",\"NumFastestLaps\"])\n",
    "df4=pd.DataFrame(df2['Unnamed: 7'].tolist(), columns=[\"LapsTop15\",\"PercentLapsTop15\"])\n",
    "df5=pd.DataFrame(df2['Unnamed: 9'].tolist(), columns=[\"PercentLapsLed\", \"TotalLaps\",\"DriverRating\",\"Pts\"])\n",
    "# resetting the index to prep for the concat\n",
    "df2=df2[['Unnamed: 0', 'Unnamed: 1', 'Unnamed: 2', 'Unnamed: 3', 'Unnamed: 4',\n",
    "       'Unnamed: 5', 'Unnamed: 6','Unnamed: 8']].reset_index(drop=True)\n",
    "# combine the split up columns with the properly parsed columns\n",
    "df_final=pd.concat([df2,df3,df4,df5],axis=1)\n",
    "df_final.head()\n",
    "df_final.columns=HEADERS_1\n",
    "df_final=df_final[HEADERS_2]"
   ]
  },
  {
   "cell_type": "code",
   "execution_count": 21,
   "metadata": {},
   "outputs": [
    {
     "data": {
      "text/html": [
       "<div>\n",
       "<style scoped>\n",
       "    .dataframe tbody tr th:only-of-type {\n",
       "        vertical-align: middle;\n",
       "    }\n",
       "\n",
       "    .dataframe tbody tr th {\n",
       "        vertical-align: top;\n",
       "    }\n",
       "\n",
       "    .dataframe thead th {\n",
       "        text-align: right;\n",
       "    }\n",
       "</style>\n",
       "<table border=\"1\" class=\"dataframe\">\n",
       "  <thead>\n",
       "    <tr style=\"text-align: right;\">\n",
       "      <th></th>\n",
       "      <th>Car</th>\n",
       "      <th>Driver</th>\n",
       "      <th>StartPos</th>\n",
       "      <th>MidRace</th>\n",
       "      <th>CloserPos</th>\n",
       "      <th>FinishPos</th>\n",
       "      <th>HighPos</th>\n",
       "      <th>LowPos</th>\n",
       "      <th>AvgPos</th>\n",
       "      <th>PassDiff</th>\n",
       "      <th>...</th>\n",
       "      <th>QualityPasses</th>\n",
       "      <th>PercentQualityPasses</th>\n",
       "      <th>NumFastestLaps</th>\n",
       "      <th>LapsTop15</th>\n",
       "      <th>PercentLapsTop15</th>\n",
       "      <th>LapsLed</th>\n",
       "      <th>PercentLapsLed</th>\n",
       "      <th>TotalLaps</th>\n",
       "      <th>DriverRating</th>\n",
       "      <th>Pts</th>\n",
       "    </tr>\n",
       "  </thead>\n",
       "  <tbody>\n",
       "    <tr>\n",
       "      <th>0</th>\n",
       "      <td>9</td>\n",
       "      <td>Chase Elliott</td>\n",
       "      <td>4</td>\n",
       "      <td>8</td>\n",
       "      <td>1</td>\n",
       "      <td>1</td>\n",
       "      <td>1</td>\n",
       "      <td>20</td>\n",
       "      <td>4.1</td>\n",
       "      <td>11</td>\n",
       "      <td>...</td>\n",
       "      <td>32</td>\n",
       "      <td>96.97</td>\n",
       "      <td>33</td>\n",
       "      <td>399</td>\n",
       "      <td>99.8</td>\n",
       "      <td>73</td>\n",
       "      <td>18.3</td>\n",
       "      <td>400</td>\n",
       "      <td>132.8</td>\n",
       "      <td>50</td>\n",
       "    </tr>\n",
       "    <tr>\n",
       "      <th>1</th>\n",
       "      <td>47</td>\n",
       "      <td>Ricky Stenhouse Jr</td>\n",
       "      <td>15</td>\n",
       "      <td>16</td>\n",
       "      <td>2</td>\n",
       "      <td>2</td>\n",
       "      <td>2</td>\n",
       "      <td>19</td>\n",
       "      <td>8.9</td>\n",
       "      <td>21</td>\n",
       "      <td>...</td>\n",
       "      <td>52</td>\n",
       "      <td>88.14</td>\n",
       "      <td>8</td>\n",
       "      <td>376</td>\n",
       "      <td>94.0</td>\n",
       "      <td>0</td>\n",
       "      <td>0.0</td>\n",
       "      <td>400</td>\n",
       "      <td>102.8</td>\n",
       "      <td>41</td>\n",
       "    </tr>\n",
       "  </tbody>\n",
       "</table>\n",
       "<p>2 rows × 22 columns</p>\n",
       "</div>"
      ],
      "text/plain": [
       "  Car              Driver StartPos MidRace CloserPos FinishPos HighPos LowPos  \\\n",
       "0   9       Chase Elliott        4       8         1         1       1     20   \n",
       "1  47  Ricky Stenhouse Jr       15      16         2         2       2     19   \n",
       "\n",
       "  AvgPos PassDiff  ... QualityPasses PercentQualityPasses NumFastestLaps  \\\n",
       "0    4.1       11  ...            32                96.97             33   \n",
       "1    8.9       21  ...            52                88.14              8   \n",
       "\n",
       "  LapsTop15 PercentLapsTop15 LapsLed PercentLapsLed TotalLaps DriverRating Pts  \n",
       "0       399             99.8      73           18.3       400        132.8  50  \n",
       "1       376             94.0       0            0.0       400        102.8  41  \n",
       "\n",
       "[2 rows x 22 columns]"
      ]
     },
     "execution_count": 21,
     "metadata": {},
     "output_type": "execute_result"
    }
   ],
   "source": [
    "# double checking\n",
    "# df_final.head(2)"
   ]
  },
  {
   "cell_type": "code",
   "execution_count": 23,
   "metadata": {},
   "outputs": [],
   "source": [
    "# final output\n",
    "df_final.to_csv(r'.\\SIADS591_592_Milestone1\\Milestone_I\\Milestone_I\\data\\loop_TobyChristie\\csv\\2022\\{}.csv'.format(fname_year+fname_month+fname_day+'_'+fname_track),index=False)\n"
   ]
  },
  {
   "cell_type": "code",
   "execution_count": 3,
   "metadata": {},
   "outputs": [
    {
     "name": "stdout",
     "output_type": "stream",
     "text": [
      "C:\\Users\\kchen\\OneDrive\\MADS\\SIADS591_592_Milestone1\\Milestone_I\\Milestone_I\\data\\loop_TobyChristie\\pdf\\2022\\LD12211_POST_POSTBOOK.pdf\n"
     ]
    },
    {
     "name": "stderr",
     "output_type": "stream",
     "text": [
      "<ipython-input-3-53202170564b>:19: SettingWithCopyWarning: \n",
      "A value is trying to be set on a copy of a slice from a DataFrame.\n",
      "Try using .loc[row_indexer,col_indexer] = value instead\n",
      "\n",
      "See the caveats in the documentation: https://pandas.pydata.org/pandas-docs/stable/user_guide/indexing.html#returning-a-view-versus-a-copy\n",
      "  df2['Box Score']=df2['Box Score'].str.split()\n",
      "<ipython-input-3-53202170564b>:20: SettingWithCopyWarning: \n",
      "A value is trying to be set on a copy of a slice from a DataFrame.\n",
      "Try using .loc[row_indexer,col_indexer] = value instead\n",
      "\n",
      "See the caveats in the documentation: https://pandas.pydata.org/pandas-docs/stable/user_guide/indexing.html#returning-a-view-versus-a-copy\n",
      "  df2['Unnamed: 9']=df2['Unnamed: 9'].str.split()\n"
     ]
    },
    {
     "ename": "KeyError",
     "evalue": "'Unnamed: 11'",
     "output_type": "error",
     "traceback": [
      "\u001b[1;31m---------------------------------------------------------------------------\u001b[0m",
      "\u001b[1;31mKeyError\u001b[0m                                  Traceback (most recent call last)",
      "\u001b[1;32mD:\\anaconda3\\lib\\site-packages\\pandas\\core\\indexes\\base.py\u001b[0m in \u001b[0;36mget_loc\u001b[1;34m(self, key, method, tolerance)\u001b[0m\n\u001b[0;32m   2894\u001b[0m             \u001b[1;32mtry\u001b[0m\u001b[1;33m:\u001b[0m\u001b[1;33m\u001b[0m\u001b[1;33m\u001b[0m\u001b[0m\n\u001b[1;32m-> 2895\u001b[1;33m                 \u001b[1;32mreturn\u001b[0m \u001b[0mself\u001b[0m\u001b[1;33m.\u001b[0m\u001b[0m_engine\u001b[0m\u001b[1;33m.\u001b[0m\u001b[0mget_loc\u001b[0m\u001b[1;33m(\u001b[0m\u001b[0mcasted_key\u001b[0m\u001b[1;33m)\u001b[0m\u001b[1;33m\u001b[0m\u001b[1;33m\u001b[0m\u001b[0m\n\u001b[0m\u001b[0;32m   2896\u001b[0m             \u001b[1;32mexcept\u001b[0m \u001b[0mKeyError\u001b[0m \u001b[1;32mas\u001b[0m \u001b[0merr\u001b[0m\u001b[1;33m:\u001b[0m\u001b[1;33m\u001b[0m\u001b[1;33m\u001b[0m\u001b[0m\n",
      "\u001b[1;32mpandas\\_libs\\index.pyx\u001b[0m in \u001b[0;36mpandas._libs.index.IndexEngine.get_loc\u001b[1;34m()\u001b[0m\n",
      "\u001b[1;32mpandas\\_libs\\index.pyx\u001b[0m in \u001b[0;36mpandas._libs.index.IndexEngine.get_loc\u001b[1;34m()\u001b[0m\n",
      "\u001b[1;32mpandas\\_libs\\hashtable_class_helper.pxi\u001b[0m in \u001b[0;36mpandas._libs.hashtable.PyObjectHashTable.get_item\u001b[1;34m()\u001b[0m\n",
      "\u001b[1;32mpandas\\_libs\\hashtable_class_helper.pxi\u001b[0m in \u001b[0;36mpandas._libs.hashtable.PyObjectHashTable.get_item\u001b[1;34m()\u001b[0m\n",
      "\u001b[1;31mKeyError\u001b[0m: 'Unnamed: 11'",
      "\nThe above exception was the direct cause of the following exception:\n",
      "\u001b[1;31mKeyError\u001b[0m                                  Traceback (most recent call last)",
      "\u001b[1;32m<ipython-input-3-53202170564b>\u001b[0m in \u001b[0;36m<module>\u001b[1;34m\u001b[0m\n\u001b[0;32m     19\u001b[0m         \u001b[0mdf2\u001b[0m\u001b[1;33m[\u001b[0m\u001b[1;34m'Box Score'\u001b[0m\u001b[1;33m]\u001b[0m\u001b[1;33m=\u001b[0m\u001b[0mdf2\u001b[0m\u001b[1;33m[\u001b[0m\u001b[1;34m'Box Score'\u001b[0m\u001b[1;33m]\u001b[0m\u001b[1;33m.\u001b[0m\u001b[0mstr\u001b[0m\u001b[1;33m.\u001b[0m\u001b[0msplit\u001b[0m\u001b[1;33m(\u001b[0m\u001b[1;33m)\u001b[0m\u001b[1;33m\u001b[0m\u001b[1;33m\u001b[0m\u001b[0m\n\u001b[0;32m     20\u001b[0m         \u001b[0mdf2\u001b[0m\u001b[1;33m[\u001b[0m\u001b[1;34m'Unnamed: 9'\u001b[0m\u001b[1;33m]\u001b[0m\u001b[1;33m=\u001b[0m\u001b[0mdf2\u001b[0m\u001b[1;33m[\u001b[0m\u001b[1;34m'Unnamed: 9'\u001b[0m\u001b[1;33m]\u001b[0m\u001b[1;33m.\u001b[0m\u001b[0mstr\u001b[0m\u001b[1;33m.\u001b[0m\u001b[0msplit\u001b[0m\u001b[1;33m(\u001b[0m\u001b[1;33m)\u001b[0m\u001b[1;33m\u001b[0m\u001b[1;33m\u001b[0m\u001b[0m\n\u001b[1;32m---> 21\u001b[1;33m         \u001b[0mdf2\u001b[0m\u001b[1;33m[\u001b[0m\u001b[1;34m'Unnamed: 11'\u001b[0m\u001b[1;33m]\u001b[0m\u001b[1;33m=\u001b[0m\u001b[0mdf2\u001b[0m\u001b[1;33m[\u001b[0m\u001b[1;34m'Unnamed: 11'\u001b[0m\u001b[1;33m]\u001b[0m\u001b[1;33m.\u001b[0m\u001b[0mstr\u001b[0m\u001b[1;33m.\u001b[0m\u001b[0msplit\u001b[0m\u001b[1;33m(\u001b[0m\u001b[1;33m)\u001b[0m\u001b[1;33m\u001b[0m\u001b[1;33m\u001b[0m\u001b[0m\n\u001b[0m\u001b[0;32m     22\u001b[0m \u001b[1;33m\u001b[0m\u001b[0m\n\u001b[0;32m     23\u001b[0m         \u001b[1;31m# continue to clean\u001b[0m\u001b[1;33m\u001b[0m\u001b[1;33m\u001b[0m\u001b[1;33m\u001b[0m\u001b[0m\n",
      "\u001b[1;32mD:\\anaconda3\\lib\\site-packages\\pandas\\core\\frame.py\u001b[0m in \u001b[0;36m__getitem__\u001b[1;34m(self, key)\u001b[0m\n\u001b[0;32m   2900\u001b[0m             \u001b[1;32mif\u001b[0m \u001b[0mself\u001b[0m\u001b[1;33m.\u001b[0m\u001b[0mcolumns\u001b[0m\u001b[1;33m.\u001b[0m\u001b[0mnlevels\u001b[0m \u001b[1;33m>\u001b[0m \u001b[1;36m1\u001b[0m\u001b[1;33m:\u001b[0m\u001b[1;33m\u001b[0m\u001b[1;33m\u001b[0m\u001b[0m\n\u001b[0;32m   2901\u001b[0m                 \u001b[1;32mreturn\u001b[0m \u001b[0mself\u001b[0m\u001b[1;33m.\u001b[0m\u001b[0m_getitem_multilevel\u001b[0m\u001b[1;33m(\u001b[0m\u001b[0mkey\u001b[0m\u001b[1;33m)\u001b[0m\u001b[1;33m\u001b[0m\u001b[1;33m\u001b[0m\u001b[0m\n\u001b[1;32m-> 2902\u001b[1;33m             \u001b[0mindexer\u001b[0m \u001b[1;33m=\u001b[0m \u001b[0mself\u001b[0m\u001b[1;33m.\u001b[0m\u001b[0mcolumns\u001b[0m\u001b[1;33m.\u001b[0m\u001b[0mget_loc\u001b[0m\u001b[1;33m(\u001b[0m\u001b[0mkey\u001b[0m\u001b[1;33m)\u001b[0m\u001b[1;33m\u001b[0m\u001b[1;33m\u001b[0m\u001b[0m\n\u001b[0m\u001b[0;32m   2903\u001b[0m             \u001b[1;32mif\u001b[0m \u001b[0mis_integer\u001b[0m\u001b[1;33m(\u001b[0m\u001b[0mindexer\u001b[0m\u001b[1;33m)\u001b[0m\u001b[1;33m:\u001b[0m\u001b[1;33m\u001b[0m\u001b[1;33m\u001b[0m\u001b[0m\n\u001b[0;32m   2904\u001b[0m                 \u001b[0mindexer\u001b[0m \u001b[1;33m=\u001b[0m \u001b[1;33m[\u001b[0m\u001b[0mindexer\u001b[0m\u001b[1;33m]\u001b[0m\u001b[1;33m\u001b[0m\u001b[1;33m\u001b[0m\u001b[0m\n",
      "\u001b[1;32mD:\\anaconda3\\lib\\site-packages\\pandas\\core\\indexes\\base.py\u001b[0m in \u001b[0;36mget_loc\u001b[1;34m(self, key, method, tolerance)\u001b[0m\n\u001b[0;32m   2895\u001b[0m                 \u001b[1;32mreturn\u001b[0m \u001b[0mself\u001b[0m\u001b[1;33m.\u001b[0m\u001b[0m_engine\u001b[0m\u001b[1;33m.\u001b[0m\u001b[0mget_loc\u001b[0m\u001b[1;33m(\u001b[0m\u001b[0mcasted_key\u001b[0m\u001b[1;33m)\u001b[0m\u001b[1;33m\u001b[0m\u001b[1;33m\u001b[0m\u001b[0m\n\u001b[0;32m   2896\u001b[0m             \u001b[1;32mexcept\u001b[0m \u001b[0mKeyError\u001b[0m \u001b[1;32mas\u001b[0m \u001b[0merr\u001b[0m\u001b[1;33m:\u001b[0m\u001b[1;33m\u001b[0m\u001b[1;33m\u001b[0m\u001b[0m\n\u001b[1;32m-> 2897\u001b[1;33m                 \u001b[1;32mraise\u001b[0m \u001b[0mKeyError\u001b[0m\u001b[1;33m(\u001b[0m\u001b[0mkey\u001b[0m\u001b[1;33m)\u001b[0m \u001b[1;32mfrom\u001b[0m \u001b[0merr\u001b[0m\u001b[1;33m\u001b[0m\u001b[1;33m\u001b[0m\u001b[0m\n\u001b[0m\u001b[0;32m   2898\u001b[0m \u001b[1;33m\u001b[0m\u001b[0m\n\u001b[0;32m   2899\u001b[0m         \u001b[1;32mif\u001b[0m \u001b[0mtolerance\u001b[0m \u001b[1;32mis\u001b[0m \u001b[1;32mnot\u001b[0m \u001b[1;32mNone\u001b[0m\u001b[1;33m:\u001b[0m\u001b[1;33m\u001b[0m\u001b[1;33m\u001b[0m\u001b[0m\n",
      "\u001b[1;31mKeyError\u001b[0m: 'Unnamed: 11'"
     ]
    }
   ],
   "source": [
    "# put it all together and loopiong through a directory where the downloaded PDFs are.\n",
    "import tabula\n",
    "import pandas as pd\n",
    "import re\n",
    "from tabula import read_pdf\n",
    "\n",
    "# loop through the whole directory\n",
    "directory=r'.\\SIADS591_592_Milestone1\\Milestone_I\\Milestone_I\\data\\loop_TobyChristie\\pdf\\2022'\n",
    "for filename in os.listdir(directory):\n",
    "    f = os.path.join(directory, filename)\n",
    "    # checking if it is a file\n",
    "    if os.path.isfile(f):\n",
    "        # read in data\n",
    "        df=read_pdf(f,pages='1')\n",
    "        # get the file name info\n",
    "        fname_track=df[0]['Box Score'][0].replace(\" \",\"\")\n",
    "        date_text=df[0]['Box Score'][2]\n",
    "        pattern=r'(\\d*)/(\\d*)/(\\d*)'\n",
    "        fname_year=re.search(pattern,date_text).group(3)\n",
    "        # zfill Fill the string with zeros until it is 2 characters long:\n",
    "        fname_day=re.search(pattern,date_text).group(2).zfill(2)\n",
    "        fname_month=re.search(pattern,date_text).group(1).zfill(2)\n",
    "        # getting the data cleaned up\n",
    "        print(f)\n",
    "        df2=df[0].iloc[6:]\n",
    "        df2['Box Score']=df2['Box Score'].str.split()\n",
    "        df2['Unnamed: 9']=df2['Unnamed: 9'].str.split()\n",
    "        df2['Unnamed: 11']=df2['Unnamed: 11'].str.split()\n",
    "\n",
    "        # continue to clean\n",
    "        df3=pd.DataFrame(df2['Box Score'].tolist(), columns=[\"AvgPos\",\"PassDiff\",\"GreenPass\",\"GreenPassed\",\"QualityPasses\",\"PercentQualityPasses\"])\n",
    "        df4=pd.DataFrame(df2['Unnamed: 9'].tolist(), columns=[\"LapsTop15\",\"PercentLapsTop15\"])\n",
    "        df5=pd.DataFrame(df2['Unnamed: 11'].tolist(), columns=[\"PercentLapsLed\", \"TotalLaps\",\"DriverRating\",\"Pts\"])\n",
    "        \n",
    "        df2=df2[['Unnamed: 0', 'Unnamed: 1', 'Unnamed: 2', 'Unnamed: 3', 'Unnamed: 4',\n",
    "        'Unnamed: 5', 'Unnamed: 6','Unnamed: 7', 'Unnamed: 8','Unnamed: 10']].reset_index(drop=True)\n",
    "        \n",
    "        # final cleaning steps\n",
    "        df_final=pd.concat([df2,df3,df4,df5],axis=1)\n",
    "        df_final.columns=HEADERS_1\n",
    "        df_final=df_final[HEADERS_2]\n",
    "\n",
    "        # output the data\n",
    "        df_final.to_csv(r'.\\SIADS591_592_Milestone1\\Milestone_I\\data\\loop_TobyChristie\\csv\\2021\\{}.csv'.format(fname_year+fname_month+fname_day+'_'+fname_track),index=False)\n"
   ]
  },
  {
   "cell_type": "code",
   "execution_count": null,
   "metadata": {},
   "outputs": [],
   "source": []
  }
 ],
 "metadata": {
  "interpreter": {
   "hash": "49cb93f377a7abe7414b7b0f21fb3017538004a126cf690fb524202736b7fb92"
  },
  "kernelspec": {
   "display_name": "Python 3.8.5 ('base')",
   "language": "python",
   "name": "python3"
  },
  "language_info": {
   "codemirror_mode": {
    "name": "ipython",
    "version": 3
   },
   "file_extension": ".py",
   "mimetype": "text/x-python",
   "name": "python",
   "nbconvert_exporter": "python",
   "pygments_lexer": "ipython3",
   "version": "3.8.5"
  },
  "orig_nbformat": 4
 },
 "nbformat": 4,
 "nbformat_minor": 2
}
